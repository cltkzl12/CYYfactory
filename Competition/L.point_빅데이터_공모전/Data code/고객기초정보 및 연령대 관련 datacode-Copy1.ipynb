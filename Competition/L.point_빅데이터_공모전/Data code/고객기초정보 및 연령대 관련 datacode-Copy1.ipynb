{
 "cells": [
  {
   "cell_type": "code",
   "execution_count": 1,
   "metadata": {},
   "outputs": [],
   "source": [
    "import findspark\n",
    "findspark.init()\n",
    "from pyspark.sql import SparkSession\n",
    "spark = SparkSession.builder.master(\"yarn\").appName(\"mypyspark\").getOrCreate()\n",
    "\n",
    "import pandas as pd"
   ]
  },
  {
   "cell_type": "markdown",
   "metadata": {},
   "source": [
    "### 데이터 불러오기"
   ]
  },
  {
   "cell_type": "code",
   "execution_count": 2,
   "metadata": {},
   "outputs": [],
   "source": [
    "ProductFilePath = \"hdfs:///user/s21410784/finance/01.Product.csv\"\n",
    "Search1FilePath = \"hdfs:///user/s21410784/finance/02.Search1.csv\"\n",
    "Search2FilePath = \"hdfs:///user/s21410784/finance/03.Search2.csv\"\n",
    "CustomFilePath = \"hdfs:///user/s21410784/finance/04.Custom.csv\"\n",
    "SessionFilePath = \"hdfs:///user/s21410784/finance/05.Session.csv\"\n",
    "MasterFilePath = \"hdfs:///user/s21410784/finance/06.Master.csv\"\n",
    "\n",
    "Product = spark.read.csv(ProductFilePath, header='true', sep=',')\n",
    "Product.createOrReplaceTempView(\"product\")\n",
    "\n",
    "Search1 = spark.read.csv(Search1FilePath, header='true', sep=',')\n",
    "Search1.createOrReplaceTempView(\"search1\")\n",
    "\n",
    "Search2 = spark.read.csv(Search2FilePath, header='true', sep=',')\n",
    "Search2.createOrReplaceTempView(\"search2\")\n",
    "\n",
    "Custom = spark.read.csv(CustomFilePath, header='true', sep=',')\n",
    "Custom.createOrReplaceTempView(\"custom\")\n",
    "\n",
    "Session = spark.read.csv(SessionFilePath, header='true', sep=',')\n",
    "Session.createOrReplaceTempView(\"session\")\n",
    "\n",
    "Master = spark.read.csv(MasterFilePath, header='true', sep=',')\n",
    "Master.createOrReplaceTempView(\"master\")"
   ]
  },
  {
   "cell_type": "markdown",
   "metadata": {},
   "source": [
    " ```\n",
    "product(상품구매): 클라이언트ID(PK), 세션ID(PK), 히트일련번호(PK), 상품코드(PK), 상품추가정보(PK), 상품브랜드, 단일상품금액, 구매건수\n",
    "search1(검색어1): 클라이언트ID(PK), 세션ID(PK), 검색키워드명(PK), 검색건수\n",
    "search2(검색어2): 세션일자(PK), 검색키워드명(PK), 검색건수\n",
    "custom(회원): 클라이언트ID(PK), 성별, 연령대\n",
    "session(세션): 클라이언트ID(PK), 세션ID(PK), 세션일련번호, 세션일자, 총페이지조회건수, 총세션시간값, 기기유형, 지역대분류, 지역중분류, 지역소분류\n",
    "master(상품분류): 상품코드(PK), 상품명, 상품 대분류명, 상품 중분류명, 상품 소분류명\n",
    "```"
   ]
  },
  {
   "cell_type": "markdown",
   "metadata": {},
   "source": [
    "# 회원 정보 기초통계량(분포)"
   ]
  },
  {
   "cell_type": "markdown",
   "metadata": {},
   "source": [
    "# 성별 빈도"
   ]
  },
  {
   "cell_type": "code",
   "execution_count": 4,
   "metadata": {},
   "outputs": [
    {
     "name": "stdout",
     "output_type": "stream",
     "text": [
      "+-----------+------+\n",
      "|CLNT_GENDER|   NUM|\n",
      "+-----------+------+\n",
      "|          F|570616|\n",
      "|          M|101063|\n",
      "+-----------+------+\n",
      "\n"
     ]
    }
   ],
   "source": [
    "GENDER_NUM=spark.sql(\"\"\"select CLNT_GENDER, count(CLNT_GENDER) as NUM from Custom group by CLNT_GENDER\"\"\")\n",
    "GENDER_NUM.createOrReplaceTempView('GENDER_NUM')\n",
    "GENDER_NUM.show()"
   ]
  },
  {
   "cell_type": "markdown",
   "metadata": {},
   "source": [
    "GENDER_NUM: 기존 Custom 테이블에서 성별에 따라 그룹화하여 회원고객수를 추출한 데이터프레임."
   ]
  },
  {
   "cell_type": "code",
   "execution_count": 5,
   "metadata": {},
   "outputs": [
    {
     "data": {
      "text/html": [
       "<div>\n",
       "<style scoped>\n",
       "    .dataframe tbody tr th:only-of-type {\n",
       "        vertical-align: middle;\n",
       "    }\n",
       "\n",
       "    .dataframe tbody tr th {\n",
       "        vertical-align: top;\n",
       "    }\n",
       "\n",
       "    .dataframe thead th {\n",
       "        text-align: right;\n",
       "    }\n",
       "</style>\n",
       "<table border=\"1\" class=\"dataframe\">\n",
       "  <thead>\n",
       "    <tr style=\"text-align: right;\">\n",
       "      <th></th>\n",
       "      <th>NUM</th>\n",
       "    </tr>\n",
       "    <tr>\n",
       "      <th>CLNT_GENDER</th>\n",
       "      <th></th>\n",
       "    </tr>\n",
       "  </thead>\n",
       "  <tbody>\n",
       "    <tr>\n",
       "      <th>F</th>\n",
       "      <td>570616</td>\n",
       "    </tr>\n",
       "    <tr>\n",
       "      <th>M</th>\n",
       "      <td>101063</td>\n",
       "    </tr>\n",
       "  </tbody>\n",
       "</table>\n",
       "</div>"
      ],
      "text/plain": [
       "                NUM\n",
       "CLNT_GENDER        \n",
       "F            570616\n",
       "M            101063"
      ]
     },
     "execution_count": 5,
     "metadata": {},
     "output_type": "execute_result"
    }
   ],
   "source": [
    "P_GENDER_NUM=GENDER_NUM.toPandas()\n",
    "P_GENDER_NUM.set_index('CLNT_GENDER',inplace=True)\n",
    "P_GENDER_NUM.head()"
   ]
  },
  {
   "cell_type": "markdown",
   "metadata": {},
   "source": [
    "P_GENDER_NUM: PANDAS 데이터 프레임으로 전환하여 데이터 프레임을 보기 좋게 시각화. \n",
    "\n",
    "앞으로 변수명 앞에 P_가 붙은 경우, PANDAS 데이터 프레임이라는 의미로 통용.\n",
    "\n",
    "set_index를 이용해 테이블의 인덱스를 그룹화된 성별로 설정."
   ]
  },
  {
   "cell_type": "code",
   "execution_count": 9,
   "metadata": {},
   "outputs": [
    {
     "data": {
      "text/plain": [
       "<matplotlib.axes._subplots.AxesSubplot at 0x7f3042b937b8>"
      ]
     },
     "execution_count": 9,
     "metadata": {},
     "output_type": "execute_result"
    },
    {
     "data": {
      "image/png": "[encoded data removed]",
      "text/plain": [
       "<Figure size 432x288 with 1 Axes>"
      ]
     },
     "metadata": {},
     "output_type": "display_data"
    }
   ],
   "source": [
    "P_GENDER_NUM['NUM'].plot(kind='barh',grid=True)"
   ]
  },
  {
   "cell_type": "code",
   "execution_count": 10,
   "metadata": {},
   "outputs": [],
   "source": [
    "P_GENDER_NUM.to_csv(\"GENDER_NUM.csv\",mode=\"w\")"
   ]
  },
  {
   "cell_type": "markdown",
   "metadata": {},
   "source": [
    "GENDER_NUM 테이블을 저장하는 코드."
   ]
  },
  {
   "cell_type": "markdown",
   "metadata": {},
   "source": [
    "# 연령대별 빈도"
   ]
  },
  {
   "cell_type": "code",
   "execution_count": 11,
   "metadata": {},
   "outputs": [
    {
     "name": "stdout",
     "output_type": "stream",
     "text": [
      "+--------+------+\n",
      "|CLNT_AGE|   NUM|\n",
      "+--------+------+\n",
      "|      80|    32|\n",
      "|      70|   846|\n",
      "|      60|  5256|\n",
      "|      50| 36624|\n",
      "|      40|216217|\n",
      "|      30|313600|\n",
      "|      20| 95297|\n",
      "|      10|  3807|\n",
      "+--------+------+\n",
      "\n"
     ]
    }
   ],
   "source": [
    "AGE_NUM=spark.sql(\"\"\"select CLNT_AGE, count(CLNT_AGE) as NUM from Custom group by CLNT_AGE order by CLNT_AGE DESC\"\"\")\n",
    "AGE_NUM.createOrReplaceTempView('GENDER_AGE')\n",
    "AGE_NUM.show()"
   ]
  },
  {
   "cell_type": "markdown",
   "metadata": {},
   "source": [
    "AGE_NUM: 기존 Custom 테이블에서 연령대별 고객 수 파악을 위해 추출한 데이터 프레임"
   ]
  },
  {
   "cell_type": "code",
   "execution_count": 12,
   "metadata": {},
   "outputs": [
    {
     "data": {
      "text/html": [
       "<div>\n",
       "<style scoped>\n",
       "    .dataframe tbody tr th:only-of-type {\n",
       "        vertical-align: middle;\n",
       "    }\n",
       "\n",
       "    .dataframe tbody tr th {\n",
       "        vertical-align: top;\n",
       "    }\n",
       "\n",
       "    .dataframe thead th {\n",
       "        text-align: right;\n",
       "    }\n",
       "</style>\n",
       "<table border=\"1\" class=\"dataframe\">\n",
       "  <thead>\n",
       "    <tr style=\"text-align: right;\">\n",
       "      <th></th>\n",
       "      <th>NUM</th>\n",
       "    </tr>\n",
       "    <tr>\n",
       "      <th>CLNT_AGE</th>\n",
       "      <th></th>\n",
       "    </tr>\n",
       "  </thead>\n",
       "  <tbody>\n",
       "    <tr>\n",
       "      <th>80</th>\n",
       "      <td>32</td>\n",
       "    </tr>\n",
       "    <tr>\n",
       "      <th>70</th>\n",
       "      <td>846</td>\n",
       "    </tr>\n",
       "    <tr>\n",
       "      <th>60</th>\n",
       "      <td>5256</td>\n",
       "    </tr>\n",
       "    <tr>\n",
       "      <th>50</th>\n",
       "      <td>36624</td>\n",
       "    </tr>\n",
       "    <tr>\n",
       "      <th>40</th>\n",
       "      <td>216217</td>\n",
       "    </tr>\n",
       "    <tr>\n",
       "      <th>30</th>\n",
       "      <td>313600</td>\n",
       "    </tr>\n",
       "    <tr>\n",
       "      <th>20</th>\n",
       "      <td>95297</td>\n",
       "    </tr>\n",
       "    <tr>\n",
       "      <th>10</th>\n",
       "      <td>3807</td>\n",
       "    </tr>\n",
       "  </tbody>\n",
       "</table>\n",
       "</div>"
      ],
      "text/plain": [
       "             NUM\n",
       "CLNT_AGE        \n",
       "80            32\n",
       "70           846\n",
       "60          5256\n",
       "50         36624\n",
       "40        216217\n",
       "30        313600\n",
       "20         95297\n",
       "10          3807"
      ]
     },
     "execution_count": 12,
     "metadata": {},
     "output_type": "execute_result"
    }
   ],
   "source": [
    "P_AGE_NUM=AGE_NUM.toPandas()\n",
    "P_AGE_NUM.set_index('CLNT_AGE',inplace=True)\n",
    "P_AGE_NUM"
   ]
  },
  {
   "cell_type": "code",
   "execution_count": 13,
   "metadata": {},
   "outputs": [
    {
     "data": {
      "text/plain": [
       "<matplotlib.axes._subplots.AxesSubplot at 0x7f3042b02588>"
      ]
     },
     "execution_count": 13,
     "metadata": {},
     "output_type": "execute_result"
    },
    {
     "data": {
      "image/png": "[encoded data removed]",
      "text/plain": [
       "<Figure size 432x288 with 1 Axes>"
      ]
     },
     "metadata": {},
     "output_type": "display_data"
    }
   ],
   "source": [
    "P_AGE_NUM['NUM'].plot(kind='barh',grid=True)"
   ]
  },
  {
   "cell_type": "code",
   "execution_count": 14,
   "metadata": {},
   "outputs": [],
   "source": [
    "P_AGE_NUM.to_csv(\"AGE_NUM.csv\",mode=\"w\")"
   ]
  },
  {
   "cell_type": "markdown",
   "metadata": {},
   "source": [
    "# 상품 주요정보"
   ]
  },
  {
   "cell_type": "markdown",
   "metadata": {},
   "source": [
    "# 구매 개수로 알아보는 고객 선호 브랜드 TOP 10"
   ]
  },
  {
   "cell_type": "code",
   "execution_count": 15,
   "metadata": {},
   "outputs": [
    {
     "name": "stdout",
     "output_type": "stream",
     "text": [
      "+----------+------+\n",
      "| PD_BRA_NM|BUY_CT|\n",
      "+----------+------+\n",
      "|   1912506|   1.0|\n",
      "|      [씨루]|   1.0|\n",
      "|  에디피스(시계)|   1.0|\n",
      "|    [포나리나]|   1.0|\n",
      "|   앙드레김 골프|   1.0|\n",
      "|    [모놀로그]|   1.0|\n",
      "|       파사디|   1.0|\n",
      "|갤럭시탭S2 9.7|   1.0|\n",
      "|     뉴비스옴므|   1.0|\n",
      "|    [엠케이티]|   1.0|\n",
      "|    [쎄라피트]|   1.0|\n",
      "|     [로마로]|   1.0|\n",
      "|   [제이빈야드]|   1.0|\n",
      "|     힐링팩토리|   1.0|\n",
      "|       앤쿠쿠|   1.0|\n",
      "|      아이센스|   1.0|\n",
      "|     [오메가]|   1.0|\n",
      "|     [드림팜]|   1.0|\n",
      "|      [롤팩]|   1.0|\n",
      "|    [골프아미]|   1.0|\n",
      "+----------+------+\n",
      "only showing top 20 rows\n",
      "\n"
     ]
    }
   ],
   "source": [
    "BRA_BUY_CT=spark.sql(\"\"\"select PD_BRA_NM, sum(PD_BUY_CT) as BUY_CT from Product group by PD_BRA_NM order by BUY_CT \"\"\")\n",
    "BRA_BUY_CT.createOrReplaceTempView('BRA_BUY_CT')\n",
    "BRA_BUY_CT.show()"
   ]
  },
  {
   "cell_type": "markdown",
   "metadata": {},
   "source": [
    "BRA_BUY_CT: 기존 Product 테이블에서 브랜드를 그룹화하여 브랜드별 구매개수를 추출한 데이터프레임"
   ]
  },
  {
   "cell_type": "code",
   "execution_count": 16,
   "metadata": {},
   "outputs": [
    {
     "data": {
      "text/html": [
       "<div>\n",
       "<style scoped>\n",
       "    .dataframe tbody tr th:only-of-type {\n",
       "        vertical-align: middle;\n",
       "    }\n",
       "\n",
       "    .dataframe tbody tr th {\n",
       "        vertical-align: top;\n",
       "    }\n",
       "\n",
       "    .dataframe thead th {\n",
       "        text-align: right;\n",
       "    }\n",
       "</style>\n",
       "<table border=\"1\" class=\"dataframe\">\n",
       "  <thead>\n",
       "    <tr style=\"text-align: right;\">\n",
       "      <th></th>\n",
       "      <th>BUY_CT</th>\n",
       "    </tr>\n",
       "    <tr>\n",
       "      <th>PD_BRA_NM</th>\n",
       "      <th></th>\n",
       "    </tr>\n",
       "  </thead>\n",
       "  <tbody>\n",
       "    <tr>\n",
       "      <th>아디다스(의류)</th>\n",
       "      <td>26648.0</td>\n",
       "    </tr>\n",
       "    <tr>\n",
       "      <th>가쯔</th>\n",
       "      <td>26795.0</td>\n",
       "    </tr>\n",
       "    <tr>\n",
       "      <th>입생로랑</th>\n",
       "      <td>27439.0</td>\n",
       "    </tr>\n",
       "    <tr>\n",
       "      <th>크록스</th>\n",
       "      <td>31019.0</td>\n",
       "    </tr>\n",
       "    <tr>\n",
       "      <th>탑텐</th>\n",
       "      <td>33060.0</td>\n",
       "    </tr>\n",
       "    <tr>\n",
       "      <th>에이치커넥트</th>\n",
       "      <td>33923.0</td>\n",
       "    </tr>\n",
       "    <tr>\n",
       "      <th>한샘</th>\n",
       "      <td>35576.0</td>\n",
       "    </tr>\n",
       "    <tr>\n",
       "      <th>정관장</th>\n",
       "      <td>41691.0</td>\n",
       "    </tr>\n",
       "    <tr>\n",
       "      <th>나이키</th>\n",
       "      <td>50588.0</td>\n",
       "    </tr>\n",
       "    <tr>\n",
       "      <th>지오다노</th>\n",
       "      <td>78556.0</td>\n",
       "    </tr>\n",
       "  </tbody>\n",
       "</table>\n",
       "</div>"
      ],
      "text/plain": [
       "            BUY_CT\n",
       "PD_BRA_NM         \n",
       "아디다스(의류)   26648.0\n",
       "가쯔         26795.0\n",
       "입생로랑       27439.0\n",
       "크록스        31019.0\n",
       "탑텐         33060.0\n",
       "에이치커넥트     33923.0\n",
       "한샘         35576.0\n",
       "정관장        41691.0\n",
       "나이키        50588.0\n",
       "지오다노       78556.0"
      ]
     },
     "execution_count": 16,
     "metadata": {},
     "output_type": "execute_result"
    }
   ],
   "source": [
    "P_BRA_BUY_CT=BRA_BUY_CT.toPandas()\n",
    "P_BRA_BUY_CT.set_index('PD_BRA_NM',inplace=True)\n",
    "BRA_TOP10=P_BRA_BUY_CT.tail(10)\n",
    "BRA_TOP10"
   ]
  },
  {
   "cell_type": "markdown",
   "metadata": {},
   "source": [
    "BRA_TOP10: 브랜드별 구매개수 테이블에서 가장 구매량이 많은 TOP10을 추출한 테이블."
   ]
  },
  {
   "cell_type": "code",
   "execution_count": 20,
   "metadata": {},
   "outputs": [],
   "source": [
    "BRA_TOP10.to_csv(\"BRAND_TOP10.csv\",mode=\"w\")"
   ]
  },
  {
   "cell_type": "code",
   "execution_count": 21,
   "metadata": {},
   "outputs": [],
   "source": [
    "BRA_TOP20=P_BRA_BUY_CT.tail(20)"
   ]
  },
  {
   "cell_type": "markdown",
   "metadata": {},
   "source": [
    "BRA_TOP20: 브랜드별 구매개수 테이블에서 가장 구매량이 많은 TOP20을 추출한 테이블."
   ]
  },
  {
   "cell_type": "code",
   "execution_count": 22,
   "metadata": {},
   "outputs": [],
   "source": [
    "BRA_TOP20.to_csv(\"BRAND_TOP20.csv\",mode=\"w\")"
   ]
  },
  {
   "cell_type": "markdown",
   "metadata": {},
   "source": [
    "# 가장 많이 팔린 상품분류"
   ]
  },
  {
   "cell_type": "code",
   "execution_count": 23,
   "metadata": {},
   "outputs": [
    {
     "name": "stdout",
     "output_type": "stream",
     "text": [
      "+------+------+\n",
      "|  PD_C|BUY_CT|\n",
      "+------+------+\n",
      "|000001|   1.0|\n",
      "|000002|   1.0|\n",
      "|000003|   4.0|\n",
      "|000004|   1.0|\n",
      "|000005|   1.0|\n",
      "|000006|   1.0|\n",
      "|000007| 282.0|\n",
      "|000008|   1.0|\n",
      "|000009|   1.0|\n",
      "|000010|   2.0|\n",
      "|000011|   7.0|\n",
      "|000012|   1.0|\n",
      "|000013|   1.0|\n",
      "|000014|   6.0|\n",
      "|000015|   1.0|\n",
      "|000016|   3.0|\n",
      "|000017|  20.0|\n",
      "|000018|   3.0|\n",
      "|000019|   2.0|\n",
      "|000020|   9.0|\n",
      "+------+------+\n",
      "only showing top 20 rows\n",
      "\n"
     ]
    }
   ],
   "source": [
    "C_BUY_CT=spark.sql(\"\"\"select PD_C,sum(PD_BUY_CT) as BUY_CT from Product group by PD_C order by PD_C\"\"\")\n",
    "C_BUY_CT.createOrReplaceTempView('C_BUY_CT')\n",
    "C_BUY_CT.show()"
   ]
  },
  {
   "cell_type": "markdown",
   "metadata": {},
   "source": [
    "C_BUY_CT: 기존 Product 테이블에서 제품코드별 구매수량을 추출한 테이블."
   ]
  },
  {
   "cell_type": "code",
   "execution_count": 24,
   "metadata": {},
   "outputs": [
    {
     "name": "stdout",
     "output_type": "stream",
     "text": [
      "+------+---------+--------+----------+------+\n",
      "|  PD_C| CLAC1_NM|CLAC2_NM|  CLAC3_NM|BUY_CT|\n",
      "+------+---------+--------+----------+------+\n",
      "|000001|  식기/조리기구|    조리기구|       압력솥|   1.0|\n",
      "|000002|     패션잡화|      보석|       목걸이|   1.0|\n",
      "|000003| 구기/필드스포츠|      골프|    골프연습장비|   4.0|\n",
      "|000004| 구기/필드스포츠|      골프|    골프연습장비|   1.0|\n",
      "|000005| 구기/필드스포츠|      골프|    골프연습장비|   1.0|\n",
      "|000006|     패션잡화|     여성화|     여성펌프스|   1.0|\n",
      "|000007|    시즌스포츠|  수영/물놀이|     아쿠아슈즈| 282.0|\n",
      "|000008|       가구|    거실가구|   스툴/리빙의자|   1.0|\n",
      "|000009|       가구|    거실가구|   스툴/리빙의자|   1.0|\n",
      "|000010|속옷/양말/홈웨어|    남성속옷|      남성팬티|   2.0|\n",
      "|000011|  출산/육아용품|  유아발육용품|바운서/쏘서/보행기|   7.0|\n",
      "|000012|    시즌스포츠|  수영/물놀이|      수영모자|   1.0|\n",
      "|000013|    시즌스포츠|  수영/물놀이|      수영모자|   1.0|\n",
      "|000014|  식기/조리기구| 밀폐/보관용기|  반찬통/밀폐용기|   6.0|\n",
      "|000015|  출산/육아용품|  유아위생용품|    유아용물티슈|   1.0|\n",
      "|000016|  출산/육아용품|  유아위생용품|    유아용물티슈|   3.0|\n",
      "|000017|  출산/육아용품|  유아위생용품|    유아용물티슈|  20.0|\n",
      "|000018|  출산/육아용품|  유아위생용품|    유아용물티슈|   3.0|\n",
      "|000019|  출산/육아용품|  유아위생용품|    유아용물티슈|   2.0|\n",
      "|000020|  출산/육아용품|  유아위생용품|    유아용물티슈|   9.0|\n",
      "+------+---------+--------+----------+------+\n",
      "only showing top 20 rows\n",
      "\n"
     ]
    }
   ],
   "source": [
    "CLAC=spark.sql(\"\"\"select Master.PD_C, CLAC1_NM, CLAC2_NM, CLAC3_NM, BUY_CT from Master inner join C_BUY_CT on Master.PD_C=C_BUY_CT.PD_C order by PD_C\"\"\")\n",
    "CLAC.createOrReplaceTempView('CLAC')\n",
    "CLAC.show()"
   ]
  },
  {
   "cell_type": "markdown",
   "metadata": {},
   "source": [
    "CLAC: C_BUY_CT 테이블과 Master 테이블의 제품코드를 이용해 테이블을 조인하여 코드별 제품분류와 분류별 구매량을 알 수 있는 테이블을 추출."
   ]
  },
  {
   "cell_type": "code",
   "execution_count": 25,
   "metadata": {},
   "outputs": [
    {
     "name": "stdout",
     "output_type": "stream",
     "text": [
      "+--------+---------+\n",
      "|CLAC1_NM|BUY_COUNT|\n",
      "+--------+---------+\n",
      "|   000원\"|     15.0|\n",
      "|   자동차용품|   1369.0|\n",
      "| 영상/음향가전|   7189.0|\n",
      "| 냉장/세탁가전|   7620.0|\n",
      "|    냉장식품|  15009.0|\n",
      "|    계절가전|  15448.0|\n",
      "|    냉동식품|  24115.0|\n",
      "|     축산물|  25826.0|\n",
      "|     컴퓨터|  26032.0|\n",
      "| 헬스/피트니스|  27713.0|\n",
      "|     상품권|  28304.0|\n",
      "|     모바일|  28556.0|\n",
      "|      과일|  40213.0|\n",
      "|구기/필드스포츠|  42739.0|\n",
      "| 생활/주방가전|  44018.0|\n",
      "| 아웃도어/레저|  54156.0|\n",
      "|      가구|  54312.0|\n",
      "|   세제/위생|  54409.0|\n",
      "|      완구|  62739.0|\n",
      "|    주방잡화|  63123.0|\n",
      "+--------+---------+\n",
      "only showing top 20 rows\n",
      "\n"
     ]
    }
   ],
   "source": [
    "CLAC1_BUY_CT=spark.sql(\"\"\"select CLAC1_NM, sum(BUY_CT) as BUY_COUNT from CLAC group by CLAC1_NM order by BUY_COUNT\"\"\")\n",
    "CLAC1_BUY_CT.createOrReplaceTempView('CLAC1_BUY_CT')\n",
    "CLAC1_BUY_CT.show()"
   ]
  },
  {
   "cell_type": "markdown",
   "metadata": {},
   "source": [
    "CLAC1_BUY: CLAC 테이블에서 대분류별 그룹화를 통해 구매량을 추출한 테이블"
   ]
  },
  {
   "cell_type": "code",
   "execution_count": 26,
   "metadata": {},
   "outputs": [
    {
     "data": {
      "text/html": [
       "<div>\n",
       "<style scoped>\n",
       "    .dataframe tbody tr th:only-of-type {\n",
       "        vertical-align: middle;\n",
       "    }\n",
       "\n",
       "    .dataframe tbody tr th {\n",
       "        vertical-align: top;\n",
       "    }\n",
       "\n",
       "    .dataframe thead th {\n",
       "        text-align: right;\n",
       "    }\n",
       "</style>\n",
       "<table border=\"1\" class=\"dataframe\">\n",
       "  <thead>\n",
       "    <tr style=\"text-align: right;\">\n",
       "      <th></th>\n",
       "      <th>BUY_COUNT</th>\n",
       "    </tr>\n",
       "    <tr>\n",
       "      <th>CLAC1_NM</th>\n",
       "      <th></th>\n",
       "    </tr>\n",
       "  </thead>\n",
       "  <tbody>\n",
       "    <tr>\n",
       "      <th>건강식품</th>\n",
       "      <td>168978.0</td>\n",
       "    </tr>\n",
       "    <tr>\n",
       "      <th>출산/육아용품</th>\n",
       "      <td>173848.0</td>\n",
       "    </tr>\n",
       "    <tr>\n",
       "      <th>퍼스널케어</th>\n",
       "      <td>177126.0</td>\n",
       "    </tr>\n",
       "    <tr>\n",
       "      <th>유아동의류</th>\n",
       "      <td>349128.0</td>\n",
       "    </tr>\n",
       "    <tr>\n",
       "      <th>패션잡화</th>\n",
       "      <td>468806.0</td>\n",
       "    </tr>\n",
       "    <tr>\n",
       "      <th>속옷/양말/홈웨어</th>\n",
       "      <td>546750.0</td>\n",
       "    </tr>\n",
       "    <tr>\n",
       "      <th>남성의류</th>\n",
       "      <td>580496.0</td>\n",
       "    </tr>\n",
       "    <tr>\n",
       "      <th>스포츠패션</th>\n",
       "      <td>600924.0</td>\n",
       "    </tr>\n",
       "    <tr>\n",
       "      <th>화장품/뷰티케어</th>\n",
       "      <td>670504.0</td>\n",
       "    </tr>\n",
       "    <tr>\n",
       "      <th>여성의류</th>\n",
       "      <td>690660.0</td>\n",
       "    </tr>\n",
       "  </tbody>\n",
       "</table>\n",
       "</div>"
      ],
      "text/plain": [
       "           BUY_COUNT\n",
       "CLAC1_NM            \n",
       "건강식품        168978.0\n",
       "출산/육아용품     173848.0\n",
       "퍼스널케어       177126.0\n",
       "유아동의류       349128.0\n",
       "패션잡화        468806.0\n",
       "속옷/양말/홈웨어   546750.0\n",
       "남성의류        580496.0\n",
       "스포츠패션       600924.0\n",
       "화장품/뷰티케어    670504.0\n",
       "여성의류        690660.0"
      ]
     },
     "execution_count": 26,
     "metadata": {},
     "output_type": "execute_result"
    }
   ],
   "source": [
    "P_CLAC1_BUY_CT=CLAC1_BUY_CT.toPandas()\n",
    "P_CLAC1_BUY_CT.set_index('CLAC1_NM',inplace=True)\n",
    "CLAC1_TOP10=P_CLAC1_BUY_CT.tail(10)\n",
    "CLAC1_TOP10"
   ]
  },
  {
   "cell_type": "markdown",
   "metadata": {},
   "source": [
    "CLAC1_TOP10: 대분류별 구매량이 가장 많은 TOP10을 추출"
   ]
  },
  {
   "cell_type": "code",
   "execution_count": 28,
   "metadata": {},
   "outputs": [],
   "source": [
    "CLAC1_TOP10.to_csv(\"CLAC1_TOP10.csv\",mode=\"w\")"
   ]
  },
  {
   "cell_type": "code",
   "execution_count": 29,
   "metadata": {},
   "outputs": [],
   "source": [
    "CLAC1_TOP20=P_CLAC1_BUY_CT.tail(20)"
   ]
  },
  {
   "cell_type": "markdown",
   "metadata": {},
   "source": [
    "CLAC1_TOP20: 대분류별 구매량이 가장 많은 TOP20을 추출"
   ]
  },
  {
   "cell_type": "code",
   "execution_count": 30,
   "metadata": {},
   "outputs": [],
   "source": [
    "CLAC1_TOP20.to_csv(\"CLAC1_TOP20.csv\",mode=\"w\")"
   ]
  },
  {
   "cell_type": "markdown",
   "metadata": {},
   "source": [
    "# 회원 연령대별 구매 상품 분류"
   ]
  },
  {
   "cell_type": "code",
   "execution_count": 31,
   "metadata": {
    "scrolled": false
   },
   "outputs": [
    {
     "name": "stdout",
     "output_type": "stream",
     "text": [
      "+-------+------+--------+\n",
      "|CLNT_ID|  PD_C|CLNT_AGE|\n",
      "+-------+------+--------+\n",
      "|0000008|206218|      20|\n",
      "|0000008|206218|      20|\n",
      "|0000014|369141|      30|\n",
      "|0000014|645262|      30|\n",
      "|0000032|048881|      40|\n",
      "|0000032|031982|      40|\n",
      "|0000032|031974|      40|\n",
      "|0000032|038697|      40|\n",
      "|0000032|048881|      40|\n",
      "|0000056|425529|      40|\n",
      "|0000056|425529|      40|\n",
      "|0000056|824386|      40|\n",
      "|0000058|146452|      30|\n",
      "|0000058|243342|      30|\n",
      "|0000058|417290|      30|\n",
      "|0000058|146435|      30|\n",
      "|0000058|146452|      30|\n",
      "|0000058|420859|      30|\n",
      "|0000059|780899|      40|\n",
      "|0000059|780894|      40|\n",
      "+-------+------+--------+\n",
      "only showing top 20 rows\n",
      "\n"
     ]
    }
   ],
   "source": [
    "Custom_AGE=spark.sql(\"\"\"select Custom.CLNT_ID, PD_C,CLNT_AGE from Product inner join Custom on Product.CLNT_ID=Custom.CLNT_ID order by CLNT_ID\"\"\")\n",
    "Custom_AGE.createOrReplaceTempView('Custom_AGE')\n",
    "Custom_AGE.show()"
   ]
  },
  {
   "cell_type": "markdown",
   "metadata": {},
   "source": [
    "Custom_AGE: 회원 연령대별 구매상품을 알기 위해 Product 테이블과 Custom 테이블을 CLNT_ID 기준으로 조인한 테이블. \n",
    "    \n",
    "고객id별 구매 제품코드와 나이정보를 알 수 있음."
   ]
  },
  {
   "cell_type": "code",
   "execution_count": 32,
   "metadata": {},
   "outputs": [
    {
     "name": "stdout",
     "output_type": "stream",
     "text": [
      "+--------+--------+\n",
      "|CLNT_AGE|CLAC1_NM|\n",
      "+--------+--------+\n",
      "|      30|   000원\"|\n",
      "|      30|   000원\"|\n",
      "|      30|   000원\"|\n",
      "|      30|   000원\"|\n",
      "|      40|   000원\"|\n",
      "|      40|   000원\"|\n",
      "|      20|   000원\"|\n",
      "|      30|   000원\"|\n",
      "|      20|   000원\"|\n",
      "|      30|   000원\"|\n",
      "|      30|   000원\"|\n",
      "|      20|   000원\"|\n",
      "|      40|   000원\"|\n",
      "|      30|   000원\"|\n",
      "|      40|      가구|\n",
      "|      40|      가구|\n",
      "|      30|      가구|\n",
      "|      40|      가구|\n",
      "|      30|      가구|\n",
      "|      40|      가구|\n",
      "+--------+--------+\n",
      "only showing top 20 rows\n",
      "\n"
     ]
    }
   ],
   "source": [
    "AGE_CLAC=spark.sql(\"\"\"select CLNT_AGE, CLAC1_NM from Custom_AGE inner join Master on Custom_AGE.PD_C=Master.PD_C order by CLAC1_NM\"\"\")\n",
    "AGE_CLAC.createOrReplaceTempView('AGE_CLAC')\n",
    "AGE_CLAC.show()"
   ]
  },
  {
   "cell_type": "markdown",
   "metadata": {},
   "source": [
    "AGE_CLAC: Master 테이블과 Custom 테이블을 제품 코드를 이용해 join하여 고객 나이에 따른 구매 제품 대분류를 추출한 테이블"
   ]
  },
  {
   "cell_type": "markdown",
   "metadata": {},
   "source": [
    "# 10, 20대 선호 카테고리 TOP10"
   ]
  },
  {
   "cell_type": "code",
   "execution_count": 33,
   "metadata": {},
   "outputs": [
    {
     "name": "stdout",
     "output_type": "stream",
     "text": [
      "+--------+--------+\n",
      "|CLNT_AGE|CLAC1_NM|\n",
      "+--------+--------+\n",
      "|      20|   000원\"|\n",
      "|      20|   000원\"|\n",
      "|      20|   000원\"|\n",
      "|      20|      가구|\n",
      "|      20|      가구|\n",
      "|      20|      가구|\n",
      "|      20|      가구|\n",
      "|      20|      가구|\n",
      "|      20|      가구|\n",
      "|      20|      가구|\n",
      "|      20|      가구|\n",
      "|      20|      가구|\n",
      "|      20|      가구|\n",
      "|      20|      가구|\n",
      "|      20|      가구|\n",
      "|      20|      가구|\n",
      "|      20|      가구|\n",
      "|      20|      가구|\n",
      "|      20|      가구|\n",
      "|      20|      가구|\n",
      "+--------+--------+\n",
      "only showing top 20 rows\n",
      "\n"
     ]
    }
   ],
   "source": [
    "AGE_CLAC_1020=spark.sql(\"\"\"select * from AGE_CLAC where CLNT_AGE=10 or CLNT_AGE=20\"\"\")\n",
    "AGE_CLAC_1020.createOrReplaceTempView('AGE_CLAC_1020')\n",
    "AGE_CLAC_1020.show()"
   ]
  },
  {
   "cell_type": "markdown",
   "metadata": {},
   "source": [
    "AGE_CLAC_1020: AGE_CLAC 테이블에서 나이가 10대, 20대인 고객만 추출한 테이블"
   ]
  },
  {
   "cell_type": "code",
   "execution_count": 34,
   "metadata": {},
   "outputs": [
    {
     "name": "stdout",
     "output_type": "stream",
     "text": [
      "+----------+------+\n",
      "|  CLAC1_NM|BUY_CT|\n",
      "+----------+------+\n",
      "|     000원\"|     3|\n",
      "|     자동차용품|    96|\n",
      "|   냉장/세탁가전|   275|\n",
      "|   인테리어/조명|   360|\n",
      "|   영상/음향가전|   474|\n",
      "|      냉장식품|   584|\n",
      "|      계절가전|   757|\n",
      "|      냉동식품|   925|\n",
      "|        과일|  1088|\n",
      "|  구기/필드스포츠|  1128|\n",
      "|       축산물|  1185|\n",
      "|      주방잡화|  1671|\n",
      "|        완구|  1706|\n",
      "|       컴퓨터|  1818|\n",
      "|       상품권|  1888|\n",
      "|   아웃도어/레저|  1934|\n",
      "|   문구/사무용품|  1970|\n",
      "|     세제/위생|  2311|\n",
      "|   헬스/피트니스|  2484|\n",
      "|청소/세탁/욕실용품|  2533|\n",
      "+----------+------+\n",
      "only showing top 20 rows\n",
      "\n"
     ]
    }
   ],
   "source": [
    "AGE_CLAC_1020_2=spark.sql(\"\"\"select CLAC1_NM, count(CLAC1_NM) as BUY_CT from AGE_CLAC_1020 group by CLAC1_NM order by BUY_CT\"\"\")\n",
    "AGE_CLAC_1020_2.createOrReplaceTempView('AGE_CLAC_1020_2')\n",
    "AGE_CLAC_1020_2.show()"
   ]
  },
  {
   "cell_type": "markdown",
   "metadata": {},
   "source": [
    "AGE_CLAC_1020_2: 10,20대 고객으로만 이루어진 대분류 테이블에서 분류별 구매수량을 뽑아낸 테이블."
   ]
  },
  {
   "cell_type": "code",
   "execution_count": 35,
   "metadata": {},
   "outputs": [
    {
     "data": {
      "text/html": [
       "<div>\n",
       "<style scoped>\n",
       "    .dataframe tbody tr th:only-of-type {\n",
       "        vertical-align: middle;\n",
       "    }\n",
       "\n",
       "    .dataframe tbody tr th {\n",
       "        vertical-align: top;\n",
       "    }\n",
       "\n",
       "    .dataframe thead th {\n",
       "        text-align: right;\n",
       "    }\n",
       "</style>\n",
       "<table border=\"1\" class=\"dataframe\">\n",
       "  <thead>\n",
       "    <tr style=\"text-align: right;\">\n",
       "      <th></th>\n",
       "      <th>BUY_CT</th>\n",
       "    </tr>\n",
       "    <tr>\n",
       "      <th>CLAC1_NM</th>\n",
       "      <th></th>\n",
       "    </tr>\n",
       "  </thead>\n",
       "  <tbody>\n",
       "    <tr>\n",
       "      <th>건강식품</th>\n",
       "      <td>8317</td>\n",
       "    </tr>\n",
       "    <tr>\n",
       "      <th>시즌스포츠</th>\n",
       "      <td>8481</td>\n",
       "    </tr>\n",
       "    <tr>\n",
       "      <th>원예/애완</th>\n",
       "      <td>10248</td>\n",
       "    </tr>\n",
       "    <tr>\n",
       "      <th>퍼스널케어</th>\n",
       "      <td>11181</td>\n",
       "    </tr>\n",
       "    <tr>\n",
       "      <th>속옷/양말/홈웨어</th>\n",
       "      <td>27065</td>\n",
       "    </tr>\n",
       "    <tr>\n",
       "      <th>남성의류</th>\n",
       "      <td>34192</td>\n",
       "    </tr>\n",
       "    <tr>\n",
       "      <th>여성의류</th>\n",
       "      <td>34649</td>\n",
       "    </tr>\n",
       "    <tr>\n",
       "      <th>패션잡화</th>\n",
       "      <td>38317</td>\n",
       "    </tr>\n",
       "    <tr>\n",
       "      <th>스포츠패션</th>\n",
       "      <td>46543</td>\n",
       "    </tr>\n",
       "    <tr>\n",
       "      <th>화장품/뷰티케어</th>\n",
       "      <td>90028</td>\n",
       "    </tr>\n",
       "  </tbody>\n",
       "</table>\n",
       "</div>"
      ],
      "text/plain": [
       "           BUY_CT\n",
       "CLAC1_NM         \n",
       "건강식품         8317\n",
       "시즌스포츠        8481\n",
       "원예/애완       10248\n",
       "퍼스널케어       11181\n",
       "속옷/양말/홈웨어   27065\n",
       "남성의류        34192\n",
       "여성의류        34649\n",
       "패션잡화        38317\n",
       "스포츠패션       46543\n",
       "화장품/뷰티케어    90028"
      ]
     },
     "execution_count": 35,
     "metadata": {},
     "output_type": "execute_result"
    }
   ],
   "source": [
    "P_AGE_CLAC_1020_2=AGE_CLAC_1020_2.toPandas()\n",
    "P_AGE_CLAC_1020_2.set_index('CLAC1_NM',inplace=True)\n",
    "CLAC1_1020_TOP10=P_AGE_CLAC_1020_2.tail(10)\n",
    "CLAC1_1020_TOP10"
   ]
  },
  {
   "cell_type": "markdown",
   "metadata": {},
   "source": [
    "CLAC1_1020_TOP10: AGE_CLAC_1020_2 테이블을 이용해 10, 20대가 가장 많이 구매한 제품 대분류 TOP10을 추출한 테이블."
   ]
  },
  {
   "cell_type": "code",
   "execution_count": 37,
   "metadata": {},
   "outputs": [],
   "source": [
    "CLAC1_1020_TOP10.to_csv(\"CLAC1_1020_TOP10.csv\",mode=\"w\")"
   ]
  },
  {
   "cell_type": "markdown",
   "metadata": {},
   "source": [
    "# 30, 40대 선호 카테고리 TOP10"
   ]
  },
  {
   "cell_type": "code",
   "execution_count": 38,
   "metadata": {},
   "outputs": [
    {
     "name": "stdout",
     "output_type": "stream",
     "text": [
      "+--------+--------+\n",
      "|CLNT_AGE|CLAC1_NM|\n",
      "+--------+--------+\n",
      "|      30|   000원\"|\n",
      "|      30|   000원\"|\n",
      "|      30|   000원\"|\n",
      "|      30|   000원\"|\n",
      "|      40|   000원\"|\n",
      "|      30|   000원\"|\n",
      "|      40|   000원\"|\n",
      "|      30|   000원\"|\n",
      "|      30|   000원\"|\n",
      "|      40|   000원\"|\n",
      "|      30|   000원\"|\n",
      "|      40|      가구|\n",
      "|      40|      가구|\n",
      "|      40|      가구|\n",
      "|      30|      가구|\n",
      "|      30|      가구|\n",
      "|      30|      가구|\n",
      "|      30|      가구|\n",
      "|      30|      가구|\n",
      "|      30|      가구|\n",
      "+--------+--------+\n",
      "only showing top 20 rows\n",
      "\n"
     ]
    }
   ],
   "source": [
    "AGE_CLAC_3040=spark.sql(\"\"\"select * from AGE_CLAC where CLNT_AGE=30 or CLNT_AGE=40\"\"\")\n",
    "AGE_CLAC_3040.createOrReplaceTempView('AGE_CLAC_3040')\n",
    "AGE_CLAC_3040.show()"
   ]
  },
  {
   "cell_type": "markdown",
   "metadata": {},
   "source": [
    "AGE_CLAC_3040: AGE_CLAC 테이블에서 나이가 30대, 40대인 고객만 추출한 테이블"
   ]
  },
  {
   "cell_type": "code",
   "execution_count": 41,
   "metadata": {},
   "outputs": [
    {
     "name": "stdout",
     "output_type": "stream",
     "text": [
      "+----------+------+\n",
      "|  CLAC1_NM|BUY_CT|\n",
      "+----------+------+\n",
      "|     000원\"|    11|\n",
      "|     자동차용품|   809|\n",
      "|   영상/음향가전|  3011|\n",
      "|   냉장/세탁가전|  4005|\n",
      "|   인테리어/조명|  4776|\n",
      "|       축산물|  5730|\n",
      "|       상품권|  7971|\n",
      "|      냉동식품|  8266|\n",
      "|      냉장식품|  8451|\n",
      "|      계절가전|  8744|\n",
      "|       컴퓨터| 11888|\n",
      "|        과일| 13933|\n",
      "|       모바일| 14381|\n",
      "|   헬스/피트니스| 16474|\n",
      "|  구기/필드스포츠| 20589|\n",
      "|   생활/주방가전| 26961|\n",
      "|        가구| 28027|\n",
      "|   아웃도어/레저| 29236|\n",
      "|청소/세탁/욕실용품| 29277|\n",
      "|     세제/위생| 29710|\n",
      "+----------+------+\n",
      "only showing top 20 rows\n",
      "\n"
     ]
    }
   ],
   "source": [
    "AGE_CLAC_3040_2=spark.sql(\"\"\"select CLAC1_NM, count(CLAC1_NM) as BUY_CT from AGE_CLAC_3040 group by CLAC1_NM order by BUY_CT\"\"\")\n",
    "AGE_CLAC_3040_2.createOrReplaceTempView('AGE_CLAC_3040_2')\n",
    "AGE_CLAC_3040_2.show()"
   ]
  },
  {
   "cell_type": "markdown",
   "metadata": {},
   "source": [
    "AGE_CLAC_3040_2: 30,40대 고객으로만 이루어진 대분류 테이블에서 분류별 구매수량을 뽑아낸 테이블."
   ]
  },
  {
   "cell_type": "code",
   "execution_count": 42,
   "metadata": {},
   "outputs": [
    {
     "data": {
      "text/html": [
       "<div>\n",
       "<style scoped>\n",
       "    .dataframe tbody tr th:only-of-type {\n",
       "        vertical-align: middle;\n",
       "    }\n",
       "\n",
       "    .dataframe tbody tr th {\n",
       "        vertical-align: top;\n",
       "    }\n",
       "\n",
       "    .dataframe thead th {\n",
       "        text-align: right;\n",
       "    }\n",
       "</style>\n",
       "<table border=\"1\" class=\"dataframe\">\n",
       "  <thead>\n",
       "    <tr style=\"text-align: right;\">\n",
       "      <th></th>\n",
       "      <th>BUY_CT</th>\n",
       "    </tr>\n",
       "    <tr>\n",
       "      <th>CLAC1_NM</th>\n",
       "      <th></th>\n",
       "    </tr>\n",
       "  </thead>\n",
       "  <tbody>\n",
       "    <tr>\n",
       "      <th>퍼스널케어</th>\n",
       "      <td>86583</td>\n",
       "    </tr>\n",
       "    <tr>\n",
       "      <th>시즌스포츠</th>\n",
       "      <td>110043</td>\n",
       "    </tr>\n",
       "    <tr>\n",
       "      <th>출산/육아용품</th>\n",
       "      <td>111243</td>\n",
       "    </tr>\n",
       "    <tr>\n",
       "      <th>유아동의류</th>\n",
       "      <td>274905</td>\n",
       "    </tr>\n",
       "    <tr>\n",
       "      <th>속옷/양말/홈웨어</th>\n",
       "      <td>284158</td>\n",
       "    </tr>\n",
       "    <tr>\n",
       "      <th>패션잡화</th>\n",
       "      <td>305120</td>\n",
       "    </tr>\n",
       "    <tr>\n",
       "      <th>화장품/뷰티케어</th>\n",
       "      <td>344663</td>\n",
       "    </tr>\n",
       "    <tr>\n",
       "      <th>남성의류</th>\n",
       "      <td>345143</td>\n",
       "    </tr>\n",
       "    <tr>\n",
       "      <th>스포츠패션</th>\n",
       "      <td>362451</td>\n",
       "    </tr>\n",
       "    <tr>\n",
       "      <th>여성의류</th>\n",
       "      <td>453687</td>\n",
       "    </tr>\n",
       "  </tbody>\n",
       "</table>\n",
       "</div>"
      ],
      "text/plain": [
       "           BUY_CT\n",
       "CLAC1_NM         \n",
       "퍼스널케어       86583\n",
       "시즌스포츠      110043\n",
       "출산/육아용품    111243\n",
       "유아동의류      274905\n",
       "속옷/양말/홈웨어  284158\n",
       "패션잡화       305120\n",
       "화장품/뷰티케어   344663\n",
       "남성의류       345143\n",
       "스포츠패션      362451\n",
       "여성의류       453687"
      ]
     },
     "execution_count": 42,
     "metadata": {},
     "output_type": "execute_result"
    }
   ],
   "source": [
    "P_AGE_CLAC_3040_2=AGE_CLAC_3040_2.toPandas()\n",
    "P_AGE_CLAC_3040_2.set_index('CLAC1_NM',inplace=True)\n",
    "CLAC1_3040_TOP10=P_AGE_CLAC_3040_2.tail(10)\n",
    "CLAC1_3040_TOP10"
   ]
  },
  {
   "cell_type": "markdown",
   "metadata": {},
   "source": [
    "CLAC1_3040_TOP10: AGE_CLAC_3040_2 테이블을 이용해 30, 40대가 가장 많이 구매한 제품 대분류 TOP10을 추출한 테이블."
   ]
  },
  {
   "cell_type": "code",
   "execution_count": 43,
   "metadata": {},
   "outputs": [],
   "source": [
    "CLAC1_3040_TOP10.to_csv(\"CLAC1_3040_TOP10.csv\",mode=\"w\")"
   ]
  },
  {
   "cell_type": "markdown",
   "metadata": {},
   "source": [
    "# 50, 60대 선호 카테고리 TOP10"
   ]
  },
  {
   "cell_type": "code",
   "execution_count": 44,
   "metadata": {},
   "outputs": [
    {
     "name": "stdout",
     "output_type": "stream",
     "text": [
      "+--------+--------+\n",
      "|CLNT_AGE|CLAC1_NM|\n",
      "+--------+--------+\n",
      "|      50|      가구|\n",
      "|      50|      가구|\n",
      "|      50|      가구|\n",
      "|      50|      가구|\n",
      "|      50|      가구|\n",
      "|      50|      가구|\n",
      "|      50|      가구|\n",
      "|      50|      가구|\n",
      "|      50|      가구|\n",
      "|      50|      가구|\n",
      "|      50|      가구|\n",
      "|      50|      가구|\n",
      "|      50|      가구|\n",
      "|      50|      가구|\n",
      "|      50|      가구|\n",
      "|      50|      가구|\n",
      "|      50|      가구|\n",
      "|      50|      가구|\n",
      "|      50|      가구|\n",
      "|      50|      가구|\n",
      "+--------+--------+\n",
      "only showing top 20 rows\n",
      "\n"
     ]
    }
   ],
   "source": [
    "AGE_CLAC_5060=spark.sql(\"\"\"select * from AGE_CLAC where CLNT_AGE=50 or CLNT_AGE=60\"\"\")\n",
    "AGE_CLAC_5060.createOrReplaceTempView('AGE_CLAC_5060')\n",
    "AGE_CLAC_5060.show()"
   ]
  },
  {
   "cell_type": "markdown",
   "metadata": {},
   "source": [
    "AGE_CLAC_5060: AGE_CLAC 테이블에서 나이가 50대, 60대인 고객만 추출한 테이블"
   ]
  },
  {
   "cell_type": "code",
   "execution_count": 45,
   "metadata": {},
   "outputs": [
    {
     "name": "stdout",
     "output_type": "stream",
     "text": [
      "+----------+------+\n",
      "|  CLAC1_NM|BUY_CT|\n",
      "+----------+------+\n",
      "|     자동차용품|    73|\n",
      "|   영상/음향가전|   293|\n",
      "|       상품권|   446|\n",
      "|   인테리어/조명|   463|\n",
      "|   냉장/세탁가전|   543|\n",
      "|       축산물|   626|\n",
      "|        완구|   811|\n",
      "|      냉동식품|   975|\n",
      "|       모바일|  1177|\n",
      "|      계절가전|  1273|\n",
      "|       컴퓨터|  1296|\n",
      "|   헬스/피트니스|  1515|\n",
      "|      냉장식품|  1740|\n",
      "|   출산/육아용품|  2018|\n",
      "|        과일|  2708|\n",
      "|   문구/사무용품|  2730|\n",
      "|   생활/주방가전|  2914|\n",
      "|        가구|  2924|\n",
      "|     세제/위생|  2924|\n",
      "|청소/세탁/욕실용품|  2986|\n",
      "+----------+------+\n",
      "only showing top 20 rows\n",
      "\n"
     ]
    }
   ],
   "source": [
    "AGE_CLAC_5060_2=spark.sql(\"\"\"select CLAC1_NM, count(CLAC1_NM) as BUY_CT from AGE_CLAC_5060 group by CLAC1_NM order by BUY_CT\"\"\")\n",
    "AGE_CLAC_5060_2.createOrReplaceTempView('AGE_CLAC_5060_2')\n",
    "AGE_CLAC_5060_2.show()"
   ]
  },
  {
   "cell_type": "markdown",
   "metadata": {},
   "source": [
    "AGE_CLAC_5060_2: 50,60대 고객으로만 이루어진 대분류 테이블에서 분류별 구매수량을 뽑아낸 테이블."
   ]
  },
  {
   "cell_type": "code",
   "execution_count": 46,
   "metadata": {},
   "outputs": [
    {
     "data": {
      "text/html": [
       "<div>\n",
       "<style scoped>\n",
       "    .dataframe tbody tr th:only-of-type {\n",
       "        vertical-align: middle;\n",
       "    }\n",
       "\n",
       "    .dataframe tbody tr th {\n",
       "        vertical-align: top;\n",
       "    }\n",
       "\n",
       "    .dataframe thead th {\n",
       "        text-align: right;\n",
       "    }\n",
       "</style>\n",
       "<table border=\"1\" class=\"dataframe\">\n",
       "  <thead>\n",
       "    <tr style=\"text-align: right;\">\n",
       "      <th></th>\n",
       "      <th>BUY_CT</th>\n",
       "    </tr>\n",
       "    <tr>\n",
       "      <th>CLAC1_NM</th>\n",
       "      <th></th>\n",
       "    </tr>\n",
       "  </thead>\n",
       "  <tbody>\n",
       "    <tr>\n",
       "      <th>식기/조리기구</th>\n",
       "      <td>7155</td>\n",
       "    </tr>\n",
       "    <tr>\n",
       "      <th>퍼스널케어</th>\n",
       "      <td>7634</td>\n",
       "    </tr>\n",
       "    <tr>\n",
       "      <th>원예/애완</th>\n",
       "      <td>8336</td>\n",
       "    </tr>\n",
       "    <tr>\n",
       "      <th>건강식품</th>\n",
       "      <td>9777</td>\n",
       "    </tr>\n",
       "    <tr>\n",
       "      <th>속옷/양말/홈웨어</th>\n",
       "      <td>19422</td>\n",
       "    </tr>\n",
       "    <tr>\n",
       "      <th>화장품/뷰티케어</th>\n",
       "      <td>26442</td>\n",
       "    </tr>\n",
       "    <tr>\n",
       "      <th>패션잡화</th>\n",
       "      <td>28448</td>\n",
       "    </tr>\n",
       "    <tr>\n",
       "      <th>남성의류</th>\n",
       "      <td>31365</td>\n",
       "    </tr>\n",
       "    <tr>\n",
       "      <th>스포츠패션</th>\n",
       "      <td>34163</td>\n",
       "    </tr>\n",
       "    <tr>\n",
       "      <th>여성의류</th>\n",
       "      <td>58360</td>\n",
       "    </tr>\n",
       "  </tbody>\n",
       "</table>\n",
       "</div>"
      ],
      "text/plain": [
       "           BUY_CT\n",
       "CLAC1_NM         \n",
       "식기/조리기구      7155\n",
       "퍼스널케어        7634\n",
       "원예/애완        8336\n",
       "건강식품         9777\n",
       "속옷/양말/홈웨어   19422\n",
       "화장품/뷰티케어    26442\n",
       "패션잡화        28448\n",
       "남성의류        31365\n",
       "스포츠패션       34163\n",
       "여성의류        58360"
      ]
     },
     "execution_count": 46,
     "metadata": {},
     "output_type": "execute_result"
    }
   ],
   "source": [
    "P_AGE_CLAC_5060_2=AGE_CLAC_5060_2.toPandas()\n",
    "P_AGE_CLAC_5060_2.set_index('CLAC1_NM',inplace=True)\n",
    "CLAC1_5060_TOP10=P_AGE_CLAC_5060_2.tail(10)\n",
    "CLAC1_5060_TOP10"
   ]
  },
  {
   "cell_type": "markdown",
   "metadata": {},
   "source": [
    "CLAC1_5060_TOP10: AGE_CLAC_5060_2 테이블을 이용해 50, 60대가 가장 많이 구매한 제품 대분류 TOP10을 추출한 테이블."
   ]
  },
  {
   "cell_type": "code",
   "execution_count": 47,
   "metadata": {},
   "outputs": [],
   "source": [
    "CLAC1_5060_TOP10.to_csv(\"CLAC1_5060_TOP10.csv\",mode=\"w\")"
   ]
  },
  {
   "cell_type": "markdown",
   "metadata": {},
   "source": [
    "# 70, 80대 선호 카테고리 TOP10"
   ]
  },
  {
   "cell_type": "code",
   "execution_count": 48,
   "metadata": {},
   "outputs": [
    {
     "name": "stdout",
     "output_type": "stream",
     "text": [
      "+--------+--------+\n",
      "|CLNT_AGE|CLAC1_NM|\n",
      "+--------+--------+\n",
      "|      70|      가구|\n",
      "|      70|      가구|\n",
      "|      70|      가구|\n",
      "|      70|      가구|\n",
      "|      70|      가구|\n",
      "|      70|      가구|\n",
      "|      70|      가구|\n",
      "|      70|      가구|\n",
      "|      70|      가구|\n",
      "|      70|      가구|\n",
      "|      70|      가구|\n",
      "|      70|      가구|\n",
      "|      70|      가구|\n",
      "|      70|      가구|\n",
      "|      70|      가구|\n",
      "|      70|      가구|\n",
      "|      70|      가구|\n",
      "|      70|      가구|\n",
      "|      70|      가구|\n",
      "|      70|      가구|\n",
      "+--------+--------+\n",
      "only showing top 20 rows\n",
      "\n"
     ]
    }
   ],
   "source": [
    "AGE_CLAC_7080=spark.sql(\"\"\"select * from AGE_CLAC where CLNT_AGE=70 or CLNT_AGE=80\"\"\")\n",
    "AGE_CLAC_7080.createOrReplaceTempView('AGE_CLAC_7080')\n",
    "AGE_CLAC_7080.show()"
   ]
  },
  {
   "cell_type": "markdown",
   "metadata": {},
   "source": [
    "AGE_CLAC_7080: AGE_CLAC 테이블에서 나이가 70대, 80대인 고객만 추출한 테이블"
   ]
  },
  {
   "cell_type": "code",
   "execution_count": 49,
   "metadata": {},
   "outputs": [
    {
     "name": "stdout",
     "output_type": "stream",
     "text": [
      "+----------+------+\n",
      "|  CLAC1_NM|BUY_CT|\n",
      "+----------+------+\n",
      "|     자동차용품|     1|\n",
      "|   영상/음향가전|     9|\n",
      "|   인테리어/조명|     9|\n",
      "|   냉장/세탁가전|    11|\n",
      "|      냉동식품|    16|\n",
      "|   헬스/피트니스|    18|\n",
      "|       상품권|    19|\n",
      "|      계절가전|    21|\n",
      "|       모바일|    28|\n",
      "|       컴퓨터|    28|\n",
      "|      냉장식품|    31|\n",
      "|       축산물|    34|\n",
      "|   문구/사무용품|    34|\n",
      "|   출산/육아용품|    40|\n",
      "|        완구|    40|\n",
      "|   식기/조리기구|    41|\n",
      "|        가구|    48|\n",
      "|   생활/주방가전|    49|\n",
      "|     침구/수예|    50|\n",
      "|청소/세탁/욕실용품|    53|\n",
      "+----------+------+\n",
      "only showing top 20 rows\n",
      "\n"
     ]
    }
   ],
   "source": [
    "AGE_CLAC_7080_2=spark.sql(\"\"\"select CLAC1_NM, count(CLAC1_NM) as BUY_CT from AGE_CLAC_7080 group by CLAC1_NM order by BUY_CT\"\"\")\n",
    "AGE_CLAC_7080_2.createOrReplaceTempView('AGE_CLAC_7080_2')\n",
    "AGE_CLAC_7080_2.show()"
   ]
  },
  {
   "cell_type": "markdown",
   "metadata": {},
   "source": [
    "AGE_CLAC_7080_2: 70, 80대 고객으로만 이루어진 대분류 테이블에서 분류별 구매수량을 뽑아낸 테이블."
   ]
  },
  {
   "cell_type": "code",
   "execution_count": 50,
   "metadata": {},
   "outputs": [
    {
     "data": {
      "text/html": [
       "<div>\n",
       "<style scoped>\n",
       "    .dataframe tbody tr th:only-of-type {\n",
       "        vertical-align: middle;\n",
       "    }\n",
       "\n",
       "    .dataframe tbody tr th {\n",
       "        vertical-align: top;\n",
       "    }\n",
       "\n",
       "    .dataframe thead th {\n",
       "        text-align: right;\n",
       "    }\n",
       "</style>\n",
       "<table border=\"1\" class=\"dataframe\">\n",
       "  <thead>\n",
       "    <tr style=\"text-align: right;\">\n",
       "      <th></th>\n",
       "      <th>BUY_CT</th>\n",
       "    </tr>\n",
       "    <tr>\n",
       "      <th>CLAC1_NM</th>\n",
       "      <th></th>\n",
       "    </tr>\n",
       "  </thead>\n",
       "  <tbody>\n",
       "    <tr>\n",
       "      <th>퍼스널케어</th>\n",
       "      <td>146</td>\n",
       "    </tr>\n",
       "    <tr>\n",
       "      <th>건강식품</th>\n",
       "      <td>158</td>\n",
       "    </tr>\n",
       "    <tr>\n",
       "      <th>원예/애완</th>\n",
       "      <td>187</td>\n",
       "    </tr>\n",
       "    <tr>\n",
       "      <th>유아동의류</th>\n",
       "      <td>293</td>\n",
       "    </tr>\n",
       "    <tr>\n",
       "      <th>패션잡화</th>\n",
       "      <td>435</td>\n",
       "    </tr>\n",
       "    <tr>\n",
       "      <th>속옷/양말/홈웨어</th>\n",
       "      <td>444</td>\n",
       "    </tr>\n",
       "    <tr>\n",
       "      <th>화장품/뷰티케어</th>\n",
       "      <td>553</td>\n",
       "    </tr>\n",
       "    <tr>\n",
       "      <th>남성의류</th>\n",
       "      <td>707</td>\n",
       "    </tr>\n",
       "    <tr>\n",
       "      <th>여성의류</th>\n",
       "      <td>810</td>\n",
       "    </tr>\n",
       "    <tr>\n",
       "      <th>스포츠패션</th>\n",
       "      <td>960</td>\n",
       "    </tr>\n",
       "  </tbody>\n",
       "</table>\n",
       "</div>"
      ],
      "text/plain": [
       "           BUY_CT\n",
       "CLAC1_NM         \n",
       "퍼스널케어         146\n",
       "건강식품          158\n",
       "원예/애완         187\n",
       "유아동의류         293\n",
       "패션잡화          435\n",
       "속옷/양말/홈웨어     444\n",
       "화장품/뷰티케어      553\n",
       "남성의류          707\n",
       "여성의류          810\n",
       "스포츠패션         960"
      ]
     },
     "execution_count": 50,
     "metadata": {},
     "output_type": "execute_result"
    }
   ],
   "source": [
    "P_AGE_CLAC_7080_2=AGE_CLAC_7080_2.toPandas()\n",
    "P_AGE_CLAC_7080_2.set_index('CLAC1_NM',inplace=True)\n",
    "CLAC1_7080_TOP10=P_AGE_CLAC_7080_2.tail(10)\n",
    "CLAC1_7080_TOP10"
   ]
  },
  {
   "cell_type": "markdown",
   "metadata": {},
   "source": [
    "CLAC1_7080_TOP10: AGE_CLAC_7080_2 테이블을 이용해 70, 80대가 가장 많이 구매한 제품 대분류 TOP10을 추출한 테이블."
   ]
  },
  {
   "cell_type": "code",
   "execution_count": 52,
   "metadata": {},
   "outputs": [],
   "source": [
    "CLAC1_7080_TOP10.to_csv(\"CLAC1_7080_TOP10.csv\",mode=\"w\")"
   ]
  },
  {
   "cell_type": "markdown",
   "metadata": {},
   "source": [
    "# 고객 특성별 사용기기 정보"
   ]
  },
  {
   "cell_type": "markdown",
   "metadata": {},
   "source": [
    "#### Custom_Gender: 고객 성별 테이블, Custom_Age: 고객 연령 테이블, Custom_DVC: 고객 사용기기 테이블"
   ]
  },
  {
   "cell_type": "code",
   "execution_count": 54,
   "metadata": {},
   "outputs": [
    {
     "name": "stdout",
     "output_type": "stream",
     "text": [
      "+-------+------+\n",
      "|     ID|gender|\n",
      "+-------+------+\n",
      "|0000008|     M|\n",
      "|0000014|     F|\n",
      "|0000032|     M|\n",
      "|0000056|     F|\n",
      "|0000058|     F|\n",
      "|0000059|     F|\n",
      "|0000063|     F|\n",
      "|0000064|     F|\n",
      "|0000068|     F|\n",
      "|0000071|     F|\n",
      "|0000073|     M|\n",
      "|0000078|     F|\n",
      "|0000089|     F|\n",
      "|0000093|     M|\n",
      "|0000104|     F|\n",
      "|0000106|     F|\n",
      "|0000114|     F|\n",
      "|0000121|     F|\n",
      "|0000129|     F|\n",
      "|0000135|     M|\n",
      "+-------+------+\n",
      "only showing top 20 rows\n",
      "\n",
      "+-------+---+\n",
      "|     ID|age|\n",
      "+-------+---+\n",
      "|0000008| 20|\n",
      "|0000014| 30|\n",
      "|0000032| 40|\n",
      "|0000056| 40|\n",
      "|0000058| 30|\n",
      "|0000059| 40|\n",
      "|0000063| 40|\n",
      "|0000064| 40|\n",
      "|0000068| 30|\n",
      "|0000071| 40|\n",
      "|0000073| 40|\n",
      "|0000078| 30|\n",
      "|0000089| 30|\n",
      "|0000093| 40|\n",
      "|0000104| 40|\n",
      "|0000106| 40|\n",
      "|0000114| 20|\n",
      "|0000121| 30|\n",
      "|0000129| 30|\n",
      "|0000135| 40|\n",
      "+-------+---+\n",
      "only showing top 20 rows\n",
      "\n",
      "+-------+-------+\n",
      "|     ID|    DVC|\n",
      "+-------+-------+\n",
      "|0000008| mobile|\n",
      "|0000014| mobile|\n",
      "|0000025|desktop|\n",
      "|0000032| mobile|\n",
      "|0000033|desktop|\n",
      "|0000051|desktop|\n",
      "|0000056| mobile|\n",
      "|0000058| mobile|\n",
      "|0000059| mobile|\n",
      "|0000063| mobile|\n",
      "|0000064| mobile|\n",
      "|0000068| mobile|\n",
      "|0000071| mobile|\n",
      "|0000073| mobile|\n",
      "|0000078| mobile|\n",
      "|0000080|desktop|\n",
      "|0000089| mobile|\n",
      "|0000093| mobile|\n",
      "|0000100|desktop|\n",
      "|0000104| mobile|\n",
      "+-------+-------+\n",
      "only showing top 20 rows\n",
      "\n"
     ]
    }
   ],
   "source": [
    "Custom_Gender=spark.sql(\"\"\"select DISTINCT C.CLNT_ID as ID, C.CLNT_GENDER as gender from Custom as C ORDER BY ID\"\"\")\n",
    "Custom_Age=spark.sql(\"\"\"select DISTINCT C.CLNT_ID as ID, C.CLNT_AGE as age from Custom as C ORDER BY ID\"\"\")\n",
    "Custom_DVC=spark.sql(\"\"\"select DISTINCT S.CLNT_ID as ID, S.DVC_CTG_NM as DVC from Session as S ORDER BY ID\"\"\")\n",
    "Custom_Gender.createOrReplaceTempView(\"Custom_Gender\")\n",
    "Custom_Age.createOrReplaceTempView(\"Custom_Age\")\n",
    "Custom_DVC.createOrReplaceTempView(\"Custom_DVC\")\n",
    "Custom_Gender.show()\n",
    "Custom_Age.show()\n",
    "Custom_DVC.show()"
   ]
  },
  {
   "cell_type": "markdown",
   "metadata": {},
   "source": [
    "#### DVC_Num: 기기별 사용량"
   ]
  },
  {
   "cell_type": "code",
   "execution_count": 55,
   "metadata": {},
   "outputs": [],
   "source": [
    "DVC_Num=spark.sql(\"\"\"select DVC, count(DVC) from Custom_DVC group by DVC\"\"\")"
   ]
  },
  {
   "cell_type": "markdown",
   "metadata": {},
   "source": [
    "# 성별 분석"
   ]
  },
  {
   "cell_type": "markdown",
   "metadata": {},
   "source": [
    "### 고객성별 사용기기 정보를 분석하기 위해 Custom_Gender 테이블과 Custom_DVC 테이블을 조인\n",
    "#### Custom_DVC 테이블에는 있지만 Custom_Gender 테이블에는 없는 고객 정보는 의미가 없으므로 제외하여 분석"
   ]
  },
  {
   "cell_type": "code",
   "execution_count": 56,
   "metadata": {
    "scrolled": false
   },
   "outputs": [
    {
     "name": "stdout",
     "output_type": "stream",
     "text": [
      "+-------+------+------+\n",
      "|     ID|gender|   DVC|\n",
      "+-------+------+------+\n",
      "|0000008|     M|mobile|\n",
      "|0000014|     F|mobile|\n",
      "|0000032|     M|mobile|\n",
      "|0000056|     F|mobile|\n",
      "|0000058|     F|mobile|\n",
      "|0000059|     F|mobile|\n",
      "|0000063|     F|mobile|\n",
      "|0000064|     F|mobile|\n",
      "|0000068|     F|mobile|\n",
      "|0000071|     F|mobile|\n",
      "|0000073|     M|mobile|\n",
      "|0000078|     F|mobile|\n",
      "|0000089|     F|mobile|\n",
      "|0000093|     M|mobile|\n",
      "|0000104|     F|mobile|\n",
      "|0000106|     F|mobile|\n",
      "|0000114|     F|mobile|\n",
      "|0000121|     F|mobile|\n",
      "|0000129|     F|mobile|\n",
      "|0000135|     M|mobile|\n",
      "+-------+------+------+\n",
      "only showing top 20 rows\n",
      "\n"
     ]
    }
   ],
   "source": [
    "GD_inner=spark.sql(\"\"\"select G.ID, gender, DVC from Custom_Gender as G inner join Custom_DVC as D on G.ID=D.ID ORDER BY G.ID\"\"\")\n",
    "GD_inner.createOrReplaceTempView(\"GD_inner\")\n",
    "GD_inner.show()"
   ]
  },
  {
   "cell_type": "markdown",
   "metadata": {},
   "source": [
    "GD_inner: 고객 성별 사용 기기정보를 추출한 테이블"
   ]
  },
  {
   "cell_type": "markdown",
   "metadata": {},
   "source": [
    "### 성별로 구분하여 사용기기를 그룹화하기 위해 성별 테이블을 각각 생성"
   ]
  },
  {
   "cell_type": "code",
   "execution_count": 58,
   "metadata": {},
   "outputs": [
    {
     "name": "stdout",
     "output_type": "stream",
     "text": [
      "+-------+------+------+\n",
      "|     ID|gender|   DVC|\n",
      "+-------+------+------+\n",
      "|0000008|     M|mobile|\n",
      "|0000032|     M|mobile|\n",
      "|0000073|     M|mobile|\n",
      "|0000093|     M|mobile|\n",
      "|0000135|     M|mobile|\n",
      "|0000215|     M|mobile|\n",
      "|0000230|     M|mobile|\n",
      "|0000252|     M|mobile|\n",
      "|0000291|     M|mobile|\n",
      "|0000305|     M|mobile|\n",
      "|0000524|     M|mobile|\n",
      "|0000536|     M|mobile|\n",
      "|0000662|     M|mobile|\n",
      "|0000749|     M|mobile|\n",
      "|0000780|     M|mobile|\n",
      "|0000812|     M|mobile|\n",
      "|0000823|     M|mobile|\n",
      "|0000898|     M|mobile|\n",
      "|0000918|     M|mobile|\n",
      "|0000943|     M|mobile|\n",
      "+-------+------+------+\n",
      "only showing top 20 rows\n",
      "\n",
      "+-------+------+------+\n",
      "|     ID|gender|   DVC|\n",
      "+-------+------+------+\n",
      "|0000014|     F|mobile|\n",
      "|0000056|     F|mobile|\n",
      "|0000058|     F|mobile|\n",
      "|0000059|     F|mobile|\n",
      "|0000063|     F|mobile|\n",
      "|0000064|     F|mobile|\n",
      "|0000068|     F|mobile|\n",
      "|0000071|     F|mobile|\n",
      "|0000078|     F|mobile|\n",
      "|0000089|     F|mobile|\n",
      "|0000104|     F|mobile|\n",
      "|0000106|     F|mobile|\n",
      "|0000114|     F|mobile|\n",
      "|0000121|     F|mobile|\n",
      "|0000129|     F|mobile|\n",
      "|0000148|     F|mobile|\n",
      "|0000156|     F|mobile|\n",
      "|0000159|     F|mobile|\n",
      "|0000178|     F|mobile|\n",
      "|0000200|     F|mobile|\n",
      "+-------+------+------+\n",
      "only showing top 20 rows\n",
      "\n"
     ]
    }
   ],
   "source": [
    "Man=spark.sql(\"\"\"select * from GD_inner where gender='M'\"\"\")\n",
    "Man.createOrReplaceTempView(\"Man\")\n",
    "Man.show()\n",
    "Woman=spark.sql(\"\"\"select * from GD_inner where gender='F'\"\"\")\n",
    "Woman.createOrReplaceTempView(\"Woman\")\n",
    "Woman.show()"
   ]
  },
  {
   "cell_type": "markdown",
   "metadata": {},
   "source": [
    "Man: 고객 성별 사용기기 테이블에서 남성만 추출한 테이블\n",
    "\n",
    "Woman: 고객 성별 사용기기 테이블에서 여성만 추출한 테이블"
   ]
  },
  {
   "cell_type": "markdown",
   "metadata": {},
   "source": [
    "### 성별: 남자 인 경우 사용기기 분포"
   ]
  },
  {
   "cell_type": "code",
   "execution_count": 59,
   "metadata": {},
   "outputs": [
    {
     "name": "stdout",
     "output_type": "stream",
     "text": [
      "+-------+-----------+\n",
      "|    DVC|M_DVC_count|\n",
      "+-------+-----------+\n",
      "|desktop|         88|\n",
      "| mobile|     100244|\n",
      "| tablet|        779|\n",
      "+-------+-----------+\n",
      "\n"
     ]
    }
   ],
   "source": [
    "Man_DVC=spark.sql(\"\"\"select DVC, count(DVC) as M_DVC_count from Man group by DVC\"\"\")\n",
    "Man_DVC.createOrReplaceTempView(\"Man_DVC\")\n",
    "Man_DVC.show()"
   ]
  },
  {
   "cell_type": "markdown",
   "metadata": {},
   "source": [
    "Man_DVC: 성별이 남자인 경우 기기별 사용량 테이블"
   ]
  },
  {
   "cell_type": "code",
   "execution_count": 60,
   "metadata": {},
   "outputs": [],
   "source": [
    "P_Man_DVC=Man_DVC.toPandas()\n",
    "P_Man_DVC.to_csv(\"Man_DVC.csv\",mode=\"w\")"
   ]
  },
  {
   "cell_type": "markdown",
   "metadata": {},
   "source": [
    "### 성별: 여자 인 경우 사용기기 분포"
   ]
  },
  {
   "cell_type": "code",
   "execution_count": 61,
   "metadata": {
    "scrolled": true
   },
   "outputs": [
    {
     "name": "stdout",
     "output_type": "stream",
     "text": [
      "+-------+-----------+\n",
      "|    DVC|F_DVC_count|\n",
      "+-------+-----------+\n",
      "|desktop|        127|\n",
      "| mobile|     567719|\n",
      "| tablet|       2897|\n",
      "+-------+-----------+\n",
      "\n"
     ]
    }
   ],
   "source": [
    "Woman_DVC=spark.sql(\"\"\"select DVC, count(DVC) as F_DVC_count from Woman group by DVC\"\"\")\n",
    "Woman_DVC.createOrReplaceTempView(\"Man_DVC\")\n",
    "Woman_DVC.show()"
   ]
  },
  {
   "cell_type": "markdown",
   "metadata": {},
   "source": [
    "Woman_DVC: 성별이 여자인 경우 기기별 사용량 테이블"
   ]
  },
  {
   "cell_type": "code",
   "execution_count": 62,
   "metadata": {},
   "outputs": [],
   "source": [
    "P_Woman_DVC=Man_DVC.toPandas()\n",
    "P_Woman_DVC.to_csv(\"Woman_DVC.csv\",mode=\"w\")"
   ]
  },
  {
   "cell_type": "markdown",
   "metadata": {},
   "source": [
    "### 데이터 시각화 및 교차표 생성을 위해 pandas 패키지 이용"
   ]
  },
  {
   "cell_type": "code",
   "execution_count": 63,
   "metadata": {},
   "outputs": [],
   "source": [
    "p_GD_inner=GD_inner.toPandas()"
   ]
  },
  {
   "cell_type": "code",
   "execution_count": 64,
   "metadata": {
    "scrolled": true
   },
   "outputs": [
    {
     "data": {
      "text/plain": [
       "pandas.core.frame.DataFrame"
      ]
     },
     "execution_count": 64,
     "metadata": {},
     "output_type": "execute_result"
    }
   ],
   "source": [
    "type(p_GD_inner)"
   ]
  },
  {
   "cell_type": "code",
   "execution_count": 65,
   "metadata": {
    "scrolled": true
   },
   "outputs": [
    {
     "data": {
      "text/html": [
       "<div>\n",
       "<style scoped>\n",
       "    .dataframe tbody tr th:only-of-type {\n",
       "        vertical-align: middle;\n",
       "    }\n",
       "\n",
       "    .dataframe tbody tr th {\n",
       "        vertical-align: top;\n",
       "    }\n",
       "\n",
       "    .dataframe thead th {\n",
       "        text-align: right;\n",
       "    }\n",
       "</style>\n",
       "<table border=\"1\" class=\"dataframe\">\n",
       "  <thead>\n",
       "    <tr style=\"text-align: right;\">\n",
       "      <th></th>\n",
       "      <th>ID</th>\n",
       "      <th>gender</th>\n",
       "      <th>DVC</th>\n",
       "    </tr>\n",
       "  </thead>\n",
       "  <tbody>\n",
       "    <tr>\n",
       "      <th>0</th>\n",
       "      <td>0000008</td>\n",
       "      <td>M</td>\n",
       "      <td>mobile</td>\n",
       "    </tr>\n",
       "    <tr>\n",
       "      <th>1</th>\n",
       "      <td>0000014</td>\n",
       "      <td>F</td>\n",
       "      <td>mobile</td>\n",
       "    </tr>\n",
       "    <tr>\n",
       "      <th>2</th>\n",
       "      <td>0000032</td>\n",
       "      <td>M</td>\n",
       "      <td>mobile</td>\n",
       "    </tr>\n",
       "    <tr>\n",
       "      <th>3</th>\n",
       "      <td>0000056</td>\n",
       "      <td>F</td>\n",
       "      <td>mobile</td>\n",
       "    </tr>\n",
       "    <tr>\n",
       "      <th>4</th>\n",
       "      <td>0000058</td>\n",
       "      <td>F</td>\n",
       "      <td>mobile</td>\n",
       "    </tr>\n",
       "  </tbody>\n",
       "</table>\n",
       "</div>"
      ],
      "text/plain": [
       "        ID gender     DVC\n",
       "0  0000008      M  mobile\n",
       "1  0000014      F  mobile\n",
       "2  0000032      M  mobile\n",
       "3  0000056      F  mobile\n",
       "4  0000058      F  mobile"
      ]
     },
     "execution_count": 65,
     "metadata": {},
     "output_type": "execute_result"
    }
   ],
   "source": [
    "p_GD_inner.head()"
   ]
  },
  {
   "cell_type": "markdown",
   "metadata": {},
   "source": [
    "### 성별 사용기기 교차표"
   ]
  },
  {
   "cell_type": "code",
   "execution_count": 68,
   "metadata": {},
   "outputs": [
    {
     "data": {
      "text/html": [
       "<div>\n",
       "<style scoped>\n",
       "    .dataframe tbody tr th:only-of-type {\n",
       "        vertical-align: middle;\n",
       "    }\n",
       "\n",
       "    .dataframe tbody tr th {\n",
       "        vertical-align: top;\n",
       "    }\n",
       "\n",
       "    .dataframe thead th {\n",
       "        text-align: right;\n",
       "    }\n",
       "</style>\n",
       "<table border=\"1\" class=\"dataframe\">\n",
       "  <thead>\n",
       "    <tr style=\"text-align: right;\">\n",
       "      <th>DVC</th>\n",
       "      <th>desktop</th>\n",
       "      <th>mobile</th>\n",
       "      <th>tablet</th>\n",
       "    </tr>\n",
       "    <tr>\n",
       "      <th>gender</th>\n",
       "      <th></th>\n",
       "      <th></th>\n",
       "      <th></th>\n",
       "    </tr>\n",
       "  </thead>\n",
       "  <tbody>\n",
       "    <tr>\n",
       "      <th>F</th>\n",
       "      <td>127</td>\n",
       "      <td>567719</td>\n",
       "      <td>2897</td>\n",
       "    </tr>\n",
       "    <tr>\n",
       "      <th>M</th>\n",
       "      <td>88</td>\n",
       "      <td>100244</td>\n",
       "      <td>779</td>\n",
       "    </tr>\n",
       "  </tbody>\n",
       "</table>\n",
       "</div>"
      ],
      "text/plain": [
       "DVC     desktop  mobile  tablet\n",
       "gender                         \n",
       "F           127  567719    2897\n",
       "M            88  100244     779"
      ]
     },
     "execution_count": 68,
     "metadata": {},
     "output_type": "execute_result"
    }
   ],
   "source": [
    "GENDER_DEVICE_CROSSTAB=pd.crosstab(p_GD_inner['gender'], p_GD_inner['DVC'])\n",
    "GENDER_DEVICE_CROSSTAB"
   ]
  },
  {
   "cell_type": "markdown",
   "metadata": {},
   "source": [
    "GENDER_DEVICE_CROSSTAB: 고객 성별정보와 고객별 사용기기정보가 든 테이블을 이용하여 성별 사용기기 교차표를 생성"
   ]
  },
  {
   "cell_type": "code",
   "execution_count": 69,
   "metadata": {},
   "outputs": [],
   "source": [
    "GENDER_DEVICE_CROSSTAB.to_csv(\"GENDER_DEVICE_CROSSTAB.csv\",mode=\"w\")"
   ]
  },
  {
   "cell_type": "markdown",
   "metadata": {},
   "source": [
    "# 연령별 분석"
   ]
  },
  {
   "cell_type": "markdown",
   "metadata": {},
   "source": [
    "### 고객 연령별 사용기기 정보를 분석하기 위해 Custom_Age 테이블과 Custom_DVC 테이블을 조인\n",
    "#### 성별 분석과 마찬가지로 Custom_DVC 테이블에는 있지만 Custom_Age 테이블에는 없는 고객 정보는 의미가 없으므로 제외하여 분석"
   ]
  },
  {
   "cell_type": "code",
   "execution_count": 70,
   "metadata": {},
   "outputs": [
    {
     "name": "stdout",
     "output_type": "stream",
     "text": [
      "+-------+---+------+\n",
      "|     ID|age|   DVC|\n",
      "+-------+---+------+\n",
      "|0000008| 20|mobile|\n",
      "|0000014| 30|mobile|\n",
      "|0000032| 40|mobile|\n",
      "|0000056| 40|mobile|\n",
      "|0000058| 30|mobile|\n",
      "|0000059| 40|mobile|\n",
      "|0000063| 40|mobile|\n",
      "|0000064| 40|mobile|\n",
      "|0000068| 30|mobile|\n",
      "|0000071| 40|mobile|\n",
      "|0000073| 40|mobile|\n",
      "|0000078| 30|mobile|\n",
      "|0000089| 30|mobile|\n",
      "|0000093| 40|mobile|\n",
      "|0000104| 40|mobile|\n",
      "|0000106| 40|mobile|\n",
      "|0000114| 20|mobile|\n",
      "|0000121| 30|mobile|\n",
      "|0000129| 30|mobile|\n",
      "|0000135| 40|mobile|\n",
      "+-------+---+------+\n",
      "only showing top 20 rows\n",
      "\n"
     ]
    }
   ],
   "source": [
    "Age_Device=spark.sql(\"\"\"select Custom_Age.ID,age,DVC from Custom_Age inner join Custom_DVC on Custom_Age.ID=Custom_DVC.ID\"\"\")\n",
    "Age_Device.createOrReplaceTempView('Age_Device')\n",
    "Age_Device.show()"
   ]
  },
  {
   "cell_type": "markdown",
   "metadata": {},
   "source": [
    "Age_Device: 고객 연령대별 사용기기를 추출한 테이블"
   ]
  },
  {
   "cell_type": "markdown",
   "metadata": {},
   "source": [
    "### 연령별 사용기기 교차표"
   ]
  },
  {
   "cell_type": "code",
   "execution_count": 72,
   "metadata": {},
   "outputs": [],
   "source": [
    "P_Age_Device=Age_Device.toPandas()"
   ]
  },
  {
   "cell_type": "code",
   "execution_count": 73,
   "metadata": {
    "scrolled": true
   },
   "outputs": [],
   "source": [
    "AGE_DEVICE_CROSSTAB=pd.crosstab(P_Age_Device['age'],P_Age_Device['DVC'])"
   ]
  },
  {
   "cell_type": "markdown",
   "metadata": {},
   "source": [
    "AGE_DEVICE_CROSSTAB: 고객 연령대 정보와 고객별 사용기기정보가 든 테이블을 이용하여 연령대별 사용기기 교차표를 생성"
   ]
  },
  {
   "cell_type": "code",
   "execution_count": 74,
   "metadata": {},
   "outputs": [],
   "source": [
    "AGE_DEVICE_CROSSTAB.to_csv(\"AGE_DEVICE_CROSSTAB.csv\",mode=\"w\")"
   ]
  },
  {
   "cell_type": "code",
   "execution_count": null,
   "metadata": {},
   "outputs": [],
   "source": []
  }
 ],
 "metadata": {
  "kernelspec": {
   "display_name": "Python 3",
   "language": "python",
   "name": "python3"
  },
  "language_info": {
   "codemirror_mode": {
    "name": "ipython",
    "version": 3
   },
   "file_extension": ".py",
   "mimetype": "text/x-python",
   "name": "python",
   "nbconvert_exporter": "python",
   "pygments_lexer": "ipython3",
   "version": "3.7.1"
  }
 },
 "nbformat": 4,
 "nbformat_minor": 2
}
