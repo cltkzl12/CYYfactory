{
 "cells": [
  {
   "cell_type": "markdown",
   "metadata": {},
   "source": [
    "# 과제1"
   ]
  },
  {
   "cell_type": "code",
   "execution_count": 25,
   "metadata": {},
   "outputs": [
    {
     "name": "stdout",
     "output_type": "stream",
     "text": [
      "13는 소수입니다.\n",
      "15는 소수가 아닙니다\n"
     ]
    }
   ],
   "source": [
    "def check_prime(num):\n",
    "    cnt=0\n",
    "    for i in range(2,num):\n",
    "        if(num%i==0):\n",
    "            cnt+=1\n",
    "        else:\n",
    "            pass\n",
    "    if(cnt==0): return True\n",
    "    else : return False\n",
    "    \n",
    "    \n",
    "def main():\n",
    "    a=13\n",
    "    b=15\n",
    "    if check_prime(a):\n",
    "        print(str(a)+'는 소수입니다.')\n",
    "    else:\n",
    "        print(str(a)+'는 소수가 아닙니다')\n",
    "        \n",
    "    if check_prime(b):\n",
    "        print(str(b)+'는 소수입니다.')\n",
    "    else:\n",
    "        print(str(b)+'는 소수가 아닙니다')\n",
    "main()"
   ]
  },
  {
   "cell_type": "markdown",
   "metadata": {},
   "source": [
    "# 과제2"
   ]
  },
  {
   "cell_type": "code",
   "execution_count": 62,
   "metadata": {},
   "outputs": [
    {
     "name": "stdout",
     "output_type": "stream",
     "text": [
      "1,234\n",
      "12,345,678\n",
      "12\n"
     ]
    }
   ],
   "source": [
    "def add_comma(val):\n",
    "    str_val = str(val)\n",
    "    re_str=''\n",
    "    for i in str_val:\n",
    "        re_str =i+re_str\n",
    "    \n",
    "    cnt=0\n",
    "    tmp=''\n",
    "    for i in re_str:\n",
    "        if(cnt==3):\n",
    "            tmp=i+','+tmp\n",
    "            cnt=0\n",
    "        else: tmp=i+tmp\n",
    "        cnt+=1\n",
    "        \n",
    "    return tmp\n",
    "\n",
    "\n",
    "def main():\n",
    "    comma_added_1234 = add_comma(1234)\n",
    "    comma_added_12345678 = add_comma(12345678)\n",
    "    comma_added_12 = add_comma(12)\n",
    "    print(comma_added_1234) # ‘1,234’\n",
    "    print(comma_added_12345678) # ‘12,345,678’\n",
    "    print(comma_added_12) # ‘12’\n",
    "    \n",
    "    \n",
    "main()"
   ]
  },
  {
   "cell_type": "markdown",
   "metadata": {},
   "source": [
    "# 과제 3"
   ]
  },
  {
   "cell_type": "code",
   "execution_count": 39,
   "metadata": {
    "scrolled": true
   },
   "outputs": [
    {
     "name": "stdout",
     "output_type": "stream",
     "text": [
      "['There was a', 'was a farmer', 'a farmer who', 'farmer who had', 'who had a', 'had a dog', 'a dog .']\n"
     ]
    }
   ],
   "source": [
    "def tokenize(trg, N=1):\n",
    "    token_list=[]\n",
    "    trg_spl= trg.split(' ')\n",
    "    tmp=''\n",
    "    cnt=0\n",
    "    \n",
    "    for i in range(len(trg_spl)-N+1):\n",
    "        cnt=i\n",
    "        for j in range(N):\n",
    "            tmp += trg_spl[cnt] + ' '\n",
    "            cnt+=1\n",
    "        \n",
    "        token_list.append(tmp.strip())\n",
    "        tmp=''\n",
    "    \n",
    "    return token_list    \n",
    "        \n",
    "    \n",
    "    \n",
    "    \n",
    "def main():\n",
    "    a=\"There was a farmer who had a dog .\"\n",
    "    print(tokenize(a,3))\n",
    "main()"
   ]
  },
  {
   "cell_type": "markdown",
   "metadata": {},
   "source": [
    "# 과제 4"
   ]
  },
  {
   "cell_type": "code",
   "execution_count": 20,
   "metadata": {},
   "outputs": [
    {
     "name": "stdout",
     "output_type": "stream",
     "text": [
      "평균:  [0.5, 0.5, 3.0] 분산: [0.16666666666666666, 0.16666666666666666, 0.6666666666666666]\n"
     ]
    }
   ],
   "source": [
    "def mean_and_var(*val):\n",
    "\n",
    "    sum_list=[0 for _ in range(len(val[0]))]\n",
    "    mean_list = [0 for _ in range(len(val[0]))]\n",
    "    var_list = [0 for _ in range(len(val[0]))]\n",
    "    \n",
    "    \n",
    "    for i in range(len(val)):\n",
    "        for j in range(len(val[i])):\n",
    "            sum_list[j]+=val[i][j]\n",
    "         \n",
    "    for i in range(len(sum_list)):\n",
    "        mean_list[i]=sum_list[i]/len(val)\n",
    "\n",
    "    for i in range(len(val)):\n",
    "        for j in range(len(var_list)):\n",
    "            var_list[j] += (val[i][j]- mean_list[j])**2\n",
    "    \n",
    "    for i in range(len(var_list)):\n",
    "        var_list[i] /=len(val)\n",
    "    \n",
    "    return mean_list , var_list\n",
    "    \n",
    "v1=(0, 1)\n",
    "v2=(0.5, 0.5)\n",
    "v3=(1, 0)\n",
    "\n",
    "def main():\n",
    "    v1=(0, 1,2)\n",
    "    v2=(0.5, 0.5,3)\n",
    "    v3=(1, 0,4)\n",
    "    m,val = mean_and_var(v1, v2, v3)\n",
    "    print('평균: ', m, '분산:',val)\n",
    "    \n",
    "main()\n",
    "\n",
    "\n",
    "    "
   ]
  },
  {
   "cell_type": "markdown",
   "metadata": {},
   "source": [
    "# 과제 5"
   ]
  },
  {
   "cell_type": "code",
   "execution_count": 20,
   "metadata": {},
   "outputs": [],
   "source": [
    "class Set:\n",
    "    def __init__(self, member=[]):\n",
    "\n",
    "        self.member=member\n",
    "            \n",
    "    def append(self, a):\n",
    "        if a not in self.member:\n",
    "            self.member.append(a)\n",
    "        \n",
    "    def delete(self, a):\n",
    "        if a in self.member:\n",
    "            self.member.remove(a)\n",
    "   \n",
    "    def union(self, s2):\n",
    "        tmp_Set= Set([x for x in self.member])\n",
    "        for i in s2.member:\n",
    "            if i not in self.member:\n",
    "                tmp_Set.append(i)\n",
    "        return tmp_Set\n",
    "        \n",
    "    def intersection(self, s2): #1,2,3,4      3,4,5,6\n",
    "        tmp_Set= Set([x for x in self.member])\n",
    "        for i in self.member:\n",
    "            if i not in s2.member:\n",
    "                tmp_Set.delete(i)\n",
    "        return tmp_Set\n",
    "   \n",
    "    def difference(self, s2):\n",
    "        tmp_Set= Set([x for x in self.member])\n",
    "        for i in self.member:\n",
    "            if i in s2.member:\n",
    "                tmp_Set.delete(i)\n",
    "        return tmp_Set\n",
    "    \n",
    "    def __add__(self, another):\n",
    "        new_Set = Set(member=self.member+another.member)\n",
    "        return new_Set\n",
    "    \n",
    "    def __sub__(self, another):\n",
    "        tmp_Set= Set([x for x in self.member])\n",
    "        for i in self.member:\n",
    "            if i in another.member:\n",
    "                tmp_Set.delete(i)\n",
    "        return tmp_Set\n",
    "        \n",
    "    def __truediv__(self, another):\n",
    "        \n",
    "        tmp_Set= Set([x for x in self.member])\n",
    "        for i in self.member:\n",
    "            if i not in another.member:\n",
    "                tmp_Set.delete(i)\n",
    "        \n",
    "        return tmp_Set\n",
    "    \n",
    "    \n",
    "    \n",
    "    def __repr__(self):\n",
    "        string=''\n",
    "        for i in self.member:\n",
    "            string+=str(i)+' '\n",
    "        return string.strip()\n",
    "    \n",
    "    "
   ]
  },
  {
   "cell_type": "code",
   "execution_count": 21,
   "metadata": {},
   "outputs": [
    {
     "name": "stdout",
     "output_type": "stream",
     "text": [
      "1\n",
      "2 3\n",
      "1 2 3 2 3 4\n",
      "1\n",
      "2 3\n"
     ]
    }
   ],
   "source": [
    "a = Set([1, 2, 3])\n",
    "b = Set([2, 3, 4])\n",
    "\n",
    "f = a.union(b)\n",
    "# f\n",
    "g = a.difference(b)\n",
    "print(g)\n",
    "h = a.intersection(b)\n",
    "print(h)\n",
    "\n",
    "c = a + b\n",
    "print(c)\n",
    "d = a - b\n",
    "print(d)\n",
    "e = a / b\n",
    "print(e)"
   ]
  },
  {
   "cell_type": "markdown",
   "metadata": {},
   "source": [
    "# 과제6"
   ]
  },
  {
   "cell_type": "code",
   "execution_count": 16,
   "metadata": {},
   "outputs": [],
   "source": [
    "class Person:\n",
    "    def __init__(self,name='', age=0, department=''):\n",
    "        self.name=name\n",
    "        self.age=age\n",
    "        self.department=department\n",
    "    def get_name(self):\n",
    "        return self.name;\n",
    "    \n",
    "    \n",
    "class Student(Person):\n",
    "    def __init__(self,name,age,department,ID=0,GPA=0,advisor=''):\n",
    "        Person.__init__(self, name=name, department=department,age=age)\n",
    "        self.ID=ID\n",
    "        self.GPA=GPA\n",
    "        self.advisor=advisor\n",
    "        \n",
    "    def print_info(self):\n",
    "        print(\"제 이름은\",self.name,',나이는',self.age,',학과는',self.department\n",
    "              ,', 지도교수님은',self.advisor,'입니다.')\n",
    "    def reg_advisor(self, pro):\n",
    "        self.advosor=pro\n",
    "        \n",
    "\n",
    "class Professor(Person):\n",
    "    def __init__(self,name,age,department,position,laboratory,student=[]):\n",
    "        Person.__init__(self,name=name,department=department, age=age)\n",
    "        self.position = position\n",
    "        self.laboratory=laboratory\n",
    "        self.student=student\n",
    "        \n",
    "    def print_info(self):\n",
    "        a=','.join(self.student)\n",
    "        print(\"제 이름은\",self.name,',나이는',self.age,',학과는',self.department\n",
    "              ,', 지도학생은',a,'입니다.')\n",
    "    def reg_student(self, stu):\n",
    "        self.student.append(stu.name)\n",
    "\n",
    "        "
   ]
  },
  {
   "cell_type": "code",
   "execution_count": 19,
   "metadata": {},
   "outputs": [
    {
     "name": "stdout",
     "output_type": "stream",
     "text": [
      "제 이름은 Kim ,나이는 30 ,학과는 Computer , 지도교수님은  입니다.\n",
      "제 이름은 Lee ,나이는 22 ,학과는 Computer , 지도교수님은  입니다.\n",
      "제 이름은 Lee ,나이는 55 ,학과는 Computer , 지도학생은 Kim,Lee 입니다.\n"
     ]
    }
   ],
   "source": [
    "stu1 = Student('Kim', 30, 'Computer',\n",
    "20001234, 4.5)\n",
    "stu2 = Student('Lee', 22, 'Computer',\n",
    "20101234, 0.5)\n",
    "prof1 = Professor('Lee', 55, 'Computer',\n",
    "'Full', 'KLE')\n",
    "stu1.reg_advisor(prof1)\n",
    "stu2.reg_advisor(prof1)\n",
    "prof1.reg_student(stu1)\n",
    "prof1.reg_student(stu2)\n",
    "stu1.print_info()\n",
    "stu2.print_info()\n",
    "prof1.print_info()"
   ]
  },
  {
   "cell_type": "code",
   "execution_count": null,
   "metadata": {},
   "outputs": [],
   "source": []
  }
 ],
 "metadata": {
  "kernelspec": {
   "display_name": "Python 3",
   "language": "python",
   "name": "python3"
  },
  "language_info": {
   "codemirror_mode": {
    "name": "ipython",
    "version": 3
   },
   "file_extension": ".py",
   "mimetype": "text/x-python",
   "name": "python",
   "nbconvert_exporter": "python",
   "pygments_lexer": "ipython3",
   "version": "3.7.4"
  }
 },
 "nbformat": 4,
 "nbformat_minor": 2
}
