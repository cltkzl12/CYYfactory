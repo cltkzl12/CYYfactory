{
 "cells": [
  {
   "cell_type": "markdown",
   "metadata": {},
   "source": [
    "# 최영용 2020.01.15 "
   ]
  },
  {
   "cell_type": "markdown",
   "metadata": {},
   "source": [
    "# 1. 딕셔너리(dict)\n",
    "중괄호{ }로 묶여 있으며, key와 value의 쌍으로 이루어짐. d = {key1:value1, key2:value2}\n",
    "\n",
    "실습1) for 문을 사용하여 딕셔너리 타입의 d의 모든 value를 출력해 보시오. "
   ]
  },
  {
   "cell_type": "code",
   "execution_count": 19,
   "metadata": {},
   "outputs": [
    {
     "name": "stdout",
     "output_type": "stream",
     "text": [
      "1 2 10 "
     ]
    }
   ],
   "source": [
    "d={'youn':1 , 'park':2,'kim':10}\n",
    "for i in d.values():\n",
    "    print(i, end=' ')"
   ]
  },
  {
   "cell_type": "markdown",
   "metadata": {},
   "source": [
    "# 실습2) 아래와 같은 딕셔너리가 있다. \n",
    "{'one':1, 'two':2, 'three':3, 'four':4, 'five':5} \n",
    "key의 알파벳을 기준으로 순서대로 아래와 같이 (key, value)로 출력하시오."
   ]
  },
  {
   "cell_type": "code",
   "execution_count": 6,
   "metadata": {},
   "outputs": [
    {
     "name": "stdout",
     "output_type": "stream",
     "text": [
      "five 5\n",
      "four 4\n",
      "one 1\n",
      "three 3\n",
      "two 2\n",
      "one\n",
      "two\n",
      "three\n",
      "four\n",
      "five\n"
     ]
    }
   ],
   "source": [
    "d={}\n",
    "d['one']=1\n",
    "d['two']=2\n",
    "d['three']=3\n",
    "d['four']=4\n",
    "d['five']=5\n",
    "\n",
    "for i,j in sorted(d.items()):\n",
    "    print(i,j)\n",
    "\n",
    "for i in d.keys():\n",
    "    print(i)\n",
    "    \n",
    "\n"
   ]
  },
  {
   "cell_type": "markdown",
   "metadata": {},
   "source": [
    "# 실습3) – PPT 문제\n",
    "어떤 문장을 입력 받으면 해당 문장에서 각 알파벳이 몇 개씩 나오는지 저장하는 딕셔너리를 만든 후, 아래와 같이 출력하시오."
   ]
  },
  {
   "cell_type": "code",
   "execution_count": 1,
   "metadata": {},
   "outputs": [
    {
     "name": "stdout",
     "output_type": "stream",
     "text": [
      "Enter a sentence: python is fun!\n"
     ]
    },
    {
     "data": {
      "text/plain": [
       "{'p': 1,\n",
       " 'y': 1,\n",
       " 't': 1,\n",
       " 'h': 1,\n",
       " 'o': 1,\n",
       " 'n': 2,\n",
       " ' ': 2,\n",
       " 'i': 1,\n",
       " 's': 1,\n",
       " 'f': 1,\n",
       " 'u': 1,\n",
       " '!': 1}"
      ]
     },
     "execution_count": 1,
     "metadata": {},
     "output_type": "execute_result"
    }
   ],
   "source": [
    "b=dict()\n",
    "tmp = input(\"Enter a sentence: \")\n",
    "for i in tmp:\n",
    "    if(i in b):\n",
    "            pass\n",
    "    else: b[i]=0\n",
    "    b[i]+=1\n",
    "\n",
    "b"
   ]
  },
  {
   "cell_type": "markdown",
   "metadata": {},
   "source": [
    "# 실습1) – PPT 자료\n",
    "파일에 있는 각각의 단어 수 구하기\n",
    "<test.txt>"
   ]
  },
  {
   "cell_type": "code",
   "execution_count": 8,
   "metadata": {},
   "outputs": [
    {
     "name": "stdout",
     "output_type": "stream",
     "text": [
      "{'first': 1, 'line': 3, 'second': 1, 'third': 1}\n"
     ]
    }
   ],
   "source": [
    "f= open(\"test.txt\",'r')\n",
    "d=dict()\n",
    "\n",
    "\n",
    "for line in f:\n",
    "    a= line.strip().split(' ')\n",
    "    for i in a:\n",
    "        if(i in d):\n",
    "                pass\n",
    "        else: d[i]=0\n",
    "        d[i]+=1\n",
    "print(d)"
   ]
  },
  {
   "cell_type": "markdown",
   "metadata": {},
   "source": [
    "# 실습2) – PPT 자료\n",
    "파일명을 입력 받아, 해당 파일을 한 줄씩 읽어 파일의 내용을 모두 대문자로 출력하는 프로그램을 작성하시오."
   ]
  },
  {
   "cell_type": "code",
   "execution_count": 10,
   "metadata": {},
   "outputs": [
    {
     "name": "stdout",
     "output_type": "stream",
     "text": [
      "Enter a file name: test.txt\n",
      "FIRST LINE\n",
      "SECOND LINE\n",
      "THIRD LINE\n"
     ]
    }
   ],
   "source": [
    "tmp = input('Enter a file name: ')\n",
    "f=open(tmp,'r')    for k,v in tmp.items():\n",
    "        stu_id_list.append(k)\n",
    "        grade_list.append(v[4])\n",
    "\n",
    "for line in f:\n",
    "    a=line.strip()\n",
    "    print(a.upper())\n",
    "    "
   ]
  },
  {
   "cell_type": "markdown",
   "metadata": {},
   "source": [
    "# 실습3) \n",
    "아래의 실행예시처럼 리눅스 쉘에서 원본파일명(src.txt)과 사본파일(dst.txt)을 입력 받아, 복사하는프로그램을 작성하시오. "
   ]
  },
  {
   "cell_type": "code",
   "execution_count": 12,
   "metadata": {},
   "outputs": [
    {
     "ename": "FileNotFoundError",
     "evalue": "[Errno 2] No such file or directory: '-f'",
     "output_type": "error",
     "traceback": [
      "\u001b[0;31m---------------------------------------------------------------------------\u001b[0m",
      "\u001b[0;31mFileNotFoundError\u001b[0m                         Traceback (most recent call last)",
      "\u001b[0;32m<ipython-input-12-c08312f1c120>\u001b[0m in \u001b[0;36m<module>\u001b[0;34m\u001b[0m\n\u001b[1;32m      4\u001b[0m \u001b[0ma\u001b[0m\u001b[0;34m=\u001b[0m\u001b[0;34m[\u001b[0m\u001b[0;34m]\u001b[0m\u001b[0;34m\u001b[0m\u001b[0;34m\u001b[0m\u001b[0m\n\u001b[1;32m      5\u001b[0m \u001b[0;34m\u001b[0m\u001b[0m\n\u001b[0;32m----> 6\u001b[0;31m \u001b[0mf\u001b[0m\u001b[0;34m=\u001b[0m\u001b[0mopen\u001b[0m\u001b[0;34m(\u001b[0m\u001b[0mtmp\u001b[0m\u001b[0;34m[\u001b[0m\u001b[0;36m0\u001b[0m\u001b[0;34m]\u001b[0m\u001b[0;34m,\u001b[0m\u001b[0;34m'r'\u001b[0m\u001b[0;34m)\u001b[0m\u001b[0;34m\u001b[0m\u001b[0;34m\u001b[0m\u001b[0m\n\u001b[0m\u001b[1;32m      7\u001b[0m \u001b[0;32mfor\u001b[0m \u001b[0mline\u001b[0m \u001b[0;32min\u001b[0m \u001b[0mf\u001b[0m\u001b[0;34m:\u001b[0m\u001b[0;34m\u001b[0m\u001b[0;34m\u001b[0m\u001b[0m\n\u001b[1;32m      8\u001b[0m     \u001b[0ma\u001b[0m\u001b[0;34m.\u001b[0m\u001b[0mappend\u001b[0m\u001b[0;34m(\u001b[0m\u001b[0mline\u001b[0m\u001b[0;34m)\u001b[0m\u001b[0;34m\u001b[0m\u001b[0;34m\u001b[0m\u001b[0m\n",
      "\u001b[0;31mFileNotFoundError\u001b[0m: [Errno 2] No such file or directory: '-f'"
     ]
    }
   ],
   "source": [
    "import sys\n",
    "\n",
    "tmp = sys.argv[1:]\n",
    "a=[]\n",
    "\n",
    "f=open(tmp[0],'r')\n",
    "for line in f:\n",
    "    a.append(line)\n",
    "f.close()\n",
    "\n",
    "f=open(tmp[1],'w')\n",
    "\n",
    "for i in a:\n",
    "    data= i\n",
    "    f.write(data)\n",
    "f.close()\n",
    "    "
   ]
  },
  {
   "cell_type": "markdown",
   "metadata": {},
   "source": [
    "# 실습4) \n",
    "아래의 score.txt를 읽어서 학생들의 성적을 처리하여 그 결과를 report.txt로 출력하는 프로그램을 작성하시오."
   ]
  },
  {
   "cell_type": "code",
   "execution_count": 38,
   "metadata": {
    "scrolled": true
   },
   "outputs": [],
   "source": [
    "orgin=[]\n",
    "tmp=[]\n",
    "f= open('score.txt','r')\n",
    "for line in f:\n",
    "    a= line.strip().split(' ')\n",
    "    orgin.append(a)\n",
    "    total = (float(a[1])*0.4)+(float(a[2])*0.6)\n",
    "    if(total>=90):\n",
    "        tmp.append(str(total)+'(A)')\n",
    "    elif(total>=80):\n",
    "        tmp.append(str(total)+'(B)')\n",
    "    elif(total>=70):\n",
    "        tmp.append(str(total)+'(C)')\n",
    "    elif(total>=60):\n",
    "        tmp.append(str(total)+'(D)')\n",
    "    elif(total<60):\n",
    "        tmp.append(str(total)+'(F)')\n",
    "f.close()\n",
    "\n",
    "\n",
    "f=open('report.txt','w')\n",
    "for i in range(len(tmp)):\n",
    "    orgin[i].extend([tmp[i]+\"\\n\"])\n",
    "    f.write(\" \".join(orgin[i]))\n",
    "f.close()\n",
    "    \n",
    "       \n"
   ]
  },
  {
   "cell_type": "code",
   "execution_count": null,
   "metadata": {},
   "outputs": [],
   "source": []
  }
 ],
 "metadata": {
  "kernelspec": {
   "display_name": "Python 3",
   "language": "python",
   "name": "python3"
  },
  "language_info": {
   "codemirror_mode": {
    "name": "ipython",
    "version": 3
   },
   "file_extension": ".py",
   "mimetype": "text/x-python",
   "name": "python",
   "nbconvert_exporter": "python",
   "pygments_lexer": "ipython3",
   "version": "3.7.4"
  }
 },
 "nbformat": 4,
 "nbformat_minor": 2
}
