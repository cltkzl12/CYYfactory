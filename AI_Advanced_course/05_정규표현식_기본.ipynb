{
 "cells": [
  {
   "cell_type": "markdown",
   "metadata": {},
   "source": [
    "## 파이썬 정규 표현식(Regular Expressions)\n",
    "https://devanix.tistory.com/296\n",
    "\n",
    ": 복한 문자열 패턴을 검색하고, 추출하고, 대치하는 규칙을 정의하는 문자열,\n",
    "파이썬에서는 re 모듈이 제공된다\n",
    "\n",
    "### (1) 반복 관련 메타 문자 : *, +, ?, {m}, {m,n} \n",
    "#### (메타 문자란 원래 그 문자가 가진 뜻이 아닌 특별한 용도로 사용하는 문자를 말한다.)\n",
    "- *는 반복을 나타내는 메타문자로써, 해당 메타문자 앞의 글자가 0번이상 반복되는 모든 문자열과 매치됩니다.\n",
    "- +는 *과 같은 반복을 나타내는 메타문자, *는 다르게 앞의 글자가 0번을 제외한, 1번이상 반복되는 모든 문자열과 매치됩니다.\n",
    "- ? 는 앞의 문자가 0~1번 반복되는 모든 문자열과 매치됩니다.\n",
    "- {m}는  반복횟수를 m으로 정할 수 있습니다. 앞의 문자가 m번 이상  반복되는 모든 문자열과 매치 됩니다.\n",
    "- {m,n}는  반복횟수를 m과 n으로 정할 수 있습니다. 앞의 문자가 m번 이상 n번이하 반복되는 모든 문자열과 매치 됩니다.\n",
    "\n",
    "\n",
    "### (2) 매칭 관련 메타 문자\n",
    "- .(Dot) 은 줄바꿈 문자인 \\n을 제외한 모든 하나의 문자와 매치되는 것을 의미합니다.\n",
    "- ^는 문자열의 맨처음을 의미하는 메타문자, 메타 문자 [] 내부에서는 반대, 즉 not의 의미로 사용되므로 혼동되지 않도록 주의하세요. 정규식으로 찾고자 하는 문자열의 앞에 입력합니다.\n",
    "\n",
    "- \\\\$ 는 '^'와 반대로 문자열의 맨 마지막을 의미하는 메타문자 입니다. '^'와는 다르게 매치할 문자열의 뒤에 입력합니다.  메타 문자 [ ] 내부에서는 순수하게 $ 문자를 의미합니다\n",
    "\n",
    "- [] 는 문자 클래스(집합)을 나타낸다, [abc]는 a,b,c중 한 문자를 의미한다, []으로 둘러싼 내부의 문자열과 매치시킨다\n",
    "- | 는 a|b 와 같은 형식으로 사용되며 a 또는 b와 매치되는 문자열을 반환합니다.\n",
    "- ( )는 정규식을 그룹으로 묶는다"
   ]
  },
  {
   "cell_type": "markdown",
   "metadata": {},
   "source": [
    "###  문자열 매칭하기"
   ]
  },
  {
   "cell_type": "code",
   "execution_count": 6,
   "metadata": {},
   "outputs": [
    {
     "data": {
      "text/plain": [
       "<re.Match object; span=(0, 1), match='1'>"
      ]
     },
     "execution_count": 6,
     "metadata": {},
     "output_type": "execute_result"
    }
   ],
   "source": [
    "import re\n",
    "re.match('[0-9]','1234')  # 정수 0에서 9까지의 문자열과 문자열 '1234'을 매칭 시킨다, '1' 과 매칭됨"
   ]
  },
  {
   "cell_type": "code",
   "execution_count": 7,
   "metadata": {},
   "outputs": [
    {
     "name": "stdout",
     "output_type": "stream",
     "text": [
      "None\n"
     ]
    }
   ],
   "source": [
    "m = re.match('[0-9]','abc')  # 정수 0에서 9까지의 문자열과 문자열 'abc'을 매칭 시킨다,실패\n",
    "print(m)"
   ]
  },
  {
   "cell_type": "code",
   "execution_count": 9,
   "metadata": {},
   "outputs": [
    {
     "data": {
      "text/plain": [
       "'1'"
      ]
     },
     "execution_count": 9,
     "metadata": {},
     "output_type": "execute_result"
    }
   ],
   "source": [
    "# group() 메서드 : 매칭된 문자열을 반환한다\n",
    "m = re.match('[0-9]','1234') \n",
    "m.group()"
   ]
  },
  {
   "cell_type": "code",
   "execution_count": 20,
   "metadata": {},
   "outputs": [
    {
     "name": "stdout",
     "output_type": "stream",
     "text": [
      "1234\n"
     ]
    },
    {
     "data": {
      "text/plain": [
       "<re.Match object; span=(0, 4), match='1234'>"
      ]
     },
     "execution_count": 20,
     "metadata": {},
     "output_type": "execute_result"
    }
   ],
   "source": [
    "m = re.match('[0-9]+','1234') # 숫자가 1회 이상 발생하는 것과 매칭한다,[0-9]+는 0~9사이의 수가 여러번 반복허용\n",
    "print(m.group())\n",
    "m"
   ]
  },
  {
   "cell_type": "code",
   "execution_count": 33,
   "metadata": {},
   "outputs": [
    {
     "data": {
      "text/plain": [
       "'1234'"
      ]
     },
     "execution_count": 33,
     "metadata": {},
     "output_type": "execute_result"
    }
   ],
   "source": [
    "m = re.match('[0-9]+','1234 ') # 뒤에 공백이 온 경우도 매칭한다\n",
    "m.group()"
   ]
  },
  {
   "cell_type": "code",
   "execution_count": 31,
   "metadata": {},
   "outputs": [
    {
     "name": "stdout",
     "output_type": "stream",
     "text": [
      "<re.Match object; span=(0, 4), match='1234'>\n",
      "1234\n",
      "1234\n"
     ]
    }
   ],
   "source": [
    "print(m)\n",
    "print(m.group(0))\n",
    "print(m.group())"
   ]
  },
  {
   "cell_type": "markdown",
   "metadata": {},
   "source": [
    "###  특수문자\n",
    "- \\d - 숫자와 매치, [0-9]와 동일한 표현식이다.\n",
    "- \\D - 숫자가 아닌 것과 매치, [^0-9]와 동일한 표현식이다.\n",
    "- \\s - whitespace 문자와 매치, [ \\t\\n\\r\\f\\v]와 동일한 표현식이다. 맨 앞의 빈 칸은 공백문자(space)를 의미한다.\n",
    "- \\S - whitespace 문자가 아닌 것과 매치, [^ \\t\\n\\r\\f\\v]와 동일한 표현식이다.\n",
    "- \\w - 문자+숫자(alphanumeric)와 매치, [a-zA-Z0-9_]와 동일한 표현식이다.\n",
    "- \\W - 문자+숫자(alphanumeric)가 아닌 문자와 매치, [^a-zA-Z0-9_]와 동일한 표현식이다.\n",
    "- \\b - 단어의 경계를 표현한다, 단어는 영문자나 숫자의 연속 문자열로 가정한다\n",
    "- \\B - \\b와 반대로 단어의 경계가 아님을 표현한다"
   ]
  },
  {
   "cell_type": "code",
   "execution_count": 49,
   "metadata": {},
   "outputs": [
    {
     "data": {
      "text/plain": [
       "' 1234'"
      ]
     },
     "execution_count": 49,
     "metadata": {},
     "output_type": "execute_result"
    }
   ],
   "source": [
    "# \\s - whitespace 문자와 매치, [ \\t\\n\\r\\f\\v]와 동일한 표현식이다. 맨 앞의 빈 칸은 공백문자(space)를 의미한다.\n",
    "m = re.match('\\s[0-9]+',' 1234')  # 앞에 공백이 온 경우 , 매칭됨\n",
    "m.group() "
   ]
  },
  {
   "cell_type": "code",
   "execution_count": 50,
   "metadata": {},
   "outputs": [
    {
     "name": "stdout",
     "output_type": "stream",
     "text": [
      " 1234\n",
      " 1234\n"
     ]
    }
   ],
   "source": [
    "# 그룹 : ( )\n",
    "m = re.match('\\s*([0-9]+)',' 1234') \n",
    "print(m.group())\n",
    "print(m.group(0))"
   ]
  },
  {
   "cell_type": "code",
   "execution_count": 46,
   "metadata": {},
   "outputs": [
    {
     "data": {
      "text/plain": [
       "'1234'"
      ]
     },
     "execution_count": 46,
     "metadata": {},
     "output_type": "execute_result"
    }
   ],
   "source": [
    "m.group(1)"
   ]
  },
  {
   "cell_type": "code",
   "execution_count": 51,
   "metadata": {},
   "outputs": [
    {
     "name": "stdout",
     "output_type": "stream",
     "text": [
      " 1234\n"
     ]
    }
   ],
   "source": [
    "# d - 숫자와 매치, [0-9]와 동일한 표현식\n",
    "m = re.match('\\s*(\\d+)',' 1234') \n",
    "print(m.group())"
   ]
  },
  {
   "cell_type": "markdown",
   "metadata": {},
   "source": [
    "#### match()와 search() 함수의 차이\n",
    "- match() 함수는 문자열이 시작부터 일치하는지 검사\n",
    "- search() 함수는 부분적으로 일치하는 문자열이 있는지를 검사"
   ]
  },
  {
   "cell_type": "code",
   "execution_count": 59,
   "metadata": {},
   "outputs": [
    {
     "name": "stdout",
     "output_type": "stream",
     "text": [
      "<class 're.Match'>\n"
     ]
    },
    {
     "data": {
      "text/plain": [
       "'1234'"
      ]
     },
     "execution_count": 59,
     "metadata": {},
     "output_type": "execute_result"
    }
   ],
   "source": [
    "m = re.search('\\d+', ' 1234 ')\n",
    "print(type(m))\n",
    "m.group()"
   ]
  },
  {
   "cell_type": "code",
   "execution_count": 62,
   "metadata": {},
   "outputs": [
    {
     "data": {
      "text/plain": [
       "'1234'"
      ]
     },
     "execution_count": 62,
     "metadata": {},
     "output_type": "execute_result"
    }
   ],
   "source": [
    "m = re.search('\\d+', ' -1234a ')\n",
    "m.group()"
   ]
  },
  {
   "cell_type": "code",
   "execution_count": 68,
   "metadata": {},
   "outputs": [],
   "source": [
    "re.search('\\s\\d+\\s', ' 1234a ')  # 실패"
   ]
  },
  {
   "cell_type": "code",
   "execution_count": 69,
   "metadata": {},
   "outputs": [
    {
     "data": {
      "text/plain": [
       "<re.Match object; span=(0, 6), match=' 1234 '>"
      ]
     },
     "execution_count": 69,
     "metadata": {},
     "output_type": "execute_result"
    }
   ],
   "source": [
    "re.search('\\s\\d+\\s', ' 1234 a ')  # 성공"
   ]
  },
  {
   "cell_type": "code",
   "execution_count": 71,
   "metadata": {},
   "outputs": [
    {
     "data": {
      "text/plain": [
       "'1234'"
      ]
     },
     "execution_count": 71,
     "metadata": {},
     "output_type": "execute_result"
    }
   ],
   "source": [
    "re.search('\\s(\\d+)\\s', ' 1234 a ').group(1)  "
   ]
  },
  {
   "cell_type": "markdown",
   "metadata": {},
   "source": [
    "### RAW 모드로 정규식 표현하기\n",
    ":  r'문자열 '\n"
   ]
  },
  {
   "cell_type": "code",
   "execution_count": 75,
   "metadata": {},
   "outputs": [],
   "source": [
    "# \\b - 단어의 경계를 표현\n",
    "re.search('\\b(\\d+)\\b', ' 1234 a')   # 매칭 실패 : '\\b' 가 Backspace 로 처리 되었기 때문이다"
   ]
  },
  {
   "cell_type": "code",
   "execution_count": 76,
   "metadata": {},
   "outputs": [
    {
     "data": {
      "text/plain": [
       "<re.Match object; span=(1, 5), match='1234'>"
      ]
     },
     "execution_count": 76,
     "metadata": {},
     "output_type": "execute_result"
    }
   ],
   "source": [
    "re.search('\\\\b(\\d+)\\\\b', ' 1234 a') # \\\\b 형태로 넣어 성공"
   ]
  },
  {
   "cell_type": "code",
   "execution_count": 82,
   "metadata": {},
   "outputs": [
    {
     "data": {
      "text/plain": [
       "('\\\\d', '\\x08', '\\\\b')"
      ]
     },
     "execution_count": 82,
     "metadata": {},
     "output_type": "execute_result"
    }
   ],
   "source": [
    "'\\d', '\\b','\\\\b'   \n",
    "# '\\d'는 파이썬에서 특수 문자로 등록 되지 않았으므로 그대로 '\\d' 문자열로 받아들여짐\n",
    "# '\\b'는 Backspace로 치환 되므로 RAW모드 사용이 필요: 문자열 앞에 r을 추가한것"
   ]
  },
  {
   "cell_type": "code",
   "execution_count": 84,
   "metadata": {},
   "outputs": [
    {
     "data": {
      "text/plain": [
       "<re.Match object; span=(1, 5), match='1234'>"
      ]
     },
     "execution_count": 84,
     "metadata": {},
     "output_type": "execute_result"
    }
   ],
   "source": [
    "re.search(r'\\b(\\d+)\\b', ' 1234 a')  # RAW 모드 표기로 성공"
   ]
  },
  {
   "cell_type": "code",
   "execution_count": 88,
   "metadata": {},
   "outputs": [],
   "source": [
    "# re.search('\\\\','dir1\\\\dir2')  # 오류"
   ]
  },
  {
   "cell_type": "code",
   "execution_count": 91,
   "metadata": {},
   "outputs": [
    {
     "data": {
      "text/plain": [
       "<re.Match object; span=(4, 5), match='\\\\'>"
      ]
     },
     "execution_count": 91,
     "metadata": {},
     "output_type": "execute_result"
    }
   ],
   "source": [
    "re.search('\\\\\\\\','dir1\\\\dir2')  # 성공\n",
    "re.search('\\\\\\\\','dir1\\dir2')   # 동일한 표현"
   ]
  },
  {
   "cell_type": "code",
   "execution_count": 99,
   "metadata": {},
   "outputs": [],
   "source": [
    "# re.search('\\\\',r'dir1\\dir2') # 오류"
   ]
  },
  {
   "cell_type": "code",
   "execution_count": 100,
   "metadata": {},
   "outputs": [
    {
     "data": {
      "text/plain": [
       "<re.Match object; span=(4, 5), match='\\\\'>"
      ]
     },
     "execution_count": 100,
     "metadata": {},
     "output_type": "execute_result"
    }
   ],
   "source": [
    "re.search(r'\\\\',r'dir1\\dir2')  # # RAW 모드 표기로 성공"
   ]
  },
  {
   "cell_type": "code",
   "execution_count": 104,
   "metadata": {},
   "outputs": [
    {
     "name": "stdout",
     "output_type": "stream",
     "text": [
      "\\\n"
     ]
    }
   ],
   "source": [
    "# print('\\')  #  파이썬 오류\n",
    "print('\\\\')"
   ]
  },
  {
   "cell_type": "markdown",
   "metadata": {},
   "source": [
    "### 최소 매칭 : *?, +?, ??, {m,n}?"
   ]
  },
  {
   "cell_type": "code",
   "execution_count": 105,
   "metadata": {},
   "outputs": [
    {
     "data": {
      "text/plain": [
       "'index.html\">HERE</a><font size=\"10'"
      ]
     },
     "execution_count": 105,
     "metadata": {},
     "output_type": "execute_result"
    }
   ],
   "source": [
    "# Greedy Matching\n",
    "re.search(r'href=\"(.*)\"', '<a href=\"index.html\">HERE</a><font size=\"10\">').group(1)"
   ]
  },
  {
   "cell_type": "code",
   "execution_count": 106,
   "metadata": {},
   "outputs": [
    {
     "data": {
      "text/plain": [
       "'index.html'"
      ]
     },
     "execution_count": 106,
     "metadata": {},
     "output_type": "execute_result"
    }
   ],
   "source": [
    "# Non Greedy Matching\n",
    "re.search(r'href=\"(.*?)\"', '<a href=\"index.html\">HERE</a><font size=\"10\">').group(1)"
   ]
  },
  {
   "cell_type": "markdown",
   "metadata": {},
   "source": [
    "### re 패키지 기본 method\n",
    "- re.compile(pattern, string, flags) : # 인수 패턴을 컴파일 하여 정규식 객체로 반환\n",
    "- re.match(pattern, string, flags)   : “문자열의 처음”부터 시작하여 패턴이 일치되는 것이 있는지를 확인한다.\n",
    "- re.search(pattern, string, flags)  : 부분적으로 일치하는 문자열이 있는지를 검사\n",
    "- re.findall(pattern, string, flags) : 문자열 중 패턴과 일치되는 모든 부분을 찾는다.\n",
    "- re.finditer(pattern, string, flags) : .findall과 비슷하지만, 일치된 문자열의 리스트 대신 matchObj 리스트를 반환한다.\n",
    "- re.fullmatch(pattern, string, flags) : 패턴과 문자열이 남는 부분 없이 완벽하게 일치하는지를 검사한다.\n",
    "- re.sub(pattern, repl, string) :인수 string에서 인수 pattern을 인수 repl로 치환한다"
   ]
  },
  {
   "cell_type": "code",
   "execution_count": 118,
   "metadata": {},
   "outputs": [
    {
     "data": {
      "text/plain": [
       "['abc', 'def']"
      ]
     },
     "execution_count": 118,
     "metadata": {},
     "output_type": "execute_result"
    }
   ],
   "source": [
    "re.findall(r'[_a-zA-Z]\\w*', '123 abc 456 def')"
   ]
  },
  {
   "cell_type": "code",
   "execution_count": 128,
   "metadata": {},
   "outputs": [
    {
     "data": {
      "text/plain": [
       "['link1.html', 'link2.html', 'link3.html']"
      ]
     },
     "execution_count": 128,
     "metadata": {},
     "output_type": "execute_result"
    }
   ],
   "source": [
    "s = '''\n",
    "<a href=\"link1.html\">link1</a>\n",
    "<a href=\"link2.html\">link2</a>\n",
    "<a href=\"link3.html\">link3</a>\n",
    "'''\n",
    "re.findall(r'href=\"(.*?)\"',s)"
   ]
  },
  {
   "cell_type": "markdown",
   "metadata": {},
   "source": [
    "### 문자열 치환"
   ]
  },
  {
   "cell_type": "code",
   "execution_count": 131,
   "metadata": {},
   "outputs": [
    {
     "data": {
      "text/plain": [
       "'abcdef'"
      ]
     },
     "execution_count": 131,
     "metadata": {},
     "output_type": "execute_result"
    }
   ],
   "source": [
    "re.sub(r'[.,:;]','','a:b;c,d.')  # '.,:;' 문자들을 제거"
   ]
  },
  {
   "cell_type": "code",
   "execution_count": 136,
   "metadata": {},
   "outputs": [
    {
     "data": {
      "text/plain": [
       "'_abcd123'"
      ]
     },
     "execution_count": 136,
     "metadata": {},
     "output_type": "execute_result"
    }
   ],
   "source": [
    "re.sub(r'\\W','','_a:b;c,d.1!2?3~^*+-')   #  '_'와 영문자 숫자를 제외한 특수 문자들을 모두 제거"
   ]
  },
  {
   "cell_type": "code",
   "execution_count": 139,
   "metadata": {},
   "outputs": [
    {
     "data": {
      "text/plain": [
       "'hi hello bye A'"
      ]
     },
     "execution_count": 139,
     "metadata": {},
     "output_type": "execute_result"
    }
   ],
   "source": [
    "re.sub(r'\\d','','hi0 hello1 bye2 12A34')   #  숫자를 모두 제거"
   ]
  },
  {
   "cell_type": "markdown",
   "metadata": {},
   "source": [
    "### 정규식 객체 사용하기\n",
    ": re.compile(pattern, string, flags) :  인수 패턴을 컴파일 하여 정규식 객체로 반환"
   ]
  },
  {
   "cell_type": "code",
   "execution_count": 152,
   "metadata": {},
   "outputs": [
    {
     "name": "stdout",
     "output_type": "stream",
     "text": [
      "<class 're.Pattern'>\n",
      "\n",
      "park 800905-*******\n",
      "kim  700905-*******\n",
      "\n",
      "700905-1059119\n"
     ]
    }
   ],
   "source": [
    "# 정규식 객체 사용 문자열 치환\n",
    "\n",
    "data = \"\"\"\n",
    "park 800905-1049118\n",
    "kim  700905-1059119\n",
    "\"\"\"\n",
    "\n",
    "pat = re.compile(r'(\\d{6})[-]\\d{7}') # 정규식 객체\n",
    "print(type(pat))    #  <class 're.Pattern'>\n",
    "print(pat.sub('\\g<1>-*******',data))    # \\g<그룹번호나 이름>\n",
    "\n",
    "m = pat.search(data,0)\n",
    "print(m.group())"
   ]
  },
  {
   "cell_type": "code",
   "execution_count": 163,
   "metadata": {},
   "outputs": [
    {
     "name": "stdout",
     "output_type": "stream",
     "text": [
      "<class 're.Pattern'>\n"
     ]
    },
    {
     "data": {
      "text/plain": [
       "['the']"
      ]
     },
     "execution_count": 163,
     "metadata": {},
     "output_type": "execute_result"
    }
   ],
   "source": [
    "# 정규식 객체 사용 findall() 사용\n",
    "p = re.compile('the')   # 인수 패턴을 컴파일 하여 정규식 객체로 반환\n",
    "print(type(p))\n",
    "p.findall('The cat was hungry. They were scared because of the cat.')"
   ]
  },
  {
   "cell_type": "markdown",
   "metadata": {},
   "source": [
    "#### 플래그\n",
    "- I, IGNORECASE : 대소문자를 구별하지 않는다\n",
    "- L, LOCALE : \\w, \\W, \\b, \\B를 현재의 로케일에 영향을 받게 한다\n",
    "- M, MULTILINE : ^가 문자열의 맨 처음, 각 라인의 맨 처음과 매치 된다, $는 문자열의 맨 끝, 각 라인의 맨 끝과 매치\n",
    "\n",
    "- S, DOTALL : .을 줄바꾸기 문자도 포함하여 매치하게 한다\n",
    "- U, UNICODE : \\w, \\W, \\b, \\B가 유니코드 문자 특성에 의존하게 한다\n",
    "- X, VERBOSE : 보기 좋게 정규식을 표현할 수 있게 해준다. 정규식 안의 공백은 무시된다"
   ]
  },
  {
   "cell_type": "code",
   "execution_count": 161,
   "metadata": {},
   "outputs": [
    {
     "name": "stdout",
     "output_type": "stream",
     "text": [
      "<class 're.Pattern'>\n"
     ]
    },
    {
     "data": {
      "text/plain": [
       "['The', 'The', 'the']"
      ]
     },
     "execution_count": 161,
     "metadata": {},
     "output_type": "execute_result"
    }
   ],
   "source": [
    "# I, IGNORECASE : 대소문자를 구별하지 않는다\n",
    "p = re.compile('the',re.I)\n",
    "print(type(p))\n",
    "p.findall('The cat was hungry. They were scared because of the cat.')"
   ]
  },
  {
   "cell_type": "markdown",
   "metadata": {},
   "source": [
    "### 미니 챗봇 구현"
   ]
  },
  {
   "cell_type": "code",
   "execution_count": 171,
   "metadata": {},
   "outputs": [
    {
     "name": "stdout",
     "output_type": "stream",
     "text": [
      "good morni' rosa\n",
      "Hi 길동, How are you?, Glad to see you.\n"
     ]
    }
   ],
   "source": [
    "# Chatbot\n",
    "r = r\"[^a-z]*([y]o|[h]?ello|ok|hi|hey|(good[ ])?(morn[gin']{0,3}|afternoon|even[gin']{0,3}))[\\s,:;]{1,3}([a-z]{1,20})\"                                            \n",
    "re_greeting = re.compile(r, re.I)\n",
    "\n",
    "my_names = set(['rosa','rose','chatty','chatbot','bot','chatterbot','baby']) # 좋은 단어\n",
    "curt_names = set(['hal','you','u','guy','boy']) # 무뚜뚝한 단어\n",
    "greeter_name = '길동'  # 대화 상대자(사람)\n",
    "\n",
    "match = re_greeting.match(input()) # 'Hello Rosa'\n",
    "\n",
    "if match:\n",
    "    at_name = match.groups()[-1] # 세개의 그룹중 마지막\n",
    "    if at_name in curt_names:\n",
    "        print('Um.. Have a good time.')\n",
    "    elif at_name.lower() in my_names:\n",
    "        print('Hi {}, How are you?, Glad to see you.'.format(greeter_name))"
   ]
  },
  {
   "cell_type": "code",
   "execution_count": 167,
   "metadata": {},
   "outputs": [
    {
     "name": "stdout",
     "output_type": "stream",
     "text": [
      "대화가 시작되었습니다!\n",
      "----------------------------------------------------------------------\n",
      "길동 : Hey Fool\n",
      "----------------------------------------------------------------------\n",
      "길동 : hello fool\n",
      "컴퓨터 : Dear 길동 please, don't talk to me like that : fool. \n",
      "컴퓨터 : 길동아! 제발 그런말 쓰지마! : fool. \n",
      "----------------------------------------------------------------------\n",
      "길동 : hi rosa\n",
      "컴퓨터 : Hi 길동, How are you? Glad to see you.\n",
      "컴퓨터 : 길동씨 안녕하세요,만나서 반갑습니다\n",
      "----------------------------------------------------------------------\n",
      "길동 : hey guy\n",
      "컴퓨터 : Um.. Have a good time.\n",
      "컴퓨터 : 음.. 즐거운 시간 되세요.\n",
      "----------------------------------------------------------------------\n",
      "길동 : hey ass\n",
      "컴퓨터 : Dear 길동 please, don't talk to me like that : ass. \n",
      "컴퓨터 : 길동아! 제발 그런말 쓰지마! : ass. \n",
      "----------------------------------------------------------------------\n",
      "길동 : \n",
      "대화가 종료되었습니다!\n"
     ]
    }
   ],
   "source": [
    "# 챗봇 기능 추가 \n",
    "\n",
    "import re\n",
    "\n",
    "r = r\"[^a-z]*([y]o|[h]?ello|ok|hi|hey|(good[ ])?(morn[gin']{0,3}|afternoon|even[gin']{0,3}))[\\s,:;]{1,3}([a-z]{1,20})\"                                            \n",
    "re_greeting = re.compile(r, re.I)\n",
    "my_names = set(['rosa','rose','chatty','chatbot','bot','chatterbot','baby']) # 좋은 단어들 리스트\n",
    "curt_names = set(['hal','you','u','guy','boy']) # curt(무뚜뚝한) 이름, 다소 무례한 단어들 리스트\n",
    "evil_names = set(['idiot','fool','ass','sob'])  # 나쁜 단어들 리스트\n",
    "greeter_name = '길동'  # 대화 상대자(사람)\n",
    "computer = '컴퓨터 :'\n",
    "# match = re_greeting.match(input(greeter_name+' : '))\n",
    "print('대화가 시작되었습니다!')\n",
    "print('-'*70)\n",
    "\n",
    "while True:\n",
    "    match = re_greeting.match(input(greeter_name+' : '))\n",
    "    # print(match)\n",
    "    if match :\n",
    "        at_name = match.groups()[-1]\n",
    "        # print(at_name)\n",
    "        if at_name in curt_names:\n",
    "            print(computer,\"Um.. Have a good time.\") \n",
    "            print(computer,\"음.. 즐거운 시간 되세요.\")\n",
    "        elif at_name.lower() in my_names:\n",
    "            print(computer,\"Hi {}, How are you? Glad to see you.\".format(greeter_name))\n",
    "            print(computer,\"{}씨 안녕하세요,만나서 반갑습니다\".format(greeter_name))\n",
    "        elif at_name in evil_names:\n",
    "            print(computer,\"Dear {0} please, don't talk to me like that : {1}. \".format(greeter_name,at_name))\n",
    "            print(computer,\"{0}아! 제발 그런말 쓰지마! : {1}. \".format(greeter_name,at_name))\n",
    "        print('-'*70)\n",
    "    else:\n",
    "        break\n",
    "    \n",
    "print('대화가 종료되었습니다!')    "
   ]
  },
  {
   "cell_type": "code",
   "execution_count": null,
   "metadata": {},
   "outputs": [],
   "source": []
  }
 ],
 "metadata": {
  "kernelspec": {
   "display_name": "Python 3",
   "language": "python",
   "name": "python3"
  },
  "language_info": {
   "codemirror_mode": {
    "name": "ipython",
    "version": 3
   },
   "file_extension": ".py",
   "mimetype": "text/x-python",
   "name": "python",
   "nbconvert_exporter": "python",
   "pygments_lexer": "ipython3",
   "version": "3.8.3"
  }
 },
 "nbformat": 4,
 "nbformat_minor": 4
}
