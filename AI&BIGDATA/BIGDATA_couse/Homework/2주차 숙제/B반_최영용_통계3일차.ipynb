{
 "cells": [
  {
   "cell_type": "code",
   "execution_count": 2,
   "metadata": {},
   "outputs": [],
   "source": [
    "import numpy as np\n",
    "from scipy import stats\n",
    "import scipy.stats\n",
    "import pandas as pd\n",
    "import statsmodels.api as sm\n",
    "import matplotlib.pyplot as plt\n",
    "import seaborn as sns\n",
    "from statsmodels.stats.proportion import proportions_ztest\n",
    "import os\n",
    "import matplotlib.font_manager as fm\n",
    "from scipy.stats import shapiro"
   ]
  },
  {
   "cell_type": "markdown",
   "metadata": {},
   "source": [
    "# One-way Anova  \n",
    "귀무가설 : 4 집단의 평균은 같다 .  \n",
    "대립가설 : 4 집단의 평균이 같지 않다.\n",
    "\n",
    "p값이 0.019로 유의수준 0.05보다 작으므로 귀무가설을 기각한다.  \n",
    "즉 4개의 집단의 평균은 같지 않다고 할 수있다. "
   ]
  },
  {
   "cell_type": "code",
   "execution_count": 74,
   "metadata": {},
   "outputs": [
    {
     "name": "stdout",
     "output_type": "stream",
     "text": [
      "검정 통계량: 4.172 , P-value: 0.019\n"
     ]
    }
   ],
   "source": [
    "ds_anova = pd.read_csv('/home/pirl/포항공대 /아카데미수업내용/2주차/통계수업파일/ANOVA.csv',engine='python')\n",
    "gangjong = ['a','b','c','d']\n",
    "\n",
    "df1=ds_anova[ds_anova['gangjong']=='a']['time']\n",
    "df2=ds_anova[ds_anova['gangjong']=='b']['time']\n",
    "df3=ds_anova[ds_anova['gangjong']=='c']['time']\n",
    "df4=ds_anova[ds_anova['gangjong']=='d']['time']\n",
    "\n",
    "f_result = stats.f_oneway(df1,df2,df3,df4)\n",
    "\n",
    "f,p = f_result.statistic.round(3), f_result.pvalue.round(3)\n",
    "\n",
    "\n",
    "print('검정 통계량:',f,', P-value:', p)"
   ]
  },
  {
   "cell_type": "markdown",
   "metadata": {},
   "source": []
  },
  {
   "cell_type": "markdown",
   "metadata": {},
   "source": [
    "# 상관분석\n",
    "귀무가설 = 상관이 없다. 0이다  \n",
    "대립가설 = 상관이 있다. 0이아니다\n",
    "\n",
    "p값이 0.0003으로 유의수준 0.05보다 작으므로 귀무가설을 기각한다.  \n",
    "결과적으로 두 집단은 강한 음의 상관관계를 갖는것으로 판단 할 수 있다."
   ]
  },
  {
   "cell_type": "code",
   "execution_count": 91,
   "metadata": {},
   "outputs": [
    {
     "name": "stdout",
     "output_type": "stream",
     "text": [
      "상관계수 :  -0.723107314935157 , p-value: 0.0003152005510027819\n"
     ]
    }
   ],
   "source": [
    "df = pd.DataFrame({'strength':[37.6,38.6,37.2,36.4,38.6,39,37.2,36.1,35.9,37.1,36.9,37.5,36.3,38.1,39,36.9,36.8,37.6,33,33.5],\n",
    "                   'temperature':[14,15,14,16,17,14,17,16,15,16,14,16,18,13,15,17,14,16,20,21]})\n",
    "corr , pval = stats.pearsonr(df['strength'],df['temperature'])\n",
    "print('상관계수 : ',corr,\", p-value:\",pval)"
   ]
  },
  {
   "cell_type": "markdown",
   "metadata": {},
   "source": []
  },
  {
   "cell_type": "markdown",
   "metadata": {},
   "source": [
    "# 회귀분석\n",
    "귀무가설 : 회귀식이 유의하지 않다.  \n",
    "대립가설 : 회귀식이 유의하다.\n",
    "p값 0.00 이 유의수준 0.05보다 낮기때문에 귀무가설을 기각한다.  \n",
    "\n",
    "즉 f(x)= 0.0209x1 + 0.0023 이라는 회귀식이 유의하다는것을 의미한다. 그리고 이 회귀식의 설명력은 0.646로 64.6%를 설명한다.   \n",
    "그리고 표본데이터의 정규성과 독립성을 확인 하였고, 단순 회귀분석 이므로 다중공선성은 만족 한다."
   ]
  },
  {
   "cell_type": "code",
   "execution_count": 7,
   "metadata": {},
   "outputs": [
    {
     "name": "stdout",
     "output_type": "stream",
     "text": [
      "                            OLS Regression Results                            \n",
      "==============================================================================\n",
      "Dep. Variable:                      y   R-squared:                       0.646\n",
      "Model:                            OLS   Adj. R-squared:                  0.627\n",
      "Method:                 Least Squares   F-statistic:                     32.91\n",
      "Date:                Mon, 27 Jan 2020   Prob (F-statistic):           1.94e-05\n",
      "Time:                        19:39:01   Log-Likelihood:                 46.533\n",
      "No. Observations:                  20   AIC:                            -89.07\n",
      "Df Residuals:                      18   BIC:                            -87.07\n",
      "Df Model:                           1                                         \n",
      "Covariance Type:            nonrobust                                         \n",
      "==============================================================================\n",
      "                 coef    std err          t      P>|t|      [0.025      0.975]\n",
      "------------------------------------------------------------------------------\n",
      "const          0.0023      0.135      0.017      0.987      -0.281       0.286\n",
      "x1             0.0209      0.004      5.737      0.000       0.013       0.029\n",
      "==============================================================================\n",
      "Omnibus:                        2.649   Durbin-Watson:                   1.128\n",
      "Prob(Omnibus):                  0.266   Jarque-Bera (JB):                1.168\n",
      "Skew:                           0.047   Prob(JB):                        0.558\n",
      "Kurtosis:                       1.820   Cond. No.                         898.\n",
      "==============================================================================\n",
      "\n",
      "Warnings:\n",
      "[1] Standard Errors assume that the covariance matrix of the errors is correctly specified.\n"
     ]
    }
   ],
   "source": [
    "strength = [37.6,38.6,37.2,36.4,38.6,39,37.2,36.1,35.9,37.1,36.9,37.5,36.3,38.1,39,36.9,36.8,37.6,33,33.5]\n",
    "baking_time = [0.798922,0.84902,0.816163,0.758266,0.815894,0.807477,0.809068,0.7664,0.742243,0.75118,0.740629,0.751495,0.738863,0.827428,0.818172,0.740939,0.757128,0.804695,0.695121,0.735377]\n",
    "\n",
    "strength= sm.add_constant(strength) \n",
    "model = sm.OLS(baking_time, strength)\n",
    "result = model.fit()\n",
    "print(result.summary())\n",
    "# len(strength)\n",
    "# len(baking_time)"
   ]
  },
  {
   "cell_type": "markdown",
   "metadata": {},
   "source": [
    "# 잔차 분석\n",
    "잔차의 정규성은 p값이 0.05이상이므로 정규하다는 것으로 판단 할 수 있다.  \n",
    "잔차의 등분산성은 그래프를 확인한 결과 골고루 잔차가 이룬것을 볼수있었고, 특이한 이상치를 볼 수 없었다.   \n",
    "잔차의 독립성의 그래프를 확인한 결과 어떠한 특정한 패턴을 가진 그래프를 그리지 않고 독립적으로 분포하는것으로 볼 수 있었다.     \n",
    "그리므로 잔차의 정규성, 등분산성, 독립성을 만족한다고 할 수 있다."
   ]
  },
  {
   "cell_type": "code",
   "execution_count": 8,
   "metadata": {},
   "outputs": [
    {
     "data": {
      "text/plain": [
       "(0.9452489018440247, 0.3006567656993866)"
      ]
     },
     "execution_count": 8,
     "metadata": {},
     "output_type": "execute_result"
    },
    {
     "data": {
      "image/png": "[encoded data removed]",
      "text/plain": [
       "<Figure size 432x288 with 1 Axes>"
      ]
     },
     "metadata": {
      "needs_background": "light"
     },
     "output_type": "display_data"
    }
   ],
   "source": [
    "#정규성 검정\n",
    "plt.hist(result.resid)\n",
    "shapiro(result.resid)"
   ]
  },
  {
   "cell_type": "code",
   "execution_count": 9,
   "metadata": {},
   "outputs": [
    {
     "data": {
      "text/plain": [
       "<matplotlib.lines.Line2D at 0x7f0ef6e4efd0>"
      ]
     },
     "execution_count": 9,
     "metadata": {},
     "output_type": "execute_result"
    },
    {
     "data": {
      "image/png": "[encoded data removed]",
      "text/plain": [
       "<Figure size 432x288 with 1 Axes>"
      ]
     },
     "metadata": {
      "needs_background": "light"
     },
     "output_type": "display_data"
    }
   ],
   "source": [
    "#둥분산성 검정\n",
    "plt.scatter(result.fittedvalues, result.resid)\n",
    "plt.axhline(y=0,linestyle='--')\n"
   ]
  },
  {
   "cell_type": "code",
   "execution_count": 95,
   "metadata": {},
   "outputs": [
    {
     "data": {
      "text/plain": [
       "<matplotlib.lines.Line2D at 0x7f06a0105ad0>"
      ]
     },
     "execution_count": 95,
     "metadata": {},
     "output_type": "execute_result"
    },
    {
     "data": {
      "image/png": "[encoded data removed]",
      "text/plain": [
       "<Figure size 432x288 with 1 Axes>"
      ]
     },
     "metadata": {
      "needs_background": "light"
     },
     "output_type": "display_data"
    }
   ],
   "source": [
    "#독립성 검정\n",
    "plt.scatter(range(0,20),result.resid ,marker=\"o\")\n",
    "plt.axhline(y=0, linestyle ='-')\n",
    "plt.axhline(y=3*np.std(result.resid), linestyle ='-')\n",
    "plt.axhline(y=-3*np.std(result.resid), linestyle ='--')\n"
   ]
  },
  {
   "cell_type": "code",
   "execution_count": null,
   "metadata": {},
   "outputs": [],
   "source": []
  },
  {
   "cell_type": "code",
   "execution_count": null,
   "metadata": {},
   "outputs": [],
   "source": []
  }
 ],
 "metadata": {
  "kernelspec": {
   "display_name": "Python 3",
   "language": "python",
   "name": "python3"
  },
  "language_info": {
   "codemirror_mode": {
    "name": "ipython",
    "version": 3
   },
   "file_extension": ".py",
   "mimetype": "text/x-python",
   "name": "python",
   "nbconvert_exporter": "python",
   "pygments_lexer": "ipython3",
   "version": "3.7.4"
  }
 },
 "nbformat": 4,
 "nbformat_minor": 2
}
