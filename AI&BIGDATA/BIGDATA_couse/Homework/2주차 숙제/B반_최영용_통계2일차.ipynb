{
 "cells": [
  {
   "cell_type": "code",
   "execution_count": 5,
   "metadata": {},
   "outputs": [],
   "source": [
    "import numpy as np\n",
    "from scipy import stats\n",
    "import scipy.stats\n",
    "import pandas as pd\n",
    "import statsmodels.api as sm\n",
    "import matplotlib as plt\n",
    "import seaborn as sns\n",
    "from statsmodels.stats.proportion import proportions_ztest\n",
    "import os\n",
    "import matplotlib.font_manager as fm\n"
   ]
  },
  {
   "cell_type": "markdown",
   "metadata": {},
   "source": [
    "df파일의 모표준편차 = 3.8로 알려져 있다\n",
    "\n",
    "실제 손으로 계산했을때 \n",
    "-표본평균 :19.5 , 모표준편차 = 3.8 , z0.05/2 = 1.96 , n=20이므로 , 신뢰구간 공식에 대입하면                            \n",
    "                 신품좀 감자의 평균무게에 대한 95%신뢰구간 = (17.83,21.17)"
   ]
  },
  {
   "cell_type": "code",
   "execution_count": 19,
   "metadata": {},
   "outputs": [
    {
     "name": "stdout",
     "output_type": "stream",
     "text": [
      "신뢰구간: ([17.83],[21.17])\n"
     ]
    }
   ],
   "source": [
    "df = pd.DataFrame({\"sample\": [18,18,20,21,20,23,19,18,17,21,22,20,20,21,20,19,19,18,17,19] })\n",
    "lower , upper = stats.norm.interval(0.95, loc=np.mean(df),scale = 3.8/np.sqrt(20))\n",
    "print('신뢰구간: ({0},{1})' .format( lower.round(2) , upper.round(2)))"
   ]
  },
  {
   "cell_type": "markdown",
   "metadata": {},
   "source": [
    "t분포를 이용한 모평균의 신뢰구간 구하기"
   ]
  },
  {
   "cell_type": "code",
   "execution_count": 64,
   "metadata": {},
   "outputs": [
    {
     "name": "stdout",
     "output_type": "stream",
     "text": [
      "신뢰구간: ([70.6],[72.4])\n"
     ]
    }
   ],
   "source": [
    "df = pd.DataFrame({'sample':[73,71,74,69,70,73,70,68,75,72,70,72,73,70,70,72,71,70,75,72]})\n",
    "lower ,upper = stats.t.interval(0.95,len(df)-1,loc=np.mean(df),scale = scipy.stats.sem(df))\n",
    "print('신뢰구간: ({0},{1})' .format( lower.round(2) , upper.round(2)))"
   ]
  },
  {
   "cell_type": "markdown",
   "metadata": {},
   "source": [
    "카이제곱 분포를 이용한 모분산 신뢰구간 95% 추정하기"
   ]
  },
  {
   "cell_type": "markdown",
   "metadata": {},
   "source": [
    "\n",
    "\n",
    "one_sample_t_test를 위한 기본조건인 표본의 정규성 검정을 먼저 시작한다.\n",
    "정규성검정 -   \n",
    "귀무가설 : 정규성은 띈다.   \n",
    "대립가설 : 정규성을 띄지 않는다.\n",
    "\n",
    "표본의 p-value가 유의 수준 0.05보다 크고 귀무가설을 채택한다. 그러므로 표본 데이터는 정규성을 띈다고 할 수있다."
   ]
  },
  {
   "cell_type": "code",
   "execution_count": 65,
   "metadata": {},
   "outputs": [
    {
     "data": {
      "text/plain": [
       "(0.8473219275474548, 0.053975414484739304)"
      ]
     },
     "execution_count": 65,
     "metadata": {},
     "output_type": "execute_result"
    }
   ],
   "source": [
    "from scipy.stats import shapiro\n",
    "df = pd.DataFrame({'sample': [85,79,79.1,79.9,81.6,78.6,85.4,83.4,78.1,79.2]})\n",
    "shapiro(df)"
   ]
  },
  {
   "cell_type": "markdown",
   "metadata": {},
   "source": [
    "정규성을 확인한 뒤 이제 one_sample_t_test 진행한다.\n",
    "\n",
    "귀무가설 : 고객만족도 평균 은 78이다.   \n",
    "대립가설 : 고객만족도 평균 은 78이 아니다.\n",
    "\n",
    "표본의 p-value가 유의 수준 0.05보다 작고 대립가설을 채택한다.   \n",
    "그러므로 고객만족도의 평균은 78이 아님을 알 수 있다."
   ]
  },
  {
   "cell_type": "code",
   "execution_count": 66,
   "metadata": {},
   "outputs": [
    {
     "name": "stdout",
     "output_type": "stream",
     "text": [
      "1-Sample t-test\n",
      "t-통계량:[3.379]\n",
      "p-value:[0.008]\n"
     ]
    }
   ],
   "source": [
    "\n",
    "t_result = stats.ttest_1samp(df,78.0)\n",
    "\n",
    "t,p = t_result.statistic.round(3), t_result.pvalue.round(3)\n",
    "print(\"1-Sample t-test\")\n",
    "print(\"t-통계량:{}\" .format(t))\n",
    "print(\"p-value:{}\" .format(p))"
   ]
  },
  {
   "cell_type": "code",
   "execution_count": null,
   "metadata": {},
   "outputs": [],
   "source": []
  }
 ],
 "metadata": {
  "kernelspec": {
   "display_name": "Python 3",
   "language": "python",
   "name": "python3"
  },
  "language_info": {
   "codemirror_mode": {
    "name": "ipython",
    "version": 3
   },
   "file_extension": ".py",
   "mimetype": "text/x-python",
   "name": "python",
   "nbconvert_exporter": "python",
   "pygments_lexer": "ipython3",
   "version": "3.7.4"
  }
 },
 "nbformat": 4,
 "nbformat_minor": 2
}
