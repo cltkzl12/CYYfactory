{
 "cells": [
  {
   "cell_type": "markdown",
   "metadata": {},
   "source": [
    "# Set 클래스 구현\n"
   ]
  },
  {
   "cell_type": "code",
   "execution_count": 240,
   "metadata": {},
   "outputs": [],
   "source": [
    "class Set:\n",
    "    def __init__(self, member=[]):\n",
    "        tmp=[] \n",
    "        for a in member:\n",
    "            if tmp.count(a)<1:\n",
    "                tmp.append(a)\n",
    "        self.member=tmp\n",
    "            \n",
    "    def append(self, a):\n",
    "        if a not in self.member:\n",
    "            self.member.append(a)\n",
    "        \n",
    "    def delete(self, a):\n",
    "        if a in self.member:\n",
    "            self.member.remove(a)\n",
    "   \n",
    "    def union(self, s2):\n",
    "        tmp_Set= Set([x for x in self.member])\n",
    "        for i in s2.member:\n",
    "            if i not in self.member:\n",
    "                tmp_Set.append(i)\n",
    "        return tmp_Set\n",
    "        \n",
    "    def intersection(self, s2): #1,2,3,4      3,4,5,6\n",
    "        tmp_Set= Set([x for x in self.member])\n",
    "        for i in self.member:\n",
    "            if i not in s2.member:\n",
    "                tmp_Set.delete(i)\n",
    "\n",
    "                \n",
    "        return tmp_Setame 'deparment'\n",
    "   \n",
    "    def difference(self, s2):\n",
    "        tmp_Set= Set([x for x in self.member])\n",
    "        for i in self.member:\n",
    "            if i in s2.member:\n",
    "                tmp_Set.delete(i)\n",
    "        return tmp_Set\n",
    "    \n",
    "    def __add__(self, another):\n",
    "        new_Set = Set(member=self.member+another.member)\n",
    "        return new_Set\n",
    "    \n",
    "    def __sub__(self, another):\n",
    "        tmp_Set= Set([x for x in self.member])\n",
    "        for i in self.member:\n",
    "            if i in another.member:\n",
    "                tmp_Set.delete(i)\n",
    "        return tmp_Set\n",
    "        \n",
    "    def __truediv__(self, another):\n",
    "        \n",
    "        tmp_Set= Set([x for x in self.member])\n",
    "        for i in self.member:\n",
    "            if i not in another.member:\n",
    "                tmp_Set.deletame 'deparment'e(i)\n",
    "        \n",
    "        return tmp_Set\n",
    "    \n",
    "    \n",
    "    \n",
    "    def __repr__(self):\n",
    "        string=''\n",
    "        for i in self.member:\n",
    "            string+=str(i)+' '\n",
    "        return string.strip()\n",
    "    \n",
    "    "
   ]
  },
  {
   "cell_type": "markdown",
   "metadata": {},
   "source": [
    "# people.py"
   ]
  },
  {
   "cell_type": "code",
   "execution_count": 57,
   "metadata": {},
   "outputs": [],
   "source": [
    "class Person:\n",
    "    def __init__(self,name='', age=0, department=''):\n",
    "        self.name=name\n",
    "        self.age=age\n",
    "        self.department=department\n",
    "    def get_name(self):\n",
    "        return self.name;\n",
    "    \n",
    "    \n",
    "class Student(Person):\n",
    "    def __init__(self,name,age,department,ID=0,GPA=0,advisor=''):\n",
    "        Person.__init__(self, name=name, department=department,age=age)\n",
    "        self.ID=ID\n",
    "        self.GPA=GPA\n",
    "        self.advisor=advisor\n",
    "        \n",
    "    def print_info(self):\n",
    "        print(\"제 이름은\",self.name,',나이는',self.age,',학과는',self.department\n",
    "              ,', 지도교수님은',self.advisor,'입니다.')\n",
    "    def reg_advisor(self, pro):\n",
    "        self.advosor=pro\n",
    "        \n",
    "\n",
    "class Professor(Person):\n",
    "    def __init__(self,name,age,department,position,laboratory,student=[]):\n",
    "        Person.__init__(self,name=name,department=department, age=age)\n",
    "        self.position = position\n",
    "        self.laboratory=laboratory\n",
    "        self.student=student\n",
    "        \n",
    "    def print_info(self):\n",
    "        a=','.join(self.student)\n",
    "        print(\"제 이름은\",self.name,',나이는',self.age,',학과는',self.department\n",
    "              ,', 지도학생은',a,'입니다.')\n",
    "    def reg_student(self, stu):\n",
    "        self.student.append(stu.name)\n",
    "\n",
    "        "
   ]
  },
  {
   "cell_type": "code",
   "execution_count": 58,
   "metadata": {},
   "outputs": [],
   "source": [
    "stu1 = Student('Kim', 30, 'Computer',\n",
    "20001234, 4.5)\n",
    "stu2 = Student('Lee', 22, 'Computer',\n",
    "20101234, 0.5)\n",
    "prof1 = Professor('Lee', 55, 'Computer',\n",
    "'Full', 'KLE')"
   ]
  },
  {
   "cell_type": "code",
   "execution_count": 59,
   "metadata": {},
   "outputs": [],
   "source": [
    "stu1.reg_advisor(prof1)\n",
    "stu2.reg_advisor(prof1)\n",
    "prof1.reg_student(stu1)\n",
    "prof1.reg_student(stu2)"
   ]
  },
  {
   "cell_type": "code",
   "execution_count": 60,
   "metadata": {},
   "outputs": [
    {
     "name": "stdout",
     "output_type": "stream",
     "text": [
      "제 이름은 Kim ,나이는 30 ,학과는 Computer , 지도교수님은  입니다.\n",
      "제 이름은 Lee ,나이는 22 ,학과는 Computer , 지도교수님은  입니다.\n",
      "제 이름은 Lee ,나이는 55 ,학과는 Computer , 지도학생은 Kim,Lee 입니다.\n"
     ]
    }
   ],
   "source": [
    "stu1.print_info()\n",
    "stu2.print_info()\n",
    "prof1.print_info()"
   ]
  },
  {
   "cell_type": "markdown",
   "metadata": {},
   "source": [
    "# and_op.py"
   ]
  },
  {
   "cell_type": "code",
   "execution_count": 62,
   "metadata": {},
   "outputs": [],
   "source": [
    "import numpy as np\n",
    "x1 = np.array([0,0])\n",
    "x2 = np.array([0,1])\n",
    "x3 = np.array([1,0])\n",
    "x4 = np.array([1,1])"
   ]
  },
  {
   "cell_type": "code",
   "execution_count": 63,
   "metadata": {},
   "outputs": [
    {
     "data": {
      "text/plain": [
       "array([0, 0])"
      ]
     },
     "execution_count": 63,
     "metadata": {},
     "output_type": "execute_result"
    }
   ],
   "source": [
    "x1"
   ]
  },
  {
   "cell_type": "code",
   "execution_count": null,
   "metadata": {},
   "outputs": [],
   "source": []
  }
 ],
 "metadata": {
  "kernelspec": {
   "display_name": "Python 3",
   "language": "python",
   "name": "python3"
  },
  "language_info": {
   "codemirror_mode": {
    "name": "ipython",
    "version": 3
   },
   "file_extension": ".py",
   "mimetype": "text/x-python",
   "name": "python",
   "nbconvert_exporter": "python",
   "pygments_lexer": "ipython3",
   "version": "3.7.4"
  }
 },
 "nbformat": 4,
 "nbformat_minor": 2
}
