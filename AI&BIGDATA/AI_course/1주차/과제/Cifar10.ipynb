{
 "cells": [
  {
   "cell_type": "code",
   "execution_count": 27,
   "metadata": {
    "colab": {
     "base_uri": "https://localhost:8080/",
     "height": 34
    },
    "colab_type": "code",
    "id": "12fAxcyCilDu",
    "outputId": "45f6e110-84d2-4e25-ae7b-2a51f426bc75"
   },
   "outputs": [
    {
     "name": "stdout",
     "output_type": "stream",
     "text": [
      "device: gpu\n"
     ]
    }
   ],
   "source": [
    "import torch\n",
    "import torch.nn as nn\n",
    "import torch.optim as optim\n",
    "import torch.nn.init as init\n",
    "import torchvision.datasets as dataset # for loading dataset (mnist)\n",
    "import torchvision.transforms as transforms # for processing datasets\n",
    "from torch.utils.data import DataLoader # for making dataset easier to use \n",
    "\n",
    "from matplotlib import pyplot as plt\n",
    "\n",
    "device = torch.device(\"cuda:0\" if torch.cuda.is_available() else \"cpu\")\n",
    "print(\"device: gpu\") if torch.cuda.is_available() else print(\"device: cpu\")"
   ]
  },
  {
   "cell_type": "code",
   "execution_count": 0,
   "metadata": {
    "colab": {},
    "colab_type": "code",
    "id": "dn-rKSdkixz2"
   },
   "outputs": [],
   "source": [
    "# hypter parameter setting\n",
    "learning_rate = 1e-4\n",
    "training_epochs = 100\n",
    "display_step = 10\n",
    "batch_size = 64\n",
    "\n",
    "activation = nn.ReLU()\n",
    "max_pool = nn.MaxPool2d(2,2) # kerel size, stride size, padding size \n",
    "dropout_rate = .2 # probability to be 0 "
   ]
  },
  {
   "cell_type": "code",
   "execution_count": 31,
   "metadata": {
    "colab": {
     "base_uri": "https://localhost:8080/",
     "height": 1000
    },
    "colab_type": "code",
    "id": "Hmaw-qXnkIDe",
    "outputId": "d95efe77-4c7a-47b0-8f53-e1d7a6dee72d"
   },
   "outputs": [
    {
     "name": "stdout",
     "output_type": "stream",
     "text": [
      "Files already downloaded and verified\n",
      "Files already downloaded and verified\n"
     ]
    },
    {
     "name": "stderr",
     "output_type": "stream",
     "text": [
      "Clipping input data to the valid range for imshow with RGB data ([0..1] for floats or [0..255] for integers).\n"
     ]
    },
    {
     "name": "stdout",
     "output_type": "stream",
     "text": [
      "len(train_data):  50000\n",
      "len(test_data):  10000\n",
      "data tensor([[[-0.5373, -0.5137, -0.5059],\n",
      "         [-0.6627, -0.6392, -0.6471],\n",
      "         [-0.6078, -0.6235, -0.6627],\n",
      "         ...,\n",
      "         [ 0.2392,  0.0353, -0.1529],\n",
      "         [ 0.1922, -0.0196, -0.2000],\n",
      "         [ 0.1608, -0.0275, -0.1922]],\n",
      "\n",
      "        [[-0.8745, -0.8431, -0.8431],\n",
      "         [-1.0000, -1.0000, -1.0000],\n",
      "         [-0.8588, -0.9373, -1.0000],\n",
      "         ...,\n",
      "         [-0.0353, -0.3098, -0.5686],\n",
      "         [-0.0667, -0.3490, -0.6078],\n",
      "         [-0.0431, -0.3176, -0.5529]],\n",
      "\n",
      "        [[-0.8039, -0.8118, -0.8353],\n",
      "         [-0.8745, -0.9451, -1.0000],\n",
      "         [-0.6157, -0.7882, -0.9373],\n",
      "         ...,\n",
      "         [-0.0745, -0.3412, -0.6078],\n",
      "         [-0.0588, -0.3412, -0.6078],\n",
      "         [-0.1451, -0.4275, -0.6706]],\n",
      "\n",
      "        ...,\n",
      "\n",
      "        [[ 0.6314,  0.3333, -0.2471],\n",
      "         [ 0.5765,  0.2000, -0.7333],\n",
      "         [ 0.5529,  0.2627, -0.7961],\n",
      "         ...,\n",
      "         [ 0.2549,  0.0431, -0.4510],\n",
      "         [-0.5608, -0.7569, -0.9451],\n",
      "         [-0.5843, -0.7333, -0.8431]],\n",
      "\n",
      "        [[ 0.4118,  0.0902, -0.2471],\n",
      "         [ 0.3569, -0.0353, -0.6706],\n",
      "         [ 0.4588,  0.1294, -0.7647],\n",
      "         ...,\n",
      "         [ 0.4431,  0.1608, -0.2627],\n",
      "         [-0.2392, -0.5137, -0.7333],\n",
      "         [-0.3490, -0.5843, -0.7333]],\n",
      "\n",
      "        [[ 0.3882,  0.1294, -0.0902],\n",
      "         [ 0.3176,  0.0118, -0.2627],\n",
      "         [ 0.4039,  0.1137, -0.3176],\n",
      "         ...,\n",
      "         [ 0.6941,  0.4431,  0.0980],\n",
      "         [ 0.1843, -0.0745, -0.3412],\n",
      "         [-0.0353, -0.2784, -0.4353]]])\n",
      "data shape:  torch.Size([32, 32, 3])\n",
      "label:  6\n"
     ]
    },
    {
     "data": {
      "image/png": "[encoded data removed]",
      "text/plain": [
       "<Figure size 432x288 with 1 Axes>"
      ]
     },
     "metadata": {
      "needs_background": "light",
      "tags": []
     },
     "output_type": "display_data"
    }
   ],
   "source": [
    "# load data\n",
    "import numpy as np\n",
    "train_data = dataset.CIFAR10(\"./\", train = True,  transform = transforms.Compose([\n",
    "                    transforms.ToTensor(),\n",
    "                    transforms.Normalize(mean=(0.5,),   \n",
    "                                         std=(0.5,))]), target_transform = None, download = True)\n",
    "test_data = dataset.CIFAR10(\"./\", train = False,  transform = transforms.Compose([\n",
    "                    transforms.ToTensor(),\n",
    "                    transforms.Normalize(mean=(0.5,),   \n",
    "                                         std=(0.5,))]), target_transform = None, download = True)\n",
    "\n",
    "# check the data\n",
    "print('len(train_data): ', len(train_data))\n",
    "print('len(test_data): ', len(test_data))\n",
    "\n",
    "x_train, y_train = train_data[0]\n",
    "x_train = np.transpose(x_train, (1, 2, 0))  # 3 X 32 X 32 -> 32 X 32 X 3 으로 바꾼거임\n",
    "\n",
    "print('data', x_train)\n",
    "print('data shape: ', x_train.shape)\n",
    "print('label: ', y_train)\n",
    "\n",
    "plt.figure()\n",
    "plt.imshow(x_train)\n",
    "plt.show()"
   ]
  },
  {
   "cell_type": "code",
   "execution_count": 32,
   "metadata": {
    "colab": {
     "base_uri": "https://localhost:8080/",
     "height": 354
    },
    "colab_type": "code",
    "id": "m6xiNggpkKti",
    "outputId": "093df93a-f896-4a2d-c79c-a85370922d93"
   },
   "outputs": [
    {
     "name": "stderr",
     "output_type": "stream",
     "text": [
      "Clipping input data to the valid range for imshow with RGB data ([0..1] for floats or [0..255] for integers).\n"
     ]
    },
    {
     "name": "stdout",
     "output_type": "stream",
     "text": [
      "data shape: torch.Size([64, 3, 32, 32])\n",
      "label: tensor([1, 1, 9, 4, 0, 6, 2, 4, 2, 1, 2, 5, 8, 9, 3, 1, 5, 4, 3, 3, 1, 2, 6, 2,\n",
      "        3, 7, 2, 7, 8, 7, 3, 0, 6, 4, 1, 1, 8, 8, 3, 6, 3, 0, 6, 7, 5, 1, 7, 4,\n",
      "        6, 5, 2, 3, 5, 5, 2, 1, 8, 4, 7, 1, 2, 0, 1, 9])\n"
     ]
    },
    {
     "data": {
      "image/png": "[encoded data removed]",
      "text/plain": [
       "<Figure size 432x288 with 1 Axes>"
      ]
     },
     "metadata": {
      "needs_background": "light",
      "tags": []
     },
     "output_type": "display_data"
    }
   ],
   "source": [
    "# Pre-process (batch, shuffle)\n",
    "train_loader = torch.utils.data.DataLoader(train_data, batch_size = batch_size, shuffle = True, num_workers = 1, drop_last = True)\n",
    "test_loader = torch.utils.data.DataLoader(test_data, batch_size = batch_size, shuffle = True, num_workers = 1, drop_last = True)\n",
    "\n",
    "# check the data \n",
    "examples = enumerate(train_loader)\n",
    "batch_idx, (example_data, example_target) = next(examples)\n",
    "\n",
    "print('data shape:', example_data.shape)\n",
    "print('label:', example_target)\n",
    "\n",
    "check_image = example_data[0]\n",
    "check_image = np.transpose(check_image, (1, 2, 0))\n",
    "\n",
    "plt.figure()\n",
    "plt.imshow(check_image)\n",
    "plt.show()"
   ]
  },
  {
   "cell_type": "code",
   "execution_count": 0,
   "metadata": {
    "colab": {},
    "colab_type": "code",
    "id": "XLcr0q7QuWkM"
   },
   "outputs": [],
   "source": [
    "class CNN(nn.Module):\n",
    "    def __init__(self):\n",
    "        super(CNN, self).__init__() # for initializing nn.Module (parent class)\n",
    "        self.feature_extraction = nn.Sequential(\n",
    "            nn.Conv2d(3, 96, 3,padding =1), #96 X 32 X 32\n",
    "            nn.BatchNorm2d(96),\n",
    "            activation,          # we can set stride size and padding size. if we do not set the these parameters, default value is 1, 0.\n",
    "            nn.Dropout(dropout_rate),\n",
    "\n",
    "            nn.Conv2d(96, 96, 3,padding =1), #96 X 32 X 32\n",
    "            nn.BatchNorm2d(96),\n",
    "            activation,          # we can set stride size and padding size. if we do not set the these parameters, default value is 1, 0.\n",
    "            \n",
    "            nn.Conv2d(96, 96, 3,padding =1,stride=2), #96 X 16 X 16\n",
    "            nn.BatchNorm2d(96),\n",
    "            activation, \n",
    "            nn.Dropout(0.5),\n",
    "\n",
    "            nn.Conv2d(96, 192, 3,padding =1), #192 x 16 x 16\n",
    "            nn.BatchNorm2d(192),\n",
    "            activation, \n",
    "\n",
    "            nn.Conv2d(192, 192, 3,padding =1), #192 X 16 X 16 \n",
    "            nn.BatchNorm2d(192),\n",
    "            activation, \n",
    "\n",
    "            nn.Conv2d(192, 192, 3,padding =1,stride=2), # 192 X 8 X 8\n",
    "            nn.BatchNorm2d(192),\n",
    "            activation, \n",
    "            nn.Dropout(0.5),\n",
    "\n",
    "            nn.Conv2d(192, 192, 3,padding =1), #192 X 8 X 8 \n",
    "            nn.BatchNorm2d(192),\n",
    "            activation, \n",
    "            max_pool                #192 X 4 X 4 \n",
    "\n",
    "        )\n",
    "        self.classifier = nn.Sequential(\n",
    "            nn.Linear(3072, 100),\n",
    "            nn.BatchNorm1d(100),\n",
    "            activation,\n",
    "            nn.Linear(100, 10)\n",
    "        )\n",
    "    def forward(self, x):\n",
    "        extracted_feature = self.feature_extraction(x) \n",
    "        flatten = extracted_feature.view(batch_size, -1)\n",
    "        result = self.classifier(flatten)\n",
    "        return result\n",
    "\n",
    "model = CNN().to(device)\n",
    "model.train()\n",
    "\n",
    "loss_function = nn.CrossEntropyLoss().to(device)\n",
    "optimizer = optim.Adam(model.parameters(), lr=learning_rate)"
   ]
  },
  {
   "cell_type": "code",
   "execution_count": 56,
   "metadata": {
    "colab": {
     "base_uri": "https://localhost:8080/",
     "height": 193
    },
    "colab_type": "code",
    "id": "F_SSeZVbqYMh",
    "outputId": "49b63278-83e2-463e-8069-4f15a38709ee"
   },
   "outputs": [
    {
     "name": "stdout",
     "output_type": "stream",
     "text": [
      "0 epoch loss: 1.325315237045288\n",
      "10 epoch loss: 0.39143529534339905\n",
      "20 epoch loss: 0.16838108003139496\n",
      "30 epoch loss: 0.09513049572706223\n",
      "40 epoch loss: 0.1558028757572174\n",
      "50 epoch loss: 0.07491815835237503\n",
      "60 epoch loss: 0.08183249831199646\n",
      "70 epoch loss: 0.029873894527554512\n",
      "80 epoch loss: 0.06726913154125214\n",
      "90 epoch loss: 0.07548755407333374\n"
     ]
    }
   ],
   "source": [
    "loss_array = []\n",
    "\n",
    "# train the model\n",
    "\n",
    "for i in range(training_epochs):\n",
    "    for index, [data, label] in enumerate(train_loader):\n",
    "        data = data.to(device)\n",
    "        label = label.to(device)\n",
    "                \n",
    "        optimizer.zero_grad()\n",
    "        output = model.forward(data)\n",
    "        loss = loss_function(output, label)\n",
    "        loss.backward()\n",
    "        optimizer.step()\n",
    "        \n",
    "    if i % display_step == 0:\n",
    "        print('{} epoch loss: {}'.format(i,loss))\n",
    "        loss_array.append(loss.cpu().detach().numpy())"
   ]
  },
  {
   "cell_type": "code",
   "execution_count": 57,
   "metadata": {
    "colab": {
     "base_uri": "https://localhost:8080/",
     "height": 193
    },
    "colab_type": "code",
    "id": "d7iox0YXqbQd",
    "outputId": "8676e746-eb11-419e-cd28-a66e7c151fea"
   },
   "outputs": [
    {
     "name": "stdout",
     "output_type": "stream",
     "text": [
      "0 epoch loss: 0.01802985370159149\n",
      "10 epoch loss: 0.00662463903427124\n",
      "20 epoch loss: 0.032746780663728714\n",
      "30 epoch loss: 0.028288912028074265\n",
      "40 epoch loss: 0.007051113992929459\n",
      "50 epoch loss: 0.007262609899044037\n",
      "60 epoch loss: 0.0207839235663414\n",
      "70 epoch loss: 0.003982018679380417\n",
      "80 epoch loss: 0.0080436822026968\n",
      "90 epoch loss: 0.0017466023564338684\n"
     ]
    }
   ],
   "source": [
    "loss_array = []\n",
    "\n",
    "# train the model\n",
    "\n",
    "for i in range(training_epochs):\n",
    "    for index, [data, label] in enumerate(train_loader):\n",
    "        data = data.to(device)\n",
    "        label = label.to(device)\n",
    "                \n",
    "        optimizer.zero_grad()\n",
    "        output = model.forward(data)\n",
    "        loss = loss_function(output, label)\n",
    "        loss.backward()\n",
    "        optimizer.step()\n",
    "        \n",
    "    if i % display_step == 0:\n",
    "        print('{} epoch loss: {}'.format(i,loss))\n",
    "        loss_array.append(loss.cpu().detach().numpy())"
   ]
  },
  {
   "cell_type": "code",
   "execution_count": 58,
   "metadata": {
    "colab": {
     "base_uri": "https://localhost:8080/",
     "height": 34
    },
    "colab_type": "code",
    "id": "YdCVbDO7wFJr",
    "outputId": "65215941-efc7-472c-f5ad-4c5d0b766481"
   },
   "outputs": [
    {
     "name": "stdout",
     "output_type": "stream",
     "text": [
      "Accuracy of the model: 0.8819110989570618\n"
     ]
    }
   ],
   "source": [
    "#test the model\n",
    "model.eval()\n",
    "correct = 0\n",
    "total = 0\n",
    "\n",
    "prediction_list = []\n",
    "label_list = []\n",
    "\n",
    "with torch.no_grad():\n",
    "    for index, [data, label] in enumerate(test_loader):\n",
    "        data = data.to(device)\n",
    "        label = label.to(device)\n",
    "        \n",
    "        output = model.forward(data)\n",
    "        _, prediction_index = torch.max(output, 1)\n",
    "        \n",
    "        prediction_list.append(prediction_index)\n",
    "        label_list.append(label)\n",
    "        \n",
    "        total += label.size(0)\n",
    "        correct += (prediction_index == label).sum().float()\n",
    "\n",
    "    print(\"Accuracy of the model: {}\".format(correct/total))"
   ]
  },
  {
   "cell_type": "code",
   "execution_count": 0,
   "metadata": {
    "colab": {},
    "colab_type": "code",
    "id": "1xaJoHjEwHop"
   },
   "outputs": [],
   "source": []
  }
 ],
 "metadata": {
  "accelerator": "GPU",
  "colab": {
   "name": "Untitled0.ipynb",
   "provenance": []
  },
  "kernelspec": {
   "display_name": "Python 3",
   "language": "python",
   "name": "python3"
  },
  "language_info": {
   "codemirror_mode": {
    "name": "ipython",
    "version": 3
   },
   "file_extension": ".py",
   "mimetype": "text/x-python",
   "name": "python",
   "nbconvert_exporter": "python",
   "pygments_lexer": "ipython3",
   "version": "3.7.6"
  }
 },
 "nbformat": 4,
 "nbformat_minor": 1
}
