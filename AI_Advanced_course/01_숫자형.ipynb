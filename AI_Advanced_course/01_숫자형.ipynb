{
 "cells": [
  {
   "cell_type": "code",
   "execution_count": 1,
   "metadata": {},
   "outputs": [
    {
     "name": "stdout",
     "output_type": "stream",
     "text": [
      "Python 3.8.3\n"
     ]
    },
    {
     "data": {
      "text/plain": [
       "'3.8.3 (default, Jul  2 2020, 17:30:36) [MSC v.1916 64 bit (AMD64)]'"
      ]
     },
     "execution_count": 1,
     "metadata": {},
     "output_type": "execute_result"
    }
   ],
   "source": [
    "# 파이썬 버전 확인\n",
    "! Python -V\n",
    "\n",
    "import sys\n",
    "sys.version"
   ]
  },
  {
   "cell_type": "markdown",
   "metadata": {},
   "source": [
    "### 단축키 요약\n",
    "* shift + enter : 셀실행 후 다음 셀로 이동\n",
    "* alt + enter : 셀실행 후 다음에 셀을 추가\n",
    "* ctrl + '/' : 주석문 설정/해제\n",
    "* Tab : 들여 쓰기\n",
    "* shift + Tab : 들여 쓰기 해제\n",
    "\n",
    "* <ESC> -> 'm' : 문서(Markdown) 모드로 변경\n",
    "* <ESC> -> 'a' : 윗부분에 셀 추가\n",
    "* <ESC> -> 'b' : 윗부분에 셀 추가    \n",
    "    \n",
    "* ctrl + 'd' : 현재 커서위치에서 한줄 삭제    "
   ]
  },
  {
   "cell_type": "markdown",
   "metadata": {},
   "source": [
    "### 파이썬 자료형"
   ]
  },
  {
   "cell_type": "markdown",
   "metadata": {},
   "source": [
    "- 정수형 : int 형"
   ]
  },
  {
   "cell_type": "code",
   "execution_count": 2,
   "metadata": {},
   "outputs": [
    {
     "data": {
      "text/plain": [
       "12445"
      ]
     },
     "execution_count": 2,
     "metadata": {},
     "output_type": "execute_result"
    }
   ],
   "source": [
    "a = 12345\n",
    "b = 100\n",
    "c = a + b\n",
    "c"
   ]
  },
  {
   "cell_type": "code",
   "execution_count": 3,
   "metadata": {},
   "outputs": [
    {
     "name": "stdout",
     "output_type": "stream",
     "text": [
      "10\n",
      "0b1010\n",
      "0xa\n",
      "0o12\n",
      "<class 'int'>\n"
     ]
    }
   ],
   "source": [
    "a = 10\n",
    "print(int(a))\n",
    "print(bin(a))\n",
    "print(hex(a))\n",
    "print(oct(a))\n",
    "print(type(a))"
   ]
  },
  {
   "cell_type": "markdown",
   "metadata": {},
   "source": [
    "* 실수형 : float 형"
   ]
  },
  {
   "cell_type": "code",
   "execution_count": 4,
   "metadata": {},
   "outputs": [
    {
     "name": "stdout",
     "output_type": "stream",
     "text": [
      "10.54\n",
      "<class 'float'>\n",
      "10.0 <class 'float'>\n"
     ]
    }
   ],
   "source": [
    "f = 10.54\n",
    "print(f)\n",
    "print(type(f))\n",
    "b = float(a)  # 형변환\n",
    "print(b,type(b))"
   ]
  },
  {
   "cell_type": "markdown",
   "metadata": {},
   "source": [
    "## 객체  : 파이썬의 모든 변수, 데이터 형은 객체로 관리된다"
   ]
  },
  {
   "cell_type": "code",
   "execution_count": 5,
   "metadata": {},
   "outputs": [
    {
     "name": "stdout",
     "output_type": "stream",
     "text": [
      "a: 0x7ffbf0e63ac0\n",
      "b: 0x7ffbf0e63c00\n",
      "b: 0x7ffbf0e63ac0\n",
      "b: 0x7ffbf0e63c00\n"
     ]
    }
   ],
   "source": [
    "a = 30\n",
    "print('a:',hex(id(a)))\n",
    "b = 40\n",
    "print('b:',hex(id(b)))\n",
    "b = a\n",
    "print('b:',hex(id(b)))\n",
    "b = 40\n",
    "print('b:',hex(id(b)))"
   ]
  },
  {
   "cell_type": "code",
   "execution_count": 6,
   "metadata": {},
   "outputs": [
    {
     "name": "stdout",
     "output_type": "stream",
     "text": [
      "<class 'float'>\n",
      "1\n",
      "3\n",
      "1000\n"
     ]
    }
   ],
   "source": [
    "# 사칙 연산\n",
    "a = 10\n",
    "b = 3\n",
    "c = a + b\n",
    "c = a - b\n",
    "c = a * b\n",
    "f = a / b  # float 형\n",
    "print(type(f))\n",
    "\n",
    "f = a % b  # 나머지\n",
    "print(f)\n",
    "\n",
    "f2 = a // b # 정수 나눗셈 , 정수 몫을 구함\n",
    "print(f2)\n",
    "\n",
    "h = a**b  # 10^3\n",
    "print(h)"
   ]
  },
  {
   "cell_type": "markdown",
   "metadata": {},
   "source": [
    "## 표준 입출력"
   ]
  },
  {
   "cell_type": "markdown",
   "metadata": {},
   "source": [
    "#### 1. 표준입력 : 변수 = input()"
   ]
  },
  {
   "cell_type": "code",
   "execution_count": 7,
   "metadata": {},
   "outputs": [
    {
     "name": "stdout",
     "output_type": "stream",
     "text": [
      "10\n",
      "10\n"
     ]
    },
    {
     "data": {
      "text/plain": [
       "str"
      ]
     },
     "execution_count": 7,
     "metadata": {},
     "output_type": "execute_result"
    }
   ],
   "source": [
    "a = input()  # 문자열을 반환\n",
    "print(a)\n",
    "type(a)"
   ]
  },
  {
   "cell_type": "code",
   "execution_count": 8,
   "metadata": {},
   "outputs": [
    {
     "name": "stdout",
     "output_type": "stream",
     "text": [
      "영어점수:10\n",
      "수학점수:20\n",
      "30\n",
      "\n",
      "코드가 종료!!\n"
     ]
    }
   ],
   "source": [
    "english = input('영어점수:')\n",
    "math = input('수학점수:')\n",
    "total = int(english) + int(math)\n",
    "print(total)\n",
    "input()  # 디버깅 : 코드의 실행 중단 효과\n",
    "print('코드가 종료!!')"
   ]
  },
  {
   "cell_type": "markdown",
   "metadata": {},
   "source": [
    "#### 2. 표준 출력 : print()"
   ]
  },
  {
   "cell_type": "code",
   "execution_count": 9,
   "metadata": {},
   "outputs": [
    {
     "name": "stdout",
     "output_type": "stream",
     "text": [
      "add =  9 sub =  2\n",
      "영어: 10 수학: 20 총점: 30\n",
      "1 2\n",
      "3 4\n"
     ]
    }
   ],
   "source": [
    "print('add = ', 4 + 5, 'sub = ', 4 - 2)\n",
    "print('영어:', int(english), '수학:', int(math), '총점:',total)\n",
    "print(1,2) ; print(3,4)  # print() 함수 마지막에는 자동으로 '\\n'"
   ]
  },
  {
   "cell_type": "code",
   "execution_count": 10,
   "metadata": {},
   "outputs": [
    {
     "name": "stdout",
     "output_type": "stream",
     "text": [
      "1 2 3 4\n"
     ]
    }
   ],
   "source": [
    "print(1,2,end=' ')  # 줄 바꿈 대신에 space를 사용\n",
    "print(3,4)"
   ]
  },
  {
   "cell_type": "code",
   "execution_count": 11,
   "metadata": {},
   "outputs": [
    {
     "name": "stdout",
     "output_type": "stream",
     "text": [
      "5:6:7\n"
     ]
    }
   ],
   "source": [
    "print(5,6,7,sep=':') # space대신에 ':'으로 출력"
   ]
  },
  {
   "cell_type": "markdown",
   "metadata": {},
   "source": [
    "### print formatting"
   ]
  },
  {
   "cell_type": "code",
   "execution_count": 12,
   "metadata": {},
   "outputs": [
    {
     "name": "stdout",
     "output_type": "stream",
     "text": [
      "int형: 10\n",
      "float형: 1.234000\n",
      "16진수: 0xa\n",
      "문자열: Hello Python\n",
      "문자열: Hello Python int형: 10\n"
     ]
    }
   ],
   "source": [
    "# '%' 사용\n",
    "num_1 = 10\n",
    "num_2 = 1.234\n",
    "str_1 = 'Hello Python'\n",
    "\n",
    "print('int형: %d'%num_1)\n",
    "print('float형: %f'%num_2)\n",
    "print('16진수: 0x%x'%num_1)\n",
    "print('문자열: %s'%str_1)\n",
    "\n",
    "print('문자열: %s int형: %d'%(str_1,num_1))"
   ]
  },
  {
   "cell_type": "code",
   "execution_count": 13,
   "metadata": {},
   "outputs": [
    {
     "name": "stdout",
     "output_type": "stream",
     "text": [
      "1.234560\n",
      "apple / 7.77\n",
      "apple      /   7.770\n",
      "     apple /   7.770\n",
      "  apple    /   7.770\n",
      "apple===== /   7.770\n",
      "**apple*** /   7.770\n"
     ]
    }
   ],
   "source": [
    "# format() 함수\n",
    "print(format(1.23456,'7.6f')) #  전체 7 자리, 소숫점 6 자리\n",
    "\n",
    "# 추천 방법\n",
    "print('{0} / {1}'.format('apple',7.77))\n",
    "print('{0:<10} / {1:7.3f}'.format('apple',7.77)) # 10 자리 왼쪽으로 정렬 \n",
    "print('{0:>10} / {1:7.3f}'.format('apple',7.77)) # 10 자리 오른쪽으로 정렬 \n",
    "print('{0:^10} / {1:7.3f}'.format('apple',7.77)) # 10 자리 가운데로 정렬 \n",
    "\n",
    "print('{0:=<10} / {1:7.3f}'.format('apple',7.77)) # 10 자리 왼쪽으로 정렬 , 빈칸을 '='기호로 채움 \n",
    "print('{0:*^10} / {1:7.3f}'.format('apple',7.77)) # 10 자리 가운데로 정렬 , 빈칸을 '*'기호로 채움 "
   ]
  },
  {
   "cell_type": "markdown",
   "metadata": {},
   "source": [
    "###  eval() 함수 : 문자열로 표현된 파이썬 식(expression)을 인자로 받아 인터프리터가 번역하여 실행하도록 한다"
   ]
  },
  {
   "cell_type": "code",
   "execution_count": 14,
   "metadata": {},
   "outputs": [
    {
     "name": "stdout",
     "output_type": "stream",
     "text": [
      "a+20\n",
      "30\n"
     ]
    }
   ],
   "source": [
    "a = 10\n",
    "express = 'a' + '+' + '20'\n",
    "print(express)\n",
    "b = a + 20\n",
    "b = eval('a+20')\n",
    "print(b)"
   ]
  },
  {
   "cell_type": "markdown",
   "metadata": {},
   "source": [
    "### [숫자형 실습 과제]"
   ]
  },
  {
   "cell_type": "markdown",
   "metadata": {},
   "source": [
    "1. 속도와 거리를 입력받아 시간을 계산하여  출력하는 프로그램 (eval()함수를 사용)\n",
    "   \n",
    "        거리 / 속도"
   ]
  },
  {
   "cell_type": "code",
   "execution_count": 15,
   "metadata": {},
   "outputs": [
    {
     "name": "stdout",
     "output_type": "stream",
     "text": [
      "속도:10\n",
      "거리:20\n"
     ]
    },
    {
     "data": {
      "text/plain": [
       "2.0"
      ]
     },
     "execution_count": 15,
     "metadata": {},
     "output_type": "execute_result"
    }
   ],
   "source": [
    "v = input('속도:')\n",
    "d = input('거리:')\n",
    "\n",
    "t = eval(d + '/' +  v)\n",
    "t"
   ]
  },
  {
   "cell_type": "markdown",
   "metadata": {},
   "source": [
    "2. 길이와 너비를 입력받아 면적과 둘레를 계산하여 출력하는 프로그램\n",
    "   \n",
    "         면적  = 길이 * 너비\n",
    "\t \n",
    "  \t     둘레 = 길이 * 2 + 너비 * 2"
   ]
  },
  {
   "cell_type": "code",
   "execution_count": 16,
   "metadata": {},
   "outputs": [
    {
     "name": "stdout",
     "output_type": "stream",
     "text": [
      "Input length : 10\n",
      "Input width : 20\n",
      "length : 10.00 \twidth : 20.00 \n",
      "area : 200.00\n",
      "circumference : 60.00 \n"
     ]
    }
   ],
   "source": [
    "length = input( 'Input length : ' )\n",
    "width = input( 'Input width : ' )\n",
    "\n",
    "area = eval( length + '*' + width )\n",
    "# area =  int(length) * int(width)\n",
    "circumference = eval( length + '*' + '2' + '+' + width + '*' + '2' )\n",
    "# circumference =  int(length) * 2 + int(width) *2\n",
    "\n",
    "print( 'length : {0:<6.2f}\\twidth : {1:<6.2f}'.format( float( length ), float( width ) ) )\n",
    "print( 'area : {0:<6.2f}'.format( area ) )\n",
    "print( 'circumference : {0:<6.2f}'.format( circumference ) )"
   ]
  },
  {
   "cell_type": "markdown",
   "metadata": {},
   "source": [
    "3. 화씨 온도를 입력받아 섭씨 온도로 변환하는 프로그램\n",
    "\n",
    "        섭씨 = ( 화씨 - 32 ) / 1.8"
   ]
  },
  {
   "cell_type": "code",
   "execution_count": 17,
   "metadata": {},
   "outputs": [
    {
     "name": "stdout",
     "output_type": "stream",
     "text": [
      "화씨 온도를 입력해주세요70\n",
      "(70-32)/1.8\n",
      "fahrenheit : 70.00  -> celsius : 21.11 \n"
     ]
    }
   ],
   "source": [
    "fahrenheit = input(\"화씨 온도를 입력해주세요\")\n",
    "express = '(' + fahrenheit + '-' + '32' + ')' +'/'+ '1.8'\n",
    "print(express)\n",
    "celsius = eval(express)\n",
    "print( 'fahrenheit : {0:<6.2f} -> celsius : {1:<6.2f}'.format( float(fahrenheit), celsius ) )"
   ]
  },
  {
   "cell_type": "code",
   "execution_count": null,
   "metadata": {},
   "outputs": [],
   "source": []
  }
 ],
 "metadata": {
  "kernelspec": {
   "display_name": "Python 3",
   "language": "python",
   "name": "python3"
  },
  "language_info": {
   "codemirror_mode": {
    "name": "ipython",
    "version": 3
   },
   "file_extension": ".py",
   "mimetype": "text/x-python",
   "name": "python",
   "nbconvert_exporter": "python",
   "pygments_lexer": "ipython3",
   "version": "3.8.3"
  }
 },
 "nbformat": 4,
 "nbformat_minor": 4
}
