{
 "cells": [
  {
   "cell_type": "markdown",
   "metadata": {},
   "source": [
    "# 최영용 1/14(화)  과제 제출"
   ]
  },
  {
   "cell_type": "markdown",
   "metadata": {},
   "source": [
    "# 조건문(if)\n",
    "# 문제1) \n",
    "입력 받은 정수가 짝수인지 홀수인지 판별"
   ]
  },
  {
   "cell_type": "code",
   "execution_count": 20,
   "metadata": {},
   "outputs": [
    {
     "name": "stdout",
     "output_type": "stream",
     "text": [
      "Enter a number: 7\n",
      "7 is Odd number\n"
     ]
    }
   ],
   "source": [
    "number = int(input(\"Enter a number: \"))\n",
    "tmp = ''\n",
    "if(number%2==1):\n",
    "    tmp='Odd'\n",
    "else: tmp = 'Even'\n",
    "    \n",
    "print(\"%d is %s number\" %(number,tmp))\n"
   ]
  },
  {
   "cell_type": "markdown",
   "metadata": {},
   "source": [
    "# 문제2) \n",
    "프로그래밍 과목의 중간고사와 기말고사 점수를 입력 받아 평균과 학점을 구하는 프로그램을 작성하시오."
   ]
  },
  {
   "cell_type": "code",
   "execution_count": 25,
   "metadata": {},
   "outputs": [
    {
     "name": "stdout",
     "output_type": "stream",
     "text": [
      "Enter your midterm score: 77\n",
      "Enter your final score: 56\n",
      "Average 66.5\n",
      "Grade:  D\n"
     ]
    }
   ],
   "source": [
    "midtem_socore = int(input(\"Enter your midterm score: \"))\n",
    "final_socore = int(input(\"Enter your final score: \"))\n",
    "average_socore = (midtem_socore+final_socore)/2\n",
    "grade=''\n",
    "print(\"Average\",average_socore)\n",
    "if(average_socore>=90):\n",
    "    grade='A'\n",
    "elif(average_socore>=80):\n",
    "    grade='B'\n",
    "elif(average_socore>70):\n",
    "    grade='C'\n",
    "elif(average_socore>60):\n",
    "    grade='D'\n",
    "else: grade='F'\n",
    "print('Grade: ',grade)"
   ]
  },
  {
   "cell_type": "markdown",
   "metadata": {},
   "source": [
    "# 문제3) PPT 문제\n",
    "학생수준평가 시험에서 영어 점수와 수학 점수가 합해서 110점 이상이면 합격이다. 단, 각 점수가 40점 미만이면 불합격이다. 영어(eng), 수학(math)점수를 입력 받아 합격여부를 출력하는 프로그램을 작성하시오.\n",
    "출력예시는 실습 PPT를 참고하시오.\n",
    "수학 영어 성적을 받아서 합,불 처리"
   ]
  },
  {
   "cell_type": "code",
   "execution_count": 26,
   "metadata": {},
   "outputs": [
    {
     "name": "stdout",
     "output_type": "stream",
     "text": [
      "영어 점수 입력: 90\n",
      "수학 점수 입력: 30\n",
      "불합격: 수학 점수 부족\n"
     ]
    }
   ],
   "source": [
    "eng = int(input(\"영어 점수 입력: \"))\n",
    "math = int(input(\"수학 점수 입력: \"))\n",
    "total= eng+math\n",
    "if(total<110):\n",
    "    print(\"불합격: 종합 점수 부족\")\n",
    "elif (eng<40):\n",
    "    print(\"불합격: 영어 점수 부족\")\n",
    "elif (math<40):\n",
    "    print(\"불합격: 수학 점수 부족\")\n",
    "else : print(\"합격\")"
   ]
  },
  {
   "cell_type": "markdown",
   "metadata": {},
   "source": [
    "# 문제4) PPT문제\n",
    "세 개의 정수를 입력 받아, 가장 큰 수만 출력하는 프로그램을 작성하시오. (max 함수 이용하지 않고 구할 것)"
   ]
  },
  {
   "cell_type": "code",
   "execution_count": 7,
   "metadata": {},
   "outputs": [
    {
     "name": "stdout",
     "output_type": "stream",
     "text": [
      "세 개의 수를 입력하시오: 30 22 50\n",
      "50\n"
     ]
    }
   ],
   "source": [
    "x = list(map(int,input(\"세 개의 수를 입력하시오: \").split()))\n",
    "max_num= x[0]\n",
    "for i in range(1,len(x)):\n",
    "    if(max_num<x[i]):\n",
    "        max_num=x[i]\n",
    "    else: pass\n",
    "print(max_num)    \n",
    "        \n",
    "    "
   ]
  },
  {
   "cell_type": "markdown",
   "metadata": {},
   "source": [
    "# 반복문\n",
    "# 문제1) \n",
    "단어(문자열)가 주어질 때, 아래와 같이 출력되도록 작성하시오. "
   ]
  },
  {
   "cell_type": "code",
   "execution_count": 27,
   "metadata": {},
   "outputs": [
    {
     "name": "stdout",
     "output_type": "stream",
     "text": [
      "P\n",
      "y\n",
      "t\n",
      "h\n",
      "o\n",
      "n\n"
     ]
    }
   ],
   "source": [
    "word='Python'\n",
    "cnt=0\n",
    "while len(word)!=cnt:\n",
    "    print(word[cnt])\n",
    "    cnt+=1\n",
    "    \n",
    "\n",
    "    \n",
    "    #여기하던 중이었습\n",
    "    \n",
    "    "
   ]
  },
  {
   "cell_type": "markdown",
   "metadata": {},
   "source": [
    "(2) for 문을 이용하여 작성 (문자열)\n",
    "(단, range()를 이용하지 않는다.)"
   ]
  },
  {
   "cell_type": "code",
   "execution_count": 8,
   "metadata": {},
   "outputs": [
    {
     "name": "stdout",
     "output_type": "stream",
     "text": [
      "p\n",
      "y\n",
      "t\n",
      "h\n",
      "o\n",
      "n\n"
     ]
    }
   ],
   "source": [
    "word='python'\n",
    "for i in word:\n",
    "    print(i)"
   ]
  },
  {
   "cell_type": "markdown",
   "metadata": {},
   "source": [
    "# 문제2) \n",
    "아래와 같이 출력되는 프로그램을 작성하시오.\n",
    "\n",
    "10, 9, 8, 7, 6, 5, 4, 3, 2, 1, Happy new year!!"
   ]
  },
  {
   "cell_type": "code",
   "execution_count": 59,
   "metadata": {},
   "outputs": [
    {
     "name": "stdout",
     "output_type": "stream",
     "text": [
      "10,9,8,7,6,5,4,3,2,1,Happy new year!!\n"
     ]
    }
   ],
   "source": [
    "cntdown= list(range(1,11))\n",
    "cntdown.reverse()\n",
    "cntdown.append(\"Happy new year!!\")\n",
    "cnt=0\n",
    "for i in cntdown:\n",
    "    if(cnt==len(cntdown)-1):\n",
    "        print(i)\n",
    "        break\n",
    "    print(i,end=',')\n",
    "    cnt+=1\n"
   ]
  },
  {
   "cell_type": "markdown",
   "metadata": {},
   "source": [
    "# 문제3) \n",
    "양의 두 정수 a, b를 입력 받아, a부터 b까지의 정수의 합을 구하여 출력하는 프로그램을 작성하시오. (for 또는 while을 이용할 것)\n",
    "단, 조건 a <= b 을 만족하는 값만 고려한다."
   ]
  },
  {
   "cell_type": "code",
   "execution_count": 12,
   "metadata": {},
   "outputs": [
    {
     "name": "stdout",
     "output_type": "stream",
     "text": [
      "Enter two integers : 5 10\n",
      "The sum from 5 to 10 is 45\n"
     ]
    }
   ],
   "source": [
    "x= list(map(int,input(\"Enter two integers : \").split()))\n",
    "sum=0\n",
    "for i in range(x[0],x[1]+1):\n",
    "    sum +=i\n",
    "\n",
    "print(\"The sum from %d to %d is %d\" %(x[0],x[1],sum))"
   ]
  },
  {
   "cell_type": "markdown",
   "metadata": {},
   "source": [
    "# 문제4) \n",
    "주어진 문자열에 문자a가 몇 개 있는지 구하는 프로그램을 작성하시오.(for문 사용할 것)"
   ]
  },
  {
   "cell_type": "code",
   "execution_count": 55,
   "metadata": {},
   "outputs": [
    {
     "data": {
      "text/plain": [
       "3"
      ]
     },
     "execution_count": 55,
     "metadata": {},
     "output_type": "execute_result"
    }
   ],
   "source": [
    "word = 'banana'\n",
    "cnt=0\n",
    "for i in word:\n",
    "    if(i=='a'):\n",
    "        cnt+=1\n",
    "    else : pass\n",
    "cnt"
   ]
  },
  {
   "cell_type": "markdown",
   "metadata": {},
   "source": [
    "# 문제5) \n",
    "### for 문과 range()함수를 이용하여 다음과 같이 출력되도록 작성하시오.\n",
    "\n",
    "0 1 2 3 4 5 6 7 8 9\n",
    "\n",
    "0 5 10 15 20 25 30 35 40 45 50\n",
    "\n",
    "10 9 8 7 6 5 4 3 2 1\n"
   ]
  },
  {
   "cell_type": "code",
   "execution_count": 68,
   "metadata": {},
   "outputs": [
    {
     "name": "stdout",
     "output_type": "stream",
     "text": [
      "0 1 2 3 4 5 6 7 8 9 \n",
      "\n",
      "0 5 10 15 20 25 30 35 40 45 50 \n",
      "\n",
      "10 9 8 7 6 5 4 3 2 1 \n",
      "\n"
     ]
    }
   ],
   "source": [
    "def print_all(x):\n",
    "    for i in x:\n",
    "        print(i,end=' ')\n",
    "    print('\\n')\n",
    "x = list(range(10))\n",
    "y= list(range(0,51,5))\n",
    "z= list(range(1,11))\n",
    "z.reverse()\n",
    "\n",
    "\n",
    "print_all(x)\n",
    "print_all(y)\n",
    "print_all(z)\n",
    "    "
   ]
  },
  {
   "cell_type": "markdown",
   "metadata": {},
   "source": [
    "# 문제6) \n",
    "for 문을 사용하여 리스트(colors)의 모든 내용을 출력하시오. (단, range()를 이용하지 않는다.)"
   ]
  },
  {
   "cell_type": "code",
   "execution_count": 15,
   "metadata": {},
   "outputs": [
    {
     "name": "stdout",
     "output_type": "stream",
     "text": [
      "red\n",
      "green\n",
      "blue\n"
     ]
    }
   ],
   "source": [
    "colors = [\"red\",\"green\",\"blue\"]\n",
    "for i in colors:\n",
    "    print(i)\n",
    "    "
   ]
  },
  {
   "cell_type": "markdown",
   "metadata": {},
   "source": [
    "# 문제7) \n",
    "리스트 a 전체를 반복해서 방문하되, 짝수만 출력하시오.(for 문 사용)"
   ]
  },
  {
   "cell_type": "code",
   "execution_count": 69,
   "metadata": {},
   "outputs": [
    {
     "name": "stdout",
     "output_type": "stream",
     "text": [
      "4 6 8 10 12 "
     ]
    }
   ],
   "source": [
    "a=[1,3,4,5,6,7,8,9,10,11,12,13]\n",
    "for i in a:\n",
    "    if(i%2==0):\n",
    "        print(i,end=' ')\n",
    "    else: pass"
   ]
  },
  {
   "cell_type": "markdown",
   "metadata": {},
   "source": [
    "# 문제8) \n",
    "구구단 출력1 – PPT 문제"
   ]
  },
  {
   "cell_type": "code",
   "execution_count": 70,
   "metadata": {},
   "outputs": [
    {
     "name": "stdout",
     "output_type": "stream",
     "text": [
      "출력하고 싶은 단을 입력하세요: 7\n",
      "7 * 1 = 7\n",
      "7 * 2 = 14\n",
      "7 * 3 = 21\n",
      "7 * 4 = 28\n",
      "7 * 5 = 35\n",
      "7 * 6 = 42\n",
      "7 * 7 = 49\n",
      "7 * 8 = 56\n",
      "7 * 9 = 63\n"
     ]
    }
   ],
   "source": [
    "def gugudan(x):\n",
    "    for i in range(1,10):\n",
    "        print(x,'*',i,'=',x*i,end='\\n')\n",
    "\n",
    "gugu=int(input(\"출력하고 싶은 단을 입력하세요: \"))\n",
    "gugudan(gugu)"
   ]
  },
  {
   "cell_type": "code",
   "execution_count": 75,
   "metadata": {},
   "outputs": [
    {
     "name": "stdout",
     "output_type": "stream",
     "text": [
      "== 2 단==\n",
      "2 * 1 = 2\n",
      "2 * 2 = 4\n",
      "2 * 3 = 6\n",
      "2 * 4 = 8\n",
      "2 * 5 = 10\n",
      "2 * 6 = 12\n",
      "2 * 7 = 14\n",
      "2 * 8 = 16\n",
      "2 * 9 = 18\n",
      "== 3 단==\n",
      "3 * 1 = 3\n",
      "3 * 2 = 6\n",
      "3 * 3 = 9\n",
      "3 * 4 = 12\n",
      "3 * 5 = 15\n",
      "3 * 6 = 18\n",
      "3 * 7 = 21\n",
      "3 * 8 = 24\n",
      "3 * 9 = 27\n",
      "== 4 단==\n",
      "4 * 1 = 4\n",
      "4 * 2 = 8\n",
      "4 * 3 = 12\n",
      "4 * 4 = 16\n",
      "4 * 5 = 20\n",
      "4 * 6 = 24\n",
      "4 * 7 = 28\n",
      "4 * 8 = 32\n",
      "4 * 9 = 36\n",
      "== 5 단==\n",
      "5 * 1 = 5\n",
      "5 * 2 = 10\n",
      "5 * 3 = 15\n",
      "5 * 4 = 20\n",
      "5 * 5 = 25\n",
      "5 * 6 = 30\n",
      "5 * 7 = 35\n",
      "5 * 8 = 40\n",
      "5 * 9 = 45\n",
      "== 6 단==\n",
      "6 * 1 = 6\n",
      "6 * 2 = 12\n",
      "6 * 3 = 18\n",
      "6 * 4 = 24\n",
      "6 * 5 = 30\n",
      "6 * 6 = 36\n",
      "6 * 7 = 42\n",
      "6 * 8 = 48\n",
      "6 * 9 = 54\n",
      "== 7 단==\n",
      "7 * 1 = 7\n",
      "7 * 2 = 14\n",
      "7 * 3 = 21\n",
      "7 * 4 = 28\n",
      "7 * 5 = 35\n",
      "7 * 6 = 42\n",
      "7 * 7 = 49\n",
      "7 * 8 = 56\n",
      "7 * 9 = 63\n",
      "== 8 단==\n",
      "8 * 1 = 8\n",
      "8 * 2 = 16\n",
      "8 * 3 = 24\n",
      "8 * 4 = 32\n",
      "8 * 5 = 40\n",
      "8 * 6 = 48\n",
      "8 * 7 = 56\n",
      "8 * 8 = 64\n",
      "8 * 9 = 72\n",
      "== 9 단==\n",
      "9 * 1 = 9\n",
      "9 * 2 = 18\n",
      "9 * 3 = 27\n",
      "9 * 4 = 36\n",
      "9 * 5 = 45\n",
      "9 * 6 = 54\n",
      "9 * 7 = 63\n",
      "9 * 8 = 72\n",
      "9 * 9 = 81\n"
     ]
    }
   ],
   "source": [
    "for j in range(2,10):\n",
    "    print(\"==\",j,'단==')\n",
    "    for i in range(1,10):\n",
    "        print(j,'*',i,'=',j*i,end='\\n')"
   ]
  },
  {
   "cell_type": "markdown",
   "metadata": {},
   "source": [
    "# 문제11) \n",
    "아래와 같은 문장이 주어졌을 때, 아래의 실행예시처럼 출력되도록 작성하시오."
   ]
  },
  {
   "cell_type": "code",
   "execution_count": 76,
   "metadata": {},
   "outputs": [
    {
     "name": "stdout",
     "output_type": "stream",
     "text": [
      "word 1 sally\n",
      "word 2 goes\n",
      "word 3 to\n",
      "word 4 the\n",
      "word 5 store\n"
     ]
    }
   ],
   "source": [
    "sentence = \"sally goes to the store\"\n",
    "tmp = sentence.split()\n",
    "\n",
    "for i in range(1,len(tmp)+1):\n",
    "    print('word',i,tmp[i-1])"
   ]
  },
  {
   "cell_type": "markdown",
   "metadata": {},
   "source": [
    "# 문제12) \n",
    "★ 출력 프로그램 - PPT 문제"
   ]
  },
  {
   "cell_type": "code",
   "execution_count": 78,
   "metadata": {},
   "outputs": [
    {
     "name": "stdout",
     "output_type": "stream",
     "text": [
      "Input an integer: 3159\n",
      "★★★\n",
      "★\n",
      "★★★★★\n",
      "★★★★★★★★★\n"
     ]
    }
   ],
   "source": [
    "tmp = input(\"Input an integer: \")\n",
    "for i in tmp:\n",
    "    print('★'*int(i))"
   ]
  },
  {
   "cell_type": "markdown",
   "metadata": {},
   "source": [
    "\n",
    "# 문제13) - PPT 문제\n",
    "“done“을 입력할 때까지 사용자로부터 숫자를 입력 받아 리스트에 저장하고, “done“을 입력하면, 리스트의 평균, 최대값과 최소값을 출력하는 프로그램을 작성하시오. \n",
    "(힌트) sum(), max(), min() 함수를 사용"
   ]
  },
  {
   "cell_type": "code",
   "execution_count": 83,
   "metadata": {},
   "outputs": [
    {
     "name": "stdout",
     "output_type": "stream",
     "text": [
      "Enter a number: 7\n",
      "Enter a number: 2\n",
      "Enter a number: 9\n",
      "Enter a number: 3\n",
      "Enter a number: 5\n",
      "Enter a number: done\n",
      "[7.0, 2.0, 9.0, 3.0, 5.0]\n",
      "Average: 5.2\n",
      "Maximum: 9.0\n",
      "Minimum: 2.0\n"
     ]
    }
   ],
   "source": [
    "sum=0\n",
    "num=[]\n",
    "tmp = input(\"Enter a number: \") \n",
    "\n",
    "while(tmp!='done'):\n",
    "    num.append(float(tmp))\n",
    "    tmp = input(\"Enter a number: \")\n",
    "    \n",
    "for i in num:\n",
    "    sum+=i\n",
    "average= sum/len(num)\n",
    "\n",
    "max_num=num[0]\n",
    "min_num=num[0]\n",
    "for i in range(1,len(num)):\n",
    "    if(max_num<num[i]):\n",
    "        max_num=num[i]\n",
    "    else: pass\n",
    "    \n",
    "    if(min_num>num[i]):\n",
    "        min_num=num[i]\n",
    "    else: pass\n",
    "\n",
    "\n",
    "print(num)\n",
    "print(\"Average:\",average)    \n",
    "print(\"Maximum:\",max_num)    \n",
    "print(\"Minimum:\",min_num)    "
   ]
  },
  {
   "cell_type": "code",
   "execution_count": null,
   "metadata": {},
   "outputs": [],
   "source": []
  },
  {
   "cell_type": "markdown",
   "metadata": {},
   "source": [
    "# 1주차 4번, 7번 문제"
   ]
  },
  {
   "cell_type": "code",
   "execution_count": 4,
   "metadata": {},
   "outputs": [
    {
     "name": "stdout",
     "output_type": "stream",
     "text": [
      "한 문장을 입력하시오: Python is fun!\n"
     ]
    },
    {
     "data": {
      "text/plain": [
       "['P', 'y', 't', 'h', 'o', 'n', ' ', 'i', 's', ' ', 'f', 'u', 'n', '!']"
      ]
     },
     "execution_count": 4,
     "metadata": {},
     "output_type": "execute_result"
    }
   ],
   "source": [
    "sentence = input(\"한 문장을 입력하시오: \")\n",
    "x=[]\n",
    "for i in sentence:\n",
    "    x.append(i)\n",
    "x\n"
   ]
  },
  {
   "cell_type": "code",
   "execution_count": 5,
   "metadata": {},
   "outputs": [
    {
     "name": "stdout",
     "output_type": "stream",
     "text": [
      "날짜(연/월/일) 입력: 2020/01/13\n",
      "입력한 날짜의 10년 후는 2030 년 01 월 13 일\n"
     ]
    }
   ],
   "source": [
    "input_date = input(\"날짜(연/월/일) 입력: \").split('/')\n",
    "year = input_date[0] \n",
    "month =input_date[1]\n",
    "day =input_date[2]\n",
    "print(\"입력한 날짜의 10년 후는 %d 년 %s 월 %s 일\" %(int(year)+10 ,month ,day))"
   ]
  },
  {
   "cell_type": "code",
   "execution_count": null,
   "metadata": {},
   "outputs": [],
   "source": []
  },
  {
   "cell_type": "code",
   "execution_count": null,
   "metadata": {},
   "outputs": [],
   "source": []
  }
 ],
 "metadata": {
  "kernelspec": {
   "display_name": "Python 3",
   "language": "python",
   "name": "python3"
  },
  "language_info": {
   "codemirror_mode": {
    "name": "ipython",
    "version": 3
   },
   "file_extension": ".py",
   "mimetype": "text/x-python",
   "name": "python",
   "nbconvert_exporter": "python",
   "pygments_lexer": "ipython3",
   "version": "3.7.4"
  }
 },
 "nbformat": 4,
 "nbformat_minor": 2
}
