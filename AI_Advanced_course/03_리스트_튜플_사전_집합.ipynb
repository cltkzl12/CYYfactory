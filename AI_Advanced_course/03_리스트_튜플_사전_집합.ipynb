{
 "cells": [
  {
   "cell_type": "markdown",
   "metadata": {},
   "source": [
    "### [1]  리스트(list) : 가변형(mutable), 시퀀스, 가장 유용한 자료형, [ ] :대괄호, 중복 허용"
   ]
  },
  {
   "cell_type": "code",
   "execution_count": 1,
   "metadata": {},
   "outputs": [],
   "source": [
    "a = [1,2,3,4,5,6]\n",
    "print(a,type(a))\n",
    "\n",
    "b = ['a','hello',1,3.5,a,3.5,1]\n",
    "print(b)"
   ]
  },
  {
   "cell_type": "code",
   "execution_count": 2,
   "metadata": {},
   "outputs": [],
   "source": [
    "# 인덱싱 /슬라이싱 : 배포 소스 참조\n",
    "a[0] = 10   # # 가변형이므로 요소 변경이 가능하다\n",
    "print(a)\n",
    "\n",
    "a[1:3] = [8,9,10]\n",
    "print(a)"
   ]
  },
  {
   "cell_type": "code",
   "execution_count": 3,
   "metadata": {},
   "outputs": [],
   "source": [
    "# range(start, end+1,step)\n",
    "\n",
    "print(list(range(0,10,1)))\n",
    "print(list(range(10)))      # 위와 동일한 결과\n",
    "print(list(range(0,10)))    # 위와 동일한 결과\n",
    "\n",
    "print(list(range(-10,11,2)))"
   ]
  },
  {
   "cell_type": "code",
   "execution_count": 4,
   "metadata": {},
   "outputs": [],
   "source": [
    "a = [1,2,3,4,5,6,7,8,9,10]\n",
    "print(len(a))  # 요소의 갯수, byte size가 아니다  \n",
    "print(sum(a))\n",
    "print(min(a))\n",
    "print(max(a))"
   ]
  },
  {
   "cell_type": "code",
   "execution_count": 5,
   "metadata": {},
   "outputs": [],
   "source": [
    "# 연산자\n",
    "a = [1,2,3]\n",
    "b = [3,4,5]\n",
    "c = a + b\n",
    "print(c)\n",
    "a*3"
   ]
  },
  {
   "cell_type": "code",
   "execution_count": 6,
   "metadata": {},
   "outputs": [],
   "source": [
    "print(3 in a)\n",
    "print( 4 not in a)"
   ]
  },
  {
   "cell_type": "code",
   "execution_count": 7,
   "metadata": {},
   "outputs": [],
   "source": [
    "# 추가\n",
    "a = []    # 빈리스트\n",
    "print(a)\n",
    "# a[0] = 10  IndexError\n",
    "\n",
    "for k in range(10):  # 0 ~ 9, 10회\n",
    "    a.append(k)\n",
    "print(a)"
   ]
  },
  {
   "cell_type": "code",
   "execution_count": 8,
   "metadata": {},
   "outputs": [],
   "source": [
    "del a[0]\n",
    "a"
   ]
  },
  {
   "cell_type": "code",
   "execution_count": 9,
   "metadata": {},
   "outputs": [],
   "source": [
    "# 정렬\n",
    "a = [1,5,2,4,3]\n",
    "print(a)\n",
    "\n",
    "a.sort()               # 오름 차순, 원본 변경\n",
    "print(a)\n",
    "\n",
    "a.sort(reverse=True)    # 내림 차순, 원본 변경\n",
    "print(a)"
   ]
  },
  {
   "cell_type": "code",
   "execution_count": 10,
   "metadata": {},
   "outputs": [],
   "source": [
    "# for문, if 문사용\n",
    "# from 0 to 10 짝수의 합\n",
    "sum(list(range(0,11,2)))\n",
    "\n",
    "total = 0\n",
    "a = []\n",
    "for k in range(0,11,2):   # 속도가 느리다\n",
    "    print(k)\n",
    "    total += k # total = toatl + k\n",
    "    if k > 4 :\n",
    "        a.append(k)\n",
    "\n",
    "print(total) \n",
    "print(a)"
   ]
  },
  {
   "cell_type": "code",
   "execution_count": 11,
   "metadata": {},
   "outputs": [],
   "source": [
    "# 리스트 내장(List Comprehension) : 파이썬 스타일(pythonic), 필수 암기\n",
    "a = [k for k in range(0,11,2)]\n",
    "print(a)\n",
    "\n",
    "b = [k for k in range(10)]\n",
    "print(b)"
   ]
  },
  {
   "cell_type": "code",
   "execution_count": 12,
   "metadata": {},
   "outputs": [],
   "source": [
    "# 조건식이 포함된 리스트 내장\n",
    "a = [k for k in range(0,11,2) if k > 4]\n",
    "print(a)"
   ]
  },
  {
   "cell_type": "code",
   "execution_count": 13,
   "metadata": {},
   "outputs": [],
   "source": [
    "a = list(range(11))\n",
    "print(a)\n",
    "\n",
    "b = [k for k in a if k%3 == 0]\n",
    "print(b)\n",
    "\n",
    "c = [k for k in a if k%3 != 0]\n",
    "print(c)"
   ]
  },
  {
   "cell_type": "code",
   "execution_count": 14,
   "metadata": {},
   "outputs": [],
   "source": [
    "d = [k for k in a if (k%3 == 0) and (k > 4)]\n",
    "print(d)"
   ]
  },
  {
   "cell_type": "markdown",
   "metadata": {},
   "source": [
    "### [2] 튜플(tuple) : 불변형(immutable), 시퀀스형, ( ):소괄호 사용"
   ]
  },
  {
   "cell_type": "code",
   "execution_count": 15,
   "metadata": {},
   "outputs": [],
   "source": [
    "a = (1,2,3,4,5,6)\n",
    "print(a,type(a))"
   ]
  },
  {
   "cell_type": "code",
   "execution_count": 16,
   "metadata": {},
   "outputs": [],
   "source": [
    "# indexing/slicing : 배포소스 참조\n",
    "# a[0] = 10         # TypeError: 'tuple' object does not support item assignment\n",
    "# a[1:3] = (20,30)  # TypeError: 'tuple' object does not support item assignment\n",
    "                    # 불변형 데이터는 요소 수정이 불가"
   ]
  },
  {
   "cell_type": "code",
   "execution_count": 17,
   "metadata": {},
   "outputs": [
    {
     "name": "stdout",
     "output_type": "stream",
     "text": [
      "<class 'tuple'>\n",
      "1 2 hello\n"
     ]
    }
   ],
   "source": [
    "# 패킹(packing), 언패킹\n",
    "t = 1, 2,'hello'  # 패킹, 괄호 생략이 가능, 쉼표로 데이터가 구분되어 있으면 튜플\n",
    "print(type(t))\n",
    "\n",
    "a,b,c = t         # 언패킹\n",
    "print(a,b,c)"
   ]
  },
  {
   "cell_type": "code",
   "execution_count": 18,
   "metadata": {},
   "outputs": [
    {
     "name": "stdout",
     "output_type": "stream",
     "text": [
      "1 2 hello\n"
     ]
    }
   ],
   "source": [
    "a,b,c = 1, 2,'hello' # 언패킹\n",
    "print(a,b,c)"
   ]
  },
  {
   "cell_type": "code",
   "execution_count": 19,
   "metadata": {},
   "outputs": [],
   "source": [
    "# a = 10\n",
    "# b = 20\n",
    "# c = 30\n",
    "a,b,c = 10,20,30  # 튜플의 언패킹"
   ]
  },
  {
   "cell_type": "code",
   "execution_count": 20,
   "metadata": {},
   "outputs": [
    {
     "name": "stdout",
     "output_type": "stream",
     "text": [
      "1 2 4 6\n",
      "1\n",
      "[2, 3, 4, 5, 6, 7]\n",
      "[1, 2, 3, 4, 5, 6]\n",
      "7\n",
      "1 2\n",
      "[3, 4, 5, 6, 7]\n",
      "1 7\n",
      "[2, 3, 4, 5, 6]\n"
     ]
    }
   ],
   "source": [
    "t = (1,2,3,4,5,6,7)  # 패킹\n",
    "# a,b = t            # ValueError\n",
    "a,b,_,c,_,d,_ = t    # 언패킹될 요소의 갯수를 일치시켜야한다, '_':사용하지 않을 요소\n",
    "print(a,b,c,d)\n",
    "\n",
    "\n",
    "# 확장된 언패킹 : '*' 사용\n",
    "a, *b = t\n",
    "print(a)  # 첫번째 요소\n",
    "print(b)  # 나머지 요소를 모두 리스트로 할당\n",
    "\n",
    "*a, b = t\n",
    "print(a)  # 나머지 요소를 모두 리스트로 할당\n",
    "print(b)  # 마지막 요소\n",
    "\n",
    "a,b,*c = t\n",
    "print(a,b)\n",
    "print(c)\n",
    "\n",
    "a,*b,c = t\n",
    "print(a,c)\n",
    "print(b)\n",
    "\n",
    "# a,*b,*c = t  # SyntaxError"
   ]
  },
  {
   "cell_type": "code",
   "execution_count": 21,
   "metadata": {},
   "outputs": [
    {
     "name": "stdout",
     "output_type": "stream",
     "text": [
      "<class 'int'>\n",
      "<class 'list'>\n",
      "<class 'tuple'>\n",
      "10\n",
      "<class 'tuple'>\n",
      "10\n"
     ]
    }
   ],
   "source": [
    "t = ()  # 빈 튜플\n",
    "l = []  # 빈 리스트\n",
    "\n",
    "t = (10)        # 튜플이 아님\n",
    "print(type(t))  # <class 'int'>\n",
    "\n",
    "l = [10]        # <class 'list'>\n",
    "print(type(l))\n",
    "\n",
    "t = (10,)\n",
    "print(type(t))  # <class 'tuple'>\n",
    "print(t[0])\n",
    "\n",
    "t = 10,\n",
    "print(type(t))  # <class 'tuple'>\n",
    "print(t[0])\n"
   ]
  },
  {
   "cell_type": "code",
   "execution_count": 22,
   "metadata": {},
   "outputs": [
    {
     "name": "stdout",
     "output_type": "stream",
     "text": [
      "1 2\n",
      "h i\n",
      "h\n",
      "['e', 'l', 'l', 'o']\n"
     ]
    }
   ],
   "source": [
    "# 리스트와 문자열도 언패킹과 확장 언패킹\n",
    "a,b = [1,2]\n",
    "print(a,b)\n",
    "\n",
    "a,b ='hi'\n",
    "print(a,b)\n",
    "\n",
    "a,*b = 'hello'\n",
    "print(a)\n",
    "print(b)  # 나머지 요소를 모두 리스트로 할당"
   ]
  },
  {
   "cell_type": "code",
   "execution_count": 23,
   "metadata": {},
   "outputs": [
    {
     "name": "stdout",
     "output_type": "stream",
     "text": [
      "2 1\n",
      "2 1\n"
     ]
    }
   ],
   "source": [
    "# 두 개의 값을 서로 변경하는 코드\n",
    "# x : 1 , y : 2\n",
    "\n",
    "# (1) 전통 언어 방식\n",
    "x = 1\n",
    "y = 2\n",
    "temp = x\n",
    "x = y\n",
    "y = temp\n",
    "print(x,y)\n",
    "\n",
    "# (2) 파이썬 방식( 튜플의 언패킹 사용)\n",
    "x,y = 1,2\n",
    "x,y = y,x \n",
    "print(x,y)"
   ]
  },
  {
   "cell_type": "markdown",
   "metadata": {},
   "source": [
    "### [3] 사전(dict): 가변형(mutable), 순서가 없다, 연관형, 매핑형 ,{ } : 중괄호사용\n",
    "#### {key:value,.....}, key 는 반드시 immutable형 이어야 한다(숫자형,문자열,튜플),\n",
    "#### value 는 mutable,immutable 모두 사용 가능하다"
   ]
  },
  {
   "cell_type": "code",
   "execution_count": 24,
   "metadata": {},
   "outputs": [
    {
     "name": "stdout",
     "output_type": "stream",
     "text": [
      "{'name': '홍길동', 'age': 30, 'phone': '010-1234-1234', 'birth': '20200519', 10: 100}\n",
      "<class 'dict'>\n"
     ]
    }
   ],
   "source": [
    "a = {'name':'홍길동','age':30,'phone':'010-1234-1234','birth':'20200519',10:100}\n",
    "print(a)\n",
    "print(type(a))"
   ]
  },
  {
   "cell_type": "code",
   "execution_count": 25,
   "metadata": {},
   "outputs": [
    {
     "name": "stdout",
     "output_type": "stream",
     "text": [
      "홍길동 30 20200519 100\n"
     ]
    }
   ],
   "source": [
    "# 요소 접근 : a[key],  순서가 없으므로 slicing은 불가\n",
    "print(a['name'],a['age'],a['birth'],a[10])"
   ]
  },
  {
   "cell_type": "code",
   "execution_count": 26,
   "metadata": {},
   "outputs": [
    {
     "name": "stdout",
     "output_type": "stream",
     "text": [
      "{'name': '김철수', 'age': 20, 'phone': '010-1234-1234', 'birth': '20200519', 10: 500}\n"
     ]
    }
   ],
   "source": [
    "# 요소 수정\n",
    "a['name'] = '김철수'\n",
    "a['age'] = 20\n",
    "a[10] = 500\n",
    "print(a)"
   ]
  },
  {
   "cell_type": "code",
   "execution_count": 27,
   "metadata": {},
   "outputs": [
    {
     "name": "stdout",
     "output_type": "stream",
     "text": [
      "{'name': '김철수', 'age': 20, 'phone': '010-1234-1234', 'birth': '20200519', 10: 500, '주소': '서울시', '직업': '학생', (1, 2, 3): '튜플데이터'}\n"
     ]
    }
   ],
   "source": [
    "# 요소 추가\n",
    "a['주소'] = '서울시'\n",
    "a['직업'] = '학생'\n",
    "a[(1,2,3)] = '튜플데이터'\n",
    "print(a)"
   ]
  },
  {
   "cell_type": "code",
   "execution_count": 28,
   "metadata": {},
   "outputs": [
    {
     "name": "stdout",
     "output_type": "stream",
     "text": [
      "{'name': '김철수', 'age': 20, 'phone': '010-1234-1234', 'birth': '20200519', 10: 500, '직업': '학생'}\n"
     ]
    }
   ],
   "source": [
    "# 제거\n",
    "del a['주소']\n",
    "del a[(1,2,3)]\n",
    "print(a)"
   ]
  },
  {
   "cell_type": "code",
   "execution_count": 29,
   "metadata": {},
   "outputs": [
    {
     "name": "stdout",
     "output_type": "stream",
     "text": [
      "dict_keys(['name', 'age', 'phone', 'birth', 10, '직업'])\n",
      "dict_values(['김철수', 20, '010-1234-1234', '20200519', 500, '학생'])\n",
      "dict_items([('name', '김철수'), ('age', 20), ('phone', '010-1234-1234'), ('birth', '20200519'), (10, 500), ('직업', '학생')])\n"
     ]
    }
   ],
   "source": [
    "# 연산자\n",
    "print(a.keys())    #  key 값들 만 dict_keys타입으로 변환\n",
    "print(a.values())  # value 값들만 dict_values 타입으로 변환\n",
    "\n",
    "print(a.items())   # key와 value값을 튜플로 만들어 dict_items 타입으로 변환"
   ]
  },
  {
   "cell_type": "code",
   "execution_count": 30,
   "metadata": {},
   "outputs": [
    {
     "name": "stdout",
     "output_type": "stream",
     "text": [
      "{'a': 1, 'b': 1, 'c': 1, 'd': 1, 'e': 1, 'f': 1, 'g': 1}\n",
      "<class 'dict'>\n",
      "{0: 'a', 1: 'b', 2: 'c', 3: 'd', 4: 'e', 5: 'f', 6: 'g'}\n"
     ]
    }
   ],
   "source": [
    "# 사전 내장(dict comprehension)\n",
    "a = {k:1 for k in 'abcdefg'}\n",
    "print(a)\n",
    "print(type(a))\n",
    "\n",
    "a = {i:k for i, k in enumerate('abcdefg')} # 인덱스와 요소값을 함께 튜플로 변환\n",
    "print(a)"
   ]
  },
  {
   "cell_type": "code",
   "execution_count": 31,
   "metadata": {},
   "outputs": [
    {
     "name": "stdout",
     "output_type": "stream",
     "text": [
      "{'a': 1, 'b': 1, 'd': 1, 'e': 1, 'f': 1, 'g': 1}\n"
     ]
    }
   ],
   "source": [
    "a = {k:1 for k in 'abcdefg' if k != 'c'}\n",
    "print(a)"
   ]
  },
  {
   "cell_type": "code",
   "execution_count": 32,
   "metadata": {},
   "outputs": [
    {
     "name": "stdout",
     "output_type": "stream",
     "text": [
      "{'name': 0, 'age': 1, 'phone': 2, 'birth': 3, 10: 4, '직업': 5}\n"
     ]
    }
   ],
   "source": [
    "b = ['name', 'age', 'phone', 'birth', 10, '직업']\n",
    "a = {k:i for i,k in enumerate(b)}\n",
    "print(a)"
   ]
  },
  {
   "cell_type": "code",
   "execution_count": 33,
   "metadata": {},
   "outputs": [
    {
     "name": "stdout",
     "output_type": "stream",
     "text": [
      "{'name': '김철수', 'age': 20, 'phone': '010-1234-1234', 'birth': '20200519', 10: 500, '직업': '학생'}\n"
     ]
    }
   ],
   "source": [
    "a1 = ['name', 'age', 'phone', 'birth', 10, '직업']\n",
    "a2 = ['김철수', 20, '010-1234-1234', '20200519', 500, '학생']\n",
    "\n",
    "# 두개의 서로 다른 리스트를 사용하여 한 개의 사전을 생성\n",
    "# a = {a1[0]:a2[0],a1[1]:a2[1]}\n",
    "# print(a)\n",
    "\n",
    "# print(list(zip(a1,a2)))\n",
    "\n",
    "a = {k:v for k,v in zip(a1,a2)}\n",
    "print(a)"
   ]
  },
  {
   "cell_type": "markdown",
   "metadata": {},
   "source": [
    "### [4] 집합(set) : mutable, 순서가 없다, { }중괄호 사용, 중복을 허용하지 않는다"
   ]
  },
  {
   "cell_type": "code",
   "execution_count": 34,
   "metadata": {},
   "outputs": [
    {
     "name": "stdout",
     "output_type": "stream",
     "text": [
      "{1, 2, 3, 4} <class 'set'>\n"
     ]
    }
   ],
   "source": [
    "s = {1,2,3,4}\n",
    "print(s,type(s))"
   ]
  },
  {
   "cell_type": "code",
   "execution_count": 35,
   "metadata": {},
   "outputs": [
    {
     "name": "stdout",
     "output_type": "stream",
     "text": [
      "<class 'dict'>\n"
     ]
    }
   ],
   "source": [
    "d = {}    # 빈 사전, 집합이 아니다\n",
    "print(type(d))"
   ]
  },
  {
   "cell_type": "code",
   "execution_count": 36,
   "metadata": {},
   "outputs": [],
   "source": [
    "l = []  # 빈 리스트\n",
    "t = ()  # 빈 튜플\n",
    "d = {}  # 빈 사전"
   ]
  },
  {
   "cell_type": "code",
   "execution_count": 37,
   "metadata": {},
   "outputs": [
    {
     "name": "stdout",
     "output_type": "stream",
     "text": [
      "{1, 2, 4, 5, 6, 8}\n"
     ]
    }
   ],
   "source": [
    "# 중복 허용하지 않음\n",
    "s = {4,4,4,5,5,5,6,6,6,2,2,2,1,1,1,8,8,8}\n",
    "print(s)"
   ]
  },
  {
   "cell_type": "code",
   "execution_count": 38,
   "metadata": {},
   "outputs": [
    {
     "name": "stdout",
     "output_type": "stream",
     "text": [
      "[4, 4, 4, 5, 5, 5, 6, 6, 6, 2, 2, 2, 1, 1, 1, 8, 8, 8]\n",
      "[1, 2, 4, 5, 6, 8]\n",
      "['hello', 'say', 'hello', 'say', 'i', 'you', 'i']\n",
      "['say', 'hello', 'you', 'i']\n",
      "{'say': 0, 'hello': 1, 'you': 2, 'i': 3}\n"
     ]
    }
   ],
   "source": [
    "# 중복된 데이터 제거 시 주로 사용됨\n",
    "a = [4,4,4,5,5,5,6,6,6,2,2,2,1,1,1,8,8,8]\n",
    "print(a)\n",
    "a = list(set(a))\n",
    "print(a)\n",
    "\n",
    "word_list = ['hello','say','hello','say','i','you','i']\n",
    "print(word_list)\n",
    "words = list(set(word_list))\n",
    "print(words)\n",
    "\n",
    "d = {k:i for i, k in enumerate(words)}\n",
    "print(d)"
   ]
  },
  {
   "cell_type": "code",
   "execution_count": null,
   "metadata": {},
   "outputs": [],
   "source": []
  }
 ],
 "metadata": {
  "kernelspec": {
   "display_name": "Python 3",
   "language": "python",
   "name": "python3"
  },
  "language_info": {
   "codemirror_mode": {
    "name": "ipython",
    "version": 3
   },
   "file_extension": ".py",
   "mimetype": "text/x-python",
   "name": "python",
   "nbconvert_exporter": "python",
   "pygments_lexer": "ipython3",
   "version": "3.8.3"
  }
 },
 "nbformat": 4,
 "nbformat_minor": 4
}
