{
 "cells": [
  {
   "cell_type": "code",
   "execution_count": 2,
   "metadata": {
    "colab": {
     "base_uri": "https://localhost:8080/",
     "height": 90
    },
    "colab_type": "code",
    "id": "TfmTNyZ-whv9",
    "outputId": "72fd7ad9-795d-4f76-fa27-4b0166d64186"
   },
   "outputs": [
    {
     "name": "stderr",
     "output_type": "stream",
     "text": [
      "/usr/local/lib/python3.6/dist-packages/statsmodels/tools/_testing.py:19: FutureWarning: pandas.util.testing is deprecated. Use the functions in the public API at pandas.testing instead.\n",
      "  import pandas.util.testing as tm\n"
     ]
    },
    {
     "data": {
      "text/plain": [
       "'font_path = \"C:\\\\Windows\\\\Fonts\\\\malgun.ttf\"\\nfont_name = font_manager.FontProperties(fname=font_path).get_name()\\nmatplotlib.rc(\\'font\\',family=font_name)\\nmatplotlib.rcParams[\\'axes.unicode_minus\\'] = False'"
      ]
     },
     "execution_count": 2,
     "metadata": {
      "tags": []
     },
     "output_type": "execute_result"
    }
   ],
   "source": [
    "import pandas as pd\n",
    "import numpy as np\n",
    "import matplotlib\n",
    "import matplotlib.pyplot as plt\n",
    "import seaborn as sns\n",
    "\n",
    "from scipy import stats\n",
    "import scipy.stats\n",
    "import statsmodels.api as sm\n",
    "from statsmodels.stats.proportion import proportions_ztest\n",
    "from sklearn.metrics import accuracy_score\n",
    "from statsmodels.api import Logit\n",
    "from sklearn.neural_network import MLPClassifier\n",
    "\n",
    "from scipy.stats import shapiro\n",
    "from statsmodels.stats.outliers_influence import variance_inflation_factor\n",
    "from sklearn.linear_model import LinearRegression\n",
    "from sklearn.feature_selection import RFE\n",
    "from sklearn.preprocessing import StandardScaler\n",
    "import statsmodels.formula.api as smf\n",
    "from statsmodels.tools.eval_measures import rmse\n",
    "from statsmodels.api import qqplot, add_constant\n",
    "from statsmodels.formula.api import ols\n",
    "import pandas as pd\n",
    "import matplotlib.pyplot as plt\n",
    "import matplotlib\n",
    "\n",
    "from sklearn.tree import export_graphviz\n",
    "# import graphviz\n",
    "\n",
    "from sklearn.model_selection import train_test_split\n",
    "from sklearn.tree import DecisionTreeRegressor\n",
    "from sklearn.model_selection import GridSearchCV\n",
    "from sklearn.ensemble import RandomForestRegressor\n",
    "from sklearn.model_selection import GridSearchCV\n",
    "from sklearn.metrics import mean_squared_error\n",
    "\n",
    "from sklearn.metrics import mean_absolute_error\n",
    "\n",
    "from sklearn.ensemble import GradientBoostingRegressor\n",
    "from sklearn.model_selection import GridSearchCV\n",
    "from matplotlib import font_manager,rc\n",
    "\"\"\"font_path = \"C:\\Windows\\Fonts\\malgun.ttf\"\n",
    "font_name = font_manager.FontProperties(fname=font_path).get_name()\n",
    "matplotlib.rc('font',family=font_name)\n",
    "matplotlib.rcParams['axes.unicode_minus'] = False\"\"\""
   ]
  },
  {
   "cell_type": "markdown",
   "metadata": {},
   "source": [
    "# ReadData"
   ]
  },
  {
   "cell_type": "code",
   "execution_count": 9,
   "metadata": {},
   "outputs": [
    {
     "data": {
      "text/html": [
       "<div>\n",
       "<style scoped>\n",
       "    .dataframe tbody tr th:only-of-type {\n",
       "        vertical-align: middle;\n",
       "    }\n",
       "\n",
       "    .dataframe tbody tr th {\n",
       "        vertical-align: top;\n",
       "    }\n",
       "\n",
       "    .dataframe thead th {\n",
       "        text-align: right;\n",
       "    }\n",
       "</style>\n",
       "<table border=\"1\" class=\"dataframe\">\n",
       "  <thead>\n",
       "    <tr style=\"text-align: right;\">\n",
       "      <th></th>\n",
       "      <th>Unnamed: 0</th>\n",
       "      <th>ID</th>\n",
       "      <th>나이</th>\n",
       "      <th>성별</th>\n",
       "      <th>유입경로</th>\n",
       "      <th>유입기기</th>\n",
       "      <th>회원구분</th>\n",
       "      <th>구매여부</th>\n",
       "      <th>주소(동/읍/면)</th>\n",
       "      <th>AgeGroup</th>\n",
       "    </tr>\n",
       "  </thead>\n",
       "  <tbody>\n",
       "    <tr>\n",
       "      <td>0</td>\n",
       "      <td>0</td>\n",
       "      <td>cgh1385</td>\n",
       "      <td>53</td>\n",
       "      <td>남자</td>\n",
       "      <td>블로그광고</td>\n",
       "      <td>모바일</td>\n",
       "      <td>일반</td>\n",
       "      <td>1</td>\n",
       "      <td>전라북도</td>\n",
       "      <td>50-55</td>\n",
       "    </tr>\n",
       "    <tr>\n",
       "      <td>1</td>\n",
       "      <td>1</td>\n",
       "      <td>pjkl77</td>\n",
       "      <td>28</td>\n",
       "      <td>남자</td>\n",
       "      <td>이메일광고</td>\n",
       "      <td>PC</td>\n",
       "      <td>사업자</td>\n",
       "      <td>1</td>\n",
       "      <td>전라북도</td>\n",
       "      <td>25-30</td>\n",
       "    </tr>\n",
       "    <tr>\n",
       "      <td>2</td>\n",
       "      <td>2</td>\n",
       "      <td>bear011</td>\n",
       "      <td>40</td>\n",
       "      <td>남자</td>\n",
       "      <td>SNS광고</td>\n",
       "      <td>모바일</td>\n",
       "      <td>사업자</td>\n",
       "      <td>1</td>\n",
       "      <td>경기도</td>\n",
       "      <td>40-45</td>\n",
       "    </tr>\n",
       "    <tr>\n",
       "      <td>3</td>\n",
       "      <td>3</td>\n",
       "      <td>kim0750</td>\n",
       "      <td>44</td>\n",
       "      <td>남자</td>\n",
       "      <td>SNS광고</td>\n",
       "      <td>PC</td>\n",
       "      <td>사업자</td>\n",
       "      <td>1</td>\n",
       "      <td>경상북도</td>\n",
       "      <td>40-45</td>\n",
       "    </tr>\n",
       "    <tr>\n",
       "      <td>4</td>\n",
       "      <td>4</td>\n",
       "      <td>nonane9979</td>\n",
       "      <td>45</td>\n",
       "      <td>남자</td>\n",
       "      <td>블로그광고</td>\n",
       "      <td>PC</td>\n",
       "      <td>사업자</td>\n",
       "      <td>1</td>\n",
       "      <td>부산광역시</td>\n",
       "      <td>45-50</td>\n",
       "    </tr>\n",
       "  </tbody>\n",
       "</table>\n",
       "</div>"
      ],
      "text/plain": [
       "   Unnamed: 0          ID  나이  성별   유입경로 유입기기 회원구분  구매여부 주소(동/읍/면) AgeGroup\n",
       "0           0     cgh1385  53  남자  블로그광고  모바일   일반     1      전라북도    50-55\n",
       "1           1      pjkl77  28  남자  이메일광고   PC  사업자     1      전라북도    25-30\n",
       "2           2     bear011  40  남자  SNS광고  모바일  사업자     1       경기도    40-45\n",
       "3           3     kim0750  44  남자  SNS광고   PC  사업자     1      경상북도    40-45\n",
       "4           4  nonane9979  45  남자  블로그광고   PC  사업자     1     부산광역시    45-50"
      ]
     },
     "execution_count": 9,
     "metadata": {},
     "output_type": "execute_result"
    }
   ],
   "source": [
    "df_order_raw=pd.read_csv(\"0427_member_isbuy_new.csv\")\n",
    "df_order_raw.head()"
   ]
  },
  {
   "cell_type": "code",
   "execution_count": 45,
   "metadata": {},
   "outputs": [],
   "source": [
    "df_order=pd.DataFrame()\n",
    "df_order=df_order_raw.drop([\"Unnamed: 0\",\"ID\"],axis=1)"
   ]
  },
  {
   "cell_type": "code",
   "execution_count": 46,
   "metadata": {},
   "outputs": [
    {
     "name": "stdout",
     "output_type": "stream",
     "text": [
      "Index(['나이', '구매여부', '성별_남자', '성별_여자', '유입경로_SNS광고', '유입경로_기타', '유입경로_블로그광고',\n",
      "       '유입경로_신문광고', '유입경로_유튜브광고', '유입경로_이메일광고', '유입경로_인터넷검색', '유입경로_인터넷기사광고',\n",
      "       '유입경로_잡지광고', '유입경로_전단지광고', '유입경로_지인추천', '유입경로_카카오톡광고', '유입기기_PC',\n",
      "       '유입기기_모바일', '회원구분_VIP', '회원구분_관리자', '회원구분_딜러', '회원구분_딜러 유치 회원',\n",
      "       '회원구분_사업자', '회원구분_사업자(수신거부)', '회원구분_일반', '회원구분_일반(수신거부)',\n",
      "       '회원구분_전화주문 고객', '회원구분_특별회원', '주소(동/읍/면)_-', '주소(동/읍/면)_강원도',\n",
      "       '주소(동/읍/면)_경기도', '주소(동/읍/면)_경상남도', '주소(동/읍/면)_경상북도', '주소(동/읍/면)_광주광역시',\n",
      "       '주소(동/읍/면)_대구광역시', '주소(동/읍/면)_대전광역시', '주소(동/읍/면)_부산광역시',\n",
      "       '주소(동/읍/면)_서울특별시', '주소(동/읍/면)_세종특별자치시', '주소(동/읍/면)_오프라인',\n",
      "       '주소(동/읍/면)_울산광역시', '주소(동/읍/면)_인천광역시', '주소(동/읍/면)_전라남도',\n",
      "       '주소(동/읍/면)_전라북도', '주소(동/읍/면)_제주특별자치도', '주소(동/읍/면)_충청남도',\n",
      "       '주소(동/읍/면)_충청북도', 'AgeGroup_20-25', 'AgeGroup_25-30', 'AgeGroup_30-35',\n",
      "       'AgeGroup_35-40', 'AgeGroup_40-45', 'AgeGroup_45-50', 'AgeGroup_50-55',\n",
      "       'AgeGroup_55-60', 'AgeGroup_60-65', 'AgeGroup_65-70', 'AgeGroup_70-75',\n",
      "       'AgeGroup_75-80', 'AgeGroup_80-85', 'AgeGroup_85-90', 'AgeGroup_90-95'],\n",
      "      dtype='object')\n"
     ]
    },
    {
     "data": {
      "text/html": [
       "<div>\n",
       "<style scoped>\n",
       "    .dataframe tbody tr th:only-of-type {\n",
       "        vertical-align: middle;\n",
       "    }\n",
       "\n",
       "    .dataframe tbody tr th {\n",
       "        vertical-align: top;\n",
       "    }\n",
       "\n",
       "    .dataframe thead th {\n",
       "        text-align: right;\n",
       "    }\n",
       "</style>\n",
       "<table border=\"1\" class=\"dataframe\">\n",
       "  <thead>\n",
       "    <tr style=\"text-align: right;\">\n",
       "      <th></th>\n",
       "      <th>나이</th>\n",
       "      <th>구매여부</th>\n",
       "      <th>성별_남자</th>\n",
       "      <th>성별_여자</th>\n",
       "      <th>유입경로_SNS광고</th>\n",
       "      <th>유입경로_기타</th>\n",
       "      <th>유입경로_블로그광고</th>\n",
       "      <th>유입경로_신문광고</th>\n",
       "      <th>유입경로_유튜브광고</th>\n",
       "      <th>유입경로_이메일광고</th>\n",
       "      <th>...</th>\n",
       "      <th>AgeGroup_45-50</th>\n",
       "      <th>AgeGroup_50-55</th>\n",
       "      <th>AgeGroup_55-60</th>\n",
       "      <th>AgeGroup_60-65</th>\n",
       "      <th>AgeGroup_65-70</th>\n",
       "      <th>AgeGroup_70-75</th>\n",
       "      <th>AgeGroup_75-80</th>\n",
       "      <th>AgeGroup_80-85</th>\n",
       "      <th>AgeGroup_85-90</th>\n",
       "      <th>AgeGroup_90-95</th>\n",
       "    </tr>\n",
       "  </thead>\n",
       "  <tbody>\n",
       "    <tr>\n",
       "      <td>0</td>\n",
       "      <td>53</td>\n",
       "      <td>1</td>\n",
       "      <td>1</td>\n",
       "      <td>0</td>\n",
       "      <td>0</td>\n",
       "      <td>0</td>\n",
       "      <td>1</td>\n",
       "      <td>0</td>\n",
       "      <td>0</td>\n",
       "      <td>0</td>\n",
       "      <td>...</td>\n",
       "      <td>0</td>\n",
       "      <td>1</td>\n",
       "      <td>0</td>\n",
       "      <td>0</td>\n",
       "      <td>0</td>\n",
       "      <td>0</td>\n",
       "      <td>0</td>\n",
       "      <td>0</td>\n",
       "      <td>0</td>\n",
       "      <td>0</td>\n",
       "    </tr>\n",
       "    <tr>\n",
       "      <td>1</td>\n",
       "      <td>28</td>\n",
       "      <td>1</td>\n",
       "      <td>1</td>\n",
       "      <td>0</td>\n",
       "      <td>0</td>\n",
       "      <td>0</td>\n",
       "      <td>0</td>\n",
       "      <td>0</td>\n",
       "      <td>0</td>\n",
       "      <td>1</td>\n",
       "      <td>...</td>\n",
       "      <td>0</td>\n",
       "      <td>0</td>\n",
       "      <td>0</td>\n",
       "      <td>0</td>\n",
       "      <td>0</td>\n",
       "      <td>0</td>\n",
       "      <td>0</td>\n",
       "      <td>0</td>\n",
       "      <td>0</td>\n",
       "      <td>0</td>\n",
       "    </tr>\n",
       "    <tr>\n",
       "      <td>2</td>\n",
       "      <td>40</td>\n",
       "      <td>1</td>\n",
       "      <td>1</td>\n",
       "      <td>0</td>\n",
       "      <td>1</td>\n",
       "      <td>0</td>\n",
       "      <td>0</td>\n",
       "      <td>0</td>\n",
       "      <td>0</td>\n",
       "      <td>0</td>\n",
       "      <td>...</td>\n",
       "      <td>0</td>\n",
       "      <td>0</td>\n",
       "      <td>0</td>\n",
       "      <td>0</td>\n",
       "      <td>0</td>\n",
       "      <td>0</td>\n",
       "      <td>0</td>\n",
       "      <td>0</td>\n",
       "      <td>0</td>\n",
       "      <td>0</td>\n",
       "    </tr>\n",
       "    <tr>\n",
       "      <td>3</td>\n",
       "      <td>44</td>\n",
       "      <td>1</td>\n",
       "      <td>1</td>\n",
       "      <td>0</td>\n",
       "      <td>1</td>\n",
       "      <td>0</td>\n",
       "      <td>0</td>\n",
       "      <td>0</td>\n",
       "      <td>0</td>\n",
       "      <td>0</td>\n",
       "      <td>...</td>\n",
       "      <td>0</td>\n",
       "      <td>0</td>\n",
       "      <td>0</td>\n",
       "      <td>0</td>\n",
       "      <td>0</td>\n",
       "      <td>0</td>\n",
       "      <td>0</td>\n",
       "      <td>0</td>\n",
       "      <td>0</td>\n",
       "      <td>0</td>\n",
       "    </tr>\n",
       "    <tr>\n",
       "      <td>4</td>\n",
       "      <td>45</td>\n",
       "      <td>1</td>\n",
       "      <td>1</td>\n",
       "      <td>0</td>\n",
       "      <td>0</td>\n",
       "      <td>0</td>\n",
       "      <td>1</td>\n",
       "      <td>0</td>\n",
       "      <td>0</td>\n",
       "      <td>0</td>\n",
       "      <td>...</td>\n",
       "      <td>1</td>\n",
       "      <td>0</td>\n",
       "      <td>0</td>\n",
       "      <td>0</td>\n",
       "      <td>0</td>\n",
       "      <td>0</td>\n",
       "      <td>0</td>\n",
       "      <td>0</td>\n",
       "      <td>0</td>\n",
       "      <td>0</td>\n",
       "    </tr>\n",
       "  </tbody>\n",
       "</table>\n",
       "<p>5 rows × 62 columns</p>\n",
       "</div>"
      ],
      "text/plain": [
       "   나이  구매여부  성별_남자  성별_여자  유입경로_SNS광고  유입경로_기타  유입경로_블로그광고  유입경로_신문광고  \\\n",
       "0  53     1      1      0           0        0           1          0   \n",
       "1  28     1      1      0           0        0           0          0   \n",
       "2  40     1      1      0           1        0           0          0   \n",
       "3  44     1      1      0           1        0           0          0   \n",
       "4  45     1      1      0           0        0           1          0   \n",
       "\n",
       "   유입경로_유튜브광고  유입경로_이메일광고  ...  AgeGroup_45-50  AgeGroup_50-55  \\\n",
       "0           0           0  ...               0               1   \n",
       "1           0           1  ...               0               0   \n",
       "2           0           0  ...               0               0   \n",
       "3           0           0  ...               0               0   \n",
       "4           0           0  ...               1               0   \n",
       "\n",
       "   AgeGroup_55-60  AgeGroup_60-65  AgeGroup_65-70  AgeGroup_70-75  \\\n",
       "0               0               0               0               0   \n",
       "1               0               0               0               0   \n",
       "2               0               0               0               0   \n",
       "3               0               0               0               0   \n",
       "4               0               0               0               0   \n",
       "\n",
       "   AgeGroup_75-80  AgeGroup_80-85  AgeGroup_85-90  AgeGroup_90-95  \n",
       "0               0               0               0               0  \n",
       "1               0               0               0               0  \n",
       "2               0               0               0               0  \n",
       "3               0               0               0               0  \n",
       "4               0               0               0               0  \n",
       "\n",
       "[5 rows x 62 columns]"
      ]
     },
     "execution_count": 46,
     "metadata": {},
     "output_type": "execute_result"
    }
   ],
   "source": [
    "df_raw_dummy=pd.get_dummies(df_order)\n",
    "print(df_raw_dummy.columns)\n",
    "df_raw_dummy.head()"
   ]
  },
  {
   "cell_type": "code",
   "execution_count": 47,
   "metadata": {},
   "outputs": [
    {
     "name": "stdout",
     "output_type": "stream",
     "text": [
      "train data size (4602, 62)\n",
      "test data size (1973, 62)\n",
      "train_x data size (4602, 61)\n",
      "test_y data size (4602,)\n"
     ]
    }
   ],
   "source": [
    "df_train,df_test=train_test_split(df_raw_dummy,\n",
    "                                  test_size=0.3,\n",
    "                                 random_state=1234)\n",
    "print(f\"train data size {df_train.shape}\")\n",
    "print(f\"test data size {df_test.shape}\")\n",
    "df_train_x=df_train.drop(\"구매여부\",axis=1)\n",
    "df_train_y=df_train[\"구매여부\"]\n",
    "print(f\"train_x data size {df_train_x.shape}\")\n",
    "print(f\"test_y data size {df_train_y.shape}\")\n",
    "\n",
    "df_test_x=df_test.drop(\"구매여부\",axis=1)\n",
    "df_test_y=df_test[\"구매여부\"]"
   ]
  },
  {
   "cell_type": "markdown",
   "metadata": {},
   "source": [
    "# isbuy GB "
   ]
  },
  {
   "cell_type": "code",
   "execution_count": 21,
   "metadata": {},
   "outputs": [
    {
     "name": "stdout",
     "output_type": "stream",
     "text": [
      "Accuracy on train :  0.9000434593654932\n",
      "Accuracy on test :  0.8748099341104917\n"
     ]
    }
   ],
   "source": [
    "gb_uncustomized=GradientBoostingClassifier(random_state=1234)\n",
    "gb_uncustomized.fit(df_train_x,df_train_y)\n",
    "print(\"Accuracy on train : \",gb_uncustomized.score(df_train_x,df_train_y))\n",
    "print(\"Accuracy on test : \",gb_uncustomized.score(df_test_x,df_test_y))"
   ]
  },
  {
   "cell_type": "code",
   "execution_count": 22,
   "metadata": {},
   "outputs": [
    {
     "name": "stdout",
     "output_type": "stream",
     "text": [
      "   MinSampleLeaf  TrainScore  TestScore\n",
      "0            0.1       0.900      0.875\n",
      "1            0.2       0.911      0.877\n",
      "2            0.3       0.914      0.883\n",
      "3            0.4       0.919      0.881\n",
      "4            0.5       0.925      0.879\n",
      "5            0.6       0.929      0.877\n",
      "6            0.7       0.929      0.877\n",
      "7            0.8       0.926      0.873\n",
      "8            0.9       0.935      0.865\n"
     ]
    },
    {
     "data": {
      "text/plain": [
       "[<matplotlib.lines.Line2D at 0x2853bf09708>]"
      ]
     },
     "execution_count": 22,
     "metadata": {},
     "output_type": "execute_result"
    },
    {
     "data": {
      "image/png": "[encoded data removed]",
      "text/plain": [
       "<Figure size 432x288 with 1 Axes>"
      ]
     },
     "metadata": {
      "needs_background": "light"
     },
     "output_type": "display_data"
    }
   ],
   "source": [
    "train_score=[]\n",
    "test_score=[]\n",
    "para_lr=[ i*0.1 for i in range(1,10)]\n",
    "for n in para_lr:\n",
    "    gb=GradientBoostingClassifier(random_state=1234,learning_rate=n)\n",
    "    gb.fit(df_train_x,df_train_y)\n",
    "    train_score.append(gb.score(df_train_x,df_train_y))\n",
    "    test_score.append(gb.score(df_test_x,df_test_y))\n",
    "df_socre_leaf=pd.DataFrame()\n",
    "df_socre_leaf[\"MinSampleLeaf\"]=para_lr\n",
    "df_socre_leaf[\"TrainScore\"]=train_score\n",
    "df_socre_leaf[\"TestScore\"]=test_score\n",
    "df_socre_leaf.round(3)\n",
    "\n",
    "print(df_socre_leaf.round(3))\n",
    "plt.plot(para_lr,train_score,linestyle=\"-\",label=\"Train\")\n",
    "plt.plot(para_lr,test_score,linestyle=\"--\",label=\"Test\")"
   ]
  },
  {
   "cell_type": "code",
   "execution_count": 23,
   "metadata": {},
   "outputs": [
    {
     "name": "stdout",
     "output_type": "stream",
     "text": [
      "    MinSampleLeaf  TrainScore  TestScore\n",
      "0              10       0.893      0.868\n",
      "1              20       0.896      0.872\n",
      "2              30       0.900      0.875\n",
      "3              40       0.903      0.876\n",
      "4              50       0.906      0.877\n",
      "5              60       0.908      0.882\n",
      "6              70       0.910      0.883\n",
      "7              80       0.912      0.885\n",
      "8              90       0.913      0.885\n",
      "9             100       0.914      0.883\n",
      "10            110       0.917      0.885\n",
      "11            120       0.917      0.884\n",
      "12            130       0.919      0.883\n",
      "13            140       0.920      0.884\n",
      "14            150       0.921      0.880\n"
     ]
    },
    {
     "data": {
      "text/plain": [
       "[<matplotlib.lines.Line2D at 0x285375572c8>]"
      ]
     },
     "execution_count": 23,
     "metadata": {},
     "output_type": "execute_result"
    },
    {
     "data": {
      "image/png": "[encoded data removed]",
      "text/plain": [
       "<Figure size 432x288 with 1 Axes>"
      ]
     },
     "metadata": {
      "needs_background": "light"
     },
     "output_type": "display_data"
    }
   ],
   "source": [
    "train_score=[]\n",
    "test_score=[]\n",
    "para_tree=[ i*10 for i in range(1,16)]\n",
    "for n in para_tree:\n",
    "    gb=GradientBoostingClassifier(random_state=1234,learning_rate=0.3,n_estimators=n)\n",
    "    gb.fit(df_train_x,df_train_y)\n",
    "    train_score.append(gb.score(df_train_x,df_train_y))\n",
    "    test_score.append(gb.score(df_test_x,df_test_y))\n",
    "df_socre_leaf=pd.DataFrame()\n",
    "df_socre_leaf[\"MinSampleLeaf\"]=para_tree\n",
    "df_socre_leaf[\"TrainScore\"]=train_score\n",
    "df_socre_leaf[\"TestScore\"]=test_score\n",
    "df_socre_leaf.round(3)\n",
    "\n",
    "print(df_socre_leaf.round(3))\n",
    "plt.plot(para_tree,train_score,linestyle=\"-\",label=\"Train\")\n",
    "plt.plot(para_tree,test_score,linestyle=\"--\",label=\"Test\")"
   ]
  },
  {
   "cell_type": "code",
   "execution_count": 26,
   "metadata": {},
   "outputs": [
    {
     "name": "stdout",
     "output_type": "stream",
     "text": [
      "   MinSampleLeaf  TrainScore  TestScore\n",
      "0              1       0.891      0.868\n",
      "1              2       0.905      0.875\n",
      "2              3       0.920      0.884\n",
      "3              4       0.939      0.877\n",
      "4              5       0.951      0.867\n",
      "5              6       0.955      0.872\n",
      "6              7       0.956      0.866\n",
      "7              8       0.956      0.868\n",
      "8              9       0.956      0.864\n",
      "9             10       0.956      0.865\n"
     ]
    },
    {
     "data": {
      "text/plain": [
       "[<matplotlib.lines.Line2D at 0x2853bb44f48>]"
      ]
     },
     "execution_count": 26,
     "metadata": {},
     "output_type": "execute_result"
    },
    {
     "data": {
      "image/png": "[encoded data removed]",
      "text/plain": [
       "<Figure size 432x288 with 1 Axes>"
      ]
     },
     "metadata": {
      "needs_background": "light"
     },
     "output_type": "display_data"
    }
   ],
   "source": [
    "train_score=[]\n",
    "test_score=[]\n",
    "para_depth=[ i for i in range(1,11)]\n",
    "for n in para_depth:\n",
    "    gb=GradientBoostingClassifier(random_state=1234,learning_rate=0.3,n_estimators=140,max_depth=n)\n",
    "    gb.fit(df_train_x,df_train_y)\n",
    "    train_score.append(gb.score(df_train_x,df_train_y))\n",
    "    test_score.append(gb.score(df_test_x,df_test_y))\n",
    "df_socre_leaf=pd.DataFrame()\n",
    "df_socre_leaf[\"MinSampleLeaf\"]=para_depth\n",
    "df_socre_leaf[\"TrainScore\"]=train_score\n",
    "df_socre_leaf[\"TestScore\"]=test_score\n",
    "df_socre_leaf.round(3)\n",
    "\n",
    "print(df_socre_leaf.round(3))\n",
    "plt.plot(para_depth,train_score,linestyle=\"-\",label=\"Train\")\n",
    "plt.plot(para_depth,test_score,linestyle=\"--\",label=\"Test\")"
   ]
  },
  {
   "cell_type": "code",
   "execution_count": 43,
   "metadata": {},
   "outputs": [
    {
     "name": "stdout",
     "output_type": "stream",
     "text": [
      "   MinSampleLeaf  TrainScore  TestScore\n",
      "0             10       0.905      0.833\n",
      "1             20       0.902      0.836\n",
      "2             30       0.902      0.834\n",
      "3             40       0.900      0.837\n",
      "4             50       0.899      0.838\n",
      "5             60       0.900      0.839\n",
      "6             70       0.896      0.837\n",
      "7             80       0.896      0.841\n",
      "8             90       0.896      0.841\n",
      "9            100       0.892      0.840\n"
     ]
    },
    {
     "data": {
      "text/plain": [
       "[<matplotlib.lines.Line2D at 0x2853c338848>]"
      ]
     },
     "execution_count": 43,
     "metadata": {},
     "output_type": "execute_result"
    },
    {
     "data": {
      "image/png": "[encoded data removed]",
      "text/plain": [
       "<Figure size 432x288 with 1 Axes>"
      ]
     },
     "metadata": {
      "needs_background": "light"
     },
     "output_type": "display_data"
    }
   ],
   "source": [
    "train_score=[]\n",
    "test_score=[]\n",
    "para_split=[ i*10 for i in range(1,11)]\n",
    "for n in para_split:\n",
    "    gb=GradientBoostingClassifier(random_state=1234,learning_rate=0.3,n_estimators=140,max_depth=5,min_samples_split=n)\n",
    "    gb.fit(df_train_x,df_train_y)\n",
    "    train_score.append(gb.score(df_train_x,df_train_y))\n",
    "    test_score.append(gb.score(df_test_x,df_test_y))\n",
    "df_socre_leaf=pd.DataFrame()\n",
    "df_socre_leaf[\"MinSampleLeaf\"]=para_split\n",
    "df_socre_leaf[\"TrainScore\"]=train_score\n",
    "df_socre_leaf[\"TestScore\"]=test_score\n",
    "df_socre_leaf.round(3)\n",
    "\n",
    "print(df_socre_leaf.round(3))\n",
    "plt.plot(para_split,train_score,linestyle=\"-\",label=\"Train\")\n",
    "plt.plot(para_split,test_score,linestyle=\"--\",label=\"Test\")"
   ]
  },
  {
   "cell_type": "code",
   "execution_count": 48,
   "metadata": {},
   "outputs": [
    {
     "name": "stdout",
     "output_type": "stream",
     "text": [
      "Accuarcy on training set : 0.917\n",
      "Accuarcy on test set : 0.88\n",
      "Confusion matrix :\n",
      " [[ 357  148]\n",
      " [  88 1380]]\n"
     ]
    }
   ],
   "source": [
    "gb_fianl=GradientBoostingClassifier(random_state=1234,learning_rate=0.3,\n",
    "                                    n_estimators=140,max_depth=5,min_samples_leaf=70)\n",
    "gb_fianl.fit(df_train_x,df_train_y)\n",
    "\n",
    "y_pred=gb_fianl.predict(df_test_x)\n",
    "\n",
    "print(f\"Accuarcy on training set : {gb_fianl.score(df_train_x,df_train_y).round(3)}\")\n",
    "\n",
    "print(f\"Accuarcy on test set : {gb_fianl.score(df_test_x,df_test_y).round(3)}\")\n",
    "\n",
    "print(f\"Confusion matrix :\\n {confusion_matrix(df_test_y,y_pred)}\")\n"
   ]
  },
  {
   "cell_type": "code",
   "execution_count": 38,
   "metadata": {},
   "outputs": [
    {
     "data": {
      "text/html": [
       "<div>\n",
       "<style scoped>\n",
       "    .dataframe tbody tr th:only-of-type {\n",
       "        vertical-align: middle;\n",
       "    }\n",
       "\n",
       "    .dataframe tbody tr th {\n",
       "        vertical-align: top;\n",
       "    }\n",
       "\n",
       "    .dataframe thead th {\n",
       "        text-align: right;\n",
       "    }\n",
       "</style>\n",
       "<table border=\"1\" class=\"dataframe\">\n",
       "  <thead>\n",
       "    <tr style=\"text-align: right;\">\n",
       "      <th></th>\n",
       "      <th>Feature</th>\n",
       "      <th>importance</th>\n",
       "    </tr>\n",
       "  </thead>\n",
       "  <tbody>\n",
       "    <tr>\n",
       "      <td>0</td>\n",
       "      <td>나이</td>\n",
       "      <td>0.492</td>\n",
       "    </tr>\n",
       "    <tr>\n",
       "      <td>27</td>\n",
       "      <td>주소(동/읍/면)_-</td>\n",
       "      <td>0.228</td>\n",
       "    </tr>\n",
       "    <tr>\n",
       "      <td>21</td>\n",
       "      <td>회원구분_사업자</td>\n",
       "      <td>0.132</td>\n",
       "    </tr>\n",
       "    <tr>\n",
       "      <td>3</td>\n",
       "      <td>유입경로_SNS광고</td>\n",
       "      <td>0.025</td>\n",
       "    </tr>\n",
       "    <tr>\n",
       "      <td>5</td>\n",
       "      <td>유입경로_블로그광고</td>\n",
       "      <td>0.022</td>\n",
       "    </tr>\n",
       "    <tr>\n",
       "      <td>...</td>\n",
       "      <td>...</td>\n",
       "      <td>...</td>\n",
       "    </tr>\n",
       "    <tr>\n",
       "      <td>19</td>\n",
       "      <td>회원구분_딜러</td>\n",
       "      <td>0.000</td>\n",
       "    </tr>\n",
       "    <tr>\n",
       "      <td>37</td>\n",
       "      <td>주소(동/읍/면)_세종특별자치시</td>\n",
       "      <td>0.000</td>\n",
       "    </tr>\n",
       "    <tr>\n",
       "      <td>26</td>\n",
       "      <td>회원구분_특별회원</td>\n",
       "      <td>0.000</td>\n",
       "    </tr>\n",
       "    <tr>\n",
       "      <td>18</td>\n",
       "      <td>회원구분_관리자</td>\n",
       "      <td>0.000</td>\n",
       "    </tr>\n",
       "    <tr>\n",
       "      <td>60</td>\n",
       "      <td>AgeGroup_90-95</td>\n",
       "      <td>0.000</td>\n",
       "    </tr>\n",
       "  </tbody>\n",
       "</table>\n",
       "<p>61 rows × 2 columns</p>\n",
       "</div>"
      ],
      "text/plain": [
       "              Feature  importance\n",
       "0                  나이       0.492\n",
       "27        주소(동/읍/면)_-       0.228\n",
       "21           회원구분_사업자       0.132\n",
       "3          유입경로_SNS광고       0.025\n",
       "5          유입경로_블로그광고       0.022\n",
       "..                ...         ...\n",
       "19            회원구분_딜러       0.000\n",
       "37  주소(동/읍/면)_세종특별자치시       0.000\n",
       "26          회원구분_특별회원       0.000\n",
       "18           회원구분_관리자       0.000\n",
       "60     AgeGroup_90-95       0.000\n",
       "\n",
       "[61 rows x 2 columns]"
      ]
     },
     "execution_count": 38,
     "metadata": {},
     "output_type": "execute_result"
    }
   ],
   "source": [
    "v_feature_name=df_train_x.columns\n",
    "df_importance=pd.DataFrame()\n",
    "df_importance[\"Feature\"]=v_feature_name\n",
    "df_importance[\"importance\"]=gb_fianl.feature_importances_\n",
    "df_importance.sort_values(\"importance\",ascending=False,inplace=True)\n",
    "df_importance.round(3)"
   ]
  },
  {
   "cell_type": "code",
   "execution_count": 39,
   "metadata": {},
   "outputs": [
    {
     "data": {
      "text/plain": [
       "Text(0, 0.5, '변수')"
      ]
     },
     "execution_count": 39,
     "metadata": {},
     "output_type": "execute_result"
    },
    {
     "data": {
      "image/png": "[encoded data removed]",
      "text/plain": [
       "<Figure size 432x288 with 1 Axes>"
      ]
     },
     "metadata": {
      "needs_background": "light"
     },
     "output_type": "display_data"
    }
   ],
   "source": [
    "df_importance.sort_values(\"importance\",ascending=True,inplace=True)\n",
    "coordinates=range(len(df_importance))\n",
    "plt.barh(y=coordinates,width=df_importance[\"importance\"])\n",
    "plt.yticks(coordinates,df_importance[\"Feature\"])\n",
    "plt.xlabel(\"변수중요도\")\n",
    "plt.ylabel(\"변수\")"
   ]
  },
  {
   "cell_type": "code",
   "execution_count": null,
   "metadata": {},
   "outputs": [],
   "source": [
    "df_order_raw=pd.read_csv(\"0427_member_isbuy_new.csv\")\n",
    "df_order_raw.head()\n",
    "\n",
    "df_order=pd.DataFrame()\n",
    "df_order=df_order_raw.drop([\"Unnamed: 0\",\"ID\"],axis=1)\n",
    "\n",
    "df_raw_dummy=pd.get_dummies(df_order)\n",
    "print(df_raw_dummy.columns)\n",
    "df_raw_dummy.head()\n",
    "\n",
    "df_train,df_test=train_test_split(df_raw_dummy,\n",
    "                                  test_size=0.3,\n",
    "                                 random_state=1234)\n",
    "print(f\"train data size {df_train.shape}\")\n",
    "print(f\"test data size {df_test.shape}\")\n",
    "df_train_x=df_train.drop(\"구매여부\",axis=1)\n",
    "df_train_y=df_train[\"구매여부\"]\n",
    "print(f\"train_x data size {df_train_x.shape}\")\n",
    "print(f\"test_y data size {df_train_y.shape}\")\n",
    "\n",
    "df_test_x=df_test.drop(\"구매여부\",axis=1)\n",
    "df_test_y=df_test[\"구매여부\"]\n",
    "\n",
    "# GB \n",
    "\n",
    "gb_uncustomized=GradientBoostingClassifier(random_state=1234)\n",
    "gb_uncustomized.fit(df_train_x,df_train_y)\n",
    "print(\"Accuracy on train : \",gb_uncustomized.score(df_train_x,df_train_y))\n",
    "print(\"Accuracy on test : \",gb_uncustomized.score(df_test_x,df_test_y))\n",
    "\n",
    "train_score=[]\n",
    "test_score=[]\n",
    "para_lr=[ i*0.1 for i in range(1,10)]\n",
    "for n in para_lr:\n",
    "    gb=GradientBoostingClassifier(random_state=1234,learning_rate=n)\n",
    "    gb.fit(df_train_x,df_train_y)\n",
    "    train_score.append(gb.score(df_train_x,df_train_y))\n",
    "    test_score.append(gb.score(df_test_x,df_test_y))\n",
    "df_socre_leaf=pd.DataFrame()\n",
    "df_socre_leaf[\"MinSampleLeaf\"]=para_lr\n",
    "df_socre_leaf[\"TrainScore\"]=train_score\n",
    "df_socre_leaf[\"TestScore\"]=test_score\n",
    "df_socre_leaf.round(3)\n",
    "\n",
    "print(df_socre_leaf.round(3))\n",
    "plt.plot(para_lr,train_score,linestyle=\"-\",label=\"Train\")\n",
    "plt.plot(para_lr,test_score,linestyle=\"--\",label=\"Test\")\n",
    "\n",
    "train_score=[]\n",
    "test_score=[]\n",
    "para_tree=[ i*10 for i in range(1,16)]\n",
    "for n in para_tree:\n",
    "    gb=GradientBoostingClassifier(random_state=1234,learning_rate=0.3,n_estimators=n)\n",
    "    gb.fit(df_train_x,df_train_y)\n",
    "    train_score.append(gb.score(df_train_x,df_train_y))\n",
    "    test_score.append(gb.score(df_test_x,df_test_y))\n",
    "df_socre_leaf=pd.DataFrame()\n",
    "df_socre_leaf[\"MinSampleLeaf\"]=para_tree\n",
    "df_socre_leaf[\"TrainScore\"]=train_score\n",
    "df_socre_leaf[\"TestScore\"]=test_score\n",
    "df_socre_leaf.round(3)\n",
    "\n",
    "print(df_socre_leaf.round(3))\n",
    "plt.plot(para_tree,train_score,linestyle=\"-\",label=\"Train\")\n",
    "plt.plot(para_tree,test_score,linestyle=\"--\",label=\"Test\")\n",
    "\n",
    "train_score=[]\n",
    "test_score=[]\n",
    "para_depth=[ i for i in range(1,11)]\n",
    "for n in para_depth:\n",
    "    gb=GradientBoostingClassifier(random_state=1234,learning_rate=0.3,n_estimators=140,max_depth=n)\n",
    "    gb.fit(df_train_x,df_train_y)\n",
    "    train_score.append(gb.score(df_train_x,df_train_y))\n",
    "    test_score.append(gb.score(df_test_x,df_test_y))\n",
    "df_socre_leaf=pd.DataFrame()\n",
    "df_socre_leaf[\"MinSampleLeaf\"]=para_depth\n",
    "df_socre_leaf[\"TrainScore\"]=train_score\n",
    "df_socre_leaf[\"TestScore\"]=test_score\n",
    "df_socre_leaf.round(3)\n",
    "\n",
    "print(df_socre_leaf.round(3))\n",
    "plt.plot(para_depth,train_score,linestyle=\"-\",label=\"Train\")\n",
    "plt.plot(para_depth,test_score,linestyle=\"--\",label=\"Test\")\n",
    "\n",
    "train_score=[]\n",
    "test_score=[]\n",
    "para_split=[ i*10 for i in range(1,11)]\n",
    "for n in para_split:\n",
    "    gb=GradientBoostingClassifier(random_state=1234,learning_rate=0.3,n_estimators=140,max_depth=5,min_samples_split=n)\n",
    "    gb.fit(df_train_x,df_train_y)\n",
    "    train_score.append(gb.score(df_train_x,df_train_y))\n",
    "    test_score.append(gb.score(df_test_x,df_test_y))\n",
    "df_socre_leaf=pd.DataFrame()\n",
    "df_socre_leaf[\"MinSampleLeaf\"]=para_split\n",
    "df_socre_leaf[\"TrainScore\"]=train_score\n",
    "df_socre_leaf[\"TestScore\"]=test_score\n",
    "df_socre_leaf.round(3)\n",
    "\n",
    "print(df_socre_leaf.round(3))\n",
    "plt.plot(para_split,train_score,linestyle=\"-\",label=\"Train\")\n",
    "plt.plot(para_split,test_score,linestyle=\"--\",label=\"Test\")\n",
    "\n",
    "gb_fianl=GradientBoostingClassifier(random_state=1234,learning_rate=0.3,\n",
    "                                    n_estimators=140,max_depth=5,min_samples_leaf=70)\n",
    "gb_fianl.fit(df_train_x,df_train_y)\n",
    "\n",
    "y_pred=gb_fianl.predict(df_test_x)\n",
    "\n",
    "print(f\"Accuarcy on training set : {gb_fianl.score(df_train_x,df_train_y).round(3)}\")\n",
    "\n",
    "print(f\"Accuarcy on test set : {gb_fianl.score(df_test_x,df_test_y).round(3)}\")\n",
    "\n",
    "print(f\"Confusion matrix :\\n {confusion_matrix(df_test_y,y_pred)}\")\n",
    "\n",
    "\n",
    "v_feature_name=df_train_x.columns\n",
    "df_importance=pd.DataFrame()\n",
    "df_importance[\"Feature\"]=v_feature_name\n",
    "df_importance[\"importance\"]=gb_fianl.feature_importances_\n",
    "df_importance.sort_values(\"importance\",ascending=False,inplace=True)\n",
    "df_importance.round(3)\n",
    "\n",
    "df_importance.sort_values(\"importance\",ascending=True,inplace=True)\n",
    "coordinates=range(len(df_importance))\n",
    "plt.barh(y=coordinates,width=df_importance[\"importance\"])\n",
    "plt.yticks(coordinates,df_importance[\"Feature\"])\n",
    "plt.xlabel(\"변수중요도\")\n",
    "plt.ylabel(\"변수\")"
   ]
  },
  {
   "cell_type": "markdown",
   "metadata": {
    "colab_type": "text",
    "id": "FvoDj8FnQRTH"
   },
   "source": [
    "# isbuy MPL"
   ]
  },
  {
   "cell_type": "code",
   "execution_count": 25,
   "metadata": {
    "colab": {
     "base_uri": "https://localhost:8080/",
     "height": 369
    },
    "colab_type": "code",
    "id": "5ippO_d_xq1B",
    "outputId": "12e176b0-b770-4d50-9126-949151b28b54"
   },
   "outputs": [
    {
     "name": "stdout",
     "output_type": "stream",
     "text": [
      "Index(['나이', '구매여부', '성별_남자', '성별_여자', '유입경로_SNS광고', '유입경로_기타', '유입경로_블로그광고',\n",
      "       '유입경로_신문광고', '유입경로_유튜브광고', '유입경로_이메일광고', '유입경로_인터넷검색', '유입경로_인터넷기사광고',\n",
      "       '유입경로_잡지광고', '유입경로_전단지광고', '유입경로_지인추천', '유입경로_카카오톡광고', '유입기기_PC',\n",
      "       '유입기기_모바일', '회원구분_VIP', '회원구분_관리자', '회원구분_딜러', '회원구분_딜러 유치 회원',\n",
      "       '회원구분_사업자', '회원구분_사업자(수신거부)', '회원구분_일반', '회원구분_일반(수신거부)',\n",
      "       '회원구분_전화주문 고객', '회원구분_특별회원', '주소(동/읍/면)_-', '주소(동/읍/면)_강원도',\n",
      "       '주소(동/읍/면)_경기도', '주소(동/읍/면)_경상남도', '주소(동/읍/면)_경상북도', '주소(동/읍/면)_광주광역시',\n",
      "       '주소(동/읍/면)_대구광역시', '주소(동/읍/면)_대전광역시', '주소(동/읍/면)_부산광역시',\n",
      "       '주소(동/읍/면)_서울특별시', '주소(동/읍/면)_세종특별자치시', '주소(동/읍/면)_오프라인',\n",
      "       '주소(동/읍/면)_울산광역시', '주소(동/읍/면)_인천광역시', '주소(동/읍/면)_전라남도',\n",
      "       '주소(동/읍/면)_전라북도', '주소(동/읍/면)_제주특별자치도', '주소(동/읍/면)_충청남도',\n",
      "       '주소(동/읍/면)_충청북도', 'AgeGroup_20-25', 'AgeGroup_25-30', 'AgeGroup_30-35',\n",
      "       'AgeGroup_35-40', 'AgeGroup_40-45', 'AgeGroup_45-50', 'AgeGroup_50-55',\n",
      "       'AgeGroup_55-60', 'AgeGroup_60-65', 'AgeGroup_65-70', 'AgeGroup_70-75',\n",
      "       'AgeGroup_75-80', 'AgeGroup_80-85', 'AgeGroup_85-90', 'AgeGroup_90-95'],\n",
      "      dtype='object')\n",
      "train data size (4602, 62)\n",
      "test data size (1973, 62)\n",
      "train_x data size (4602, 61)\n",
      "test_y data size (4602,)\n"
     ]
    }
   ],
   "source": [
    "df_order_raw=pd.read_csv(\"0427_member_isbuy_new.csv\")\n",
    "df_order_raw.head()\n",
    "\n",
    "df_order=pd.DataFrame()\n",
    "df_order=df_order_raw.drop([\"Unnamed: 0\",\"ID\"],axis=1)\n",
    "\n",
    "df_raw_dummy=pd.get_dummies(df_order)\n",
    "print(df_raw_dummy.columns)\n",
    "df_raw_dummy.head()\n",
    "\n",
    "df_train,df_test=train_test_split(df_raw_dummy,\n",
    "                                  test_size=0.3,\n",
    "                                 random_state=1234)\n",
    "print(f\"train data size {df_train.shape}\")\n",
    "print(f\"test data size {df_test.shape}\")\n",
    "df_train_x=df_train.drop(\"구매여부\",axis=1)\n",
    "df_train_y=df_train[\"구매여부\"]\n",
    "print(f\"train_x data size {df_train_x.shape}\")\n",
    "print(f\"test_y data size {df_train_y.shape}\")\n",
    "\n",
    "df_test_x=df_test.drop(\"구매여부\",axis=1)\n",
    "df_test_y=df_test[\"구매여부\"]"
   ]
  },
  {
   "cell_type": "code",
   "execution_count": 26,
   "metadata": {
    "colab": {
     "base_uri": "https://localhost:8080/",
     "height": 619
    },
    "colab_type": "code",
    "id": "KxNIGE-KPUle",
    "outputId": "09d1b080-9450-4dbe-af7f-ff80b6e9818c"
   },
   "outputs": [
    {
     "name": "stdout",
     "output_type": "stream",
     "text": [
      "1e-06    20\n",
      "1e-06    40\n",
      "1e-06    60\n",
      "1e-06    80\n",
      "1e-06    100\n",
      "1e-06    120\n",
      "1e-06    140\n",
      "1e-06    160\n",
      "1e-06    180\n",
      "   hidden layer  TrainScore  TestScore\n",
      "0            20       0.867      0.844\n",
      "1            40       0.866      0.842\n",
      "2            60       0.863      0.841\n",
      "3            80       0.867      0.845\n",
      "4           100       0.873      0.848\n",
      "5           120       0.874      0.853\n",
      "6           140       0.870      0.839\n",
      "7           160       0.865      0.835\n",
      "8           180       0.878      0.847\n"
     ]
    },
    {
     "data": {
      "text/plain": [
       "[<matplotlib.lines.Line2D at 0x7f3a6409fef0>]"
      ]
     },
     "execution_count": 26,
     "metadata": {
      "tags": []
     },
     "output_type": "execute_result"
    },
    {
     "data": {
      "image/png": "[encoded data removed]",
      "text/plain": [
       "<Figure size 432x288 with 1 Axes>"
      ]
     },
     "metadata": {
      "needs_background": "light",
      "tags": []
     },
     "output_type": "display_data"
    }
   ],
   "source": [
    "train_score=[]\n",
    "test_score=[]\n",
    "para_c=[ 20*i for i in range(1,10)]\n",
    "for n in para_c:\n",
    "    nn_scaled=MLPClassifier(random_state=1234,hidden_layer_sizes=(n,n),activation=\"relu\",solver=\"adam\")\n",
    "    nn_scaled.fit(df_train_x,df_train_y)\n",
    "    train_score.append(nn_scaled.score(df_train_x,df_train_y))\n",
    "    test_score.append(nn_scaled.score(df_test_x,df_test_y))\n",
    "df_socre_leaf=pd.DataFrame()\n",
    "df_socre_leaf[\"hidden layer\"]=para_c\n",
    "df_socre_leaf[\"TrainScore\"]=train_score\n",
    "df_socre_leaf[\"TestScore\"]=test_score\n",
    "df_socre_leaf.round(3)\n",
    "\n",
    "print(df_socre_leaf.round(3))\n",
    "plt.plot(para_c,train_score,linestyle=\"-\",label=\"Train\")\n",
    "plt.plot(para_c,test_score,linestyle=\"--\",label=\"Test\")"
   ]
  },
  {
   "cell_type": "markdown",
   "metadata": {
    "colab_type": "text",
    "id": "xHZRu3PSRlqX"
   },
   "source": [
    "# customer_merge"
   ]
  },
  {
   "cell_type": "code",
   "execution_count": 0,
   "metadata": {
    "colab": {},
    "colab_type": "code",
    "id": "1zhNPLI_Q_n6"
   },
   "outputs": [],
   "source": [
    "df_customer_raw=pd.read_csv(\"./customer_merge_Category.csv\")\n",
    "\n",
    "df_customer=df_customer_raw.drop([\"Unnamed: 0\",\"Unnamed: 0.1\",\"주문자ID\"],axis=1)\n",
    "\n",
    "df_customer_dummy=pd.get_dummies(df_customer)\n",
    "\n",
    "df_customer_dummy.shape\n",
    "\n",
    "# 데이터 split \n",
    "\n",
    "df_customer_dummy_train,df_customer_dummy_test=train_test_split(df_customer_dummy,test_size=0.3,random_state=1234)\n",
    "df_customer_dummy_train_x=df_customer_dummy_train.drop([\"상품구매금액\"],axis=1)\n",
    "df_customer_dummy_train_y=df_customer_dummy_train[\"상품구매금액\"]\n",
    "df_customer_dummy_test_x=df_customer_dummy_test.drop([\"상품구매금액\"],axis=1)\n",
    "df_customer_dummy_test_y=df_customer_dummy_test[\"상품구매금액\"]\n"
   ]
  },
  {
   "cell_type": "markdown",
   "metadata": {
    "colab_type": "text",
    "id": "SSc0fqNXPbQl"
   },
   "source": [
    "# customer_merge MLP"
   ]
  },
  {
   "cell_type": "code",
   "execution_count": 0,
   "metadata": {
    "colab": {
     "base_uri": "https://localhost:8080/",
     "height": 87
    },
    "colab_type": "code",
    "id": "sfvhBr7v1NIK",
    "outputId": "de7ed929-2ebf-404f-f3c4-a8cf9c58a707",
    "scrolled": false
   },
   "outputs": [
    {
     "name": "stdout",
     "output_type": "stream",
     "text": [
      "1e-06    20\n"
     ]
    },
    {
     "name": "stderr",
     "output_type": "stream",
     "text": [
      "/usr/local/lib/python3.6/dist-packages/sklearn/neural_network/_multilayer_perceptron.py:573: UserWarning: Training interrupted by user.\n",
      "  warnings.warn(\"Training interrupted by user.\")\n"
     ]
    },
    {
     "name": "stdout",
     "output_type": "stream",
     "text": [
      "1e-06    40\n"
     ]
    }
   ],
   "source": [
    "train_score=[]\n",
    "test_score=[]\n",
    "para_c=[ 20*i for i in range(1,10)]\n",
    "learning_rate=[ 0.001**i for i in range(1,3)]\n",
    "for n in para_c:\n",
    "    nn_scaled=MLPClassifier(random_state=1234,hidden_layer_sizes=(n,n),activation=\"relu\",solver=\"adam\",learning_rate_init=j)\n",
    "    nn_scaled.fit(df_customer_dummy_train_x,df_customer_dummy_train_y)\n",
    "    train_score.append(nn_scaled.score(df_customer_dummy_train_x,df_customer_dummy_train_y))\n",
    "    test_score.append(nn_scaled.score(df_customer_dummy_test_x,df_customer_dummy_test_y))\n",
    "df_socre_leaf=pd.DataFrame()\n",
    "df_socre_leaf[\"hidden layer\"]=para_c\n",
    "df_socre_leaf[\"TrainScore\"]=train_score\n",
    "df_socre_leaf[\"TestScore\"]=test_score\n",
    "df_socre_leaf.round(3)\n",
    "\n",
    "print(df_socre_leaf.round(3))\n",
    "plt.plot(para_c,train_score,linestyle=\"-\",label=\"Train\")\n",
    "plt.plot(para_c,test_score,linestyle=\"--\",label=\"Test\")"
   ]
  }
 ],
 "metadata": {
  "accelerator": "GPU",
  "colab": {
   "name": "0427 데이터 정제.ipynb",
   "provenance": []
  },
  "kernelspec": {
   "display_name": "Python 3",
   "language": "python",
   "name": "python3"
  },
  "language_info": {
   "codemirror_mode": {
    "name": "ipython",
    "version": 3
   },
   "file_extension": ".py",
   "mimetype": "text/x-python",
   "name": "python",
   "nbconvert_exporter": "python",
   "pygments_lexer": "ipython3",
   "version": "3.7.4"
  }
 },
 "nbformat": 4,
 "nbformat_minor": 1
}
