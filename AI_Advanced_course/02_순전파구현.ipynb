{
 "cells": [
  {
   "cell_type": "markdown",
   "metadata": {},
   "source": [
    "## 미니배치 버전 파이썬 구현"
   ]
  },
  {
   "cell_type": "code",
   "execution_count": 1,
   "metadata": {},
   "outputs": [
    {
     "data": {
      "text/plain": [
       "array([[0.8610077 , 0.97873521],\n",
       "       [0.13360778, 0.36775295],\n",
       "       [0.20115851, 0.75750029],\n",
       "       [0.40009906, 0.47577122],\n",
       "       [0.29243697, 0.9517425 ],\n",
       "       [0.61248455, 0.27466155],\n",
       "       [0.15600657, 0.04863255],\n",
       "       [0.91912229, 0.50305898],\n",
       "       [0.902227  , 0.70324391],\n",
       "       [0.43940244, 0.28910561]])"
      ]
     },
     "execution_count": 1,
     "metadata": {},
     "output_type": "execute_result"
    }
   ],
   "source": [
    "import numpy as np\n",
    "\n",
    "X = np.random.rand(10,2)  # 랜덤 배열을 생성, shape: (10,2)\n",
    "X"
   ]
  },
  {
   "cell_type": "code",
   "execution_count": 2,
   "metadata": {},
   "outputs": [
    {
     "data": {
      "text/plain": [
       "array([[0.38438807, 0.29814964, 0.1806252 , 0.47797258],\n",
       "       [0.29188334, 0.80171973, 0.86607853, 0.57493383]])"
      ]
     },
     "execution_count": 2,
     "metadata": {},
     "output_type": "execute_result"
    }
   ],
   "source": [
    "W1 = np.random.rand(2,4)\n",
    "W1"
   ]
  },
  {
   "cell_type": "code",
   "execution_count": 3,
   "metadata": {},
   "outputs": [
    {
     "data": {
      "text/plain": [
       "array([0.94447013, 0.64000641, 0.79226813, 0.74010328])"
      ]
     },
     "execution_count": 3,
     "metadata": {},
     "output_type": "execute_result"
    }
   ],
   "source": [
    "b1 = np.random.rand(4)\n",
    "b1"
   ]
  },
  {
   "cell_type": "code",
   "execution_count": 4,
   "metadata": {},
   "outputs": [
    {
     "data": {
      "text/plain": [
       "array([[1.56110772, 1.68138687, 1.79544937, 1.71434933],\n",
       "       [1.10316833, 0.97467632, 1.134904  , 1.01539775],\n",
       "       [1.24289477, 1.30728467, 1.48465716, 1.27176407],\n",
       "       [1.23713313, 1.14073098, 1.27659134, 1.20487663],\n",
       "       [1.33467719, 1.49022713, 1.66937336, 1.42706909],\n",
       "       [1.26007101, 1.04282004, 1.14077675, 1.19076632],\n",
       "       [1.01863222, 0.72550939, 0.86256645, 0.84263064],\n",
       "       [1.44460431, 1.3173547 , 1.39397336, 1.46864416],\n",
       "       [1.49654061, 1.47280958, 1.56429752, 1.57566176],\n",
       "       [1.19775629, 1.00279576, 1.12202344, 1.11634219]])"
      ]
     },
     "execution_count": 4,
     "metadata": {},
     "output_type": "execute_result"
    }
   ],
   "source": [
    "H = np.matmul(X,W1) + b1\n",
    "H\n",
    "# (10, 2) * (2, 4) = (10,4)"
   ]
  },
  {
   "cell_type": "markdown",
   "metadata": {},
   "source": [
    "## 시그모이드 함수"
   ]
  },
  {
   "cell_type": "code",
   "execution_count": 5,
   "metadata": {},
   "outputs": [],
   "source": [
    "def sigmoid(x):\n",
    "    return 1 / ( 1 + np.exp(-x))"
   ]
  },
  {
   "cell_type": "code",
   "execution_count": 6,
   "metadata": {},
   "outputs": [
    {
     "data": {
      "text/plain": [
       "2.718281828459045"
      ]
     },
     "execution_count": 6,
     "metadata": {},
     "output_type": "execute_result"
    }
   ],
   "source": [
    "np.exp(1)"
   ]
  },
  {
   "cell_type": "code",
   "execution_count": 7,
   "metadata": {},
   "outputs": [
    {
     "data": {
      "image/png": "[encoded data removed]",
      "text/plain": [
       "<Figure size 432x288 with 1 Axes>"
      ]
     },
     "metadata": {
      "needs_background": "light"
     },
     "output_type": "display_data"
    }
   ],
   "source": [
    "import matplotlib.pyplot as plt\n",
    "zs = np.arange(-10,10,0.1)\n",
    "gs = [sigmoid(z) for z in zs]\n",
    "# print('zs:',zs)\n",
    "# print('gs:',gs)\n",
    "plt.plot(zs,gs)\n",
    "plt.xlabel('z')     # z = X*W + b\n",
    "plt.ylabel('1/(1+e^(-z)')\n",
    "plt.grid()\n",
    "plt.show()"
   ]
  },
  {
   "cell_type": "code",
   "execution_count": 8,
   "metadata": {},
   "outputs": [
    {
     "data": {
      "text/plain": [
       "array([[0.69586733, 0.77889997, 0.73810141, 0.71778377],\n",
       "       [0.73494082, 0.77318933, 0.72024097, 0.69408918],\n",
       "       [0.76505523, 0.80722007, 0.77419348, 0.71247116],\n",
       "       [0.65631948, 0.72980307, 0.65937734, 0.6915355 ],\n",
       "       [0.63267848, 0.71580891, 0.6394941 , 0.68991262],\n",
       "       [0.7470354 , 0.80246069, 0.76943422, 0.71676325],\n",
       "       [0.65952285, 0.73187559, 0.66239117, 0.69191042],\n",
       "       [0.61026371, 0.69407666, 0.60595676, 0.68160902],\n",
       "       [0.66137659, 0.72129832, 0.64326163, 0.68207425],\n",
       "       [0.7388788 , 0.78168022, 0.73453062, 0.70028001]])"
      ]
     },
     "execution_count": 8,
     "metadata": {},
     "output_type": "execute_result"
    }
   ],
   "source": [
    "# 1 layer Logistic Regression(Binary Classification, 2진 분류)\n",
    "X = np.random.rand(10,2)\n",
    "W1 = np.random.rand(2,4)\n",
    "b1 = np.random.rand(4)\n",
    "a = np.matmul(X,W1) + b1\n",
    "h = sigmoid(a)\n",
    "h"
   ]
  },
  {
   "cell_type": "code",
   "execution_count": 9,
   "metadata": {},
   "outputs": [
    {
     "data": {
      "text/plain": [
       "array([[0.90480051, 0.8904716 , 0.78936323],\n",
       "       [0.90758732, 0.89242764, 0.79307527],\n",
       "       [0.89616715, 0.88370624, 0.7787214 ],\n",
       "       [0.90045979, 0.88750646, 0.78363937],\n",
       "       [0.87821371, 0.86564445, 0.76066209],\n",
       "       [0.89760577, 0.88544253, 0.78003419],\n",
       "       [0.88870677, 0.87551107, 0.77144459],\n",
       "       [0.89580593, 0.88234748, 0.77899163],\n",
       "       [0.8981708 , 0.88632732, 0.78040284],\n",
       "       [0.89363574, 0.88281834, 0.7749492 ]])"
      ]
     },
     "execution_count": 9,
     "metadata": {},
     "output_type": "execute_result"
    }
   ],
   "source": [
    "# 2 layers Logistic Regression(Binary Classification, 2진 분류)\n",
    "X = np.random.rand(10,2)\n",
    "\n",
    "W1 = np.random.rand(2,4)\n",
    "b1 = np.random.rand(4)\n",
    "\n",
    "W2 = np.random.rand(4,3)\n",
    "b2 = np.random.rand(3)\n",
    "\n",
    "# layer 1\n",
    "a1 = np.matmul(X,W1) + b1\n",
    "s1 = sigmoid(a1)\n",
    "\n",
    "# layer 2\n",
    "a2 = np.matmul(s1,W2) + b2\n",
    "h = sigmoid(a2)\n",
    "h"
   ]
  },
  {
   "cell_type": "markdown",
   "metadata": {},
   "source": [
    "## 계층으로 클래스화 및 순전파 구현"
   ]
  },
  {
   "cell_type": "code",
   "execution_count": 10,
   "metadata": {},
   "outputs": [],
   "source": [
    "class Sigmoid:\n",
    "    def __init__(self):\n",
    "        self.params = []\n",
    "        \n",
    "    def forward(self,x):\n",
    "        return 1 / (1 + np.exp(-x))\n",
    "        \n",
    "class Affine: # 행렬의 내적을 아핀(Affine) 변환이라고 하며, Affine 계층을 통해 이 변환을 수행처리함 \n",
    "    def __init__(self,W,b):\n",
    "        self.params = [W,b]\n",
    "        \n",
    "    def forward(self,x):\n",
    "        W,b = self.params\n",
    "        out = np.dot(x,W) + b\n",
    "        return out"
   ]
  },
  {
   "cell_type": "code",
   "execution_count": 11,
   "metadata": {},
   "outputs": [],
   "source": [
    "# 학습 모델\n",
    "class TwoLayerNet:\n",
    "    def __init__(self, input_size, hidden_size, output_size):\n",
    "        I, H, O = input_size, hidden_size, output_size\n",
    "        \n",
    "        # Weight과 bias 초기화\n",
    "        W1 = np.random.rand(I,H)\n",
    "        b1 = np.random.rand(H)\n",
    "\n",
    "        W2 = np.random.rand(H,O)\n",
    "        b2 = np.random.rand(O)\n",
    "        \n",
    "        # 계층 생성\n",
    "        self.layers = [\n",
    "            Affine(W1,b1),\n",
    "            Sigmoid(),\n",
    "            Affine(W2,b2),\n",
    "            Sigmoid()\n",
    "        ]\n",
    "        \n",
    "        self.params = []\n",
    "        for layer in self.layers: # 4회\n",
    "            self.params += layer.params\n",
    "            \n",
    "    def predict(self,x):\n",
    "        for layer in self.layers: # 4회\n",
    "            x = layer.forward(x)\n",
    "            \n",
    "        return x\n",
    "    \n",
    "# t = TwoLayerNet(2,3,4)    \n",
    "# t.params"
   ]
  },
  {
   "cell_type": "code",
   "execution_count": 12,
   "metadata": {},
   "outputs": [
    {
     "data": {
      "text/plain": [
       "['W1', 'b1', 'W2', 'b2']"
      ]
     },
     "execution_count": 12,
     "metadata": {},
     "output_type": "execute_result"
    }
   ],
   "source": [
    "#  # 모든 가중치를 리스트에 모은다.\n",
    "#         self.params = []\n",
    "#         for layer in self.layers:\n",
    "#             self.params += layer.params\n",
    "# 위 코드 설명: 누적 덧셈\n",
    "a = ['W1', 'b1']\n",
    "a += ['W2', 'b2']\n",
    "a"
   ]
  },
  {
   "cell_type": "code",
   "execution_count": 13,
   "metadata": {},
   "outputs": [
    {
     "name": "stdout",
     "output_type": "stream",
     "text": [
      "[[0.82035992 0.77179415 0.70633668 0.84327289]\n",
      " [0.83212279 0.77862371 0.71255587 0.85379169]\n",
      " [0.81500933 0.76980701 0.70507524 0.84012057]\n",
      " [0.82471346 0.77565146 0.71066718 0.84929574]\n",
      " [0.81922194 0.77084144 0.70530448 0.84177555]\n",
      " [0.79676215 0.7611398  0.69772525 0.82593351]\n",
      " [0.80498232 0.76513799 0.70123337 0.83257279]\n",
      " [0.81942766 0.77169695 0.70647988 0.84311546]\n",
      " [0.82593258 0.77623079 0.71111667 0.85018006]\n",
      " [0.81977797 0.77254713 0.70763999 0.84446061]] (10, 4)\n"
     ]
    }
   ],
   "source": [
    "# 예측 코드\n",
    "X = np.random.rand(10,2)\n",
    "model = TwoLayerNet(2,3,4)\n",
    "\n",
    "# 여기에서는 학습 수행 부분은 없음\n",
    "# random 값을 그대로 가중치(파라메터)로 사용\n",
    "h = model.predict(X)\n",
    "print(h,h.shape)\n",
    "# (10,2)*(2,3) -> (10,3) * (3,4) --> (10,4)"
   ]
  },
  {
   "cell_type": "code",
   "execution_count": null,
   "metadata": {},
   "outputs": [],
   "source": []
  }
 ],
 "metadata": {
  "kernelspec": {
   "display_name": "Python 3",
   "language": "python",
   "name": "python3"
  },
  "language_info": {
   "codemirror_mode": {
    "name": "ipython",
    "version": 3
   },
   "file_extension": ".py",
   "mimetype": "text/x-python",
   "name": "python",
   "nbconvert_exporter": "python",
   "pygments_lexer": "ipython3",
   "version": "3.8.3"
  }
 },
 "nbformat": 4,
 "nbformat_minor": 4
}
