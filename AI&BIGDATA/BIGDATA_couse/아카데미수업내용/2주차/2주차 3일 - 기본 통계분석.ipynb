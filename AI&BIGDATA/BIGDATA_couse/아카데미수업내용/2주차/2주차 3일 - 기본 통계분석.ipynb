{
 "cells": [
  {
   "cell_type": "code",
   "execution_count": 3,
   "metadata": {},
   "outputs": [],
   "source": [
    "import numpy as np\n",
    "from scipy import stats\n",
    "\n",
    "import scipy.stats\n",
    "import pandas as pd\n",
    "import statsmodels.api as sm\n",
    "\n",
    "import seaborn as sns\n",
    "from statsmodels.stats.proportion import proportions_ztest\n",
    "import os\n",
    "import matplotlib.font_manager as fm\n",
    "from scipy.stats import shapiro\n",
    "import matplotlib.pyplot as plt"
   ]
  },
  {
   "cell_type": "markdown",
   "metadata": {},
   "source": [
    "# 투샘플 티테스트"
   ]
  },
  {
   "cell_type": "code",
   "execution_count": 10,
   "metadata": {},
   "outputs": [
    {
     "name": "stdout",
     "output_type": "stream",
     "text": [
      "(0.9094840288162231, 0.06230909377336502)\n",
      "(0.8978105783462524, 0.03752673789858818)\n"
     ]
    }
   ],
   "source": [
    "df1 = pd.DataFrame({'sample':[6,5,5,4,6,7,6,4,5,6,4,5,5,6,4,8,6,5,6,7]})\n",
    "df2 = pd.DataFrame({'sample':[7,5,7,8,7,8,8,5,7,6,5,5,6,6,5,7,9,7,7,8]})\n",
    "print(shapiro(df1))\n",
    "print(shapiro(df2))"
   ]
  },
  {
   "cell_type": "code",
   "execution_count": 11,
   "metadata": {},
   "outputs": [
    {
     "data": {
      "text/plain": [
       "LeveneResult(statistic=0.04810126582278468, pvalue=0.8275746090758196)"
      ]
     },
     "execution_count": 11,
     "metadata": {},
     "output_type": "execute_result"
    }
   ],
   "source": [
    "#등분산성 검정\n",
    "stats.levene(df1['sample'],df2['sample'])"
   ]
  },
  {
   "cell_type": "code",
   "execution_count": 28,
   "metadata": {},
   "outputs": [
    {
     "name": "stdout",
     "output_type": "stream",
     "text": [
      "[-3.122] [0.003]\n"
     ]
    }
   ],
   "source": [
    "#평균의 차이가 있다\n",
    "#df2의 평균이 더 크다.\n",
    "t_result = stats.ttest_ind(df1,df2, equal_var=True)\n",
    "t,p = t_result.statistic.round(3),t_result.pvalue.round(3)\n",
    "print(t, p)"
   ]
  },
  {
   "cell_type": "code",
   "execution_count": 34,
   "metadata": {},
   "outputs": [
    {
     "data": {
      "text/plain": [
       "<matplotlib.axes._subplots.AxesSubplot at 0x7f13a8924990>"
      ]
     },
     "execution_count": 34,
     "metadata": {},
     "output_type": "execute_result"
    },
    {
     "data": {
      "image/png": "[encoded data removed]",
      "text/plain": [
       "<Figure size 432x288 with 1 Axes>"
      ]
     },
     "metadata": {
      "needs_background": "light"
     },
     "output_type": "display_data"
    }
   ],
   "source": [
    "df1.boxplot()\n",
    "# sns.boxplot(df1)\n",
    "sns.boxplot(df1['sample'],df2['sample'])"
   ]
  },
  {
   "cell_type": "markdown",
   "metadata": {},
   "source": [
    "# 투샘플 티테스트 실습"
   ]
  },
  {
   "cell_type": "code",
   "execution_count": 51,
   "metadata": {},
   "outputs": [
    {
     "name": "stdout",
     "output_type": "stream",
     "text": [
      "(0.8425756096839905, 0.08004552870988846)\n",
      "(0.7734811902046204, 0.014793740585446358)\n"
     ]
    }
   ],
   "source": [
    "df1 = pd.DataFrame({'a':[1.883,1.715,1.799,1.768,1.711,1.832,1.427,1.344]\n",
    "                   ,'b':[1.435,1.572,1.486,1.511,1.457,1.548,1.404,1.883]})\n",
    "\n",
    "#정규성을 띈다. \n",
    "print(shapiro(df1['a']))\n",
    "print(shapiro(df1['b']))"
   ]
  },
  {
   "cell_type": "code",
   "execution_count": 48,
   "metadata": {},
   "outputs": [
    {
     "data": {
      "text/plain": [
       "LeveneResult(statistic=0.4408416728536036, pvalue=0.5175025061092301)"
      ]
     },
     "execution_count": 48,
     "metadata": {},
     "output_type": "execute_result"
    }
   ],
   "source": [
    "#등분산성 검정, 등분산성을 띈다\n",
    "stats.levene(df1['a'],df1['b'])"
   ]
  },
  {
   "cell_type": "code",
   "execution_count": 50,
   "metadata": {},
   "outputs": [
    {
     "name": "stdout",
     "output_type": "stream",
     "text": [
      "1.7 0.111\n"
     ]
    }
   ],
   "source": [
    "#평균의 차이가 없다. \n",
    "t_result = stats.ttest_ind(df1['a'],df1['b'], equal_var=True)\n",
    "t,p = t_result.statistic.round(3),t_result.pvalue.round(3)\n",
    "print(t, p)"
   ]
  },
  {
   "cell_type": "markdown",
   "metadata": {},
   "source": [
    "# Paired 티 테스트\n",
    "귀무가설 : 짝을 이루는 평균의 차이가 있다.  \n",
    "대립가설 : 작을 이루는 평균의 차이가 없다.  \n",
    "p-값 0.이 유의수준 0.05보다 작으므로 귀무가설을 기각하고 대립가설을 채택한다.  \n",
    "평균의 차이가 없다."
   ]
  },
  {
   "cell_type": "code",
   "execution_count": 54,
   "metadata": {},
   "outputs": [
    {
     "name": "stdout",
     "output_type": "stream",
     "text": [
      "[-5.324] [0.]\n"
     ]
    }
   ],
   "source": [
    "df1 = pd.DataFrame({'before':[720,589,780,648,720,589,780,648,780,648]})\n",
    "df2 = pd.DataFrame({'after':[810,670,790,712,810,670,790,712,790,712]})\n",
    "\n",
    "t_result = stats.ttest_rel(df1,df2)\n",
    "t,p = t_result.statistic.round(3), t_result.pvalue.round(3)\n",
    "print(t, p)"
   ]
  },
  {
   "cell_type": "markdown",
   "metadata": {},
   "source": [
    "# Paired 티 테스트\n",
    "귀무가설 : 짝을 이루는 평균의 차이가 있다.  \n",
    "대립가설 : 짝을 이루는 평균의 차이가 없다.  \n",
    "p-값 0.05가 유의수준 0.05와 같기 때문에 분석자가 알아서 선택한다."
   ]
  },
  {
   "cell_type": "code",
   "execution_count": 55,
   "metadata": {},
   "outputs": [
    {
     "name": "stdout",
     "output_type": "stream",
     "text": [
      "[-2.266] [0.05]\n"
     ]
    }
   ],
   "source": [
    "df1 = pd.DataFrame({'before':[720,589,780,648,720,589,780,648,780,648]})\n",
    "df2 = pd.DataFrame({'after':[710,580,787,712,750,600,782,670,790,680]})\n",
    "\n",
    "t_result = stats.ttest_rel(df1,df2)\n",
    "t,p = t_result.statistic.round(3), t_result.pvalue.round(3)\n",
    "print(t, p)"
   ]
  },
  {
   "cell_type": "markdown",
   "metadata": {},
   "source": [
    "# proportion 테스트\n",
    "귀무가설 : p=0.1  \n",
    "대립가설 : p!=0.1"
   ]
  },
  {
   "cell_type": "code",
   "execution_count": 59,
   "metadata": {},
   "outputs": [
    {
     "name": "stdout",
     "output_type": "stream",
     "text": [
      "1.4002800840280094 0.16142946236708322\n"
     ]
    }
   ],
   "source": [
    "count = 15\n",
    "n_obs = 100\n",
    "value = 0.1\n",
    "stat, pval = proportions_ztest(count, n_obs, value)\n",
    "print(stat, pval)"
   ]
  },
  {
   "cell_type": "markdown",
   "metadata": {},
   "source": [
    "귀무가설 : p=0.1  \n",
    "대립가설 : p!=0.1  \n",
    "회사의 오류가 발생할 확률이 0.1인데 1만개 중에서 오류가 1500개가 생겼는데  \n",
    "이 비율은 같다고 할수있는가 ?"
   ]
  },
  {
   "cell_type": "code",
   "execution_count": 60,
   "metadata": {},
   "outputs": [
    {
     "name": "stdout",
     "output_type": "stream",
     "text": [
      "14.002800840280093 1.4984678147052802e-44\n"
     ]
    }
   ],
   "source": [
    "count = 1500\n",
    "n_obs = 10000\n",
    "value = 0.1\n",
    "stat, pval = proportions_ztest(count, n_obs, value)\n",
    "print(stat, pval)"
   ]
  },
  {
   "cell_type": "markdown",
   "metadata": {},
   "source": [
    "100번 던져서 앞면이 40번 나왔다  \n",
    "동전은 0.5 확률을 가지는데 이 확률이 같다고 할수있는가?  \n",
    "귀무가설 : p=0.5  \n",
    "대립가설 : p!=0.5  \n",
    "\n",
    "     "
   ]
  },
  {
   "cell_type": "code",
   "execution_count": 63,
   "metadata": {},
   "outputs": [
    {
     "name": "stdout",
     "output_type": "stream",
     "text": [
      "-6.454972243679027 1.082387390934913e-10\n"
     ]
    }
   ],
   "source": [
    "count = 400\n",
    "n_obs = 1000\n",
    "value = 0.5\n",
    "stat, pval = proportions_ztest(count, n_obs, value)\n",
    "print(stat, pval)"
   ]
  },
  {
   "cell_type": "markdown",
   "metadata": {},
   "source": [
    "# 2 proportion 테스트\n",
    "귀무가설 : 두 집단의 불량률이 차이가 있다  \n",
    "대립가설 : 두 집단의 불량률이 차이가 없다."
   ]
  },
  {
   "cell_type": "code",
   "execution_count": 66,
   "metadata": {},
   "outputs": [
    {
     "name": "stdout",
     "output_type": "stream",
     "text": [
      "1.553109404737079 0.12039699966295712\n"
     ]
    }
   ],
   "source": [
    "count = np.array([4,1])\n",
    "nobs= np.array([1000,1200])\n",
    "stat,pval = proportions_ztest(count, nobs)\n",
    "print(stat, pval)"
   ]
  },
  {
   "cell_type": "code",
   "execution_count": 68,
   "metadata": {},
   "outputs": [
    {
     "name": "stdout",
     "output_type": "stream",
     "text": [
      "4.911363174397475 9.044539007262803e-07\n"
     ]
    }
   ],
   "source": [
    "count = np.array([40,10])\n",
    "nobs= np.array([10000,12000])\n",
    "stat,pval = proportions_ztest(count, nobs)\n",
    "print(stat, pval)"
   ]
  },
  {
   "cell_type": "markdown",
   "metadata": {},
   "source": [
    "## 데이터가 연속형일때는 독립성 x   데이터가 이산형일때는 독립성 검정을 한다"
   ]
  },
  {
   "cell_type": "markdown",
   "metadata": {},
   "source": [
    "# 카이스퀘어 검정  \n",
    "적합도 검정은 단측 검정이다  \n",
    "귀무가설 : 근무조별로 제품을 생산하는 부하는 차이가 없다.  \n",
    "대립가설 : 근무조별로 제품을 생산하는 부하의 차이가 있다.\n"
   ]
  },
  {
   "cell_type": "code",
   "execution_count": 4,
   "metadata": {},
   "outputs": [
    {
     "data": {
      "text/html": [
       "<div>\n",
       "<style scoped>\n",
       "    .dataframe tbody tr th:only-of-type {\n",
       "        vertical-align: middle;\n",
       "    }\n",
       "\n",
       "    .dataframe tbody tr th {\n",
       "        vertical-align: top;\n",
       "    }\n",
       "\n",
       "    .dataframe thead th {\n",
       "        text-align: right;\n",
       "    }\n",
       "</style>\n",
       "<table border=\"1\" class=\"dataframe\">\n",
       "  <thead>\n",
       "    <tr style=\"text-align: right;\">\n",
       "      <th></th>\n",
       "      <th>0</th>\n",
       "      <th>1</th>\n",
       "      <th>2</th>\n",
       "      <th>3</th>\n",
       "    </tr>\n",
       "  </thead>\n",
       "  <tbody>\n",
       "    <tr>\n",
       "      <td>hsg</td>\n",
       "      <td>270</td>\n",
       "      <td>260</td>\n",
       "      <td>236</td>\n",
       "      <td>234</td>\n",
       "    </tr>\n",
       "    <tr>\n",
       "      <td>ss</td>\n",
       "      <td>228</td>\n",
       "      <td>285</td>\n",
       "      <td>225</td>\n",
       "      <td>262</td>\n",
       "    </tr>\n",
       "    <tr>\n",
       "      <td>spa</td>\n",
       "      <td>277</td>\n",
       "      <td>284</td>\n",
       "      <td>231</td>\n",
       "      <td>208</td>\n",
       "    </tr>\n",
       "  </tbody>\n",
       "</table>\n",
       "</div>"
      ],
      "text/plain": [
       "       0    1    2    3\n",
       "hsg  270  260  236  234\n",
       "ss   228  285  225  262\n",
       "spa  277  284  231  208"
      ]
     },
     "execution_count": 4,
     "metadata": {},
     "output_type": "execute_result"
    }
   ],
   "source": [
    "import pandas as pd\n",
    "df = pd.DataFrame({'hsg':[270,260,236,234],'ss':[228,285,225,262],'spa':[277,284,231,208]})\n",
    "# chi, pval , dof , expected = stats.chi2_contingency(df.T) # 전치 행렬로 열을 집어 넣는게 포인트임 !\n",
    "df.T\n",
    "# print(chi,pval,dof,expected)"
   ]
  },
  {
   "cell_type": "markdown",
   "metadata": {},
   "source": [
    "귀무가설 : 각 제품에 대해 이미지에 대해 차이가 없다.  \n",
    "대립가설 : 각 제품에 대해 이미지에 대해 차이가 있다."
   ]
  },
  {
   "cell_type": "code",
   "execution_count": 72,
   "metadata": {},
   "outputs": [
    {
     "name": "stdout",
     "output_type": "stream",
     "text": [
      "98.27432228716901 3.4707443967367854e-09 30 [[11.00436681  8.20960699  5.24017467  3.84279476  1.92139738  9.78165939]\n",
      " [ 8.52838428  6.36244541  4.06113537  2.97816594  1.48908297  7.58078603]\n",
      " [10.45414847  7.79912664  4.97816594  3.65065502  1.82532751  9.29257642]\n",
      " [ 8.25327511  6.15720524  3.930131    2.88209607  1.44104803  7.33624454]\n",
      " [ 7.97816594  5.95196507  3.79912664  2.7860262   1.3930131   7.09170306]\n",
      " [ 8.80349345  6.56768559  4.19213974  3.07423581  1.5371179   7.82532751]\n",
      " [ 7.97816594  5.95196507  3.79912664  2.7860262   1.3930131   7.09170306]]\n"
     ]
    }
   ],
   "source": [
    "df = pd.DataFrame({'A/S':[18,8,4,4,3,3],'가격':[1,2,1,1,1,25],'성능':[8,14,3,2,3,8],'확장성':[7,5,4,3,1,10],'디자인':[10,5,9,2,1,2],'안정성':[9,9,5,7,1,1],'기능성':[10,4,4,3,1,7]})\n",
    "chi, pval , dof , expected = stats.chi2_contingency(df.T) # 전치 행렬로 열을 집어 넣는게 포인트임 !\n",
    "\n",
    "print(chi,pval,dof,expected)"
   ]
  },
  {
   "cell_type": "markdown",
   "metadata": {},
   "source": [
    "# One way Anova"
   ]
  },
  {
   "cell_type": "code",
   "execution_count": 83,
   "metadata": {},
   "outputs": [
    {
     "name": "stdout",
     "output_type": "stream",
     "text": [
      "     A    B    C\n",
      "0  892  721  621\n",
      "1  623  821  915\n",
      "2  721  910  888\n",
      "3  678  678  721\n",
      "4  723  723  894\n",
      "5  790  790  834\n",
      "6  720  711  841\n",
      "7  670  790  912\n",
      "8  690  745  845\n",
      "9  771  891  889\n",
      "4.263 0.025\n"
     ]
    }
   ],
   "source": [
    "df = pd.DataFrame({'A':[892,623,721,678,723,790,720,670,690,771],'B':[721,821,910,678,723,790,711,790,745,891]\n",
    "                  ,'C':[621,915,888,721,894,834,841,912,845,889]})\n",
    "df.boxplot(['A','B','C'])\n",
    "\n",
    "f_result = stats.f_oneway(df['A'],df['B'],df['C'])\n",
    "\n",
    "f,p = f_result.statistic.round(3), f_result.pvalue.round(3)\n",
    "\n",
    "print(f, p)"
   ]
  },
  {
   "cell_type": "markdown",
   "metadata": {},
   "source": [
    "# 상관분석\n",
    "귀무가설 = 상관이 없다. 0이다  \n",
    "대립가설 = 상관이 있다. 0이아니다\n",
    "\n",
    "결과적으로 두 집단은 강한 양의 상관관계를 갖는것으로 판단 할 수 있다."
   ]
  },
  {
   "cell_type": "code",
   "execution_count": 81,
   "metadata": {},
   "outputs": [
    {
     "name": "stdout",
     "output_type": "stream",
     "text": [
      "0.9892262536728126 5.818608669347627e-08\n"
     ]
    }
   ],
   "source": [
    "df1 = [1,2,3,4,4,5,6,6,7,8]\n",
    "df2 = [23,29,49,64,74,87,96,97,109,119]\n",
    "\n",
    "corr,pval = stats.pearsonr(df1,df2)\n",
    "\n",
    "print(corr, pval)"
   ]
  },
  {
   "cell_type": "markdown",
   "metadata": {},
   "source": [
    "# 회귀분석\n"
   ]
  },
  {
   "cell_type": "code",
   "execution_count": 4,
   "metadata": {},
   "outputs": [
    {
     "name": "stdout",
     "output_type": "stream",
     "text": [
      "                            OLS Regression Results                            \n",
      "==============================================================================\n",
      "Dep. Variable:                      y   R-squared:                       0.257\n",
      "Model:                            OLS   Adj. R-squared:                  0.108\n",
      "Method:                 Least Squares   F-statistic:                     1.729\n",
      "Date:                Fri, 31 Jan 2020   Prob (F-statistic):              0.246\n",
      "Time:                        17:44:19   Log-Likelihood:                -6.3003\n",
      "No. Observations:                   7   AIC:                             16.60\n",
      "Df Residuals:                       5   BIC:                             16.49\n",
      "Df Model:                           1                                         \n",
      "Covariance Type:            nonrobust                                         \n",
      "==============================================================================\n",
      "                 coef    std err          t      P>|t|      [0.025      0.975]\n",
      "------------------------------------------------------------------------------\n",
      "const          1.7571      0.266      6.602      0.001       1.073       2.441\n",
      "x1             0.1750      0.133      1.315      0.246      -0.167       0.517\n",
      "==============================================================================\n",
      "Omnibus:                          nan   Durbin-Watson:                   0.778\n",
      "Prob(Omnibus):                    nan   Jarque-Bera (JB):                0.673\n",
      "Skew:                          -0.209   Prob(JB):                        0.714\n",
      "Kurtosis:                       1.539   Cond. No.                         2.00\n",
      "==============================================================================\n",
      "\n",
      "Warnings:\n",
      "[1] Standard Errors assume that the covariance matrix of the errors is correctly specified.\n"
     ]
    },
    {
     "name": "stderr",
     "output_type": "stream",
     "text": [
      "/home/pirl/anaconda3/lib/python3.7/site-packages/statsmodels/stats/stattools.py:71: ValueWarning: omni_normtest is not valid with less than 8 observations; 7 samples were given.\n",
      "  \"samples were given.\" % int(n), ValueWarning)\n"
     ]
    }
   ],
   "source": [
    "x = [-3,-2,-1,0,1,2,3]\n",
    "y=[0.4,1.3,2.2,2.5,2.4,2.0,1.5]\n",
    "x = sm.add_constant(x) # 절편 만드는거 ?\n",
    "model = sm.OLS(y, x)\n",
    "result = model.fit()\n",
    "print(result.summary())"
   ]
  },
  {
   "cell_type": "code",
   "execution_count": 5,
   "metadata": {},
   "outputs": [
    {
     "data": {
      "text/plain": [
       "(0.8914536833763123, 0.28233224153518677)"
      ]
     },
     "execution_count": 5,
     "metadata": {},
     "output_type": "execute_result"
    },
    {
     "data": {
      "image/png": "[encoded data removed]",
      "text/plain": [
       "<Figure size 432x288 with 1 Axes>"
      ]
     },
     "metadata": {
      "needs_background": "light"
     },
     "output_type": "display_data"
    }
   ],
   "source": [
    "#정규성 검정\n",
    "plt.hist(result.resid)\n",
    "shapiro(result.resid)"
   ]
  },
  {
   "cell_type": "code",
   "execution_count": 7,
   "metadata": {},
   "outputs": [
    {
     "data": {
      "text/plain": [
       "<matplotlib.lines.Line2D at 0x7f82e12f8810>"
      ]
     },
     "execution_count": 7,
     "metadata": {},
     "output_type": "execute_result"
    },
    {
     "data": {
      "image/png": "[encoded data removed]",
      "text/plain": [
       "<Figure size 432x288 with 1 Axes>"
      ]
     },
     "metadata": {
      "needs_background": "light"
     },
     "output_type": "display_data"
    }
   ],
   "source": [
    "\n",
    "#독립성 검정\n",
    "plt.scatter(range(0,7),result.resid ,marker=\"o\")\n",
    "plt.axhline(y=0, linestyle ='-')\n",
    "plt.axhline(y=3*np.std(result.resid), linestyle ='-')\n",
    "plt.axhline(y=-3*np.std(result.resid), linestyle ='--')"
   ]
  },
  {
   "cell_type": "code",
   "execution_count": 84,
   "metadata": {},
   "outputs": [
    {
     "name": "stdout",
     "output_type": "stream",
     "text": [
      "                            OLS Regression Results                            \n",
      "==============================================================================\n",
      "Dep. Variable:                      y   R-squared:                       0.979\n",
      "Model:                            OLS   Adj. R-squared:                  0.976\n",
      "Method:                 Least Squares   F-statistic:                     365.3\n",
      "Date:                Thu, 23 Jan 2020   Prob (F-statistic):           5.82e-08\n",
      "Time:                        15:34:58   Log-Likelihood:                -29.401\n",
      "No. Observations:                  10   AIC:                             62.80\n",
      "Df Residuals:                       8   BIC:                             63.41\n",
      "Df Model:                           1                                         \n",
      "Covariance Type:            nonrobust                                         \n",
      "==============================================================================\n",
      "                 coef    std err          t      P>|t|      [0.025      0.975]\n",
      "------------------------------------------------------------------------------\n",
      "const          7.1712      3.886      1.845      0.102      -1.791      16.133\n",
      "x1            14.6802      0.768     19.112      0.000      12.909      16.451\n",
      "==============================================================================\n",
      "Omnibus:                        0.118   Durbin-Watson:                   1.283\n",
      "Prob(Omnibus):                  0.943   Jarque-Bera (JB):                0.241\n",
      "Skew:                           0.191   Prob(JB):                        0.886\n",
      "Kurtosis:                       2.343   Cond. No.                         12.5\n",
      "==============================================================================\n",
      "\n",
      "Warnings:\n",
      "[1] Standard Errors assume that the covariance matrix of the errors is correctly specified.\n"
     ]
    },
    {
     "name": "stderr",
     "output_type": "stream",
     "text": [
      "/home/pirl/anaconda3/lib/python3.7/site-packages/scipy/stats/stats.py:1535: UserWarning: kurtosistest only valid for n>=20 ... continuing anyway, n=10\n",
      "  \"anyway, n=%i\" % int(n))\n"
     ]
    }
   ],
   "source": [
    "minutes = [1,2,3,4,4,5,6,6,7,8]\n",
    "units = [23,29,49,64,74,87,96,97,109,119]\n",
    "\n",
    "minutes = sm.add_constant(minutes) # 절편 만드는거 ?\n",
    "model = sm.OLS(units, minutes)\n",
    "result = model.fit()\n",
    "print(result.summary())"
   ]
  },
  {
   "cell_type": "markdown",
   "metadata": {},
   "source": [
    "# 잔차 검정"
   ]
  },
  {
   "cell_type": "code",
   "execution_count": 97,
   "metadata": {},
   "outputs": [
    {
     "data": {
      "text/plain": [
       "(0.9653438329696655, 0.8446419835090637)"
      ]
     },
     "execution_count": 97,
     "metadata": {},
     "output_type": "execute_result"
    },
    {
     "data": {
      "image/png": "[encoded data removed]",
      "text/plain": [
       "<Figure size 432x288 with 1 Axes>"
      ]
     },
     "metadata": {
      "needs_background": "light"
     },
     "output_type": "display_data"
    }
   ],
   "source": [
    "#정규성 검정\n",
    "plt.hist(result.resid)\n",
    "shapiro(result.resid)"
   ]
  },
  {
   "cell_type": "code",
   "execution_count": 101,
   "metadata": {},
   "outputs": [
    {
     "data": {
      "text/plain": [
       "<matplotlib.lines.Line2D at 0x7f138b790350>"
      ]
     },
     "execution_count": 101,
     "metadata": {},
     "output_type": "execute_result"
    },
    {
     "data": {
      "image/png": "[encoded data removed]",
      "text/plain": [
       "<Figure size 432x288 with 1 Axes>"
      ]
     },
     "metadata": {
      "needs_background": "light"
     },
     "output_type": "display_data"
    }
   ],
   "source": [
    "#둥분산성 검정\n",
    "plt.scatter(result.fittedvalues, result.resid)\n",
    "plt.axhline(y=0,linestyle='--')\n"
   ]
  },
  {
   "cell_type": "code",
   "execution_count": 102,
   "metadata": {},
   "outputs": [
    {
     "data": {
      "text/plain": [
       "<matplotlib.lines.Line2D at 0x7f138be7c490>"
      ]
     },
     "execution_count": 102,
     "metadata": {},
     "output_type": "execute_result"
    },
    {
     "data": {
      "image/png": "[encoded data removed]",
      "text/plain": [
       "<Figure size 432x288 with 1 Axes>"
      ]
     },
     "metadata": {
      "needs_background": "light"
     },
     "output_type": "display_data"
    }
   ],
   "source": [
    "\n",
    "#독립성 검정\n",
    "plt.scatter(range(0,10),result.resid ,marker=\"o\")\n",
    "plt.axhline(y=0, linestyle ='-')\n",
    "plt.axhline(y=3*np.std(result.resid), linestyle ='-')\n",
    "plt.axhline(y=-3*np.std(result.resid), linestyle ='--')\n"
   ]
  },
  {
   "cell_type": "code",
   "execution_count": null,
   "metadata": {},
   "outputs": [],
   "source": [
    "from sklearn.linear_model import LinearRegression\n",
    "import statsmodels.formula.api as smf\n",
    "\n",
    "model = smf.ols(formula=\"strength ~ Oven_TMP\",data = ds_reg)\n",
    "result = model.fit()\n",
    "print(result.summary())"
   ]
  }
 ],
 "metadata": {
  "kernelspec": {
   "display_name": "Python 3",
   "language": "python",
   "name": "python3"
  },
  "language_info": {
   "codemirror_mode": {
    "name": "ipython",
    "version": 3
   },
   "file_extension": ".py",
   "mimetype": "text/x-python",
   "name": "python",
   "nbconvert_exporter": "python",
   "pygments_lexer": "ipython3",
   "version": "3.7.9"
  }
 },
 "nbformat": 4,
 "nbformat_minor": 2
}
