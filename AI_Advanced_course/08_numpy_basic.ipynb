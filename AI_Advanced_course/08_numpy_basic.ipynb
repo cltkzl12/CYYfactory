{
 "cells": [
  {
   "cell_type": "markdown",
   "metadata": {},
   "source": [
    "### 넘파이(NumPy) : 배열(ndarray, n dimension array)\n",
    "* 리스트(list) : Linked List구조(불연속), 동작 속도가 느리다, comma로 요소구별, 서로 다른 자료형 사용가능 \n",
    "* 배열(ndarray) : 연속된 메모리 구조, 동작 속도가 빠르다, comma를 사용하지 않고 공백으로 요소 구별,오직 한 가지 타입만 갖을 수 있다 \n",
    "\n",
    "https://www.scipy.org"
   ]
  },
  {
   "cell_type": "code",
   "execution_count": 1,
   "metadata": {},
   "outputs": [
    {
     "name": "stdout",
     "output_type": "stream",
     "text": [
      "[0, 1, 2, 3, 4, 5, 'hello']\n",
      "<class 'list'>\n",
      "[0 1 2 3 4 5]\n",
      "<class 'numpy.ndarray'>\n",
      "int32\n"
     ]
    }
   ],
   "source": [
    "import numpy as np\n",
    "# ! pip install numpy\n",
    "\n",
    "# list\n",
    "list1 = [0,1,2,3,4,5,'hello']\n",
    "print(list1)\n",
    "print(type(list1))\n",
    "\n",
    "a = np.array([0,1,2,3,4,5])\n",
    "print(a)\n",
    "print(type(a))  # ndarray\n",
    "print(a.dtype)"
   ]
  },
  {
   "cell_type": "code",
   "execution_count": 2,
   "metadata": {},
   "outputs": [
    {
     "data": {
      "text/plain": [
       "dict_keys(['?', 0, 'byte', 'b', 1, 'ubyte', 'B', 2, 'short', 'h', 3, 'ushort', 'H', 4, 'i', 5, 'uint', 'I', 6, 'intp', 'p', 9, 'uintp', 'P', 10, 'long', 'l', 7, 'L', 8, 'longlong', 'q', 'ulonglong', 'Q', 'half', 'e', 23, 'f', 11, 'double', 'd', 12, 'longdouble', 'g', 13, 'cfloat', 'F', 14, 'cdouble', 'D', 15, 'clongdouble', 'G', 16, 'O', 17, 'S', 18, 'unicode', 'U', 19, 'void', 'V', 20, 'M', 21, 'm', 22, 'bool8', 'Bool', 'b1', 'int64', 'Int64', 'i8', 'uint64', 'Uint64', 'u8', 'float16', 'Float16', 'f2', 'float32', 'Float32', 'f4', 'float64', 'Float64', 'f8', 'complex64', 'Complex32', 'c8', 'complex128', 'Complex64', 'c16', 'object0', 'Object0', 'bytes0', 'Bytes0', 'str0', 'Str0', 'void0', 'Void0', 'datetime64', 'Datetime64', 'M8', 'timedelta64', 'Timedelta64', 'm8', 'int32', 'Int32', 'i4', 'uint32', 'UInt32', 'u4', 'UInt64', 'int16', 'Int16', 'i2', 'uint16', 'UInt16', 'u2', 'int8', 'Int8', 'i1', 'uint8', 'UInt8', 'u1', 'complex_', 'int0', 'uint0', 'single', 'csingle', 'singlecomplex', 'float_', 'intc', 'uintc', 'int_', 'longfloat', 'clongfloat', 'longcomplex', 'bool_', 'bytes_', 'string_', 'unicode_', 'object_', 'str_', 'int', 'float', 'complex', 'bool', 'object', 'str', 'bytes', 'a'])"
      ]
     },
     "execution_count": 2,
     "metadata": {},
     "output_type": "execute_result"
    }
   ],
   "source": [
    "# numpy 의 dtype 객체의 종류: 대소문자 모두 사용가능\n",
    "np.sctypeDict.keys()"
   ]
  },
  {
   "cell_type": "code",
   "execution_count": 3,
   "metadata": {},
   "outputs": [
    {
     "name": "stdout",
     "output_type": "stream",
     "text": [
      "[0. 1. 2. 3. 4. 5.]\n",
      "<class 'numpy.ndarray'>\n",
      "float64\n"
     ]
    }
   ],
   "source": [
    "# int와 float  ----> float\n",
    "a = np.array([0,1,2.,3,4,5])\n",
    "print(a)\n",
    "print(type(a))\n",
    "print(a.dtype)"
   ]
  },
  {
   "cell_type": "code",
   "execution_count": 4,
   "metadata": {},
   "outputs": [
    {
     "name": "stdout",
     "output_type": "stream",
     "text": [
      "['0' '1' '2.0' '3' '4' '5' 'Hello']\n",
      "<class 'numpy.ndarray'>\n",
      "<U32\n"
     ]
    }
   ],
   "source": [
    "# int와 float 와 str --> Unicode String\n",
    "a = np.array([0,1,2.,3,4,5,'Hello'])\n",
    "print(a)\n",
    "print(type(a))\n",
    "print(a.dtype)  # <U32\n",
    "# <U32 ,  < : 리틀엔디언, U:유니코드  , 32:최대문자 32 byte\n",
    "\n",
    "# 유니코드 인코딩 방식\n",
    "# (1) EUC-KR,CP949(MS949) : 완성형, 한글 2 바이트, 영문은 1 바이트, Windows\n",
    "# (2) UTF-8 : 조합형, 한글 3 바이트, 영문은 1 바이트, Linux "
   ]
  },
  {
   "cell_type": "code",
   "execution_count": 5,
   "metadata": {},
   "outputs": [
    {
     "name": "stdout",
     "output_type": "stream",
     "text": [
      "['1.234' '3.123' '4.4356' '5' '7'] <U6\n",
      "[1.234  3.123  4.4356 5.     7.    ] float32\n",
      "[1 3 4 5 7] int32\n"
     ]
    }
   ],
   "source": [
    "# 배열의 데이터 타입 변환 : astype()\n",
    "a1 = np.array(['1.234','3.123','4.4356','5','7'])\n",
    "print(a1, a1.dtype)\n",
    "\n",
    "a2 = a1.astype('float32')\n",
    "print(a2,a2.dtype)\n",
    "\n",
    "a3 = a2.astype('int32')\n",
    "print(a3,a3.dtype)\n",
    "\n",
    "# a3 = a1.astype('int32') # ValueError"
   ]
  },
  {
   "cell_type": "markdown",
   "metadata": {},
   "source": [
    "### 차원(dimension, Rank) 과 Shape\n",
    "* 차원(Dimension, Rank) : 1,2,3 차원 , n 차원, 첫 데이터까지의 대괄호의 갯수\n",
    "* Shape : 차원의 요소의 수, 튜플 형식\n",
    "#### 1차원 Shape : (x,)\n",
    "#### 2차원 Shape : (x,y)  , 행렬(matrix)\n",
    "#### 3차원 Shape : (x,y,z) , (면,행,열)\n",
    "...\n",
    "#### n차원 Shape : (x,y,z,....)"
   ]
  },
  {
   "cell_type": "code",
   "execution_count": 6,
   "metadata": {},
   "outputs": [
    {
     "name": "stdout",
     "output_type": "stream",
     "text": [
      "[ 0  1  2  3  4  5  6  7  8  9 10 11] <class 'numpy.ndarray'>\n",
      "(12,)\n",
      "<class 'tuple'>\n",
      "12\n",
      "[2 3 4 5 6 7 8 9] <class 'numpy.ndarray'>\n",
      "(8,)\n",
      "[ 0  2  4  6  8 10 12 14] (8,)\n"
     ]
    }
   ],
   "source": [
    "# 1차원 배열의 Shape : (x,), 벡터\n",
    "# np.arange(start,end+1,step)\n",
    "a = np.arange(12)  # 0 ~ 11\n",
    "print(a,type(a))\n",
    "print(a.shape)  # (12,)\n",
    "t = a.shape\n",
    "print(type(t))\n",
    "print(a.shape[0])\n",
    "\n",
    "\n",
    "a2 = np.arange(2,10)\n",
    "print(a2,type(a2))\n",
    "print(a2.shape)\n",
    "\n",
    "a3 = np.arange(0,16,2)\n",
    "print(a3,a3.shape)"
   ]
  },
  {
   "cell_type": "code",
   "execution_count": 7,
   "metadata": {},
   "outputs": [
    {
     "name": "stdout",
     "output_type": "stream",
     "text": [
      "[[0 1 2]\n",
      " [3 4 5]]\n",
      "(2, 3)\n",
      "2 3\n"
     ]
    }
   ],
   "source": [
    "# 2차원 배열의 Shape : 행(row,가로,수직,axis = 0) 과 열(column,세로,수평,axis =1)  ==> 필수 암기\n",
    "m = np.array( [[0,1,2],\n",
    "               [3,4,5]])\n",
    "# m = np.array([np.arange(3),     \n",
    "#               np.arange(3,6)])  # 동일한 결과\n",
    "print(m)\n",
    "print(m.shape)\n",
    "print(m.shape[0],m.shape[1])"
   ]
  },
  {
   "cell_type": "code",
   "execution_count": 8,
   "metadata": {},
   "outputs": [
    {
     "name": "stdout",
     "output_type": "stream",
     "text": [
      "[[[0 1 2]\n",
      "  [3 4 5]]\n",
      "\n",
      " [[0 1 2]\n",
      "  [3 4 5]]]\n",
      "(2, 2, 3)\n",
      "2 2 3\n"
     ]
    }
   ],
   "source": [
    "# 3차원 배열의 Shape : (면,행,열)\n",
    "m = np.array([[[0,1,2],\n",
    "               [3,4,5]],\n",
    "              [[0,1,2],\n",
    "               [3,4,5]]])\n",
    "print(m)\n",
    "print(m.shape)\n",
    "print(m.shape[0],m.shape[1],m.shape[2])"
   ]
  },
  {
   "cell_type": "markdown",
   "metadata": {},
   "source": [
    "### 배열의 shape 바꾸기 : reshape() 함수"
   ]
  },
  {
   "cell_type": "code",
   "execution_count": 9,
   "metadata": {},
   "outputs": [
    {
     "name": "stdout",
     "output_type": "stream",
     "text": [
      "[ 0  1  2  3  4  5  6  7  8  9 10 11] (12,)\n",
      "[[ 0  1  2  3]\n",
      " [ 4  5  6  7]\n",
      " [ 8  9 10 11]] (3, 4)\n",
      "[[[ 0  1  2]\n",
      "  [ 3  4  5]]\n",
      "\n",
      " [[ 6  7  8]\n",
      "  [ 9 10 11]]] (2, 2, 3)\n",
      "[[[[[[ 0]\n",
      "     [ 1]\n",
      "     [ 2]]\n",
      "\n",
      "    [[ 3]\n",
      "     [ 4]\n",
      "     [ 5]]]\n",
      "\n",
      "\n",
      "   [[[ 6]\n",
      "     [ 7]\n",
      "     [ 8]]\n",
      "\n",
      "    [[ 9]\n",
      "     [10]\n",
      "     [11]]]]]] (1, 1, 2, 2, 3, 1)\n"
     ]
    }
   ],
   "source": [
    "m1= np.arange(12)\n",
    "print(m1,m1.shape)\n",
    "\n",
    "m2 = m1.reshape(3,4)\n",
    "print(m2,m2.shape)\n",
    "\n",
    "m3 = m1.reshape(2,2,3)\n",
    "print(m3,m3.shape)\n",
    "\n",
    "m4 = m1.reshape(1,1,2,2,3,1)\n",
    "print(m4,m4.shape)"
   ]
  },
  {
   "cell_type": "code",
   "execution_count": 10,
   "metadata": {},
   "outputs": [
    {
     "name": "stdout",
     "output_type": "stream",
     "text": [
      "(2, 6)\n"
     ]
    },
    {
     "data": {
      "text/plain": [
       "(3, 2, 2)"
      ]
     },
     "execution_count": 10,
     "metadata": {},
     "output_type": "execute_result"
    }
   ],
   "source": [
    "# -1 을 사용한 reshape : 자동으로 shape값을 계산\n",
    "m1= np.arange(12)\n",
    "m2 = m1.reshape(-1,6)\n",
    "print(m2.shape)\n",
    "\n",
    "m = np.arange(12).reshape(3,-1,2)\n",
    "m.shape"
   ]
  },
  {
   "cell_type": "markdown",
   "metadata": {},
   "source": [
    "### 배열의 인덱싱과 슬라이싱"
   ]
  },
  {
   "cell_type": "code",
   "execution_count": 11,
   "metadata": {},
   "outputs": [
    {
     "name": "stdout",
     "output_type": "stream",
     "text": [
      "[ 0  1  2  3  4  5  6  7  8  9 10 11] (12,)\n",
      "0 1 2 11\n",
      "[2 3 4 5 6 7] [ 0  1  2  3  4  5  6  7  8  9 10 11] [ 0  1  2  3  4  5  6  7  8  9 10]\n",
      "[ 0  2  4  6  8 10] [11 10  9  8  7  6  5  4  3  2  1  0]\n"
     ]
    },
    {
     "data": {
      "text/plain": [
       "array([10,  1,  2,  3,  4,  5,  6,  7,  8,  9, 10, 11])"
      ]
     },
     "execution_count": 11,
     "metadata": {},
     "output_type": "execute_result"
    }
   ],
   "source": [
    "# 1차원 배열의 인덱싱과 슬라이싱 : list 와 동일한 방법\n",
    "d = np.arange(12)\n",
    "print(d,d.shape)\n",
    "print(d[0],d[1],d[2],d[-1])\n",
    "\n",
    "print(d[2:8], d[:], d[:-1])\n",
    "print(d[::2],d[::-1])\n",
    "\n",
    "d[0] = 10\n",
    "d"
   ]
  },
  {
   "cell_type": "code",
   "execution_count": 12,
   "metadata": {
    "scrolled": true
   },
   "outputs": [
    {
     "name": "stdout",
     "output_type": "stream",
     "text": [
      "[[ 0  1  2  3]\n",
      " [ 4  5  6  7]\n",
      " [ 8  9 10 11]] (3, 4)\n",
      "0\n",
      "0\n",
      "9\n",
      "[0 1 2 3]\n",
      "[0 1 2 3]\n",
      "[[ 0  1  2]\n",
      " [ 4  5  6]\n",
      " [ 8  9 10]]\n",
      "[[ 0  2]\n",
      " [ 8 10]]\n",
      "[[20 20 20 20]\n",
      " [ 4  5  6  7]\n",
      " [ 8  9 10 11]]\n",
      "[[30 20 20 30]\n",
      " [ 4  5  6  7]\n",
      " [30  9 10 30]]\n",
      "[[-1 -1 -1 -1]\n",
      " [-1 -1 -1 -1]\n",
      " [-1 -1 -1 -1]]\n"
     ]
    }
   ],
   "source": [
    "# 2차원 배열의 인덱싱과 슬라이싱   : d[행,열]\n",
    "d = np.arange(12).reshape(3,4)\n",
    "print(d,d.shape)\n",
    "\n",
    "# 인덱싱\n",
    "print(d[0][0])  # 0\n",
    "print(d[0,0])   # 0\n",
    "print(d[2,1])\n",
    "\n",
    "# 슬라이싱\n",
    "print(d[0])   # [0 1 2 3]\n",
    "print(d[0,:]) # [0 1 2 3], (4,), 1차원\n",
    "\n",
    "print(d[:,:-1])    # (3,3), 마지막 열을 제외\n",
    "print(d[::2,::2])  # (2,2)\n",
    "\n",
    "# 요소변경 : 내부적으로 반복 수행을 통해 해당 데이터를 모두 변경\n",
    "d[0,:] = 20   # 0번 행의 모든 요소를 20으로 변경\n",
    "print(d)\n",
    "\n",
    "d[::2,::3] = 30  # 슬라이싱 된 요소 전체를 한번에 변경할 수 있다\n",
    "print(d)\n",
    "\n",
    "d[:,:] = -1    # 전체 요소를 한번에 변경할 수 있다\n",
    "print(d)"
   ]
  },
  {
   "cell_type": "code",
   "execution_count": 13,
   "metadata": {},
   "outputs": [
    {
     "name": "stdout",
     "output_type": "stream",
     "text": [
      "[[[ 0  1  2]\n",
      "  [ 3  4  5]]\n",
      "\n",
      " [[ 6  7  8]\n",
      "  [ 9 10 11]]] (2, 2, 3)\n",
      "0\n",
      "0\n",
      "[[[0 1]]\n",
      "\n",
      " [[6 7]]]\n",
      "[[ 3  4  5]\n",
      " [ 9 10 11]]\n",
      "[ 5 11]\n"
     ]
    }
   ],
   "source": [
    "# 3차원 배열의 인덱싱과 슬라이싱\n",
    "d = np.arange(12).reshape(2,2,3)\n",
    "print(d,d.shape)\n",
    "print(d[0][0][0])\n",
    "print(d[0,0,0])     # 0\n",
    "\n",
    "print(d[:,:-1,:-1]) # (2,1,2)\n",
    "print(d[:,-1,:])    # (2,3)\n",
    "print(d[:,-1,-1])   # (2,)"
   ]
  },
  {
   "cell_type": "markdown",
   "metadata": {},
   "source": [
    "### 불린 인덱싱: 조건식을 사용한 인덱싱, 조건 검색 필터를 사용한 추출(매우 중요)"
   ]
  },
  {
   "cell_type": "code",
   "execution_count": 14,
   "metadata": {},
   "outputs": [
    {
     "name": "stdout",
     "output_type": "stream",
     "text": [
      "[1 2 3 4 5 6]\n",
      "[False False  True  True  True  True]\n",
      "[3 4 5 6]\n",
      "[3 4 5 6]\n",
      "[ True False  True False  True False]\n",
      "[1 3 5]\n",
      "[1 2 4 5 6]\n",
      "[3 4 5]\n",
      "[2 4 6]\n",
      "[1 2 3]\n"
     ]
    }
   ],
   "source": [
    "a = np.array([1,2,3,4,5,6])\n",
    "print(a)\n",
    "\n",
    "print( a > 2 )  # [False False  True  True  True  True]\n",
    "print(a[a > 2]) # 배열 a에서 2보다 큰 요소들을 추출\n",
    "\n",
    "print(a[[False,False, True, True, True, True]]) # 동일한 결과\n",
    "\n",
    "boolean_index = np.array([True,False,True,False,True,False]) # 리스트를 그대로 사용해도 가능\n",
    "print(boolean_index)\n",
    "print(a[boolean_index])\n",
    "\n",
    "print(a[a!=3])\n",
    "print(a[(a > 2) & (a < 6)])\n",
    "print(a[(a % 2) == 0])\n",
    "print(a[a < a.mean()])  # 배열 a에서 평균보다 작은 값만 추출"
   ]
  },
  {
   "cell_type": "markdown",
   "metadata": {},
   "source": [
    "#### fancy 인덱싱 : 리스트나 배열로 임의의 집합을 지정하여 인덱싱,(멋대로 내키는 대로 인덱싱)"
   ]
  },
  {
   "cell_type": "code",
   "execution_count": 15,
   "metadata": {},
   "outputs": [
    {
     "name": "stdout",
     "output_type": "stream",
     "text": [
      "[1 2 3 4 5 6] (6,)\n",
      "[2 4 6 3]\n",
      "[1 6 4 5]\n"
     ]
    }
   ],
   "source": [
    "# 1 차원 배열의 fancy 인덱싱\n",
    "a = np.arange(1,7)\n",
    "print(a,a.shape)\n",
    "\n",
    "print(a[[1,3,5,2]])\n",
    "print(a[[0,-1,-3,-2]])"
   ]
  },
  {
   "cell_type": "code",
   "execution_count": 16,
   "metadata": {},
   "outputs": [
    {
     "name": "stdout",
     "output_type": "stream",
     "text": [
      "[[10 20 30]\n",
      " [40 50 60]\n",
      " [70 80 90]] (3, 3)\n",
      "[10 80]\n",
      "[[10 20]\n",
      " [70 80]]\n",
      "10 80\n"
     ]
    }
   ],
   "source": [
    "# 2 차원 배열의 fancy 인덱싱\n",
    "a = np.arange(10,100,10).reshape(3,3)\n",
    "print(a,a.shape)\n",
    "\n",
    "print(a[[0,2],[0,1]])  # 행과 열이 서로 match\n",
    "print(a[[0,2],:2])\n",
    "print(a[0,0],a[2,1])"
   ]
  },
  {
   "cell_type": "code",
   "execution_count": 17,
   "metadata": {},
   "outputs": [
    {
     "name": "stdout",
     "output_type": "stream",
     "text": [
      "[[ 0  1  2  3]\n",
      " [ 4  5  6  7]\n",
      " [ 8  9 10 11]]\n",
      "[ 0  1  2  3  4  5  6  7  8  9 10 11]\n",
      "[[ 8  9 10 11]\n",
      " [ 4  5  6  7]\n",
      " [ 0  1  2  3]]\n",
      "[[ 3  2  1  0]\n",
      " [ 7  6  5  4]\n",
      " [11 10  9  8]]\n",
      "[[11 10  9  8]\n",
      " [ 7  6  5  4]\n",
      " [ 3  2  1  0]]\n",
      "[[ 0  4  8]\n",
      " [ 1  5  9]\n",
      " [ 2  6 10]\n",
      " [ 3  7 11]]\n",
      "(4, 3)\n",
      "[[ 0  4  8]\n",
      " [ 1  5  9]\n",
      " [ 2  6 10]\n",
      " [ 3  7 11]]\n",
      "[[0 0 0 0]\n",
      " [0 0 0 0]\n",
      " [0 0 0 0]] (3, 4)\n"
     ]
    }
   ],
   "source": [
    "# 배열의 형상 다루기 : reshape(), 편평화(flatten()), 전치(transpose())\n",
    "\n",
    "# flatten() : 다차원 배열을 1 차원으로 만든다\n",
    "d = np.arange(12).reshape(3,4)\n",
    "print(d)\n",
    "\n",
    "f = d.flatten() # (3,4) --> (12,)  , d.reshape(12,)\n",
    "print(f)\n",
    "\n",
    "# 데이터 순서를 거꾸로 변경\n",
    "print(d[::-1])      # 행의 순서를 거꾸로 변경\n",
    "print(d[:,::-1])    # 열의 순서를 거꾸로 변경\n",
    "print(d[::-1,::-1]) # 행과 열의 순서를 거꾸로 변경\n",
    "\n",
    "# tranpose() : 전치 행렬, 행과 열을 서로 맞바꾸는 함수\n",
    "t = d.transpose()\n",
    "print(t)\n",
    "print(t.shape)   # (3,4) --> (4,3)\n",
    "\n",
    "print(d.T)       # transpose()와 동일한 결과\n",
    "\n",
    "# 임시로 1차원으로 변경하여 데이터를 채우고 다시 원래의 shape을 갖는다\n",
    "d.flat = 0\n",
    "print(d,d.shape)"
   ]
  },
  {
   "cell_type": "markdown",
   "metadata": {},
   "source": [
    "### numpy 의 속성(Attribute) : 멤버 변수, 메서드"
   ]
  },
  {
   "cell_type": "markdown",
   "metadata": {},
   "source": [
    "#### dtype,shape,ndim,flat,T,size,nbytes"
   ]
  },
  {
   "cell_type": "code",
   "execution_count": 18,
   "metadata": {},
   "outputs": [
    {
     "name": "stdout",
     "output_type": "stream",
     "text": [
      "(3, 4)\n",
      "int32\n",
      "2 2\n",
      "[[ 0  4  8]\n",
      " [ 1  5  9]\n",
      " [ 2  6 10]\n",
      " [ 3  7 11]]\n",
      "48\n",
      "12\n",
      "[[1 1 1 1]\n",
      " [1 1 1 1]\n",
      " [1 1 1 1]]\n"
     ]
    }
   ],
   "source": [
    "d = np.arange(12).reshape(3,4)\n",
    "print(d.shape)\n",
    "print(d.dtype)\n",
    "print(d.ndim, len(d.shape))  # 2차원\n",
    "print(d.T)   # 전치 행렬\n",
    "print(d.nbytes) # 4 bytes * 12 ==> 48 bytess\n",
    "print(d.size)  # 요소의 갯수\n",
    "d.flat = 1\n",
    "print(d)"
   ]
  },
  {
   "cell_type": "code",
   "execution_count": 32,
   "metadata": {},
   "outputs": [
    {
     "name": "stdout",
     "output_type": "stream",
     "text": [
      "[[ 0  1  2  3]\n",
      " [ 4  5  6  7]\n",
      " [ 8  9 10 11]]\n",
      "11\n",
      "0\n",
      "66\n",
      "5.5\n",
      "3.452052529534663\n",
      "11.916666666666666\n",
      "5.5\n",
      "25%: 2.75\n",
      "50%: 5.5\n",
      "75%: 8.25\n"
     ]
    }
   ],
   "source": [
    "# numpy 통계 함수들\n",
    "a = np.arange(12).reshape(3,4)\n",
    "print(a)\n",
    "\n",
    "print(a.max())\n",
    "print(a.min())\n",
    "print(a.sum())\n",
    "print(a.mean())\n",
    "\n",
    "print(a.std())  # 표준편차\n",
    "print(a.var())  # 분산\n",
    "print(np.median(a)) # 중위수\n",
    "\n",
    "# 사분위수\n",
    "print('25%:',np.percentile(a,25)) # 1사분위수(Q1)\n",
    "print('50%:',np.percentile(a,50)) # 2사분위수(Q2)  , median()과 같은 값\n",
    "print('75%:',np.percentile(a,75)) # 3사분위수(Q3)"
   ]
  },
  {
   "cell_type": "code",
   "execution_count": 38,
   "metadata": {},
   "outputs": [
    {
     "name": "stdout",
     "output_type": "stream",
     "text": [
      "[[ 0  1  2  3]\n",
      " [ 4  5  6  7]\n",
      " [ 8  9 10 11]]\n",
      "66\n",
      "[12 15 18 21]\n",
      "[ 6 22 38]\n",
      "66\n",
      "[ 6 22 38]\n"
     ]
    }
   ],
   "source": [
    "# axis 사용법\n",
    "print(a)\n",
    "\n",
    "print(a.sum())  # 배열 전체의 합\n",
    "\n",
    "print(a.sum(axis = 0))     # 수직방향, 행방향\n",
    "print(a.sum(axis = 1))     # 수평방향, 열방향\n",
    "\n",
    "print(a.sum(axis = None))  #  a.sum()\n",
    "print(a.sum(axis = -1))    # a.sum(axis = 1), -1: 마지막 축"
   ]
  },
  {
   "cell_type": "code",
   "execution_count": 42,
   "metadata": {},
   "outputs": [
    {
     "name": "stdout",
     "output_type": "stream",
     "text": [
      "[9 2 8 3 1 4 5 6] (8,)\n",
      "[1 2 3 4 5 6 8 9]\n",
      "[1 2 3 4 5 6 8 9]\n",
      "[9 8 6 5 4 3 2 1]\n"
     ]
    }
   ],
   "source": [
    "# sort() 함수\n",
    "a = np.array([9,2,8,3,1,4,5,6])\n",
    "print(a,a.shape)\n",
    "\n",
    "r = np.sort(a)  # 오름차순, 원본 변경 없음, sort된 결과를 반환\n",
    "print(r)\n",
    "\n",
    "a.sort()        # 오름차순, 원본 변경 \n",
    "print(a)\n",
    "\n",
    "r = np.sort(a)[::-1]  # 내림 차순: 오름 차순 정렬후 순서를 거꾸로 변경 \n",
    "print(r)"
   ]
  },
  {
   "cell_type": "code",
   "execution_count": 44,
   "metadata": {},
   "outputs": [
    {
     "name": "stdout",
     "output_type": "stream",
     "text": [
      "[9 2 8 3 1 4 5 6]\n",
      "[4 1 3 5 6 7 2 0]\n"
     ]
    }
   ],
   "source": [
    "# argsort() 함수 : sort된 후 해당 값의 인덱스(원본기준)를 반환\n",
    "a = np.array([9,2,8,3,1,4,5,6])\n",
    "print(a)\n",
    "print(np.argsort(a))"
   ]
  },
  {
   "cell_type": "markdown",
   "metadata": {},
   "source": [
    "### 배열 합치기\n",
    "* 수직(v,행)으로 합치기 : vstack(), row_stack(), concatenate(..,axis=0)\n",
    "* 수평(h,열)으로 합치기 : hstack(), column_stack(), concatenate(..,axis=1)"
   ]
  },
  {
   "cell_type": "code",
   "execution_count": 49,
   "metadata": {},
   "outputs": [
    {
     "name": "stdout",
     "output_type": "stream",
     "text": [
      "[[0 1 2]\n",
      " [3 4 5]\n",
      " [6 7 8]]\n",
      "[[ 0  2  4]\n",
      " [ 6  8 10]\n",
      " [12 14 16]]\n",
      "[[ 0  1  2]\n",
      " [ 3  4  5]\n",
      " [ 6  7  8]\n",
      " [ 0  2  4]\n",
      " [ 6  8 10]\n",
      " [12 14 16]] (6, 3)\n",
      "[[ 0  1  2]\n",
      " [ 3  4  5]\n",
      " [ 6  7  8]\n",
      " [ 0  2  4]\n",
      " [ 6  8 10]\n",
      " [12 14 16]] (6, 3)\n",
      "[[ 0  1  2]\n",
      " [ 3  4  5]\n",
      " [ 6  7  8]\n",
      " [ 0  2  4]\n",
      " [ 6  8 10]\n",
      " [12 14 16]] (6, 3)\n"
     ]
    }
   ],
   "source": [
    "# 수직(v,행)으로 합치기\n",
    "a = np.arange(9).reshape(3,3)\n",
    "b = a * 2\n",
    "print(a)\n",
    "print(b)\n",
    "\n",
    "r = np.vstack((a,b))  # 수직\n",
    "print(r,r.shape)\n",
    "\n",
    "c = np.row_stack((a,b)) # 행\n",
    "print(c,c.shape)\n",
    "\n",
    "x = np.concatenate((a,b),axis=0)  # axis = 0 , 행, 수직\n",
    "print(x,x.shape)"
   ]
  },
  {
   "cell_type": "code",
   "execution_count": 51,
   "metadata": {},
   "outputs": [
    {
     "name": "stdout",
     "output_type": "stream",
     "text": [
      "[[0 1 2]\n",
      " [3 4 5]\n",
      " [6 7 8]]\n",
      "[[ 0  2  4]\n",
      " [ 6  8 10]\n",
      " [12 14 16]]\n",
      "[[ 0  1  2  0  2  4]\n",
      " [ 3  4  5  6  8 10]\n",
      " [ 6  7  8 12 14 16]] (3, 6)\n",
      "[[ 0  1  2  0  2  4]\n",
      " [ 3  4  5  6  8 10]\n",
      " [ 6  7  8 12 14 16]] (3, 6)\n",
      "[[ 0  1  2  0  2  4]\n",
      " [ 3  4  5  6  8 10]\n",
      " [ 6  7  8 12 14 16]] (3, 6)\n"
     ]
    }
   ],
   "source": [
    "# 수평(h,열)으로 합치기\n",
    "a = np.arange(9).reshape(3,3)\n",
    "b = a * 2\n",
    "print(a)\n",
    "print(b)\n",
    "\n",
    "r = np.hstack((a,b))  # 수평\n",
    "print(r,r.shape)\n",
    "\n",
    "c = np.column_stack((a,b)) # 열\n",
    "print(c,c.shape)\n",
    "\n",
    "x = np.concatenate((a,b),axis=1)  # axis = 1 , 열, 수평\n",
    "print(x,x.shape)"
   ]
  },
  {
   "cell_type": "markdown",
   "metadata": {},
   "source": [
    "### 쪼개기\n",
    "* vsplit(배열,행의 갯수) : 수직, split(배열,행의 갯수,axis = 0)\n",
    "* hsplit(배열,열의 갯수) : 수평, split(배열,행의 갯수,axis = 1)"
   ]
  },
  {
   "cell_type": "code",
   "execution_count": 61,
   "metadata": {},
   "outputs": [
    {
     "name": "stdout",
     "output_type": "stream",
     "text": [
      "[[ 0  1  2]\n",
      " [ 3  4  5]\n",
      " [ 6  7  8]\n",
      " [ 9 10 11]]\n",
      "[array([[0, 1, 2]]), array([[3, 4, 5]]), array([[6, 7, 8]]), array([[ 9, 10, 11]])]\n",
      "[array([[0, 1, 2]]), array([[3, 4, 5]]), array([[6, 7, 8]]), array([[ 9, 10, 11]])]\n",
      "[[ 0  1  2  3]\n",
      " [ 4  5  6  7]\n",
      " [ 8  9 10 11]]\n",
      "[array([[0],\n",
      "       [4],\n",
      "       [8]]), array([[1],\n",
      "       [5],\n",
      "       [9]]), array([[ 2],\n",
      "       [ 6],\n",
      "       [10]]), array([[ 3],\n",
      "       [ 7],\n",
      "       [11]])]\n",
      "[array([[0],\n",
      "       [4],\n",
      "       [8]]), array([[1],\n",
      "       [5],\n",
      "       [9]]), array([[ 2],\n",
      "       [ 6],\n",
      "       [10]]), array([[ 3],\n",
      "       [ 7],\n",
      "       [11]])]\n"
     ]
    }
   ],
   "source": [
    "a = np.arange(12).reshape(4,3)\n",
    "print(a)\n",
    "\n",
    "# 수직방향\n",
    "print(np.vsplit(a,4))\n",
    "print(np.split(a,4,axis=0))\n",
    "\n",
    "a = np.arange(12).reshape(3,4)\n",
    "print(a)\n",
    "\n",
    "# 수평방향\n",
    "print(np.hsplit(a,4))\n",
    "print(np.split(a,4,axis=1))"
   ]
  },
  {
   "cell_type": "markdown",
   "metadata": {},
   "source": [
    "### 배열의 연산: 행렬(matrix)의 연산, 선형대수(Linear Algebra)"
   ]
  },
  {
   "cell_type": "markdown",
   "metadata": {},
   "source": [
    "### [1] 배열과 상수간의 연산 :  배열 <연산자> 상수, 상수 <연산자> 배열\n",
    "#### 하나의 스칼라와 배열의 연산, 브로드 캐스팅에 해당"
   ]
  },
  {
   "cell_type": "code",
   "execution_count": 73,
   "metadata": {},
   "outputs": [
    {
     "name": "stdout",
     "output_type": "stream",
     "text": [
      "[[ 0  1  2  3]\n",
      " [ 4  5  6  7]\n",
      " [ 8  9 10 11]\n",
      " [12 13 14 15]] (4, 4)\n",
      "[[10 11 12 13]\n",
      " [14 15 16 17]\n",
      " [18 19 20 21]\n",
      " [22 23 24 25]]\n",
      "[[-10  -9  -8  -7]\n",
      " [ -6  -5  -4  -3]\n",
      " [ -2  -1   0   1]\n",
      " [  2   3   4   5]]\n",
      "[[  0  10  20  30]\n",
      " [ 40  50  60  70]\n",
      " [ 80  90 100 110]\n",
      " [120 130 140 150]]\n",
      "[[0.  0.1 0.2 0.3]\n",
      " [0.4 0.5 0.6 0.7]\n",
      " [0.8 0.9 1.  1.1]\n",
      " [1.2 1.3 1.4 1.5]]\n",
      "------------------------------\n",
      "[[10 11 12 13]\n",
      " [14 15 16 17]\n",
      " [18 19 20 21]\n",
      " [22 23 24 25]]\n",
      "[[10  9  8  7]\n",
      " [ 6  5  4  3]\n",
      " [ 2  1  0 -1]\n",
      " [-2 -3 -4 -5]]\n",
      "[[  0  10  20  30]\n",
      " [ 40  50  60  70]\n",
      " [ 80  90 100 110]\n",
      " [120 130 140 150]]\n",
      "[[10.          5.          3.33333333  2.5       ]\n",
      " [ 2.          1.66666667  1.42857143  1.25      ]\n",
      " [ 1.11111111  1.          0.90909091  0.83333333]\n",
      " [ 0.76923077  0.71428571  0.66666667  0.625     ]]\n"
     ]
    }
   ],
   "source": [
    "A = np.arange(16).reshape(4,4) \n",
    "print(A,A.shape)\n",
    "\n",
    "print(A + 10)\n",
    "print(A - 10)\n",
    "print(A * 10)\n",
    "print(A / 10)\n",
    "print('-'*30)\n",
    "print(10 + A)\n",
    "print(10 - A)\n",
    "print(10 * A)\n",
    "print(10 / (A  + 1))"
   ]
  },
  {
   "cell_type": "code",
   "execution_count": 78,
   "metadata": {},
   "outputs": [
    {
     "name": "stdout",
     "output_type": "stream",
     "text": [
      "inf\n",
      "nan\n",
      "-inf\n",
      "0.0\n"
     ]
    },
    {
     "name": "stderr",
     "output_type": "stream",
     "text": [
      "<ipython-input-78-7c65d594619d>:2: RuntimeWarning: divide by zero encountered in true_divide\n",
      "  print(np.divide(10,0)) # inf\n",
      "<ipython-input-78-7c65d594619d>:3: RuntimeWarning: invalid value encountered in true_divide\n",
      "  print(np.divide(0,0))  # nan , not a number\n",
      "<ipython-input-78-7c65d594619d>:5: RuntimeWarning: divide by zero encountered in log\n",
      "  print(np.log(0)) # -inf\n"
     ]
    }
   ],
   "source": [
    "# 나누기\n",
    "print(np.divide(10,0)) # inf\n",
    "print(np.divide(0,0))  # nan , not a number\n",
    "\n",
    "print(np.log(0)) # -inf\n",
    "print(np.log1p(0)) # np.log(1)"
   ]
  },
  {
   "cell_type": "markdown",
   "metadata": {},
   "source": [
    "### [2] element-wise 연산 : 배열과 배열의 요소간의 연산"
   ]
  },
  {
   "cell_type": "code",
   "execution_count": 82,
   "metadata": {},
   "outputs": [
    {
     "name": "stdout",
     "output_type": "stream",
     "text": [
      "[[0 1 2]\n",
      " [3 4 5]\n",
      " [6 7 8]]\n",
      "[[-1  0  1]\n",
      " [ 2  3  4]\n",
      " [ 5  6  7]]\n",
      "[[-1  1  3]\n",
      " [ 5  7  9]\n",
      " [11 13 15]]\n",
      "[[1 1 1]\n",
      " [1 1 1]\n",
      " [1 1 1]]\n",
      "[[ 0  0  2]\n",
      " [ 6 12 20]\n",
      " [30 42 56]]\n",
      "[[-0.                 inf  2.        ]\n",
      " [ 1.5         1.33333333  1.25      ]\n",
      " [ 1.2         1.16666667  1.14285714]]\n"
     ]
    },
    {
     "name": "stderr",
     "output_type": "stream",
     "text": [
      "<ipython-input-82-ad5484412bf8>:10: RuntimeWarning: divide by zero encountered in true_divide\n",
      "  print(A / B)\n"
     ]
    }
   ],
   "source": [
    "# shape 이 같은 경우\n",
    "A = np.arange(9).reshape(3,3)\n",
    "B = np.arange(9).reshape(3,3) - 1\n",
    "print(A)\n",
    "print(B)\n",
    "\n",
    "print(A + B)\n",
    "print(A - B)\n",
    "print(A * B)\n",
    "print(A / B)"
   ]
  },
  {
   "cell_type": "markdown",
   "metadata": {},
   "source": [
    "### 브로드 캐스팅 : 차원의 크기가 서로 다른 배열에서 산술연산이 가능"
   ]
  },
  {
   "cell_type": "code",
   "execution_count": 85,
   "metadata": {},
   "outputs": [
    {
     "name": "stdout",
     "output_type": "stream",
     "text": [
      "[[0 1]\n",
      " [2 3]\n",
      " [4 5]]\n",
      "[[1 2]]\n",
      "------------------------------\n",
      "[[1 3]\n",
      " [3 5]\n",
      " [5 7]]\n",
      "[[-1 -1]\n",
      " [ 1  1]\n",
      " [ 3  3]]\n",
      "[[ 0  2]\n",
      " [ 2  6]\n",
      " [ 4 10]]\n",
      "[[0.  0.5]\n",
      " [2.  1.5]\n",
      " [4.  2.5]]\n",
      "------------------------------\n",
      "[[1 3]\n",
      " [3 5]\n",
      " [5 7]]\n",
      "[[ 1  1]\n",
      " [-1 -1]\n",
      " [-3 -3]]\n",
      "[[ 0  2]\n",
      " [ 2  6]\n",
      " [ 4 10]]\n",
      "[[       inf 2.        ]\n",
      " [0.5        0.66666667]\n",
      " [0.25       0.4       ]]\n"
     ]
    },
    {
     "name": "stderr",
     "output_type": "stream",
     "text": [
      "<ipython-input-85-8f877756fe63>:16: RuntimeWarning: divide by zero encountered in true_divide\n",
      "  print(B / A)\n"
     ]
    }
   ],
   "source": [
    "A = np.arange(6).reshape(3,2)\n",
    "B = np.arange(2).reshape(1,2) + 1\n",
    "print(A)     # (3,2)\n",
    "print(B)     # (1,2)\n",
    "\n",
    "print('-'*30)\n",
    "print(A + B)\n",
    "print(A - B)\n",
    "print(A * B)\n",
    "print(A / B)\n",
    "\n",
    "print('-'*30)\n",
    "print(B + A)\n",
    "print(B - A)\n",
    "print(B * A)\n",
    "print(B / A)"
   ]
  },
  {
   "cell_type": "code",
   "execution_count": 87,
   "metadata": {},
   "outputs": [
    {
     "name": "stdout",
     "output_type": "stream",
     "text": [
      "[[1. 1. 1.]\n",
      " [1. 1. 1.]]\n",
      "[0 1 2]\n",
      "[[1. 2. 3.]\n",
      " [1. 2. 3.]]\n"
     ]
    }
   ],
   "source": [
    "# 브로드 캐스팅 규칙 : 차원과 shape 이 자동 조정\n",
    "# 규칙 1 : 두 배열의 차원 수가 다르면 더 작은 수의 차원을 가진 배열의 shape의\n",
    "#          앞쪽(왼쪽)을 1로 채운다\n",
    "# 규칙 2 : 차원이 같은 두 배열의 shape 이 1인 배열을 다른 배열의 shape과 \n",
    "#          일치하도록 늘인다\n",
    "# 규칙 3 : 임의의 차원에서 크기가 일치하지 않고 1도 아니라면 오류가 발생\n",
    "\n",
    "A = np.ones((2,3))  # (2,3)\n",
    "B = np.arange(3)    # (3,)\n",
    "print(A)\n",
    "print(B)\n",
    "\n",
    "# 규칙 1 적용 :  B.shape ==> (1,3)      [[0 1 2]]\n",
    "# 규칙 2 적용 :  B.shape ==> (2,3)      [[0 1 2]\n",
    "#                                        [0 1 2]]\n",
    "print(A + B)"
   ]
  },
  {
   "cell_type": "code",
   "execution_count": 89,
   "metadata": {},
   "outputs": [
    {
     "name": "stdout",
     "output_type": "stream",
     "text": [
      "[[1.]\n",
      " [1.]\n",
      " [1.]]\n",
      "[0 1 2]\n",
      "[[1. 2. 3.]\n",
      " [1. 2. 3.]\n",
      " [1. 2. 3.]]\n"
     ]
    }
   ],
   "source": [
    "A = np.ones((3,1))  # (3,1)\n",
    "B = np.arange(3)    # (3,)\n",
    "print(A)\n",
    "print(B)\n",
    "\n",
    "# 규칙 1 적용 :  B.shape ==> (1,3)      [[0 1 2]]\n",
    "# 규칙 2 적용 :  B.shape ==> (3,3)      [[0 1 2]\n",
    "#                                        [0 1 2]\n",
    "#                                        [0 1 2]]\n",
    "# 규칙 2 적용 :  A.shape ==> (3,3)      [[1. 1. 1.]\n",
    "#                                        [1. 1. 1.]\n",
    "#                                        [1. 1. 1.]]\n",
    "\n",
    "print(A + B)"
   ]
  },
  {
   "cell_type": "code",
   "execution_count": 91,
   "metadata": {},
   "outputs": [
    {
     "name": "stdout",
     "output_type": "stream",
     "text": [
      "[[1. 1.]\n",
      " [1. 1.]\n",
      " [1. 1.]]\n",
      "[0 1 2]\n"
     ]
    }
   ],
   "source": [
    "A = np.ones((3,2))  # (3,2)\n",
    "B = np.arange(3)    # (3,)\n",
    "print(A)\n",
    "print(B)\n",
    "\n",
    "# 규칙 1 적용 :  B.shape ==> (1,3)      [[0 1 2]]\n",
    "# 규칙 2 적용 :  B.shape ==> (3,3)      [[0 1 2]\n",
    "#                                        [0 1 2]\n",
    "#                                        [0 1 2]]\n",
    "# 규칙 3 에 해당하므로 오류 발생\n",
    "# print(A + B)  # ValueError"
   ]
  },
  {
   "cell_type": "code",
   "execution_count": null,
   "metadata": {},
   "outputs": [],
   "source": [
    "# 끝쪽 차원부터 비교하면서 앞쪽으로 진행한다\n",
    "# 두 배열의 각 차원에서 shape 이 같거나 shape이 1인경우 브로드캐스팅 가능\n",
    "A  =  (2, 3)\n",
    "B  =     (3,)\n",
    "---------------\n",
    "결과: (2, 3)  \n",
    "    \n",
    "A  =  (3, 1)\n",
    "B  =     (3,)\n",
    "---------------\n",
    "결과: (3, 3) \n",
    "    \n",
    "A  =  (3, 2)\n",
    "B  =     (3,)\n",
    "---------------\n",
    "결과: (3, x)   ===> 오류\n",
    "    \n",
    "A  =  (15, 3, 5)\n",
    "B  =      (3, 1)\n",
    "-----------------\n",
    "결과: (15, 3, 5 ) \n",
    "    \n",
    "A  =  (8, 1, 6, 1)\n",
    "B  =     (7, 1, 5)\n",
    "--------------------    \n",
    "결과: (8, 7, 6, 5) \n",
    "    \n",
    "A  =  (8, 4, 3)\n",
    "B  =     (2, 1)\n",
    "--------------------\n",
    "결과: (8, x, 3) ==> 오류  "
   ]
  },
  {
   "cell_type": "markdown",
   "metadata": {},
   "source": [
    "### [3] dot product: 내적(inner) 곱 ,행렬(matrix)¶"
   ]
  },
  {
   "cell_type": "code",
   "execution_count": 95,
   "metadata": {},
   "outputs": [
    {
     "name": "stdout",
     "output_type": "stream",
     "text": [
      "(3,) (3,)\n",
      "[ 4 10 18]\n",
      "32\n",
      "32\n"
     ]
    }
   ],
   "source": [
    "# 벡터의 내적\n",
    "a = np.array([1,2,3])\n",
    "b = np.array([4,5,6])\n",
    "print(a.shape,b.shape)\n",
    "\n",
    "print(a * b)         # element-wise 곱셈\n",
    "print(np.dot(a,b))   # 내적 곱\n",
    "print(a[0]*b[0] + a[1]*b[1] + a[2]*b[2])  # 벡터의 내적 : 요소의 곱의 합"
   ]
  },
  {
   "cell_type": "code",
   "execution_count": 101,
   "metadata": {},
   "outputs": [
    {
     "name": "stdout",
     "output_type": "stream",
     "text": [
      "[[1 2 3]\n",
      " [4 5 6]]\n",
      "[[ 7  8]\n",
      " [ 9 10]\n",
      " [11 12]]\n",
      "[[ 58  64]\n",
      " [139 154]] (2, 2)\n"
     ]
    }
   ],
   "source": [
    "# 행렬의 곱셈 : np.dot()\n",
    "A = np.arange(1,7).reshape(2,3)\n",
    "B = np.arange(7,13).reshape(3,2)\n",
    "print(A)    # (2,3)\n",
    "print(B)    # (3,2)\n",
    "# A*B : element-wise 곱셈은 오류 발생, shape이 다르고 1도 아님\n",
    "\n",
    "dot_product = np.dot(A,B)\n",
    "print(dot_product,dot_product.shape) # (2,2)\n",
    "\n",
    "# (2,3) * (3,2) = (2,2)\n",
    "# (m,n) * (n,l) = (m,l)   # 행렬의 내적 곱셈 shape 공식, 필수 암기 요망!!\n",
    "\n",
    "# (10,4) * (x,y) = (10,2) # x = 4, y = 2 를 구할 수 있어야한다"
   ]
  },
  {
   "cell_type": "code",
   "execution_count": 102,
   "metadata": {},
   "outputs": [
    {
     "data": {
      "text/plain": [
       "array([[ 58,  64],\n",
       "       [139, 154]])"
      ]
     },
     "execution_count": 102,
     "metadata": {},
     "output_type": "execute_result"
    }
   ],
   "source": [
    "np.matmul(A,B)  # 동일한 결과, 2차원(행렬)만 사용 가능"
   ]
  },
  {
   "cell_type": "code",
   "execution_count": 105,
   "metadata": {},
   "outputs": [
    {
     "name": "stdout",
     "output_type": "stream",
     "text": [
      "[[1 2 3]\n",
      " [4 5 6]]\n",
      "[[ 7  8]\n",
      " [ 9 10]\n",
      " [11 12]]\n",
      "<class 'numpy.matrix'>\n",
      "[[ 58  64]\n",
      " [139 154]]\n"
     ]
    }
   ],
   "source": [
    "A = np.mat(\"1 2 3;4 5 6\")\n",
    "B = np.mat(\"7 8;9 10;11 12\")\n",
    "print(A)    # (2,3)\n",
    "print(B)    # (3,2)\n",
    "print(type(A))  # <class 'numpy.matrix'>\n",
    "\n",
    "print(A * B) # dot (내적 곱셈) 연산\n",
    "# (2,3) * (3,2) = (2,2)"
   ]
  },
  {
   "cell_type": "code",
   "execution_count": 109,
   "metadata": {},
   "outputs": [
    {
     "name": "stdout",
     "output_type": "stream",
     "text": [
      "[0. 0. 0. 0. 0. 0. 0. 0. 0. 0.]\n",
      "[[0. 0. 0. 0.]\n",
      " [0. 0. 0. 0.]\n",
      " [0. 0. 0. 0.]]\n",
      "[1. 1. 1. 1. 1. 1. 1. 1. 1. 1.]\n",
      "[[0. 0. 0. 0.]\n",
      " [0. 0. 0. 0.]\n",
      " [0. 0. 0. 0.]]\n"
     ]
    }
   ],
   "source": [
    "# 기타 연산자: np.zeros(), np.ones()\n",
    "z = np.zeros(10)\n",
    "print(z)\n",
    "\n",
    "z = np.zeros((3,4))\n",
    "print(z)\n",
    "\n",
    "o = np.ones(10)\n",
    "print(o)\n",
    "\n",
    "o = np.zeros((3,4))\n",
    "print(o)"
   ]
  },
  {
   "cell_type": "code",
   "execution_count": 115,
   "metadata": {},
   "outputs": [
    {
     "name": "stdout",
     "output_type": "stream",
     "text": [
      "[[0.1 0.2 0.3 0.4 0.5]\n",
      " [0.6 0.7 0.8 0.9 1. ]\n",
      " [1.1 1.2 1.3 1.4 1.5]]\n"
     ]
    }
   ],
   "source": [
    "# np.empty() 함수\n",
    "e = np.empty((3,5))  # 초기 값을 초기화 하지 않고 바로 배열을 생성, 대용량을 고속으로 할당\n",
    "print(e)             # 초기 값이 garbage(쓰레기)값이 그대로 유진된 상태에서 배열이 생성"
   ]
  },
  {
   "cell_type": "code",
   "execution_count": null,
   "metadata": {},
   "outputs": [],
   "source": []
  }
 ],
 "metadata": {
  "kernelspec": {
   "display_name": "Python 3",
   "language": "python",
   "name": "python3"
  },
  "language_info": {
   "codemirror_mode": {
    "name": "ipython",
    "version": 3
   },
   "file_extension": ".py",
   "mimetype": "text/x-python",
   "name": "python",
   "nbconvert_exporter": "python",
   "pygments_lexer": "ipython3",
   "version": "3.8.3"
  }
 },
 "nbformat": 4,
 "nbformat_minor": 4
}
