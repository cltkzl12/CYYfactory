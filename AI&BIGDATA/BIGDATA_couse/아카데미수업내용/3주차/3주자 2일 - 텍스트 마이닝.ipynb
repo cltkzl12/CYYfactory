{
 "cells": [
  {
   "cell_type": "code",
   "execution_count": 1,
   "metadata": {},
   "outputs": [
    {
     "name": "stdout",
     "output_type": "stream",
     "text": [
      "메로나     1000\n",
      "구구콘     2000\n",
      "하겐다즈    3000\n",
      "dtype: int64\n"
     ]
    }
   ],
   "source": [
    "from pandas import Series\n",
    "\n",
    "data = [1000, 2000, 3000]\n",
    "index = ['메로나', '구구콘', '하겐다즈']\n",
    "s = Series(data=data, index=index)\n",
    "print(s)from nltk import FreqDist\n",
    "from nltk.corpus import stopwords\n",
    "from nltk.tokenize import RegexpTokenizer\n",
    "import requests\n",
    "from bs4 import BeautifulSoup\n",
    "url = \"https://www.whitehouse.gov/briefings-statements/the-inaugural-address/\"\n",
    "resp = requests.get(url)\n",
    "html = resp.text\n",
    "soup = BeautifulSoup(html, 'html5lib')\n",
    "tags = soup.select(\"#main-content > div.page-content > div > div > p\")\n",
    "text = \"\"\n",
    "for tag in tags:\n",
    "text += tag.text + \" \"\n",
    "lower_text = text.lower()\n",
    "print(lower_text)\n",
    "tokenizer = RegexpTokenizer(r\"\\w+\")\n",
    "result = [x for x in tokenizer.tokenize(lower_text) if x not in stopwords.words('english')]\n",
    "fd_names = FreqDist(result)\n",
    "print(fd_names.most_common(5))"
   ]
  },
  {
   "cell_type": "code",
   "execution_count": 2,
   "metadata": {},
   "outputs": [
    {
     "name": "stdout",
     "output_type": "stream",
     "text": [
      "1000\n",
      "1000\n",
      "1000\n"
     ]
    }
   ],
   "source": [
    "from pandas import Series\n",
    "\n",
    "data = [1000, 2000, 3000]\n",
    "index = ['메로나', '구구콘', '하겐다즈']\n",
    "s = Series(data=data, index=index)\n",
    "\n",
    "print(s.iloc[0])\n",
    "print(s.loc['메로나'])\n",
    "print(s['메로나'])"
   ]
  },
  {
   "cell_type": "code",
   "execution_count": null,
   "metadata": {},
   "outputs": [],
   "source": []
  },
  {
   "cell_type": "code",
   "execution_count": 6,
   "metadata": {},
   "outputs": [
    {
     "name": "stdout",
     "output_type": "stream",
     "text": [
      "메로나     1000\n",
      "구구콘     2000\n",
      "하겐다즈    3000\n",
      "dtype: int64\n",
      "메로나    1000\n",
      "구구콘    2000\n",
      "dtype: int64\n"
     ]
    }
   ],
   "source": [
    "from pandas import Series\n",
    "\n",
    "data = [1000, 2000, 3000]\n",
    "index = ['메로나', '구구콘', '하겐다즈']\n",
    "s = Series(data=data, index=index)\n",
    "\n",
    "bool_values = [True, True, False]\n",
    "print(s)\n",
    "print(s[bool_values])\n"
   ]
  },
  {
   "cell_type": "code",
   "execution_count": 19,
   "metadata": {},
   "outputs": [
    {
     "name": "stdout",
     "output_type": "stream",
     "text": [
      "Series([], dtype: object)\n"
     ]
    }
   ],
   "source": [
    "s= Series(data = ['hi','bye','hello'],\n",
    "         index =[ 'a','b','c'])\n",
    "\n",
    "print(s.loc['hi':'hello'])"
   ]
  },
  {
   "cell_type": "code",
   "execution_count": 25,
   "metadata": {},
   "outputs": [
    {
     "name": "stdout",
     "output_type": "stream",
     "text": [
      "a    False\n",
      "b     True\n",
      "c     True\n",
      "dtype: bool\n"
     ]
    },
    {
     "data": {
      "text/plain": [
       "b    200\n",
       "c    300\n",
       "dtype: int64"
      ]
     },
     "execution_count": 25,
     "metadata": {},
     "output_type": "execute_result"
    }
   ],
   "source": [
    "s= Series(data = [100,200,300],\n",
    "         index =[ 'a','b','c'])\n",
    "\n",
    "cond = s>100\n",
    "print(cond)\n",
    "s[cond]"
   ]
  },
  {
   "cell_type": "code",
   "execution_count": 27,
   "metadata": {},
   "outputs": [
    {
     "name": "stdout",
     "output_type": "stream",
     "text": [
      "      제조사    가격  출시년도\n",
      "구구콘  롯데제과  2000  1985\n",
      "메로나   빙그레  1000  1992\n",
      "비비빅   빙그레  1000  1975\n"
     ]
    }
   ],
   "source": [
    "import pandas as pd\n",
    "\n",
    "data = {\n",
    "    \"제조사\": [\"롯데제과\", \"빙그레\", \"빙그레\"],\n",
    "    \"가격\": [2000, 1000, 1000],\n",
    "    \"출시년도\": [1985, 1992, 1975]\n",
    "}\n",
    "index = [\"구구콘\", \"메로나\", \"비비빅\"]\n",
    "df = pd.DataFrame(data=data, index=index)\n",
    "print(df)"
   ]
  },
  {
   "cell_type": "code",
   "execution_count": 38,
   "metadata": {},
   "outputs": [
    {
     "data": {
      "text/plain": [
       "a    100\n",
       "b    400\n",
       "c    700\n",
       "Name: d, dtype: int64"
      ]
     },
     "execution_count": 38,
     "metadata": {},
     "output_type": "execute_result"
    }
   ],
   "source": [
    "data = [[100,200,300],[400,500,600],[700,800,900]]\n",
    "df = pd.DataFrame(data, index = ['a','b','c'], columns= ['d','e','f'] )\n",
    "#row 뽑기\n",
    "df.iloc[0]\n",
    "df['a':'a']\n",
    "df.loc['a']\n",
    "#col 뽑기\n",
    "df['d']"
   ]
  },
  {
   "cell_type": "code",
   "execution_count": 43,
   "metadata": {},
   "outputs": [
    {
     "name": "stdout",
     "output_type": "stream",
     "text": [
      "500\n",
      "900\n"
     ]
    },
    {
     "data": {
      "text/html": [
       "<div>\n",
       "<style scoped>\n",
       "    .dataframe tbody tr th:only-of-type {\n",
       "        vertical-align: middle;\n",
       "    }\n",
       "\n",
       "    .dataframe tbody tr th {\n",
       "        vertical-align: top;\n",
       "    }\n",
       "\n",
       "    .dataframe thead th {\n",
       "        text-align: right;\n",
       "    }\n",
       "</style>\n",
       "<table border=\"1\" class=\"dataframe\">\n",
       "  <thead>\n",
       "    <tr style=\"text-align: right;\">\n",
       "      <th></th>\n",
       "      <th>d</th>\n",
       "      <th>e</th>\n",
       "    </tr>\n",
       "  </thead>\n",
       "  <tbody>\n",
       "    <tr>\n",
       "      <td>a</td>\n",
       "      <td>100</td>\n",
       "      <td>200</td>\n",
       "    </tr>\n",
       "    <tr>\n",
       "      <td>b</td>\n",
       "      <td>400</td>\n",
       "      <td>500</td>\n",
       "    </tr>\n",
       "  </tbody>\n",
       "</table>\n",
       "</div>"
      ],
      "text/plain": [
       "     d    e\n",
       "a  100  200\n",
       "b  400  500"
      ]
     },
     "execution_count": 43,
     "metadata": {},
     "output_type": "execute_result"
    }
   ],
   "source": [
    "df['e'].loc['b']\n",
    "#advance indexing\n",
    "print(df.iloc[1,1])\n",
    "print(df.iloc[2,2])\n",
    "df.iloc[[0,1]][['d','e']]"
   ]
  },
  {
   "cell_type": "code",
   "execution_count": 47,
   "metadata": {},
   "outputs": [
    {
     "name": "stdout",
     "output_type": "stream",
     "text": [
      "     d    e    f    g\n",
      "a  100  200  300  300\n",
      "b  400  500  600  600\n",
      "c  700  800  900  900\n"
     ]
    }
   ],
   "source": [
    "df['g'] = df['f']\n",
    "print(df)\n",
    "df = df[['d','e','f']]"
   ]
  },
  {
   "cell_type": "code",
   "execution_count": 49,
   "metadata": {},
   "outputs": [
    {
     "data": {
      "text/plain": [
       "a    False\n",
       "b     True\n",
       "c     True\n",
       "Name: d, dtype: bool"
      ]
     },
     "execution_count": 49,
     "metadata": {},
     "output_type": "execute_result"
    }
   ],
   "source": [
    "cond = df['d']>200\n",
    "cond"
   ]
  },
  {
   "cell_type": "code",
   "execution_count": 50,
   "metadata": {},
   "outputs": [
    {
     "data": {
      "text/plain": [
       "b    500\n",
       "c    800\n",
       "Name: e, dtype: int64"
      ]
     },
     "execution_count": 50,
     "metadata": {},
     "output_type": "execute_result"
    }
   ],
   "source": [
    "df.loc[df['d']>200,'e']"
   ]
  },
  {
   "cell_type": "code",
   "execution_count": 59,
   "metadata": {},
   "outputs": [
    {
     "name": "stdout",
     "output_type": "stream",
     "text": [
      "116\n",
      "246\n"
     ]
    }
   ],
   "source": [
    "from pykrx import stock\n",
    "df = stock.get_market_ohlcv_by_date(\n",
    "\"20190101\",\"20191230\",\"005490\")\n",
    "df.head()\n",
    "cond = df['시가'] < df['종가']\n",
    "print(len(df[cond]))\n",
    "print(len(df))"
   ]
  },
  {
   "cell_type": "code",
   "execution_count": 58,
   "metadata": {},
   "outputs": [
    {
     "data": {
      "text/plain": [
       "날짜\n",
       "2019-01-02         NaN\n",
       "2019-01-03         NaN\n",
       "2019-01-04         NaN\n",
       "2019-01-07         NaN\n",
       "2019-01-08    242100.0\n",
       "                ...   \n",
       "2019-12-23    245500.0\n",
       "2019-12-24    246100.0\n",
       "2019-12-26    244900.0\n",
       "2019-12-27    243900.0\n",
       "2019-12-30    242100.0\n",
       "Name: 시가, Length: 246, dtype: float64"
      ]
     },
     "execution_count": 58,
     "metadata": {},
     "output_type": "execute_result"
    }
   ],
   "source": [
    "#5일 이동평균 선\n",
    "df['시가'].rolling(5).mean()"
   ]
  },
  {
   "cell_type": "code",
   "execution_count": 61,
   "metadata": {},
   "outputs": [
    {
     "data": {
      "text/plain": [
       "-7000"
      ]
     },
     "execution_count": 61,
     "metadata": {},
     "output_type": "execute_result"
    }
   ],
   "source": [
    "df['수익'] =df['종가'] - df['시가']\n",
    "df['수익'].sum()\n",
    "df['종가'].plot()\n",
    "df['종가'].min()\n",
    "df['종가'].max()"
   ]
  },
  {
   "cell_type": "code",
   "execution_count": null,
   "metadata": {},
   "outputs": [],
   "source": []
  },
  {
   "cell_type": "code",
   "execution_count": null,
   "metadata": {},
   "outputs": [],
   "source": []
  },
  {
   "cell_type": "code",
   "execution_count": null,
   "metadata": {},
   "outputs": [],
   "source": []
  },
  {
   "cell_type": "code",
   "execution_count": 77,
   "metadata": {},
   "outputs": [
    {
     "name": "stdout",
     "output_type": "stream",
     "text": [
      "800905-*******\n",
      "700905-*******\n"
     ]
    }
   ],
   "source": [
    "text = '''\n",
    "park 800905-1049118\n",
    "kim 700905-1059119\n",
    "'''\n",
    "\n",
    "result = []\n",
    "for line in text.split(\"\\n\"):\n",
    "    for token in line.split(\" \"):\n",
    "        if len(token) == 14 and token[:6].isdigit() and token[7:].isdigit():\n",
    "            token = token[:6] + \"-\" + \"*******\"\n",
    "            result.append(token)\n",
    "\n",
    "output = \"\\n\".join(result)\n",
    "print(output)\n"
   ]
  },
  {
   "cell_type": "code",
   "execution_count": 80,
   "metadata": {},
   "outputs": [
    {
     "name": "stdout",
     "output_type": "stream",
     "text": [
      "['800905-1049118', '700905-1059119']\n"
     ]
    }
   ],
   "source": [
    "import re \n",
    "\n",
    "\n",
    "p = re.compile('\\d+\\-\\d+')\n",
    "print(p.findall(text))\n",
    "# text = '' \n"
   ]
  },
  {
   "cell_type": "code",
   "execution_count": 84,
   "metadata": {},
   "outputs": [
    {
     "data": {
      "text/plain": [
       "'가능'"
      ]
     },
     "execution_count": 84,
     "metadata": {},
     "output_type": "execute_result"
    }
   ],
   "source": [
    "text = \"불가능을 가능으로!\"\n",
    "p= re.compile('가능')\n",
    "re.findall(p,text)\n",
    "p.findall(text)\n",
    "p.search(text).group()"
   ]
  },
  {
   "cell_type": "code",
   "execution_count": 86,
   "metadata": {},
   "outputs": [
    {
     "data": {
      "text/plain": [
       "'010@@3316@@7816'"
      ]
     },
     "execution_count": 86,
     "metadata": {},
     "output_type": "execute_result"
    }
   ],
   "source": [
    "text = '010-3316-7816'\n",
    "p = re.compile('-')\n",
    "p.sub('@@',text)"
   ]
  },
  {
   "cell_type": "code",
   "execution_count": 89,
   "metadata": {},
   "outputs": [
    {
     "name": "stdout",
     "output_type": "stream",
     "text": [
      "['기린', '기린', '기린', '기린']\n"
     ]
    }
   ],
   "source": [
    "import re\n",
    "text = '''내가 그린 기린 그림은 잘 그린 기린 그림이고\n",
    "네가 그린 기린 그림은 잘 못 그린 기린 그림이다.'''\n",
    "p = re.compile(r\"기린\")\n",
    "m = re.findall(p, text)\n",
    "print(m)"
   ]
  },
  {
   "cell_type": "code",
   "execution_count": 91,
   "metadata": {},
   "outputs": [
    {
     "data": {
      "text/plain": [
       "['abc', 'ABC']"
      ]
     },
     "execution_count": 91,
     "metadata": {},
     "output_type": "execute_result"
    }
   ],
   "source": [
    "text = \"\"\"abc 01033167816 ABC\"\"\"\n",
    "p = re.compile(r\"[A-z]+\")\n",
    "result = p.findall(text)\n",
    "result"
   ]
  },
  {
   "cell_type": "code",
   "execution_count": 97,
   "metadata": {},
   "outputs": [
    {
     "data": {
      "text/plain": [
       "['abc ', ' ABC']"
      ]
     },
     "execution_count": 97,
     "metadata": {},
     "output_type": "execute_result"
    }
   ],
   "source": [
    "text = \"\"\"abc 010-3316-7816 ABC\"\"\"\n",
    "# p = re.compile(r\"[0-9-]+\")\n",
    "p = re.compile(r\"[^0-9-]+\") # 대괄호 안에 ^ 를 붙이면 아닌!,  아니면 시작하는 의미를 가진다\n",
    "result = p.findall(text)\n",
    "result"
   ]
  },
  {
   "cell_type": "code",
   "execution_count": 129,
   "metadata": {},
   "outputs": [
    {
     "name": "stdout",
     "output_type": "stream",
     "text": [
      "re.compile('[ab]\\\\d.xis')\n"
     ]
    }
   ],
   "source": [
    "text = \"\"\"\n",
    "a1.xis\n",
    "b1.xis\n",
    "c1.xis\"\"\"\n",
    "# p = re.compile(r\"[0-9-]+\")\n",
    "# p = re.compile(r\"[ab][0-9].xis\")\n",
    "p = re.compile(r\"[ab]\\d.xis\")\n",
    "# result = p.findall(text)\n",
    "\n",
    "# result\n",
    "print(p)"
   ]
  },
  {
   "cell_type": "code",
   "execution_count": 105,
   "metadata": {},
   "outputs": [],
   "source": [
    "\n",
    "import nltk"
   ]
  },
  {
   "cell_type": "code",
   "execution_count": 106,
   "metadata": {},
   "outputs": [],
   "source": [
    "import konlpy"
   ]
  },
  {
   "cell_type": "code",
   "execution_count": 108,
   "metadata": {},
   "outputs": [
    {
     "data": {
      "text/plain": [
       "'apple'"
      ]
     },
     "execution_count": 108,
     "metadata": {},
     "output_type": "execute_result"
    }
   ],
   "source": [
    "s = 'Apple'\n",
    "s.upper()\n",
    "s.lower()"
   ]
  },
  {
   "cell_type": "code",
   "execution_count": 128,
   "metadata": {},
   "outputs": [
    {
     "name": "stdout",
     "output_type": "stream",
     "text": [
      "MUMBAI, India — Oyo, once one of India’s fastest-growing tech start-ups, is now rapidly scaling back.\n",
      "In recent weeks, Oyo, a budget hospitality company, has pulled out of dozens of cities, cut thousands of hotel rooms, started laying off employees and slashed other costs as it faced pressure from its biggest investor, the Japanese conglomerate SoftBank, to curb vast operating losses. \n",
      "The retreat has been swift and sweeping. In India alone, Oyo has lost more than 65,000 rooms — or about a quarter of what it had offered to travelers — since October, according to internal data from current and former employees that was reviewed by The New York Times. This month, Oyo also stopped selling rooms in more than 200 small Indian cities, according to company documents and one current employee and one former employee. \n",
      "The moves come on top of more than 2,000 layoffs around the world, which Oyo began rolling out last week, according to six current and former employees. Before the cutbacks, Oyo had about 20,000 employees in 80 countries. \n",
      "Oyo said some of the data obtained by The Times was inaccurate but declined to be specific. In an email to employees on Monday, Ritesh Agarwal, the company’s chief executive, said Oyo was focused on sustainable growth and profitability — which meant layoffs.\n",
      "“Unfortunately, some roles at Oyo will become redundant as we further drive tech-enabled synergy, enhanced efficiency, and remove duplication of effort across businesses or geographies,” he wrote in the email.\n",
      "The Economic Times, an Indian publication, first reported in December that job cuts at Oyo were coming.\n",
      "Oyo’s actions are part of a broader pullback by start-ups funded by SoftBank. Armed with a $100 billion fund known as the Vision Fund, SoftBank has shoveled money into start-ups across the globe in recent years. That has given many young companies fuel to expand, often with little thought for profit. \n",
      "Last year, some SoftBank-funded start-ups began running into trouble — most notably WeWork, the office space company, which failed to go public when investors began questioning its losses. WeWork ultimately ousted its chief executive and slashed its valuation to less than $8 billion from $47 billion. \n",
      "WeWork’s fall led to questions about other start-ups that SoftBank had financed and whether those young firms could make money. Last month, the dog-walking service Wag underwent several rounds of layoffs before SoftBank sold its shares at a loss. The construction start-up Katerra, another SoftBank-funded company, also cut its staff. \n",
      "This month, layoffs have gathered momentum at start-ups that SoftBank had invested in. The South American delivery service Rappi and the San Francisco car-sharing start-up Getaround said they were laying off employees. Zume, a company that used robots to make pizzas and had been valued at $2 billion, cut more than half of its work force. It also stopped making pizzas.\n",
      "Some investors and start-ups said they were now approaching SoftBank’s Vision Fund cautiously — or, in some cases, avoiding it altogether.\n",
      "“We have advised almost all of our companies to steer clear,” said Josh Wolfe, an investor at the venture capital firm Lux Capital who has been critical of SoftBank’s strategy. “Everyone else was fearful to say the emperor had no clothes.”\n",
      "SoftBank declined to comment on Oyo and other start-ups in which it has invested. \n",
      "Mr. Agarwal founded Oyo in 2013 to organize India’s small independent hotels into a chain. The company markets rooms online and takes a cut of each stay. Mr. Agarwal, who has become a business star in India, has said he aspired to make Oyo the world’s largest hotel chain by 2023, displacing Marriott. \n",
      "But as Oyo tried to expand globally, in part pushed by SoftBank, it spent heavily on incentives to attract hotel owners and customers to its site. That resulted in losses in India, where Oyo has said it will lose money through at least 2021. \n",
      "Masayoshi Son, SoftBank’s chief executive, began investing in Oyo in 2015. SoftBank and its Vision Fund now own half its stock. While Mr. Son has called Oyo a jewel of his fund and urged it to grow quickly, he has since changed his stance. \n",
      "As Oyo’s losses have mounted, senior leaders at the company have told employees that SoftBank had demanded that it become profitable on a basis known as EBITDA — earnings before interest, taxes, depreciation and amortization — by mid-2020, according to current and former employees. \n",
      "In another sign of SoftBank’s shifting position, Yahoo Japan, which is half-owned by SoftBank, pulled the plug in November on a Japanese apartment-rental venture with Oyo. Most of the Oyo employees involved in the Japan venture have been laid off or relocated, current and former employees said.\n",
      "Oyo faces other troubles in India. On Friday, the Indian income-tax authorities visited the company’s headquarters just outside New Delhi, requesting reams of documents. The tax department and Oyo said the government was examining whether the company was properly withholding and remitting income taxes on payments to vendors. \n",
      "The Times reported this month that Oyo had offered thousands of unlicensed hotel rooms and sometimes offered free rooms to government officials to deter enforcement. The Times also described how some Oyo employees worked together to commit fraud against the company.\n",
      "In his email on Monday, Mr. Agarwal said the behavior described by The Times would violate the company’s code of conduct. “We take all the allegations very seriously and are looking into each and every one,” he wrote.\n",
      "To stem losses, Oyo has also cut back on staff and supplies such as mineral water and cleaning fluids in the hotels it runs itself, according to the current and former employees. Oyo staff members managing some of the hotels have been instructed to save more money on electricity bills by switching off lights, elevators and even boilers for hot water, they said.\n",
      "Morale has plummeted among thousands of Oyo workers globally, current and former employees have said. \n",
      "Prabhjeet Singh, an Oyo business development manager who left the company in September, said employees who criticized the company ran a greater risk of losing their jobs. \n",
      "“It’s a culture of silence,” he said.\n",
      "Oyo’s reputation has deteriorated so much in India that other employers are reluctant to hire its former workers, said Mr. Singh, who has been unable to land another job.\n",
      "“They look at me as if I’ve done a crime working at Oyo,” he said.\n",
      "Vindu Goel reported from Mumbai, Karan Deep Singh from New Delhi and Erin Griffith from San Francisco.\n"
     ]
    }
   ],
   "source": [
    "import requests as rq\n",
    "from bs4 import BeautifulSoup as bt\n",
    "\n",
    "url = 'https://www.nytimes.com/2020/01/13/technology/oyo-hotel-india-softbank.html'\n",
    "html = rq.get(url)\n",
    "html = html.text\n",
    "soup = bt(html, 'html5lib')\n",
    "result = soup.select('#story > section > div > div > p ')\n",
    "for i in result:\n",
    "    print(i.text)"
   ]
  },
  {
   "cell_type": "code",
   "execution_count": 136,
   "metadata": {},
   "outputs": [
    {
     "name": "stdout",
     "output_type": "stream",
     "text": [
      "179\n",
      "['i', 'me', 'my', 'myself', 'we', 'our', 'ours', 'ourselves', 'you', \"you're\"]\n"
     ]
    },
    {
     "name": "stderr",
     "output_type": "stream",
     "text": [
      "[nltk_data] Downloading package stopwords to /home/pirl/nltk_data...\n",
      "[nltk_data]   Package stopwords is already up-to-date!\n"
     ]
    }
   ],
   "source": [
    "from nltk.corpus import stopwords\n",
    "nltk.download(\"stopwords\")\n",
    "\n",
    "eng_stopwords = stopwords.words('english')\n",
    "print(len(eng_stopwords))\n",
    "print(eng_stopwords[:10])"
   ]
  },
  {
   "cell_type": "code",
   "execution_count": 137,
   "metadata": {},
   "outputs": [
    {
     "name": "stdout",
     "output_type": "stream",
     "text": [
      "['설', '연휴', '민족', '대이동', '시작', '교통량', '교통사고', '특히', '자동차', '고장', '상당수', '차지']\n"
     ]
    }
   ],
   "source": [
    "words = [\"설\", \"연휴\", \"민족\", \"대이동\", \"시작\", \"늘어\", \"교통량\",\n",
    "\"교통사고\", \"특히\", \"자동차\", \"고장\", \"상당수\", \"차지\",\n",
    "\"나타\", \"것\", \"기자\"]\n",
    "stopwords = [\"가다\", \"늘어\", \"나타\", \"것\", \"기자\"]\n",
    "words2 = [w for w in words if w not in stopwords]\n",
    "print(words2)"
   ]
  },
  {
   "cell_type": "code",
   "execution_count": 143,
   "metadata": {},
   "outputs": [
    {
     "name": "stdout",
     "output_type": "stream",
     "text": [
      "['Boeing', '’', 's', 'troubles', 'run', 'deep', '.', 'The', '737', 'Max', ',', 'its', 'newest', 'and', 'most', 'important', 'jet', ',', 'has', 'been', 'grounded', 'since', 'March', 'after', 'two', 'deadly', 'crashes', 'killed', '346', 'people', '.']\n"
     ]
    }
   ],
   "source": [
    "from nltk.tokenize import word_tokenize\n",
    "text = \"Boeing’s troubles run deep. The 737 Max, its newest and most important jet, has been grounded since March after two deadly crashes killed 346 people.\"\n",
    "print(word_tokenize(text))"
   ]
  },
  {
   "cell_type": "code",
   "execution_count": 147,
   "metadata": {},
   "outputs": [
    {
     "name": "stderr",
     "output_type": "stream",
     "text": [
      "[nltk_data] Downloading package punkt to /home/pirl/nltk_data...\n",
      "[nltk_data]   Package punkt is already up-to-date!\n"
     ]
    },
    {
     "data": {
      "text/plain": [
       "True"
      ]
     },
     "execution_count": 147,
     "metadata": {},
     "output_type": "execute_result"
    }
   ],
   "source": [
    "nltk.download('punkt')"
   ]
  },
  {
   "cell_type": "code",
   "execution_count": 151,
   "metadata": {},
   "outputs": [
    {
     "name": "stdout",
     "output_type": "stream",
     "text": [
      "['Boeing’s troubles run deep.', 'The 737 Max, its newest and most important jet, has been grounded since March after two deadly crashes killed 346 people.']\n"
     ]
    }
   ],
   "source": [
    "#문장구분\n",
    "from nltk.tokenize import sent_tokenize\n",
    "text = \"Boeing’s troubles run deep. The 737 Max, its newest and most important jet, has been grounded since March after two deadly crashes killed 346 people.\"\n",
    "print(sent_tokenize(text))"
   ]
  },
  {
   "cell_type": "code",
   "execution_count": 154,
   "metadata": {},
   "outputs": [
    {
     "name": "stdout",
     "output_type": "stream",
     "text": [
      "['@Jason', ',', \"Let's\", 'finish', '#projectA', 'quickly', '.']\n"
     ]
    }
   ],
   "source": [
    "#트위터식으로 토크나이즈 하기\n",
    "from nltk.tokenize import TweetTokenizer\n",
    "text = \"@Jason, Let's finish #projectA quickly.\"\n",
    "tknzr = TweetTokenizer()\n",
    "print(tknzr.tokenize(text))"
   ]
  },
  {
   "cell_type": "code",
   "execution_count": 155,
   "metadata": {},
   "outputs": [
    {
     "name": "stdout",
     "output_type": "stream",
     "text": [
      "['ESPRESSO', 'ESPRESSO', 'CON', 'PANNA', 'ESPRESSO', 'MACCHIATO']\n"
     ]
    }
   ],
   "source": [
    "#대문자 뽑기\n",
    "from nltk.tokenize import RegexpTokenizer\n",
    "text = \"\"\"\n",
    "ESPRESSO\n",
    "caffeinated dreams espresso blend\n",
    "ESPRESSO CON PANNA\n",
    "double espresso + whipped cream\n",
    "ESPRESSO MACCHIATO\n",
    "double espresso + milk foam -traditional\n",
    "\"\"\"\n",
    "tokenizer = RegexpTokenizer(r'[A-Z]+')\n",
    "print(tokenizer.tokenize(text))"
   ]
  },
  {
   "cell_type": "code",
   "execution_count": 156,
   "metadata": {},
   "outputs": [
    {
     "name": "stdout",
     "output_type": "stream",
     "text": [
      "[('espresso', 6), ('double', 2), ('+', 2), ('caffeinated', 1), ('dreams', 1)]\n"
     ]
    }
   ],
   "source": [
    "#단어수 세리기\n",
    "from nltk import FreqDist\n",
    "text = \"\"\"\n",
    "ESPRESSO\n",
    "caffeinated dreams espresso blend\n",
    "ESPRESSO CON PANNA\n",
    "double espresso + whipped cream\n",
    "ESPRESSO MACCHIATO\n",
    "double espresso + milk foam -traditional\n",
    "\"\"\"\n",
    "fd = FreqDist(text.lower().split())\n",
    "print(fd.most_common(5))"
   ]
  },
  {
   "cell_type": "code",
   "execution_count": 158,
   "metadata": {},
   "outputs": [
    {
     "data": {
      "image/png": "[encoded data removed]",
      "text/plain": [
       "<Figure size 432x288 with 1 Axes>"
      ]
     },
     "metadata": {
      "needs_background": "light"
     },
     "output_type": "display_data"
    },
    {
     "data": {
      "text/plain": [
       "<matplotlib.axes._subplots.AxesSubplot at 0x7f85c9d75050>"
      ]
     },
     "execution_count": 158,
     "metadata": {},
     "output_type": "execute_result"
    }
   ],
   "source": [
    "fd = FreqDist(text.lower().split())\n",
    "fd.plot(title=\"Word Frequency\", cumulative=False)"
   ]
  },
  {
   "cell_type": "code",
   "execution_count": 162,
   "metadata": {},
   "outputs": [
    {
     "name": "stdout",
     "output_type": "stream",
     "text": [
      "caffeinated  : 0.0476\n",
      "cream        : 0.0476\n",
      "ESPRESSO     : 0.1429\n",
      "milk         : 0.0476\n",
      "CON          : 0.0476\n",
      "dreams       : 0.0476\n",
      "double       : 0.0952\n",
      "+            : 0.0952\n",
      "MACCHIATO    : 0.0476\n",
      "foam         : 0.0476\n",
      "-traditional : 0.0476\n",
      "whipped      : 0.0476\n",
      "espresso     : 0.1429\n",
      "PANNA        : 0.0476\n",
      "blend        : 0.0476\n"
     ]
    }
   ],
   "source": [
    "#빈도수 확률로 계산\n",
    "from nltk import FreqDist\n",
    "fd = FreqDist(text.split())\n",
    "words = set(text.split())\n",
    "for w in words:\n",
    "    print(f\"{w:12s} : {fd.freq(w):.4f}\")"
   ]
  },
  {
   "cell_type": "code",
   "execution_count": 167,
   "metadata": {},
   "outputs": [
    {
     "name": "stdout",
     "output_type": "stream",
     "text": [
      "[('america', 18), ('american', 12), ('people', 9), ('country', 9), ('nation', 9)]\n"
     ]
    }
   ],
   "source": [
    "from nltk import FreqDist\n",
    "from nltk.corpus import stopwords\n",
    "from nltk.tokenize import RegexpTokenizer\n",
    "import requests\n",
    "from bs4 import BeautifulSoup\n",
    "url = \"https://www.whitehouse.gov/briefings-statements/the-inaugural-address/\"\n",
    "resp = requests.get(url)\n",
    "html = resp.text\n",
    "soup = BeautifulSoup(html, 'html5lib')\n",
    "tags = soup.select(\"#main-content > div.page-content > div > div > p\")\n",
    "text = \"\"\n",
    "for tag in tags:\n",
    "    text += tag.text + \" \"\n",
    "lower_text = text.lower()\n",
    "# print(lower_text)\n",
    "tokenizer = RegexpTokenizer(r\"\\w+\")\n",
    "result = [x for x in tokenizer.tokenize(lower_text) if x not in stopwords.words('english')]\n",
    "fd_names = FreqDist(result)\n",
    "print(fd_names.most_common(5))"
   ]
  },
  {
   "cell_type": "code",
   "execution_count": 171,
   "metadata": {},
   "outputs": [
    {
     "name": "stdout",
     "output_type": "stream",
     "text": [
      "[('열심히', 'Adverb'), ('코딩', 'Noun'), ('한', 'Josa'), ('당신', 'Noun'), (',', 'Punctuation'), ('연휴', 'Noun'), ('에는', 'Josa'), ('여행', 'Noun'), ('을', 'Josa'), ('가봐요', 'Verb')]\n"
     ]
    }
   ],
   "source": [
    "# day02/03_text_preprocessing/11.py\n",
    "from konlpy.tag import Okt\n",
    "okt=Okt()\n",
    "# print(okt.morphs(\"열심히 코딩한 당신, 연휴에는 여행을 가봐요\"))\n",
    "print(okt.pos(\"열심히 코딩한 당신, 연휴에는 여행을 가봐요\"))\n",
    "# print(okt.nouns(\"열심히 코딩한 당신, 연휴에는 여행을 가봐요\"))\n",
    "# 메소드 의미\n",
    "# morphs 형태소 추출\n",
    "# Pos 품사 태깅(Part-of-speech tagging\n",
    "# nouns 명사 추출\n",
    "# 69\n",
    "# 형태소\n",
    "# 형태소 + 품사 태킹\n",
    "# 명사 추출"
   ]
  },
  {
   "cell_type": "code",
   "execution_count": 170,
   "metadata": {},
   "outputs": [
    {
     "name": "stdout",
     "output_type": "stream",
     "text": [
      "['열심히', '코딩', '하', 'ㄴ', '당신', ',', '연휴', '에', '는', '여행', '을', '가보', '아요']\n",
      "[('열심히', 'MAG'), ('코딩', 'NNG'), ('하', 'XSV'), ('ㄴ', 'ETD'), ('당신', 'NP'), (',', 'SP'), ('연휴', 'NNG'), ('에', 'JKM'), ('는', 'JX'), ('여행', 'NNG'), ('을', 'JKO'), ('가보', 'VV'), ('아요', 'EFN')]\n",
      "['코딩', '당신', '연휴', '여행']\n"
     ]
    }
   ],
   "source": [
    "from konlpy.tag import Kkma\n",
    "kkma=Kkma()\n",
    "print(kkma.morphs(\"열심히 코딩한 당신, 연휴에는 여행을 가봐요\"))\n",
    "print(kkma.pos(\"열심히 코딩한 당신, 연휴에는 여행을 가봐요\"))\n",
    "print(kkma.nouns(\"열심히 코딩한 당신, 연휴에는 여행을 가봐요\"))"
   ]
  },
  {
   "cell_type": "code",
   "execution_count": 172,
   "metadata": {},
   "outputs": [
    {
     "name": "stdout",
     "output_type": "stream",
     "text": [
      "['it', 'is', 'important', 'to', 'be', 'immersed', 'while', 'you', 'are', 'pythoning', 'with', 'python', '.', 'all', 'pythoners', 'have', 'pythoned', 'poorly', 'at', 'least', 'once']\n",
      "it it\n",
      "is is\n",
      "important import\n",
      "to to\n",
      "be be\n",
      "immersed immers\n",
      "while while\n",
      "you you\n",
      "are are\n",
      "pythoning python\n",
      "with with\n",
      "python python\n",
      ". .\n",
      "all all\n",
      "pythoners python\n",
      "have have\n",
      "pythoned python\n",
      "poorly poorli\n",
      "at at\n",
      "least least\n",
      "once onc\n"
     ]
    }
   ],
   "source": [
    "from nltk.stem import PorterStemmer\n",
    "from nltk.tokenize import word_tokenize\n",
    "text = '''It is important to be immersed while you are pythoning with python.\n",
    "All pythoners have pythoned poorly at least once'''\n",
    "text = text.lower()\n",
    "# tokeninzer\n",
    "words = word_tokenize(text)\n",
    "print(words)\n",
    "# stemming\n",
    "porter_stemmer = PorterStemmer()\n",
    "for w in words:\n",
    "    print(w, porter_stemmer.stem(w))"
   ]
  },
  {
   "cell_type": "code",
   "execution_count": 173,
   "metadata": {},
   "outputs": [
    {
     "name": "stdout",
     "output_type": "stream",
     "text": [
      "['한글', '자연어', '처리', '는', '재밌다', '.', '이제', '부터', '열심히', '해야지', '.']\n",
      "['한글', '자연어', '처리', '는', '재밌다', '.', '이제', '부터', '열심히', '하다', '.']\n"
     ]
    }
   ],
   "source": [
    "from konlpy.tag import Okt\n",
    "okt = Okt()\n",
    "text = \"한글 자연어 처리는 재밌다. 이제부터 열심히 해야지.\"\n",
    "print(okt.morphs(text))\n",
    "print(okt.morphs(text, stem=True))"
   ]
  },
  {
   "cell_type": "code",
   "execution_count": null,
   "metadata": {},
   "outputs": [],
   "source": []
  },
  {
   "cell_type": "code",
   "execution_count": 180,
   "metadata": {},
   "outputs": [
    {
     "name": "stdout",
     "output_type": "stream",
     "text": [
      "['Boeing', 'troubles', 'Max', 'jet', 'March', 'crashes', 'people']\n"
     ]
    },
    {
     "name": "stderr",
     "output_type": "stream",
     "text": [
      "[nltk_data] Downloading package averaged_perceptron_tagger to\n",
      "[nltk_data]     /home/pirl/nltk_data...\n",
      "[nltk_data]   Package averaged_perceptron_tagger is already up-to-\n",
      "[nltk_data]       date!\n"
     ]
    }
   ],
   "source": [
    "nltk.download('averaged_perceptron_tagger')\n",
    "from nltk.tag import pos_tag\n",
    "from nltk.tokenize import word_tokenize\n",
    "text = \"Boeing's troubles run deep. The 737 Max, its newest and most important jet, has been grounded since March after two deadly crashes killed 346 people.\"\n",
    "tokens = word_tokenize(text)\n",
    "tags = pos_tag(tokens)\n",
    "result = [x[0] for x in tags if x[1][:2] == \"NN\"]\n",
    "print(result)"
   ]
  },
  {
   "cell_type": "code",
   "execution_count": 181,
   "metadata": {},
   "outputs": [
    {
     "name": "stdout",
     "output_type": "stream",
     "text": [
      "['친척들', '이', '모이', 'ㄴ', '이번', '설', '에서는', '단연', \"'\", '취업', \"'\", '이', '화제', '에', '오르', '아다', '.']\n",
      "['친척들', '이번', '설', '취업', '화제']\n",
      "[('친척들', 'N'), ('이', 'J'), ('모이', 'P'), ('ㄴ', 'E'), ('이번', 'N'), ('설', 'N'), ('에서는', 'J'), ('단연', 'M'), (\"'\", 'S'), ('취업', 'N'), (\"'\", 'S'), ('이', 'J'), ('화제', 'N'), ('에', 'J'), ('오르', 'P'), ('아다', 'E'), ('.', 'S')]\n"
     ]
    }
   ],
   "source": [
    "from konlpy.tag import Hannanum\n",
    "phrase = \"친척들이 모인 이번 설에서는 단연 '취업'이 화제에 올랐다.\"\n",
    "hannanum = Hannanum()\n",
    "print(hannanum.morphs(phrase))\n",
    "print(hannanum.nouns(phrase))\n",
    "print(hannanum.pos(phrase))\n",
    "# 문장을 형태소 단위로 끊어줌\n",
    "# 명사만 추출\n",
    "# 형태소에 품사를 태깅함"
   ]
  },
  {
   "cell_type": "code",
   "execution_count": 189,
   "metadata": {},
   "outputs": [
    {
     "name": "stdout",
     "output_type": "stream",
     "text": [
      "['봄', '찾아오다', '따뜻하다', '신제품', '소식']\n"
     ]
    }
   ],
   "source": [
    "from konlpy.tag import Okt\n",
    "document = '봄과 함께 찾아온 따뜻한 신제품 소식'\n",
    "okt = Okt()\n",
    "words = okt.pos(document, stem=True) #stem=True 어근 형태\n",
    "#print(words) #[('봄', 'Noun'), ('과', 'Josa'), ('함께', 'Adverb'), ('찾아오다', 'Verb'), ('따뜻하다',\n",
    "# 'Adjective'), ('신제품', 'Noun'), ('소식', 'Noun')] #어간 추출\n",
    "clean_words = [x [0] for x in words if x[1] in ['Noun', 'Verb', 'Adjective'] ]\n",
    "\n",
    "print(clean_words)"
   ]
  },
  {
   "cell_type": "code",
   "execution_count": 190,
   "metadata": {},
   "outputs": [
    {
     "name": "stdout",
     "output_type": "stream",
     "text": [
      "['봄', '신제품', '소식']\n"
     ]
    }
   ],
   "source": [
    "from konlpy.tag import Okt\n",
    "document = '봄과 함께 찾아온 따뜻한 신제품 소식'\n",
    "okt = Okt()\n",
    "words = okt.pos(document, stem=True) #stem=True 어근 형태\n",
    "#[('봄', 'Noun'), ('과', 'Josa'), ('함께', 'Adverb'), ('찾아오다', 'Verb'), ('따뜻하다', 'Adjective'), ('신제품', 'Noun'), ('소식',\n",
    "# 'Noun')] #어간 추출\n",
    "clean_words = [x[0] for x in words if x[1] == 'Noun']\n",
    "\n",
    "\n",
    "print(clean_words)"
   ]
  },
  {
   "cell_type": "code",
   "execution_count": 191,
   "metadata": {},
   "outputs": [
    {
     "name": "stdout",
     "output_type": "stream",
     "text": [
      "['봄', '신제품', '소식']\n"
     ]
    }
   ],
   "source": [
    "from konlpy.tag import Okt\n",
    "document = '봄과 함께 찾아온 따뜻한 신제품 소식'\n",
    "okt = Okt()\n",
    "clean_words = okt.nouns(document) #명사 추출\n",
    "print(clean_words)"
   ]
  },
  {
   "cell_type": "code",
   "execution_count": 208,
   "metadata": {},
   "outputs": [
    {
     "name": "stdout",
     "output_type": "stream",
     "text": [
      "[('독서', 'Noun'), ('의', 'Josa'), ('위기', 'Noun'), ('출판', 'Noun'), ('계', 'Suffix'), ('의', 'Josa'), ('불황', 'Noun'), ('얘기', 'Noun'), ('가', 'Josa'), ('나온', 'Verb'), ('지', 'Verb'), ('오래', 'Adverb'), ('됐지만', 'Verb'), ('사정', 'Noun'), ('이', 'Josa'), ('나아졌다는', 'Verb'), ('소식', 'Noun'), ('은', 'Josa'), ('들리지', 'Verb'), ('않는다', 'Verb'), ('요즘', 'Noun'), ('종이', 'Noun'), ('책', 'Noun'), ('은', 'Josa'), ('만', 'Modifier'), ('권', 'Noun'), ('정도', 'Noun'), ('만', 'Josa'), ('팔리면', 'Verb'), ('베스트셀러', 'Noun'), ('목록', 'Noun'), ('에', 'Josa'), ('오른다고', 'Verb'), ('한다', 'Verb'), ('하지만', 'Conjunction'), ('이', 'Noun'), ('와는', 'Josa'), ('분위기', 'Noun'), ('가', 'Josa'), ('사뭇', 'Noun'), ('다른', 'Noun'), ('곳', 'Noun'), ('이', 'Josa'), ('있다', 'Adjective'), ('스마트폰', 'Noun'), ('이나', 'Josa'), ('로', 'Noun'), ('읽는', 'Verb'), ('웹', 'Noun'), ('소설', 'Noun'), ('이다', 'Josa'), ('인기', 'Noun'), ('웹', 'Noun'), ('소설', 'Noun'), ('은', 'Josa'), ('독자', 'Noun'), ('수가', 'Noun'), ('백만', 'Noun'), ('명', 'Suffix'), ('을', 'Josa'), ('가볍게', 'Adjective'), ('넘어선다', 'Verb'), ('웹', 'Noun'), ('소설', 'Noun'), ('은', 'Josa'), ('웹', 'Noun'), ('에서', 'Josa'), ('처음', 'Noun'), ('공개', 'Noun'), ('되는', 'Verb'), ('소설', 'Noun'), ('이다', 'Josa'), ('기존', 'Noun'), ('에', 'Josa'), ('출판', 'Noun'), ('된', 'Verb'), ('소설', 'Noun'), ('을', 'Josa'), ('웹', 'Noun'), ('에', 'Josa'), ('게재', 'Noun'), ('하는', 'Verb'), ('경우', 'Noun'), ('를', 'Josa'), ('웹', 'Noun'), ('소설', 'Noun'), ('이라고', 'Josa'), ('하지는', 'Verb'), ('않는다', 'Verb'), ('웹', 'Noun'), ('소설', 'Noun'), ('은', 'Josa'), ('처음', 'Noun'), ('부터', 'Josa'), ('웹', 'Noun'), ('에서의', 'Josa'), ('연재', 'Noun'), ('를', 'Josa'), ('겨냥', 'Noun'), ('하고', 'Josa'), ('창작', 'Noun'), ('되는', 'Verb'), ('것', 'Noun'), ('이다', 'Josa'), ('짧은', 'Adjective'), ('시간', 'Noun'), ('에', 'Josa'), ('가볍게', 'Adjective'), ('읽기가', 'Verb'), ('좋도록', 'Adjective'), ('나뉘어', 'Verb'), ('연재', 'Noun'), ('되는', 'Verb'), ('스낵', 'Noun'), ('컬처', 'Noun'), ('의', 'Noun'), ('성격', 'Noun'), ('이', 'Josa'), ('강하다', 'Adjective'), ('그래서', 'Adverb'), ('웹', 'Noun'), ('소설', 'Noun'), ('은', 'Josa'), ('연재', 'Noun'), ('매', 'Noun'), ('회', 'Noun'), ('마다', 'Josa'), ('긴장감', 'Noun'), ('과', 'Josa'), ('흥미', 'Noun'), ('를', 'Josa'), ('잃지', 'Verb'), ('않고', 'Verb'), ('스토리', 'Noun'), ('를', 'Josa'), ('이', 'Determiner'), ('어가', 'Noun'), ('는', 'Josa'), ('게', 'Noun'), ('중요하다', 'Adjective'), ('인물', 'Noun'), ('캐릭터', 'Noun'), ('와', 'Josa'), ('대화', 'Noun'), ('중심', 'Noun'), ('의', 'Josa'), ('빠른', 'Adjective'), ('전개', 'Noun'), ('가', 'Josa'), ('독자', 'Noun'), ('들', 'Suffix'), ('의', 'Josa'), ('호응', 'Noun'), ('을', 'Josa'), ('얻기', 'Verb'), ('쉽다', 'Verb'), ('진입', 'Noun'), ('장벽', 'Noun'), ('없어', 'Adjective'), ('작가', 'Noun'), ('수', 'Noun'), ('빠르게', 'Adjective'), ('늘어나', 'Verb'), ('웹', 'Noun'), ('소설', 'Noun'), ('작가', 'Noun'), ('가', 'Josa'), ('되는', 'Verb'), ('데', 'Noun'), ('는', 'Josa'), ('진입', 'Noun'), ('장벽', 'Noun'), ('이', 'Josa'), ('없다', 'Adjective'), ('누구', 'Noun'), ('나', 'Josa'), ('무료', 'Noun'), ('웹', 'Noun'), ('소설', 'Noun'), ('플랫폼', 'Noun'), ('에', 'Josa'), ('자신', 'Noun'), ('의', 'Josa'), ('소설', 'Noun'), ('을', 'Josa'), ('연재', 'Noun'), ('할', 'Verb'), ('수', 'Noun'), ('있다는', 'Adjective'), ('의미', 'Noun'), ('다', 'Josa'), ('무협', 'Noun'), ('판타지', 'Noun'), ('전문', 'Noun'), ('플랫폼', 'Noun'), ('인', 'Josa'), ('문', 'Modifier'), ('피아', 'Noun'), ('의', 'Noun'), ('김환철', 'Noun'), ('대표', 'Noun'), ('필명', 'Noun'), ('금강', 'Noun'), ('는', 'Verb'), ('커트라인', 'Noun'), ('을', 'Josa'), ('둬서', 'Verb'), ('괜찮은', 'Adjective'), ('것', 'Noun'), ('만', 'Josa'), ('올리자는', 'Verb'), ('의견', 'Noun'), ('도', 'Josa'), ('있었지만', 'Adjective'), ('그러면', 'Adverb'), ('출판사', 'Noun'), ('와', 'Josa'), ('다를', 'Adjective'), ('게', 'Noun'), ('무엇', 'Noun'), ('인가', 'Josa'), ('모두', 'Noun'), ('가', 'Josa'), ('올리고', 'Verb'), ('독자', 'Noun'), ('가', 'Josa'), ('바로', 'Noun'), ('평가', 'Noun'), ('하도록', 'Verb'), ('했다', 'Verb'), ('고', 'Noun'), ('말', 'Noun'), ('했다', 'Verb'), ('독자', 'Noun'), ('의', 'Josa'), ('선택', 'Noun'), ('을', 'Josa'), ('받아', 'Verb'), ('인기', 'Noun'), ('를', 'Josa'), ('얻으면', 'Verb'), ('유료', 'Noun'), ('판매', 'Noun'), ('를', 'Josa'), ('통해', 'Noun'), ('작가', 'Noun'), ('로서', 'Noun'), ('수입', 'Noun'), ('을', 'Josa'), ('낼', 'Noun'), ('수', 'Noun'), ('있다', 'Adjective'), ('웹', 'Noun'), ('소설', 'Noun'), ('에서는', 'Josa'), ('생산자', 'Noun'), ('와', 'Josa'), ('소비자', 'Noun'), ('의', 'Josa'), ('경계', 'Noun'), ('가', 'Josa'), ('허물', 'Noun'), ('어', 'Suffix'), ('지고', 'Noun'), ('있다', 'Adjective'), ('그만큼', 'Adverb'), ('작가', 'Noun'), ('수도', 'Noun'), ('빠르게', 'Adjective'), ('늘', 'Noun'), ('고', 'Josa'), ('있다', 'Adjective'), ('문', 'Modifier'), ('피아', 'Noun'), ('만', 'Noun'), ('해도', 'Noun'), ('만', 'Modifier'), ('명의', 'Noun'), ('작가', 'Noun'), ('가', 'Josa'), ('활동', 'Noun'), ('하고', 'Josa'), ('있고', 'Adjective'), ('국내', 'Noun'), ('전체', 'Noun'), ('적', 'Suffix'), ('으로는', 'Josa'), ('웹', 'Noun'), ('소설', 'Noun'), ('작가', 'Noun'), ('의', 'Josa'), ('수가', 'Noun'), ('만', 'Modifier'), ('명', 'Noun'), ('이', 'Josa'), ('넘을', 'Verb'), ('것', 'Noun'), ('으로', 'Josa'), ('추정', 'Noun'), ('된다', 'Verb'), ('이처럼', 'Noun'), ('수십만', 'Modifier'), ('작가', 'Noun'), ('와', 'Josa'), ('수백만', 'Noun'), ('독자', 'Noun'), ('가', 'Josa'), ('모여', 'Verb'), ('함께', 'Adverb'), ('만드는', 'Verb'), ('웹', 'Noun'), ('소설', 'Noun'), ('생태계', 'Noun'), ('에는', 'Josa'), ('용광로', 'Noun'), ('와', 'Josa'), ('같은', 'Adjective'), ('에너지', 'Noun'), ('가', 'Josa'), ('넘친다', 'Adjective'), ('진입', 'Noun'), ('장벽', 'Noun'), ('이', 'Josa'), ('없는', 'Adjective'), ('대신', 'Noun'), ('경쟁', 'Noun'), ('은', 'Josa'), ('어느', 'Adverb'), ('곳', 'Noun'), ('보다도', 'Josa'), ('치열하다', 'Adjective'), ('작가', 'Noun'), ('들', 'Suffix'), ('은', 'Josa'), ('매회', 'Adverb'), ('연재', 'Noun'), ('할', 'Verb'), ('때', 'Noun'), ('마다', 'Josa'), ('조', 'Modifier'), ('회수', 'Noun'), ('와', 'Josa'), ('독자', 'Noun'), ('의', 'Josa'), ('댓글', 'Noun'), ('을', 'Josa'), ('살피면서', 'Verb'), ('진검', 'Noun'), ('승부', 'Noun'), ('를', 'Josa'), ('펼친다', 'Verb'), ('김환철', 'Noun'), ('문', 'Modifier'), ('피아', 'Noun'), ('대표', 'Noun'), ('는', 'Josa'), ('매일', 'Noun'), ('매일', 'Noun'), ('이', 'Josa'), ('전쟁', 'Noun'), ('같다', 'Adjective'), ('그런', 'Adjective'), ('극심한', 'Adjective'), ('경쟁', 'Noun'), ('을', 'Josa'), ('뚫고', 'Verb'), ('살아남은', 'Verb'), ('작가', 'Noun'), ('들', 'Suffix'), ('은', 'Josa'), ('글', 'Noun'), ('을', 'Josa'), ('잘', 'Verb'), ('쓸', 'Verb'), ('수', 'Noun'), ('밖에', 'Josa'), ('없다', 'Adjective'), ('고', 'Noun'), ('말', 'Noun'), ('했다', 'Verb'), ('환생', 'Noun'), ('회귀', 'Noun'), ('가', 'Josa'), ('넘치는', 'Adjective'), ('까닭', 'Noun'), ('은', 'Josa'), ('작가', 'Noun'), ('와', 'Josa'), ('독자', 'Noun'), ('의', 'Josa'), ('역', 'Noun'), ('동', 'Modifier'), ('적', 'Noun'), ('인', 'Josa'), ('상호작용', 'Noun'), ('을', 'Josa'), ('거쳐', 'Verb'), ('나오는', 'Verb'), ('웹', 'Noun'), ('소설', 'Noun'), ('은', 'Josa'), ('독자', 'Noun'), ('의', 'Josa'), ('마음', 'Noun'), ('과', 'Josa'), ('사회', 'Noun'), ('의', 'Josa'), ('분위기', 'Noun'), ('를', 'Josa'), ('섬세하게', 'Adjective'), ('반영', 'Noun'), ('한', 'Josa'), ('다', 'Adverb'), ('최근', 'Noun'), ('수년', 'Noun'), ('간', 'Suffix'), ('웹', 'Noun'), ('소설', 'Noun'), ('에서', 'Josa'), ('유난히', 'Adverb'), ('많이', 'Adverb'), ('등장', 'Noun'), ('하는', 'Verb'), ('단어', 'Noun'), ('가', 'Josa'), ('회귀', 'Noun'), ('귀환', 'Noun'), ('환생', 'Noun'), ('이다', 'Josa'), ('이번', 'Noun'), ('생', 'Noun'), ('에', 'Josa'), ('실패한', 'Adjective'), ('사람', 'Noun'), ('이', 'Josa'), ('현재', 'Noun'), ('의', 'Josa'), ('기억', 'Noun'), ('을', 'Josa'), ('갖고', 'Verb'), ('과거', 'Noun'), ('로', 'Josa'), ('돌아가서', 'Verb'), ('실수', 'Noun'), ('를', 'Josa'), ('바로잡고', 'Verb'), ('시원하게', 'Adjective'), ('복수', 'Noun'), ('를', 'Josa'), ('하는', 'Verb'), ('스토리', 'Noun'), ('다', 'Josa'), ('네이버', 'Noun'), ('나', 'Josa'), ('카카오페이지', 'Noun'), ('조아라', 'Adjective'), ('문', 'Modifier'), ('피아', 'Noun'), ('등', 'Noun'), ('여러', 'Noun'), ('웹', 'Noun'), ('소설', 'Noun'), ('플랫폼', 'Noun'), ('에서', 'Josa'), ('최고', 'Noun'), ('의', 'Josa'), ('인기', 'Noun'), ('를', 'Josa'), ('얻은', 'Verb'), ('작품', 'Noun'), ('의', 'Josa'), ('상당수', 'Noun'), ('가', 'Josa'), ('이런', 'Adjective'), ('스토리', 'Noun'), ('의', 'Josa'), ('틀', 'Noun'), ('을', 'Josa'), ('갖고', 'Verb'), ('있다', 'Adjective'), ('김환철', 'Noun'), ('문', 'Modifier'), ('피아', 'Noun'), ('대표', 'Noun'), ('는', 'Josa'), ('길게', 'Adjective'), ('보면', 'Verb'), ('년', 'Noun'), ('정도', 'Noun'), ('된', 'Verb'), ('트렌드', 'Noun'), ('인데', 'Josa'), ('이제', 'Noun'), ('는', 'Josa'), ('대세', 'Noun'), ('가', 'Josa'), ('되어서', 'Verb'), ('수많은', 'Adjective'), ('작품', 'Noun'), ('에서', 'Josa'), ('환생', 'Noun'), ('과', 'Josa'), ('회귀', 'Noun'), ('가', 'Josa'), ('일어나고', 'Noun'), ('있다', 'Adjective'), ('면서', 'Noun'), ('갈수록', 'Noun'), ('각박하고', 'Adjective'), ('힘들어지는', 'Adjective'), ('세상', 'Noun'), ('젊은', 'Adjective'), ('세대', 'Noun'), ('의', 'Josa'), ('좌절', 'Noun'), ('이', 'Josa'), ('빨리', 'Adverb'), ('강해지고', 'Adjective'), ('쉽게', 'Verb'), ('성공하는', 'Adjective'), ('판타지', 'Noun'), ('로', 'Josa'), ('투영', 'Noun'), ('이', 'Josa'), ('되는', 'Verb'), ('것', 'Noun'), ('이라고', 'Josa'), ('진단', 'Noun'), ('했다', 'Verb'), ('이진수', 'Noun'), ('카카오페이지', 'Noun'), ('대표', 'Noun'), ('는', 'Josa'), ('웹', 'Noun'), ('소설', 'Noun'), ('이나', 'Josa'), ('웹툰', 'Noun'), ('만큼', 'Noun'), ('우리', 'Noun'), ('사회', 'Noun'), ('곳곳', 'Noun'), ('을', 'Josa'), ('섬세하고', 'Adjective'), ('다양하게', 'Adjective'), ('표현', 'Noun'), ('하고', 'Josa'), ('있는', 'Adjective'), ('매체', 'Noun'), ('가', 'Josa'), ('없다', 'Adjective'), ('면서', 'Noun'), ('대한민국', 'Noun'), ('의', 'Josa'), ('기성', 'Noun'), ('세대', 'Noun'), ('들', 'Suffix'), ('이', 'Josa'), ('지금', 'Noun'), ('의', 'Josa'), ('대와', 'Verb'), ('대를', 'Verb'), ('가장', 'Noun'), ('빠르게', 'Adjective'), ('이해', 'Noun'), ('할', 'Verb'), ('수', 'Noun'), ('있는', 'Adjective'), ('방법', 'Noun'), ('이라고', 'Josa'), ('주장', 'Noun'), ('했다', 'Verb'), ('작품', 'Noun'), ('성', 'Suffix'), ('뛰어난', 'Adjective'), ('웹', 'Noun'), ('소설', 'Noun'), ('도', 'Josa'), ('많은데', 'Adjective'), ('평론', 'Noun'), ('은', 'Josa'), ('웹', 'Noun'), ('소설', 'Noun'), ('하면', 'Verb'), ('스낵', 'Noun'), ('컬처', 'Noun'), ('상업성', 'Noun'), ('중독', 'Noun'), ('성', 'Suffix'), ('등', 'Noun'), ('을', 'Josa'), ('떠올리게', 'Verb'), ('되지만', 'Verb'), ('그런', 'Adjective'), ('가운데', 'Noun'), ('뛰어난', 'Adjective'), ('작품', 'Noun'), ('성', 'Suffix'), ('을', 'Josa'), ('함께', 'Adverb'), ('성취', 'Noun'), ('한', 'Josa'), ('명작', 'Noun'), ('들', 'Suffix'), ('도', 'Josa'), ('적지', 'Noun'), ('않게', 'Verb'), ('발견', 'Noun'), ('된다', 'Verb'), ('무협', 'Noun'), ('이나', 'Josa'), ('판타지', 'Noun'), ('스토리', 'Noun'), ('속', 'Noun'), ('에', 'Josa'), ('신화', 'Noun'), ('와', 'Josa'), ('종교', 'Noun'), ('현대', 'Noun'), ('과학', 'Noun'), ('등', 'Noun'), ('다방면', 'Noun'), ('에', 'Josa'), ('걸쳐', 'Verb'), ('해박', 'Noun'), ('한', 'Josa'), ('지식', 'Noun'), ('과', 'Josa'), ('창의', 'Noun'), ('적', 'Suffix'), ('인', 'Josa'), ('세계관', 'Noun'), ('을', 'Josa'), ('담아', 'Verb'), ('낸', 'Verb'), ('작품', 'Noun'), ('을', 'Josa'), ('만나면', 'Verb'), ('필명', 'Noun'), ('으로', 'Josa'), ('자신', 'Noun'), ('을', 'Josa'), ('감추는', 'Verb'), ('작가', 'Noun'), ('에', 'Josa'), ('대한', 'Noun'), ('궁금증', 'Noun'), ('이', 'Josa'), ('들', 'Verb'), ('기도', 'Noun'), ('한다', 'Verb'), ('이런', 'Adjective'), ('작품', 'Noun'), ('들', 'Suffix'), ('은', 'Josa'), ('매회', 'Adverb'), ('흥미', 'Noun'), ('와', 'Josa'), ('긴장감', 'Noun'), ('을', 'Josa'), ('유지', 'Noun'), ('해야', 'Verb'), ('한다는', 'Modifier'), ('웹', 'Noun'), ('소설', 'Noun'), ('의', 'Josa'), ('문법', 'Noun'), ('을', 'Josa'), ('벗어나기도', 'Verb'), ('하지만', 'Conjunction'), ('한번', 'Noun'), ('마니아', 'Noun'), ('가', 'Josa'), ('된', 'Verb'), ('독자', 'Noun'), ('들', 'Suffix'), ('은', 'Josa'), ('작가', 'Noun'), ('의', 'Josa'), ('고집', 'Noun'), ('을', 'Josa'), ('긍정', 'Noun'), ('적', 'Suffix'), ('으로', 'Josa'), ('이해', 'Noun'), ('해주는', 'Verb'), ('편이', 'Noun'), ('다', 'Josa'), ('이', 'Noun'), ('와', 'Josa'), ('관련', 'Noun'), ('해', 'Verb'), ('장강', 'Noun'), ('명', 'Suffix'), ('작가', 'Noun'), ('는', 'Josa'), ('굉장히', 'Adjective'), ('뛰어난', 'Adjective'), ('작품', 'Noun'), ('성', 'Suffix'), ('을', 'Josa'), ('보여주는', 'Verb'), ('웹', 'Noun'), ('소설', 'Noun'), ('들', 'Suffix'), ('이', 'Josa'), ('있는데', 'Adjective'), ('그', 'Noun'), ('작품', 'Noun'), ('성', 'Suffix'), ('이', 'Josa'), ('기존', 'Noun'), ('의', 'Josa'), ('문단', 'Noun'), ('에서', 'Josa'), ('얘기', 'Noun'), ('하는', 'Verb'), ('작품', 'Noun'), ('성', 'Suffix'), ('과는', 'Josa'), ('조금', 'Noun'), ('달라', 'Noun'), ('서', 'Josa'), ('이', 'Determiner'), ('걸', 'Noun'), ('설명', 'Noun'), ('할', 'Verb'), ('수', 'Noun'), ('있는', 'Adjective'), ('언어', 'Noun'), ('가', 'Josa'), ('있었으면', 'Adjective'), ('좋겠다는', 'Adjective'), ('작가', 'Noun'), ('와', 'Josa'), ('독자', 'Noun'), ('들', 'Suffix'), ('을', 'Josa'), ('봤다', 'Verb'), ('면서', 'Noun'), ('웹', 'Noun'), ('소설', 'Noun'), ('에', 'Josa'), ('대해', 'Noun'), ('서도', 'Noun'), ('평론', 'Noun'), ('이나', 'Josa'), ('분석', 'Noun'), ('이', 'Josa'), ('필요하다는', 'Adjective'), ('얘기', 'Noun'), ('인데', 'Josa'), ('아직', 'Adverb'), ('은', 'Noun'), ('비어있는', 'Verb'), ('상황', 'Noun'), ('이라고', 'Josa'), ('말', 'Noun'), ('했다', 'Verb'), ('영화', 'Noun'), ('와', 'Josa'), ('드라마', 'Noun'), ('의', 'Josa'), ('원작', 'Noun'), ('으로', 'Josa'), ('몸값', 'Noun'), ('상승', 'Noun'), ('중', 'Noun'), ('이야기', 'Noun'), ('산업', 'Noun'), ('으로서의', 'Josa'), ('웹', 'Noun'), ('소설', 'Noun'), ('의', 'Josa'), ('성장', 'Noun'), ('세는', 'Verb'), ('폭발', 'Noun'), ('적', 'Suffix'), ('이다', 'Josa'), ('지난', 'Noun'), ('년', 'Noun'), ('억원', 'Noun'), ('수준', 'Noun'), ('이던', 'Josa'), ('국내', 'Noun'), ('웹', 'Noun'), ('소설', 'Noun'), ('시장', 'Noun'), ('의', 'Josa'), ('전체', 'Noun'), ('규모', 'Noun'), ('는', 'Josa'), ('년', 'Noun'), ('억원', 'Noun'), ('으로', 'Josa'), ('급상승', 'Noun'), ('세', 'Noun'), ('를', 'Josa'), ('보였다', 'Verb'), ('수십만', 'Modifier'), ('수백만', 'Noun'), ('명의', 'Noun'), ('검증', 'Noun'), ('을', 'Josa'), ('거친', 'Verb'), ('웹', 'Noun'), ('소설', 'Noun'), ('은', 'Josa'), ('영화', 'Noun'), ('와', 'Josa'), ('드라마', 'Noun'), ('의', 'Josa'), ('원작', 'Noun'), ('으로서', 'Josa'), ('갈수록', 'Noun'), ('몸값', 'Noun'), ('이', 'Josa'), ('올라가고', 'Verb'), ('있다', 'Adjective'), ('이진수', 'Noun'), ('카카오페이지', 'Noun'), ('대표', 'Noun'), ('는', 'Josa'), ('천문학', 'Noun'), ('적', 'Suffix'), ('인', 'Josa'), ('제작비', 'Noun'), ('라는', 'Josa'), ('리스크', 'Noun'), ('를', 'Josa'), ('안고', 'Noun'), ('있는', 'Adjective'), ('영상', 'Noun'), ('시장', 'Noun'), ('에서', 'Josa'), ('이미', 'Adverb'), ('검증', 'Noun'), ('된', 'Verb'), ('시나리오', 'Noun'), ('와', 'Josa'), ('그', 'Noun'), ('이야기', 'Noun'), ('를', 'Josa'), ('좋아하는', 'Adjective'), ('수십만', 'Modifier'), ('수백만', 'Noun'), ('명의', 'Noun'), ('열성', 'Noun'), ('독자', 'Noun'), ('층', 'Noun'), ('이', 'Josa'), ('있는', 'Adjective'), ('경우', 'Noun'), ('에는', 'Josa'), ('당연히', 'Adjective'), ('영상', 'Noun'), ('시장', 'Noun'), ('에서', 'Josa'), ('리스크', 'Noun'), ('를', 'Josa'), ('많이', 'Adverb'), ('줄일', 'Verb'), ('수', 'Noun'), ('있는', 'Adjective'), ('요인', 'Noun'), ('이', 'Josa'), ('된다', 'Verb'), ('고', 'Noun'), ('말', 'Noun'), ('했다', 'Verb'), ('웹', 'Noun'), ('소설', 'Noun'), ('과', 'Josa'), ('드라마', 'Noun'), ('의', 'Josa'), ('선', 'Noun'), ('순환', 'Noun'), ('구조', 'Noun'), ('를', 'Josa'), ('보여준', 'Verb'), ('최근', 'Noun'), ('의', 'Josa'), ('사례', 'Noun'), ('가', 'Josa'), ('김', 'Noun'), ('비서', 'Noun'), ('가', 'Josa'), ('왜', 'Noun'), ('그럴까', 'Adjective'), ('이다', 'Josa'), ('카카오페이지', 'Noun'), ('에서', 'Josa'), ('엄청난', 'Adjective'), ('독자', 'Noun'), ('를', 'Josa'), ('모은', 'Verb'), ('이', 'Noun'), ('웹', 'Noun'), ('소설', 'Noun'), ('은', 'Josa'), ('드라마', 'Noun'), ('로', 'Josa'), ('제작', 'Noun'), ('되어', 'Verb'), ('높은', 'Adjective'), ('시청률', 'Noun'), ('을', 'Josa'), ('기록', 'Noun'), ('했고', 'Verb'), ('이는', 'Verb'), ('다시', 'Noun'), ('원작', 'Noun'), ('웹', 'Noun'), ('소설', 'Noun'), ('과', 'Josa'), ('웹툰', 'Noun'), ('의', 'Josa'), ('인기', 'Noun'), ('상승', 'Noun'), ('으로', 'Josa'), ('이어졌다', 'Verb'), ('정경윤', 'Noun'), ('작가', 'Noun'), ('는', 'Josa'), ('부산', 'Noun'), ('에서', 'Josa'), ('약사', 'Noun'), ('를', 'Josa'), ('하면서', 'Verb'), ('틈틈이', 'Noun'), ('이', 'Noun'), ('소설', 'Noun'), ('을', 'Josa'), ('썼다', 'Verb'), ('힘들지', 'Adjective'), ('않았느냐는', 'Verb'), ('기자', 'Noun'), ('의', 'Josa'), ('질문', 'Noun'), ('에', 'Josa'), ('정', 'Noun'), ('작가', 'Noun'), ('는', 'Josa'), ('약국', 'Noun'), ('일', 'Noun'), ('을', 'Josa'), ('하다', 'Verb'), ('보면', 'Verb'), ('몸', 'Noun'), ('도', 'Josa'), ('지치고', 'Verb'), ('피곤한데', 'Adjective'), ('소설', 'Noun'), ('쓰는', 'Verb'), ('건', 'Noun'), ('전혀', 'Noun'), ('피곤하지', 'Adjective'), ('않고', 'Verb'), ('재미있었다', 'Adjective'), ('며', 'Noun'), ('나중', 'Noun'), ('에는', 'Josa'), ('정말', 'Noun'), ('미쳐서', 'Adjective'), ('밥', 'Noun'), ('먹는', 'Verb'), ('시간', 'Noun'), ('도', 'Josa'), ('자는', 'Verb'), ('시간', 'Noun'), ('도', 'Josa'), ('쉬는', 'Verb'), ('시간', 'Noun'), ('도', 'Josa'), ('다', 'Adverb'), ('줄', 'Noun'), ('여서', 'Josa'), ('전력', 'Noun'), ('을', 'Josa'), ('다해', 'Noun'), ('서', 'Josa'), ('썼는데', 'Verb'), ('그게', 'Noun'), ('취미', 'Noun'), ('이자', 'Noun'), ('마음', 'Noun'), ('의', 'Josa'), ('치유', 'Noun'), ('가', 'Josa'), ('됐다', 'Verb'), ('고', 'Noun'), ('말', 'Noun'), ('했다', 'Verb'), ('또', 'Noun'), ('선배', 'Noun'), ('작가', 'Noun'), ('로서', 'Noun'), ('작가', 'Noun'), ('지망', 'Noun'), ('생', 'Noun'), ('들', 'Suffix'), ('에게', 'Josa'), ('조언', 'Noun'), ('을', 'Josa'), ('해달라는', 'Verb'), ('주문', 'Noun'), ('에', 'Josa'), ('대해', 'Noun'), ('서는', 'Verb'), ('아무리', 'Adverb'), ('시장', 'Noun'), ('이', 'Josa'), ('커졌어도', 'Verb'), ('좋아하는', 'Adjective'), ('마음', 'Noun'), ('없이', 'Adverb'), ('그냥', 'Noun'), ('생업', 'Noun'), ('으로', 'Josa'), ('하기에는', 'Verb'), ('너무', 'Adverb'), ('어려운', 'Adjective'), ('일인', 'Noun'), ('것', 'Noun'), ('같다', 'Adjective'), ('너무', 'Adverb'), ('조급해하지', 'Adjective'), ('말고', 'Josa'), ('즐기면서', 'Verb'), ('천천히', 'Adverb'), ('여유', 'Noun'), ('있게', 'Adjective'), ('썼으면', 'Verb'), ('좋겠다', 'Adjective'), ('고', 'Noun'), ('말', 'Noun'), ('했다', 'Verb'), ('한국', 'Noun'), ('콘텐츠', 'Noun'), ('진흥', 'Noun'), ('원', 'Suffix'), ('조사', 'Noun'), ('에', 'Josa'), ('따르면', 'Verb'), ('웹', 'Noun'), ('소설', 'Noun'), ('작가', 'Noun'), ('의', 'Josa'), ('평균', 'Noun'), ('수입', 'Noun'), ('은', 'Josa'), ('년', 'Noun'), ('기준', 'Noun'), ('으로', 'Josa'), ('만원', 'Noun'), ('으로', 'Josa'), ('나타났다', 'Verb'), ('연', 'Noun'), ('수입', 'Noun'), ('이', 'Josa'), ('억대', 'Noun'), ('에', 'Josa'), ('이르는', 'Verb'), ('작가', 'Noun'), ('도', 'Josa'), ('많고', 'Adjective'), ('정상', 'Noun'), ('급', 'Suffix'), ('인기', 'Noun'), ('작가', 'Noun'), ('들', 'Suffix'), ('의', 'Josa'), ('경우', 'Noun'), ('는', 'Josa'), ('억원', 'Noun'), ('을', 'Josa'), ('상회', 'Noun'), ('한다고', 'Verb'), ('한다', 'Verb'), ('하지만', 'Conjunction'), ('대다수', 'Noun'), ('작가', 'Noun'), ('는', 'Josa'), ('수입', 'Noun'), ('이', 'Josa'), ('많지', 'Adjective'), ('않다', 'Verb'), ('작가', 'Noun'), ('명', 'Noun'), ('중', 'Noun'), ('명', 'Noun'), ('가까이', 'Noun'), ('가', 'Josa'), ('연', 'Noun'), ('수입', 'Noun'), ('천만원', 'Noun'), ('미만', 'Noun'), ('으로', 'Josa'), ('조사', 'Noun'), ('됐다', 'Verb'), ('웹', 'Noun'), ('소설', 'Noun'), ('은', 'Josa'), ('웹툰', 'Noun'), ('과', 'Josa'), ('함께', 'Adverb'), ('차세대', 'Noun'), ('한류', 'Noun'), ('의', 'Josa'), ('주역', 'Noun'), ('으로서도', 'Josa'), ('주목', 'Noun'), ('된다', 'Verb'), ('네이버', 'Noun'), ('와', 'Josa'), ('카카오페이지', 'Noun'), ('는', 'Josa'), ('해외', 'Noun'), ('웹툰', 'Noun'), ('시장', 'Noun'), ('에', 'Josa'), ('진출', 'Noun'), ('했고', 'Verb'), ('문', 'Modifier'), ('피아', 'Noun'), ('도', 'Josa'), ('해외진출', 'Noun'), ('을', 'Josa'), ('모색', 'Noun'), ('하고', 'Josa'), ('있다', 'Adjective'), ('해외', 'Noun'), ('시장', 'Noun'), ('을', 'Josa'), ('분석', 'Noun'), ('한', 'Josa'), ('전문가', 'Noun'), ('들', 'Suffix'), ('은', 'Josa'), ('우리', 'Noun'), ('작가', 'Noun'), ('들', 'Suffix'), ('의', 'Josa'), ('창의성', 'Noun'), ('과', 'Josa'), ('스토리', 'Noun'), ('가', 'Josa'), ('해외', 'Noun'), ('시장', 'Noun'), ('에서도', 'Josa'), ('충분한', 'Adjective'), ('경쟁력', 'Noun'), ('을', 'Josa'), ('갖고', 'Verb'), ('있다고', 'Adjective'), ('본다', 'Verb'), ('이렇게', 'Adverb'), ('웹', 'Noun'), ('소설', 'Noun'), ('은', 'Josa'), ('막대', 'Noun'), ('한', 'Josa'), ('에너지', 'Noun'), ('를', 'Josa'), ('품고', 'Verb'), ('빠르게', 'Adjective'), ('영역', 'Noun'), ('을', 'Josa'), ('넓히고', 'Verb'), ('있다', 'Adjective'), ('하지만', 'Conjunction'), ('그', 'Noun'), ('에', 'Josa'), ('비', 'Noun'), ('해서', 'Verb'), ('우리', 'Noun'), ('사회', 'Noun'), ('의', 'Josa'), ('담론', 'Noun'), ('은', 'Josa'), ('초기', 'Noun'), ('단계', 'Noun'), ('를', 'Josa'), ('벗어나지', 'Verb'), ('못', 'Noun'), ('하고', 'Josa'), ('있다', 'Adjective'), ('웹', 'Noun'), ('소설', 'Noun'), ('에', 'Josa'), ('대한', 'Noun'), ('진지한', 'Adjective'), ('담론', 'Noun'), ('형성', 'Noun'), ('을', 'Josa'), ('기대하며', 'Adjective'), ('장강', 'Noun'), ('명', 'Suffix'), ('작가', 'Noun'), ('는', 'Josa'), ('우리', 'Noun'), ('사회', 'Noun'), ('에서', 'Josa'), ('웹', 'Noun'), ('소설', 'Noun'), ('을', 'Josa'), ('얘기', 'Noun'), ('하는', 'Verb'), ('맥락', 'Noun'), ('은', 'Josa'), ('대부분', 'Noun'), ('시장', 'Noun'), ('규모', 'Noun'), ('나', 'Josa'), ('작가', 'Noun'), ('의', 'Josa'), ('수입', 'Noun'), ('같은', 'Adjective'), ('데', 'Noun'), ('머물러', 'Verb'), ('있고', 'Adjective'), ('웹', 'Noun'), ('소설', 'Noun'), ('의', 'Josa'), ('새로운', 'Adjective'), ('작품', 'Noun'), ('성과', 'Noun'), ('시', 'Modifier'), ('대', 'Modifier'), ('감각', 'Noun'), ('을', 'Josa'), ('포착', 'Noun'), ('하려는', 'Verb'), ('노력', 'Noun'), ('은', 'Josa'), ('굉장히', 'Adjective'), ('드물다', 'Adjective'), ('면서', 'Noun'), ('웹', 'Noun'), ('소설', 'Noun'), ('영역', 'Noun'), ('에', 'Josa'), ('형성', 'Noun'), ('된', 'Verb'), ('엄청난', 'Adjective'), ('기운', 'Noun'), ('을', 'Josa'), ('좋은', 'Adjective'), ('방향', 'Noun'), ('으로', 'Josa'), ('이끌기', 'Verb'), ('위해', 'Noun'), ('기존', 'Noun'), ('문학계', 'Noun'), ('와', 'Josa'), ('공공', 'Modifier'), ('부문', 'Noun'), ('독자', 'Noun'), ('들', 'Suffix'), ('이', 'Josa'), ('모두', 'Noun'), ('관심', 'Noun'), ('을', 'Josa'), ('가질', 'Verb'), ('때', 'Noun'), ('라고', 'Josa'), ('말', 'Noun'), ('했다', 'Verb'), ('웹', 'Noun'), ('소설', 'Noun'), ('생태계', 'Noun'), ('에서는', 'Josa'), ('사회', 'Noun'), ('적', 'Suffix'), ('담론', 'Noun'), ('의', 'Josa'), ('형성', 'Noun'), ('방식', 'Noun'), ('도', 'Josa'), ('기존', 'Noun'), ('의', 'Josa'), ('출판', 'Noun'), ('문학계', 'Noun'), ('와', 'Josa'), ('다를', 'Adjective'), ('수', 'Noun'), ('있다', 'Adjective'), ('생산자', 'Noun'), ('와', 'Josa'), ('소비자', 'Noun'), ('의', 'Josa'), ('경계', 'Noun'), ('가', 'Josa'), ('허물', 'Noun'), ('어진', 'Noun'), ('만큼', 'Noun'), ('비평', 'Noun'), ('의', 'Josa'), ('영역', 'Noun'), ('도', 'Josa'), ('열려', 'Verb'), ('있다', 'Adjective'), ('웹', 'Noun'), ('소설', 'Noun'), ('의', 'Josa'), ('끓어', 'Verb'), ('넘치는', 'Adjective'), ('에너지', 'Noun'), ('가', 'Josa'), ('우리', 'Noun'), ('문화', 'Noun'), ('전반', 'Noun'), ('에', 'Josa'), ('가져올', 'Verb'), ('파급', 'Noun'), ('효과', 'Noun'), ('를', 'Josa'), ('감안', 'Noun'), ('한다면', 'Verb'), ('플랫폼', 'Noun'), ('업체', 'Noun'), ('나', 'Josa'), ('공공', 'Noun'), ('부문', 'Noun'), ('에서도', 'Josa'), ('진지한', 'Adjective'), ('담론', 'Noun'), ('이', 'Josa'), ('형성', 'Noun'), ('되는', 'Verb'), ('공간', 'Noun'), ('을', 'Josa'), ('마련', 'Noun'), ('하는', 'Verb'), ('데', 'Noun'), ('더', 'Noun'), ('많은', 'Adjective'), ('관심', 'Noun'), ('을', 'Josa'), ('기울여야', 'Verb'), ('할', 'Verb'), ('것', 'Noun'), ('으로', 'Josa'), ('보인다', 'Verb'), ('출처', 'Noun'), ('뉴스', 'Noun'), ('원본', 'Noun'), ('링크', 'Noun')]\n",
      "['독서', '위기', '출판', '불황', '얘기', '사정', '소식', '요즘', '종이', '책', '권', '정도', '베스트셀러', '목록', '이', '분위기', '사뭇', '다른', '곳', '스마트폰', '로', '웹', '소설', '인기', '웹', '소설', '독자', '수가', '백만', '웹', '소설', '웹', '처음', '공개', '소설', '기존', '출판', '소설', '웹', '게재', '경우', '웹', '소설', '웹', '소설', '처음', '웹', '연재', '겨냥', '창작', '것', '시간', '연재', '스낵', '컬처', '의', '성격', '웹', '소설', '연재', '매', '회', '긴장감', '흥미', '스토리', '어가', '게', '인물', '캐릭터', '대화', '중심', '전개', '독자', '호응', '진입', '장벽', '작가', '수', '웹', '소설', '작가', '데', '진입', '장벽', '누구', '무료', '웹', '소설', '플랫폼', '자신', '소설', '연재', '수', '의미', '무협', '판타지', '전문', '플랫폼', '피아', '의', '김환철', '대표', '필명', '금강', '커트라인', '것', '의견', '출판사', '게', '무엇', '모두', '독자', '바로', '평가', '고', '말', '독자', '선택', '인기', '유료', '판매', '통해', '작가', '로서', '수입', '낼', '수', '웹', '소설', '생산자', '소비자', '경계', '허물', '지고', '작가', '수도', '늘', '피아', '만', '해도', '명의', '작가', '활동', '국내', '전체', '웹', '소설', '작가', '수가', '명', '것', '추정', '이처럼', '작가', '수백만', '독자', '웹', '소설', '생태계', '용광로', '에너지', '진입', '장벽', '대신', '경쟁', '곳', '작가', '연재', '때', '회수', '독자', '댓글', '진검', '승부', '김환철', '피아', '대표', '매일', '매일', '전쟁', '경쟁', '작가', '글', '수', '고', '말', '환생', '회귀', '까닭', '작가', '독자', '역', '적', '상호작용', '웹', '소설', '독자', '마음', '사회', '분위기', '반영', '최근', '수년', '웹', '소설', '등장', '단어', '회귀', '귀환', '환생', '이번', '생', '사람', '현재', '기억', '과거', '실수', '복수', '스토리', '네이버', '카카오페이지', '피아', '등', '여러', '웹', '소설', '플랫폼', '최고', '인기', '작품', '상당수', '스토리', '틀', '김환철', '피아', '대표', '년', '정도', '트렌드', '이제', '대세', '작품', '환생', '회귀', '일어나고', '면서', '갈수록', '세상', '세대', '좌절', '판타지', '투영', '것', '진단', '이진수', '카카오페이지', '대표', '웹', '소설', '웹툰', '만큼', '우리', '사회', '곳곳', '표현', '매체', '면서', '대한민국', '기성', '세대', '지금', '가장', '이해', '수', '방법', '주장', '작품', '웹', '소설', '평론', '웹', '소설', '스낵', '컬처', '상업성', '중독', '등', '가운데', '작품', '성취', '명작', '적지', '발견', '무협', '판타지', '스토리', '속', '신화', '종교', '현대', '과학', '등', '다방면', '해박', '지식', '창의', '세계관', '작품', '필명', '자신', '작가', '대한', '궁금증', '기도', '작품', '흥미', '긴장감', '유지', '웹', '소설', '문법', '한번', '마니아', '독자', '작가', '고집', '긍정', '이해', '편이', '이', '관련', '장강', '작가', '작품', '웹', '소설', '그', '작품', '기존', '문단', '얘기', '작품', '조금', '달라', '걸', '설명', '수', '언어', '작가', '독자', '면서', '웹', '소설', '대해', '서도', '평론', '분석', '얘기', '은', '상황', '말', '영화', '드라마', '원작', '몸값', '상승', '중', '이야기', '산업', '웹', '소설', '성장', '폭발', '지난', '년', '억원', '수준', '국내', '웹', '소설', '시장', '전체', '규모', '년', '억원', '급상승', '세', '수백만', '명의', '검증', '웹', '소설', '영화', '드라마', '원작', '갈수록', '몸값', '이진수', '카카오페이지', '대표', '천문학', '제작비', '리스크', '안고', '영상', '시장', '검증', '시나리오', '그', '이야기', '수백만', '명의', '열성', '독자', '층', '경우', '영상', '시장', '리스크', '수', '요인', '고', '말', '웹', '소설', '드라마', '선', '순환', '구조', '최근', '사례', '김', '비서', '왜', '카카오페이지', '독자', '이', '웹', '소설', '드라마', '제작', '시청률', '기록', '다시', '원작', '웹', '소설', '웹툰', '인기', '상승', '정경윤', '작가', '부산', '약사', '틈틈이', '이', '소설', '기자', '질문', '정', '작가', '약국', '일', '몸', '소설', '건', '전혀', '며', '나중', '정말', '밥', '시간', '시간', '시간', '줄', '전력', '다해', '그게', '취미', '이자', '마음', '치유', '고', '말', '또', '선배', '작가', '로서', '작가', '지망', '생', '조언', '주문', '대해', '시장', '마음', '그냥', '생업', '일인', '것', '여유', '고', '말', '한국', '콘텐츠', '진흥', '조사', '웹', '소설', '작가', '평균', '수입', '년', '기준', '만원', '연', '수입', '억대', '작가', '정상', '인기', '작가', '경우', '억원', '상회', '대다수', '작가', '수입', '작가', '명', '중', '명', '가까이', '연', '수입', '천만원', '미만', '조사', '웹', '소설', '웹툰', '차세대', '한류', '주역', '주목', '네이버', '카카오페이지', '해외', '웹툰', '시장', '진출', '피아', '해외진출', '모색', '해외', '시장', '분석', '전문가', '우리', '작가', '창의성', '스토리', '해외', '시장', '경쟁력', '웹', '소설', '막대', '에너지', '영역', '그', '비', '우리', '사회', '담론', '초기', '단계', '못', '웹', '소설', '대한', '담론', '형성', '장강', '작가', '우리', '사회', '웹', '소설', '얘기', '맥락', '대부분', '시장', '규모', '작가', '수입', '데', '웹', '소설', '작품', '성과', '감각', '포착', '노력', '면서', '웹', '소설', '영역', '형성', '기운', '방향', '위해', '기존', '문학계', '부문', '독자', '모두', '관심', '때', '말', '웹', '소설', '생태계', '사회', '담론', '형성', '방식', '기존', '출판', '문학계', '수', '생산자', '소비자', '경계', '허물', '어진', '만큼', '비평', '영역', '웹', '소설', '에너지', '우리', '문화', '전반', '파급', '효과', '감안', '플랫폼', '업체', '공공', '부문', '담론', '형성', '공간', '마련', '데', '더', '관심', '것', '출처', '뉴스', '원본', '링크']\n"
     ]
    }
   ],
   "source": [
    "from konlpy.tag import Okt\n",
    "from konlpy.tag import Komoran\n",
    "import re\n",
    "# 분석할 텍스트 읽어오기\n",
    "with open('/home/pirl/포항공대 /아카데미수업내용/3주차/textmining/code/day02/03_text_preprocessing/news.txt', 'r', encoding='utf8') as f:\n",
    "    content = f.read()\n",
    "\n",
    "# 불필요한 심볼 없애기\n",
    "p = re.compile(\"[\\Wa-zA-Z0-9_]+\")\n",
    "content = re.sub(p, \" \", content)\n",
    "# print(content)\n",
    "# 형태소 분석 및 단어 추출\n",
    "okt = Okt()\n",
    "okt_morphs = okt.pos(content)\n",
    "print(okt_morphs)\n",
    "\n",
    "\n",
    "# 명사만 추출하기\n",
    "words = []\n",
    "for word, pos in okt_morphs:\n",
    "    if pos == 'Noun':\n",
    "        words.append(word)\n",
    "print(words)"
   ]
  },
  {
   "cell_type": "code",
   "execution_count": 198,
   "metadata": {},
   "outputs": [
    {
     "name": "stdout",
     "output_type": "stream",
     "text": [
      "[('소설', 40), ('작가', 26), ('독자', 13)]\n"
     ]
    }
   ],
   "source": [
    "# day02/03_text_preprocessing/22.py\n",
    "from collections import Counter\n",
    "# 불용어 제거\n",
    "stopwords = ['출처', '뉴스', '원본', '링크']\n",
    "result = [x for x in words if x not in stopwords and len(x) > 1]\n",
    "# print(result)\n",
    "# 빈도 분석, 각 단어들이 몇 번 사용되었는지 분석\n",
    "c = Counter(result)\n",
    "print(c.most_common(3))"
   ]
  },
  {
   "cell_type": "code",
   "execution_count": 209,
   "metadata": {},
   "outputs": [
    {
     "data": {
      "image/png": "[encoded data removed]",
      "text/plain": [
       "<Figure size 432x288 with 1 Axes>"
      ]
     },
     "metadata": {
      "needs_background": "light"
     },
     "output_type": "display_data"
    }
   ],
   "source": [
    "from wordcloud import WordCloud\n",
    "import matplotlib.pyplot as plt\n",
    "from os import path\n",
    "\n",
    "FONT_PATH = '/home/pirl/포항공대 /아카데미수업내용/2주차/malgun.ttf'\n",
    "text = \" \".join(result)\n",
    "wordcloud = WordCloud(max_font_size=50, max_words=100, background_color='white',\n",
    "relative_scaling=.5, font_path=FONT_PATH).generate(text)\n",
    "plt.figure()\n",
    "plt.imshow(wordcloud, interpolation='bilinear')\n",
    "plt.axis(\"off\")\n",
    "plt.show()"
   ]
  },
  {
   "cell_type": "code",
   "execution_count": 211,
   "metadata": {},
   "outputs": [
    {
     "name": "stdout",
     "output_type": "stream",
     "text": [
      "['나', '는', '자연어', '처리', '를', '배운다']\n",
      "{'나': 0, '는': 1, '자연어': 2, '처리': 3, '를': 4, '배운다': 5}\n"
     ]
    }
   ],
   "source": [
    "from konlpy.tag import Okt\n",
    "phrase = \"나는 자연어 처리를 배운다\"\n",
    "okt = Okt()\n",
    "token = okt.morphs(phrase)\n",
    "print(token)\n",
    "\n",
    "word_set = {}\n",
    "index = 0\n",
    "for t in token:\n",
    "    if t not in word_set:\n",
    "        word_set[t] = index\n",
    "        index += 1\n",
    "\n",
    "print(word_set)"
   ]
  },
  {
   "cell_type": "code",
   "execution_count": 212,
   "metadata": {},
   "outputs": [
    {
     "name": "stdout",
     "output_type": "stream",
     "text": [
      "[0, 0, 1, 0, 0, 0]\n"
     ]
    }
   ],
   "source": [
    "def one_hot_encoding(word, word_set):\n",
    "    vector = [0] * len(word_set)\n",
    "    index = word_set[word]\n",
    "    vector[index] = 1\n",
    "    return vector\n",
    "print(one_hot_encoding(\"자연어\", word_set))"
   ]
  },
  {
   "cell_type": "code",
   "execution_count": 213,
   "metadata": {},
   "outputs": [],
   "source": [
    "from konlpy.tag import Okt\n",
    "import re\n",
    "# 전처리\n",
    "text1 = \"정부가 발표하는 물가상승률과 소비자가 느끼는 물가상승률은 다르다.\"\n",
    "text1 = re.sub(r\"\\.\", \"\", text1)\n",
    "# 형태소 분리\n",
    "okt = Okt()\n",
    "token = okt.morphs(text1)"
   ]
  },
  {
   "cell_type": "code",
   "execution_count": 214,
   "metadata": {},
   "outputs": [
    {
     "name": "stdout",
     "output_type": "stream",
     "text": [
      "{'정부': 0, '가': 1, '발표': 2, '하는': 3, '물가상승률': 4, '과': 5, '소비자': 6, '느끼는': 7, '은': 8, '다르다': 9}\n"
     ]
    }
   ],
   "source": [
    "bow = {}\n",
    "index = 0\n",
    "for t in token:\n",
    "    if t not in bow:\n",
    "        bow[t] = index\n",
    "        index += 1\n",
    "print(bow)"
   ]
  },
  {
   "cell_type": "code",
   "execution_count": 216,
   "metadata": {},
   "outputs": [
    {
     "name": "stdout",
     "output_type": "stream",
     "text": [
      "[1, 2, 1, 1, 2, 1, 1, 1, 1, 1]\n"
     ]
    }
   ],
   "source": [
    "# 벡터화\n",
    "vec = []\n",
    "for w, i in bow.items():\n",
    "    count = token.count(w)\n",
    "    vec.append(count)\n",
    "print(vec)"
   ]
  },
  {
   "cell_type": "code",
   "execution_count": 217,
   "metadata": {},
   "outputs": [
    {
     "name": "stdout",
     "output_type": "stream",
     "text": [
      "{'나는': 3, '배가': 7, '고프다': 0, '내일': 4, '점심': 8, '뭐먹지': 6, '공부': 1, '해야겠다': 9, '먹고': 5, '공부해야지': 2}\n",
      "10\n"
     ]
    }
   ],
   "source": [
    "from sklearn.feature_extraction.text import CountVectorizer\n",
    "text_data = [\n",
    "'나는 배가 고프다',\n",
    "'내일 점심 뭐먹지',\n",
    "'내일 공부 해야겠다.',\n",
    "'점심 먹고 공부해야지'\n",
    "]\n",
    "# 단어 사전 구성\n",
    "# countvectorizer의 fit에서 자동으로 단어의 중복을 제거하여 가방을 생성함\n",
    "count_vectorizer = CountVectorizer() # 객체 생성\n",
    "count_vectorizer.fit(text_data)\n",
    "# 단어 목록 생성\n",
    "print(count_vectorizer.vocabulary_)\n",
    "print(len(count_vectorizer.vocabulary_))"
   ]
  },
  {
   "cell_type": "code",
   "execution_count": 218,
   "metadata": {},
   "outputs": [
    {
     "name": "stdout",
     "output_type": "stream",
     "text": [
      "[[1 0 0 1 0 0 0 1 0 0]]\n"
     ]
    }
   ],
   "source": [
    "sentence = [text_data[0]]\n",
    "# 첫 번째 문장\n",
    "vector = count_vectorizer.transform(sentence).toarray()\n",
    "print(vector)"
   ]
  },
  {
   "cell_type": "code",
   "execution_count": 219,
   "metadata": {},
   "outputs": [],
   "source": [
    "# jonghun.yoo@outlook.com"
   ]
  },
  {
   "cell_type": "code",
   "execution_count": 223,
   "metadata": {},
   "outputs": [
    {
     "data": {
      "text/html": [
       "<div>\n",
       "<style scoped>\n",
       "    .dataframe tbody tr th:only-of-type {\n",
       "        vertical-align: middle;\n",
       "    }\n",
       "\n",
       "    .dataframe tbody tr th {\n",
       "        vertical-align: top;\n",
       "    }\n",
       "\n",
       "    .dataframe thead th {\n",
       "        text-align: right;\n",
       "    }\n",
       "</style>\n",
       "<table border=\"1\" class=\"dataframe\">\n",
       "  <thead>\n",
       "    <tr style=\"text-align: right;\">\n",
       "      <th></th>\n",
       "      <th>저</th>\n",
       "      <th>중</th>\n",
       "      <th>고</th>\n",
       "    </tr>\n",
       "  </thead>\n",
       "  <tbody>\n",
       "    <tr>\n",
       "      <td>찬성</td>\n",
       "      <td>182</td>\n",
       "      <td>213</td>\n",
       "      <td>203</td>\n",
       "    </tr>\n",
       "    <tr>\n",
       "      <td>반대</td>\n",
       "      <td>154</td>\n",
       "      <td>138</td>\n",
       "      <td>110</td>\n",
       "    </tr>\n",
       "  </tbody>\n",
       "</table>\n",
       "</div>"
      ],
      "text/plain": [
       "      저    중    고\n",
       "찬성  182  213  203\n",
       "반대  154  138  110"
      ]
     },
     "execution_count": 223,
     "metadata": {},
     "output_type": "execute_result"
    }
   ],
   "source": [
    "xo, xe = [182, 213, 203], [154, 138, 110]\n",
    "xc = pd.DataFrame([xo, xe], columns=['저', '중', '고'], index=['찬성', '반대'])\n",
    "xc"
   ]
  },
  {
   "cell_type": "code",
   "execution_count": 224,
   "metadata": {},
   "outputs": [
    {
     "data": {
      "text/plain": [
       "Power_divergenceResult(statistic=124.47905138339921, pvalue=9.326472968402474e-28)"
      ]
     },
     "execution_count": 224,
     "metadata": {},
     "output_type": "execute_result"
    }
   ],
   "source": [
    "from scipy.stats import chisquare\n",
    "\n",
    "result = chisquare(xo, f_exp=xe)\n",
    "result"
   ]
  },
  {
   "cell_type": "code",
   "execution_count": null,
   "metadata": {},
   "outputs": [],
   "source": []
  }
 ],
 "metadata": {
  "kernelspec": {
   "display_name": "Python 3",
   "language": "python",
   "name": "python3"
  },
  "language_info": {
   "codemirror_mode": {
    "name": "ipython",
    "version": 3
   },
   "file_extension": ".py",
   "mimetype": "text/x-python",
   "name": "python",
   "nbconvert_exporter": "python",
   "pygments_lexer": "ipython3",
   "version": "3.7.4"
  }
 },
 "nbformat": 4,
 "nbformat_minor": 2
}
