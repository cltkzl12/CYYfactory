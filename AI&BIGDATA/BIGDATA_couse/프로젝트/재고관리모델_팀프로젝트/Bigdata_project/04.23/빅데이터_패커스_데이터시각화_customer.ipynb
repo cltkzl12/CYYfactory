{
 "cells": [
  {
   "cell_type": "code",
   "execution_count": 139,
   "metadata": {},
   "outputs": [],
   "source": [
    "import pandas as pd\n",
    "import numpy as np\n",
    "import matplotlib\n",
    "import matplotlib.pyplot as plt\n",
    "import seaborn as sns\n",
    "\n",
    "from scipy import stats\n",
    "import scipy.stats\n",
    "import statsmodels.api as sm\n",
    "from statsmodels.stats.proportion import proportions_ztest\n",
    "\n",
    "from scipy.stats import shapiro"
   ]
  },
  {
   "cell_type": "code",
   "execution_count": 140,
   "metadata": {},
   "outputs": [],
   "source": [
    "from statsmodels.stats.outliers_influence import variance_inflation_factor\n",
    "from sklearn.linear_model import LinearRegression\n",
    "from sklearn.feature_selection import RFE\n",
    "from sklearn.preprocessing import StandardScaler\n",
    "import statsmodels.formula.api as smf\n",
    "from statsmodels.tools.eval_measures import rmse\n",
    "from statsmodels.api import qqplot, add_constant\n",
    "from statsmodels.formula.api import ols"
   ]
  },
  {
   "cell_type": "code",
   "execution_count": 141,
   "metadata": {},
   "outputs": [],
   "source": [
    "import pandas as pd\n",
    "import matplotlib.pyplot as plt\n",
    "import matplotlib\n",
    "\n",
    "from sklearn.tree import export_graphviz\n",
    "import graphviz\n",
    "\n",
    "from sklearn.model_selection import train_test_split\n",
    "from sklearn.tree import DecisionTreeRegressor\n",
    "from sklearn.model_selection import GridSearchCV\n",
    "from sklearn.ensemble import RandomForestRegressor\n",
    "from sklearn.model_selection import GridSearchCV\n",
    "from sklearn.metrics import mean_squared_error\n",
    "\n",
    "from sklearn.metrics import mean_absolute_error\n",
    "\n",
    "from sklearn.ensemble import GradientBoostingRegressor\n",
    "from sklearn.model_selection import GridSearchCV\n"
   ]
  },
  {
   "cell_type": "code",
   "execution_count": 142,
   "metadata": {},
   "outputs": [],
   "source": [
    "plt.rc('font', family='Malgun Gothic')"
   ]
  },
  {
   "cell_type": "markdown",
   "metadata": {},
   "source": [
    "  "
   ]
  },
  {
   "cell_type": "markdown",
   "metadata": {},
   "source": [
    "# 전처리된 customer_merge 데이터 시각화"
   ]
  },
  {
   "cell_type": "code",
   "execution_count": 143,
   "metadata": {
    "scrolled": false
   },
   "outputs": [
    {
     "data": {
      "text/html": [
       "<div>\n",
       "<style scoped>\n",
       "    .dataframe tbody tr th:only-of-type {\n",
       "        vertical-align: middle;\n",
       "    }\n",
       "\n",
       "    .dataframe tbody tr th {\n",
       "        vertical-align: top;\n",
       "    }\n",
       "\n",
       "    .dataframe thead th {\n",
       "        text-align: right;\n",
       "    }\n",
       "</style>\n",
       "<table border=\"1\" class=\"dataframe\">\n",
       "  <thead>\n",
       "    <tr style=\"text-align: right;\">\n",
       "      <th></th>\n",
       "      <th>Unnamed: 0</th>\n",
       "      <th>주문자ID</th>\n",
       "      <th>상품구매금액</th>\n",
       "      <th>나이</th>\n",
       "      <th>성별</th>\n",
       "      <th>유입경로</th>\n",
       "      <th>유입기기</th>\n",
       "      <th>사업자구분</th>\n",
       "      <th>회원구분</th>\n",
       "      <th>가입-최종주문기간</th>\n",
       "      <th>AgeGroup</th>\n",
       "      <th>region</th>\n",
       "    </tr>\n",
       "  </thead>\n",
       "  <tbody>\n",
       "    <tr>\n",
       "      <td>0</td>\n",
       "      <td>0</td>\n",
       "      <td>100304734@n</td>\n",
       "      <td>103300</td>\n",
       "      <td>47</td>\n",
       "      <td>남자</td>\n",
       "      <td>SNS광고</td>\n",
       "      <td>모바일</td>\n",
       "      <td>개인</td>\n",
       "      <td>일반</td>\n",
       "      <td>0</td>\n",
       "      <td>45-49</td>\n",
       "      <td>오프라인</td>\n",
       "    </tr>\n",
       "    <tr>\n",
       "      <td>1</td>\n",
       "      <td>1</td>\n",
       "      <td>1003409866@k</td>\n",
       "      <td>4308520</td>\n",
       "      <td>27</td>\n",
       "      <td>남자</td>\n",
       "      <td>카카오톡광고</td>\n",
       "      <td>모바일</td>\n",
       "      <td>개인</td>\n",
       "      <td>일반</td>\n",
       "      <td>141</td>\n",
       "      <td>25-29</td>\n",
       "      <td>서울특별시</td>\n",
       "    </tr>\n",
       "    <tr>\n",
       "      <td>2</td>\n",
       "      <td>2</td>\n",
       "      <td>100381931@n</td>\n",
       "      <td>71050</td>\n",
       "      <td>41</td>\n",
       "      <td>남자</td>\n",
       "      <td>SNS광고</td>\n",
       "      <td>모바일</td>\n",
       "      <td>개인</td>\n",
       "      <td>일반</td>\n",
       "      <td>102</td>\n",
       "      <td>40-44</td>\n",
       "      <td>대구광역시</td>\n",
       "    </tr>\n",
       "    <tr>\n",
       "      <td>3</td>\n",
       "      <td>3</td>\n",
       "      <td>1004498382@k</td>\n",
       "      <td>76400</td>\n",
       "      <td>47</td>\n",
       "      <td>남자</td>\n",
       "      <td>SNS광고</td>\n",
       "      <td>모바일</td>\n",
       "      <td>개인</td>\n",
       "      <td>일반</td>\n",
       "      <td>0</td>\n",
       "      <td>45-49</td>\n",
       "      <td>경기도</td>\n",
       "    </tr>\n",
       "    <tr>\n",
       "      <td>4</td>\n",
       "      <td>4</td>\n",
       "      <td>1004547839@k</td>\n",
       "      <td>360800</td>\n",
       "      <td>47</td>\n",
       "      <td>남자</td>\n",
       "      <td>블로그광고</td>\n",
       "      <td>PC</td>\n",
       "      <td>개인</td>\n",
       "      <td>일반</td>\n",
       "      <td>0</td>\n",
       "      <td>45-49</td>\n",
       "      <td>전라남도</td>\n",
       "    </tr>\n",
       "  </tbody>\n",
       "</table>\n",
       "</div>"
      ],
      "text/plain": [
       "   Unnamed: 0         주문자ID   상품구매금액  나이  성별    유입경로 유입기기 사업자구분 회원구분  \\\n",
       "0           0   100304734@n   103300  47  남자   SNS광고  모바일    개인   일반   \n",
       "1           1  1003409866@k  4308520  27  남자  카카오톡광고  모바일    개인   일반   \n",
       "2           2   100381931@n    71050  41  남자   SNS광고  모바일    개인   일반   \n",
       "3           3  1004498382@k    76400  47  남자   SNS광고  모바일    개인   일반   \n",
       "4           4  1004547839@k   360800  47  남자   블로그광고   PC    개인   일반   \n",
       "\n",
       "   가입-최종주문기간 AgeGroup region  \n",
       "0          0    45-49   오프라인  \n",
       "1        141    25-29  서울특별시  \n",
       "2        102    40-44  대구광역시  \n",
       "3          0    45-49    경기도  \n",
       "4          0    45-49   전라남도  "
      ]
     },
     "execution_count": 143,
     "metadata": {},
     "output_type": "execute_result"
    }
   ],
   "source": [
    "# customer_merge 데이터 불러오기\n",
    "\n",
    "df_customer_merge = pd.read_csv(\"customer_merge.csv\", engine='python', encoding=\"utf-8\")\n",
    "df_customer_merge.head()"
   ]
  },
  {
   "cell_type": "code",
   "execution_count": 144,
   "metadata": {},
   "outputs": [],
   "source": [
    "# 'Unnamed: 0' 열 제거\n",
    "\n",
    "df_customer_merge = df_customer_merge.drop('Unnamed: 0', axis=1)"
   ]
  },
  {
   "cell_type": "code",
   "execution_count": 145,
   "metadata": {
    "scrolled": true
   },
   "outputs": [
    {
     "data": {
      "text/html": [
       "<div>\n",
       "<style scoped>\n",
       "    .dataframe tbody tr th:only-of-type {\n",
       "        vertical-align: middle;\n",
       "    }\n",
       "\n",
       "    .dataframe tbody tr th {\n",
       "        vertical-align: top;\n",
       "    }\n",
       "\n",
       "    .dataframe thead th {\n",
       "        text-align: right;\n",
       "    }\n",
       "</style>\n",
       "<table border=\"1\" class=\"dataframe\">\n",
       "  <thead>\n",
       "    <tr style=\"text-align: right;\">\n",
       "      <th></th>\n",
       "      <th>상품구매금액</th>\n",
       "      <th>나이</th>\n",
       "      <th>가입-최종주문기간</th>\n",
       "    </tr>\n",
       "  </thead>\n",
       "  <tbody>\n",
       "    <tr>\n",
       "      <td>count</td>\n",
       "      <td>4917.00</td>\n",
       "      <td>4917.00</td>\n",
       "      <td>4917.00</td>\n",
       "    </tr>\n",
       "    <tr>\n",
       "      <td>mean</td>\n",
       "      <td>603171.27</td>\n",
       "      <td>39.29</td>\n",
       "      <td>96.51</td>\n",
       "    </tr>\n",
       "    <tr>\n",
       "      <td>std</td>\n",
       "      <td>1355672.72</td>\n",
       "      <td>8.55</td>\n",
       "      <td>136.54</td>\n",
       "    </tr>\n",
       "    <tr>\n",
       "      <td>min</td>\n",
       "      <td>1320.00</td>\n",
       "      <td>21.00</td>\n",
       "      <td>0.00</td>\n",
       "    </tr>\n",
       "    <tr>\n",
       "      <td>25%</td>\n",
       "      <td>96850.00</td>\n",
       "      <td>32.00</td>\n",
       "      <td>0.00</td>\n",
       "    </tr>\n",
       "    <tr>\n",
       "      <td>50%</td>\n",
       "      <td>205010.00</td>\n",
       "      <td>40.00</td>\n",
       "      <td>17.00</td>\n",
       "    </tr>\n",
       "    <tr>\n",
       "      <td>75%</td>\n",
       "      <td>537560.00</td>\n",
       "      <td>46.00</td>\n",
       "      <td>161.00</td>\n",
       "    </tr>\n",
       "    <tr>\n",
       "      <td>max</td>\n",
       "      <td>28514575.00</td>\n",
       "      <td>92.00</td>\n",
       "      <td>786.00</td>\n",
       "    </tr>\n",
       "  </tbody>\n",
       "</table>\n",
       "</div>"
      ],
      "text/plain": [
       "           상품구매금액      나이  가입-최종주문기간\n",
       "count     4917.00 4917.00    4917.00\n",
       "mean    603171.27   39.29      96.51\n",
       "std    1355672.72    8.55     136.54\n",
       "min       1320.00   21.00       0.00\n",
       "25%      96850.00   32.00       0.00\n",
       "50%     205010.00   40.00      17.00\n",
       "75%     537560.00   46.00     161.00\n",
       "max   28514575.00   92.00     786.00"
      ]
     },
     "execution_count": 145,
     "metadata": {},
     "output_type": "execute_result"
    }
   ],
   "source": [
    "# 상품구매금액 Scientific Notation -> normal notation\n",
    "pd.options.display.float_format = '{:.2f}'.format\n",
    "\n",
    "# 또는 다른 방법\n",
    "# df_customer_merge[\"상품구매금액\"].describe().apply(lambda x: format(x, 'f'))\n",
    "\n",
    "# customer_merge 의 describe\n",
    "df_customer_merge.describe().round(3)"
   ]
  },
  {
   "cell_type": "markdown",
   "metadata": {},
   "source": [
    "# df_customer_merge 이상치 확인"
   ]
  },
  {
   "cell_type": "code",
   "execution_count": 146,
   "metadata": {
    "scrolled": false
   },
   "outputs": [
    {
     "data": {
      "text/plain": [
       "<matplotlib.axes._subplots.AxesSubplot at 0x1ad524b1d48>"
      ]
     },
     "execution_count": 146,
     "metadata": {},
     "output_type": "execute_result"
    },
    {
     "data": {
      "image/png": "[encoded data removed]",
      "text/plain": [
       "<Figure size 1440x720 with 1 Axes>"
      ]
     },
     "metadata": {
      "needs_background": "light"
     },
     "output_type": "display_data"
    }
   ],
   "source": [
    "df_customer_merge.boxplot(figsize=(20,10)) "
   ]
  },
  {
   "cell_type": "markdown",
   "metadata": {},
   "source": [
    "# y=상품구매금액, x=각 컬럼 별 barplot"
   ]
  },
  {
   "cell_type": "code",
   "execution_count": 147,
   "metadata": {},
   "outputs": [
    {
     "data": {
      "text/plain": [
       "<matplotlib.axes._subplots.AxesSubplot at 0x1ad52422548>"
      ]
     },
     "execution_count": 147,
     "metadata": {},
     "output_type": "execute_result"
    },
    {
     "data": {
      "image/png": "[encoded data removed]",
      "text/plain": [
       "<Figure size 576x360 with 1 Axes>"
      ]
     },
     "metadata": {
      "needs_background": "light"
     },
     "output_type": "display_data"
    }
   ],
   "source": [
    "# x = 성별\n",
    "\n",
    "plt.figure(figsize=[8,5])\n",
    "plt.title(\"성별에 따른 상품구매금액\")\n",
    "plt.rc('axes', labelsize=15)\n",
    "plt.rc('axes', titlesize=15)\n",
    "plt.rc('xtick', labelsize=13)\n",
    "plt.rc('ytick', labelsize=12)\n",
    "sns.barplot(data=df_customer_merge, y='상품구매금액', x='성별')"
   ]
  },
  {
   "cell_type": "code",
   "execution_count": 162,
   "metadata": {},
   "outputs": [
    {
     "data": {
      "text/plain": [
       "<matplotlib.axes._subplots.AxesSubplot at 0x1ad52bc2708>"
      ]
     },
     "execution_count": 162,
     "metadata": {},
     "output_type": "execute_result"
    },
    {
     "data": {
      "image/png": "[encoded data removed]",
      "text/plain": [
       "<Figure size 864x504 with 1 Axes>"
      ]
     },
     "metadata": {
      "needs_background": "light"
     },
     "output_type": "display_data"
    }
   ],
   "source": [
    "# x = 사업자구분\n",
    "\n",
    "plt.figure(figsize=[12,7])\n",
    "plt.title(\"사업자구분에 따른 상품구매금액\")\n",
    "plt.rc('axes', labelsize=10)\n",
    "plt.rc('axes', titlesize=15)\n",
    "plt.rc('xtick', labelsize=15)\n",
    "plt.rc('ytick', labelsize=15)\n",
    "sns.barplot(data=df_customer_merge, y='상품구매금액', x='사업자구분')"
   ]
  },
  {
   "cell_type": "code",
   "execution_count": 160,
   "metadata": {
    "scrolled": false
   },
   "outputs": [
    {
     "data": {
      "text/plain": [
       "<matplotlib.axes._subplots.AxesSubplot at 0x1ad528f6788>"
      ]
     },
     "execution_count": 160,
     "metadata": {},
     "output_type": "execute_result"
    },
    {
     "data": {
      "image/png": "[encoded data removed]",
      "text/plain": [
       "<Figure size 864x504 with 1 Axes>"
      ]
     },
     "metadata": {
      "needs_background": "light"
     },
     "output_type": "display_data"
    }
   ],
   "source": [
    "# x = 유입경로\n",
    "\n",
    "plt.figure(figsize=[12,7])\n",
    "plt.title(\"유입경로에 따른 상품구매금액\")\n",
    "plt.rc('axes', labelsize=10)\n",
    "plt.rc('axes', titlesize=15)\n",
    "plt.rc('xtick', labelsize=15)\n",
    "plt.rc('ytick', labelsize=15)\n",
    "sns.barplot(data=df_customer_merge, y='상품구매금액', x='유입경로')"
   ]
  },
  {
   "cell_type": "code",
   "execution_count": 163,
   "metadata": {
    "scrolled": false
   },
   "outputs": [
    {
     "data": {
      "text/plain": [
       "<matplotlib.axes._subplots.AxesSubplot at 0x1ad521d1308>"
      ]
     },
     "execution_count": 163,
     "metadata": {},
     "output_type": "execute_result"
    },
    {
     "data": {
      "image/png": "[encoded data removed]",
      "text/plain": [
       "<Figure size 576x360 with 1 Axes>"
      ]
     },
     "metadata": {
      "needs_background": "light"
     },
     "output_type": "display_data"
    }
   ],
   "source": [
    "# x = 유입기기\n",
    "\n",
    "plt.figure(figsize=[8,5])\n",
    "plt.title(\"유입기기에 따른 상품구매금액\")\n",
    "plt.rc('axes', labelsize=15)\n",
    "plt.rc('axes', titlesize=15)\n",
    "plt.rc('xtick', labelsize=12)\n",
    "plt.rc('ytick', labelsize=12)\n",
    "\n",
    "sns.barplot(data=df_customer_merge, y='상품구매금액', x='유입기기')"
   ]
  },
  {
   "cell_type": "code",
   "execution_count": 150,
   "metadata": {
    "scrolled": false
   },
   "outputs": [
    {
     "data": {
      "text/plain": [
       "<matplotlib.axes._subplots.AxesSubplot at 0x1ad52177c88>"
      ]
     },
     "execution_count": 150,
     "metadata": {},
     "output_type": "execute_result"
    },
    {
     "data": {
      "image/png": "[encoded data removed]",
      "text/plain": [
       "<Figure size 864x360 with 1 Axes>"
      ]
     },
     "metadata": {
      "needs_background": "light"
     },
     "output_type": "display_data"
    }
   ],
   "source": [
    "# x = AgeGroup\n",
    "\n",
    "plt.figure(figsize=[12,5])\n",
    "plt.title(\"AgeGroup에 따른 상품구매금액\")\n",
    "plt.rc('axes', labelsize=15)\n",
    "plt.rc('axes', titlesize=15)\n",
    "plt.rc('xtick', labelsize=15)\n",
    "plt.rc('ytick', labelsize=12)\n",
    "\n",
    "# AgeGroup 오름차순으로 정렬\n",
    "age_group=df_customer_merge.sort_values(by=['AgeGroup'])\n",
    "\n",
    "sns.barplot(data=age_group, y='상품구매금액', x='AgeGroup')"
   ]
  },
  {
   "cell_type": "markdown",
   "metadata": {},
   "source": [
    "상품을 구매한 전체 회원의 상품구매금액이 높은 경우\n",
    "여자회원, 사업자, 인터넷기사광고, PC주문, 70-74나이대"
   ]
  },
  {
   "cell_type": "code",
   "execution_count": null,
   "metadata": {},
   "outputs": [],
   "source": []
  },
  {
   "cell_type": "code",
   "execution_count": null,
   "metadata": {},
   "outputs": [],
   "source": []
  },
  {
   "cell_type": "markdown",
   "metadata": {},
   "source": [
    "# 가입 후 바로 구매한 고객들의 정보로 시각화 "
   ]
  },
  {
   "cell_type": "code",
   "execution_count": 155,
   "metadata": {},
   "outputs": [
    {
     "data": {
      "text/html": [
       "<div>\n",
       "<style scoped>\n",
       "    .dataframe tbody tr th:only-of-type {\n",
       "        vertical-align: middle;\n",
       "    }\n",
       "\n",
       "    .dataframe tbody tr th {\n",
       "        vertical-align: top;\n",
       "    }\n",
       "\n",
       "    .dataframe thead th {\n",
       "        text-align: right;\n",
       "    }\n",
       "</style>\n",
       "<table border=\"1\" class=\"dataframe\">\n",
       "  <thead>\n",
       "    <tr style=\"text-align: right;\">\n",
       "      <th></th>\n",
       "      <th>주문자ID</th>\n",
       "      <th>상품구매금액</th>\n",
       "      <th>나이</th>\n",
       "      <th>성별</th>\n",
       "      <th>유입경로</th>\n",
       "      <th>유입기기</th>\n",
       "      <th>사업자구분</th>\n",
       "      <th>회원구분</th>\n",
       "      <th>가입-최종주문기간</th>\n",
       "      <th>AgeGroup</th>\n",
       "      <th>region</th>\n",
       "    </tr>\n",
       "  </thead>\n",
       "  <tbody>\n",
       "    <tr>\n",
       "      <td>0</td>\n",
       "      <td>100304734@n</td>\n",
       "      <td>103300</td>\n",
       "      <td>47</td>\n",
       "      <td>남자</td>\n",
       "      <td>SNS광고</td>\n",
       "      <td>모바일</td>\n",
       "      <td>개인</td>\n",
       "      <td>일반</td>\n",
       "      <td>0</td>\n",
       "      <td>45-49</td>\n",
       "      <td>오프라인</td>\n",
       "    </tr>\n",
       "    <tr>\n",
       "      <td>3</td>\n",
       "      <td>1004498382@k</td>\n",
       "      <td>76400</td>\n",
       "      <td>47</td>\n",
       "      <td>남자</td>\n",
       "      <td>SNS광고</td>\n",
       "      <td>모바일</td>\n",
       "      <td>개인</td>\n",
       "      <td>일반</td>\n",
       "      <td>0</td>\n",
       "      <td>45-49</td>\n",
       "      <td>경기도</td>\n",
       "    </tr>\n",
       "    <tr>\n",
       "      <td>4</td>\n",
       "      <td>1004547839@k</td>\n",
       "      <td>360800</td>\n",
       "      <td>47</td>\n",
       "      <td>남자</td>\n",
       "      <td>블로그광고</td>\n",
       "      <td>PC</td>\n",
       "      <td>개인</td>\n",
       "      <td>일반</td>\n",
       "      <td>0</td>\n",
       "      <td>45-49</td>\n",
       "      <td>전라남도</td>\n",
       "    </tr>\n",
       "    <tr>\n",
       "      <td>6</td>\n",
       "      <td>10055065@n</td>\n",
       "      <td>200480</td>\n",
       "      <td>48</td>\n",
       "      <td>남자</td>\n",
       "      <td>블로그광고</td>\n",
       "      <td>모바일</td>\n",
       "      <td>개인</td>\n",
       "      <td>일반</td>\n",
       "      <td>0</td>\n",
       "      <td>45-49</td>\n",
       "      <td>대구광역시</td>\n",
       "    </tr>\n",
       "    <tr>\n",
       "      <td>7</td>\n",
       "      <td>1005540326292754@f</td>\n",
       "      <td>60540</td>\n",
       "      <td>47</td>\n",
       "      <td>남자</td>\n",
       "      <td>SNS광고</td>\n",
       "      <td>모바일</td>\n",
       "      <td>개인</td>\n",
       "      <td>일반</td>\n",
       "      <td>0</td>\n",
       "      <td>45-49</td>\n",
       "      <td>대구광역시</td>\n",
       "    </tr>\n",
       "    <tr>\n",
       "      <td>...</td>\n",
       "      <td>...</td>\n",
       "      <td>...</td>\n",
       "      <td>...</td>\n",
       "      <td>...</td>\n",
       "      <td>...</td>\n",
       "      <td>...</td>\n",
       "      <td>...</td>\n",
       "      <td>...</td>\n",
       "      <td>...</td>\n",
       "      <td>...</td>\n",
       "      <td>...</td>\n",
       "    </tr>\n",
       "    <tr>\n",
       "      <td>4905</td>\n",
       "      <td>zibbab</td>\n",
       "      <td>103300</td>\n",
       "      <td>47</td>\n",
       "      <td>남자</td>\n",
       "      <td>전단지광고</td>\n",
       "      <td>모바일</td>\n",
       "      <td>사업자</td>\n",
       "      <td>일반</td>\n",
       "      <td>0</td>\n",
       "      <td>45-49</td>\n",
       "      <td>부산광역시</td>\n",
       "    </tr>\n",
       "    <tr>\n",
       "      <td>4906</td>\n",
       "      <td>ziral29</td>\n",
       "      <td>240660</td>\n",
       "      <td>46</td>\n",
       "      <td>남자</td>\n",
       "      <td>지인추천</td>\n",
       "      <td>모바일</td>\n",
       "      <td>사업자</td>\n",
       "      <td>사업자</td>\n",
       "      <td>0</td>\n",
       "      <td>45-49</td>\n",
       "      <td>경상북도</td>\n",
       "    </tr>\n",
       "    <tr>\n",
       "      <td>4907</td>\n",
       "      <td>zlbearlz</td>\n",
       "      <td>138910</td>\n",
       "      <td>48</td>\n",
       "      <td>남자</td>\n",
       "      <td>블로그광고</td>\n",
       "      <td>모바일</td>\n",
       "      <td>개인</td>\n",
       "      <td>일반</td>\n",
       "      <td>0</td>\n",
       "      <td>45-49</td>\n",
       "      <td>인천광역시</td>\n",
       "    </tr>\n",
       "    <tr>\n",
       "      <td>4912</td>\n",
       "      <td>zxvnm07</td>\n",
       "      <td>94380</td>\n",
       "      <td>45</td>\n",
       "      <td>남자</td>\n",
       "      <td>전단지광고</td>\n",
       "      <td>모바일</td>\n",
       "      <td>사업자</td>\n",
       "      <td>사업자</td>\n",
       "      <td>0</td>\n",
       "      <td>45-49</td>\n",
       "      <td>충청남도</td>\n",
       "    </tr>\n",
       "    <tr>\n",
       "      <td>4916</td>\n",
       "      <td>zzzxkxk91</td>\n",
       "      <td>153650</td>\n",
       "      <td>46</td>\n",
       "      <td>남자</td>\n",
       "      <td>잡지광고</td>\n",
       "      <td>모바일</td>\n",
       "      <td>사업자</td>\n",
       "      <td>사업자</td>\n",
       "      <td>0</td>\n",
       "      <td>45-49</td>\n",
       "      <td>울산광역시</td>\n",
       "    </tr>\n",
       "  </tbody>\n",
       "</table>\n",
       "<p>2011 rows × 11 columns</p>\n",
       "</div>"
      ],
      "text/plain": [
       "                   주문자ID  상품구매금액  나이  성별   유입경로 유입기기 사업자구분 회원구분  가입-최종주문기간  \\\n",
       "0            100304734@n  103300  47  남자  SNS광고  모바일    개인   일반          0   \n",
       "3           1004498382@k   76400  47  남자  SNS광고  모바일    개인   일반          0   \n",
       "4           1004547839@k  360800  47  남자  블로그광고   PC    개인   일반          0   \n",
       "6             10055065@n  200480  48  남자  블로그광고  모바일    개인   일반          0   \n",
       "7     1005540326292754@f   60540  47  남자  SNS광고  모바일    개인   일반          0   \n",
       "...                  ...     ...  ..  ..    ...  ...   ...  ...        ...   \n",
       "4905              zibbab  103300  47  남자  전단지광고  모바일   사업자   일반          0   \n",
       "4906             ziral29  240660  46  남자   지인추천  모바일   사업자  사업자          0   \n",
       "4907            zlbearlz  138910  48  남자  블로그광고  모바일    개인   일반          0   \n",
       "4912             zxvnm07   94380  45  남자  전단지광고  모바일   사업자  사업자          0   \n",
       "4916           zzzxkxk91  153650  46  남자   잡지광고  모바일   사업자  사업자          0   \n",
       "\n",
       "     AgeGroup region  \n",
       "0       45-49   오프라인  \n",
       "3       45-49    경기도  \n",
       "4       45-49   전라남도  \n",
       "6       45-49  대구광역시  \n",
       "7       45-49  대구광역시  \n",
       "...       ...    ...  \n",
       "4905    45-49  부산광역시  \n",
       "4906    45-49   경상북도  \n",
       "4907    45-49  인천광역시  \n",
       "4912    45-49   충청남도  \n",
       "4916    45-49  울산광역시  \n",
       "\n",
       "[2011 rows x 11 columns]"
      ]
     },
     "execution_count": 155,
     "metadata": {},
     "output_type": "execute_result"
    }
   ],
   "source": [
    "df_customer_merge2 = df_customer_merge[df_customer_merge['가입-최종주문기간'] == 0]\n",
    "df_customer_merge2"
   ]
  },
  {
   "cell_type": "code",
   "execution_count": 156,
   "metadata": {},
   "outputs": [
    {
     "name": "stdout",
     "output_type": "stream",
     "text": [
      "회원가입 후 당일 구매 고객\n"
     ]
    },
    {
     "data": {
      "text/plain": [
       "<matplotlib.axes._subplots.AxesSubplot at 0x1ad52592448>"
      ]
     },
     "execution_count": 156,
     "metadata": {},
     "output_type": "execute_result"
    },
    {
     "data": {
      "image/png": "[encoded data removed]",
      "text/plain": [
       "<Figure size 576x360 with 1 Axes>"
      ]
     },
     "metadata": {
      "needs_background": "light"
     },
     "output_type": "display_data"
    }
   ],
   "source": [
    "# x = 유입기기\n",
    "\n",
    "plt.figure(figsize=[8,5])\n",
    "plt.title(\"유입기기에 따른 상품구매금액\")\n",
    "plt.rc('axes', labelsize=15)\n",
    "plt.rc('axes', titlesize=15)\n",
    "plt.rc('xtick', labelsize=15)\n",
    "plt.rc('ytick', labelsize=12)\n",
    "\n",
    "print(\"회원가입 후 당일 구매 고객\")\n",
    "sns.barplot(data=df_customer_merge2, y='상품구매금액', x='유입기기')"
   ]
  },
  {
   "cell_type": "code",
   "execution_count": 166,
   "metadata": {},
   "outputs": [
    {
     "name": "stdout",
     "output_type": "stream",
     "text": [
      "회원가입 후 당일 구매 고객\n"
     ]
    },
    {
     "data": {
      "text/plain": [
       "<matplotlib.axes._subplots.AxesSubplot at 0x1ad520faec8>"
      ]
     },
     "execution_count": 166,
     "metadata": {},
     "output_type": "execute_result"
    },
    {
     "data": {
      "image/png": "[encoded data removed]",
      "text/plain": [
       "<Figure size 576x360 with 1 Axes>"
      ]
     },
     "metadata": {
      "needs_background": "light"
     },
     "output_type": "display_data"
    }
   ],
   "source": [
    "# x = 사업자구분\n",
    "\n",
    "plt.figure(figsize=[8,5])\n",
    "plt.title(\"사업자구분에 따른 상품구매금액\")\n",
    "plt.rc('axes', labelsize=15)\n",
    "plt.rc('axes', titlesize=15)\n",
    "plt.rc('xtick', labelsize=12)\n",
    "plt.rc('ytick', labelsize=12)\n",
    "\n",
    "print(\"회원가입 후 당일 구매 고객\")\n",
    "sns.barplot(data=df_customer_merge2, y='상품구매금액', x='사업자구분')"
   ]
  },
  {
   "cell_type": "code",
   "execution_count": 169,
   "metadata": {},
   "outputs": [
    {
     "name": "stdout",
     "output_type": "stream",
     "text": [
      "회원가입 후 당일 구매 고객\n"
     ]
    },
    {
     "data": {
      "text/plain": [
       "<matplotlib.axes._subplots.AxesSubplot at 0x1ad52f2c848>"
      ]
     },
     "execution_count": 169,
     "metadata": {},
     "output_type": "execute_result"
    },
    {
     "data": {
      "image/png": "[encoded data removed]",
      "text/plain": [
       "<Figure size 864x360 with 1 Axes>"
      ]
     },
     "metadata": {
      "needs_background": "light"
     },
     "output_type": "display_data"
    }
   ],
   "source": [
    "# x = 유입경로\n",
    "\n",
    "plt.figure(figsize=[12,5])\n",
    "plt.title(\"유입경로에 따른 상품구매금액\")\n",
    "plt.rc('axes', labelsize=15)\n",
    "plt.rc('axes', titlesize=15)\n",
    "plt.rc('xtick', labelsize=9)\n",
    "plt.rc('ytick', labelsize=12)\n",
    "\n",
    "print(\"회원가입 후 당일 구매 고객\")\n",
    "sns.barplot(data=df_customer_merge2, y='상품구매금액', x='유입경로')"
   ]
  },
  {
   "cell_type": "code",
   "execution_count": 171,
   "metadata": {
    "scrolled": false
   },
   "outputs": [
    {
     "name": "stdout",
     "output_type": "stream",
     "text": [
      "회원가입 후 당일 구매 고객\n"
     ]
    },
    {
     "data": {
      "text/plain": [
       "<matplotlib.axes._subplots.AxesSubplot at 0x1ad53161088>"
      ]
     },
     "execution_count": 171,
     "metadata": {},
     "output_type": "execute_result"
    },
    {
     "data": {
      "image/png": "[encoded data removed]",
      "text/plain": [
       "<Figure size 864x360 with 1 Axes>"
      ]
     },
     "metadata": {
      "needs_background": "light"
     },
     "output_type": "display_data"
    }
   ],
   "source": [
    "# x = AgeGroup\n",
    "\n",
    "plt.figure(figsize=[12,5])\n",
    "plt.title(\"AgeGroup에 따른 상품구매금액\")\n",
    "plt.rc('axes', labelsize=15)\n",
    "plt.rc('axes', titlesize=15)\n",
    "plt.rc('xtick', labelsize=15)\n",
    "plt.rc('ytick', labelsize=12)\n",
    "\n",
    "# AgeGroup 오름차순으로 정렬\n",
    "age_group2=df_customer_merge2.sort_values(by=['AgeGroup'])\n",
    "\n",
    "print(\"회원가입 후 당일 구매 고객\")\n",
    "sns.barplot(data=age_group2, y='상품구매금액', x='AgeGroup')"
   ]
  },
  {
   "cell_type": "code",
   "execution_count": 172,
   "metadata": {},
   "outputs": [
    {
     "data": {
      "text/plain": [
       "<matplotlib.axes._subplots.AxesSubplot at 0x1ad53156b08>"
      ]
     },
     "execution_count": 172,
     "metadata": {},
     "output_type": "execute_result"
    },
    {
     "data": {
      "image/png": "[encoded data removed]",
      "text/plain": [
       "<Figure size 576x360 with 1 Axes>"
      ]
     },
     "metadata": {
      "needs_background": "light"
     },
     "output_type": "display_data"
    }
   ],
   "source": [
    "# x = 성별\n",
    "\n",
    "plt.figure(figsize=[8,5])\n",
    "plt.title(\"성별에 따른 상품구매금액\")\n",
    "plt.rc('axes', labelsize=15)\n",
    "plt.rc('axes', titlesize=15)\n",
    "plt.rc('xtick', labelsize=13)\n",
    "plt.rc('ytick', labelsize=12)\n",
    "sns.barplot(data=df_customer_merge2, y='상품구매금액', x='성별')"
   ]
  },
  {
   "cell_type": "markdown",
   "metadata": {},
   "source": [
    "신규고객 중 회원가입 후 당일 구매한 고객의 특성은\n",
    "75-79 나이대의 고객 중 신문광고를 통해 웹으로 접속한 남자 사업자인 경우가 상품구매금액이 높았다."
   ]
  },
  {
   "cell_type": "code",
   "execution_count": null,
   "metadata": {},
   "outputs": [],
   "source": []
  },
  {
   "cell_type": "markdown",
   "metadata": {},
   "source": [
    "# #"
   ]
  },
  {
   "cell_type": "code",
   "execution_count": 78,
   "metadata": {},
   "outputs": [
    {
     "data": {
      "text/html": [
       "<div>\n",
       "<style scoped>\n",
       "    .dataframe tbody tr th:only-of-type {\n",
       "        vertical-align: middle;\n",
       "    }\n",
       "\n",
       "    .dataframe tbody tr th {\n",
       "        vertical-align: top;\n",
       "    }\n",
       "\n",
       "    .dataframe thead th {\n",
       "        text-align: right;\n",
       "    }\n",
       "</style>\n",
       "<table border=\"1\" class=\"dataframe\">\n",
       "  <thead>\n",
       "    <tr style=\"text-align: right;\">\n",
       "      <th></th>\n",
       "      <th>Unnamed: 0</th>\n",
       "      <th>Unnamed: 0.1</th>\n",
       "      <th>Unnamed: 0.1.1</th>\n",
       "      <th>결제수단</th>\n",
       "      <th>공급원가</th>\n",
       "      <th>교환구분</th>\n",
       "      <th>네이버 포인트</th>\n",
       "      <th>배송번호</th>\n",
       "      <th>배송비 정보</th>\n",
       "      <th>배송시작일</th>\n",
       "      <th>...</th>\n",
       "      <th>주문 시 회원등급</th>\n",
       "      <th>주문경로</th>\n",
       "      <th>주문번호</th>\n",
       "      <th>주문일시</th>\n",
       "      <th>주문자ID</th>\n",
       "      <th>카드사</th>\n",
       "      <th>쿠폰 할인금액</th>\n",
       "      <th>판매가</th>\n",
       "      <th>품목번호</th>\n",
       "      <th>주문년월</th>\n",
       "    </tr>\n",
       "  </thead>\n",
       "  <tbody>\n",
       "    <tr>\n",
       "      <td>0</td>\n",
       "      <td>0</td>\n",
       "      <td>0</td>\n",
       "      <td>0</td>\n",
       "      <td>무통장입금</td>\n",
       "      <td>44550</td>\n",
       "      <td>교환안함</td>\n",
       "      <td>0</td>\n",
       "      <td>D-20181227-0000648-00</td>\n",
       "      <td>무료</td>\n",
       "      <td>2019-01-07 오전 8:56</td>\n",
       "      <td>...</td>\n",
       "      <td>전화주문 고객</td>\n",
       "      <td>PC쇼핑몰</td>\n",
       "      <td>20181227-0000648</td>\n",
       "      <td>2018-12-27 오후 2:54</td>\n",
       "      <td>pp683</td>\n",
       "      <td>기타</td>\n",
       "      <td>0</td>\n",
       "      <td>71450</td>\n",
       "      <td>42602</td>\n",
       "      <td>1812</td>\n",
       "    </tr>\n",
       "    <tr>\n",
       "      <td>1</td>\n",
       "      <td>1</td>\n",
       "      <td>1</td>\n",
       "      <td>1</td>\n",
       "      <td>무통장입금</td>\n",
       "      <td>44000</td>\n",
       "      <td>교환안함</td>\n",
       "      <td>0</td>\n",
       "      <td>D-20181229-0000119-00</td>\n",
       "      <td>무료</td>\n",
       "      <td>2019-01-03 오전 9:30</td>\n",
       "      <td>...</td>\n",
       "      <td>일반</td>\n",
       "      <td>모바일웹</td>\n",
       "      <td>20181229-0000119</td>\n",
       "      <td>2018-12-29 오후 1:22</td>\n",
       "      <td>asd0908</td>\n",
       "      <td>기타</td>\n",
       "      <td>0</td>\n",
       "      <td>70620</td>\n",
       "      <td>42930</td>\n",
       "      <td>1812</td>\n",
       "    </tr>\n",
       "    <tr>\n",
       "      <td>2</td>\n",
       "      <td>2</td>\n",
       "      <td>2</td>\n",
       "      <td>2</td>\n",
       "      <td>무통장입금</td>\n",
       "      <td>6820</td>\n",
       "      <td>교환안함</td>\n",
       "      <td>0</td>\n",
       "      <td>D-20181230-0000100-00</td>\n",
       "      <td>무료</td>\n",
       "      <td>2019-01-03 오전 9:30</td>\n",
       "      <td>...</td>\n",
       "      <td>비회원</td>\n",
       "      <td>모바일웹</td>\n",
       "      <td>20181230-0000100</td>\n",
       "      <td>2018-12-30 오후 3:15</td>\n",
       "      <td>unsinged_0</td>\n",
       "      <td>기타</td>\n",
       "      <td>0</td>\n",
       "      <td>13910</td>\n",
       "      <td>42998</td>\n",
       "      <td>1812</td>\n",
       "    </tr>\n",
       "    <tr>\n",
       "      <td>3</td>\n",
       "      <td>3</td>\n",
       "      <td>3</td>\n",
       "      <td>3</td>\n",
       "      <td>무통장입금</td>\n",
       "      <td>49500</td>\n",
       "      <td>교환안함</td>\n",
       "      <td>0</td>\n",
       "      <td>D-20181231-0000087-00</td>\n",
       "      <td>무료</td>\n",
       "      <td>2019-01-03 오전 9:30</td>\n",
       "      <td>...</td>\n",
       "      <td>일반</td>\n",
       "      <td>모바일웹</td>\n",
       "      <td>20181231-0000087</td>\n",
       "      <td>2018-12-31 오전 10:30</td>\n",
       "      <td>23533593@n</td>\n",
       "      <td>기타</td>\n",
       "      <td>0</td>\n",
       "      <td>81600</td>\n",
       "      <td>43063</td>\n",
       "      <td>1812</td>\n",
       "    </tr>\n",
       "    <tr>\n",
       "      <td>4</td>\n",
       "      <td>4</td>\n",
       "      <td>4</td>\n",
       "      <td>4</td>\n",
       "      <td>무통장입금</td>\n",
       "      <td>61600</td>\n",
       "      <td>교환안함</td>\n",
       "      <td>0</td>\n",
       "      <td>D-20181231-0000108-00</td>\n",
       "      <td>무료</td>\n",
       "      <td>2019-01-07 오전 8:56</td>\n",
       "      <td>...</td>\n",
       "      <td>사업자</td>\n",
       "      <td>모바일웹</td>\n",
       "      <td>20181231-0000108</td>\n",
       "      <td>2018-12-31 오전 10:43</td>\n",
       "      <td>romandoll</td>\n",
       "      <td>기타</td>\n",
       "      <td>0</td>\n",
       "      <td>94710</td>\n",
       "      <td>43066</td>\n",
       "      <td>1812</td>\n",
       "    </tr>\n",
       "  </tbody>\n",
       "</table>\n",
       "<p>5 rows × 28 columns</p>\n",
       "</div>"
      ],
      "text/plain": [
       "   Unnamed: 0  Unnamed: 0.1  Unnamed: 0.1.1   결제수단   공급원가  교환구분  네이버 포인트  \\\n",
       "0           0             0               0  무통장입금  44550  교환안함        0   \n",
       "1           1             1               1  무통장입금  44000  교환안함        0   \n",
       "2           2             2               2  무통장입금   6820  교환안함        0   \n",
       "3           3             3               3  무통장입금  49500  교환안함        0   \n",
       "4           4             4               4  무통장입금  61600  교환안함        0   \n",
       "\n",
       "                    배송번호 배송비 정보               배송시작일  ... 주문 시 회원등급   주문경로  \\\n",
       "0  D-20181227-0000648-00     무료  2019-01-07 오전 8:56  ...   전화주문 고객  PC쇼핑몰   \n",
       "1  D-20181229-0000119-00     무료  2019-01-03 오전 9:30  ...        일반   모바일웹   \n",
       "2  D-20181230-0000100-00     무료  2019-01-03 오전 9:30  ...       비회원   모바일웹   \n",
       "3  D-20181231-0000087-00     무료  2019-01-03 오전 9:30  ...        일반   모바일웹   \n",
       "4  D-20181231-0000108-00     무료  2019-01-07 오전 8:56  ...       사업자   모바일웹   \n",
       "\n",
       "               주문번호                 주문일시       주문자ID  카드사  쿠폰 할인금액    판매가  \\\n",
       "0  20181227-0000648   2018-12-27 오후 2:54       pp683   기타        0  71450   \n",
       "1  20181229-0000119   2018-12-29 오후 1:22     asd0908   기타        0  70620   \n",
       "2  20181230-0000100   2018-12-30 오후 3:15  unsinged_0   기타        0  13910   \n",
       "3  20181231-0000087  2018-12-31 오전 10:30  23533593@n   기타        0  81600   \n",
       "4  20181231-0000108  2018-12-31 오전 10:43   romandoll   기타        0  94710   \n",
       "\n",
       "    품목번호  주문년월  \n",
       "0  42602  1812  \n",
       "1  42930  1812  \n",
       "2  42998  1812  \n",
       "3  43063  1812  \n",
       "4  43066  1812  \n",
       "\n",
       "[5 rows x 28 columns]"
      ]
     },
     "execution_count": 78,
     "metadata": {},
     "output_type": "execute_result"
    }
   ],
   "source": [
    "# order_preprocess_sheet 데이터 불러오기\n",
    "\n",
    "df_order_pre = pd.read_csv(\"order_preprocess_sheet.csv\", engine='python', encoding=\"utf-8\")\n",
    "df_order_pre.head()"
   ]
  },
  {
   "cell_type": "code",
   "execution_count": 81,
   "metadata": {},
   "outputs": [
    {
     "data": {
      "text/plain": [
       "Index(['Unnamed: 0', 'Unnamed: 0.1', 'Unnamed: 0.1.1', '결제수단', '공급원가', '교환구분',\n",
       "       '네이버 포인트', '배송번호', '배송비 정보', '배송시작일', '배송완료일', '사용한 적립금액', '상품구매금액',\n",
       "       '상품명', '상품번호', '상품별 추가할인금액', '수량', '수령인 주소', '주문 시 회원등급', '주문경로',\n",
       "       '주문번호', '주문일시', '주문자ID', '카드사', '쿠폰 할인금액', '판매가', '품목번호', '주문년월'],\n",
       "      dtype='object')"
      ]
     },
     "execution_count": 81,
     "metadata": {},
     "output_type": "execute_result"
    }
   ],
   "source": [
    "df_order_pre.columns"
   ]
  },
  {
   "cell_type": "code",
   "execution_count": 85,
   "metadata": {},
   "outputs": [
    {
     "data": {
      "text/html": [
       "<div>\n",
       "<style scoped>\n",
       "    .dataframe tbody tr th:only-of-type {\n",
       "        vertical-align: middle;\n",
       "    }\n",
       "\n",
       "    .dataframe tbody tr th {\n",
       "        vertical-align: top;\n",
       "    }\n",
       "\n",
       "    .dataframe thead th {\n",
       "        text-align: right;\n",
       "    }\n",
       "</style>\n",
       "<table border=\"1\" class=\"dataframe\">\n",
       "  <thead>\n",
       "    <tr style=\"text-align: right;\">\n",
       "      <th></th>\n",
       "      <th>주문년월</th>\n",
       "      <th>주문경로</th>\n",
       "      <th>결제수단</th>\n",
       "    </tr>\n",
       "  </thead>\n",
       "  <tbody>\n",
       "    <tr>\n",
       "      <td>0</td>\n",
       "      <td>1701</td>\n",
       "      <td>PC쇼핑몰</td>\n",
       "      <td>3</td>\n",
       "    </tr>\n",
       "    <tr>\n",
       "      <td>1</td>\n",
       "      <td>1701</td>\n",
       "      <td>모바일웹</td>\n",
       "      <td>1</td>\n",
       "    </tr>\n",
       "    <tr>\n",
       "      <td>2</td>\n",
       "      <td>1702</td>\n",
       "      <td>PC쇼핑몰</td>\n",
       "      <td>14</td>\n",
       "    </tr>\n",
       "    <tr>\n",
       "      <td>3</td>\n",
       "      <td>1702</td>\n",
       "      <td>네이버 페이</td>\n",
       "      <td>5</td>\n",
       "    </tr>\n",
       "    <tr>\n",
       "      <td>4</td>\n",
       "      <td>1702</td>\n",
       "      <td>모바일웹</td>\n",
       "      <td>7</td>\n",
       "    </tr>\n",
       "    <tr>\n",
       "      <td>...</td>\n",
       "      <td>...</td>\n",
       "      <td>...</td>\n",
       "      <td>...</td>\n",
       "    </tr>\n",
       "    <tr>\n",
       "      <td>83</td>\n",
       "      <td>1905</td>\n",
       "      <td>PC쇼핑몰</td>\n",
       "      <td>1819</td>\n",
       "    </tr>\n",
       "    <tr>\n",
       "      <td>84</td>\n",
       "      <td>1905</td>\n",
       "      <td>네이버 페이</td>\n",
       "      <td>89</td>\n",
       "    </tr>\n",
       "    <tr>\n",
       "      <td>85</td>\n",
       "      <td>1905</td>\n",
       "      <td>모바일웹</td>\n",
       "      <td>1688</td>\n",
       "    </tr>\n",
       "    <tr>\n",
       "      <td>86</td>\n",
       "      <td>1906</td>\n",
       "      <td>네이버 페이</td>\n",
       "      <td>1</td>\n",
       "    </tr>\n",
       "    <tr>\n",
       "      <td>87</td>\n",
       "      <td>1906</td>\n",
       "      <td>모바일웹</td>\n",
       "      <td>7</td>\n",
       "    </tr>\n",
       "  </tbody>\n",
       "</table>\n",
       "<p>88 rows × 3 columns</p>\n",
       "</div>"
      ],
      "text/plain": [
       "    주문년월    주문경로  결제수단\n",
       "0   1701   PC쇼핑몰     3\n",
       "1   1701    모바일웹     1\n",
       "2   1702   PC쇼핑몰    14\n",
       "3   1702  네이버 페이     5\n",
       "4   1702    모바일웹     7\n",
       "..   ...     ...   ...\n",
       "83  1905   PC쇼핑몰  1819\n",
       "84  1905  네이버 페이    89\n",
       "85  1905    모바일웹  1688\n",
       "86  1906  네이버 페이     1\n",
       "87  1906    모바일웹     7\n",
       "\n",
       "[88 rows x 3 columns]"
      ]
     },
     "execution_count": 85,
     "metadata": {},
     "output_type": "execute_result"
    }
   ],
   "source": [
    "# 주문년월에 따른 주문경로 이용추이를 보기위해 새로운 피봇테이블 만들기\n",
    "\n",
    "df_order_pre_route = pd.pivot_table(data=df_order_pre, index=('주문년월','주문경로'),values=['결제수단'],aggfunc='count').reset_index()\n",
    "df_order_pre_route"
   ]
  },
  {
   "cell_type": "code",
   "execution_count": 87,
   "metadata": {},
   "outputs": [
    {
     "data": {
      "text/html": [
       "<div>\n",
       "<style scoped>\n",
       "    .dataframe tbody tr th:only-of-type {\n",
       "        vertical-align: middle;\n",
       "    }\n",
       "\n",
       "    .dataframe tbody tr th {\n",
       "        vertical-align: top;\n",
       "    }\n",
       "\n",
       "    .dataframe thead th {\n",
       "        text-align: right;\n",
       "    }\n",
       "</style>\n",
       "<table border=\"1\" class=\"dataframe\">\n",
       "  <thead>\n",
       "    <tr style=\"text-align: right;\">\n",
       "      <th></th>\n",
       "      <th>주문년월</th>\n",
       "      <th>주문경로</th>\n",
       "      <th>이용빈도</th>\n",
       "    </tr>\n",
       "  </thead>\n",
       "  <tbody>\n",
       "    <tr>\n",
       "      <td>0</td>\n",
       "      <td>1701</td>\n",
       "      <td>PC쇼핑몰</td>\n",
       "      <td>3</td>\n",
       "    </tr>\n",
       "    <tr>\n",
       "      <td>1</td>\n",
       "      <td>1701</td>\n",
       "      <td>모바일웹</td>\n",
       "      <td>1</td>\n",
       "    </tr>\n",
       "    <tr>\n",
       "      <td>2</td>\n",
       "      <td>1702</td>\n",
       "      <td>PC쇼핑몰</td>\n",
       "      <td>14</td>\n",
       "    </tr>\n",
       "    <tr>\n",
       "      <td>3</td>\n",
       "      <td>1702</td>\n",
       "      <td>네이버 페이</td>\n",
       "      <td>5</td>\n",
       "    </tr>\n",
       "    <tr>\n",
       "      <td>4</td>\n",
       "      <td>1702</td>\n",
       "      <td>모바일웹</td>\n",
       "      <td>7</td>\n",
       "    </tr>\n",
       "    <tr>\n",
       "      <td>...</td>\n",
       "      <td>...</td>\n",
       "      <td>...</td>\n",
       "      <td>...</td>\n",
       "    </tr>\n",
       "    <tr>\n",
       "      <td>83</td>\n",
       "      <td>1905</td>\n",
       "      <td>PC쇼핑몰</td>\n",
       "      <td>1819</td>\n",
       "    </tr>\n",
       "    <tr>\n",
       "      <td>84</td>\n",
       "      <td>1905</td>\n",
       "      <td>네이버 페이</td>\n",
       "      <td>89</td>\n",
       "    </tr>\n",
       "    <tr>\n",
       "      <td>85</td>\n",
       "      <td>1905</td>\n",
       "      <td>모바일웹</td>\n",
       "      <td>1688</td>\n",
       "    </tr>\n",
       "    <tr>\n",
       "      <td>86</td>\n",
       "      <td>1906</td>\n",
       "      <td>네이버 페이</td>\n",
       "      <td>1</td>\n",
       "    </tr>\n",
       "    <tr>\n",
       "      <td>87</td>\n",
       "      <td>1906</td>\n",
       "      <td>모바일웹</td>\n",
       "      <td>7</td>\n",
       "    </tr>\n",
       "  </tbody>\n",
       "</table>\n",
       "<p>88 rows × 3 columns</p>\n",
       "</div>"
      ],
      "text/plain": [
       "    주문년월    주문경로  이용빈도\n",
       "0   1701   PC쇼핑몰     3\n",
       "1   1701    모바일웹     1\n",
       "2   1702   PC쇼핑몰    14\n",
       "3   1702  네이버 페이     5\n",
       "4   1702    모바일웹     7\n",
       "..   ...     ...   ...\n",
       "83  1905   PC쇼핑몰  1819\n",
       "84  1905  네이버 페이    89\n",
       "85  1905    모바일웹  1688\n",
       "86  1906  네이버 페이     1\n",
       "87  1906    모바일웹     7\n",
       "\n",
       "[88 rows x 3 columns]"
      ]
     },
     "execution_count": 87,
     "metadata": {},
     "output_type": "execute_result"
    }
   ],
   "source": [
    "# \"결제수단\" 열 이름을 \"이용빈도\"로 바꿈(barplot 그리기 위한 테이블)\n",
    "\n",
    "df_order_pre_route.rename(columns = {\"결제수단\": \"이용빈도\"}, inplace = True)\n",
    "df_order_pre_route"
   ]
  },
  {
   "cell_type": "code",
   "execution_count": 118,
   "metadata": {},
   "outputs": [
    {
     "data": {
      "text/html": [
       "<div>\n",
       "<style scoped>\n",
       "    .dataframe tbody tr th:only-of-type {\n",
       "        vertical-align: middle;\n",
       "    }\n",
       "\n",
       "    .dataframe tbody tr th {\n",
       "        vertical-align: top;\n",
       "    }\n",
       "\n",
       "    .dataframe thead th {\n",
       "        text-align: right;\n",
       "    }\n",
       "</style>\n",
       "<table border=\"1\" class=\"dataframe\">\n",
       "  <thead>\n",
       "    <tr style=\"text-align: right;\">\n",
       "      <th></th>\n",
       "      <th>주문년월</th>\n",
       "      <th>이용빈도</th>\n",
       "    </tr>\n",
       "  </thead>\n",
       "  <tbody>\n",
       "    <tr>\n",
       "      <td>0</td>\n",
       "      <td>1701</td>\n",
       "      <td>4</td>\n",
       "    </tr>\n",
       "    <tr>\n",
       "      <td>1</td>\n",
       "      <td>1702</td>\n",
       "      <td>26</td>\n",
       "    </tr>\n",
       "    <tr>\n",
       "      <td>2</td>\n",
       "      <td>1703</td>\n",
       "      <td>42</td>\n",
       "    </tr>\n",
       "    <tr>\n",
       "      <td>3</td>\n",
       "      <td>1704</td>\n",
       "      <td>48</td>\n",
       "    </tr>\n",
       "    <tr>\n",
       "      <td>4</td>\n",
       "      <td>1705</td>\n",
       "      <td>85</td>\n",
       "    </tr>\n",
       "    <tr>\n",
       "      <td>5</td>\n",
       "      <td>1706</td>\n",
       "      <td>126</td>\n",
       "    </tr>\n",
       "    <tr>\n",
       "      <td>6</td>\n",
       "      <td>1707</td>\n",
       "      <td>172</td>\n",
       "    </tr>\n",
       "    <tr>\n",
       "      <td>7</td>\n",
       "      <td>1708</td>\n",
       "      <td>155</td>\n",
       "    </tr>\n",
       "    <tr>\n",
       "      <td>8</td>\n",
       "      <td>1709</td>\n",
       "      <td>167</td>\n",
       "    </tr>\n",
       "    <tr>\n",
       "      <td>9</td>\n",
       "      <td>1710</td>\n",
       "      <td>155</td>\n",
       "    </tr>\n",
       "    <tr>\n",
       "      <td>10</td>\n",
       "      <td>1711</td>\n",
       "      <td>272</td>\n",
       "    </tr>\n",
       "    <tr>\n",
       "      <td>11</td>\n",
       "      <td>1712</td>\n",
       "      <td>294</td>\n",
       "    </tr>\n",
       "    <tr>\n",
       "      <td>12</td>\n",
       "      <td>1801</td>\n",
       "      <td>741</td>\n",
       "    </tr>\n",
       "    <tr>\n",
       "      <td>13</td>\n",
       "      <td>1802</td>\n",
       "      <td>587</td>\n",
       "    </tr>\n",
       "    <tr>\n",
       "      <td>14</td>\n",
       "      <td>1803</td>\n",
       "      <td>850</td>\n",
       "    </tr>\n",
       "    <tr>\n",
       "      <td>15</td>\n",
       "      <td>1804</td>\n",
       "      <td>1399</td>\n",
       "    </tr>\n",
       "    <tr>\n",
       "      <td>16</td>\n",
       "      <td>1805</td>\n",
       "      <td>2099</td>\n",
       "    </tr>\n",
       "    <tr>\n",
       "      <td>17</td>\n",
       "      <td>1806</td>\n",
       "      <td>2024</td>\n",
       "    </tr>\n",
       "    <tr>\n",
       "      <td>18</td>\n",
       "      <td>1807</td>\n",
       "      <td>2686</td>\n",
       "    </tr>\n",
       "    <tr>\n",
       "      <td>19</td>\n",
       "      <td>1808</td>\n",
       "      <td>3079</td>\n",
       "    </tr>\n",
       "    <tr>\n",
       "      <td>20</td>\n",
       "      <td>1809</td>\n",
       "      <td>2349</td>\n",
       "    </tr>\n",
       "    <tr>\n",
       "      <td>21</td>\n",
       "      <td>1810</td>\n",
       "      <td>3716</td>\n",
       "    </tr>\n",
       "    <tr>\n",
       "      <td>22</td>\n",
       "      <td>1811</td>\n",
       "      <td>3991</td>\n",
       "    </tr>\n",
       "    <tr>\n",
       "      <td>23</td>\n",
       "      <td>1812</td>\n",
       "      <td>4078</td>\n",
       "    </tr>\n",
       "    <tr>\n",
       "      <td>24</td>\n",
       "      <td>1901</td>\n",
       "      <td>3460</td>\n",
       "    </tr>\n",
       "    <tr>\n",
       "      <td>25</td>\n",
       "      <td>1902</td>\n",
       "      <td>2933</td>\n",
       "    </tr>\n",
       "    <tr>\n",
       "      <td>26</td>\n",
       "      <td>1903</td>\n",
       "      <td>3622</td>\n",
       "    </tr>\n",
       "    <tr>\n",
       "      <td>27</td>\n",
       "      <td>1904</td>\n",
       "      <td>3897</td>\n",
       "    </tr>\n",
       "    <tr>\n",
       "      <td>28</td>\n",
       "      <td>1905</td>\n",
       "      <td>3596</td>\n",
       "    </tr>\n",
       "    <tr>\n",
       "      <td>29</td>\n",
       "      <td>1906</td>\n",
       "      <td>8</td>\n",
       "    </tr>\n",
       "  </tbody>\n",
       "</table>\n",
       "</div>"
      ],
      "text/plain": [
       "    주문년월  이용빈도\n",
       "0   1701     4\n",
       "1   1702    26\n",
       "2   1703    42\n",
       "3   1704    48\n",
       "4   1705    85\n",
       "5   1706   126\n",
       "6   1707   172\n",
       "7   1708   155\n",
       "8   1709   167\n",
       "9   1710   155\n",
       "10  1711   272\n",
       "11  1712   294\n",
       "12  1801   741\n",
       "13  1802   587\n",
       "14  1803   850\n",
       "15  1804  1399\n",
       "16  1805  2099\n",
       "17  1806  2024\n",
       "18  1807  2686\n",
       "19  1808  3079\n",
       "20  1809  2349\n",
       "21  1810  3716\n",
       "22  1811  3991\n",
       "23  1812  4078\n",
       "24  1901  3460\n",
       "25  1902  2933\n",
       "26  1903  3622\n",
       "27  1904  3897\n",
       "28  1905  3596\n",
       "29  1906     8"
      ]
     },
     "execution_count": 118,
     "metadata": {},
     "output_type": "execute_result"
    }
   ],
   "source": [
    "# 주문년월에 따른 고객들의 주문 횟수(pointplot 그리기 위한 테이블)\n",
    "\n",
    "df_order_pre_route2 = df_order_pre_route.drop('주문경로',axis=1)\n",
    "df_order_pre_route2 = pd.pivot_table(data=df_order_pre_route2, index=('주문년월'),values=['이용빈도'],aggfunc='sum').reset_index()\n",
    "df_order_pre_route2"
   ]
  },
  {
   "cell_type": "code",
   "execution_count": 120,
   "metadata": {},
   "outputs": [
    {
     "data": {
      "text/plain": [
       "<matplotlib.axes._subplots.AxesSubplot at 0x1ad5135eb48>"
      ]
     },
     "execution_count": 120,
     "metadata": {},
     "output_type": "execute_result"
    },
    {
     "data": {
      "image/png": "[encoded data removed]",
      "text/plain": [
       "<Figure size 1296x576 with 1 Axes>"
      ]
     },
     "metadata": {
      "needs_background": "light"
     },
     "output_type": "display_data"
    }
   ],
   "source": [
    "# 월별 총 주문횟수와(pointplot) 주문경로 추이(barplot)\n",
    "\n",
    "plt.figure(figsize=[18,8])\n",
    "plt.title(\"주문경로 변화(월별)\")\n",
    "plt.rc('axes', labelsize=20)\n",
    "plt.rc('axes', titlesize=20)\n",
    "plt.rc('xtick', labelsize=12)\n",
    "plt.rc('ytick', labelsize=20)\n",
    "\n",
    "ax = sns.barplot(x=\"주문년월\", y=\"이용빈도\", hue=\"주문경로\", data=df_order_pre_route)\n",
    "sns.pointplot(data=df_order_pre_route2, x='주문년월', y='이용빈도',color='r')"
   ]
  },
  {
   "cell_type": "markdown",
   "metadata": {},
   "source": [
    "PC를 이용한 주문량이 현재까지 모바일 이용 횟수보다 많지만, 시간이 흐를수록 모바일을 통한 주문횟수가 증가하고\n",
    "있는 것을 알 수 있음. 앞으로 마케팅 진행시 모바일을 이용한 마케팅이 효과적일 것 같음."
   ]
  },
  {
   "cell_type": "code",
   "execution_count": null,
   "metadata": {},
   "outputs": [],
   "source": []
  },
  {
   "cell_type": "code",
   "execution_count": null,
   "metadata": {},
   "outputs": [],
   "source": []
  }
 ],
 "metadata": {
  "kernelspec": {
   "display_name": "Python 3",
   "language": "python",
   "name": "python3"
  },
  "language_info": {
   "codemirror_mode": {
    "name": "ipython",
    "version": 3
   },
   "file_extension": ".py",
   "mimetype": "text/x-python",
   "name": "python",
   "nbconvert_exporter": "python",
   "pygments_lexer": "ipython3",
   "version": "3.7.4"
  }
 },
 "nbformat": 4,
 "nbformat_minor": 2
}
