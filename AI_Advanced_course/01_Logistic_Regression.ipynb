{
 "cells": [
  {
   "cell_type": "code",
   "execution_count": 1,
   "metadata": {},
   "outputs": [
    {
     "data": {
      "text/plain": [
       "'2.3.0'"
      ]
     },
     "execution_count": 1,
     "metadata": {},
     "output_type": "execute_result"
    }
   ],
   "source": [
    "import tensorflow as tf\n",
    "tf.__version__"
   ]
  },
  {
   "cell_type": "code",
   "execution_count": 2,
   "metadata": {},
   "outputs": [
    {
     "name": "stdout",
     "output_type": "stream",
     "text": [
      "tf.Tensor(b'Hello Tensorflow!!', shape=(), dtype=string)\n",
      "tf.Tensor(\n",
      "[[1. 3.]\n",
      " [3. 7.]], shape=(2, 2), dtype=float32)\n",
      "<class 'tensorflow.python.framework.ops.EagerTensor'>\n"
     ]
    }
   ],
   "source": [
    "import tensorflow as tf\n",
    "import numpy as np\n",
    "\n",
    "# 상수  : tf.constant()\n",
    "s = tf.constant('Hello Tensorflow!!')\n",
    "print(s)\n",
    "\n",
    "a = tf.constant([[1.,2.],\n",
    "                 [3.,4.]])\n",
    "b = tf.constant([[1.,1.],\n",
    "                 [0.,1.]])\n",
    "c = tf.matmul(a,b)  # 내적 곱셈\n",
    "print(c)\n",
    "print(type(c))"
   ]
  },
  {
   "cell_type": "code",
   "execution_count": 3,
   "metadata": {},
   "outputs": [
    {
     "name": "stdout",
     "output_type": "stream",
     "text": [
      "tf.Tensor(300, shape=(), dtype=int32)\n"
     ]
    }
   ],
   "source": [
    "# 변수 : tf.Variable()\n",
    "# 초기 값이 미리 설정,주로 텐서플로 내부에서 연산시 변경되는 변수에 사용,weight과 bias\n",
    "a = tf.Variable(100)\n",
    "b = tf.Variable(200)\n",
    "c = tf.add(a,b)\n",
    "print(c)"
   ]
  },
  {
   "cell_type": "markdown",
   "metadata": {},
   "source": [
    "### tf.Tensor: 텐서 객체\n",
    "#### 텐서는 다차원 배열로 넘파이(NumPy) ndarray 객체와 비슷하며,\n",
    "#### tf.Tensor 객체는 데이터 타입과 크기를 가지고 있다.\n",
    "#### 또한 tf.Tensor는 GPU 같은 가속기 메모리에 상주할 수 있다.\n",
    "#### 텐서플로는 텐서를 생성하고 이용하는 풍부한 연산 라이브러리(tf.add, tf.matmul, tf.linalg.inv 등.)를 제공하며\n",
    "#### 연산수행 시 자동으로 텐서를 파이썬 네이티브(native) 타입으로 변환하여 연산한다"
   ]
  },
  {
   "cell_type": "code",
   "execution_count": 4,
   "metadata": {},
   "outputs": [
    {
     "name": "stdout",
     "output_type": "stream",
     "text": [
      "tf.Tensor(3, shape=(), dtype=int32)\n",
      "tf.Tensor([4 6], shape=(2,), dtype=int32)\n",
      "tf.Tensor(25, shape=(), dtype=int32)\n",
      "tf.Tensor(6, shape=(), dtype=int32)\n"
     ]
    }
   ],
   "source": [
    "# 연산자\n",
    "print(tf.add(1,2))\n",
    "print(tf.add([1,2],[3,4]))\n",
    "print(tf.square(5))\n",
    "print(tf.reduce_sum([1,2,3]))"
   ]
  },
  {
   "cell_type": "code",
   "execution_count": 5,
   "metadata": {},
   "outputs": [
    {
     "name": "stdout",
     "output_type": "stream",
     "text": [
      "tf.Tensor(\n",
      "[[1. 2.]\n",
      " [3. 4.]], shape=(2, 2), dtype=float32)\n",
      "<class 'tensorflow.python.framework.ops.EagerTensor'>\n",
      "(2, 2)\n",
      "<dtype: 'float32'>\n",
      "[[1. 2.]\n",
      " [3. 4.]] <class 'numpy.ndarray'>\n",
      "10 <class 'int'>\n"
     ]
    }
   ],
   "source": [
    "# 속성과 타입 변환\n",
    "a = tf.constant([[1.,2.],\n",
    "                 [3.,4.]])\n",
    "print(a)\n",
    "print(type(a))\n",
    "print(a.shape)\n",
    "print(a.dtype)\n",
    "\n",
    "# Tensor객체를 ndarray로 변환\n",
    "n = a.numpy()\n",
    "print(n, type(n)) # <class 'numpy.ndarray'>\n",
    "\n",
    "# 파이썬 native 타입으로 변환\n",
    "a = tf.constant(10)\n",
    "b = int(a)\n",
    "print(b, type(b))"
   ]
  },
  {
   "cell_type": "code",
   "execution_count": 6,
   "metadata": {},
   "outputs": [
    {
     "data": {
      "text/plain": [
       "<tf.Tensor: shape=(), dtype=int32, numpy=3>"
      ]
     },
     "execution_count": 6,
     "metadata": {},
     "output_type": "execute_result"
    }
   ],
   "source": [
    "a = 3.4\n",
    "tf.cast(a,dtype=tf.int32)"
   ]
  },
  {
   "cell_type": "markdown",
   "metadata": {},
   "source": [
    "### Logistic Regression : 2진 분류(Binary Classification)\n",
    ": 2진 분류의 활성화 함수로는 sigmoid가 사용됨"
   ]
  },
  {
   "cell_type": "code",
   "execution_count": 7,
   "metadata": {},
   "outputs": [],
   "source": [
    "tf.random.set_seed(5)\n",
    "\n",
    "# 데이터 준비\n",
    "# x_data : [6,2]\n",
    "x_data = [[1,2],\n",
    "          [2,3],\n",
    "          [3,1],\n",
    "          [4,3],\n",
    "          [5,3],\n",
    "          [6,2]]\n",
    "\n",
    "# y_data : [6,1]\n",
    "y_data = [[0],\n",
    "          [0],\n",
    "          [0],\n",
    "          [1],\n",
    "          [1],\n",
    "          [1]]\n",
    "x_train = np.array(x_data,dtype=np.float32)\n",
    "y_train = np.array(y_data,dtype=np.float32)"
   ]
  },
  {
   "cell_type": "code",
   "execution_count": 8,
   "metadata": {},
   "outputs": [
    {
     "data": {
      "text/plain": [
       "<tf.Variable 'weight:0' shape=(2, 1) dtype=float32, numpy=\n",
       "array([[-0.18030666],\n",
       "       [-0.95028627]], dtype=float32)>"
      ]
     },
     "execution_count": 8,
     "metadata": {},
     "output_type": "execute_result"
    }
   ],
   "source": [
    "# 변수 초기화 : weight, bias\n",
    "# (m,n) * (n,l) = (m,l)   : 행렬의 내적 곱셈 공식\n",
    "# (6,2) * (2,1) = (6,1)\n",
    "W = tf.Variable(tf.random.normal([2,1]), name='weight')\n",
    "b = tf.Variable(tf.random.normal([1]), name='bias')\n",
    "W"
   ]
  },
  {
   "cell_type": "code",
   "execution_count": 9,
   "metadata": {},
   "outputs": [],
   "source": [
    "# 예측 함수(hypothesis) : H(X) = sigmoid(W*X + b)\n",
    "def hypothesis(X):\n",
    "    return tf.sigmoid(tf.matmul(X,W) + b)"
   ]
  },
  {
   "cell_type": "code",
   "execution_count": 10,
   "metadata": {},
   "outputs": [],
   "source": [
    "# 비용 함수 : logloss , 2진 분류 모델\n",
    "def cost_func():\n",
    "    # cost = tf.reduce_mean(tf.square(hypothesis(x_train) - y_train)) # 선형회귀모델\n",
    "    \n",
    "    cost = -tf.reduce_mean(y_train*tf.math.log(hypothesis(x_train)) +\n",
    "                         (1-y_train)*tf.math.log(1-hypothesis(x_train)))\n",
    "    return cost    "
   ]
  },
  {
   "cell_type": "code",
   "execution_count": 11,
   "metadata": {},
   "outputs": [],
   "source": [
    "# optimizer : 경사하강법\n",
    "optimizer = tf.keras.optimizers.Adam(lr=0.01)"
   ]
  },
  {
   "cell_type": "code",
   "execution_count": 12,
   "metadata": {},
   "outputs": [
    {
     "name": "stdout",
     "output_type": "stream",
     "text": [
      "***** Start Learning!!\n",
      "0000 cost:[ 1.6611367 ]  W: [[-0.17030667]\n",
      " [-0.9402863 ]]  b: [0.23652855]\n",
      "1000 cost:[ 0.1793464 ]  W: [[1.3178084 ]\n",
      " [0.19723554]]  b: [-4.76143]\n",
      "2000 cost:[ 0.07253333 ]  W: [[2.0121024 ]\n",
      " [0.84058464]]  b: [-8.711953]\n",
      "3000 cost:[ 0.037006114 ]  W: [[2.6189134]\n",
      " [1.2299303]]  b: [-11.698347]\n",
      "4000 cost:[ 0.020763222 ]  W: [[3.170924 ]\n",
      " [1.5396553]]  b: [-14.285827]\n",
      "5000 cost:[ 0.012184971 ]  W: [[3.692799 ]\n",
      " [1.8153358]]  b: [-16.680555]\n",
      "6000 cost:[ 0.0073189805 ]  W: [[4.197649 ]\n",
      " [2.0743647]]  b: [-18.973686]\n",
      "7000 cost:[ 0.0044522793 ]  W: [[4.6926727]\n",
      " [2.3246498]]  b: [-21.210669]\n",
      "8000 cost:[ 0.002727755 ]  W: [[5.1819434]\n",
      " [2.5701647]]  b: [-23.415749]\n",
      "9000 cost:[ 0.0016780337 ]  W: [[5.667807]\n",
      " [2.812968]]  b: [-25.602285]\n",
      "10000 cost:[ 0.001034765 ]  W: [[6.1516275]\n",
      " [3.0542433]]  b: [-27.777952]\n",
      "***** Learning Finished!!\n"
     ]
    }
   ],
   "source": [
    "# 학습 시작\n",
    "print('***** Start Learning!!')\n",
    "for step in range(10001):\n",
    "    # cost를 minimize 한다\n",
    "    optimizer.minimize(cost_func, var_list=[W,b])\n",
    "    \n",
    "    if step % 1000 == 0:\n",
    "        print('%04d'%step,'cost:[',cost_func().numpy(),']',\n",
    "             ' W:',W.numpy(),' b:',b.numpy())\n",
    "print('***** Learning Finished!!')    "
   ]
  },
  {
   "cell_type": "code",
   "execution_count": 13,
   "metadata": {},
   "outputs": [
    {
     "name": "stdout",
     "output_type": "stream",
     "text": [
      "Weight: [[6.1516275]\n",
      " [3.0542433]]\n",
      "Bias: [-27.777952]\n"
     ]
    }
   ],
   "source": [
    "# Weight과 bias\n",
    "print('Weight:',W.numpy())\n",
    "print('Bias:',b.numpy())"
   ]
  },
  {
   "cell_type": "code",
   "execution_count": 14,
   "metadata": {},
   "outputs": [
    {
     "name": "stdout",
     "output_type": "stream",
     "text": [
      "Accuracy: 1.0\n",
      "Hypothesis:\n",
      " [[1.8225893e-07]\n",
      " [1.8111765e-03]\n",
      " [1.8908978e-03]\n",
      " [9.9750578e-01]\n",
      " [9.9999464e-01]\n",
      " [9.9999976e-01]]\n",
      "Predict:\n",
      " [[0.]\n",
      " [0.]\n",
      " [0.]\n",
      " [1.]\n",
      " [1.]\n",
      " [1.]]\n"
     ]
    }
   ],
   "source": [
    "# 정확도 측정 : accuracy computation\n",
    "def predict(X):\n",
    "    return tf.cast(hypothesis(X) > 0.5,dtype=tf.float32)\n",
    "\n",
    "# 학습 데이터를 그대로 검증 데이터로 사용하여 예측한 경우\n",
    "x_test = x_train\n",
    "y_test = y_train\n",
    "\n",
    "preds = predict(x_test)\n",
    "accuracy = tf.reduce_mean(tf.cast(tf.equal(preds,y_test),dtype=tf.float32))\n",
    "\n",
    "print('Accuracy:',accuracy.numpy()) # Accuracy: 1.0\n",
    "print('Hypothesis:\\n',hypothesis(x_test).numpy())\n",
    "print('Predict:\\n',preds.numpy())"
   ]
  },
  {
   "cell_type": "code",
   "execution_count": 15,
   "metadata": {},
   "outputs": [
    {
     "name": "stdout",
     "output_type": "stream",
     "text": [
      "***** Predict\n",
      "[[0.]\n",
      " [0.]\n",
      " [0.]\n",
      " [1.]\n",
      " [1.]\n",
      " [1.]]\n"
     ]
    }
   ],
   "source": [
    "# 예측\n",
    "print('***** Predict')\n",
    "# x_data = [[1,2],\n",
    "#           [2,3],\n",
    "#           [3,1],\n",
    "#           [4,3],\n",
    "#           [5,3],\n",
    "#           [6,2]]\n",
    "x_data = [[1,1],\n",
    "          [2,5],\n",
    "          [3,3],\n",
    "          [4,4],\n",
    "          [5,2],\n",
    "          [6,6]]\n",
    "x_test = np.array(x_data,dtype=np.float32)\n",
    "preds = predict(x_test)\n",
    "print(preds.numpy())"
   ]
  },
  {
   "cell_type": "code",
   "execution_count": null,
   "metadata": {},
   "outputs": [],
   "source": []
  }
 ],
 "metadata": {
  "kernelspec": {
   "display_name": "Python 3",
   "language": "python",
   "name": "python3"
  },
  "language_info": {
   "codemirror_mode": {
    "name": "ipython",
    "version": 3
   },
   "file_extension": ".py",
   "mimetype": "text/x-python",
   "name": "python",
   "nbconvert_exporter": "python",
   "pygments_lexer": "ipython3",
   "version": "3.8.3"
  }
 },
 "nbformat": 4,
 "nbformat_minor": 4
}
