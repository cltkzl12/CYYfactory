{
  "nbformat": 4,
  "nbformat_minor": 0,
  "metadata": {
    "hide_input": false,
    "kernelspec": {
      "display_name": "Python [conda env:eduTest]",
      "language": "python",
      "name": "conda-env-eduTest-py"
    },
    "language_info": {
      "codemirror_mode": {
        "name": "ipython",
        "version": 3
      },
      "file_extension": ".py",
      "mimetype": "text/x-python",
      "name": "python",
      "nbconvert_exporter": "python",
      "pygments_lexer": "ipython3",
      "version": "3.6.10"
    },
    "toc": {
      "base_numbering": 1,
      "nav_menu": {},
      "number_sections": true,
      "sideBar": true,
      "skip_h1_title": false,
      "title_cell": "Table of Contents",
      "title_sidebar": "Contents",
      "toc_cell": false,
      "toc_position": {
        "height": "calc(100% - 180px)",
        "left": "10px",
        "top": "150px",
        "width": "165px"
      },
      "toc_section_display": true,
      "toc_window_display": true
    },
    "varInspector": {
      "cols": {
        "lenName": 16,
        "lenType": 16,
        "lenVar": 40
      },
      "kernels_config": {
        "python": {
          "delete_cmd_postfix": "",
          "delete_cmd_prefix": "del ",
          "library": "var_list.py",
          "varRefreshCmd": "print(var_dic_list())"
        },
        "r": {
          "delete_cmd_postfix": ") ",
          "delete_cmd_prefix": "rm(",
          "library": "var_list.r",
          "varRefreshCmd": "cat(var_dic_list()) "
        }
      },
      "types_to_exclude": [
        "module",
        "function",
        "builtin_function_or_method",
        "instance",
        "_Feature"
      ],
      "window_display": false
    },
    "colab": {
      "name": "Transfer_Learning_tf.keras.ipynb",
      "provenance": []
    },
    "accelerator": "GPU"
  },
  "cells": [
    {
      "cell_type": "markdown",
      "metadata": {
        "id": "9oGUBQVeliPM",
        "colab_type": "text"
      },
      "source": [
        "# Transfer Learning"
      ]
    },
    {
      "cell_type": "markdown",
      "metadata": {
        "id": "sm5_ZZQuliPS",
        "colab_type": "text"
      },
      "source": [
        "https://github.com/tensorflow/docs/blob/master/site/en/tutorials/images/transfer_learning.ipynb"
      ]
    },
    {
      "cell_type": "markdown",
      "metadata": {
        "id": "aJGy2QpIliPV",
        "colab_type": "text"
      },
      "source": [
        "<설치></br>\n",
        "conda install keras"
      ]
    },
    {
      "cell_type": "code",
      "metadata": {
        "ExecuteTime": {
          "end_time": "2020-05-21T01:09:23.846333Z",
          "start_time": "2020-05-21T01:09:23.840333Z"
        },
        "scrolled": true,
        "id": "N1gH1g5_liPZ",
        "colab_type": "code",
        "colab": {
          "base_uri": "https://localhost:8080/",
          "height": 34
        },
        "outputId": "a57e3331-cabd-45d5-d5f8-a9d1fe0abb0e"
      },
      "source": [
        "# __future__ :파이썬 2 버전과 파이썬 3 버전의 호환을 위하여 사용되는 모듈\n",
        "from __future__ import absolute_import, division, print_function \n",
        "\n",
        "# OS: 운영체제와 관련된 명령을 수행할 수 있다.\n",
        "import os\n",
        "# opencv2 의 모듈을 사용할 수 있다.\n",
        "import cv2\n",
        "\n",
        "import tensorflow as tf\n",
        "from tensorflow import keras\n",
        "print(\"TensorFlow version is \", tf.__version__)\n",
        "\n",
        "import numpy as np\n",
        "\n",
        "# pyplot: 그래프를 그리기위해 지원되는 모듈 \n",
        "import matplotlib.pyplot as plt\n",
        "\n",
        "# image: matplotlib에서 이미지를 활용하고자 할 때 사용하는 모듈\n",
        "import matplotlib.image as mpimg\n"
      ],
      "execution_count": 1,
      "outputs": [
        {
          "output_type": "stream",
          "text": [
            "TensorFlow version is  2.2.0\n"
          ],
          "name": "stdout"
        }
      ]
    },
    {
      "cell_type": "markdown",
      "metadata": {
        "id": "1Te0h0I2liPy",
        "colab_type": "text"
      },
      "source": [
        "### Data preprocessing"
      ]
    },
    {
      "cell_type": "code",
      "metadata": {
        "ExecuteTime": {
          "end_time": "2020-05-21T01:09:32.243340Z",
          "start_time": "2020-05-21T01:09:29.977340Z"
        },
        "id": "wpyv5HkkliP1",
        "colab_type": "code",
        "colab": {
          "base_uri": "https://localhost:8080/",
          "height": 70
        },
        "outputId": "1d3948d0-428e-4b27-b808-c88fcc30ce8e"
      },
      "source": [
        "# 데이터 가져오기, extract = True 일 시 압축 파일을 풀라는 명령 \n",
        "zip_file = tf.keras.utils.get_file(origin=\"https://storage.googleapis.com/mledu-datasets/cats_and_dogs_filtered.zip\", \n",
        "                                   fname=\"cats_and_dogs_filtered.zip\", extract=True)\n",
        "\n",
        "#zip_file=\"./경로/cats_and_dogs_filtered.zip\"                                \n",
        "print(zip_file)\n",
        "# 확장자를 기준으로 파일 이름 나누기 \n",
        "base_dir, _ = os.path.splitext(zip_file)"
      ],
      "execution_count": 2,
      "outputs": [
        {
          "output_type": "stream",
          "text": [
            "Downloading data from https://storage.googleapis.com/mledu-datasets/cats_and_dogs_filtered.zip\n",
            "68608000/68606236 [==============================] - 1s 0us/step\n",
            "/root/.keras/datasets/cats_and_dogs_filtered.zip\n"
          ],
          "name": "stdout"
        }
      ]
    },
    {
      "cell_type": "markdown",
      "metadata": {
        "id": "R3yJY3qPliQB",
        "colab_type": "text"
      },
      "source": [
        "### Prepare training and validation cats and dogs datasets"
      ]
    },
    {
      "cell_type": "code",
      "metadata": {
        "ExecuteTime": {
          "end_time": "2020-05-21T01:09:32.262337Z",
          "start_time": "2020-05-21T01:09:32.250337Z"
        },
        "id": "dehfGBphliQE",
        "colab_type": "code",
        "colab": {
          "base_uri": "https://localhost:8080/",
          "height": 87
        },
        "outputId": "aee26e20-dee9-4ff6-b3a7-961fd7e108fa"
      },
      "source": [
        "# train폴더와 validation폴더 경로명 생성 및 저장\n",
        "train_dir = os.path.join(base_dir, 'train')\n",
        "validation_dir = os.path.join(base_dir, 'validation')\n",
        "\n",
        "# train cats 이미지가 들어있는 경로명 생성 및 저장\n",
        "train_cats_dir = os.path.join(train_dir, 'cats')\n",
        "print ('Total training cat images:', len(os.listdir(train_cats_dir)))\n",
        "\n",
        "# train dog 이미지가 들어있는 경로명 생성 및 저장\n",
        "train_dogs_dir = os.path.join(train_dir, 'dogs')\n",
        "print ('Total training dog images:', len(os.listdir(train_dogs_dir)))\n",
        "\n",
        "# validaton cats 이미지가 들어있는 경로명 생성 및 저장\n",
        "validation_cats_dir = os.path.join(validation_dir, 'cats')\n",
        "print ('Total validation cat images:', len(os.listdir(validation_cats_dir)))\n",
        "\n",
        "# validaton dog 이미지가 들어있는 경로명 생성 및 저장\n",
        "validation_dogs_dir = os.path.join(validation_dir, 'dogs')\n",
        "print ('Total validation dog images:', len(os.listdir(validation_dogs_dir)))"
      ],
      "execution_count": 3,
      "outputs": [
        {
          "output_type": "stream",
          "text": [
            "Total training cat images: 1000\n",
            "Total training dog images: 1000\n",
            "Total validation cat images: 500\n",
            "Total validation dog images: 500\n"
          ],
          "name": "stdout"
        }
      ]
    },
    {
      "cell_type": "markdown",
      "metadata": {
        "id": "Dkt7gqEWliQh",
        "colab_type": "text"
      },
      "source": [
        "### Create Image Data Generator with Image Augmentation"
      ]
    },
    {
      "cell_type": "markdown",
      "metadata": {
        "id": "YjIJdUxrliQn",
        "colab_type": "text"
      },
      "source": [
        "- ImageDataGenerator() 참고: https://keraskorea.github.io/posts/2018-10-24-little_data_powerful_model/"
      ]
    },
    {
      "cell_type": "code",
      "metadata": {
        "ExecuteTime": {
          "end_time": "2020-05-21T01:09:36.968348Z",
          "start_time": "2020-05-21T01:09:36.729331Z"
        },
        "id": "CRiOQIaHliQq",
        "colab_type": "code",
        "colab": {
          "base_uri": "https://localhost:8080/",
          "height": 87
        },
        "outputId": "5f693394-7291-410e-97ed-e536d66210ea"
      },
      "source": [
        "image_size = 224 # All images will be resized to 224 x 224\n",
        "batch_size = 32\n",
        "\n",
        "# Rescale\n",
        "train_datagen = keras.preprocessing.image.ImageDataGenerator(rescale=1./255)\n",
        "\n",
        "validation_datagen = keras.preprocessing.image.ImageDataGenerator(rescale=1./255)\n",
        "\n",
        "# 디렉토리에서 바로 레이블과 이미지 가져오기 \n",
        "train_generator = train_datagen.flow_from_directory(\n",
        "                train_dir,  # Source directory for the training images\n",
        "                target_size=(image_size, image_size),  \n",
        "                batch_size=batch_size,\n",
        "                # Since we use binary_crossentropy loss, we need binary labels\n",
        "                class_mode='binary')\n",
        "\n",
        "validation_generator = validation_datagen.flow_from_directory(\n",
        "                validation_dir, # Source directory for the validation images\n",
        "                target_size=(image_size, image_size),\n",
        "                batch_size=batch_size,\n",
        "                class_mode='binary')\n",
        "\n",
        "# 클래스 인덱스 정보 보기 \n",
        "print(train_generator.class_indices)\n",
        "print(validation_generator.class_indices)"
      ],
      "execution_count": 4,
      "outputs": [
        {
          "output_type": "stream",
          "text": [
            "Found 2000 images belonging to 2 classes.\n",
            "Found 1000 images belonging to 2 classes.\n",
            "{'cats': 0, 'dogs': 1}\n",
            "{'cats': 0, 'dogs': 1}\n"
          ],
          "name": "stdout"
        }
      ]
    },
    {
      "cell_type": "markdown",
      "metadata": {
        "id": "F-SWyfUPliQ-",
        "colab_type": "text"
      },
      "source": [
        "- class_mode : 분류 방식에 대해서 지정합니다. 다중 클래스일 경우 \"categorical\"로 지정해주세요\n",
        "  "
      ]
    },
    {
      "cell_type": "markdown",
      "metadata": {
        "id": "sW89aepzliRA",
        "colab_type": "text"
      },
      "source": [
        "### Create the base model from the pre-trained convnets"
      ]
    },
    {
      "cell_type": "markdown",
      "metadata": {
        "id": "6Fzm7gXaliRB",
        "colab_type": "text"
      },
      "source": [
        "- tensorflow.keras.applications 모듈을 사용하여 pretrained된 모델을 사용할 수 있다.\n",
        "- Xception, VGG16, VGG19, ResNet, InseptionV3, InseptionResNetV2, MobileNet, DenseNet, NASNet 사용가능 "
      ]
    },
    {
      "cell_type": "markdown",
      "metadata": {
        "id": "UxbTEHd9liRD",
        "colab_type": "text"
      },
      "source": [
        "- 참고사이트: https://keras.io/applications/"
      ]
    },
    {
      "cell_type": "code",
      "metadata": {
        "ExecuteTime": {
          "end_time": "2020-05-21T01:09:42.697333Z",
          "start_time": "2020-05-21T01:09:39.968334Z"
        },
        "id": "23CaA8rTliRF",
        "colab_type": "code",
        "colab": {
          "base_uri": "https://localhost:8080/",
          "height": 52
        },
        "outputId": "fbb0de8e-1e10-4dc1-9dc1-b90f658c4fc1"
      },
      "source": [
        "IMG_SHAPE = (image_size, image_size, 3)\n",
        "\n",
        "#Create the base model from the pre-trained model MobileNet V2\n",
        "base_model = tf.keras.applications.VGG16(input_shape=IMG_SHAPE,\n",
        "                                               include_top=False, \n",
        "                                               weights='imagenet')"
      ],
      "execution_count": 5,
      "outputs": [
        {
          "output_type": "stream",
          "text": [
            "Downloading data from https://storage.googleapis.com/tensorflow/keras-applications/vgg16/vgg16_weights_tf_dim_ordering_tf_kernels_notop.h5\n",
            "58892288/58889256 [==============================] - 1s 0us/step\n"
          ],
          "name": "stdout"
        }
      ]
    },
    {
      "cell_type": "markdown",
      "metadata": {
        "id": "LP-umgazliRQ",
        "colab_type": "text"
      },
      "source": [
        "## Feature extraction"
      ]
    },
    {
      "cell_type": "markdown",
      "metadata": {
        "id": "tFo19NdqliRR",
        "colab_type": "text"
      },
      "source": [
        "### Freeze the convolutional base  "
      ]
    },
    {
      "cell_type": "code",
      "metadata": {
        "ExecuteTime": {
          "end_time": "2020-05-21T01:09:43.674335Z",
          "start_time": "2020-05-21T01:09:43.670335Z"
        },
        "id": "nGoSDM4PliRT",
        "colab_type": "code",
        "colab": {}
      },
      "source": [
        "#분류기를 제외하고 가져온 모델부분을  Freeze 시켜 학습시에도 가중치가 변하지 않도록 함\n",
        "base_model.trainable = False"
      ],
      "execution_count": 0,
      "outputs": []
    },
    {
      "cell_type": "code",
      "metadata": {
        "ExecuteTime": {
          "end_time": "2020-05-21T01:09:43.811332Z",
          "start_time": "2020-05-21T01:09:43.801335Z"
        },
        "id": "XNAvHd13liRd",
        "colab_type": "code",
        "colab": {
          "base_uri": "https://localhost:8080/",
          "height": 826
        },
        "outputId": "32596d3d-6346-4b28-ca24-06526b572b96"
      },
      "source": [
        "# Let's take a look at the base model architecture\n",
        "base_model.summary()"
      ],
      "execution_count": 7,
      "outputs": [
        {
          "output_type": "stream",
          "text": [
            "Model: \"vgg16\"\n",
            "_________________________________________________________________\n",
            "Layer (type)                 Output Shape              Param #   \n",
            "=================================================================\n",
            "input_1 (InputLayer)         [(None, 224, 224, 3)]     0         \n",
            "_________________________________________________________________\n",
            "block1_conv1 (Conv2D)        (None, 224, 224, 64)      1792      \n",
            "_________________________________________________________________\n",
            "block1_conv2 (Conv2D)        (None, 224, 224, 64)      36928     \n",
            "_________________________________________________________________\n",
            "block1_pool (MaxPooling2D)   (None, 112, 112, 64)      0         \n",
            "_________________________________________________________________\n",
            "block2_conv1 (Conv2D)        (None, 112, 112, 128)     73856     \n",
            "_________________________________________________________________\n",
            "block2_conv2 (Conv2D)        (None, 112, 112, 128)     147584    \n",
            "_________________________________________________________________\n",
            "block2_pool (MaxPooling2D)   (None, 56, 56, 128)       0         \n",
            "_________________________________________________________________\n",
            "block3_conv1 (Conv2D)        (None, 56, 56, 256)       295168    \n",
            "_________________________________________________________________\n",
            "block3_conv2 (Conv2D)        (None, 56, 56, 256)       590080    \n",
            "_________________________________________________________________\n",
            "block3_conv3 (Conv2D)        (None, 56, 56, 256)       590080    \n",
            "_________________________________________________________________\n",
            "block3_pool (MaxPooling2D)   (None, 28, 28, 256)       0         \n",
            "_________________________________________________________________\n",
            "block4_conv1 (Conv2D)        (None, 28, 28, 512)       1180160   \n",
            "_________________________________________________________________\n",
            "block4_conv2 (Conv2D)        (None, 28, 28, 512)       2359808   \n",
            "_________________________________________________________________\n",
            "block4_conv3 (Conv2D)        (None, 28, 28, 512)       2359808   \n",
            "_________________________________________________________________\n",
            "block4_pool (MaxPooling2D)   (None, 14, 14, 512)       0         \n",
            "_________________________________________________________________\n",
            "block5_conv1 (Conv2D)        (None, 14, 14, 512)       2359808   \n",
            "_________________________________________________________________\n",
            "block5_conv2 (Conv2D)        (None, 14, 14, 512)       2359808   \n",
            "_________________________________________________________________\n",
            "block5_conv3 (Conv2D)        (None, 14, 14, 512)       2359808   \n",
            "_________________________________________________________________\n",
            "block5_pool (MaxPooling2D)   (None, 7, 7, 512)         0         \n",
            "=================================================================\n",
            "Total params: 14,714,688\n",
            "Trainable params: 0\n",
            "Non-trainable params: 14,714,688\n",
            "_________________________________________________________________\n"
          ],
          "name": "stdout"
        }
      ]
    },
    {
      "cell_type": "markdown",
      "metadata": {
        "id": "eL56GVGEliRn",
        "colab_type": "text"
      },
      "source": [
        "##### Add a classification head"
      ]
    },
    {
      "cell_type": "code",
      "metadata": {
        "ExecuteTime": {
          "end_time": "2020-05-21T01:09:46.558333Z",
          "start_time": "2020-05-21T01:09:46.466336Z"
        },
        "id": "KfnpBok_liRp",
        "colab_type": "code",
        "colab": {}
      },
      "source": [
        "model = tf.keras.Sequential([\n",
        "  base_model,\n",
        "  keras.layers.GlobalAveragePooling2D(),\n",
        "  keras.layers.Dense(64, activation='relu'),\n",
        "  keras.layers.Dense(1, activation='sigmoid')\n",
        "])"
      ],
      "execution_count": 0,
      "outputs": []
    },
    {
      "cell_type": "markdown",
      "metadata": {
        "id": "873itXRcliR0",
        "colab_type": "text"
      },
      "source": [
        "- 다중 분류의 경우 activation = \"softmax\""
      ]
    },
    {
      "cell_type": "markdown",
      "metadata": {
        "id": "xCvRZp3IliR3",
        "colab_type": "text"
      },
      "source": [
        "### Compile the model"
      ]
    },
    {
      "cell_type": "code",
      "metadata": {
        "ExecuteTime": {
          "end_time": "2020-05-21T01:09:48.515351Z",
          "start_time": "2020-05-21T01:09:48.415334Z"
        },
        "id": "HfadIlsxliR8",
        "colab_type": "code",
        "colab": {}
      },
      "source": [
        "model.compile(optimizer=tf.keras.optimizers.RMSprop(lr=0.0001), \n",
        "              loss='binary_crossentropy', \n",
        "              metrics=['accuracy'])"
      ],
      "execution_count": 0,
      "outputs": []
    },
    {
      "cell_type": "markdown",
      "metadata": {
        "id": "uUkynFCuliSJ",
        "colab_type": "text"
      },
      "source": [
        "- loss의 경우 다중 클래스 분류일 때 \"categorical_crossentropy\"를 설정해주면 된다."
      ]
    },
    {
      "cell_type": "code",
      "metadata": {
        "ExecuteTime": {
          "end_time": "2020-05-21T01:09:49.113334Z",
          "start_time": "2020-05-21T01:09:49.107333Z"
        },
        "id": "arpLuWvyliSL",
        "colab_type": "code",
        "colab": {
          "base_uri": "https://localhost:8080/",
          "height": 298
        },
        "outputId": "5e668549-5858-449f-dff9-c223f36675d9"
      },
      "source": [
        "model.summary()"
      ],
      "execution_count": 10,
      "outputs": [
        {
          "output_type": "stream",
          "text": [
            "Model: \"sequential\"\n",
            "_________________________________________________________________\n",
            "Layer (type)                 Output Shape              Param #   \n",
            "=================================================================\n",
            "vgg16 (Model)                (None, 7, 7, 512)         14714688  \n",
            "_________________________________________________________________\n",
            "global_average_pooling2d (Gl (None, 512)               0         \n",
            "_________________________________________________________________\n",
            "dense (Dense)                (None, 64)                32832     \n",
            "_________________________________________________________________\n",
            "dense_1 (Dense)              (None, 1)                 65        \n",
            "=================================================================\n",
            "Total params: 14,747,585\n",
            "Trainable params: 32,897\n",
            "Non-trainable params: 14,714,688\n",
            "_________________________________________________________________\n"
          ],
          "name": "stdout"
        }
      ]
    },
    {
      "cell_type": "markdown",
      "metadata": {
        "id": "T5Ai6HYsliSy",
        "colab_type": "text"
      },
      "source": [
        "### Fine tuning"
      ]
    },
    {
      "cell_type": "code",
      "metadata": {
        "ExecuteTime": {
          "end_time": "2020-05-21T01:13:07.872767Z",
          "start_time": "2020-05-21T01:13:07.868769Z"
        },
        "id": "ZsshrR_MliS0",
        "colab_type": "code",
        "colab": {}
      },
      "source": [
        "base_model.trainable = True"
      ],
      "execution_count": 0,
      "outputs": []
    },
    {
      "cell_type": "code",
      "metadata": {
        "ExecuteTime": {
          "end_time": "2020-05-21T01:13:16.829766Z",
          "start_time": "2020-05-21T01:13:16.825768Z"
        },
        "id": "-CAKnzd7liS-",
        "colab_type": "code",
        "colab": {
          "base_uri": "https://localhost:8080/",
          "height": 34
        },
        "outputId": "6d5405f3-5f39-42e8-a876-2441eb92b6c1"
      },
      "source": [
        "# base model의 layer 갯수를 확인\n",
        "print(\"Number of layers in the base model: \", len(base_model.layers))"
      ],
      "execution_count": 12,
      "outputs": [
        {
          "output_type": "stream",
          "text": [
            "Number of layers in the base model:  19\n"
          ],
          "name": "stdout"
        }
      ]
    },
    {
      "cell_type": "code",
      "metadata": {
        "ExecuteTime": {
          "end_time": "2020-05-19T04:19:38.606332Z",
          "start_time": "2020-05-19T04:19:38.602332Z"
        },
        "id": "m3YdRjrsliTJ",
        "colab_type": "code",
        "colab": {}
      },
      "source": [
        "# Fine tuning을 시킬 기준 layer 선정\n",
        "fine_tune_at = 11\n",
        "\n",
        "# Fine tuning을 시킬 기준 layer 이전의 layer들을 모두 freezing\n",
        "for layer in base_model.layers[:fine_tune_at]:\n",
        "    layer.trainable =  False"
      ],
      "execution_count": 0,
      "outputs": []
    },
    {
      "cell_type": "markdown",
      "metadata": {
        "id": "lJjo0sxkliTR",
        "colab_type": "text"
      },
      "source": [
        "### Compile the model"
      ]
    },
    {
      "cell_type": "code",
      "metadata": {
        "ExecuteTime": {
          "end_time": "2020-05-19T04:19:42.119477Z",
          "start_time": "2020-05-19T04:19:42.116479Z"
        },
        "id": "WpB0Dng4liTS",
        "colab_type": "code",
        "colab": {}
      },
      "source": [
        "#lr=0.0001\n",
        "#lr=0.00002"
      ],
      "execution_count": 0,
      "outputs": []
    },
    {
      "cell_type": "code",
      "metadata": {
        "ExecuteTime": {
          "end_time": "2020-05-19T04:19:43.418714Z",
          "start_time": "2020-05-19T04:19:43.290712Z"
        },
        "id": "XFDXGepWliTY",
        "colab_type": "code",
        "colab": {}
      },
      "source": [
        "model.compile(loss='binary_crossentropy',\n",
        "              optimizer = tf.keras.optimizers.RMSprop(lr=0.00001),\n",
        "              metrics=['accuracy'])"
      ],
      "execution_count": 0,
      "outputs": []
    },
    {
      "cell_type": "code",
      "metadata": {
        "ExecuteTime": {
          "end_time": "2020-05-19T04:19:46.254096Z",
          "start_time": "2020-05-19T04:19:46.248096Z"
        },
        "id": "in6Mr8LGliTh",
        "colab_type": "code",
        "colab": {
          "base_uri": "https://localhost:8080/",
          "height": 298
        },
        "outputId": "93a2448f-67ed-4f60-fd99-719445061fed"
      },
      "source": [
        "model.summary()"
      ],
      "execution_count": 16,
      "outputs": [
        {
          "output_type": "stream",
          "text": [
            "Model: \"sequential\"\n",
            "_________________________________________________________________\n",
            "Layer (type)                 Output Shape              Param #   \n",
            "=================================================================\n",
            "vgg16 (Model)                (None, 7, 7, 512)         14714688  \n",
            "_________________________________________________________________\n",
            "global_average_pooling2d (Gl (None, 512)               0         \n",
            "_________________________________________________________________\n",
            "dense (Dense)                (None, 64)                32832     \n",
            "_________________________________________________________________\n",
            "dense_1 (Dense)              (None, 1)                 65        \n",
            "=================================================================\n",
            "Total params: 14,747,585\n",
            "Trainable params: 13,012,097\n",
            "Non-trainable params: 1,735,488\n",
            "_________________________________________________________________\n"
          ],
          "name": "stdout"
        }
      ]
    },
    {
      "cell_type": "code",
      "metadata": {
        "ExecuteTime": {
          "end_time": "2020-05-19T04:19:49.023479Z",
          "start_time": "2020-05-19T04:19:49.018477Z"
        },
        "id": "13m_4jCIliTo",
        "colab_type": "code",
        "colab": {
          "base_uri": "https://localhost:8080/",
          "height": 34
        },
        "outputId": "1d5ea1da-167c-49ed-9565-a8ca1f9b7386"
      },
      "source": [
        "len(model.trainable_variables)"
      ],
      "execution_count": 17,
      "outputs": [
        {
          "output_type": "execute_result",
          "data": {
            "text/plain": [
              "16"
            ]
          },
          "metadata": {
            "tags": []
          },
          "execution_count": 17
        }
      ]
    },
    {
      "cell_type": "code",
      "metadata": {
        "ExecuteTime": {
          "end_time": "2020-05-19T04:19:52.245865Z",
          "start_time": "2020-05-19T04:19:52.232870Z"
        },
        "scrolled": false,
        "id": "ximP6C96liTx",
        "colab_type": "code",
        "colab": {
          "base_uri": "https://localhost:8080/",
          "height": 826
        },
        "outputId": "4fba5f0d-2d5b-4e57-cdca-345b4914b99f"
      },
      "source": [
        "base_model.summary()"
      ],
      "execution_count": 18,
      "outputs": [
        {
          "output_type": "stream",
          "text": [
            "Model: \"vgg16\"\n",
            "_________________________________________________________________\n",
            "Layer (type)                 Output Shape              Param #   \n",
            "=================================================================\n",
            "input_1 (InputLayer)         [(None, 224, 224, 3)]     0         \n",
            "_________________________________________________________________\n",
            "block1_conv1 (Conv2D)        (None, 224, 224, 64)      1792      \n",
            "_________________________________________________________________\n",
            "block1_conv2 (Conv2D)        (None, 224, 224, 64)      36928     \n",
            "_________________________________________________________________\n",
            "block1_pool (MaxPooling2D)   (None, 112, 112, 64)      0         \n",
            "_________________________________________________________________\n",
            "block2_conv1 (Conv2D)        (None, 112, 112, 128)     73856     \n",
            "_________________________________________________________________\n",
            "block2_conv2 (Conv2D)        (None, 112, 112, 128)     147584    \n",
            "_________________________________________________________________\n",
            "block2_pool (MaxPooling2D)   (None, 56, 56, 128)       0         \n",
            "_________________________________________________________________\n",
            "block3_conv1 (Conv2D)        (None, 56, 56, 256)       295168    \n",
            "_________________________________________________________________\n",
            "block3_conv2 (Conv2D)        (None, 56, 56, 256)       590080    \n",
            "_________________________________________________________________\n",
            "block3_conv3 (Conv2D)        (None, 56, 56, 256)       590080    \n",
            "_________________________________________________________________\n",
            "block3_pool (MaxPooling2D)   (None, 28, 28, 256)       0         \n",
            "_________________________________________________________________\n",
            "block4_conv1 (Conv2D)        (None, 28, 28, 512)       1180160   \n",
            "_________________________________________________________________\n",
            "block4_conv2 (Conv2D)        (None, 28, 28, 512)       2359808   \n",
            "_________________________________________________________________\n",
            "block4_conv3 (Conv2D)        (None, 28, 28, 512)       2359808   \n",
            "_________________________________________________________________\n",
            "block4_pool (MaxPooling2D)   (None, 14, 14, 512)       0         \n",
            "_________________________________________________________________\n",
            "block5_conv1 (Conv2D)        (None, 14, 14, 512)       2359808   \n",
            "_________________________________________________________________\n",
            "block5_conv2 (Conv2D)        (None, 14, 14, 512)       2359808   \n",
            "_________________________________________________________________\n",
            "block5_conv3 (Conv2D)        (None, 14, 14, 512)       2359808   \n",
            "_________________________________________________________________\n",
            "block5_pool (MaxPooling2D)   (None, 7, 7, 512)         0         \n",
            "=================================================================\n",
            "Total params: 14,714,688\n",
            "Trainable params: 12,979,200\n",
            "Non-trainable params: 1,735,488\n",
            "_________________________________________________________________\n"
          ],
          "name": "stdout"
        }
      ]
    },
    {
      "cell_type": "markdown",
      "metadata": {
        "id": "Z1ophrzCliUA",
        "colab_type": "text"
      },
      "source": [
        "### Continue Train the model"
      ]
    },
    {
      "cell_type": "code",
      "metadata": {
        "ExecuteTime": {
          "end_time": "2020-05-19T04:22:42.631871Z",
          "start_time": "2020-05-19T04:20:37.850732Z"
        },
        "id": "E4vPpC5SliUB",
        "colab_type": "code",
        "colab": {
          "base_uri": "https://localhost:8080/",
          "height": 422
        },
        "outputId": "f37873d6-0e2b-4c30-b5e6-3d8327a3fd25"
      },
      "source": [
        "epochs = 10\n",
        "steps_per_epoch = train_generator.n // batch_size\n",
        "validation_steps = validation_generator.n // batch_size\n",
        "\n",
        "history_fine = model.fit_generator(train_generator, \n",
        "                                   steps_per_epoch = steps_per_epoch,\n",
        "                                   epochs=epochs, \n",
        "                                   workers=4,\n",
        "                                   validation_data=validation_generator, \n",
        "                                   validation_steps=validation_steps)"
      ],
      "execution_count": 19,
      "outputs": [
        {
          "output_type": "stream",
          "text": [
            "WARNING:tensorflow:From <ipython-input-19-fea3a1c2925a>:10: Model.fit_generator (from tensorflow.python.keras.engine.training) is deprecated and will be removed in a future version.\n",
            "Instructions for updating:\n",
            "Please use Model.fit, which supports generators.\n",
            "Epoch 1/10\n",
            "62/62 [==============================] - 25s 396ms/step - loss: 0.4999 - accuracy: 0.7713 - val_loss: 0.3070 - val_accuracy: 0.8821\n",
            "Epoch 2/10\n",
            "62/62 [==============================] - 23s 376ms/step - loss: 0.2552 - accuracy: 0.9121 - val_loss: 0.1878 - val_accuracy: 0.9304\n",
            "Epoch 3/10\n",
            "62/62 [==============================] - 23s 376ms/step - loss: 0.1807 - accuracy: 0.9334 - val_loss: 0.1546 - val_accuracy: 0.9486\n",
            "Epoch 4/10\n",
            "62/62 [==============================] - 23s 379ms/step - loss: 0.1368 - accuracy: 0.9482 - val_loss: 0.2033 - val_accuracy: 0.9073\n",
            "Epoch 5/10\n",
            "62/62 [==============================] - 24s 380ms/step - loss: 0.1047 - accuracy: 0.9624 - val_loss: 0.1173 - val_accuracy: 0.9597\n",
            "Epoch 6/10\n",
            "62/62 [==============================] - 24s 385ms/step - loss: 0.1003 - accuracy: 0.9619 - val_loss: 0.1091 - val_accuracy: 0.9597\n",
            "Epoch 7/10\n",
            "62/62 [==============================] - 24s 388ms/step - loss: 0.0681 - accuracy: 0.9782 - val_loss: 0.2315 - val_accuracy: 0.9052\n",
            "Epoch 8/10\n",
            "62/62 [==============================] - 24s 393ms/step - loss: 0.0584 - accuracy: 0.9803 - val_loss: 0.1068 - val_accuracy: 0.9627\n",
            "Epoch 9/10\n",
            "62/62 [==============================] - 24s 391ms/step - loss: 0.0610 - accuracy: 0.9792 - val_loss: 0.1211 - val_accuracy: 0.9556\n",
            "Epoch 10/10\n",
            "62/62 [==============================] - 24s 389ms/step - loss: 0.0407 - accuracy: 0.9888 - val_loss: 0.0972 - val_accuracy: 0.9617\n"
          ],
          "name": "stdout"
        }
      ]
    },
    {
      "cell_type": "code",
      "metadata": {
        "id": "2_0CjZAEoil5",
        "colab_type": "code",
        "colab": {}
      },
      "source": [
        ""
      ],
      "execution_count": 0,
      "outputs": []
    }
  ]
}