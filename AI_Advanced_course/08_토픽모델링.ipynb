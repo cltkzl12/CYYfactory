{
 "cells": [
  {
   "cell_type": "markdown",
   "metadata": {
    "colab_type": "text",
    "id": "3OKsUir3B7Y_"
   },
   "source": [
    "# 토픽 모델링(Topic Modeling)\n",
    "#### 토픽(Topic)은 한국어로는 주제라고 한다. \n",
    "#### 토픽 모델링(Topic Modeling)이란 기계 학습 및 자연어 처리 분야에서 토픽이라는 문서 집합의 추상적인 주제를 발견하기 위한 통계적 모델 중 하나로, \n",
    "\n",
    "#### 텍스트 본문의 숨겨진 의미 구조를 발견하기 위해 사용되는 텍스트 마이닝 기법이다."
   ]
  },
  {
   "cell_type": "markdown",
   "metadata": {
    "colab_type": "text",
    "id": "gW8ml3TmB7ZC"
   },
   "source": [
    "## [1] TF-IDF(Term Frequency-Inverse Document Frequency) : 단어 빈도-역 문서 빈도\n",
    "TF-IDF(Term Frequency - Inverse Document Frequency)는 정보 검색과 텍스트 마이닝에서 이용하는 가중치로, 여러 문서로 이루어진 문서군이 있을 때 어떤 단어가 특정 문서 내에서 얼마나 중요한 것인지를 나타내는 통계적 수치이다. 문서의 핵심어를 추출하거나, 검색 엔진에서 검색 결과의 순위를 결정하거나, 문서들 사이의 비슷한 정도를 구하는 등의 용도로 사용할 수 있다."
   ]
  },
  {
   "cell_type": "code",
   "execution_count": 1,
   "metadata": {
    "colab": {},
    "colab_type": "code",
    "executionInfo": {
     "elapsed": 2392,
     "status": "ok",
     "timestamp": 1600822262490,
     "user": {
      "displayName": "고병화",
      "photoUrl": "https://lh3.googleusercontent.com/a-/AOh14GgLZcAZyPt33HiIqtXjHiL8D4PIcVPdfLgODP1QBA=s64",
      "userId": "12645007744594631320"
     },
     "user_tz": -540
    },
    "id": "LqlbgW3zB7ZE"
   },
   "outputs": [],
   "source": [
    "import pandas as pd # 데이터프레임 사용을 위해\n",
    "import numpy as np\n",
    "from math import log # IDF 계산을 위해"
   ]
  },
  {
   "cell_type": "code",
   "execution_count": 2,
   "metadata": {
    "colab": {},
    "colab_type": "code",
    "executionInfo": {
     "elapsed": 2381,
     "status": "ok",
     "timestamp": 1600822262491,
     "user": {
      "displayName": "고병화",
      "photoUrl": "https://lh3.googleusercontent.com/a-/AOh14GgLZcAZyPt33HiIqtXjHiL8D4PIcVPdfLgODP1QBA=s64",
      "userId": "12645007744594631320"
     },
     "user_tz": -540
    },
    "id": "GqYTV_-zB7ZN"
   },
   "outputs": [
    {
     "data": {
      "text/plain": [
       "['과일이', '길고', '노란', '먹고', '바나나', '사과', '싶은', '저는', '좋아요']"
      ]
     },
     "execution_count": 2,
     "metadata": {},
     "output_type": "execute_result"
    }
   ],
   "source": [
    "docs = [\n",
    "  '먹고 싶은 사과',\n",
    "  '먹고 싶은 바나나',\n",
    "  '길고 노란 바나나 바나나',\n",
    "  '저는 과일이 좋아요'\n",
    "] \n",
    "vocab = list(set(w for doc in docs for w in doc.split()))\n",
    "vocab.sort()\n",
    "vocab"
   ]
  },
  {
   "cell_type": "code",
   "execution_count": 3,
   "metadata": {
    "colab": {},
    "colab_type": "code",
    "executionInfo": {
     "elapsed": 2374,
     "status": "ok",
     "timestamp": 1600822262492,
     "user": {
      "displayName": "고병화",
      "photoUrl": "https://lh3.googleusercontent.com/a-/AOh14GgLZcAZyPt33HiIqtXjHiL8D4PIcVPdfLgODP1QBA=s64",
      "userId": "12645007744594631320"
     },
     "user_tz": -540
    },
    "id": "NnOUCN3uB7ZW"
   },
   "outputs": [],
   "source": [
    "N = len(docs) # 총 문서의 수 , 4\n",
    "\n",
    "def tf(t, d):  # 특정 문서 d에서의 특정 단어 t의 등장 횟수\n",
    "    return d.count(t)\n",
    "\n",
    "def idf(t):  # df(t):특정 단어 t가 등장한 문서의 수,idf(t):df(t)의 역수, log는 N이 커지면 값이 기하급수로 늘어나는걸 방지,분모 1은 df가 0일 경우 대비\n",
    "    df = 0\n",
    "    for doc in docs:\n",
    "        df += t in doc\n",
    "    return log(N/(df + 1))\n",
    "\n",
    "def tfidf(t, d): # tf(t,d)와 idf(t)를 곱한 값\n",
    "    return tf(t,d)* idf(t)"
   ]
  },
  {
   "cell_type": "code",
   "execution_count": 4,
   "metadata": {
    "colab": {
     "base_uri": "https://localhost:8080/",
     "height": 168
    },
    "colab_type": "code",
    "executionInfo": {
     "elapsed": 2358,
     "status": "ok",
     "timestamp": 1600822262493,
     "user": {
      "displayName": "고병화",
      "photoUrl": "https://lh3.googleusercontent.com/a-/AOh14GgLZcAZyPt33HiIqtXjHiL8D4PIcVPdfLgODP1QBA=s64",
      "userId": "12645007744594631320"
     },
     "user_tz": -540
    },
    "id": "Vw6nK3U5B7Zf",
    "outputId": "8a772ef9-7d4d-4b5b-ffb0-0f540a25903f"
   },
   "outputs": [
    {
     "data": {
      "text/html": [
       "<div>\n",
       "<style scoped>\n",
       "    .dataframe tbody tr th:only-of-type {\n",
       "        vertical-align: middle;\n",
       "    }\n",
       "\n",
       "    .dataframe tbody tr th {\n",
       "        vertical-align: top;\n",
       "    }\n",
       "\n",
       "    .dataframe thead th {\n",
       "        text-align: right;\n",
       "    }\n",
       "</style>\n",
       "<table border=\"1\" class=\"dataframe\">\n",
       "  <thead>\n",
       "    <tr style=\"text-align: right;\">\n",
       "      <th></th>\n",
       "      <th>과일이</th>\n",
       "      <th>길고</th>\n",
       "      <th>노란</th>\n",
       "      <th>먹고</th>\n",
       "      <th>바나나</th>\n",
       "      <th>사과</th>\n",
       "      <th>싶은</th>\n",
       "      <th>저는</th>\n",
       "      <th>좋아요</th>\n",
       "    </tr>\n",
       "  </thead>\n",
       "  <tbody>\n",
       "    <tr>\n",
       "      <th>0</th>\n",
       "      <td>0</td>\n",
       "      <td>0</td>\n",
       "      <td>0</td>\n",
       "      <td>1</td>\n",
       "      <td>0</td>\n",
       "      <td>1</td>\n",
       "      <td>1</td>\n",
       "      <td>0</td>\n",
       "      <td>0</td>\n",
       "    </tr>\n",
       "    <tr>\n",
       "      <th>1</th>\n",
       "      <td>0</td>\n",
       "      <td>0</td>\n",
       "      <td>0</td>\n",
       "      <td>1</td>\n",
       "      <td>1</td>\n",
       "      <td>0</td>\n",
       "      <td>1</td>\n",
       "      <td>0</td>\n",
       "      <td>0</td>\n",
       "    </tr>\n",
       "    <tr>\n",
       "      <th>2</th>\n",
       "      <td>0</td>\n",
       "      <td>1</td>\n",
       "      <td>1</td>\n",
       "      <td>0</td>\n",
       "      <td>2</td>\n",
       "      <td>0</td>\n",
       "      <td>0</td>\n",
       "      <td>0</td>\n",
       "      <td>0</td>\n",
       "    </tr>\n",
       "    <tr>\n",
       "      <th>3</th>\n",
       "      <td>1</td>\n",
       "      <td>0</td>\n",
       "      <td>0</td>\n",
       "      <td>0</td>\n",
       "      <td>0</td>\n",
       "      <td>0</td>\n",
       "      <td>0</td>\n",
       "      <td>1</td>\n",
       "      <td>1</td>\n",
       "    </tr>\n",
       "  </tbody>\n",
       "</table>\n",
       "</div>"
      ],
      "text/plain": [
       "   과일이  길고  노란  먹고  바나나  사과  싶은  저는  좋아요\n",
       "0    0   0   0   1    0   1   1   0    0\n",
       "1    0   0   0   1    1   0   1   0    0\n",
       "2    0   1   1   0    2   0   0   0    0\n",
       "3    1   0   0   0    0   0   0   1    1"
      ]
     },
     "execution_count": 4,
     "metadata": {},
     "output_type": "execute_result"
    }
   ],
   "source": [
    "# Document-Term Matrix(DTM) : 문서에서 등장하는 각 단어들의 빈도를 행렬로 표현\n",
    "result = []\n",
    "for i in range(N):\n",
    "    result.append([])\n",
    "    d = docs[i]\n",
    "    for j in range(len(vocab)):\n",
    "        t = vocab[j]        \n",
    "        result[-1].append(tf(t, d))\n",
    "\n",
    "tf_ = pd.DataFrame(result, columns = vocab)\n",
    "tf_"
   ]
  },
  {
   "cell_type": "code",
   "execution_count": 5,
   "metadata": {
    "colab": {
     "base_uri": "https://localhost:8080/",
     "height": 319
    },
    "colab_type": "code",
    "executionInfo": {
     "elapsed": 2344,
     "status": "ok",
     "timestamp": 1600822262493,
     "user": {
      "displayName": "고병화",
      "photoUrl": "https://lh3.googleusercontent.com/a-/AOh14GgLZcAZyPt33HiIqtXjHiL8D4PIcVPdfLgODP1QBA=s64",
      "userId": "12645007744594631320"
     },
     "user_tz": -540
    },
    "id": "EJ-tAcW5B7Zq",
    "outputId": "49fa2b80-130a-4374-934c-c34408edf471"
   },
   "outputs": [
    {
     "data": {
      "text/html": [
       "<div>\n",
       "<style scoped>\n",
       "    .dataframe tbody tr th:only-of-type {\n",
       "        vertical-align: middle;\n",
       "    }\n",
       "\n",
       "    .dataframe tbody tr th {\n",
       "        vertical-align: top;\n",
       "    }\n",
       "\n",
       "    .dataframe thead th {\n",
       "        text-align: right;\n",
       "    }\n",
       "</style>\n",
       "<table border=\"1\" class=\"dataframe\">\n",
       "  <thead>\n",
       "    <tr style=\"text-align: right;\">\n",
       "      <th></th>\n",
       "      <th>IDF</th>\n",
       "    </tr>\n",
       "  </thead>\n",
       "  <tbody>\n",
       "    <tr>\n",
       "      <th>과일이</th>\n",
       "      <td>0.693147</td>\n",
       "    </tr>\n",
       "    <tr>\n",
       "      <th>길고</th>\n",
       "      <td>0.693147</td>\n",
       "    </tr>\n",
       "    <tr>\n",
       "      <th>노란</th>\n",
       "      <td>0.693147</td>\n",
       "    </tr>\n",
       "    <tr>\n",
       "      <th>먹고</th>\n",
       "      <td>0.287682</td>\n",
       "    </tr>\n",
       "    <tr>\n",
       "      <th>바나나</th>\n",
       "      <td>0.287682</td>\n",
       "    </tr>\n",
       "    <tr>\n",
       "      <th>사과</th>\n",
       "      <td>0.693147</td>\n",
       "    </tr>\n",
       "    <tr>\n",
       "      <th>싶은</th>\n",
       "      <td>0.287682</td>\n",
       "    </tr>\n",
       "    <tr>\n",
       "      <th>저는</th>\n",
       "      <td>0.693147</td>\n",
       "    </tr>\n",
       "    <tr>\n",
       "      <th>좋아요</th>\n",
       "      <td>0.693147</td>\n",
       "    </tr>\n",
       "  </tbody>\n",
       "</table>\n",
       "</div>"
      ],
      "text/plain": [
       "          IDF\n",
       "과일이  0.693147\n",
       "길고   0.693147\n",
       "노란   0.693147\n",
       "먹고   0.287682\n",
       "바나나  0.287682\n",
       "사과   0.693147\n",
       "싶은   0.287682\n",
       "저는   0.693147\n",
       "좋아요  0.693147"
      ]
     },
     "execution_count": 5,
     "metadata": {},
     "output_type": "execute_result"
    }
   ],
   "source": [
    "result = []\n",
    "for j in range(len(vocab)):\n",
    "    t = vocab[j]\n",
    "    result.append(idf(t))\n",
    "\n",
    "idf_ = pd.DataFrame(result, index = vocab, columns = [\"IDF\"])\n",
    "idf_"
   ]
  },
  {
   "cell_type": "code",
   "execution_count": 6,
   "metadata": {
    "colab": {
     "base_uri": "https://localhost:8080/",
     "height": 168
    },
    "colab_type": "code",
    "executionInfo": {
     "elapsed": 2332,
     "status": "ok",
     "timestamp": 1600822262494,
     "user": {
      "displayName": "고병화",
      "photoUrl": "https://lh3.googleusercontent.com/a-/AOh14GgLZcAZyPt33HiIqtXjHiL8D4PIcVPdfLgODP1QBA=s64",
      "userId": "12645007744594631320"
     },
     "user_tz": -540
    },
    "id": "0GauXZCGB7Zx",
    "outputId": "ef84fd06-ef6a-4697-a0d9-6624b92e4ab7"
   },
   "outputs": [
    {
     "data": {
      "text/html": [
       "<div>\n",
       "<style scoped>\n",
       "    .dataframe tbody tr th:only-of-type {\n",
       "        vertical-align: middle;\n",
       "    }\n",
       "\n",
       "    .dataframe tbody tr th {\n",
       "        vertical-align: top;\n",
       "    }\n",
       "\n",
       "    .dataframe thead th {\n",
       "        text-align: right;\n",
       "    }\n",
       "</style>\n",
       "<table border=\"1\" class=\"dataframe\">\n",
       "  <thead>\n",
       "    <tr style=\"text-align: right;\">\n",
       "      <th></th>\n",
       "      <th>과일이</th>\n",
       "      <th>길고</th>\n",
       "      <th>노란</th>\n",
       "      <th>먹고</th>\n",
       "      <th>바나나</th>\n",
       "      <th>사과</th>\n",
       "      <th>싶은</th>\n",
       "      <th>저는</th>\n",
       "      <th>좋아요</th>\n",
       "    </tr>\n",
       "  </thead>\n",
       "  <tbody>\n",
       "    <tr>\n",
       "      <th>0</th>\n",
       "      <td>0.000000</td>\n",
       "      <td>0.000000</td>\n",
       "      <td>0.000000</td>\n",
       "      <td>0.287682</td>\n",
       "      <td>0.000000</td>\n",
       "      <td>0.693147</td>\n",
       "      <td>0.287682</td>\n",
       "      <td>0.000000</td>\n",
       "      <td>0.000000</td>\n",
       "    </tr>\n",
       "    <tr>\n",
       "      <th>1</th>\n",
       "      <td>0.000000</td>\n",
       "      <td>0.000000</td>\n",
       "      <td>0.000000</td>\n",
       "      <td>0.287682</td>\n",
       "      <td>0.287682</td>\n",
       "      <td>0.000000</td>\n",
       "      <td>0.287682</td>\n",
       "      <td>0.000000</td>\n",
       "      <td>0.000000</td>\n",
       "    </tr>\n",
       "    <tr>\n",
       "      <th>2</th>\n",
       "      <td>0.000000</td>\n",
       "      <td>0.693147</td>\n",
       "      <td>0.693147</td>\n",
       "      <td>0.000000</td>\n",
       "      <td>0.575364</td>\n",
       "      <td>0.000000</td>\n",
       "      <td>0.000000</td>\n",
       "      <td>0.000000</td>\n",
       "      <td>0.000000</td>\n",
       "    </tr>\n",
       "    <tr>\n",
       "      <th>3</th>\n",
       "      <td>0.693147</td>\n",
       "      <td>0.000000</td>\n",
       "      <td>0.000000</td>\n",
       "      <td>0.000000</td>\n",
       "      <td>0.000000</td>\n",
       "      <td>0.000000</td>\n",
       "      <td>0.000000</td>\n",
       "      <td>0.693147</td>\n",
       "      <td>0.693147</td>\n",
       "    </tr>\n",
       "  </tbody>\n",
       "</table>\n",
       "</div>"
      ],
      "text/plain": [
       "        과일이        길고        노란        먹고       바나나        사과        싶은  \\\n",
       "0  0.000000  0.000000  0.000000  0.287682  0.000000  0.693147  0.287682   \n",
       "1  0.000000  0.000000  0.000000  0.287682  0.287682  0.000000  0.287682   \n",
       "2  0.000000  0.693147  0.693147  0.000000  0.575364  0.000000  0.000000   \n",
       "3  0.693147  0.000000  0.000000  0.000000  0.000000  0.000000  0.000000   \n",
       "\n",
       "         저는       좋아요  \n",
       "0  0.000000  0.000000  \n",
       "1  0.000000  0.000000  \n",
       "2  0.000000  0.000000  \n",
       "3  0.693147  0.693147  "
      ]
     },
     "execution_count": 6,
     "metadata": {},
     "output_type": "execute_result"
    }
   ],
   "source": [
    "result = []\n",
    "for i in range(N):\n",
    "    result.append([])\n",
    "    d = docs[i]\n",
    "    for j in range(len(vocab)):\n",
    "        t = vocab[j]\n",
    "\n",
    "        result[-1].append(tfidf(t,d))\n",
    "\n",
    "tfidf_ = pd.DataFrame(result, columns = vocab)\n",
    "tfidf_\n",
    "\n",
    "# TF-IDF는 모든 문서에서 자주 등장하는 단어는 중요도가 낮다고 판단하며, 특정 문서에서만 자주 등장하는 단어는 중요도가 높다고 판단한다 \n",
    "# TF-IDF 값이 낮으면 중요도가 낮은 것이며, TF-IDF 값이 크면 중요도가 큰 것. 즉, the나 a와 같이 불용어의 경우에는 모든 문서에 자주 \n",
    "# 등장하기 마련이기 때문에 자연스럽게 불용어의 TF-IDF의 값은 다른 단어의 TF-IDF에 비해서 낮아지게 된다"
   ]
  },
  {
   "cell_type": "markdown",
   "metadata": {
    "colab_type": "text",
    "id": "TojL0Ux3B7Z5"
   },
   "source": [
    "### 사이킷런을 이용한 DTM과 TF-IDF"
   ]
  },
  {
   "cell_type": "code",
   "execution_count": 7,
   "metadata": {
    "colab": {
     "base_uri": "https://localhost:8080/",
     "height": 91
    },
    "colab_type": "code",
    "executionInfo": {
     "elapsed": 2313,
     "status": "ok",
     "timestamp": 1600822262495,
     "user": {
      "displayName": "고병화",
      "photoUrl": "https://lh3.googleusercontent.com/a-/AOh14GgLZcAZyPt33HiIqtXjHiL8D4PIcVPdfLgODP1QBA=s64",
      "userId": "12645007744594631320"
     },
     "user_tz": -540
    },
    "id": "CBTZiNvsB7Z7",
    "outputId": "5c93d2b2-5aca-48f9-8261-a69ddaf3dd35"
   },
   "outputs": [
    {
     "name": "stdout",
     "output_type": "stream",
     "text": [
      "[[0 1 0 1 0 1 0 1 1]\n",
      " [0 0 1 0 0 0 0 1 0]\n",
      " [1 0 0 0 1 0 1 0 0]]\n",
      "{'you': 7, 'know': 1, 'want': 5, 'your': 8, 'love': 3, 'like': 2, 'what': 6, 'should': 4, 'do': 0}\n"
     ]
    }
   ],
   "source": [
    "from sklearn.feature_extraction.text import CountVectorizer\n",
    "corpus = [\n",
    "    'you know I want your love',\n",
    "    'I like you',\n",
    "    'what should I do ',    \n",
    "]\n",
    "vector = CountVectorizer()\n",
    "print(vector.fit_transform(corpus).toarray()) # 코퍼스로부터 각 단어의 빈도 수를 기록한다.\n",
    "print(vector.vocabulary_)                     # 각 단어의 인덱스가 어떻게 부여되었는지를 보여준다 , 한개의 문자는 인덱스를 만들지 않음"
   ]
  },
  {
   "cell_type": "code",
   "execution_count": 8,
   "metadata": {
    "colab": {
     "base_uri": "https://localhost:8080/",
     "height": 147
    },
    "colab_type": "code",
    "executionInfo": {
     "elapsed": 2304,
     "status": "ok",
     "timestamp": 1600822262495,
     "user": {
      "displayName": "고병화",
      "photoUrl": "https://lh3.googleusercontent.com/a-/AOh14GgLZcAZyPt33HiIqtXjHiL8D4PIcVPdfLgODP1QBA=s64",
      "userId": "12645007744594631320"
     },
     "user_tz": -540
    },
    "id": "PM2A8Gj6B7aG",
    "outputId": "155d5be1-730e-490c-995b-554ac979c3e1"
   },
   "outputs": [
    {
     "name": "stdout",
     "output_type": "stream",
     "text": [
      "[[0.         0.46735098 0.         0.46735098 0.         0.46735098\n",
      "  0.         0.35543247 0.46735098]\n",
      " [0.         0.         0.79596054 0.         0.         0.\n",
      "  0.         0.60534851 0.        ]\n",
      " [0.57735027 0.         0.         0.         0.57735027 0.\n",
      "  0.57735027 0.         0.        ]]\n",
      "{'you': 7, 'know': 1, 'want': 5, 'your': 8, 'love': 3, 'like': 2, 'what': 6, 'should': 4, 'do': 0}\n"
     ]
    }
   ],
   "source": [
    "from sklearn.feature_extraction.text import TfidfVectorizer\n",
    "corpus = [\n",
    "    'you know I want your love',\n",
    "    'I like you',\n",
    "    'what should I do ',    \n",
    "]\n",
    "tfidfv = TfidfVectorizer().fit(corpus)\n",
    "print(tfidfv.transform(corpus).toarray())\n",
    "print(tfidfv.vocabulary_)"
   ]
  },
  {
   "cell_type": "markdown",
   "metadata": {
    "colab_type": "text",
    "id": "cPOUvXu1B7aO"
   },
   "source": [
    "## [2] 잠재 의미 분석(Latent Semantic Analysis, LSA)\n",
    "SA는 기본적으로 DTM이나 TF-IDF 행렬에 절단된 SVD(truncated SVD)를 사용하여 차원을 축소시키고, 단어들의 잠재적인 의미를 끌어낸다"
   ]
  },
  {
   "cell_type": "code",
   "execution_count": 9,
   "metadata": {
    "colab": {},
    "colab_type": "code",
    "executionInfo": {
     "elapsed": 2728,
     "status": "ok",
     "timestamp": 1600822262922,
     "user": {
      "displayName": "고병화",
      "photoUrl": "https://lh3.googleusercontent.com/a-/AOh14GgLZcAZyPt33HiIqtXjHiL8D4PIcVPdfLgODP1QBA=s64",
      "userId": "12645007744594631320"
     },
     "user_tz": -540
    },
    "id": "6R_ybZ37B7aQ"
   },
   "outputs": [],
   "source": [
    "from sklearn.datasets import fetch_20newsgroups"
   ]
  },
  {
   "cell_type": "code",
   "execution_count": 10,
   "metadata": {
    "colab": {
     "base_uri": "https://localhost:8080/",
     "height": 73
    },
    "colab_type": "code",
    "executionInfo": {
     "elapsed": 14073,
     "status": "ok",
     "timestamp": 1600822274278,
     "user": {
      "displayName": "고병화",
      "photoUrl": "https://lh3.googleusercontent.com/a-/AOh14GgLZcAZyPt33HiIqtXjHiL8D4PIcVPdfLgODP1QBA=s64",
      "userId": "12645007744594631320"
     },
     "user_tz": -540
    },
    "id": "9pfdZawtB7aX",
    "outputId": "ed514345-4333-4441-f6a2-622bbf694ac1"
   },
   "outputs": [
    {
     "data": {
      "text/plain": [
       "11314"
      ]
     },
     "execution_count": 10,
     "metadata": {},
     "output_type": "execute_result"
    }
   ],
   "source": [
    "# wenty Newsgroups 뉴스 그룹 데이터 읽어오기 \n",
    "dataset = fetch_20newsgroups(shuffle=True, random_state=1, remove=('headers', 'footers', 'quotes'))\n",
    "documents = dataset.data   # list\n",
    "len(documents) # 11314"
   ]
  },
  {
   "cell_type": "code",
   "execution_count": 11,
   "metadata": {
    "colab": {
     "base_uri": "https://localhost:8080/",
     "height": 91
    },
    "colab_type": "code",
    "executionInfo": {
     "elapsed": 14067,
     "status": "ok",
     "timestamp": 1600822274279,
     "user": {
      "displayName": "고병화",
      "photoUrl": "https://lh3.googleusercontent.com/a-/AOh14GgLZcAZyPt33HiIqtXjHiL8D4PIcVPdfLgODP1QBA=s64",
      "userId": "12645007744594631320"
     },
     "user_tz": -540
    },
    "id": "AkT5tOJWB7af",
    "outputId": "d93d1ecb-4b5e-4db6-fab7-3fc1b5c28ee9"
   },
   "outputs": [
    {
     "data": {
      "text/plain": [
       "\"\\n\\n\\n\\n\\n\\n\\nYeah, do you expect people to read the FAQ, etc. and actually accept hard\\natheism?  No, you need a little leap of faith, Jimmy.  Your logic runs out\\nof steam!\\n\\n\\n\\n\\n\\n\\n\\nJim,\\n\\nSorry I can't pity you, Jim.  And I'm sorry that you have these feelings of\\ndenial about the faith you need to get by.  Oh well, just pretend that it will\\nall end happily ever after anyway.  Maybe if you start a new newsgroup,\\nalt.atheist.hard, you won't be bummin' so much?\\n\\n\\n\\n\\n\\n\\nBye-Bye, Big Jim.  Don't forget your Flintstone's Chewables!  :) \\n--\\nBake Timmons, III\""
      ]
     },
     "execution_count": 11,
     "metadata": {},
     "output_type": "execute_result"
    }
   ],
   "source": [
    "documents[1]"
   ]
  },
  {
   "cell_type": "code",
   "execution_count": 12,
   "metadata": {
    "colab": {
     "base_uri": "https://localhost:8080/",
     "height": 56
    },
    "colab_type": "code",
    "executionInfo": {
     "elapsed": 14058,
     "status": "ok",
     "timestamp": 1600822274280,
     "user": {
      "displayName": "고병화",
      "photoUrl": "https://lh3.googleusercontent.com/a-/AOh14GgLZcAZyPt33HiIqtXjHiL8D4PIcVPdfLgODP1QBA=s64",
      "userId": "12645007744594631320"
     },
     "user_tz": -540
    },
    "id": "o4lUCgdpB7an",
    "outputId": "8317cc8d-33be-422e-f7e0-05277b5af034"
   },
   "outputs": [
    {
     "name": "stdout",
     "output_type": "stream",
     "text": [
      "['alt.atheism', 'comp.graphics', 'comp.os.ms-windows.misc', 'comp.sys.ibm.pc.hardware', 'comp.sys.mac.hardware', 'comp.windows.x', 'misc.forsale', 'rec.autos', 'rec.motorcycles', 'rec.sport.baseball', 'rec.sport.hockey', 'sci.crypt', 'sci.electronics', 'sci.med', 'sci.space', 'soc.religion.christian', 'talk.politics.guns', 'talk.politics.mideast', 'talk.politics.misc', 'talk.religion.misc']\n"
     ]
    }
   ],
   "source": [
    "print(dataset.target_names)"
   ]
  },
  {
   "cell_type": "markdown",
   "metadata": {
    "colab_type": "text",
    "id": "JibjU7BSB7aw"
   },
   "source": [
    "### 텍스트 전처리"
   ]
  },
  {
   "cell_type": "code",
   "execution_count": 13,
   "metadata": {
    "colab": {},
    "colab_type": "code",
    "executionInfo": {
     "elapsed": 14858,
     "status": "ok",
     "timestamp": 1600822275084,
     "user": {
      "displayName": "고병화",
      "photoUrl": "https://lh3.googleusercontent.com/a-/AOh14GgLZcAZyPt33HiIqtXjHiL8D4PIcVPdfLgODP1QBA=s64",
      "userId": "12645007744594631320"
     },
     "user_tz": -540
    },
    "id": "H_Xt8wIeB7ax"
   },
   "outputs": [],
   "source": [
    "news_df = pd.DataFrame({'document':documents})\n",
    "# 특수 문자 제거\n",
    "news_df['clean_doc'] = news_df['document'].str.replace(\"[^a-zA-Z]\", \" \")\n",
    "# 길이가 3이하인 단어는 제거 (길이가 짧은 단어 제거)\n",
    "news_df['clean_doc'] = news_df['clean_doc'].apply(lambda x: ' '.join([w for w in x.split() if len(w)>3]))\n",
    "# 전체 단어에 대한 소문자 변환\n",
    "news_df['clean_doc'] = news_df['clean_doc'].apply(lambda x: x.lower())"
   ]
  },
  {
   "cell_type": "code",
   "execution_count": 14,
   "metadata": {
    "colab": {
     "base_uri": "https://localhost:8080/",
     "height": 73
    },
    "colab_type": "code",
    "executionInfo": {
     "elapsed": 14850,
     "status": "ok",
     "timestamp": 1600822275086,
     "user": {
      "displayName": "고병화",
      "photoUrl": "https://lh3.googleusercontent.com/a-/AOh14GgLZcAZyPt33HiIqtXjHiL8D4PIcVPdfLgODP1QBA=s64",
      "userId": "12645007744594631320"
     },
     "user_tz": -540
    },
    "id": "0cMmVjhaB7a1",
    "outputId": "56600b11-fd86-4692-8ea8-2daa9beb7e2b"
   },
   "outputs": [
    {
     "data": {
      "text/plain": [
       "'yeah expect people read actually accept hard atheism need little leap faith jimmy your logic runs steam sorry pity sorry that have these feelings denial about faith need well just pretend that will happily ever after anyway maybe start newsgroup atheist hard bummin much forget your flintstone chewables bake timmons'"
      ]
     },
     "execution_count": 14,
     "metadata": {},
     "output_type": "execute_result"
    }
   ],
   "source": [
    "news_df['clean_doc'][1]"
   ]
  },
  {
   "cell_type": "code",
   "execution_count": 15,
   "metadata": {
    "colab": {
     "base_uri": "https://localhost:8080/",
     "height": 73
    },
    "colab_type": "code",
    "executionInfo": {
     "elapsed": 16350,
     "status": "ok",
     "timestamp": 1600822276593,
     "user": {
      "displayName": "고병화",
      "photoUrl": "https://lh3.googleusercontent.com/a-/AOh14GgLZcAZyPt33HiIqtXjHiL8D4PIcVPdfLgODP1QBA=s64",
      "userId": "12645007744594631320"
     },
     "user_tz": -540
    },
    "id": "5n9f7gPtCXMb",
    "outputId": "021b4a7d-ca79-4e81-cc3b-25049cc3a584"
   },
   "outputs": [
    {
     "name": "stderr",
     "output_type": "stream",
     "text": [
      "[nltk_data] Downloading package stopwords to\n",
      "[nltk_data]     C:\\Users\\storm\\AppData\\Roaming\\nltk_data...\n",
      "[nltk_data]   Package stopwords is already up-to-date!\n",
      "[nltk_data] Downloading package wordnet to\n",
      "[nltk_data]     C:\\Users\\storm\\AppData\\Roaming\\nltk_data...\n",
      "[nltk_data]   Package wordnet is already up-to-date!\n"
     ]
    },
    {
     "data": {
      "text/plain": [
       "True"
      ]
     },
     "execution_count": 15,
     "metadata": {},
     "output_type": "execute_result"
    }
   ],
   "source": [
    "import nltk\n",
    "nltk.download('stopwords')\n",
    "nltk.download('wordnet')"
   ]
  },
  {
   "cell_type": "code",
   "execution_count": 16,
   "metadata": {
    "colab": {},
    "colab_type": "code",
    "executionInfo": {
     "elapsed": 17876,
     "status": "ok",
     "timestamp": 1600822278121,
     "user": {
      "displayName": "고병화",
      "photoUrl": "https://lh3.googleusercontent.com/a-/AOh14GgLZcAZyPt33HiIqtXjHiL8D4PIcVPdfLgODP1QBA=s64",
      "userId": "12645007744594631320"
     },
     "user_tz": -540
    },
    "id": "YphcfWXnB7a7"
   },
   "outputs": [],
   "source": [
    "from nltk.corpus import stopwords\n",
    "stop_words = stopwords.words('english') # NLTK로부터 불용어를 받아옵니다.\n",
    "tokenized_doc = news_df['clean_doc'].apply(lambda x: x.split()) # 토큰화\n",
    "tokenized_doc = tokenized_doc.apply(lambda x: [item for item in x if item not in stop_words])\n",
    "# 불용어를 제거"
   ]
  },
  {
   "cell_type": "code",
   "execution_count": 17,
   "metadata": {
    "colab": {
     "base_uri": "https://localhost:8080/",
     "height": 56
    },
    "colab_type": "code",
    "executionInfo": {
     "elapsed": 17872,
     "status": "ok",
     "timestamp": 1600822278124,
     "user": {
      "displayName": "고병화",
      "photoUrl": "https://lh3.googleusercontent.com/a-/AOh14GgLZcAZyPt33HiIqtXjHiL8D4PIcVPdfLgODP1QBA=s64",
      "userId": "12645007744594631320"
     },
     "user_tz": -540
    },
    "id": "d1wtaoUhB7bB",
    "outputId": "2298f141-52ab-4c84-9cb6-dab374cc75b0"
   },
   "outputs": [
    {
     "name": "stdout",
     "output_type": "stream",
     "text": [
      "['yeah', 'expect', 'people', 'read', 'actually', 'accept', 'hard', 'atheism', 'need', 'little', 'leap', 'faith', 'jimmy', 'logic', 'runs', 'steam', 'sorry', 'pity', 'sorry', 'feelings', 'denial', 'faith', 'need', 'well', 'pretend', 'happily', 'ever', 'anyway', 'maybe', 'start', 'newsgroup', 'atheist', 'hard', 'bummin', 'much', 'forget', 'flintstone', 'chewables', 'bake', 'timmons']\n"
     ]
    }
   ],
   "source": [
    "print(tokenized_doc[1])"
   ]
  },
  {
   "cell_type": "markdown",
   "metadata": {
    "colab_type": "text",
    "id": "vDSMfzcNB7bI"
   },
   "source": [
    "### TF-IDF 행렬 만들기"
   ]
  },
  {
   "cell_type": "code",
   "execution_count": 18,
   "metadata": {
    "colab": {},
    "colab_type": "code",
    "executionInfo": {
     "elapsed": 17871,
     "status": "ok",
     "timestamp": 1600822278125,
     "user": {
      "displayName": "고병화",
      "photoUrl": "https://lh3.googleusercontent.com/a-/AOh14GgLZcAZyPt33HiIqtXjHiL8D4PIcVPdfLgODP1QBA=s64",
      "userId": "12645007744594631320"
     },
     "user_tz": -540
    },
    "id": "fHqUBE7UB7bJ"
   },
   "outputs": [],
   "source": [
    "# 역토큰화 (토큰화 작업을 역으로 되돌림)\n",
    "detokenized_doc = []\n",
    "for i in range(len(news_df)):\n",
    "    t = ' '.join(tokenized_doc[i])\n",
    "    detokenized_doc.append(t)\n",
    "\n",
    "news_df['clean_doc'] = detokenized_doc"
   ]
  },
  {
   "cell_type": "code",
   "execution_count": 19,
   "metadata": {
    "colab": {
     "base_uri": "https://localhost:8080/",
     "height": 54
    },
    "colab_type": "code",
    "executionInfo": {
     "elapsed": 17864,
     "status": "ok",
     "timestamp": 1600822278125,
     "user": {
      "displayName": "고병화",
      "photoUrl": "https://lh3.googleusercontent.com/a-/AOh14GgLZcAZyPt33HiIqtXjHiL8D4PIcVPdfLgODP1QBA=s64",
      "userId": "12645007744594631320"
     },
     "user_tz": -540
    },
    "id": "1rakV_t2B7bN",
    "outputId": "362b93a1-6dc7-4fbb-d0e3-59a66ee0ee5b"
   },
   "outputs": [
    {
     "data": {
      "text/plain": [
       "'yeah expect people read actually accept hard atheism need little leap faith jimmy logic runs steam sorry pity sorry feelings denial faith need well pretend happily ever anyway maybe start newsgroup atheist hard bummin much forget flintstone chewables bake timmons'"
      ]
     },
     "execution_count": 19,
     "metadata": {},
     "output_type": "execute_result"
    }
   ],
   "source": [
    "news_df['clean_doc'][1]"
   ]
  },
  {
   "cell_type": "code",
   "execution_count": 20,
   "metadata": {
    "colab": {
     "base_uri": "https://localhost:8080/",
     "height": 36
    },
    "colab_type": "code",
    "executionInfo": {
     "elapsed": 19034,
     "status": "ok",
     "timestamp": 1600822279301,
     "user": {
      "displayName": "고병화",
      "photoUrl": "https://lh3.googleusercontent.com/a-/AOh14GgLZcAZyPt33HiIqtXjHiL8D4PIcVPdfLgODP1QBA=s64",
      "userId": "12645007744594631320"
     },
     "user_tz": -540
    },
    "id": "rgdtusQSB7bS",
    "outputId": "8d9c4eae-407b-47ad-ad4e-99ce725eb367"
   },
   "outputs": [
    {
     "data": {
      "text/plain": [
       "(11314, 1000)"
      ]
     },
     "execution_count": 20,
     "metadata": {},
     "output_type": "execute_result"
    }
   ],
   "source": [
    "from sklearn.feature_extraction.text import TfidfVectorizer\n",
    "\n",
    "vectorizer = TfidfVectorizer(stop_words='english', \n",
    "max_features= 1000, # 상위 1,000개의 단어를 보존 \n",
    "max_df = 0.5, \n",
    "smooth_idf=True)\n",
    "\n",
    "X = vectorizer.fit_transform(news_df['clean_doc'])\n",
    "X.shape # TF-IDF 행렬의 크기 확인"
   ]
  },
  {
   "cell_type": "markdown",
   "metadata": {
    "colab_type": "text",
    "id": "22tX26aXB7bW"
   },
   "source": [
    "### 토픽 모델링(Topic Modeling)"
   ]
  },
  {
   "cell_type": "code",
   "execution_count": 21,
   "metadata": {
    "colab": {
     "base_uri": "https://localhost:8080/",
     "height": 36
    },
    "colab_type": "code",
    "executionInfo": {
     "elapsed": 22184,
     "status": "ok",
     "timestamp": 1600822282458,
     "user": {
      "displayName": "고병화",
      "photoUrl": "https://lh3.googleusercontent.com/a-/AOh14GgLZcAZyPt33HiIqtXjHiL8D4PIcVPdfLgODP1QBA=s64",
      "userId": "12645007744594631320"
     },
     "user_tz": -540
    },
    "id": "LdAK01syB7bY",
    "outputId": "0b0f3f98-8b7e-4efa-da66-2221f40db8e6"
   },
   "outputs": [
    {
     "data": {
      "text/plain": [
       "20"
      ]
     },
     "execution_count": 21,
     "metadata": {},
     "output_type": "execute_result"
    }
   ],
   "source": [
    "from sklearn.decomposition import TruncatedSVD\n",
    "svd_model = TruncatedSVD(n_components=20, algorithm='randomized', n_iter=100, random_state=122)\n",
    "svd_model.fit(X)\n",
    "len(svd_model.components_)   # 뉴스그룹 데이터가 20개의 카테고리를 갖고있었기 때문에, 20개의 토픽을 가졌다고 가정하고 토픽 모델링"
   ]
  },
  {
   "cell_type": "code",
   "execution_count": 22,
   "metadata": {
    "colab": {
     "base_uri": "https://localhost:8080/",
     "height": 36
    },
    "colab_type": "code",
    "executionInfo": {
     "elapsed": 22178,
     "status": "ok",
     "timestamp": 1600822282459,
     "user": {
      "displayName": "고병화",
      "photoUrl": "https://lh3.googleusercontent.com/a-/AOh14GgLZcAZyPt33HiIqtXjHiL8D4PIcVPdfLgODP1QBA=s64",
      "userId": "12645007744594631320"
     },
     "user_tz": -540
    },
    "id": "OPC9gB5sB7bg",
    "outputId": "734c57d6-06e0-4533-b52f-d3f953358211"
   },
   "outputs": [
    {
     "data": {
      "text/plain": [
       "(20, 1000)"
      ]
     },
     "execution_count": 22,
     "metadata": {},
     "output_type": "execute_result"
    }
   ],
   "source": [
    "np.shape(svd_model.components_)  # LSA에서 V.T에 해당, 토픽의 수 t(20), 단어수(1000)"
   ]
  },
  {
   "cell_type": "code",
   "execution_count": 23,
   "metadata": {
    "colab": {
     "base_uri": "https://localhost:8080/",
     "height": 388
    },
    "colab_type": "code",
    "executionInfo": {
     "elapsed": 22173,
     "status": "ok",
     "timestamp": 1600822282460,
     "user": {
      "displayName": "고병화",
      "photoUrl": "https://lh3.googleusercontent.com/a-/AOh14GgLZcAZyPt33HiIqtXjHiL8D4PIcVPdfLgODP1QBA=s64",
      "userId": "12645007744594631320"
     },
     "user_tz": -540
    },
    "id": "Un4Fbqa2B7bn",
    "outputId": "98e2d603-7549-480e-d787-f5ba16b1f118"
   },
   "outputs": [
    {
     "name": "stdout",
     "output_type": "stream",
     "text": [
      "Topic 1: [('like', 0.21378), ('know', 0.20032), ('people', 0.19317), ('think', 0.17807), ('good', 0.15105)]\n",
      "Topic 2: [('thanks', 0.3292), ('windows', 0.29094), ('card', 0.18016), ('drive', 0.1739), ('mail', 0.15126)]\n",
      "Topic 3: [('game', 0.37161), ('team', 0.32553), ('year', 0.28204), ('games', 0.25416), ('season', 0.18464)]\n",
      "Topic 4: [('drive', 0.52804), ('scsi', 0.20035), ('disk', 0.15514), ('hard', 0.15506), ('card', 0.14041)]\n",
      "Topic 5: [('windows', 0.4052), ('file', 0.25609), ('window', 0.18057), ('files', 0.1619), ('program', 0.1401)]\n",
      "Topic 6: [('chip', 0.16138), ('government', 0.16026), ('mail', 0.15625), ('space', 0.1505), ('information', 0.13575)]\n",
      "Topic 7: [('like', 0.67109), ('bike', 0.14268), ('know', 0.11428), ('chip', 0.11058), ('sounds', 0.10398)]\n",
      "Topic 8: [('card', 0.45115), ('sale', 0.21607), ('video', 0.21391), ('monitor', 0.14913), ('offer', 0.14872)]\n",
      "Topic 9: [('know', 0.44979), ('card', 0.35491), ('chip', 0.17206), ('video', 0.15184), ('government', 0.15053)]\n",
      "Topic 10: [('good', 0.41591), ('know', 0.23083), ('time', 0.18988), ('bike', 0.11332), ('jesus', 0.09419)]\n",
      "Topic 11: [('think', 0.78338), ('chip', 0.10778), ('good', 0.10654), ('thanks', 0.08962), ('clipper', 0.07873)]\n",
      "Topic 12: [('thanks', 0.37328), ('problem', 0.21778), ('right', 0.21728), ('good', 0.21301), ('bike', 0.21102)]\n",
      "Topic 13: [('good', 0.3669), ('people', 0.33724), ('windows', 0.28297), ('know', 0.25208), ('file', 0.18138)]\n",
      "Topic 14: [('space', 0.39916), ('think', 0.23326), ('know', 0.17933), ('nasa', 0.15226), ('problem', 0.12932)]\n",
      "Topic 15: [('space', 0.30963), ('good', 0.30091), ('card', 0.2162), ('people', 0.20295), ('time', 0.15889)]\n",
      "Topic 16: [('people', 0.46931), ('problem', 0.20916), ('window', 0.16015), ('time', 0.13971), ('game', 0.13578)]\n",
      "Topic 17: [('time', 0.34532), ('bike', 0.26907), ('right', 0.26148), ('windows', 0.19697), ('file', 0.19177)]\n",
      "Topic 18: [('time', 0.60055), ('problem', 0.15235), ('file', 0.13682), ('think', 0.13024), ('israel', 0.1093)]\n",
      "Topic 19: [('file', 0.45058), ('need', 0.25892), ('card', 0.18726), ('files', 0.1769), ('problem', 0.15143)]\n",
      "Topic 20: [('problem', 0.32669), ('file', 0.2618), ('thanks', 0.23506), ('used', 0.19363), ('space', 0.13747)]\n"
     ]
    }
   ],
   "source": [
    "terms = vectorizer.get_feature_names() # 단어 집합. 1,000개의 단어가 저장됨.\n",
    "\n",
    "# 값이 큰 5개의 값을 찾아서 단어로 출력\n",
    "def get_topics(components, feature_names, n=5):\n",
    "    for idx, topic in enumerate(components):\n",
    "        print(\"Topic %d:\" % (idx+1), [(feature_names[i], topic[i].round(5)) for i in topic.argsort()[:-n - 1:-1]])\n",
    "\n",
    "get_topics(svd_model.components_,terms)\n",
    "\n",
    "# 각 20개의 행의 각 1,000개의 열 중 가장 값이 큰 5개의 값을 찾아서 단어로 출력"
   ]
  },
  {
   "cell_type": "code",
   "execution_count": 24,
   "metadata": {
    "colab": {
     "base_uri": "https://localhost:8080/",
     "height": 110
    },
    "colab_type": "code",
    "executionInfo": {
     "elapsed": 22166,
     "status": "ok",
     "timestamp": 1600822282460,
     "user": {
      "displayName": "고병화",
      "photoUrl": "https://lh3.googleusercontent.com/a-/AOh14GgLZcAZyPt33HiIqtXjHiL8D4PIcVPdfLgODP1QBA=s64",
      "userId": "12645007744594631320"
     },
     "user_tz": -540
    },
    "id": "YvjLuLfCB7bu",
    "outputId": "962c326b-e868-494b-a9f7-d6acf07955e0"
   },
   "outputs": [
    {
     "data": {
      "text/plain": [
       "\"\\n\\n\\n\\n\\tI'd like to see this info as well.  As for wavelength, I think\\nyou're primarily going to find two - 880 nM +/- a bit, and/or 950 nM\\n+/- a bit.  Usually it is about 10 nM either way.  The two most common\\nI have seen were 880 and 950 but I have also heard of 890 and 940.\\nI'm not sure that the 10 nM one way or another will make a great deal of\\ndifference.\\n\\n\\tAnother suggestion - find a brand of TV that uses an IR remote,\\nand go look at the SAMS photofact for it.  You can often find some very\\ndetailed schematics and parts list for not only the receiver but the\\ntransmitter as well, including carrier freq. specs. and tone decoding\\nspecs. if the system uses that.\""
      ]
     },
     "execution_count": 24,
     "metadata": {},
     "output_type": "execute_result"
    }
   ],
   "source": [
    "documents[20]"
   ]
  },
  {
   "cell_type": "code",
   "execution_count": 25,
   "metadata": {
    "colab": {},
    "colab_type": "code",
    "executionInfo": {
     "elapsed": 22165,
     "status": "ok",
     "timestamp": 1600822282461,
     "user": {
      "displayName": "고병화",
      "photoUrl": "https://lh3.googleusercontent.com/a-/AOh14GgLZcAZyPt33HiIqtXjHiL8D4PIcVPdfLgODP1QBA=s64",
      "userId": "12645007744594631320"
     },
     "user_tz": -540
    },
    "id": "pahbLRVBB7b2"
   },
   "outputs": [],
   "source": [
    "# LSA의 단점 : SVD의 특성상 이미 계산된 LSA에 새로운 데이터를 추가하여 계산하려고하면 보통 처음부터 다시 계산해야 한다. \n",
    "# 즉, 새로운 정보에 대해 업데이트가 어렵다. "
   ]
  },
  {
   "cell_type": "markdown",
   "metadata": {
    "colab_type": "text",
    "id": "d6h1xtLDB7cA"
   },
   "source": [
    "## [3] 잠재 디리클레 할당(Latent Dirichlet Allocation, LDA)]\n",
    "토픽 모델링의 대표적인 알고리즘, LDA는 문서들은 토픽들의 혼합으로 구성되어져 있으며, 토픽들은 확률 분포에 기반하여 단어들을 생성한다고 가정한다.<br>\n",
    "데이터가 주어지면, LDA는 문서가 생성되던 과정을 역추적 한다. <br>\n",
    "LSA : DTM을 차원 축소 하여 축소 차원에서 근접 단어들을 토픽으로 묶는다.  <br>\n",
    "LDA : 단어가 특정 토픽에 존재할 확률과 문서에 특정 토픽이 존재할 확률을 결합확률로 추정하여 토픽을 추출한다."
   ]
  },
  {
   "cell_type": "code",
   "execution_count": 26,
   "metadata": {
    "colab": {
     "base_uri": "https://localhost:8080/",
     "height": 147
    },
    "colab_type": "code",
    "executionInfo": {
     "elapsed": 22159,
     "status": "ok",
     "timestamp": 1600822282462,
     "user": {
      "displayName": "고병화",
      "photoUrl": "https://lh3.googleusercontent.com/a-/AOh14GgLZcAZyPt33HiIqtXjHiL8D4PIcVPdfLgODP1QBA=s64",
      "userId": "12645007744594631320"
     },
     "user_tz": -540
    },
    "id": "IAnDXI-HB7cD",
    "outputId": "d7490dc8-032e-4bdc-f480-50693dc0718c"
   },
   "outputs": [
    {
     "name": "stdout",
     "output_type": "stream",
     "text": [
      "(11314,)\n"
     ]
    },
    {
     "data": {
      "text/plain": [
       "0    [well, sure, story, seem, biased, disagree, st...\n",
       "1    [yeah, expect, people, read, actually, accept,...\n",
       "2    [although, realize, principle, strongest, poin...\n",
       "3    [notwithstanding, legitimate, fuss, proposal, ...\n",
       "4    [well, change, scoring, playoff, pool, unfortu...\n",
       "Name: clean_doc, dtype: object"
      ]
     },
     "execution_count": 26,
     "metadata": {},
     "output_type": "execute_result"
    }
   ],
   "source": [
    "print(tokenized_doc.shape)\n",
    "tokenized_doc[:5]"
   ]
  },
  {
   "cell_type": "code",
   "execution_count": 27,
   "metadata": {
    "colab": {
     "base_uri": "https://localhost:8080/",
     "height": 56
    },
    "colab_type": "code",
    "executionInfo": {
     "elapsed": 24344,
     "status": "ok",
     "timestamp": 1600822284654,
     "user": {
      "displayName": "고병화",
      "photoUrl": "https://lh3.googleusercontent.com/a-/AOh14GgLZcAZyPt33HiIqtXjHiL8D4PIcVPdfLgODP1QBA=s64",
      "userId": "12645007744594631320"
     },
     "user_tz": -540
    },
    "id": "mqD30ik6B7cJ",
    "outputId": "3aeebe2b-c40b-49cc-dc2d-7e32e8416fe1"
   },
   "outputs": [
    {
     "name": "stdout",
     "output_type": "stream",
     "text": [
      "[(52, 1), (55, 1), (56, 1), (57, 1), (58, 1), (59, 1), (60, 1), (61, 1), (62, 1), (63, 1), (64, 1), (65, 1), (66, 2), (67, 1), (68, 1), (69, 1), (70, 1), (71, 2), (72, 1), (73, 1), (74, 1), (75, 1), (76, 1), (77, 1), (78, 2), (79, 1), (80, 1), (81, 1), (82, 1), (83, 1), (84, 1), (85, 2), (86, 1), (87, 1), (88, 1), (89, 1)]\n"
     ]
    }
   ],
   "source": [
    "# ! pip install gensim\n",
    "from gensim import corpora\n",
    "dictionary = corpora.Dictionary(tokenized_doc)\n",
    "corpus = [dictionary.doc2bow(text) for text in tokenized_doc]\n",
    "print(corpus[1]) # 수행된 결과에서 두번째 뉴스 출력. 첫번째 문서의 인덱스는 0"
   ]
  },
  {
   "cell_type": "code",
   "execution_count": 28,
   "metadata": {
    "colab": {
     "base_uri": "https://localhost:8080/",
     "height": 36
    },
    "colab_type": "code",
    "executionInfo": {
     "elapsed": 24338,
     "status": "ok",
     "timestamp": 1600822284656,
     "user": {
      "displayName": "고병화",
      "photoUrl": "https://lh3.googleusercontent.com/a-/AOh14GgLZcAZyPt33HiIqtXjHiL8D4PIcVPdfLgODP1QBA=s64",
      "userId": "12645007744594631320"
     },
     "user_tz": -540
    },
    "id": "KdPOiWfTB7cQ",
    "outputId": "7c4b9b12-6bb3-41c5-bcfe-c09db3236590"
   },
   "outputs": [
    {
     "name": "stdout",
     "output_type": "stream",
     "text": [
      "faith\n"
     ]
    }
   ],
   "source": [
    "print(dictionary[66])"
   ]
  },
  {
   "cell_type": "code",
   "execution_count": 29,
   "metadata": {
    "colab": {
     "base_uri": "https://localhost:8080/",
     "height": 36
    },
    "colab_type": "code",
    "executionInfo": {
     "elapsed": 24330,
     "status": "ok",
     "timestamp": 1600822284657,
     "user": {
      "displayName": "고병화",
      "photoUrl": "https://lh3.googleusercontent.com/a-/AOh14GgLZcAZyPt33HiIqtXjHiL8D4PIcVPdfLgODP1QBA=s64",
      "userId": "12645007744594631320"
     },
     "user_tz": -540
    },
    "id": "lfGkpRTHB7cX",
    "outputId": "c68b767d-abb6-4c1c-df96-79b997a75736"
   },
   "outputs": [
    {
     "data": {
      "text/plain": [
       "64281"
      ]
     },
     "execution_count": 29,
     "metadata": {},
     "output_type": "execute_result"
    }
   ],
   "source": [
    "len(dictionary)"
   ]
  },
  {
   "cell_type": "markdown",
   "metadata": {
    "colab_type": "text",
    "id": "AzfpZZ_XB7cd"
   },
   "source": [
    "#### LDA 모델 훈련시키기"
   ]
  },
  {
   "cell_type": "code",
   "execution_count": 30,
   "metadata": {
    "colab": {
     "base_uri": "https://localhost:8080/",
     "height": 388
    },
    "colab_type": "code",
    "executionInfo": {
     "elapsed": 154284,
     "status": "ok",
     "timestamp": 1600822414623,
     "user": {
      "displayName": "고병화",
      "photoUrl": "https://lh3.googleusercontent.com/a-/AOh14GgLZcAZyPt33HiIqtXjHiL8D4PIcVPdfLgODP1QBA=s64",
      "userId": "12645007744594631320"
     },
     "user_tz": -540
    },
    "id": "qMypT2nsB7ce",
    "outputId": "7d4d33f9-f084-47c5-fe3c-57c2919220cd"
   },
   "outputs": [
    {
     "name": "stdout",
     "output_type": "stream",
     "text": [
      "(0, '0.012*\"jesus\" + 0.008*\"christian\" + 0.008*\"people\" + 0.007*\"believe\"')\n",
      "(1, '0.012*\"health\" + 0.008*\"medical\" + 0.007*\"control\" + 0.006*\"states\"')\n",
      "(2, '0.013*\"said\" + 0.010*\"went\" + 0.007*\"left\" + 0.007*\"know\"')\n",
      "(3, '0.007*\"high\" + 0.006*\"pain\" + 0.006*\"power\" + 0.005*\"much\"')\n",
      "(4, '0.010*\"evidence\" + 0.009*\"science\" + 0.008*\"question\" + 0.008*\"argument\"')\n",
      "(5, '0.022*\"period\" + 0.015*\"play\" + 0.013*\"power\" + 0.009*\"scorer\"')\n",
      "(6, '0.023*\"drive\" + 0.018*\"card\" + 0.017*\"thanks\" + 0.016*\"windows\"')\n",
      "(7, '0.011*\"available\" + 0.010*\"software\" + 0.010*\"also\" + 0.009*\"mail\"')\n",
      "(8, '0.026*\"window\" + 0.015*\"server\" + 0.015*\"motif\" + 0.013*\"widget\"')\n",
      "(9, '0.015*\"president\" + 0.010*\"program\" + 0.010*\"space\" + 0.009*\"technology\"')\n",
      "(10, '0.028*\"chip\" + 0.022*\"encryption\" + 0.018*\"keys\" + 0.016*\"clipper\"')\n",
      "(11, '0.026*\"armenian\" + 0.020*\"armenians\" + 0.020*\"turkish\" + 0.012*\"turkey\"')\n",
      "(12, '0.016*\"people\" + 0.011*\"would\" + 0.007*\"government\" + 0.006*\"israel\"')\n",
      "(13, '0.028*\"food\" + 0.011*\"stealth\" + 0.009*\"chinese\" + 0.007*\"traded\"')\n",
      "(14, '0.019*\"space\" + 0.009*\"send\" + 0.008*\"list\" + 0.007*\"nasa\"')\n",
      "(15, '0.010*\"good\" + 0.009*\"bike\" + 0.008*\"power\" + 0.007*\"engine\"')\n",
      "(16, '0.022*\"would\" + 0.016*\"like\" + 0.014*\"think\" + 0.013*\"know\"')\n",
      "(17, '0.014*\"myers\" + 0.011*\"points\" + 0.010*\"penalty\" + 0.010*\"canada\"')\n",
      "(18, '0.027*\"game\" + 0.024*\"team\" + 0.018*\"games\" + 0.018*\"year\"')\n",
      "(19, '0.032*\"file\" + 0.018*\"output\" + 0.016*\"program\" + 0.015*\"entry\"')\n"
     ]
    }
   ],
   "source": [
    "import gensim\n",
    "NUM_TOPICS = 20    #20개의 토픽, k=20\n",
    "ldamodel = gensim.models.ldamodel.LdaModel(corpus, num_topics = NUM_TOPICS, id2word=dictionary, passes=15) #  passes는 알고리즘의 동작 횟수\n",
    "topics = ldamodel.print_topics(num_words=4)   #  4개의 단어만 출력 \n",
    "for topic in topics:\n",
    "    print(topic)\n",
    "# 각 단어 앞에 붙은 수치는 단어의 해당 토픽에 대한 기여도    "
   ]
  },
  {
   "cell_type": "code",
   "execution_count": 31,
   "metadata": {
    "colab": {
     "base_uri": "https://localhost:8080/",
     "height": 56
    },
    "colab_type": "code",
    "executionInfo": {
     "elapsed": 154278,
     "status": "ok",
     "timestamp": 1600822414624,
     "user": {
      "displayName": "고병화",
      "photoUrl": "https://lh3.googleusercontent.com/a-/AOh14GgLZcAZyPt33HiIqtXjHiL8D4PIcVPdfLgODP1QBA=s64",
      "userId": "12645007744594631320"
     },
     "user_tz": -540
    },
    "id": "zdx_WpF2B7cm",
    "outputId": "5260a8a6-427b-42f2-e90b-50b296aa22a9"
   },
   "outputs": [
    {
     "name": "stdout",
     "output_type": "stream",
     "text": [
      "[(0, '0.012*\"jesus\" + 0.008*\"christian\" + 0.008*\"people\" + 0.007*\"believe\" + 0.007*\"bible\" + 0.006*\"would\" + 0.006*\"church\" + 0.006*\"many\" + 0.006*\"christians\" + 0.005*\"religion\"'), (1, '0.012*\"health\" + 0.008*\"medical\" + 0.007*\"control\" + 0.006*\"states\" + 0.006*\"public\" + 0.005*\"study\" + 0.005*\"among\" + 0.005*\"bill\" + 0.005*\"number\" + 0.005*\"firearms\"'), (2, '0.013*\"said\" + 0.010*\"went\" + 0.007*\"left\" + 0.007*\"know\" + 0.007*\"people\" + 0.007*\"back\" + 0.007*\"came\" + 0.006*\"took\" + 0.006*\"started\" + 0.006*\"home\"'), (3, '0.007*\"high\" + 0.006*\"pain\" + 0.006*\"power\" + 0.005*\"much\" + 0.005*\"wire\" + 0.005*\"used\" + 0.005*\"cars\" + 0.005*\"problem\" + 0.004*\"ground\" + 0.004*\"usually\"'), (4, '0.010*\"evidence\" + 0.009*\"science\" + 0.008*\"question\" + 0.008*\"argument\" + 0.006*\"exist\" + 0.006*\"objective\" + 0.006*\"example\" + 0.005*\"must\" + 0.005*\"theory\" + 0.005*\"existence\"'), (5, '0.022*\"period\" + 0.015*\"play\" + 0.013*\"power\" + 0.009*\"scorer\" + 0.008*\"goal\" + 0.008*\"calgary\" + 0.007*\"second\" + 0.007*\"first\" + 0.006*\"kings\" + 0.006*\"hartford\"'), (6, '0.023*\"drive\" + 0.018*\"card\" + 0.017*\"thanks\" + 0.016*\"windows\" + 0.014*\"scsi\" + 0.013*\"disk\" + 0.012*\"problem\" + 0.012*\"anyone\" + 0.011*\"know\" + 0.011*\"system\"'), (7, '0.011*\"available\" + 0.010*\"software\" + 0.010*\"also\" + 0.009*\"mail\" + 0.009*\"information\" + 0.007*\"system\" + 0.007*\"version\" + 0.006*\"graphics\" + 0.006*\"used\" + 0.006*\"data\"'), (8, '0.026*\"window\" + 0.015*\"server\" + 0.015*\"motif\" + 0.013*\"widget\" + 0.011*\"application\" + 0.008*\"program\" + 0.008*\"display\" + 0.008*\"contrib\" + 0.008*\"using\" + 0.008*\"subject\"'), (9, '0.015*\"president\" + 0.010*\"program\" + 0.010*\"space\" + 0.009*\"technology\" + 0.007*\"administration\" + 0.007*\"national\" + 0.006*\"launch\" + 0.006*\"development\" + 0.006*\"jobs\" + 0.006*\"year\"'), (10, '0.028*\"chip\" + 0.022*\"encryption\" + 0.018*\"keys\" + 0.016*\"clipper\" + 0.013*\"security\" + 0.012*\"privacy\" + 0.011*\"government\" + 0.010*\"algorithm\" + 0.009*\"system\" + 0.009*\"secure\"'), (11, '0.026*\"armenian\" + 0.020*\"armenians\" + 0.020*\"turkish\" + 0.012*\"turkey\" + 0.010*\"greek\" + 0.010*\"armenia\" + 0.009*\"turks\" + 0.009*\"jews\" + 0.008*\"genocide\" + 0.007*\"russian\"'), (12, '0.016*\"people\" + 0.011*\"would\" + 0.007*\"government\" + 0.006*\"israel\" + 0.005*\"state\" + 0.004*\"right\" + 0.004*\"rights\" + 0.004*\"many\" + 0.004*\"country\" + 0.003*\"even\"'), (13, '0.028*\"food\" + 0.011*\"stealth\" + 0.009*\"chinese\" + 0.007*\"traded\" + 0.007*\"foods\" + 0.007*\"alomar\" + 0.007*\"captain\" + 0.006*\"aluminum\" + 0.006*\"plane\" + 0.006*\"sockets\"'), (14, '0.019*\"space\" + 0.009*\"send\" + 0.008*\"list\" + 0.007*\"nasa\" + 0.007*\"information\" + 0.005*\"university\" + 0.005*\"research\" + 0.005*\"earth\" + 0.005*\"center\" + 0.005*\"request\"'), (15, '0.010*\"good\" + 0.009*\"bike\" + 0.008*\"power\" + 0.007*\"engine\" + 0.007*\"lock\" + 0.006*\"excellent\" + 0.006*\"miles\" + 0.005*\"condition\" + 0.005*\"battery\" + 0.005*\"honda\"'), (16, '0.022*\"would\" + 0.016*\"like\" + 0.014*\"think\" + 0.013*\"know\" + 0.010*\"time\" + 0.010*\"good\" + 0.009*\"well\" + 0.009*\"could\" + 0.008*\"much\" + 0.008*\"people\"'), (17, '0.014*\"myers\" + 0.011*\"points\" + 0.010*\"penalty\" + 0.010*\"canada\" + 0.009*\"cubs\" + 0.008*\"picture\" + 0.008*\"shot\" + 0.008*\"braves\" + 0.008*\"pens\" + 0.007*\"april\"'), (18, '0.027*\"game\" + 0.024*\"team\" + 0.018*\"games\" + 0.018*\"year\" + 0.014*\"season\" + 0.012*\"players\" + 0.012*\"league\" + 0.012*\"hockey\" + 0.009*\"last\" + 0.009*\"play\"'), (19, '0.032*\"file\" + 0.018*\"output\" + 0.016*\"program\" + 0.015*\"entry\" + 0.012*\"color\" + 0.011*\"files\" + 0.010*\"line\" + 0.010*\"image\" + 0.007*\"size\" + 0.007*\"display\"')]\n"
     ]
    }
   ],
   "source": [
    "print(ldamodel.print_topics()) # 10개 단어를 출력"
   ]
  },
  {
   "cell_type": "markdown",
   "metadata": {
    "colab_type": "text",
    "id": "B2vkE0_bB7cs"
   },
   "source": [
    "#### 시각화"
   ]
  },
  {
   "cell_type": "code",
   "execution_count": 32,
   "metadata": {
    "colab": {
     "base_uri": "https://localhost:8080/",
     "height": 667
    },
    "colab_type": "code",
    "executionInfo": {
     "elapsed": 159784,
     "status": "ok",
     "timestamp": 1600822420137,
     "user": {
      "displayName": "고병화",
      "photoUrl": "https://lh3.googleusercontent.com/a-/AOh14GgLZcAZyPt33HiIqtXjHiL8D4PIcVPdfLgODP1QBA=s64",
      "userId": "12645007744594631320"
     },
     "user_tz": -540
    },
    "id": "wJTX850BB7cu",
    "outputId": "e99c3f29-1497-4e4e-f9ed-2559d61dc92e"
   },
   "outputs": [],
   "source": [
    "# ! pip install pyLDAvis"
   ]
  },
  {
   "cell_type": "code",
   "execution_count": 33,
   "metadata": {
    "colab": {
     "base_uri": "https://localhost:8080/",
     "height": 879
    },
    "colab_type": "code",
    "executionInfo": {
     "elapsed": 217116,
     "status": "ok",
     "timestamp": 1600822477476,
     "user": {
      "displayName": "고병화",
      "photoUrl": "https://lh3.googleusercontent.com/a-/AOh14GgLZcAZyPt33HiIqtXjHiL8D4PIcVPdfLgODP1QBA=s64",
      "userId": "12645007744594631320"
     },
     "user_tz": -540
    },
    "id": "0fr7kbhVB7c0",
    "outputId": "373a21e7-5e75-4969-d437-953cf30f15b5",
    "scrolled": false
   },
   "outputs": [
    {
     "data": {
      "text/html": [
       "\n",
       "<link rel=\"stylesheet\" type=\"text/css\" href=\"https://cdn.rawgit.com/bmabey/pyLDAvis/files/ldavis.v1.0.0.css\">\n",
       "\n",
       "\n",
       "<div id=\"ldavis_el5484421691121574246821425513\"></div>\n",
       "<script type=\"text/javascript\">\n",
       "\n",
       "var ldavis_el5484421691121574246821425513_data = {\"mdsDat\": {\"x\": [-0.24524237991417902, -0.17142031331932747, -0.1477038728514866, -0.18873432839192056, -0.0817117110448946, 0.018981501288967754, -0.10085182348537547, -0.1121938532990405, 0.04175656210928114, -0.05907684020111155, 0.049268036254810514, -0.09192495840627445, 0.15377253727500778, -0.055583885896009, -0.002115955807873216, 0.10820213793532188, 0.11835086686280759, 0.27477355323145036, 0.24867056097453988, 0.24278416668530686], \"y\": [0.12333785056936182, 0.152239407403032, -0.19320541082934187, 0.13919331627010803, 0.19918624762665532, -0.09231583281694378, -0.18190564046265154, -0.1117744679088544, 0.025037415417648062, 0.008535709036129024, -0.056580133424846496, 0.0032569990118704946, 0.10226818111583982, -0.1893322576972641, -0.07245891436167708, 0.14056162777179784, -0.005124250895359334, 0.013781244171786887, 0.019502665539268643, -0.024203755536559034], \"topics\": [1, 2, 3, 4, 5, 6, 7, 8, 9, 10, 11, 12, 13, 14, 15, 16, 17, 18, 19, 20], \"cluster\": [1, 1, 1, 1, 1, 1, 1, 1, 1, 1, 1, 1, 1, 1, 1, 1, 1, 1, 1, 1], \"Freq\": [19.100830078125, 11.838788986206055, 9.236663818359375, 8.368210792541504, 5.151577472686768, 5.0173516273498535, 4.853213310241699, 4.537678241729736, 4.418480396270752, 3.8601677417755127, 3.5986673831939697, 3.59725284576416, 3.2563302516937256, 3.1143527030944824, 2.5641443729400635, 2.5356242656707764, 2.0616466999053955, 1.3486765623092651, 1.0404733419418335, 0.49986979365348816]}, \"tinfo\": {\"Term\": [\"file\", \"know\", \"would\", \"people\", \"good\", \"space\", \"drive\", \"program\", \"game\", \"window\", \"year\", \"think\", \"thanks\", \"chip\", \"windows\", \"output\", \"team\", \"card\", \"government\", \"anyone\", \"jesus\", \"armenian\", \"system\", \"available\", \"like\", \"said\", \"problem\", \"power\", \"entry\", \"files\", \"yeah\", \"letting\", \"republicans\", \"yankees\", \"deficit\", \"tonight\", \"deaf\", \"impressed\", \"heck\", \"kidney\", \"stimulus\", \"choosing\", \"laughter\", \"lopez\", \"grass\", \"seagate\", \"dole\", \"goaltender\", \"predictions\", \"rumor\", \"invalid\", \"gotta\", \"wake\", \"wright\", \"gainey\", \"nerve\", \"catcher\", \"uncle\", \"bucks\", \"humor\", \"guess\", \"pretty\", \"sounds\", \"anyway\", \"folks\", \"bother\", \"screwed\", \"think\", \"going\", \"really\", \"somebody\", \"getting\", \"maybe\", \"thing\", \"seeing\", \"better\", \"like\", \"sorry\", \"good\", \"kind\", \"worth\", \"much\", \"would\", \"know\", \"sure\", \"something\", \"enough\", \"want\", \"probably\", \"time\", \"well\", \"might\", \"could\", \"make\", \"little\", \"things\", \"still\", \"back\", \"even\", \"anyone\", \"take\", \"right\", \"people\", \"also\", \"since\", \"work\", \"israel\", \"israeli\", \"arab\", \"civil\", \"judas\", \"threat\", \"palestinian\", \"arabs\", \"batf\", \"crimes\", \"defend\", \"deaths\", \"lebanon\", \"palestine\", \"citizen\", \"minister\", \"marriage\", \"income\", \"palestinians\", \"israelis\", \"propaganda\", \"bosnia\", \"democratic\", \"lebanese\", \"waco\", \"suicide\", \"homicide\", \"gaza\", \"britain\", \"serbs\", \"rights\", \"country\", \"freedom\", \"citizens\", \"countries\", \"criminal\", \"violence\", \"murder\", \"anti\", \"political\", \"justice\", \"police\", \"government\", \"guns\", \"governments\", \"peace\", \"laws\", \"responsibility\", \"state\", \"members\", \"people\", \"society\", \"crime\", \"military\", \"action\", \"would\", \"american\", \"force\", \"land\", \"jews\", \"right\", \"fact\", \"many\", \"case\", \"even\", \"children\", \"states\", \"make\", \"said\", \"could\", \"also\", \"well\", \"must\", \"without\", \"ripem\", \"portable\", \"packages\", \"stereo\", \"networks\", \"database\", \"vendors\", \"cryptographic\", \"anon\", \"baud\", \"outlet\", \"layout\", \"viewer\", \"password\", \"forsale\", \"cica\", \"printers\", \"reilly\", \"packaging\", \"generator\", \"risc\", \"modems\", \"tension\", \"upgraded\", \"keyboards\", \"precision\", \"proprietary\", \"amiga\", \"authentication\", \"coprocessor\", \"sale\", \"demo\", \"shipping\", \"graphics\", \"software\", \"anonymous\", \"crypt\", \"tools\", \"comp\", \"features\", \"offers\", \"electronic\", \"includes\", \"internet\", \"sites\", \"available\", \"users\", \"digital\", \"processing\", \"mail\", \"offer\", \"unix\", \"version\", \"computer\", \"package\", \"information\", \"email\", \"user\", \"contact\", \"price\", \"data\", \"system\", \"also\", \"systems\", \"files\", \"used\", \"based\", \"please\", \"list\", \"send\", \"many\", \"like\", \"need\", \"jesus\", \"bible\", \"church\", \"christians\", \"faith\", \"christ\", \"christianity\", \"lord\", \"islam\", \"holy\", \"beliefs\", \"heaven\", \"eternal\", \"religions\", \"catholic\", \"scripture\", \"christian\", \"biblical\", \"doctrine\", \"pope\", \"worship\", \"passages\", \"satan\", \"resurrection\", \"revelation\", \"testament\", \"gospel\", \"orthodox\", \"reject\", \"rockefeller\", \"religion\", \"matthew\", \"belief\", \"spirit\", \"truth\", \"religious\", \"life\", \"word\", \"believe\", \"hell\", \"father\", \"book\", \"love\", \"many\", \"people\", \"world\", \"true\", \"john\", \"would\", \"even\", \"also\", \"things\", \"point\", \"think\", \"must\", \"know\", \"fact\", \"time\", \"apartment\", \"sumgait\", \"karina\", \"motorcycle\", \"helmet\", \"mamma\", \"crowd\", \"lyuda\", \"exhaust\", \"rocks\", \"sister\", \"conductor\", \"marina\", \"parking\", \"shouting\", \"riders\", \"plants\", \"cooling\", \"latin\", \"neck\", \"aunt\", \"glutamate\", \"chest\", \"twin\", \"girl\", \"bedroom\", \"calm\", \"balcony\", \"coat\", \"microdistrict\", \"riding\", \"went\", \"ships\", \"feet\", \"water\", \"woman\", \"floor\", \"wife\", \"burning\", \"igor\", \"took\", \"started\", \"came\", \"hour\", \"azerbaijani\", \"left\", \"room\", \"daughter\", \"eyes\", \"said\", \"home\", \"burned\", \"told\", \"neutral\", \"night\", \"building\", \"face\", \"women\", \"later\", \"head\", \"bike\", \"back\", \"says\", \"side\", \"happened\", \"know\", \"people\", \"around\", \"three\", \"time\", \"right\", \"first\", \"even\", \"could\", \"like\", \"going\", \"well\", \"something\", \"uuencode\", \"spacecraft\", \"mars\", \"proceedings\", \"missions\", \"planetary\", \"telescope\", \"astronomy\", \"propulsion\", \"shar\", \"atmosphere\", \"listserv\", \"venus\", \"observatory\", \"astro\", \"launches\", \"ozone\", \"siggraph\", \"explorer\", \"publications\", \"orbiter\", \"astronomical\", \"probes\", \"magellan\", \"jupiter\", \"museum\", \"atoms\", \"tutorial\", \"radiation\", \"atmospheric\", \"orbit\", \"solar\", \"remark\", \"shuttle\", \"guidelines\", \"lunar\", \"mission\", \"space\", \"obfuscate\", \"nasa\", \"june\", \"mailing\", \"surface\", \"earth\", \"send\", \"moon\", \"request\", \"requests\", \"conference\", \"list\", \"center\", \"research\", \"university\", \"address\", \"information\", \"news\", \"contact\", \"email\", \"technical\", \"please\", \"data\", \"mail\", \"name\", \"available\", \"first\", \"also\", \"group\", \"color\", \"jpeg\", \"entries\", \"printf\", \"bytes\", \"output\", \"vesa\", \"entry\", \"adaptec\", \"nubus\", \"pixmap\", \"svga\", \"tiff\", \"icon\", \"eisa\", \"jumper\", \"centris\", \"terminals\", \"prompt\", \"sync\", \"monitors\", \"pixels\", \"cluster\", \"chipset\", \"adobe\", \"raster\", \"rows\", \"laptop\", \"density\", \"quicktime\", \"colors\", \"loading\", \"string\", \"characters\", \"pixel\", \"contest\", \"file\", \"stream\", \"byte\", \"buffer\", \"input\", \"screen\", \"image\", \"format\", \"files\", \"size\", \"program\", \"section\", \"build\", \"display\", \"character\", \"line\", \"rules\", \"check\", \"mode\", \"write\", \"info\", \"lines\", \"read\", \"data\", \"open\", \"must\", \"number\", \"name\", \"card\", \"scsi\", \"drives\", \"controller\", \"motherboard\", \"bios\", \"simms\", \"cache\", \"quadra\", \"connector\", \"diamond\", \"slots\", \"vram\", \"hook\", \"ethernet\", \"pins\", \"megs\", \"jumpers\", \"simm\", \"novell\", \"powerbook\", \"cmos\", \"hulk\", \"expo\", \"freeware\", \"wolverine\", \"comics\", \"iisi\", \"nords\", \"bone\", \"boot\", \"floppy\", \"drive\", \"cable\", \"apple\", \"norton\", \"gateway\", \"mouse\", \"port\", \"modem\", \"advance\", \"disk\", \"cards\", \"monitor\", \"memory\", \"drivers\", \"video\", \"driver\", \"thanks\", \"board\", \"windows\", \"hard\", \"printer\", \"appreciated\", \"problem\", \"anyone\", \"please\", \"system\", \"know\", \"help\", \"work\", \"would\", \"using\", \"need\", \"like\", \"health\", \"firearms\", \"amendment\", \"tobacco\", \"cancer\", \"drugs\", \"aids\", \"weaver\", \"hicnet\", \"surveillance\", \"hash\", \"prevention\", \"rkba\", \"clinical\", \"regulated\", \"ciphertext\", \"patents\", \"medical\", \"designated\", \"balloon\", \"dram\", \"protein\", \"cryptology\", \"hellman\", \"exclusively\", \"trusted\", \"engage\", \"transfers\", \"ghetto\", \"secrecy\", \"militia\", \"patients\", \"cryptanalysis\", \"banned\", \"medicine\", \"drug\", \"prison\", \"disease\", \"england\", \"study\", \"senate\", \"publication\", \"weapon\", \"seattle\", \"rate\", \"bill\", \"reported\", \"states\", \"newsletter\", \"among\", \"control\", \"treatment\", \"washington\", \"united\", \"national\", \"public\", \"april\", \"report\", \"page\", \"rates\", \"number\", \"arms\", \"research\", \"congress\", \"second\", \"part\", \"state\", \"voltage\", \"candida\", \"detector\", \"plastic\", \"autos\", \"infections\", \"subjective\", \"illness\", \"brake\", \"detectors\", \"rubber\", \"yeast\", \"intake\", \"davidians\", \"valve\", \"wwii\", \"bury\", \"yassin\", \"mainstream\", \"treatments\", \"tissue\", \"combat\", \"allergic\", \"bicycle\", \"restraint\", \"educated\", \"scanned\", \"brands\", \"hussein\", \"volvo\", \"wiring\", \"pain\", \"circuit\", \"motor\", \"wire\", \"driving\", \"cycle\", \"radar\", \"automobile\", \"rare\", \"cars\", \"fuel\", \"chronic\", \"caused\", \"weight\", \"ground\", \"causing\", \"normal\", \"auto\", \"high\", \"usually\", \"damage\", \"cause\", \"blood\", \"doctor\", \"power\", \"engine\", \"safety\", \"speed\", \"much\", \"problem\", \"used\", \"problems\", \"small\", \"less\", \"however\", \"test\", \"current\", \"also\", \"using\", \"system\", \"billion\", \"dept\", \"smokeless\", \"funding\", \"investment\", \"aircraft\", \"payload\", \"engines\", \"aerospace\", \"integration\", \"vitamin\", \"telecommunications\", \"kong\", \"contracts\", \"idaho\", \"sensing\", \"sword\", \"gerard\", \"segment\", \"briefing\", \"hong\", \"ssto\", \"methanol\", \"launcher\", \"launchers\", \"lciii\", \"cpsr\", \"centaur\", \"defamation\", \"ariane\", \"amateur\", \"funds\", \"senior\", \"rockets\", \"launch\", \"president\", \"secretary\", \"georgia\", \"projects\", \"jobs\", \"technology\", \"development\", \"administration\", \"industry\", \"naval\", \"russia\", \"budget\", \"station\", \"sector\", \"satellite\", \"nuclear\", \"space\", \"market\", \"national\", \"program\", \"russian\", \"congress\", \"cost\", \"department\", \"university\", \"office\", \"nasa\", \"year\", \"package\", \"programs\", \"washington\", \"april\", \"commercial\", \"also\", \"high\", \"sabbath\", \"symbol\", \"fallacy\", \"assertion\", \"mydisplay\", \"promo\", \"believer\", \"countersteering\", \"pink\", \"asynchronous\", \"methodology\", \"hypothesis\", \"pistol\", \"challenges\", \"couples\", \"homers\", \"dreams\", \"conception\", \"xputimage\", \"straightforward\", \"federalist\", \"steer\", \"thumbs\", \"scholarly\", \"telepathy\", \"straw\", \"goddess\", \"quantization\", \"passover\", \"proving\", \"expose\", \"definitions\", \"scratch\", \"meaningless\", \"mask\", \"objective\", \"burst\", \"atheism\", \"argument\", \"evidence\", \"existence\", \"phrase\", \"science\", \"hanging\", \"theory\", \"arguments\", \"universe\", \"morality\", \"exist\", \"conclusion\", \"context\", \"values\", \"definition\", \"scientific\", \"valid\", \"meaning\", \"question\", \"claim\", \"example\", \"natural\", \"logic\", \"knowledge\", \"nature\", \"therefore\", \"must\", \"human\", \"true\", \"reason\", \"particular\", \"different\", \"answer\", \"used\", \"system\", \"players\", \"league\", \"hockey\", \"teams\", \"baseball\", \"gordon\", \"pitt\", \"pitching\", \"playoffs\", \"season\", \"scored\", \"skepticism\", \"espn\", \"intellect\", \"fans\", \"cadre\", \"chastity\", \"pitcher\", \"plays\", \"hitter\", \"game\", \"mets\", \"games\", \"cooper\", \"finals\", \"clemens\", \"pirates\", \"reds\", \"innings\", \"football\", \"score\", \"team\", \"defensive\", \"player\", \"coach\", \"shameful\", \"sports\", \"morris\", \"stats\", \"division\", \"played\", \"chicago\", \"year\", \"play\", \"minnesota\", \"detroit\", \"toronto\", \"playing\", \"runs\", \"last\", \"lost\", \"pittsburgh\", \"series\", \"first\", \"best\", \"york\", \"home\", \"motif\", \"widget\", \"contrib\", \"char\", \"xterm\", \"filename\", \"xlib\", \"widgets\", \"clients\", \"openwindows\", \"sunos\", \"colormap\", \"xview\", \"prog\", \"borland\", \"allocation\", \"defaults\", \"pointer\", \"emacs\", \"ieee\", \"pseudo\", \"digit\", \"init\", \"solaris\", \"vpic\", \"corn\", \"toolkit\", \"filters\", \"tigers\", \"xsun\", \"client\", \"window\", \"temp\", \"resource\", \"server\", \"application\", \"font\", \"manager\", \"patch\", \"visual\", \"export\", \"libraries\", \"winners\", \"shared\", \"display\", \"shell\", \"subject\", \"code\", \"error\", \"running\", \"program\", \"using\", \"version\", \"user\", \"available\", \"windows\", \"problem\", \"source\", \"based\", \"encryption\", \"chip\", \"clipper\", \"escrow\", \"cryptography\", \"henrik\", \"encrypted\", \"crypto\", \"wiretap\", \"phones\", \"cipher\", \"cursor\", \"keys\", \"cellular\", \"classified\", \"plaintext\", \"decrypt\", \"denning\", \"encrypt\", \"cryptosystem\", \"decryption\", \"escrowed\", \"toshiba\", \"skipjack\", \"sizes\", \"seeds\", \"brute\", \"dorothy\", \"unbreakable\", \"disclosure\", \"algorithm\", \"secure\", \"privacy\", \"scheme\", \"security\", \"enforcement\", \"secret\", \"agencies\", \"chips\", \"random\", \"block\", \"bits\", \"phone\", \"communications\", \"government\", \"public\", \"serial\", \"system\", \"number\", \"message\", \"data\", \"used\", \"access\", \"strong\", \"turkish\", \"turkey\", \"armenia\", \"turks\", \"genocide\", \"greece\", \"karabakh\", \"argic\", \"ottoman\", \"serdar\", \"massacre\", \"azeri\", \"compass\", \"cyprus\", \"azeris\", \"kurds\", \"istanbul\", \"homeland\", \"bullets\", \"slaughter\", \"sdpa\", \"fascist\", \"ankara\", \"refugees\", \"massacres\", \"ctrl\", \"erzurum\", \"asala\", \"shaft\", \"kurdish\", \"armenian\", \"armenians\", \"azerbaijan\", \"nazis\", \"greek\", \"muslim\", \"republic\", \"soviet\", \"russian\", \"nazi\", \"jews\", \"village\", \"killed\", \"german\", \"history\", \"villages\", \"population\", \"million\", \"army\", \"people\", \"world\", \"government\", \"battery\", \"honda\", \"tire\", \"toyota\", \"unto\", \"wrap\", \"batteries\", \"accelerators\", \"garage\", \"torque\", \"ingr\", \"plugs\", \"locks\", \"trinity\", \"dodge\", \"lock\", \"lamp\", \"dtmedin\", \"catbyte\", \"eaten\", \"tubes\", \"complaint\", \"swing\", \"kitchen\", \"anecdotal\", \"dealership\", \"warned\", \"resistor\", \"rode\", \"mounting\", \"gear\", \"rear\", \"circuits\", \"tube\", \"suspension\", \"tank\", \"electrical\", \"bike\", \"engine\", \"bikes\", \"miles\", \"dealer\", \"excellent\", \"tires\", \"navy\", \"condition\", \"power\", \"good\", \"cars\", \"front\", \"light\", \"model\", \"cover\", \"parts\", \"price\", \"bought\", \"around\", \"scorer\", \"hartford\", \"sharks\", \"lemieux\", \"francis\", \"financial\", \"jagr\", \"recchi\", \"habs\", \"stevens\", \"sanderson\", \"vernon\", \"tocchet\", \"expos\", \"amour\", \"selanne\", \"fleury\", \"neely\", \"carson\", \"unassisted\", \"brind\", \"smythe\", \"chelios\", \"hull\", \"messier\", \"dineen\", \"courtnall\", \"mullen\", \"cassels\", \"lindros\", \"winnipeg\", \"calgary\", \"period\", \"murphy\", \"buffalo\", \"gilmour\", \"ottawa\", \"jersey\", \"saves\", \"adams\", \"play\", \"kings\", \"goal\", \"goals\", \"scoring\", \"power\", \"pittsburgh\", \"flames\", \"brown\", \"shots\", \"puck\", \"third\", \"second\", \"first\", \"vancouver\", \"montreal\", \"chicago\", \"myers\", \"penalty\", \"cubs\", \"pens\", \"sleeve\", \"houston\", \"baltimore\", \"hawks\", \"phillies\", \"arena\", \"dodgers\", \"cincinnati\", \"suck\", \"batting\", \"lineup\", \"canadiens\", \"capitol\", \"moncton\", \"fielding\", \"springfield\", \"cardinals\", \"echl\", \"assists\", \"rockies\", \"fielder\", \"mercedes\", \"roughing\", \"adirondack\", \"goalies\", \"tiger\", \"braves\", \"sweden\", \"tommy\", \"penalties\", \"acquired\", \"dallas\", \"flyers\", \"finland\", \"radius\", \"canadian\", \"canada\", \"points\", \"picture\", \"shot\", \"florida\", \"insurance\", \"puck\", \"zone\", \"germany\", \"april\", \"mark\", \"john\", \"stealth\", \"foods\", \"alomar\", \"sockets\", \"runner\", \"lyme\", \"headaches\", \"managing\", \"electricity\", \"baerga\", \"fever\", \"intersection\", \"totals\", \"simmons\", \"hitters\", \"paperback\", \"flavor\", \"hamburgers\", \"sided\", \"chop\", \"cups\", \"infield\", \"summarizes\", \"valentine\", \"advisor\", \"grams\", \"coaching\", \"heal\", \"gerald\", \"recalled\", \"chinese\", \"restaurant\", \"traded\", \"aluminum\", \"food\", \"projected\", \"captain\", \"sweep\", \"plane\", \"rings\", \"motorola\", \"jeff\", \"bell\", \"kent\", \"atlanta\", \"uiuc\", \"throttle\"], \"Freq\": [1842.0, 3688.0, 6505.0, 4362.0, 2623.0, 1352.0, 1083.0, 1597.0, 844.0, 821.0, 1574.0, 3232.0, 1300.0, 682.0, 1297.0, 831.0, 775.0, 782.0, 1257.0, 1686.0, 967.0, 672.0, 2054.0, 1498.0, 4224.0, 1885.0, 1663.0, 1111.0, 687.0, 911.0, 198.30006408691406, 66.97063446044922, 63.4386100769043, 63.43305206298828, 55.895042419433594, 51.8262825012207, 50.255123138427734, 48.1276741027832, 50.149322509765625, 47.350502014160156, 46.36494445800781, 46.086769104003906, 43.801368713378906, 42.018943786621094, 41.30998229980469, 40.922210693359375, 39.006221771240234, 38.19402313232422, 52.51395797729492, 36.523780822753906, 36.795631408691406, 34.54641342163086, 34.14682388305664, 34.32268524169922, 33.61159896850586, 32.68281173706055, 32.614253997802734, 34.27967834472656, 32.47465515136719, 32.05317687988281, 407.5747375488281, 513.2374877929688, 241.43174743652344, 405.8838195800781, 203.57977294921875, 84.97574615478516, 46.84075164794922, 2621.873046875, 1222.9373779296875, 1267.5194091796875, 181.57456970214844, 555.47412109375, 612.763427734375, 832.9767456054688, 150.19625854492188, 967.036865234375, 2940.5087890625, 309.3409423828125, 1868.3741455078125, 480.88360595703125, 278.72076416015625, 1534.6527099609375, 4020.106689453125, 2390.726318359375, 904.3209838867188, 1141.0975341796875, 664.9765014648438, 1214.732666015625, 754.3900146484375, 1874.8966064453125, 1606.231201171875, 865.447509765625, 1576.2069091796875, 1281.3074951171875, 702.4756469726562, 824.3787231445312, 884.0257568359375, 889.3778686523438, 1220.0733642578125, 911.9637451171875, 797.67919921875, 936.5381469726562, 1397.755126953125, 1162.69970703125, 822.9371337890625, 835.4307861328125, 632.7055053710938, 388.0437316894531, 256.6597595214844, 189.26063537597656, 149.49856567382812, 137.96343994140625, 133.8112335205078, 121.40804290771484, 107.6533432006836, 105.85145568847656, 103.0041275024414, 90.81194305419922, 87.95487976074219, 85.6753921508789, 85.52044677734375, 83.9675521850586, 82.21654510498047, 81.89830017089844, 81.6385269165039, 79.7627944946289, 78.85493469238281, 77.0278091430664, 74.9436264038086, 73.84255981445312, 72.87944030761719, 72.48796844482422, 70.30924224853516, 67.42799377441406, 64.87625122070312, 60.05111312866211, 468.957275390625, 425.98876953125, 230.09231567382812, 236.0724639892578, 209.00039672851562, 169.5213165283203, 85.82328796386719, 148.4666748046875, 297.048095703125, 249.8665771484375, 165.07786560058594, 311.9615478515625, 802.0211181640625, 297.04547119140625, 106.201904296875, 224.69654846191406, 257.31195068359375, 145.1248321533203, 572.4198608398438, 239.78878784179688, 1759.240478515625, 246.6687774658203, 233.19557189941406, 266.6695861816406, 223.17691040039062, 1236.9813232421875, 305.3074035644531, 244.08078002929688, 193.2538604736328, 283.0028991699219, 472.26458740234375, 334.5862731933594, 445.74169921875, 342.505615234375, 389.93341064453125, 270.040283203125, 269.0042724609375, 326.2789306640625, 305.3121643066406, 314.3385925292969, 301.0837097167969, 289.70355224609375, 273.6590576171875, 254.39340209960938, 236.73809814453125, 127.03794860839844, 120.06784057617188, 94.16626739501953, 94.15694427490234, 108.94151306152344, 80.12464904785156, 72.77716064453125, 66.39744567871094, 62.74098205566406, 62.01210403442383, 61.0639762878418, 57.98263168334961, 57.11181640625, 51.8856315612793, 49.757415771484375, 47.340206146240234, 47.050010681152344, 45.99708557128906, 45.72068405151367, 45.39833068847656, 43.13286590576172, 43.05376052856445, 42.818634033203125, 42.75089645385742, 41.19704055786133, 40.66550827026367, 136.04446411132812, 39.61435317993164, 38.623966217041016, 343.30438232421875, 84.79285430908203, 279.18475341796875, 562.7317504882812, 884.8264770507812, 375.2521667480469, 96.7704849243164, 220.83738708496094, 316.9032287597656, 184.06649780273438, 192.28372192382812, 184.4022674560547, 358.8549499511719, 371.545654296875, 203.30467224121094, 1011.0299682617188, 314.40234375, 202.69384765625, 156.28323364257812, 806.8543701171875, 297.4667053222656, 283.1244812011719, 600.2752075195312, 504.9126281738281, 352.4196472167969, 757.0543823242188, 447.3800354003906, 302.3956604003906, 305.8988342285156, 334.13043212890625, 510.0786437988281, 646.735107421875, 883.8677978515625, 335.3528747558594, 389.5370178222656, 560.11572265625, 394.5426025390625, 414.093017578125, 334.32257080078125, 311.7916259765625, 336.41497802734375, 342.1657409667969, 319.4485168457031, 966.7412719726562, 556.13525390625, 484.64105224609375, 445.53717041015625, 401.066162109375, 400.1000671386719, 253.62144470214844, 210.46266174316406, 201.65078735351562, 198.8562469482422, 191.7537841796875, 164.10728454589844, 147.0209197998047, 141.67529296875, 141.57423400878906, 135.9984893798828, 609.1737670898438, 114.87296295166016, 108.41409301757812, 99.64147186279297, 99.24156188964844, 95.7581558227539, 94.97895812988281, 90.60542297363281, 86.70681762695312, 84.22898864746094, 79.87129211425781, 79.26664733886719, 78.15631866455078, 76.79458618164062, 426.6741027832031, 193.4423828125, 217.4207763671875, 205.2136688232422, 357.8307189941406, 250.14476013183594, 414.0049743652344, 349.0110168457031, 570.1083374023438, 233.91819763183594, 206.89125061035156, 324.6578674316406, 232.1617889404297, 464.20587158203125, 606.5945434570312, 341.273681640625, 315.1817626953125, 246.6531219482422, 505.3879089355469, 364.1665954589844, 383.3851318359375, 281.9879150390625, 270.80828857421875, 300.4747314453125, 265.3282470703125, 294.4472351074219, 248.53712463378906, 242.73007202148438, 173.0777587890625, 123.09203338623047, 122.60375213623047, 108.67334747314453, 89.7953872680664, 88.85182189941406, 87.356201171875, 57.185726165771484, 57.11563491821289, 53.281002044677734, 51.518070220947266, 49.97237014770508, 49.70361328125, 47.562400817871094, 47.40012741088867, 45.27080154418945, 44.602962493896484, 42.963314056396484, 41.872169494628906, 40.06385803222656, 39.39349365234375, 38.45534133911133, 37.66828918457031, 37.421958923339844, 37.13699722290039, 35.162601470947266, 35.059391021728516, 35.01472091674805, 34.95624542236328, 34.71345520019531, 109.14639282226562, 476.3739318847656, 60.66560363769531, 133.04115295410156, 218.0438690185547, 163.58775329589844, 110.97595977783203, 144.3785858154297, 75.66138458251953, 49.075103759765625, 299.3016357421875, 281.45635986328125, 326.49554443359375, 88.47848510742188, 98.4468002319336, 348.8092956542969, 165.55845642089844, 91.63375854492188, 108.33712768554688, 617.9426879882812, 275.59942626953125, 78.6684799194336, 267.96600341796875, 98.79257202148438, 169.27276611328125, 166.9667205810547, 175.89772033691406, 173.25485229492188, 210.71449279785156, 160.18272399902344, 157.1224822998047, 329.2547607421875, 215.02188110351562, 182.71875, 153.10292053222656, 342.6650390625, 332.84637451171875, 213.7430419921875, 195.12586975097656, 263.51348876953125, 213.0771484375, 214.320068359375, 210.4296417236328, 212.53797912597656, 204.37484741210938, 178.54934692382812, 180.53062438964844, 175.46148681640625, 169.30821228027344, 116.01315307617188, 92.70940399169922, 91.10931396484375, 87.6180419921875, 84.37213897705078, 84.3542709350586, 79.97953033447266, 70.37874603271484, 69.67166137695312, 69.01675415039062, 68.00790405273438, 56.509212493896484, 52.698280334472656, 51.534934997558594, 50.32131576538086, 55.243675231933594, 48.540245056152344, 48.42615509033203, 47.23070526123047, 45.6849365234375, 44.70246124267578, 43.80232238769531, 43.22984313964844, 43.06079864501953, 41.91106033325195, 40.81882095336914, 39.90657043457031, 39.17655944824219, 38.263492584228516, 182.05458068847656, 128.63523864746094, 176.09461975097656, 181.2316131591797, 107.19990539550781, 149.3412628173828, 163.30552673339844, 904.3137817382812, 56.80415344238281, 346.8367004394531, 124.22377014160156, 141.32933044433594, 133.7390594482422, 244.49862670898438, 411.83758544921875, 120.77192687988281, 222.7227325439453, 116.86376190185547, 156.64454650878906, 378.63604736328125, 238.43600463867188, 252.2321319580078, 260.253662109375, 221.59532165527344, 340.3199157714844, 183.95819091796875, 161.61679077148438, 183.5760955810547, 129.91220092773438, 200.96998596191406, 184.133544921875, 178.49627685546875, 164.1009521484375, 167.82122802734375, 159.9604949951172, 151.87033081054688, 138.71145629882812, 533.0677490234375, 265.0747985839844, 239.61949157714844, 237.21351623535156, 160.32760620117188, 825.3564453125, 89.85615539550781, 680.14892578125, 84.89994812011719, 80.51591491699219, 78.4523696899414, 77.13201141357422, 76.57990264892578, 73.09809112548828, 71.58666229248047, 68.48528289794922, 66.4040756225586, 60.55485916137695, 49.981510162353516, 49.111976623535156, 98.1021728515625, 47.27067947387695, 46.62693786621094, 44.40456008911133, 43.79578399658203, 43.23223876953125, 42.76617431640625, 42.67133712768555, 39.40442657470703, 39.301979064941406, 159.53636169433594, 42.70995330810547, 164.93531799316406, 111.13223266601562, 96.70362854003906, 169.7227325439453, 1495.81396484375, 215.94273376464844, 119.09117126464844, 113.92302703857422, 291.01123046875, 312.0329895019531, 460.91156005859375, 284.2520446777344, 516.41162109375, 330.8910217285156, 749.2957153320312, 300.9761962890625, 302.75933837890625, 327.0071105957031, 146.68397521972656, 463.7745666503906, 240.2899169921875, 323.1590270996094, 216.6140594482422, 243.63638305664062, 315.6662292480469, 203.29879760742188, 308.53851318359375, 286.6422424316406, 228.10687255859375, 261.6844177246094, 258.4057312011719, 215.06539916992188, 781.4273071289062, 609.7901000976562, 323.6339416503906, 304.158935546875, 168.24618530273438, 167.3675537109375, 143.60272216796875, 117.74713897705078, 85.08895874023438, 83.0062255859375, 79.84015655517578, 77.60556030273438, 77.42280578613281, 70.19539642333984, 68.92311096191406, 67.1988754272461, 59.20880889892578, 56.90034484863281, 54.6478157043457, 54.497249603271484, 53.60737609863281, 51.06754684448242, 41.298805236816406, 38.414398193359375, 38.1981201171875, 37.31216812133789, 37.0494384765625, 36.46766662597656, 35.121280670166016, 34.33414840698242, 109.86201477050781, 231.0736083984375, 995.2868041992188, 250.19796752929688, 387.3980712890625, 100.53028106689453, 96.01924896240234, 287.2121887207031, 235.9347381591797, 246.21180725097656, 299.1243896484375, 542.0735473632812, 229.59043884277344, 293.6143798828125, 420.6820068359375, 289.5648498535156, 356.9998779296875, 308.753662109375, 754.57763671875, 266.27392578125, 688.0098876953125, 419.1942443847656, 169.66192626953125, 201.50152587890625, 524.8619995117188, 521.6260986328125, 413.7156677246094, 459.9042663574219, 497.1622314453125, 282.70477294921875, 297.1173095703125, 367.8662109375, 278.82647705078125, 272.25048828125, 265.1927795410156, 500.8687438964844, 222.83740234375, 207.750244140625, 170.77674865722656, 128.0517120361328, 205.122314453125, 96.48921203613281, 83.39256286621094, 73.73101806640625, 73.59728240966797, 69.89807891845703, 67.53593444824219, 64.00892639160156, 61.59584426879883, 60.50019073486328, 60.37867736816406, 59.560550689697266, 357.4888610839844, 51.12054443359375, 50.43244934082031, 46.75931930541992, 44.40346908569336, 61.479427337646484, 43.6103515625, 43.098236083984375, 42.833560943603516, 39.05487823486328, 38.757179260253906, 37.6539192199707, 37.511932373046875, 162.1089630126953, 186.27452087402344, 54.41825866699219, 41.59354019165039, 137.53150939941406, 207.33213806152344, 64.8748779296875, 165.54627990722656, 89.49868774414062, 225.9889373779297, 92.2928237915039, 94.88542175292969, 118.82489776611328, 95.24413299560547, 210.8258819580078, 225.4054412841797, 150.03668212890625, 271.9725036621094, 97.4415054321289, 225.56736755371094, 289.195556640625, 112.72235870361328, 178.3981475830078, 173.2471466064453, 218.1994171142578, 258.80609130859375, 205.2022247314453, 154.4011993408203, 137.94175720214844, 112.04235076904297, 224.30435180664062, 121.05789947509766, 147.30221557617188, 126.0077133178711, 150.51881408691406, 140.26817321777344, 136.52801513671875, 107.98944091796875, 88.0661392211914, 79.52989959716797, 110.5102310180664, 78.14093017578125, 67.52494049072266, 61.39280319213867, 58.96694564819336, 56.71100616455078, 45.96380615234375, 47.475914001464844, 44.53723907470703, 42.87601089477539, 42.76279830932617, 41.8117790222168, 41.18362808227539, 39.341270446777344, 36.6068115234375, 36.49950408935547, 34.816463470458984, 33.93022537231445, 33.08414077758789, 32.99860382080078, 32.99325942993164, 31.162199020385742, 29.692806243896484, 29.612634658813477, 29.036348342895508, 29.016679763793945, 28.445222854614258, 120.97689056396484, 236.87701416015625, 133.6414794921875, 89.57438659667969, 186.46981811523438, 157.3353271484375, 66.6677474975586, 116.21887969970703, 40.4344482421875, 53.1784782409668, 178.64581298828125, 83.1015625, 45.92530059814453, 115.80194091796875, 97.02283477783203, 164.7503204345703, 55.009986877441406, 144.13246154785156, 95.21302032470703, 261.79888916015625, 163.53244018554688, 83.73597717285156, 162.45611572265625, 111.7664794921875, 100.54657745361328, 215.63536071777344, 109.36521911621094, 108.1700668334961, 143.8332061767578, 188.25547790527344, 172.94680786132812, 182.158203125, 136.9490203857422, 123.50745391845703, 117.24164581298828, 119.26571655273438, 104.0279769897461, 111.59001922607422, 119.78082275390625, 110.61849975585938, 109.55913543701172, 158.79176330566406, 103.30485534667969, 96.99979400634766, 89.05659484863281, 78.26275634765625, 74.64613342285156, 60.88760757446289, 60.43943405151367, 50.8226318359375, 49.955726623535156, 49.14151382446289, 48.046390533447266, 47.337440490722656, 43.487403869628906, 43.33634948730469, 41.378028869628906, 41.18450927734375, 40.033660888671875, 38.47402572631836, 38.1529426574707, 35.25681686401367, 34.361331939697266, 29.244922637939453, 28.115427017211914, 27.82227897644043, 27.787382125854492, 27.455854415893555, 27.369220733642578, 27.30077362060547, 27.24799346923828, 52.44754409790039, 120.27426147460938, 106.66804504394531, 61.77809143066406, 217.41506958007812, 509.725830078125, 136.35047912597656, 83.99034118652344, 86.66252136230469, 193.32179260253906, 311.1170349121094, 200.0200958251953, 227.2863311767578, 120.55318450927734, 79.8421859741211, 138.6524200439453, 98.47402954101562, 154.30418395996094, 75.03530883789062, 135.94122314453125, 107.98589324951172, 355.7320861816406, 142.2708282470703, 224.70765686035156, 357.46502685546875, 148.22482299804688, 134.60791015625, 173.99000549316406, 120.2916259765625, 158.4410858154297, 133.60504150390625, 142.69113159179688, 193.08497619628906, 138.43797302246094, 135.6969451904297, 124.18736267089844, 126.51435852050781, 112.95858001708984, 133.44505310058594, 121.03642272949219, 79.13225555419922, 70.9252700805664, 63.85627746582031, 50.122501373291016, 48.94308090209961, 37.12866973876953, 36.265743255615234, 34.89994430541992, 34.500980377197266, 34.48032760620117, 33.11931610107422, 32.85982131958008, 30.975078582763672, 29.93106460571289, 28.436065673828125, 28.12957763671875, 28.003368377685547, 27.741886138916016, 26.424158096313477, 25.159011840820312, 25.102985382080078, 23.89794921875, 23.536495208740234, 22.431814193725586, 21.27935028076172, 21.156845092773438, 20.986452102661133, 20.635610580444336, 20.588449478149414, 20.540546417236328, 65.22084045410156, 52.65620422363281, 30.49585723876953, 38.52961349487305, 79.79668426513672, 194.16305541992188, 59.102176666259766, 139.4593963623047, 274.78277587890625, 343.4035949707031, 163.37326049804688, 63.495391845703125, 292.228759765625, 66.50637817382812, 167.53778076171875, 115.36111450195312, 108.82058715820312, 105.37242126464844, 195.8921356201172, 112.645263671875, 129.67617797851562, 127.20147705078125, 101.885986328125, 136.92630004882812, 94.83016204833984, 119.79071807861328, 284.2737121582031, 147.12237548828125, 191.43165588378906, 91.15840148925781, 94.70709991455078, 106.3017349243164, 100.63233184814453, 108.47945404052734, 173.8020477294922, 127.03580474853516, 132.5295867919922, 118.05908203125, 101.71199035644531, 105.16559600830078, 101.29296112060547, 105.35726165771484, 104.41355895996094, 375.9649658203125, 370.41778564453125, 363.4507141113281, 268.5872802734375, 198.01394653320312, 118.17156219482422, 112.82122039794922, 107.2920913696289, 106.8817138671875, 434.2188415527344, 100.47500610351562, 84.72513580322266, 82.19345092773438, 77.45598602294922, 135.53396606445312, 73.62673950195312, 72.18917846679688, 67.75628662109375, 66.11475372314453, 60.757469177246094, 831.3261108398438, 58.600242614746094, 572.54248046875, 54.983795166015625, 54.96512222290039, 53.794254302978516, 53.22793960571289, 48.61456298828125, 44.36631393432617, 42.84018325805664, 109.53628540039062, 734.24658203125, 78.99676513671875, 251.2687530517578, 76.98224639892578, 72.39397430419922, 93.91642761230469, 86.61862182617188, 105.99742889404297, 185.8558807373047, 149.1818084716797, 154.53289794921875, 559.9833984375, 286.9342956542969, 105.52162170410156, 123.989013671875, 128.60858154296875, 116.99899291992188, 173.14361572265625, 291.6117248535156, 157.02679443359375, 127.4085922241211, 152.8570556640625, 177.66970825195312, 151.04981994628906, 121.92432403564453, 126.23902893066406, 439.7187194824219, 387.131591796875, 243.5846405029297, 232.71249389648438, 197.0710906982422, 147.89633178710938, 137.83319091796875, 132.63665771484375, 117.82589721679688, 90.3639907836914, 85.24165344238281, 82.5464859008789, 81.05530548095703, 80.17822265625, 76.87035369873047, 60.65538787841797, 56.76048278808594, 53.294647216796875, 49.42713928222656, 46.040283203125, 41.526283264160156, 41.10004806518555, 38.89289855957031, 38.17683029174805, 36.84827423095703, 35.4776725769043, 106.62045288085938, 33.884864807128906, 33.10020446777344, 32.13435363769531, 173.00184631347656, 772.0521850585938, 49.55620574951172, 158.82266235351562, 457.0805969238281, 335.9967041015625, 145.32064819335938, 209.9747772216797, 91.86121368408203, 114.00615692138672, 206.63157653808594, 96.36509704589844, 81.2490234375, 99.09821319580078, 244.89012145996094, 108.12364196777344, 238.6592559814453, 216.66473388671875, 160.26443481445312, 189.1140899658203, 248.9082794189453, 239.23841857910156, 195.03152465820312, 150.90757751464844, 206.34547424316406, 188.0615692138672, 180.21218872070312, 139.7767333984375, 119.85320281982422, 530.8140258789062, 681.4797973632812, 397.9596252441406, 195.3477783203125, 178.85311889648438, 158.67247009277344, 148.6768035888672, 147.6297607421875, 100.50332641601562, 97.76918029785156, 87.27104949951172, 81.10009765625, 439.2875671386719, 71.14088439941406, 70.2293472290039, 68.5984115600586, 57.47576904296875, 53.02617645263672, 40.520389556884766, 40.74674987792969, 37.5469970703125, 37.09387969970703, 34.84800338745117, 33.5710334777832, 32.23879623413086, 29.523029327392578, 27.754465103149414, 27.222719192504883, 26.550779342651367, 26.522249221801758, 256.6802062988281, 212.9538116455078, 301.22515869140625, 108.61190795898438, 323.81683349609375, 149.953125, 178.4518585205078, 127.17938995361328, 162.57533264160156, 115.2887954711914, 123.88362884521484, 139.10739135742188, 200.8980255126953, 110.88916015625, 259.81878662109375, 197.40267944335938, 125.23558807373047, 229.5781707763672, 188.8985137939453, 133.734130859375, 151.72804260253906, 150.1607666015625, 119.3405532836914, 116.2310791015625, 473.89605712890625, 298.4820251464844, 230.54293823242188, 221.84823608398438, 198.86703491210938, 109.97308349609375, 102.99977111816406, 98.01945495605469, 95.05720520019531, 93.92874145507812, 91.77584075927734, 90.70430755615234, 86.52418518066406, 78.41261291503906, 78.3447494506836, 62.81932830810547, 61.576690673828125, 55.88697052001953, 53.12727355957031, 52.402198791503906, 50.056488037109375, 44.8195915222168, 44.24709701538086, 43.713600158691406, 43.6178092956543, 42.75923538208008, 41.267879486083984, 40.61861038208008, 39.580814361572266, 36.861568450927734, 618.0437622070312, 477.6014709472656, 151.74337768554688, 92.22132110595703, 230.6870880126953, 148.4304656982422, 82.68903350830078, 131.50526428222656, 176.683349609375, 109.8921127319336, 217.6117401123047, 70.7673568725586, 145.49298095703125, 99.51922607421875, 139.17942810058594, 82.29536437988281, 104.79023742675781, 102.53221893310547, 92.44347381591797, 136.940673828125, 98.11094665527344, 95.28101348876953, 96.4948501586914, 89.99337768554688, 58.16911315917969, 55.018550872802734, 42.92398452758789, 42.62410354614258, 41.14276885986328, 40.80691909790039, 39.503944396972656, 37.729286193847656, 37.662227630615234, 36.806060791015625, 36.40753173828125, 35.02126693725586, 34.82596969604492, 139.20724487304688, 33.73500442504883, 32.781349182128906, 32.781349182128906, 31.533946990966797, 30.696611404418945, 30.541776657104492, 29.536401748657227, 28.57269859313965, 28.272916793823242, 28.146337509155273, 28.11414337158203, 27.157548904418945, 26.439603805541992, 26.373811721801758, 63.321800231933594, 84.77273559570312, 66.24308776855469, 66.067138671875, 29.333467483520508, 82.31413269042969, 81.99441528320312, 175.18653869628906, 140.36117553710938, 71.85067749023438, 113.52339172363281, 76.9254379272461, 120.36473083496094, 53.184871673583984, 65.10331726074219, 102.21955871582031, 158.21812438964844, 199.37252807617188, 81.05254364013672, 82.0301284790039, 78.3727798461914, 74.76020050048828, 68.62207794189453, 65.48229217529297, 73.51017761230469, 58.343753814697266, 68.94464874267578, 110.9892349243164, 82.03302001953125, 71.23177337646484, 70.22076416015625, 62.140892028808594, 53.3897819519043, 51.253170013427734, 45.6784782409668, 45.232200622558594, 42.52777862548828, 42.09693908691406, 37.57058334350586, 35.122581481933594, 34.175357818603516, 33.419342041015625, 33.03656005859375, 32.111358642578125, 32.06023025512695, 31.959871292114258, 31.5213565826416, 31.34874725341797, 31.306732177734375, 31.074440002441406, 29.161636352539062, 28.991943359375, 28.89667320251465, 28.401208877563477, 28.220115661621094, 27.578691482543945, 56.1614990234375, 66.91605377197266, 97.93196105957031, 287.1145324707031, 58.4127082824707, 64.9195785522461, 44.25947952270508, 55.81049728393555, 60.551727294921875, 52.4614143371582, 50.3258056640625, 197.4775390625, 83.57001495361328, 107.00501251220703, 71.77738952636719, 57.581703186035156, 163.63461303710938, 78.04236602783203, 70.20137023925781, 61.64938735961914, 58.191959381103516, 57.83720779418945, 78.065185546875, 87.2021484375, 86.45671081542969, 55.767791748046875, 55.08890151977539, 56.19224548339844, 143.1196746826172, 103.51126861572266, 88.8902359008789, 76.1639633178711, 70.05274200439453, 65.20458221435547, 63.164451599121094, 55.82111358642578, 55.00570297241211, 46.766746520996094, 46.599449157714844, 34.73546600341797, 33.8738899230957, 31.57207489013672, 30.49720001220703, 27.664043426513672, 27.4060115814209, 27.006240844726562, 27.059236526489258, 24.829021453857422, 24.330190658569336, 24.143081665039062, 22.903018951416016, 22.271787643432617, 21.43148422241211, 21.041656494140625, 20.215560913085938, 20.165010452270508, 19.133419036865234, 19.075485229492188, 79.53413391113281, 58.630157470703125, 38.88859939575195, 49.19194030761719, 50.667415618896484, 39.41596221923828, 64.00928497314453, 39.26199722290039, 46.23992919921875, 54.639766693115234, 96.58731079101562, 110.46379852294922, 84.20292663574219, 81.49723052978516, 41.93826675415039, 66.0031967163086, 52.39532470703125, 52.2046012878418, 56.69862747192383, 71.93511199951172, 52.247039794921875, 50.35504150390625, 52.69227981567383, 34.47990036010742, 33.52748107910156, 28.05499839782715, 25.785907745361328, 22.76861000061035, 22.36410140991211, 21.876991271972656, 20.425434112548828, 18.290653228759766, 17.594545364379883, 17.263046264648438, 16.89269256591797, 16.500534057617188, 15.936951637268066, 15.197484016418457, 15.081151008605957, 14.142751693725586, 13.677510261535645, 13.541903495788574, 12.611527442932129, 11.938508033752441, 11.735368728637695, 11.57033920288086, 11.220207214355469, 10.504420280456543, 10.245355606079102, 10.106101036071777, 9.952439308166504, 9.668011665344238, 40.831703186035156, 26.722087860107422, 34.65995407104492, 30.55457305908203, 133.48544311523438, 18.430583953857422, 31.302038192749023, 14.43841552734375, 29.82618522644043, 18.98247718811035, 25.672298431396484, 23.685209274291992, 24.470436096191406, 20.444759368896484, 18.35220718383789, 17.68124771118164, 15.961662292480469], \"Total\": [1842.0, 3688.0, 6505.0, 4362.0, 2623.0, 1352.0, 1083.0, 1597.0, 844.0, 821.0, 1574.0, 3232.0, 1300.0, 682.0, 1297.0, 831.0, 775.0, 782.0, 1257.0, 1686.0, 967.0, 672.0, 2054.0, 1498.0, 4224.0, 1885.0, 1663.0, 1111.0, 687.0, 911.0, 199.25689697265625, 67.92811584472656, 64.39550018310547, 64.38993835449219, 56.8524169921875, 52.78315353393555, 51.21199417114258, 49.08454513549805, 51.1563835144043, 48.307373046875, 47.321815490722656, 47.0870361328125, 44.75824737548828, 42.97581481933594, 42.26685333251953, 41.87908172607422, 39.96309280395508, 39.15089416503906, 53.85302734375, 37.48065185546875, 37.78688049316406, 35.5032844543457, 35.103694915771484, 35.287086486816406, 34.5684700012207, 33.639686584472656, 33.57112503051758, 35.2869987487793, 33.4316291809082, 33.010047912597656, 424.2120361328125, 539.6957397460938, 257.8793640136719, 446.1358947753906, 220.6251983642578, 89.68638610839844, 48.72169876098633, 3232.696533203125, 1469.8946533203125, 1552.9200439453125, 201.5517578125, 678.7900390625, 757.1370849609375, 1058.8546142578125, 168.91635131835938, 1255.359619140625, 4224.53125, 370.1346740722656, 2623.232666015625, 606.0718994140625, 333.7013244628906, 2219.142578125, 6505.4853515625, 3688.052001953125, 1262.844970703125, 1690.8248291015625, 934.0010375976562, 1881.5645751953125, 1089.9754638671875, 3168.78076171875, 2653.67626953125, 1301.365478515625, 2675.572998046875, 2164.314697265625, 1054.6673583984375, 1314.642333984375, 1494.5845947265625, 1552.5335693359375, 2422.615966796875, 1686.7828369140625, 1420.212158203125, 1943.0635986328125, 4362.814453125, 3606.296142578125, 1604.7874755859375, 1753.6077880859375, 633.6624145507812, 389.0007629394531, 257.6167907714844, 190.21766662597656, 150.45550537109375, 138.92262268066406, 134.76817321777344, 122.36502838134766, 108.6103286743164, 106.80859375, 103.96141052246094, 91.76892852783203, 88.911865234375, 86.63237762451172, 86.4776382446289, 84.92454528808594, 83.17444610595703, 82.85528564453125, 82.59551239013672, 80.71977996826172, 79.81192016601562, 77.98479461669922, 75.9006118774414, 74.79954528808594, 73.83643341064453, 73.44518280029297, 71.26622772216797, 68.38497924804688, 65.8340072631836, 61.00809097290039, 478.7838134765625, 445.6968078613281, 239.31536865234375, 246.88882446289062, 222.85740661621094, 181.4011688232422, 88.15616607666016, 161.97987365722656, 370.4292907714844, 304.1481018066406, 188.56619262695312, 400.2379455566406, 1257.3204345703125, 386.51983642578125, 113.20915985107422, 280.52484130859375, 339.4387512207031, 167.01382446289062, 968.2135620117188, 324.1972961425781, 4362.814453125, 349.591796875, 327.2134094238281, 403.13226318359375, 312.8577880859375, 6505.4853515625, 611.2285766601562, 416.7639465332031, 274.05224609375, 618.4822998046875, 1943.0635986328125, 1059.744873046875, 2275.510009765625, 1192.5028076171875, 2422.615966796875, 632.35791015625, 645.430419921875, 2164.314697265625, 1885.7244873046875, 2675.572998046875, 3606.296142578125, 2653.67626953125, 1406.18359375, 1236.6207275390625, 237.6958465576172, 127.9961929321289, 121.02564239501953, 95.12410736083984, 95.20462799072266, 110.22598266601562, 81.08246612548828, 73.7349624633789, 67.3552474975586, 63.69877243041992, 62.96989440917969, 62.021766662597656, 58.94049835205078, 58.06960678100586, 52.843421936035156, 50.7158088684082, 48.297996520996094, 48.0078010559082, 46.95487594604492, 46.67847442626953, 46.35612106323242, 44.09065628051758, 44.01155090332031, 43.776424407958984, 43.70868682861328, 42.15485763549805, 41.62340545654297, 139.31590270996094, 40.5721435546875, 39.581756591796875, 362.49737548828125, 87.62254333496094, 307.62750244140625, 648.8968505859375, 1087.1478271484375, 436.7367248535156, 103.79196166992188, 253.2804718017578, 374.0755310058594, 208.76661682128906, 219.27381896972656, 210.93304443359375, 442.4866943359375, 460.0894775390625, 238.6498260498047, 1498.7362060546875, 398.980712890625, 246.3355712890625, 182.96803283691406, 1257.30419921875, 394.9259338378906, 372.7928161621094, 966.6624145507812, 808.697021484375, 546.3572387695312, 1609.2960205078125, 811.7520141601562, 500.8185729980469, 529.1596069335938, 626.4991455078125, 1304.482666015625, 2054.679443359375, 3606.296142578125, 671.5625, 911.4835205078125, 2023.9677734375, 990.4907836914062, 1572.3233642578125, 1039.3009033203125, 922.4177856445312, 2275.510009765625, 4224.53125, 1741.7117919921875, 967.6990356445312, 557.093017578125, 485.598876953125, 446.4949951171875, 402.0240173339844, 401.0578918457031, 254.57919311523438, 211.42041015625, 202.60853576660156, 199.81399536132812, 192.71153259277344, 165.06503295898438, 147.97866821289062, 142.63304138183594, 142.531982421875, 136.95623779296875, 613.8007202148438, 115.83075714111328, 109.37188720703125, 100.5992660522461, 100.19935607910156, 96.71595001220703, 95.93675231933594, 91.56321716308594, 87.66461181640625, 85.18678283691406, 80.82908630371094, 80.22444152832031, 79.1141128540039, 77.75238037109375, 436.5729675292969, 198.23419189453125, 225.267822265625, 213.2581787109375, 444.111572265625, 319.49334716796875, 840.5878295898438, 654.9744873046875, 1423.0687255859375, 378.71429443359375, 318.1695556640625, 689.47900390625, 419.16485595703125, 2275.510009765625, 4362.814453125, 1191.87646484375, 1029.813720703125, 561.5211181640625, 6505.4853515625, 2422.615966796875, 3606.296142578125, 1314.642333984375, 1369.306396484375, 3232.696533203125, 1406.18359375, 3688.052001953125, 1059.744873046875, 3168.78076171875, 174.03805541992188, 124.05236053466797, 123.56407928466797, 109.63367462158203, 90.7557144165039, 89.81214904785156, 88.3165283203125, 58.14603805541992, 58.07594680786133, 54.24131393432617, 52.4783821105957, 50.932682037353516, 50.66392517089844, 48.52271270751953, 48.36043930053711, 46.23111343383789, 45.56327438354492, 43.923728942871094, 42.832481384277344, 41.024169921875, 40.35380554199219, 39.415653228759766, 38.62860107421875, 38.38227081298828, 38.09730911254883, 36.1229133605957, 36.01970291137695, 35.975032806396484, 35.91657257080078, 35.67376708984375, 115.91619110107422, 604.7461547851562, 65.22869873046875, 156.89601135253906, 278.6722717285156, 212.4301300048828, 135.82418823242188, 185.60153198242188, 88.77803039550781, 52.72236633300781, 493.6479187011719, 489.0549621582031, 606.3336181640625, 112.29949951171875, 131.09706115722656, 725.1643676757812, 266.5293884277344, 119.28811645507812, 152.00636291503906, 1885.7244873046875, 615.67236328125, 97.49736022949219, 626.5755615234375, 137.72352600097656, 316.4040832519531, 334.4959411621094, 364.8251037597656, 387.53778076171875, 574.47265625, 342.99151611328125, 333.2205505371094, 1552.5335693359375, 725.796875, 513.5289306640625, 351.9384765625, 3688.052001953125, 4362.814453125, 1108.0660400390625, 854.3934326171875, 3168.78076171875, 1943.0635986328125, 2292.541259765625, 2422.615966796875, 2675.572998046875, 4224.53125, 1469.8946533203125, 2653.67626953125, 1690.8248291015625, 170.2613983154297, 116.99217987060547, 93.66261291503906, 92.06261444091797, 88.57125091552734, 85.32534790039062, 85.30747985839844, 80.9327392578125, 71.33195495605469, 70.62487030029297, 69.96996307373047, 68.96111297607422, 57.46241760253906, 53.651485443115234, 52.48814010620117, 51.27452087402344, 56.321617126464844, 49.49345016479492, 49.379371643066406, 48.18397903442383, 46.63814163208008, 45.65566635131836, 44.75552749633789, 44.183048248291016, 44.01400375366211, 42.86426544189453, 41.77202606201172, 40.85977554321289, 40.14198303222656, 39.216697692871094, 195.94407653808594, 137.0418701171875, 190.95425415039062, 203.4246368408203, 116.7652587890625, 176.7705841064453, 195.4541473388672, 1352.763916015625, 60.09912872314453, 490.42840576171875, 155.57199096679688, 193.9608917236328, 181.2324676513672, 407.97698974609375, 922.4177856445312, 171.7548370361328, 423.08172607421875, 168.67198181152344, 260.7034912109375, 1039.3009033203125, 525.982421875, 587.23828125, 644.3104858398438, 656.7388916015625, 1609.2960205078125, 679.816162109375, 529.1596069335938, 811.7520141601562, 281.7080383300781, 1572.3233642578125, 1304.482666015625, 1257.30419921875, 1158.0958251953125, 1498.7362060546875, 2292.541259765625, 3606.296142578125, 832.0587768554688, 534.205078125, 266.0370178222656, 240.58152770996094, 238.1763916015625, 161.28965759277344, 831.9989013671875, 90.8182144165039, 687.4921875, 85.86200714111328, 81.47799682617188, 79.4144287109375, 78.09407043457031, 77.54199981689453, 74.06015014648438, 72.54872131347656, 69.44734191894531, 67.36613464355469, 61.51690673828125, 50.94356155395508, 50.07402420043945, 100.075439453125, 48.23272705078125, 47.588985443115234, 45.366607666015625, 44.75783157348633, 44.19428634643555, 43.72822189331055, 43.633384704589844, 40.36647415161133, 40.2640266418457, 165.05804443359375, 43.76823806762695, 171.5162353515625, 115.38507843017578, 101.2884750366211, 184.3126220703125, 1842.0992431640625, 252.657470703125, 133.1964874267578, 128.74737548828125, 380.69708251953125, 421.67071533203125, 683.6953125, 395.6844177246094, 911.4835205078125, 530.1858520507812, 1597.870361328125, 482.48846435546875, 499.19696044921875, 572.8109741210938, 190.66502380371094, 1032.2330322265625, 398.1966552734375, 629.2307739257812, 400.3084716796875, 510.89324951171875, 857.164306640625, 424.80255126953125, 1199.760009765625, 1304.482666015625, 668.3958740234375, 1406.18359375, 1432.1136474609375, 1158.0958251953125, 782.3941650390625, 610.7494506835938, 324.59326171875, 305.1184387207031, 169.20542907714844, 168.41552734375, 144.5619659423828, 118.7064208984375, 86.0482406616211, 83.96550750732422, 80.79969024658203, 78.5648422241211, 78.38208770751953, 71.15467834472656, 69.88239288330078, 68.15821075439453, 60.16807556152344, 57.859642028808594, 55.60708236694336, 55.45651626586914, 54.56664276123047, 52.02681350708008, 42.25807189941406, 39.37366485595703, 39.157386779785156, 38.27143478393555, 38.008705139160156, 37.42693328857422, 36.08054733276367, 35.29341506958008, 113.12146759033203, 242.88076782226562, 1083.3973388671875, 265.4256896972656, 427.9766845703125, 106.40457916259766, 102.49433135986328, 329.8600158691406, 274.42333984375, 288.8436279296875, 357.7547302246094, 692.8733520507812, 276.9688720703125, 367.1031494140625, 562.6527709960938, 368.14996337890625, 476.14202880859375, 416.0567932128906, 1300.572265625, 376.1468811035156, 1297.0577392578125, 840.22216796875, 231.3622589111328, 296.85968017578125, 1663.910888671875, 1686.7828369140625, 1572.3233642578125, 2054.679443359375, 3688.052001953125, 1252.37646484375, 1753.6077880859375, 6505.4853515625, 1539.453125, 1741.7117919921875, 4224.53125, 501.8236083984375, 223.79083251953125, 208.7036895751953, 171.7301788330078, 129.00514221191406, 206.71217346191406, 97.44268035888672, 84.34603118896484, 74.68448638916016, 74.55075073242188, 70.85154724121094, 68.4894027709961, 64.96239471435547, 62.54929733276367, 61.453643798828125, 61.332130432128906, 60.51400375366211, 363.629150390625, 52.073997497558594, 51.385902404785156, 47.712772369384766, 45.3569221496582, 62.80988693237305, 44.563804626464844, 44.05168914794922, 43.78701400756836, 40.00834274291992, 39.71063232421875, 38.60737228393555, 38.46538543701172, 167.50653076171875, 194.2812957763672, 56.42123031616211, 42.73704147338867, 150.60830688476562, 248.90310668945312, 72.81407928466797, 232.86045837402344, 108.96393585205078, 367.2047119140625, 115.2923583984375, 121.34122467041016, 167.54014587402344, 123.26427459716797, 379.7237548828125, 425.34814453125, 244.07070922851562, 645.430419921875, 130.0495147705078, 514.8907470703125, 786.790283203125, 170.90484619140625, 415.9497375488281, 398.2077331542969, 649.416015625, 927.4531860351562, 584.2685546875, 328.1982727050781, 265.6146545410156, 180.8822479248047, 1432.1136474609375, 240.90811157226562, 587.23828125, 289.6300354003906, 1014.0126342773438, 1197.541015625, 968.2135620117188, 108.94739532470703, 89.02409362792969, 80.48785400390625, 111.86491394042969, 79.09888458251953, 68.48289489746094, 62.35074234008789, 59.92488479614258, 57.66895294189453, 46.92174530029297, 48.47074890136719, 45.49517822265625, 43.83395004272461, 43.72073745727539, 42.769718170166016, 42.14156723022461, 40.29920959472656, 37.56475067138672, 37.45744323730469, 35.77614212036133, 34.88816452026367, 34.04207992553711, 33.95654296875, 33.95119857788086, 32.12014389038086, 30.6507511138916, 30.570579528808594, 29.994293212890625, 29.974624633789062, 29.403167724609375, 128.3950958251953, 264.9017639160156, 148.2372283935547, 98.81949615478516, 222.85470581054688, 195.0370635986328, 75.36829376220703, 142.37762451171875, 42.973384857177734, 59.35636520385742, 280.5179748535156, 109.19178009033203, 50.92311477661133, 184.97842407226562, 148.96578979492188, 347.8404235839844, 66.6568832397461, 307.72137451171875, 163.61534118652344, 882.3059692382812, 438.0446472167969, 141.31918334960938, 491.0495910644531, 248.65133666992188, 211.46932983398438, 1111.6185302734375, 254.00502014160156, 253.75270080566406, 527.3663330078125, 2219.142578125, 1663.910888671875, 2023.9677734375, 802.5795288085938, 607.9999389648438, 774.8624267578125, 1178.9622802734375, 363.89813232421875, 708.3526000976562, 3606.296142578125, 1539.453125, 2054.679443359375, 159.75173950195312, 104.26273345947266, 97.95767211914062, 90.01455688476562, 79.26306915283203, 75.60401916503906, 61.8454704284668, 61.39731216430664, 51.780494689941406, 50.91358947753906, 50.0993766784668, 49.00547409057617, 48.29530334472656, 44.44526672363281, 44.294212341308594, 42.33589172363281, 42.142372131347656, 40.99152374267578, 39.431888580322266, 39.11289978027344, 36.21467971801758, 35.31919479370117, 30.20279312133789, 29.07329750061035, 28.78047752380371, 28.74525260925293, 28.413724899291992, 28.32894515991211, 28.258644104003906, 28.20586395263672, 54.62883377075195, 126.808349609375, 117.36634826660156, 67.0252456665039, 258.8347473144531, 654.66162109375, 158.6203155517578, 94.46456909179688, 98.81873321533203, 255.908203125, 483.59307861328125, 288.6640319824219, 344.013916015625, 160.1136474609375, 96.43231964111328, 195.46812438964844, 127.99040985107422, 243.32888793945312, 92.51600646972656, 222.57369995117188, 174.81304931640625, 1352.763916015625, 295.22674560546875, 649.416015625, 1597.870361328125, 346.9590759277344, 289.6300354003906, 482.0888671875, 277.059326171875, 644.3104858398438, 397.403564453125, 490.42840576171875, 1574.6654052734375, 546.3572387695312, 596.8052978515625, 415.9497375488281, 584.2685546875, 250.80894470214844, 3606.296142578125, 882.3059692382812, 80.09077453613281, 71.88378143310547, 64.81478881835938, 51.080997467041016, 49.903499603271484, 38.08716583251953, 37.224239349365234, 35.85844039916992, 35.459476470947266, 35.43882369995117, 34.07781219482422, 33.81831741333008, 31.933578491210938, 30.889564514160156, 29.39456558227539, 29.08807945251465, 28.961868286132812, 28.700387954711914, 27.382658004760742, 26.11751365661621, 26.061485290527344, 24.856449127197266, 24.4949951171875, 23.390323638916016, 22.237850189208984, 22.115345001220703, 21.9449520111084, 21.5941104888916, 21.54694938659668, 21.499046325683594, 68.55412292480469, 55.332305908203125, 32.03372573852539, 40.649898529052734, 88.50312042236328, 233.07626342773438, 68.81411743164062, 182.05905151367188, 407.8187255859375, 553.132568359375, 243.92269897460938, 78.7279281616211, 497.75531005859375, 86.01962280273438, 283.6052551269531, 179.052490234375, 170.27554321289062, 164.99435424804688, 401.4580078125, 189.53536987304688, 234.19790649414062, 228.8642578125, 170.72360229492188, 264.6866760253906, 162.6560821533203, 257.41864013671875, 1139.485107421875, 431.0409851074219, 851.29541015625, 178.6611328125, 199.4150848388672, 286.32879638671875, 263.3818054199219, 330.073486328125, 1406.18359375, 599.9984741210938, 1029.813720703125, 751.965576171875, 405.02130126953125, 987.6331787109375, 563.8858032226562, 2023.9677734375, 2054.679443359375, 376.92633056640625, 371.379150390625, 364.4443054199219, 269.5519714355469, 198.97543334960938, 119.13292694091797, 113.78258514404297, 108.25345611572266, 107.85258483886719, 438.26861572265625, 101.4363784790039, 85.6865005493164, 83.15481567382812, 78.41735076904297, 137.2617645263672, 74.58810424804688, 73.15054321289062, 68.7176513671875, 67.07667541503906, 61.71881866455078, 844.7539672851562, 59.56159210205078, 582.5077514648438, 55.94514465332031, 55.92647171020508, 54.7556037902832, 54.189544677734375, 49.57591247558594, 45.32766342163086, 43.80153274536133, 112.07626342773438, 775.011474609375, 82.14292907714844, 275.30218505859375, 80.5317153930664, 75.36416625976562, 102.0781478881836, 93.66109466552734, 121.22515106201172, 260.2704772949219, 196.27476501464844, 228.27610778808594, 1574.6654052734375, 607.5687255859375, 134.18276977539062, 175.76754760742188, 199.7216339111328, 174.49456787109375, 401.0732421875, 1410.8504638671875, 352.8190612792969, 217.41233825683594, 360.2809753417969, 2292.541259765625, 1019.6026611328125, 322.33282470703125, 615.67236328125, 440.6809387207031, 388.09381103515625, 244.54681396484375, 233.67466735839844, 198.03326416015625, 148.85850524902344, 138.7953643798828, 133.5988311767578, 118.87486267089844, 91.3261947631836, 86.203857421875, 83.50872039794922, 82.01750946044922, 81.14042663574219, 77.83256530761719, 61.617584228515625, 57.722679138183594, 54.25684356689453, 50.38933563232422, 47.00248718261719, 42.48847961425781, 42.0622444152832, 39.85509490966797, 39.1390266418457, 37.81047058105469, 36.43986892700195, 109.5323257446289, 34.84706115722656, 34.062400817871094, 33.09654998779297, 179.9305877685547, 821.6421508789062, 51.28181457519531, 184.41111755371094, 631.8370361328125, 449.9698181152344, 178.58924865722656, 286.3642272949219, 109.84230041503906, 144.36741638183594, 314.3136291503906, 119.2856216430664, 96.2737808227539, 132.58697509765625, 572.8109741210938, 157.8910675048828, 834.7576904296875, 710.7488403320312, 404.194580078125, 600.0293579101562, 1597.870361328125, 1539.453125, 966.6624145507812, 500.8185729980469, 1498.7362060546875, 1297.0577392578125, 1663.910888671875, 739.3694458007812, 990.4907836914062, 531.7723388671875, 682.9567260742188, 398.9179382324219, 196.30606079101562, 179.8325653076172, 159.63075256347656, 149.6350860595703, 148.58810424804688, 101.46163177490234, 98.72748565673828, 88.22935485839844, 82.05840301513672, 444.5685119628906, 72.09919738769531, 71.18765258789062, 69.55671691894531, 58.43406295776367, 53.98447036743164, 41.47868728637695, 41.764976501464844, 38.50529098510742, 38.05217361450195, 35.806297302246094, 34.529327392578125, 33.19709396362305, 30.481327056884766, 28.713115692138672, 28.18101692199707, 27.509077072143555, 27.480546951293945, 284.7844543457031, 235.16273498535156, 336.29571533203125, 119.97647094726562, 504.1602783203125, 218.73284912109375, 273.3614501953125, 182.1424102783203, 262.1705322265625, 174.26194763183594, 222.1319580078125, 284.04290771484375, 506.4642028808594, 205.48187255859375, 1257.3204345703125, 927.4531860351562, 325.65478515625, 2054.679443359375, 1432.1136474609375, 618.1372680664062, 1304.482666015625, 2023.9677734375, 538.7174682617188, 372.8383483886719, 474.85540771484375, 299.4413757324219, 231.50225830078125, 222.80755615234375, 199.82635498046875, 110.93242645263672, 103.95911407470703, 98.97879791259766, 96.01654815673828, 94.8880844116211, 92.73518371582031, 91.66365051269531, 87.48352813720703, 79.37195587158203, 79.30409240722656, 63.77865982055664, 62.5360221862793, 56.8463020324707, 54.086605072021484, 53.36153030395508, 51.01581954956055, 45.77892303466797, 45.20642852783203, 44.67293167114258, 44.57714080810547, 43.71856689453125, 42.227210998535156, 41.57794189453125, 40.54014587402344, 37.820899963378906, 672.078125, 591.0806274414062, 176.94029235839844, 104.14603424072266, 335.3358154296875, 210.23095703125, 100.8750991821289, 208.96432495117188, 346.9590759277344, 174.70057678222656, 618.4822998046875, 90.98921203613281, 390.87860107421875, 189.3740997314453, 479.4571533203125, 129.02752685546875, 285.2631530761719, 350.85699462890625, 226.41366577148438, 4362.814453125, 1191.87646484375, 1257.3204345703125, 97.45661163330078, 90.95777130126953, 59.130897521972656, 55.980499267578125, 43.88573455810547, 43.59809112548828, 42.104522705078125, 41.76866912841797, 40.465694427490234, 38.691036224365234, 38.62397766113281, 37.7678108215332, 37.36928176879883, 35.98301696777344, 35.7877197265625, 143.1739959716797, 34.696754455566406, 33.743099212646484, 33.743099212646484, 32.495853424072266, 31.65836524963379, 31.503530502319336, 30.49815559387207, 29.535274505615234, 29.234670639038086, 29.108091354370117, 29.075897216796875, 28.11930274963379, 27.401357650756836, 27.335615158081055, 67.79641723632812, 93.2838134765625, 72.0406265258789, 72.91255950927734, 30.547779083251953, 110.52742767333984, 116.88561248779297, 333.2205505371094, 254.00502014160156, 101.68927001953125, 205.8907928466797, 129.02554321289062, 264.658935546875, 75.04678344726562, 111.24132537841797, 340.23883056640625, 1111.6185302734375, 2623.232666015625, 280.5179748535156, 307.3234558105469, 365.18524169921875, 367.806640625, 294.91204833984375, 350.14068603515625, 626.4991455078125, 264.43682861328125, 1108.0660400390625, 111.9533920288086, 82.99723815917969, 72.19593048095703, 71.18492126464844, 63.10504150390625, 54.35393142700195, 52.21731948852539, 46.64262771606445, 46.19635009765625, 43.49192810058594, 43.06108856201172, 38.534732818603516, 36.08673095703125, 35.13950729370117, 34.38349151611328, 34.000709533691406, 33.07550811767578, 33.02437973022461, 32.92402267456055, 32.48550796508789, 32.312896728515625, 32.27088165283203, 32.03859329223633, 30.12578773498535, 29.95609474182129, 29.860824584960938, 29.365360260009766, 29.184267044067383, 28.542842864990234, 58.12617874145508, 75.89334869384766, 118.35192108154297, 505.7245788574219, 71.51293182373047, 85.99031829833984, 52.72042465209961, 74.73047637939453, 85.00950622558594, 71.36792755126953, 66.9891357421875, 607.5687255859375, 159.2047882080078, 254.32684326171875, 161.32119750976562, 111.90449523925781, 1111.6185302734375, 217.41233825683594, 174.91720581054688, 132.40635681152344, 122.59034729003906, 125.18099975585938, 456.3270568847656, 1014.0126342773438, 2292.541259765625, 170.4622802734375, 143.95091247558594, 228.27610778808594, 144.08566284179688, 104.47765350341797, 89.85623931884766, 77.12996673583984, 71.01874542236328, 66.17058563232422, 64.13045501708984, 56.787113189697266, 55.971702575683594, 47.73274612426758, 47.56544876098633, 35.70146560668945, 34.83988952636719, 32.5380744934082, 31.463197708129883, 28.630041122436523, 28.37200927734375, 27.972238540649414, 28.06785011291504, 25.796356201171875, 25.296188354492188, 25.109079360961914, 23.869016647338867, 23.23778533935547, 22.39748191833496, 22.007654190063477, 21.18155860900879, 21.13100814819336, 20.099416732788086, 20.04148292541504, 85.21263122558594, 65.74079895019531, 43.5617790222168, 58.65937423706055, 63.081233978271484, 47.07802200317383, 87.82901763916016, 48.1501350402832, 60.4649772644043, 95.45022583007812, 255.77932739257812, 347.4455261230469, 240.99400329589844, 236.46856689453125, 66.60845184326172, 169.39727783203125, 125.18099975585938, 130.78956604003906, 189.4888916015625, 584.2685546875, 385.9247131347656, 561.5211181640625, 53.667449951171875, 35.4602165222168, 34.50265121459961, 29.030168533325195, 26.761077880859375, 23.7437801361084, 23.339271545410156, 22.852161407470703, 21.40221405029297, 19.265823364257812, 18.56971549987793, 18.238677978515625, 17.867862701416016, 17.475704193115234, 16.912120819091797, 16.172653198242188, 16.056320190429688, 15.117921829223633, 14.652680397033691, 14.517073631286621, 13.586697578430176, 12.913678169250488, 12.710538864135742, 12.545509338378906, 12.195377349853516, 11.47959041595459, 11.220525741577148, 11.081271171569824, 10.92760944366455, 10.643181800842285, 47.19266128540039, 32.57356262207031, 47.429771423339844, 41.22767639160156, 245.8282470703125, 22.811767578125, 49.374229431152344, 19.29166603088379, 93.91500854492188, 35.515586853027344, 77.20077514648438, 77.16436767578125, 94.39742279052734, 84.91624450683594, 65.34487915039062, 89.45503234863281, 30.287097930908203], \"Category\": [\"Default\", \"Default\", \"Default\", \"Default\", \"Default\", \"Default\", \"Default\", \"Default\", \"Default\", \"Default\", \"Default\", \"Default\", \"Default\", \"Default\", \"Default\", \"Default\", \"Default\", \"Default\", \"Default\", \"Default\", \"Default\", \"Default\", \"Default\", \"Default\", \"Default\", \"Default\", \"Default\", \"Default\", \"Default\", \"Default\", \"Topic1\", \"Topic1\", \"Topic1\", \"Topic1\", \"Topic1\", \"Topic1\", \"Topic1\", \"Topic1\", \"Topic1\", \"Topic1\", \"Topic1\", \"Topic1\", \"Topic1\", \"Topic1\", \"Topic1\", \"Topic1\", \"Topic1\", \"Topic1\", \"Topic1\", \"Topic1\", \"Topic1\", \"Topic1\", \"Topic1\", \"Topic1\", \"Topic1\", \"Topic1\", \"Topic1\", \"Topic1\", \"Topic1\", \"Topic1\", \"Topic1\", \"Topic1\", \"Topic1\", \"Topic1\", \"Topic1\", \"Topic1\", \"Topic1\", \"Topic1\", \"Topic1\", \"Topic1\", \"Topic1\", \"Topic1\", \"Topic1\", \"Topic1\", \"Topic1\", \"Topic1\", \"Topic1\", \"Topic1\", \"Topic1\", \"Topic1\", \"Topic1\", \"Topic1\", \"Topic1\", \"Topic1\", \"Topic1\", \"Topic1\", \"Topic1\", \"Topic1\", \"Topic1\", \"Topic1\", \"Topic1\", \"Topic1\", \"Topic1\", \"Topic1\", \"Topic1\", \"Topic1\", \"Topic1\", \"Topic1\", \"Topic1\", \"Topic1\", \"Topic1\", \"Topic1\", \"Topic1\", \"Topic1\", \"Topic1\", \"Topic1\", \"Topic2\", \"Topic2\", \"Topic2\", \"Topic2\", \"Topic2\", \"Topic2\", \"Topic2\", \"Topic2\", \"Topic2\", \"Topic2\", \"Topic2\", \"Topic2\", \"Topic2\", \"Topic2\", \"Topic2\", \"Topic2\", \"Topic2\", \"Topic2\", \"Topic2\", \"Topic2\", \"Topic2\", \"Topic2\", \"Topic2\", \"Topic2\", \"Topic2\", \"Topic2\", \"Topic2\", \"Topic2\", \"Topic2\", \"Topic2\", \"Topic2\", \"Topic2\", \"Topic2\", \"Topic2\", \"Topic2\", \"Topic2\", \"Topic2\", \"Topic2\", \"Topic2\", \"Topic2\", \"Topic2\", \"Topic2\", \"Topic2\", \"Topic2\", \"Topic2\", \"Topic2\", \"Topic2\", \"Topic2\", \"Topic2\", \"Topic2\", \"Topic2\", \"Topic2\", \"Topic2\", \"Topic2\", \"Topic2\", \"Topic2\", \"Topic2\", \"Topic2\", \"Topic2\", \"Topic2\", \"Topic2\", \"Topic2\", \"Topic2\", \"Topic2\", \"Topic2\", \"Topic2\", \"Topic2\", \"Topic2\", \"Topic2\", \"Topic2\", \"Topic2\", \"Topic2\", \"Topic2\", \"Topic2\", \"Topic3\", \"Topic3\", \"Topic3\", \"Topic3\", \"Topic3\", \"Topic3\", \"Topic3\", \"Topic3\", \"Topic3\", \"Topic3\", \"Topic3\", \"Topic3\", \"Topic3\", \"Topic3\", \"Topic3\", \"Topic3\", \"Topic3\", \"Topic3\", \"Topic3\", \"Topic3\", \"Topic3\", \"Topic3\", \"Topic3\", \"Topic3\", \"Topic3\", \"Topic3\", \"Topic3\", \"Topic3\", \"Topic3\", \"Topic3\", \"Topic3\", \"Topic3\", \"Topic3\", \"Topic3\", \"Topic3\", \"Topic3\", \"Topic3\", \"Topic3\", \"Topic3\", \"Topic3\", \"Topic3\", \"Topic3\", \"Topic3\", \"Topic3\", \"Topic3\", \"Topic3\", \"Topic3\", \"Topic3\", \"Topic3\", \"Topic3\", \"Topic3\", \"Topic3\", \"Topic3\", \"Topic3\", \"Topic3\", \"Topic3\", \"Topic3\", \"Topic3\", \"Topic3\", \"Topic3\", \"Topic3\", \"Topic3\", \"Topic3\", \"Topic3\", \"Topic3\", \"Topic3\", \"Topic3\", \"Topic3\", \"Topic3\", \"Topic3\", \"Topic3\", \"Topic3\", \"Topic3\", \"Topic4\", \"Topic4\", \"Topic4\", \"Topic4\", \"Topic4\", \"Topic4\", \"Topic4\", \"Topic4\", \"Topic4\", \"Topic4\", \"Topic4\", \"Topic4\", \"Topic4\", \"Topic4\", \"Topic4\", \"Topic4\", \"Topic4\", \"Topic4\", \"Topic4\", \"Topic4\", \"Topic4\", \"Topic4\", \"Topic4\", \"Topic4\", \"Topic4\", \"Topic4\", \"Topic4\", \"Topic4\", \"Topic4\", \"Topic4\", \"Topic4\", \"Topic4\", \"Topic4\", \"Topic4\", \"Topic4\", \"Topic4\", \"Topic4\", \"Topic4\", \"Topic4\", \"Topic4\", \"Topic4\", \"Topic4\", \"Topic4\", \"Topic4\", \"Topic4\", \"Topic4\", \"Topic4\", \"Topic4\", \"Topic4\", \"Topic4\", \"Topic4\", \"Topic4\", \"Topic4\", \"Topic4\", \"Topic4\", \"Topic4\", \"Topic4\", \"Topic4\", \"Topic5\", \"Topic5\", \"Topic5\", \"Topic5\", \"Topic5\", \"Topic5\", \"Topic5\", \"Topic5\", \"Topic5\", \"Topic5\", \"Topic5\", \"Topic5\", \"Topic5\", \"Topic5\", \"Topic5\", \"Topic5\", \"Topic5\", \"Topic5\", \"Topic5\", \"Topic5\", \"Topic5\", \"Topic5\", \"Topic5\", \"Topic5\", \"Topic5\", \"Topic5\", \"Topic5\", \"Topic5\", \"Topic5\", \"Topic5\", \"Topic5\", \"Topic5\", \"Topic5\", \"Topic5\", \"Topic5\", \"Topic5\", \"Topic5\", \"Topic5\", \"Topic5\", \"Topic5\", \"Topic5\", \"Topic5\", \"Topic5\", \"Topic5\", \"Topic5\", \"Topic5\", \"Topic5\", \"Topic5\", \"Topic5\", \"Topic5\", \"Topic5\", \"Topic5\", \"Topic5\", \"Topic5\", \"Topic5\", \"Topic5\", \"Topic5\", \"Topic5\", \"Topic5\", \"Topic5\", \"Topic5\", \"Topic5\", \"Topic5\", \"Topic5\", \"Topic5\", \"Topic5\", \"Topic5\", \"Topic5\", \"Topic5\", \"Topic5\", \"Topic5\", \"Topic5\", \"Topic5\", \"Topic5\", \"Topic5\", \"Topic5\", \"Topic5\", \"Topic5\", \"Topic6\", \"Topic6\", \"Topic6\", \"Topic6\", \"Topic6\", \"Topic6\", \"Topic6\", \"Topic6\", \"Topic6\", \"Topic6\", \"Topic6\", \"Topic6\", \"Topic6\", \"Topic6\", \"Topic6\", \"Topic6\", \"Topic6\", \"Topic6\", \"Topic6\", \"Topic6\", \"Topic6\", \"Topic6\", \"Topic6\", \"Topic6\", \"Topic6\", \"Topic6\", \"Topic6\", \"Topic6\", \"Topic6\", \"Topic6\", \"Topic6\", \"Topic6\", \"Topic6\", \"Topic6\", \"Topic6\", \"Topic6\", \"Topic6\", \"Topic6\", \"Topic6\", \"Topic6\", \"Topic6\", \"Topic6\", \"Topic6\", \"Topic6\", \"Topic6\", \"Topic6\", \"Topic6\", \"Topic6\", \"Topic6\", \"Topic6\", \"Topic6\", \"Topic6\", \"Topic6\", \"Topic6\", \"Topic6\", \"Topic6\", \"Topic6\", \"Topic6\", \"Topic6\", \"Topic6\", \"Topic6\", \"Topic6\", \"Topic6\", \"Topic6\", \"Topic6\", \"Topic6\", \"Topic6\", \"Topic7\", \"Topic7\", \"Topic7\", \"Topic7\", \"Topic7\", \"Topic7\", \"Topic7\", \"Topic7\", \"Topic7\", \"Topic7\", \"Topic7\", \"Topic7\", \"Topic7\", \"Topic7\", \"Topic7\", \"Topic7\", \"Topic7\", \"Topic7\", \"Topic7\", \"Topic7\", \"Topic7\", \"Topic7\", \"Topic7\", \"Topic7\", \"Topic7\", \"Topic7\", \"Topic7\", \"Topic7\", \"Topic7\", \"Topic7\", \"Topic7\", \"Topic7\", \"Topic7\", \"Topic7\", \"Topic7\", \"Topic7\", \"Topic7\", \"Topic7\", \"Topic7\", \"Topic7\", \"Topic7\", \"Topic7\", \"Topic7\", \"Topic7\", \"Topic7\", \"Topic7\", \"Topic7\", \"Topic7\", \"Topic7\", \"Topic7\", \"Topic7\", \"Topic7\", \"Topic7\", \"Topic7\", \"Topic7\", \"Topic7\", \"Topic7\", \"Topic7\", \"Topic7\", \"Topic7\", \"Topic7\", \"Topic7\", \"Topic7\", \"Topic7\", \"Topic8\", \"Topic8\", \"Topic8\", \"Topic8\", \"Topic8\", \"Topic8\", \"Topic8\", \"Topic8\", \"Topic8\", \"Topic8\", \"Topic8\", \"Topic8\", \"Topic8\", \"Topic8\", \"Topic8\", \"Topic8\", \"Topic8\", \"Topic8\", \"Topic8\", \"Topic8\", \"Topic8\", \"Topic8\", \"Topic8\", \"Topic8\", \"Topic8\", \"Topic8\", \"Topic8\", \"Topic8\", \"Topic8\", \"Topic8\", \"Topic8\", \"Topic8\", \"Topic8\", \"Topic8\", \"Topic8\", \"Topic8\", \"Topic8\", \"Topic8\", \"Topic8\", \"Topic8\", \"Topic8\", \"Topic8\", \"Topic8\", \"Topic8\", \"Topic8\", \"Topic8\", \"Topic8\", \"Topic8\", \"Topic8\", \"Topic8\", \"Topic8\", \"Topic8\", \"Topic8\", \"Topic8\", \"Topic8\", \"Topic8\", \"Topic8\", \"Topic8\", \"Topic8\", \"Topic8\", \"Topic8\", \"Topic8\", \"Topic8\", \"Topic8\", \"Topic8\", \"Topic9\", \"Topic9\", \"Topic9\", \"Topic9\", \"Topic9\", \"Topic9\", \"Topic9\", \"Topic9\", \"Topic9\", \"Topic9\", \"Topic9\", \"Topic9\", \"Topic9\", \"Topic9\", \"Topic9\", \"Topic9\", \"Topic9\", \"Topic9\", \"Topic9\", \"Topic9\", \"Topic9\", \"Topic9\", \"Topic9\", \"Topic9\", \"Topic9\", \"Topic9\", \"Topic9\", \"Topic9\", \"Topic9\", \"Topic9\", \"Topic9\", \"Topic9\", \"Topic9\", \"Topic9\", \"Topic9\", \"Topic9\", \"Topic9\", \"Topic9\", \"Topic9\", \"Topic9\", \"Topic9\", \"Topic9\", \"Topic9\", \"Topic9\", \"Topic9\", \"Topic9\", \"Topic9\", \"Topic9\", \"Topic9\", \"Topic9\", \"Topic9\", \"Topic9\", \"Topic9\", \"Topic9\", \"Topic9\", \"Topic9\", \"Topic9\", \"Topic9\", \"Topic9\", \"Topic9\", \"Topic9\", \"Topic9\", \"Topic9\", \"Topic9\", \"Topic9\", \"Topic9\", \"Topic9\", \"Topic10\", \"Topic10\", \"Topic10\", \"Topic10\", \"Topic10\", \"Topic10\", \"Topic10\", \"Topic10\", \"Topic10\", \"Topic10\", \"Topic10\", \"Topic10\", \"Topic10\", \"Topic10\", \"Topic10\", \"Topic10\", \"Topic10\", \"Topic10\", \"Topic10\", \"Topic10\", \"Topic10\", \"Topic10\", \"Topic10\", \"Topic10\", \"Topic10\", \"Topic10\", \"Topic10\", \"Topic10\", \"Topic10\", \"Topic10\", \"Topic10\", \"Topic10\", \"Topic10\", \"Topic10\", \"Topic10\", \"Topic10\", \"Topic10\", \"Topic10\", \"Topic10\", \"Topic10\", \"Topic10\", \"Topic10\", \"Topic10\", \"Topic10\", \"Topic10\", \"Topic10\", \"Topic10\", \"Topic10\", \"Topic10\", \"Topic10\", \"Topic10\", \"Topic10\", \"Topic10\", \"Topic10\", \"Topic10\", \"Topic10\", \"Topic10\", \"Topic10\", \"Topic10\", \"Topic10\", \"Topic10\", \"Topic10\", \"Topic10\", \"Topic10\", \"Topic10\", \"Topic10\", \"Topic10\", \"Topic10\", \"Topic10\", \"Topic10\", \"Topic10\", \"Topic11\", \"Topic11\", \"Topic11\", \"Topic11\", \"Topic11\", \"Topic11\", \"Topic11\", \"Topic11\", \"Topic11\", \"Topic11\", \"Topic11\", \"Topic11\", \"Topic11\", \"Topic11\", \"Topic11\", \"Topic11\", \"Topic11\", \"Topic11\", \"Topic11\", \"Topic11\", \"Topic11\", \"Topic11\", \"Topic11\", \"Topic11\", \"Topic11\", \"Topic11\", \"Topic11\", \"Topic11\", \"Topic11\", \"Topic11\", \"Topic11\", \"Topic11\", \"Topic11\", \"Topic11\", \"Topic11\", \"Topic11\", \"Topic11\", \"Topic11\", \"Topic11\", \"Topic11\", \"Topic11\", \"Topic11\", \"Topic11\", \"Topic11\", \"Topic11\", \"Topic11\", \"Topic11\", \"Topic11\", \"Topic11\", \"Topic11\", \"Topic11\", \"Topic11\", \"Topic11\", \"Topic11\", \"Topic11\", \"Topic11\", \"Topic11\", \"Topic11\", \"Topic11\", \"Topic11\", \"Topic11\", \"Topic11\", \"Topic11\", \"Topic11\", \"Topic11\", \"Topic11\", \"Topic11\", \"Topic11\", \"Topic11\", \"Topic11\", \"Topic12\", \"Topic12\", \"Topic12\", \"Topic12\", \"Topic12\", \"Topic12\", \"Topic12\", \"Topic12\", \"Topic12\", \"Topic12\", \"Topic12\", \"Topic12\", \"Topic12\", \"Topic12\", \"Topic12\", \"Topic12\", \"Topic12\", \"Topic12\", \"Topic12\", \"Topic12\", \"Topic12\", \"Topic12\", \"Topic12\", \"Topic12\", \"Topic12\", \"Topic12\", \"Topic12\", \"Topic12\", \"Topic12\", \"Topic12\", \"Topic12\", \"Topic12\", \"Topic12\", \"Topic12\", \"Topic12\", \"Topic12\", \"Topic12\", \"Topic12\", \"Topic12\", \"Topic12\", \"Topic12\", \"Topic12\", \"Topic12\", \"Topic12\", \"Topic12\", \"Topic12\", \"Topic12\", \"Topic12\", \"Topic12\", \"Topic12\", \"Topic12\", \"Topic12\", \"Topic12\", \"Topic12\", \"Topic12\", \"Topic12\", \"Topic12\", \"Topic12\", \"Topic12\", \"Topic12\", \"Topic12\", \"Topic12\", \"Topic12\", \"Topic12\", \"Topic12\", \"Topic12\", \"Topic12\", \"Topic12\", \"Topic12\", \"Topic12\", \"Topic12\", \"Topic12\", \"Topic12\", \"Topic13\", \"Topic13\", \"Topic13\", \"Topic13\", \"Topic13\", \"Topic13\", \"Topic13\", \"Topic13\", \"Topic13\", \"Topic13\", \"Topic13\", \"Topic13\", \"Topic13\", \"Topic13\", \"Topic13\", \"Topic13\", \"Topic13\", \"Topic13\", \"Topic13\", \"Topic13\", \"Topic13\", \"Topic13\", \"Topic13\", \"Topic13\", \"Topic13\", \"Topic13\", \"Topic13\", \"Topic13\", \"Topic13\", \"Topic13\", \"Topic13\", \"Topic13\", \"Topic13\", \"Topic13\", \"Topic13\", \"Topic13\", \"Topic13\", \"Topic13\", \"Topic13\", \"Topic13\", \"Topic13\", \"Topic13\", \"Topic13\", \"Topic13\", \"Topic13\", \"Topic13\", \"Topic13\", \"Topic13\", \"Topic13\", \"Topic13\", \"Topic13\", \"Topic13\", \"Topic13\", \"Topic13\", \"Topic13\", \"Topic13\", \"Topic13\", \"Topic14\", \"Topic14\", \"Topic14\", \"Topic14\", \"Topic14\", \"Topic14\", \"Topic14\", \"Topic14\", \"Topic14\", \"Topic14\", \"Topic14\", \"Topic14\", \"Topic14\", \"Topic14\", \"Topic14\", \"Topic14\", \"Topic14\", \"Topic14\", \"Topic14\", \"Topic14\", \"Topic14\", \"Topic14\", \"Topic14\", \"Topic14\", \"Topic14\", \"Topic14\", \"Topic14\", \"Topic14\", \"Topic14\", \"Topic14\", \"Topic14\", \"Topic14\", \"Topic14\", \"Topic14\", \"Topic14\", \"Topic14\", \"Topic14\", \"Topic14\", \"Topic14\", \"Topic14\", \"Topic14\", \"Topic14\", \"Topic14\", \"Topic14\", \"Topic14\", \"Topic14\", \"Topic14\", \"Topic14\", \"Topic14\", \"Topic14\", \"Topic14\", \"Topic14\", \"Topic14\", \"Topic14\", \"Topic14\", \"Topic14\", \"Topic14\", \"Topic14\", \"Topic14\", \"Topic15\", \"Topic15\", \"Topic15\", \"Topic15\", \"Topic15\", \"Topic15\", \"Topic15\", \"Topic15\", \"Topic15\", \"Topic15\", \"Topic15\", \"Topic15\", \"Topic15\", \"Topic15\", \"Topic15\", \"Topic15\", \"Topic15\", \"Topic15\", \"Topic15\", \"Topic15\", \"Topic15\", \"Topic15\", \"Topic15\", \"Topic15\", \"Topic15\", \"Topic15\", \"Topic15\", \"Topic15\", \"Topic15\", \"Topic15\", \"Topic15\", \"Topic15\", \"Topic15\", \"Topic15\", \"Topic15\", \"Topic15\", \"Topic15\", \"Topic15\", \"Topic15\", \"Topic15\", \"Topic15\", \"Topic15\", \"Topic15\", \"Topic15\", \"Topic15\", \"Topic15\", \"Topic15\", \"Topic15\", \"Topic15\", \"Topic15\", \"Topic15\", \"Topic15\", \"Topic15\", \"Topic15\", \"Topic16\", \"Topic16\", \"Topic16\", \"Topic16\", \"Topic16\", \"Topic16\", \"Topic16\", \"Topic16\", \"Topic16\", \"Topic16\", \"Topic16\", \"Topic16\", \"Topic16\", \"Topic16\", \"Topic16\", \"Topic16\", \"Topic16\", \"Topic16\", \"Topic16\", \"Topic16\", \"Topic16\", \"Topic16\", \"Topic16\", \"Topic16\", \"Topic16\", \"Topic16\", \"Topic16\", \"Topic16\", \"Topic16\", \"Topic16\", \"Topic16\", \"Topic16\", \"Topic16\", \"Topic16\", \"Topic16\", \"Topic16\", \"Topic16\", \"Topic16\", \"Topic16\", \"Topic16\", \"Topic16\", \"Topic16\", \"Topic16\", \"Topic16\", \"Topic16\", \"Topic16\", \"Topic16\", \"Topic16\", \"Topic16\", \"Topic16\", \"Topic16\", \"Topic16\", \"Topic17\", \"Topic17\", \"Topic17\", \"Topic17\", \"Topic17\", \"Topic17\", \"Topic17\", \"Topic17\", \"Topic17\", \"Topic17\", \"Topic17\", \"Topic17\", \"Topic17\", \"Topic17\", \"Topic17\", \"Topic17\", \"Topic17\", \"Topic17\", \"Topic17\", \"Topic17\", \"Topic17\", \"Topic17\", \"Topic17\", \"Topic17\", \"Topic17\", \"Topic17\", \"Topic17\", \"Topic17\", \"Topic17\", \"Topic17\", \"Topic17\", \"Topic17\", \"Topic17\", \"Topic17\", \"Topic17\", \"Topic17\", \"Topic17\", \"Topic17\", \"Topic17\", \"Topic17\", \"Topic17\", \"Topic17\", \"Topic17\", \"Topic17\", \"Topic17\", \"Topic17\", \"Topic17\", \"Topic17\", \"Topic17\", \"Topic17\", \"Topic17\", \"Topic17\", \"Topic17\", \"Topic17\", \"Topic17\", \"Topic17\", \"Topic17\", \"Topic18\", \"Topic18\", \"Topic18\", \"Topic18\", \"Topic18\", \"Topic18\", \"Topic18\", \"Topic18\", \"Topic18\", \"Topic18\", \"Topic18\", \"Topic18\", \"Topic18\", \"Topic18\", \"Topic18\", \"Topic18\", \"Topic18\", \"Topic18\", \"Topic18\", \"Topic18\", \"Topic18\", \"Topic18\", \"Topic18\", \"Topic18\", \"Topic18\", \"Topic18\", \"Topic18\", \"Topic18\", \"Topic18\", \"Topic18\", \"Topic18\", \"Topic18\", \"Topic18\", \"Topic18\", \"Topic18\", \"Topic18\", \"Topic18\", \"Topic18\", \"Topic18\", \"Topic18\", \"Topic18\", \"Topic18\", \"Topic18\", \"Topic18\", \"Topic18\", \"Topic18\", \"Topic18\", \"Topic18\", \"Topic18\", \"Topic18\", \"Topic18\", \"Topic18\", \"Topic18\", \"Topic18\", \"Topic18\", \"Topic18\", \"Topic18\", \"Topic19\", \"Topic19\", \"Topic19\", \"Topic19\", \"Topic19\", \"Topic19\", \"Topic19\", \"Topic19\", \"Topic19\", \"Topic19\", \"Topic19\", \"Topic19\", \"Topic19\", \"Topic19\", \"Topic19\", \"Topic19\", \"Topic19\", \"Topic19\", \"Topic19\", \"Topic19\", \"Topic19\", \"Topic19\", \"Topic19\", \"Topic19\", \"Topic19\", \"Topic19\", \"Topic19\", \"Topic19\", \"Topic19\", \"Topic19\", \"Topic19\", \"Topic19\", \"Topic19\", \"Topic19\", \"Topic19\", \"Topic19\", \"Topic19\", \"Topic19\", \"Topic19\", \"Topic19\", \"Topic19\", \"Topic19\", \"Topic19\", \"Topic19\", \"Topic19\", \"Topic19\", \"Topic19\", \"Topic19\", \"Topic19\", \"Topic19\", \"Topic19\", \"Topic19\", \"Topic20\", \"Topic20\", \"Topic20\", \"Topic20\", \"Topic20\", \"Topic20\", \"Topic20\", \"Topic20\", \"Topic20\", \"Topic20\", \"Topic20\", \"Topic20\", \"Topic20\", \"Topic20\", \"Topic20\", \"Topic20\", \"Topic20\", \"Topic20\", \"Topic20\", \"Topic20\", \"Topic20\", \"Topic20\", \"Topic20\", \"Topic20\", \"Topic20\", \"Topic20\", \"Topic20\", \"Topic20\", \"Topic20\", \"Topic20\", \"Topic20\", \"Topic20\", \"Topic20\", \"Topic20\", \"Topic20\", \"Topic20\", \"Topic20\", \"Topic20\", \"Topic20\", \"Topic20\", \"Topic20\", \"Topic20\", \"Topic20\", \"Topic20\", \"Topic20\", \"Topic20\", \"Topic20\"], \"logprob\": [30.0, 29.0, 28.0, 27.0, 26.0, 25.0, 24.0, 23.0, 22.0, 21.0, 20.0, 19.0, 18.0, 17.0, 16.0, 15.0, 14.0, 13.0, 12.0, 11.0, 10.0, 9.0, 8.0, 7.0, 6.0, 5.0, 4.0, 3.0, 2.0, 1.0, -6.8242998123168945, -7.909800052642822, -7.964000225067139, -7.964000225067139, -8.09060001373291, -8.166099548339844, -8.196900367736816, -8.24020004272461, -8.199000358581543, -8.256500244140625, -8.27750015258789, -8.283499717712402, -8.334400177001953, -8.375900268554688, -8.392900466918945, -8.402400016784668, -8.450300216674805, -8.471400260925293, -8.152999877929688, -8.51609992980957, -8.508700370788574, -8.571700096130371, -8.583399772644043, -8.578200340270996, -8.599200248718262, -8.62720012664795, -8.629300117492676, -8.579500198364258, -8.633600234985352, -8.646599769592285, -6.103799819946289, -5.873300075531006, -6.627399921417236, -6.107999801635742, -6.797999858856201, -7.6717000007629395, -8.26729965209961, -4.242400169372559, -5.005000114440918, -4.969200134277344, -6.912399768829346, -5.7941999435424805, -5.696100234985352, -5.388999938964844, -7.102099895477295, -5.239799976348877, -4.127699851989746, -6.3796000480651855, -4.581200122833252, -5.938399791717529, -6.483799934387207, -4.7779998779296875, -3.815000057220459, -4.334700107574463, -5.3069000244140625, -5.0742998123168945, -5.614299774169922, -5.0117998123168945, -5.488100051879883, -4.577700138092041, -4.732399940490723, -5.350800037384033, -4.751299858093262, -4.958399772644043, -5.5594000816345215, -5.399400234222412, -5.329500198364258, -5.323500156402588, -5.007400035858154, -5.298399925231934, -5.432300090789795, -5.2718000411987305, -4.871399879455566, -5.055500030517578, -5.401199817657471, -5.386099815368652, -5.185699939727783, -5.674600124359131, -6.087900161743164, -6.392600059509277, -6.628399848937988, -6.708700180053711, -6.739299774169922, -6.83650016784668, -6.9567999839782715, -6.973599910736084, -7.000899791717529, -7.1269001960754395, -7.158899784088135, -7.185100078582764, -7.1869001388549805, -7.2052998542785645, -7.22629976272583, -7.230199813842773, -7.233399868011475, -7.2565999031066895, -7.268099784851074, -7.291500091552734, -7.318900108337402, -7.333700180053711, -7.34689998626709, -7.35230016708374, -7.382800102233887, -7.424600124359131, -7.463200092315674, -7.540500164031982, -5.485199928283691, -5.581299781799316, -6.197199821472168, -6.171500205993652, -6.293300151824951, -6.502699851989746, -7.1834001541137695, -6.635300159454346, -5.941800117492676, -6.114799976348877, -6.529300212860107, -5.8927998542785645, -4.948500156402588, -5.941800117492676, -6.970300197601318, -6.220900058746338, -6.085400104522705, -6.658100128173828, -5.285799980163574, -6.155900001525879, -4.163000106811523, -6.127600193023682, -6.183800220489502, -6.049699783325195, -6.227700233459473, -4.5152997970581055, -5.914400100708008, -6.138199806213379, -6.371699810028076, -5.990200042724609, -5.478099822998047, -5.822800159454346, -5.535900115966797, -5.7993998527526855, -5.6697001457214355, -6.037099838256836, -6.040999889373779, -5.847899913787842, -5.914299964904785, -5.885200023651123, -5.928299903869629, -5.966800212860107, -6.023799896240234, -6.096799850463867, -5.920499801635742, -6.543000221252441, -6.599400043487549, -6.842400074005127, -6.84250020980835, -6.696700096130371, -7.003900051116943, -7.100100040435791, -7.191800117492676, -7.248499870300293, -7.260200023651123, -7.275599956512451, -7.327300071716309, -7.34250020980835, -7.438399791717529, -7.480299949645996, -7.530099868774414, -7.536300182342529, -7.558899879455566, -7.564899921417236, -7.572000026702881, -7.623199939727783, -7.625, -7.630499839782715, -7.6321001052856445, -7.669099807739258, -7.68209981918335, -6.4745001792907715, -7.7083001136779785, -7.73360013961792, -5.548900127410889, -6.947299957275391, -5.7555999755859375, -5.054699897766113, -4.602099895477295, -5.45989990234375, -6.815100193023682, -5.990099906921387, -5.628900051116943, -6.1722002029418945, -6.128499984741211, -6.170400142669678, -5.5046000480651855, -5.469799995422363, -6.072800159454346, -4.468800067901611, -5.6367998123168945, -6.075799942016602, -6.3358001708984375, -4.694300174713135, -5.692200183868408, -5.741600036621094, -4.990099906921387, -5.163099765777588, -5.52269983291626, -4.757999897003174, -5.28410005569458, -5.6757001876831055, -5.6641998291015625, -5.576000213623047, -5.152900218963623, -4.915500164031982, -4.6031999588012695, -5.572299957275391, -5.422500133514404, -5.059299945831299, -5.409800052642822, -5.361400127410889, -5.575399875640869, -5.645100116729736, -5.5690999031066895, -5.552199840545654, -5.6209001541137695, -4.41480016708374, -4.967700004577637, -5.105299949645996, -5.189499855041504, -5.294600009918213, -5.296999931335449, -5.752900123596191, -5.9394001960754395, -5.9822001457214355, -5.996200084686279, -6.03249979019165, -6.188199996948242, -6.2982001304626465, -6.33519983291626, -6.335899829864502, -6.376100063323975, -4.8765997886657715, -6.544899940490723, -6.602799892425537, -6.68720006942749, -6.691199779510498, -6.726900100708008, -6.735099792480469, -6.782199859619141, -6.826200008392334, -6.855199813842773, -6.908299922943115, -6.915900230407715, -6.929999828338623, -6.9475998878479, -5.232699871063232, -6.023799896240234, -5.906899929046631, -5.964700222015381, -5.408699989318848, -5.76669979095459, -5.262899875640869, -5.433599948883057, -4.94290018081665, -5.833799839019775, -5.956500053405762, -5.50600004196167, -5.841300010681152, -5.148399829864502, -4.880899906158447, -5.456099987030029, -5.535600185394287, -5.780799865722656, -5.063399791717529, -5.39109992980957, -5.339700222015381, -5.646900177001953, -5.687300205230713, -5.583399772644043, -5.707799911499023, -5.603600025177002, -5.773200035095215, -5.796800136566162, -5.649899959564209, -5.990699768066406, -5.99459981918335, -6.115300178527832, -6.306099891662598, -6.3165998458862305, -6.333600044250488, -6.757299900054932, -6.758500099182129, -6.828000068664551, -6.861700057983398, -6.892099857330322, -6.897500038146973, -6.9415998458862305, -6.945000171661377, -6.990900039672852, -7.005799770355225, -7.043300151824951, -7.068999767303467, -7.113100051879883, -7.130000114440918, -7.154099941253662, -7.174799919128418, -7.181300163269043, -7.189000129699707, -7.243599891662598, -7.246600151062012, -7.247799873352051, -7.249499797821045, -7.256499767303467, -6.110899925231934, -4.637400150299072, -6.698200225830078, -5.912899971008301, -5.418900012969971, -5.706299781799316, -6.094299793243408, -5.831200122833252, -6.47730016708374, -6.910299777984619, -5.102200031280518, -5.163599967956543, -5.015200138092041, -6.320799827575684, -6.214099884033203, -4.949100017547607, -5.694300174713135, -6.285799980163574, -6.1184000968933105, -4.377200126647949, -5.184700012207031, -6.438399791717529, -5.212699890136719, -6.210599899291992, -5.672100067138672, -5.685800075531006, -5.633699893951416, -5.648799896240234, -5.453100204467773, -5.72730016708374, -5.746600151062012, -5.006800174713135, -5.4328999519348145, -5.595699787139893, -5.772500038146973, -4.966899871826172, -4.9959001541137695, -5.438799858093262, -5.53000020980835, -5.229499816894531, -5.441999912261963, -5.436100006103516, -5.454500198364258, -5.444499969482422, -5.483699798583984, -5.61870002746582, -5.607699871063232, -5.636199951171875, -5.645500183105469, -6.023499965667725, -6.247700214385986, -6.265100002288818, -6.304200172424316, -6.3420000076293945, -6.342199802398682, -6.395400047302246, -6.5233001708984375, -6.533400058746338, -6.542900085449219, -6.557600021362305, -6.742800235748291, -6.812600135803223, -6.83489990234375, -6.858799934387207, -6.765500068664551, -6.894800186157227, -6.897200107574463, -6.9222002029418945, -6.955399990081787, -6.977200031280518, -6.997499942779541, -7.010700225830078, -7.014599800109863, -7.0416998863220215, -7.0680999755859375, -7.090700149536133, -7.109099864959717, -7.132699966430664, -5.57289981842041, -5.920199871063232, -5.606200218200684, -5.577400207519531, -6.102499961853027, -5.770999908447266, -5.681600093841553, -3.9700000286102295, -6.737599849700928, -4.928400039672852, -5.955100059509277, -5.826099872589111, -5.88129997253418, -5.2779998779296875, -4.7565999031066895, -5.98330020904541, -5.371300220489502, -6.016200065612793, -5.723199844360352, -4.84060001373291, -5.303100109100342, -5.2469000816345215, -5.2154998779296875, -5.376399993896484, -4.947299957275391, -5.5625, -5.691999912261963, -5.564599990844727, -5.910299777984619, -5.473999977111816, -5.561500072479248, -5.592599868774414, -5.676700115203857, -5.654300212860107, -5.702300071716309, -5.754199981689453, -5.844799995422363, -4.4653000831604, -5.163899898529053, -5.264900207519531, -5.275000095367432, -5.6666998863220215, -4.02810001373291, -6.245699882507324, -4.22160005569458, -6.302499771118164, -6.355500221252441, -6.381499767303467, -6.398399829864502, -6.405600070953369, -6.452099800109863, -6.4730000495910645, -6.517300128936768, -6.5482001304626465, -6.640399932861328, -6.832300186157227, -6.849800109863281, -6.157899856567383, -6.8881001472473145, -6.901800155639648, -6.9506001472473145, -6.964399814605713, -6.977399826049805, -6.9882001876831055, -6.9903998374938965, -7.070099830627441, -7.072700023651123, -5.6717000007629395, -6.989500045776367, -5.638400077819824, -6.033199787139893, -6.172299861907959, -5.609799861907959, -3.433500051498413, -5.368899822235107, -5.964099884033203, -6.008399963378906, -5.0706000328063965, -5.000800132751465, -4.6107001304626465, -5.094099998474121, -4.497000217437744, -4.942200183868408, -4.124800205230713, -5.036900043487549, -5.031000137329102, -4.953999996185303, -5.75570011138916, -4.604499816894531, -5.2621002197265625, -4.965799808502197, -5.365799903869629, -5.248300075531006, -4.989299774169922, -5.429299831390381, -5.0121002197265625, -5.085700035095215, -5.3140997886657715, -5.176799774169922, -5.1894001960754395, -5.373000144958496, -4.015600204467773, -4.263599872589111, -4.89709997177124, -4.959199905395508, -5.551300048828125, -5.55649995803833, -5.709700107574463, -5.908199787139893, -6.232999801635742, -6.257800102233887, -6.2967000007629395, -6.325099945068359, -6.327400207519531, -6.4253997802734375, -6.443699836730957, -6.469099998474121, -6.595600128173828, -6.63539981842041, -6.67579984664917, -6.678599834442139, -6.695000171661377, -6.743599891662598, -6.955900192260742, -7.028299808502197, -7.033899784088135, -7.057400226593018, -7.064499855041504, -7.0802998542785645, -7.1178998947143555, -7.140600204467773, -5.977499961853027, -5.234000205993652, -3.773699998855591, -5.1545000076293945, -4.717299938201904, -6.066299915313721, -6.112199783325195, -5.016499996185303, -5.213200092315674, -5.170499801635742, -4.975900173187256, -4.38129997253418, -5.2403998374938965, -4.994500160217285, -4.634799957275391, -5.008299827575684, -4.798999786376953, -4.944200038909912, -4.050600051879883, -5.092199802398682, -4.142899990081787, -4.638400077819824, -5.542900085449219, -5.3709001541137695, -4.413599967956543, -4.4197998046875, -4.651500225067139, -4.5457000732421875, -4.467800140380859, -5.032299995422363, -4.982600212097168, -4.769000053405762, -5.04610013961792, -5.070000171661377, -5.09630012512207, -4.433800220489502, -5.24370002746582, -5.313799858093262, -5.509699821472168, -5.797699928283691, -5.326499938964844, -6.080699920654297, -6.226500034332275, -6.349699974060059, -6.351500034332275, -6.40310001373291, -6.437399864196777, -6.491099834442139, -6.5295000076293945, -6.547500133514404, -6.549499988555908, -6.5630998611450195, -4.770999908447266, -6.71589994430542, -6.729499816894531, -6.805099964141846, -6.856800079345703, -6.531400203704834, -6.874800205230713, -6.886600017547607, -6.8927998542785645, -6.985099792480469, -6.992800235748291, -7.021699905395508, -7.025400161743164, -5.561800003051758, -5.422900199890137, -6.65339994430542, -6.9222002029418945, -5.726200103759766, -5.315800189971924, -6.47760009765625, -5.540800094604492, -6.155900001525879, -5.229599952697754, -6.125100135803223, -6.097400188446045, -5.872399806976318, -6.093699932098389, -5.299099922180176, -5.2322001457214355, -5.639200210571289, -5.044400215148926, -6.070799827575684, -5.231500148773193, -4.982999801635742, -5.92519998550415, -5.466100215911865, -5.4953999519348145, -5.264699935913086, -5.093999862670898, -5.326099872589111, -5.610499858856201, -5.723299980163574, -5.93120002746582, -5.237100124359131, -5.853799819946289, -5.657599925994873, -5.813799858093262, -5.636000156402588, -5.706500053405762, -5.73360013961792, -5.833000183105469, -6.036900043487549, -6.138899803161621, -5.809899806976318, -6.156499862670898, -6.302499771118164, -6.39769983291626, -6.438000202178955, -6.4770002365112305, -6.68720006942749, -6.654799938201904, -6.718699932098389, -6.756700038909912, -6.759300231933594, -6.781799793243408, -6.796999931335449, -6.842700004577637, -6.91480016708374, -6.917699813842773, -6.964900016784668, -6.990699768066406, -7.015999794006348, -7.018499851226807, -7.018700122833252, -7.075799942016602, -7.124100208282471, -7.126800060272217, -7.146500110626221, -7.14709997177124, -7.166999816894531, -5.719399929046631, -5.047500133514404, -5.619900226593018, -6.019899845123291, -5.2866997718811035, -5.456600189208984, -6.315299987792969, -5.759500026702881, -6.815299987792969, -6.541399955749512, -5.329599857330322, -6.09499979019165, -6.688000202178955, -5.7631001472473145, -5.940100193023682, -5.410600185394287, -6.507500171661377, -5.544300079345703, -5.958899974822998, -4.947400093078613, -5.418000221252441, -6.087299823760986, -5.424600124359131, -5.798600196838379, -5.904399871826172, -5.14139986038208, -5.820300102233887, -5.831299781799316, -5.54640007019043, -5.277200222015381, -5.361999988555908, -5.310100078582764, -5.595399856567383, -5.698699951171875, -5.750800132751465, -5.733699798583984, -5.8703999519348145, -5.80019998550415, -5.729400157928467, -5.808899879455566, -5.81850004196167, -5.377299785614014, -5.807199954986572, -5.870200157165527, -5.955599784851074, -6.084799766540527, -6.1321001052856445, -6.3358001708984375, -6.343200206756592, -6.516499996185303, -6.533699989318848, -6.55019998550415, -6.572700023651123, -6.587600231170654, -6.672399997711182, -6.675899982452393, -6.722099781036377, -6.726799964904785, -6.755099773406982, -6.794899940490723, -6.803299903869629, -6.882199764251709, -6.907899856567383, -7.069200038909912, -7.108500003814697, -7.11899995803833, -7.120299816131592, -7.132299900054932, -7.13539981842041, -7.138000011444092, -7.139900207519531, -6.485099792480469, -5.655099868774414, -5.775100231170654, -6.321300029754639, -5.0630998611450195, -4.210999965667725, -5.529600143432617, -6.014200210571289, -5.982800006866455, -5.180500030517578, -4.704699993133545, -5.146399974822998, -5.018700122833252, -5.6528000831604, -6.064799785614014, -5.512899875640869, -5.855100154876709, -5.405900001525879, -6.1269001960754395, -5.532599925994873, -5.762899875640869, -4.570700168609619, -5.487100124359131, -5.030099868774414, -4.565800189971924, -5.446100234985352, -5.542500019073486, -5.285900115966797, -5.654900074005127, -5.379499912261963, -5.550000190734863, -5.4842000007629395, -5.181700229644775, -5.514400005340576, -5.53439998626709, -5.6230998039245605, -5.604499816894531, -5.717800140380859, -5.551199913024902, -5.648799896240234, -6.073400020599365, -6.182799816131592, -6.287799835205078, -6.53000020980835, -6.553800106048584, -6.830100059509277, -6.853600025177002, -6.892000198364258, -6.903500080108643, -6.904099941253662, -6.944399833679199, -6.952199935913086, -7.011300086975098, -7.045599937438965, -7.096799850463867, -7.107699871063232, -7.112100124359131, -7.121500015258789, -7.170199871063232, -7.219299793243408, -7.221499919891357, -7.270699977874756, -7.285900115966797, -7.334000110626221, -7.38670015335083, -7.392499923706055, -7.400599956512451, -7.417500019073486, -7.4197001457214355, -7.422100067138672, -6.26669979095459, -6.4807000160217285, -7.026899814605713, -6.793000221252441, -6.065000057220459, -5.17579984664917, -6.365200042724609, -5.506700038909912, -4.828499794006348, -4.605599880218506, -5.348400115966797, -6.293499946594238, -4.766900062561035, -6.247200012207031, -5.323299884796143, -5.696400165557861, -5.754799842834473, -5.7870001792907715, -5.166900157928467, -5.720200061798096, -5.579400062561035, -5.598700046539307, -5.8206000328063965, -5.525000095367432, -5.892399787902832, -5.658699989318848, -4.79449987411499, -5.453199863433838, -5.189899921417236, -5.9319000244140625, -5.893700122833252, -5.778200149536133, -5.833000183105469, -5.757900238037109, -5.286600112915039, -5.599999904632568, -5.557700157165527, -5.673299789428711, -5.822299957275391, -5.788899898529053, -5.826499938964844, -5.787099838256836, -5.79610013961792, -4.41540002822876, -4.430300235748291, -4.4492998123168945, -4.751699924468994, -5.056600093841553, -5.572800159454346, -5.619100093841553, -5.669300079345703, -5.6732001304626465, -4.271399974822998, -5.735000133514404, -5.9054999351501465, -5.935800075531006, -5.995200157165527, -5.435699939727783, -6.045899868011475, -6.0655999183654785, -6.129000186920166, -6.153500080108643, -6.23799991607666, -3.6219000816345215, -6.274199962615967, -3.994800090789795, -6.337900161743164, -6.338200092315674, -6.3597002029418945, -6.370299816131592, -6.460999965667725, -6.5524001121521, -6.587399959564209, -5.648600101470947, -3.7460999488830566, -5.975500106811523, -4.818399906158447, -6.001299858093262, -6.06279993057251, -5.802499771118164, -5.883399963378906, -5.68149995803833, -5.119900226593018, -5.339700222015381, -5.304500102996826, -4.017000198364258, -4.685699939727783, -5.685999870300293, -5.524700164794922, -5.488100051879883, -5.582699775695801, -5.190800189971924, -4.66949987411499, -5.28849983215332, -5.497499942779541, -5.315400123596191, -5.164999961853027, -5.327300071716309, -5.541500091552734, -5.506700038909912, -4.214200019836426, -4.341599941253662, -4.804900169372559, -4.850500106811523, -5.0167999267578125, -5.303800106048584, -5.374300003051758, -5.412700176239014, -5.531099796295166, -5.796500205993652, -5.854800224304199, -5.88700008392334, -5.905200004577637, -5.916100025177002, -5.958199977874756, -6.195099830627441, -6.261499881744385, -6.32450008392334, -6.399799823760986, -6.470799922943115, -6.573999881744385, -6.5843000411987305, -6.639500141143799, -6.658100128173828, -6.69350004196167, -6.731400012969971, -5.63100004196167, -6.777400016784668, -6.80079984664917, -6.830399990081787, -5.146999835968018, -3.6512999534606934, -6.397200107574463, -5.232500076293945, -4.17549991607666, -4.4832000732421875, -5.321400165557861, -4.9532999992370605, -5.78000020980835, -5.5640997886657715, -4.969399929046631, -5.7322001457214355, -5.9028000831604, -5.70419979095459, -4.799499988555908, -5.617000102996826, -4.825300216674805, -4.921999931335449, -5.223499774932861, -5.058000087738037, -4.783199787139893, -4.82289981842041, -5.027200222015381, -5.283699989318848, -4.970799922943115, -5.063600063323975, -5.106200218200684, -5.360300064086914, -5.514100074768066, -3.8315000534057617, -3.581700086593628, -4.11959981918335, -4.831099987030029, -4.919400215148926, -5.039100170135498, -5.1041998863220215, -5.111199855804443, -5.495699882507324, -5.5233001708984375, -5.636899948120117, -5.71019983291626, -4.0208001136779785, -5.841300010681152, -5.8541998863220215, -5.877699851989746, -6.054599761962891, -6.1350998878479, -6.404099941253662, -6.398600101470947, -6.480299949645996, -6.492499828338623, -6.554900169372559, -6.592299938201904, -6.632800102233887, -6.720799922943115, -6.78249979019165, -6.8018999099731445, -6.826900005340576, -6.827899932861328, -4.55810022354126, -4.744900226593018, -4.398099899291992, -5.418099880218506, -4.325799942016602, -5.095600128173828, -4.921599864959717, -5.260300159454346, -5.014800071716309, -5.358500003814697, -5.286600112915039, -5.1707000732421875, -4.803100109100342, -5.39739990234375, -4.545899868011475, -4.820700168609619, -5.275700092315674, -4.6697001457214355, -4.864699840545654, -5.210100173950195, -5.083799839019775, -5.094200134277344, -5.32390022277832, -5.350299835205078, -3.933799982070923, -4.395999908447266, -4.654300212860107, -4.692699909210205, -4.80210018157959, -5.394499778747559, -5.460000038146973, -5.5096001625061035, -5.540299892425537, -5.552199840545654, -5.575399875640869, -5.587100028991699, -5.634300231933594, -5.732800006866455, -5.73360013961792, -5.954500198364258, -5.9745001792907715, -6.071400165557861, -6.122099876403809, -6.135799884796143, -6.181600093841553, -6.292099952697754, -6.304999828338623, -6.3171000480651855, -6.319300174713135, -6.339200019836426, -6.37470006942749, -6.390500068664551, -6.416399955749512, -6.487599849700928, -3.6682000160217285, -3.9260001182556152, -5.0725998878479, -5.5706000328063965, -4.65369987487793, -5.094600200653076, -5.679699897766113, -5.215700149536133, -4.920400142669678, -5.395199775695801, -4.711999893188477, -5.835299968719482, -5.11460018157959, -5.4944000244140625, -5.158999919891357, -5.6844000816345215, -5.442800045013428, -5.464600086212158, -5.5680999755859375, -5.17519998550415, -5.508600234985352, -5.537899971008301, -5.318299770355225, -5.3881001472473145, -5.82450008392334, -5.880099773406982, -6.128399848937988, -6.13539981842041, -6.17080020904541, -6.178999900817871, -6.211400032043457, -6.257400035858154, -6.259200096130371, -6.282100200653076, -6.293000221252441, -6.331900119781494, -6.337399959564209, -4.9517998695373535, -6.36929988861084, -6.397900104522705, -6.397900104522705, -6.436699867248535, -6.463699817657471, -6.468699932098389, -6.502200126647949, -6.535399913787842, -6.545899868011475, -6.5503997802734375, -6.551499843597412, -6.58620023727417, -6.6128997802734375, -6.6153998374938965, -5.73960018157959, -5.447800159454346, -5.694499969482422, -5.6971001625061035, -6.509099960327148, -5.47730016708374, -5.481200218200684, -4.7220001220703125, -4.943600177764893, -5.6132001876831055, -5.155799865722656, -5.545000076293945, -5.097300052642822, -5.914000034332275, -5.7118000984191895, -5.260700225830078, -4.823800086975098, -4.592599868774414, -5.492700099945068, -5.4807000160217285, -5.526299953460693, -5.573500156402588, -5.659200191497803, -5.705999851226807, -5.590400218963623, -5.821499824523926, -5.6545000076293945, -4.754000186920166, -5.056300163269043, -5.197500228881836, -5.2118000984191895, -5.334000110626221, -5.485799789428711, -5.526599884033203, -5.6417999267578125, -5.651599884033203, -5.7133002281188965, -5.723499774932861, -5.837200164794922, -5.904600143432617, -5.9319000244140625, -5.9542999267578125, -5.965799808502197, -5.994200229644775, -5.995800018310547, -5.998899936676025, -6.012800216674805, -6.0183000564575195, -6.019599914550781, -6.0269999504089355, -6.09060001373291, -6.096399784088135, -6.099699974060059, -6.117000102996826, -6.1234002113342285, -6.146399974822998, -5.435200214385986, -5.260000228881836, -4.879199981689453, -3.803499937057495, -5.395899772644043, -5.290299892425537, -5.673399925231934, -5.441500186920166, -5.359899997711182, -5.503300189971924, -5.544899940490723, -4.177800178527832, -5.037700176239014, -4.790599822998047, -5.189899921417236, -5.410200119018555, -4.365799903869629, -5.106200218200684, -5.212100028991699, -5.3420000076293945, -5.399700164794922, -5.405799865722656, -5.105899810791016, -4.995200157165527, -5.003799915313721, -5.442200183868408, -5.454500198364258, -5.434599876403809, -4.240300178527832, -4.564300060272217, -4.716599941253662, -4.871099948883057, -4.954699993133545, -5.026400089263916, -5.058199882507324, -5.18179988861084, -5.196499824523926, -5.358799934387207, -5.362400054931641, -5.656199932098389, -5.681300163269043, -5.751699924468994, -5.786300182342529, -5.883800029754639, -5.893199920654297, -5.907899856567383, -5.906000137329102, -5.992000102996826, -6.01230001449585, -6.019999980926514, -6.072700023651123, -6.1006999015808105, -6.139100074768066, -6.15749979019165, -6.197500228881836, -6.199999809265137, -6.252500057220459, -6.2555999755859375, -4.8277997970581055, -5.132699966430664, -5.543300151824951, -5.308199882507324, -5.27869987487793, -5.529799938201904, -5.045000076293945, -5.533699989318848, -5.370100021362305, -5.203199863433838, -4.633500099182129, -4.499300003051758, -4.770699977874756, -4.803400039672852, -5.467800140380859, -5.0142998695373535, -5.245200157165527, -5.248799800872803, -5.166200160980225, -4.928199768066406, -5.248000144958496, -5.284900188446045, -4.506400108337402, -4.930500030517578, -4.958499908447266, -5.13670015335083, -5.221099853515625, -5.3454999923706055, -5.363399982452393, -5.385499954223633, -5.454100131988525, -5.564499855041504, -5.603300094604492, -5.622300148010254, -5.644000053405762, -5.667500019073486, -5.702300071716309, -5.749800205230713, -5.757400035858154, -5.821700096130371, -5.855100154876709, -5.865099906921387, -5.936299800872803, -5.991099834442139, -6.008299827575684, -6.022500038146973, -6.053199768066406, -6.119100093841553, -6.144100189208984, -6.157800197601318, -6.173099994659424, -6.202099800109863, -4.76140022277832, -5.185400009155273, -4.925300121307373, -5.051400184631348, -3.576900005340576, -5.5569000244140625, -5.027200222015381, -5.801000118255615, -5.075500011444092, -5.527400016784668, -5.225500106811523, -5.306000232696533, -5.273399829864502, -5.453199863433838, -5.561100006103516, -5.598400115966797, -5.700699806213379], \"loglift\": [30.0, 29.0, 28.0, 27.0, 26.0, 25.0, 24.0, 23.0, 22.0, 21.0, 20.0, 19.0, 18.0, 17.0, 16.0, 15.0, 14.0, 13.0, 12.0, 11.0, 10.0, 9.0, 8.0, 7.0, 6.0, 5.0, 4.0, 3.0, 2.0, 1.0, 1.6505999565124512, 1.6411999464035034, 1.6404999494552612, 1.6404999494552612, 1.6384999752044678, 1.6370999813079834, 1.6366000175476074, 1.6358000040054321, 1.635599970817566, 1.6354000568389893, 1.6349999904632568, 1.6339999437332153, 1.6338000297546387, 1.6328999996185303, 1.6325000524520874, 1.6323000192642212, 1.6311999559402466, 1.6306999921798706, 1.6303000450134277, 1.6296000480651855, 1.6289000511169434, 1.628100037574768, 1.6277999877929688, 1.6276999711990356, 1.6274000406265259, 1.6266000270843506, 1.6265000104904175, 1.6265000104904175, 1.6263999938964844, 1.6260000467300415, 1.615399956703186, 1.6052000522613525, 1.5894999504089355, 1.5608999729156494, 1.5750000476837158, 1.6015000343322754, 1.6160999536514282, 1.4459999799728394, 1.471500039100647, 1.4523999691009521, 1.5511000156402588, 1.4549000263214111, 1.4438999891281128, 1.4155000448226929, 1.5379999876022339, 1.3945000171661377, 1.2930999994277954, 1.4759999513626099, 1.316100001335144, 1.4241000413894653, 1.4753999710083008, 1.2865999937057495, 1.1741000413894653, 1.2218999862670898, 1.3214999437332153, 1.2621999979019165, 1.3157000541687012, 1.217900037765503, 1.2874000072479248, 1.1305999755859375, 1.15339994430542, 1.247499942779541, 1.1262999773025513, 1.1311999559402466, 1.2490999698638916, 1.1886999607086182, 1.1303000450134277, 1.0982999801635742, 0.9695000052452087, 1.0405000448226929, 1.0786000490188599, 0.925599992275238, 0.5171999931335449, 0.5235000252723694, 0.9876000285148621, 0.9139999747276306, 2.1322999000549316, 2.1312999725341797, 2.1301000118255615, 2.128700017929077, 2.1273999214172363, 2.1268999576568604, 2.126699924468994, 2.1259000301361084, 2.1249001026153564, 2.124799966812134, 2.124500036239624, 2.123300075531006, 2.122999906539917, 2.1226999759674072, 2.1226999759674072, 2.122499942779541, 2.1222000122070312, 2.1222000122070312, 2.1221001148223877, 2.1219000816345215, 2.1217000484466553, 2.1214001178741455, 2.1210999488830566, 2.1208999156951904, 2.120699882507324, 2.120699882507324, 2.120300054550171, 2.1196999549865723, 2.1191000938415527, 2.118000030517578, 2.113100051879883, 2.088599920272827, 2.0945000648498535, 2.0889999866485596, 2.0696001052856445, 2.0660998821258545, 2.1070001125335693, 2.0467000007629395, 1.9129999876022339, 1.9371999502182007, 2.0007998943328857, 1.884600043296814, 1.6842000484466553, 1.8704999685287476, 2.0699000358581543, 1.9119000434875488, 1.8567999601364136, 1.993299961090088, 1.608199954032898, 1.832200050354004, 1.225600004196167, 1.785099983215332, 1.7950999736785889, 1.7204999923706055, 1.7960000038146973, 0.47380000352859497, 1.4395999908447266, 1.5987999439239502, 1.784500002861023, 1.3519999980926514, 0.7192999720573425, 0.98089998960495, 0.503600001335144, 0.8863000273704529, 0.30720001459121704, 1.2828999757766724, 1.2585999965667725, 0.24169999361038208, 0.31310001015663147, -0.007699999958276749, -0.34929999709129333, -0.08110000193119049, 0.4970000088214874, 0.5525000095367432, 2.378000020980835, 2.374500036239624, 2.374000072479248, 2.3719000816345215, 2.3708999156951904, 2.370300054550171, 2.3701000213623047, 2.3689000606536865, 2.3677000999450684, 2.36680006980896, 2.3666999340057373, 2.3664000034332275, 2.365600109100342, 2.3654000759124756, 2.3636999130249023, 2.3629000186920166, 2.361999988555908, 2.361799955368042, 2.3613998889923096, 2.361299991607666, 2.3610999584198, 2.359999895095825, 2.359999895095825, 2.3598999977111816, 2.359800100326538, 2.3589999675750732, 2.3587000370025635, 2.3582000732421875, 2.358099937438965, 2.3575000762939453, 2.3276000022888184, 2.3492000102996826, 2.2850000858306885, 2.239500045776367, 2.176100015640259, 2.230299949645996, 2.3118999004364014, 2.2448999881744385, 2.216099977493286, 2.2560999393463135, 2.2506000995635986, 2.2476000785827637, 2.172499895095825, 2.1682000160217285, 2.2216999530792236, 1.9882999658584595, 2.143699884414673, 2.187000036239624, 2.224299907684326, 1.9384000301361084, 2.098599910736084, 2.1068999767303467, 1.905500054359436, 1.9110000133514404, 1.94350004196167, 1.6279000043869019, 1.7862000465393066, 1.877500057220459, 1.8339999914169312, 1.7533999681472778, 1.4429999589920044, 1.226099967956543, 0.9758999943733215, 1.687600016593933, 1.5319000482559204, 1.0973000526428223, 1.4615000486373901, 1.0477999448776245, 1.2477999925613403, 1.2972999811172485, 0.47040000557899475, -0.131400004029274, 0.6859999895095825, 2.4797000885009766, 2.4790000915527344, 2.478800058364868, 2.478600025177002, 2.478300094604492, 2.478300094604492, 2.4769999980926514, 2.4762001037597656, 2.4760000705718994, 2.4758999347686768, 2.4756999015808105, 2.474900007247925, 2.4742000102996826, 2.4739999771118164, 2.4739999771118164, 2.4737000465393066, 2.4732000827789307, 2.472399950027466, 2.47189998626709, 2.4711999893188477, 2.471100091934204, 2.4707999229431152, 2.4707000255584717, 2.4702000617980957, 2.4697000980377197, 2.469399929046631, 2.4688000679016113, 2.4686999320983887, 2.4684998989105225, 2.4683001041412354, 2.4577999114990234, 2.4563000202178955, 2.4453001022338867, 2.4423000812530518, 2.264699935913086, 2.2360000610351562, 1.7725000381469727, 1.851199984550476, 1.565999984741211, 1.998900055885315, 2.050299882888794, 1.7275999784469604, 1.8898999691009521, 0.8910999894142151, 0.5077000260353088, 1.2301000356674194, 1.2967000007629395, 1.6581000089645386, -0.07429999858140945, 0.5856999754905701, 0.23929999768733978, 0.9412999749183655, 0.8600999712944031, 0.10499999672174454, 0.8130999803543091, -0.04699999839067459, 1.030500054359436, -0.08839999884366989, 2.9602999687194824, 2.9581000804901123, 2.9581000804901123, 2.9570999145507812, 2.955199956893921, 2.9551000595092773, 2.954900026321411, 2.949199914932251, 2.949199914932251, 2.947999954223633, 2.9474000930786133, 2.9467999935150146, 2.946700096130371, 2.9458999633789062, 2.9458000659942627, 2.9449000358581543, 2.9446001052856445, 2.9437999725341797, 2.94320011138916, 2.942199945449829, 2.941800117492676, 2.941200017929077, 2.940700054168701, 2.940500020980835, 2.9402999877929688, 2.9388999938964844, 2.938800096511841, 2.938800096511841, 2.938800096511841, 2.9386000633239746, 2.9056999683380127, 2.727299928665161, 2.8933000564575195, 2.8008999824523926, 2.7204999923706055, 2.7046000957489014, 2.7637999057769775, 2.7146999835968018, 2.805999994277954, 2.894200086593628, 2.4655001163482666, 2.4133999347686768, 2.34689998626709, 2.7274999618530273, 2.6793999671936035, 2.2339999675750732, 2.4897000789642334, 2.7021000385284424, 2.62719988822937, 1.8502000570297241, 2.162100076675415, 2.751300096511841, 2.116499900817871, 2.6335999965667725, 2.340399980545044, 2.2709999084472656, 2.2363998889923096, 2.160799980163574, 1.9629000425338745, 2.2044999599456787, 2.214099884033203, 1.4150999784469604, 1.7493000030517578, 1.9325000047683716, 2.133500099182129, 0.5898000001907349, 0.3926999866962433, 1.3202999830245972, 1.4890999794006348, 0.4788999855518341, 0.7555000185966492, 0.5958999991416931, 0.5224000215530396, 0.43309998512268066, -0.06279999762773514, 0.8578000068664551, 0.27810001373291016, 0.7002999782562256, 2.9867000579833984, 2.9839000701904297, 2.9820001125335693, 2.9818999767303467, 2.9814000129699707, 2.9809999465942383, 2.9809999465942383, 2.9804000854492188, 2.978800058364868, 2.9786999225616455, 2.978600025177002, 2.978300094604492, 2.9755001068115234, 2.974299907684326, 2.973900079727173, 2.9735000133514404, 2.972899913787842, 2.9728000164031982, 2.9728000164031982, 2.9723000526428223, 2.97160005569458, 2.9711999893188477, 2.9707000255584717, 2.9704999923706055, 2.970400094985962, 2.9697999954223633, 2.9691998958587646, 2.9686999320983887, 2.967900037765503, 2.9677000045776367, 2.9186999797821045, 2.928999900817871, 2.91129994392395, 2.876699924468994, 2.9068000316619873, 2.8236000537872314, 2.8125998973846436, 2.5894999504089355, 2.9358999729156494, 2.6458001136779785, 2.767199993133545, 2.6756999492645264, 2.6884000301361084, 2.480299949645996, 2.1858999729156494, 2.6401000022888184, 2.350600004196167, 2.6252999305725098, 2.4828999042510986, 1.9824999570846558, 2.2011001110076904, 2.147200107574463, 2.085700035095215, 1.9057999849319458, 1.438599944114685, 1.6851999759674072, 1.8062000274658203, 1.5056999921798706, 2.2183001041412354, 0.9351000189781189, 1.0343999862670898, 1.0400999784469604, 1.0382000207901, 0.8027999997138977, 0.329800009727478, -0.17509999871253967, 1.2007999420166016, 3.023400068283081, 3.021899938583374, 3.0215001106262207, 3.0215001106262207, 3.0195000171661377, 3.0174999237060547, 3.014899969100952, 3.0148000717163086, 3.0143001079559326, 3.013700008392334, 3.0132999420166016, 3.0130999088287354, 3.013000011444092, 3.012500047683716, 3.012200117111206, 3.0116000175476074, 3.0111000537872314, 3.0097999572753906, 3.006500005722046, 3.0060999393463135, 3.0055999755859375, 3.0053999423980713, 3.0051000118255615, 3.0041000843048096, 3.0037999153137207, 3.003499984741211, 3.0032999515533447, 3.003200054168701, 3.0013999938964844, 3.001300096511841, 2.991499900817871, 3.0011000633239746, 2.9863998889923096, 2.98799991607666, 2.9791998863220215, 2.9430999755859375, 2.8173000812530518, 2.868499994277954, 2.913599967956543, 2.9031999111175537, 2.7569000720977783, 2.724400043487549, 2.631200075149536, 2.6947999000549316, 2.45740008354187, 2.5541000366210938, 2.268199920654297, 2.5536000728607178, 2.5255000591278076, 2.4649999141693115, 2.7632999420166016, 2.225399971008301, 2.520400047302246, 2.3592000007629395, 2.411400079727173, 2.2850000858306885, 2.026599884033203, 2.288599967956543, 1.6675000190734863, 1.510200023651123, 1.9505000114440918, 1.343999981880188, 1.3131999969482422, 1.3418999910354614, 3.0915000438690186, 3.091200113296509, 3.0897998809814453, 3.089600086212158, 3.087100028991699, 3.0864999294281006, 3.0861001014709473, 3.0845999717712402, 3.0815000534057617, 3.0813000202178955, 3.0808000564575195, 3.0804998874664307, 3.080399990081787, 3.079200029373169, 3.078900098800659, 3.0785999298095703, 3.07669997215271, 3.0759999752044678, 3.0754001140594482, 3.0752999782562256, 3.075000047683716, 3.0741000175476074, 3.0697999000549316, 3.0680999755859375, 3.068000078201294, 3.0673999786376953, 3.067199945449829, 3.066800117492676, 3.0657999515533447, 3.065200090408325, 3.063499927520752, 3.0429000854492188, 3.0078999996185303, 3.0336999893188477, 2.9930999279022217, 3.0360000133514404, 3.0274999141693115, 2.9542999267578125, 2.9416000843048096, 2.9330999851226807, 2.913800001144409, 2.8473000526428223, 2.905100107192993, 2.8694000244140625, 2.802000045776367, 2.85260009765625, 2.804800033569336, 2.7945001125335693, 2.5483999252319336, 2.747299909591675, 2.458699941635132, 2.39739990234375, 2.782599925994873, 2.7053000926971436, 1.9390000104904175, 1.919100046157837, 1.757599949836731, 1.595900058746338, 1.0887999534606934, 1.6044000387191772, 1.3174999952316284, 0.22010000050067902, 1.3841999769210815, 1.236899971961975, 0.3244999945163727, 3.117500066757202, 3.1150999069213867, 3.114799976348877, 3.113800048828125, 3.111999988555908, 3.1117000579833984, 3.109499931335449, 3.1080000400543213, 3.1064999103546143, 3.1064999103546143, 3.105799913406372, 3.1054000854492188, 3.104599952697754, 3.1040000915527344, 3.1036999225616455, 3.1036999225616455, 3.1034998893737793, 3.102299928665161, 3.1008999347686768, 3.100600004196167, 3.0992000102996826, 3.098099946975708, 3.0980000495910645, 3.0977001190185547, 3.0975000858306885, 3.097399950027466, 3.0952999591827393, 3.095099925994873, 3.094399929046631, 3.0943000316619873, 3.0866000652313232, 3.0773000717163086, 3.083199977874756, 3.0922999382019043, 3.0285000801086426, 2.9365999698638916, 3.0039000511169434, 2.7781999111175537, 2.922600030899048, 2.6338999271392822, 2.896899938583374, 2.8733999729156494, 2.7757999897003174, 2.8615000247955322, 2.5309998989105225, 2.4844000339508057, 2.6328001022338867, 2.255199909210205, 2.830699920654297, 2.2939999103546143, 2.118499994277954, 2.703200101852417, 2.2727999687194824, 2.287100076675415, 2.028700113296509, 1.843000054359436, 2.072999954223633, 2.365299940109253, 2.464200019836426, 2.640399932861328, 1.2654999494552612, 2.4312000274658203, 1.7364000082015991, 2.287100076675415, 1.2117999792099, 0.9749000072479248, 1.1605000495910645, 3.2455999851226807, 3.2435998916625977, 3.242500066757202, 3.242300033569336, 3.242300033569336, 3.2404000759124756, 3.239000082015991, 3.238300085067749, 3.2376999855041504, 3.233799934387207, 3.2337000370025635, 3.2332000732421875, 3.2323999404907227, 3.232300043106079, 3.231800079345703, 3.2314999103546143, 3.2304000854492188, 3.228600025177002, 3.228600025177002, 3.227299928665161, 3.226599931716919, 3.2258999347686768, 3.225800037384033, 3.225800037384033, 3.2242000102996826, 3.2227001190185547, 3.222599983215332, 3.2219998836517334, 3.2219998836517334, 3.221299886703491, 3.1949000358581543, 3.1426000595092773, 3.1507999897003174, 3.1561999320983887, 3.076200008392334, 3.039599895477295, 3.1317999362945557, 3.051500082015991, 3.1935999393463135, 3.1445999145507812, 2.8032000064849854, 2.9814000129699707, 3.15120005607605, 2.786099910736084, 2.825700044631958, 2.5071001052856445, 3.0624001026153564, 2.496000051498413, 2.713099956512451, 2.0394999980926514, 2.269200086593628, 2.731100082397461, 2.1482999324798584, 2.4547998905181885, 2.510999917984009, 1.6145000457763672, 2.411799907684326, 2.4017999172210693, 1.955199956893921, 0.7874000072479248, 0.9904999732971191, 0.8464999794960022, 1.486199975013733, 1.660599946975708, 1.3660000562667847, 0.9634000062942505, 2.00219988822937, 1.4062999486923218, -0.15029999613761902, 0.621399998664856, 0.3230000138282776, 3.3185999393463135, 3.3153998851776123, 3.3148000240325928, 3.3138999938964844, 3.3118999004364014, 3.3118999004364014, 3.309000015258789, 3.3089001178741455, 3.3059000968933105, 3.3055999279022217, 3.305299997329712, 3.304800033569336, 3.3046000003814697, 3.302799940109253, 3.3027000427246094, 3.3017001152038574, 3.3015999794006348, 3.3010001182556152, 3.299999952316284, 3.299799919128418, 3.297800064086914, 3.297100067138672, 3.2923998832702637, 3.291100025177002, 3.2906999588012695, 3.2906999588012695, 3.290299892425537, 3.29010009765625, 3.29010009765625, 3.29010009765625, 3.283900022506714, 3.271699905395508, 3.2290000915527344, 3.2430999279022217, 3.1501998901367188, 3.074399948120117, 3.17330002784729, 3.2070999145507812, 3.1933000087738037, 3.044100046157837, 2.883500099182129, 2.9577999114990234, 2.910099983215332, 3.040800094604492, 3.1357998847961426, 2.9811999797821045, 3.0624001026153564, 2.8691000938415527, 3.1152000427246094, 2.8315999507904053, 2.842900037765503, 1.9888999462127686, 2.594599962234497, 2.2632999420166016, 1.8272000551223755, 2.474100112915039, 2.5583999156951904, 2.305500030517578, 2.490299940109253, 1.9218000173568726, 2.234499931335449, 2.0899999141693115, 1.2259000539779663, 1.951799988746643, 1.843400001525879, 2.115799903869629, 1.794600009918213, 2.526900053024292, 0.027899999171495438, 1.3381999731063843, 3.312999963760376, 3.3115999698638916, 3.3101000785827637, 3.3060998916625977, 3.3055999279022217, 3.299499988555908, 3.2988998889923096, 3.2978999614715576, 3.297600030899048, 3.297600030899048, 3.2964999675750732, 3.2962000370025635, 3.2945001125335693, 3.2934999465942383, 3.291800022125244, 3.2915000915527344, 3.291300058364868, 3.2909998893737793, 3.289400100708008, 3.287600040435791, 3.2874999046325684, 3.2857000827789307, 3.285099983215332, 3.2832000255584717, 3.280900001525879, 3.2806999683380127, 3.2802999019622803, 3.279599905014038, 3.2795000076293945, 3.279400110244751, 3.2751998901367188, 3.275399923324585, 3.2757999897003174, 3.271399974822998, 3.221400022506714, 3.1422998905181885, 3.1728999614715576, 3.0583999156951904, 2.9302000999450684, 2.848299980163574, 2.9242000579833984, 3.109999895095825, 2.7923998832702637, 3.067699909210205, 2.7985999584198, 2.8854000568389893, 2.8773000240325928, 2.8766000270843506, 2.6075000762939453, 2.8046998977661133, 2.7339000701904297, 2.737600088119507, 2.808799982070923, 2.6658999919891357, 2.785399913787842, 2.559999942779541, 1.9365999698638916, 2.2500998973846436, 1.832800030708313, 2.652100086212158, 2.580399990081787, 2.3341000080108643, 2.3629000186920166, 2.2121999263763428, 1.2343000173568726, 1.7725000381469727, 1.2747000455856323, 1.4735000133514404, 1.9431999921798706, 1.0851999521255493, 1.608199954032898, 0.3695000112056732, 0.34549999237060547, 3.421999931335449, 3.421999931335449, 3.421799898147583, 3.4210000038146973, 3.4196999073028564, 3.4165000915527344, 3.416100025177002, 3.415600061416626, 3.4154999256134033, 3.415299892425537, 3.4149999618530273, 3.413300037384033, 3.412899971008301, 3.4121999740600586, 3.411900043487549, 3.411600112915039, 3.41129994392395, 3.4105000495910645, 3.410099983215332, 3.408900022506714, 3.4084999561309814, 3.4082999229431152, 3.4072999954223633, 3.4072000980377197, 3.4072000980377197, 3.406899929046631, 3.4066998958587646, 3.4049999713897705, 3.40310001373291, 3.402400016784668, 3.401599884033203, 3.370500087738037, 3.385499954223633, 3.333199977874756, 3.379499912261963, 3.384399890899658, 3.341200113296509, 3.346400022506714, 3.290299892425537, 3.0878000259399414, 3.1501998901367188, 3.03439998626709, 2.390700101852417, 2.6744000911712646, 3.184299945831299, 3.0755999088287354, 2.9844000339508057, 3.0248000621795654, 2.5845000743865967, 1.8480000495910645, 2.615000009536743, 2.890199899673462, 2.567199945449829, 0.8671000003814697, 1.5149999856948853, 2.452399969100952, 1.840000033378601, 3.4670000076293945, 3.4667000770568848, 3.4651999473571777, 3.4649999141693115, 3.4642999172210693, 3.4626998901367188, 3.4621999263763428, 3.461899995803833, 3.4602999687194824, 3.4586000442504883, 3.457900047302246, 3.4576001167297363, 3.4572999477386475, 3.457200050354004, 3.456700086593628, 3.453399896621704, 3.4523000717163086, 3.4512999057769775, 3.449899911880493, 3.448499917984009, 3.446199893951416, 3.446000099182129, 3.444700002670288, 3.4442999362945557, 3.4433999061584473, 3.4423999786376953, 3.442199945449829, 3.4410998821258545, 3.440500020980835, 3.4395999908447266, 3.4298999309539795, 3.406899929046631, 3.4349000453948975, 3.3197999000549316, 3.145400047302246, 3.1770999431610107, 3.263000011444092, 3.158900022506714, 3.2904000282287598, 3.2330000400543213, 3.0497000217437744, 3.2558000087738037, 3.299499988555908, 3.177999973297119, 2.6194000244140625, 3.0905001163482666, 2.2170000076293945, 2.2811999320983887, 2.544100046157837, 2.314500093460083, 1.6097999811172485, 1.6073999404907227, 1.868499994277954, 2.2695999145507812, 1.486299991607666, 1.538100004196167, 1.246399998664856, 1.8034000396728516, 1.357200026512146, 3.6617000102996826, 3.661400079727173, 3.661099910736084, 3.6586999893188477, 3.658099889755249, 3.6575000286102295, 3.657099962234497, 3.657099962234497, 3.654099941253662, 3.6538000106811523, 3.652600049972534, 3.6517999172210693, 3.651599884033203, 3.6501998901367188, 3.6500000953674316, 3.6496999263763428, 3.6470000743865967, 3.6456000804901123, 3.640199899673462, 3.6389000415802, 3.6382999420166016, 3.638000011444092, 3.636399984359741, 3.6354000568389893, 3.6342999935150146, 3.6315999031066895, 3.6296000480651855, 3.6289000511169434, 3.6280999183654785, 3.6280999183654785, 3.5596001148223877, 3.564300060272217, 3.5534000396728516, 3.563999891281128, 3.2207999229431152, 3.2860000133514404, 3.2370998859405518, 3.3043999671936035, 3.185699939727783, 3.2504000663757324, 3.0796000957489014, 2.949700117111206, 2.7388999462127686, 3.0467000007629395, 2.0868000984191895, 2.116300106048584, 2.707900047302246, 1.4718999862670898, 1.6377999782562256, 2.132699966430664, 1.5120999813079834, 1.062399983406067, 2.1563000679016113, 2.497999906539917, 3.6726999282836914, 3.6714999675750732, 3.670599937438965, 3.6703999042510986, 3.6698999404907227, 3.6659998893737793, 3.6654999256134033, 3.6649999618530273, 3.6647000312805176, 3.664599895477295, 3.664299964904785, 3.6642000675201416, 3.6637001037597656, 3.662600040435791, 3.662600040435791, 3.659600019454956, 3.6593000888824463, 3.6577000617980957, 3.6568000316619873, 3.656599998474121, 3.6556999683380127, 3.653599977493286, 3.6533000469207764, 3.6530001163482666, 3.6530001163482666, 3.6524999141693115, 3.6517999172210693, 3.651400089263916, 3.6507999897003174, 3.6489999294281006, 3.59089994430542, 3.4616000652313232, 3.5211000442504883, 3.553100109100342, 3.3006999492645264, 3.3266000747680664, 3.4758999347686768, 3.2116000652313232, 2.9999001026153564, 3.211199998855591, 2.630199909210205, 3.4233999252319336, 2.686500072479248, 3.031399965286255, 2.4377999305725098, 3.2249999046325684, 2.67330002784729, 2.444499969482422, 2.7790000438690186, 0.2134000062942505, 1.1775000095367432, 1.0947999954223633, 3.8717000484466553, 3.871000051498413, 3.865299940109253, 3.864300012588501, 3.859499931335449, 3.859100103378296, 3.858599901199341, 3.8584001064300537, 3.857599973678589, 3.8564999103546143, 3.8564000129699707, 3.8559000492095947, 3.855600118637085, 3.854599952697754, 3.8543999195098877, 3.853600025177002, 3.853600025177002, 3.8526999950408936, 3.8526999950408936, 3.851599931716919, 3.850800037384033, 3.8506999015808105, 3.849600076675415, 3.8485000133514404, 3.8482000827789307, 3.848099946975708, 3.8480000495910645, 3.84689998626709, 3.845900058746338, 3.8457999229431152, 3.8134000301361084, 3.7860000133514404, 3.797800064086914, 3.783099889755249, 3.841099977493286, 3.586899995803833, 3.527100086212158, 3.2386999130249023, 3.2885000705718994, 3.5343000888824463, 3.28629994392395, 3.364500045776367, 3.0936999320983887, 3.5373001098632812, 3.345900058746338, 2.6791000366210938, 1.9321000576019287, 1.3047000169754028, 2.6401000022888184, 2.5608999729156494, 2.3427000045776367, 2.2883999347686768, 2.4235999584198, 2.2051000595092773, 1.7388999462127686, 2.3703999519348145, 1.104599952697754, 4.297399997711182, 4.294400215148926, 4.292600154876709, 4.292399883270264, 4.290599822998047, 4.288099765777588, 4.287399768829346, 4.285200119018555, 4.284999847412109, 4.283599853515625, 4.283400058746338, 4.280700206756592, 4.2789998054504395, 4.278200149536133, 4.277599811553955, 4.277299880981445, 4.276500225067139, 4.276400089263916, 4.276299953460693, 4.275899887084961, 4.2758002281188965, 4.275700092315674, 4.2754998207092285, 4.273499965667725, 4.2733001708984375, 4.273200035095215, 4.27269983291626, 4.272500038146973, 4.271699905395508, 4.271699905395508, 4.180200099945068, 4.116700172424316, 3.7399001121520996, 4.103700160980225, 4.025000095367432, 4.131100177764893, 4.014100074768066, 3.9667999744415283, 3.998300075531006, 4.019999980926514, 3.1821999549865723, 3.6614999771118164, 3.4402999877929688, 3.4962000846862793, 3.6415998935699463, 2.3901000022888184, 3.2815001010894775, 3.3931000232696533, 3.541599988937378, 3.5608999729156494, 3.533900022506714, 2.5404000282287598, 1.8525999784469604, 1.0283000469207764, 3.188699960708618, 3.3454999923706055, 2.9042999744415283, 4.558800220489502, 4.55620002746582, 4.554699897766113, 4.5528998374938965, 4.551799774169922, 4.55079984664917, 4.550300121307373, 4.548299789428711, 4.548099994659424, 4.545000076293945, 4.545000076293945, 4.538099765777588, 4.537399768829346, 4.535399913787842, 4.534299850463867, 4.531199932098389, 4.530900001525879, 4.530300140380859, 4.528900146484375, 4.527299880981445, 4.526599884033203, 4.526299953460693, 4.524199962615967, 4.5229997634887695, 4.521399974822998, 4.520599842071533, 4.518799781799316, 4.518700122833252, 4.516200065612793, 4.51609992980957, 4.496500015258789, 4.451000213623047, 4.452000141143799, 4.389500141143799, 4.346399784088135, 4.387899875640869, 4.249100208282471, 4.361400127410889, 4.297299861907959, 4.007699966430664, 3.591599941253662, 3.419600009918213, 3.5139999389648438, 3.500200033187866, 4.10290002822876, 3.622999906539917, 3.6946001052856445, 3.6470999717712402, 3.3589000701904297, 2.470900058746338, 2.5657999515533447, 2.153899908065796, 5.280200004577637, 5.270500183105469, 5.269899845123291, 5.264400005340576, 5.261499881744385, 5.2565999031066895, 5.255899906158447, 5.255000114440918, 5.2519001960754395, 5.246600151062012, 5.24459981918335, 5.243599891662598, 5.242499828338623, 5.241199970245361, 5.239200115203857, 5.236400127410889, 5.235899925231934, 5.231900215148926, 5.229700088500977, 5.229000091552734, 5.224100112915039, 5.220099925994873, 5.218800067901611, 5.217700004577637, 5.215199947357178, 5.209799766540527, 5.207699775695801, 5.206500053405762, 5.205100059509277, 5.202499866485596, 5.153800010681152, 5.100599765777588, 4.984899997711182, 4.999000072479248, 4.687900066375732, 5.085299968719482, 4.842800140380859, 5.008800029754639, 4.151599884033203, 4.672100067138672, 4.1975998878479, 4.117499828338623, 3.948499917984009, 3.8745999336242676, 4.028600215911865, 3.677299976348877, 4.6579999923706055]}, \"token.table\": {\"Topic\": [17, 1, 3, 6, 8, 9, 15, 12, 19, 2, 3, 8, 9, 12, 14, 17, 2, 18, 7, 1, 2, 3, 4, 6, 7, 8, 19, 2, 9, 11, 15, 7, 3, 5, 6, 8, 12, 14, 15, 20, 11, 2, 11, 15, 9, 11, 7, 15, 10, 14, 20, 1, 2, 3, 4, 5, 6, 7, 8, 9, 10, 11, 12, 13, 14, 15, 16, 3, 20, 11, 20, 9, 1, 2, 6, 9, 11, 13, 16, 3, 7, 1, 2, 3, 4, 5, 9, 11, 14, 16, 18, 17, 16, 3, 3, 6, 1, 2, 4, 6, 7, 8, 12, 14, 2, 4, 5, 9, 10, 12, 16, 1, 2, 3, 4, 5, 8, 10, 14, 15, 1, 2, 4, 5, 8, 10, 5, 3, 7, 8, 3, 7, 8, 12, 14, 1, 3, 6, 8, 14, 6, 9, 11, 12, 13, 16, 17, 18, 19, 2, 2, 19, 16, 1, 2, 4, 12, 14, 2, 4, 12, 14, 11, 16, 5, 16, 5, 16, 2, 5, 9, 16, 1, 2, 3, 5, 16, 1, 2, 3, 4, 5, 6, 7, 8, 10, 13, 14, 17, 16, 12, 19, 6, 6, 6, 12, 4, 12, 1, 10, 20, 6, 6, 6, 5, 3, 3, 10, 12, 17, 5, 10, 10, 1, 3, 6, 7, 9, 11, 14, 15, 5, 16, 5, 16, 16, 16, 1, 2, 3, 4, 5, 7, 8, 10, 13, 15, 17, 19, 20, 5, 9, 19, 9, 13, 1, 2, 3, 4, 6, 8, 9, 10, 11, 12, 13, 14, 2, 17, 17, 19, 3, 5, 4, 12, 4, 1, 2, 4, 8, 10, 12, 13, 12, 3, 6, 13, 14, 17, 20, 1, 2, 3, 4, 7, 8, 10, 12, 13, 17, 1, 2, 4, 6, 7, 8, 10, 12, 13, 4, 4, 10, 5, 17, 5, 17, 1, 2, 3, 6, 9, 13, 18, 11, 8, 6, 7, 15, 1, 5, 6, 7, 9, 10, 15, 16, 2, 4, 5, 6, 9, 10, 16, 3, 5, 6, 8, 11, 8, 1, 3, 4, 6, 8, 8, 16, 14, 2, 1, 4, 1, 5, 8, 17, 10, 10, 19, 20, 11, 18, 2, 1, 6, 7, 11, 18, 15, 1, 1, 9, 11, 4, 13, 18, 2, 7, 1, 2, 3, 7, 11, 14, 15, 1, 2, 3, 5, 6, 11, 14, 15, 16, 16, 5, 16, 4, 5, 16, 12, 16, 10, 3, 7, 9, 7, 3, 8, 8, 13, 13, 18, 5, 1, 2, 4, 5, 8, 16, 17, 20, 2, 3, 5, 6, 9, 13, 16, 19, 5, 9, 13, 17, 19, 19, 9, 10, 19, 5, 8, 20, 8, 19, 2, 3, 8, 13, 5, 10, 17, 18, 1, 2, 3, 4, 5, 7, 8, 9, 10, 12, 14, 15, 17, 18, 17, 1, 4, 1, 2, 4, 5, 7, 9, 10, 12, 14, 2, 8, 10, 12, 7, 9, 10, 14, 15, 11, 2, 5, 6, 9, 11, 13, 17, 19, 7, 12, 14, 2, 4, 7, 9, 14, 16, 2, 7, 13, 1, 3, 6, 7, 8, 9, 10, 14, 17, 18, 5, 9, 13, 18, 2, 4, 5, 9, 14, 16, 12, 20, 7, 15, 7, 8, 15, 7, 1, 20, 4, 4, 18, 4, 4, 10, 16, 4, 3, 19, 15, 9, 3, 10, 3, 17, 2, 2, 11, 2, 1, 2, 4, 12, 15, 13, 3, 14, 14, 9, 15, 7, 8, 1, 13, 20, 5, 3, 7, 9, 12, 14, 15, 17, 7, 14, 5, 7, 10, 8, 3, 10, 11, 3, 11, 15, 3, 7, 14, 16, 17, 3, 6, 8, 11, 15, 12, 2, 4, 12, 2, 3, 5, 8, 9, 10, 14, 17, 5, 1, 6, 9, 13, 16, 2, 9, 11, 8, 1, 3, 5, 6, 9, 17, 19, 7, 11, 1, 4, 12, 14, 11, 14, 1, 2, 3, 6, 7, 8, 9, 10, 11, 17, 8, 5, 13, 3, 14, 1, 2, 3, 6, 8, 10, 11, 13, 1, 2, 3, 4, 5, 7, 8, 9, 10, 11, 12, 14, 15, 16, 12, 2, 11, 15, 16, 1, 2, 6, 16, 12, 18, 1, 2, 3, 4, 5, 6, 8, 11, 15, 16, 17, 11, 2, 9, 16, 2, 2, 9, 16, 5, 3, 9, 3, 9, 15, 3, 15, 9, 15, 16, 19, 20, 1, 2, 3, 4, 5, 6, 7, 9, 10, 11, 13, 14, 17, 20, 15, 6, 7, 10, 16, 9, 19, 1, 2, 5, 9, 10, 17, 3, 6, 7, 8, 9, 11, 12, 14, 15, 3, 5, 16, 10, 1, 1, 2, 8, 10, 15, 17, 17, 2, 15, 15, 11, 14, 2, 13, 19, 1, 2, 4, 7, 9, 12, 14, 9, 12, 3, 14, 2, 15, 7, 2, 3, 5, 6, 9, 11, 11, 9, 10, 10, 13, 18, 3, 11, 13, 14, 8, 1, 2, 3, 4, 5, 7, 8, 10, 11, 12, 14, 14, 3, 7, 15, 18, 15, 9, 10, 12, 7, 8, 15, 7, 14, 11, 12, 13, 16, 17, 18, 1, 5, 10, 4, 17, 19, 1, 15, 9, 12, 5, 8, 10, 11, 2, 5, 7, 8, 10, 18, 3, 5, 8, 10, 8, 2, 5, 10, 17, 9, 15, 2, 9, 17, 1, 2, 4, 6, 11, 17, 19, 10, 7, 5, 6, 12, 17, 20, 20, 3, 6, 14, 3, 6, 7, 8, 14, 15, 15, 15, 2, 9, 15, 9, 10, 11, 17, 11, 6, 9, 1, 2, 4, 5, 7, 8, 10, 14, 15, 7, 6, 7, 19, 1, 2, 4, 7, 8, 12, 14, 16, 15, 15, 13, 4, 8, 1, 2, 3, 4, 5, 7, 8, 10, 12, 13, 15, 2, 4, 9, 12, 1, 2, 3, 4, 7, 9, 10, 11, 12, 14, 15, 1, 3, 4, 6, 12, 13, 17, 9, 5, 2, 3, 4, 7, 8, 12, 2, 4, 12, 6, 8, 3, 14, 18, 2, 12, 2, 4, 5, 16, 1, 2, 4, 5, 10, 1, 2, 4, 5, 6, 9, 10, 12, 15, 16, 4, 12, 13, 19, 16, 4, 5, 3, 6, 7, 11, 12, 14, 12, 5, 11, 13, 20, 19, 19, 3, 7, 9, 14, 16, 14, 3, 7, 14, 16, 14, 13, 18, 6, 19, 9, 1, 2, 3, 4, 5, 6, 7, 8, 9, 10, 11, 12, 13, 14, 15, 16, 17, 18, 19, 1, 2, 4, 13, 18, 20, 18, 5, 9, 11, 3, 7, 8, 9, 19, 13, 18, 19, 1, 2, 3, 9, 7, 14, 1, 2, 5, 9, 16, 20, 20, 13, 1, 2, 6, 8, 10, 11, 15, 19, 3, 6, 7, 14, 3, 18, 2, 3, 11, 8, 1, 3, 5, 10, 15, 16, 17, 5, 10, 11, 11, 2, 11, 1, 7, 13, 19, 3, 13, 18, 19, 17, 3, 8, 2, 5, 17, 3, 16, 5, 11, 20, 11, 2, 4, 6, 14, 16, 19, 2, 3, 16, 19, 1, 2, 3, 5, 7, 8, 10, 14, 9, 13, 18, 5, 5, 1, 2, 11, 13, 15, 18, 19, 19, 1, 2, 7, 13, 18, 1, 12, 1, 2, 5, 15, 1, 2, 3, 4, 6, 8, 10, 13, 17, 13, 4, 1, 2, 11, 15, 16, 2, 16, 20, 3, 7, 8, 14, 1, 16, 4, 16, 4, 5, 10, 11, 17, 1, 2, 3, 4, 5, 6, 7, 8, 9, 13, 14, 16, 1, 2, 4, 8, 3, 6, 2, 9, 10, 18, 20, 1, 5, 12, 14, 1, 2, 4, 5, 16, 1, 2, 4, 5, 8, 10, 12, 13, 18, 9, 19, 1, 3, 4, 5, 6, 8, 9, 13, 16, 17, 20, 20, 9, 4, 1, 1, 4, 5, 9, 5, 1, 2, 3, 4, 5, 7, 8, 10, 12, 14, 16, 15, 9, 1, 2, 3, 4, 5, 6, 7, 8, 9, 10, 11, 13, 15, 17, 1, 2, 4, 6, 9, 13, 16, 13, 20, 13, 4, 1, 2, 3, 5, 9, 13, 14, 19, 16, 12, 2, 17, 11, 8, 1, 5, 9, 17, 19, 1, 2, 3, 4, 6, 7, 8, 9, 10, 11, 12, 13, 14, 15, 8, 18, 2, 4, 6, 9, 10, 12, 16, 1, 10, 12, 7, 11, 14, 5, 18, 8, 10, 3, 4, 6, 7, 1, 2, 3, 4, 6, 8, 11, 13, 14, 2, 3, 9, 11, 10, 20, 1, 3, 6, 7, 8, 14, 2, 3, 6, 7, 8, 9, 11, 14, 15, 16, 17, 14, 13, 3, 7, 15, 2, 10, 19, 10, 11, 13, 3, 6, 9, 17, 20, 1, 11, 4, 2, 2, 2, 16, 18, 1, 13, 14, 18, 19, 20, 13, 18, 4, 2, 4, 16, 1, 2, 11, 1, 3, 4, 6, 9, 13, 18, 19, 7, 2, 7, 8, 1, 6, 9, 16, 6, 1, 2, 8, 16, 5, 4, 20, 3, 3, 5, 15, 1, 2, 5, 10, 16, 1, 2, 4, 5, 7, 8, 10, 12, 4, 13, 18, 17, 1, 2, 3, 4, 5, 8, 14, 15, 1, 2, 3, 4, 6, 7, 10, 12, 11, 16, 16, 17, 2, 6, 10, 16, 17, 7, 1, 2, 3, 4, 5, 6, 7, 8, 9, 11, 13, 14, 16, 17, 1, 2, 3, 4, 5, 7, 8, 12, 14, 5, 1, 6, 11, 11, 11, 6, 2, 4, 9, 12, 3, 11, 13, 2, 2, 1, 2, 4, 5, 7, 8, 10, 13, 15, 16, 17, 19, 18, 1, 2, 3, 4, 5, 7, 8, 9, 10, 12, 1, 3, 11, 14, 1, 2, 4, 5, 6, 10, 11, 2, 3, 4, 5, 6, 8, 10, 17, 1, 2, 3, 4, 5, 7, 8, 10, 12, 14, 15, 16, 17, 18, 19, 1, 2, 3, 4, 5, 6, 7, 10, 12, 13, 14, 15, 16, 17, 19, 1, 2, 3, 6, 7, 10, 14, 15, 16, 17, 19, 19, 1, 2, 3, 4, 5, 6, 7, 8, 12, 13, 14, 16, 18, 6, 1, 2, 3, 4, 5, 8, 10, 11, 12, 14, 17, 19, 7, 16, 17, 17, 1, 4, 7, 8, 10, 12, 1, 4, 1, 2, 3, 4, 5, 6, 7, 8, 13, 1, 2, 4, 10, 12, 19, 6, 11, 20, 5, 6, 1, 3, 6, 8, 3, 6, 10, 1, 2, 3, 4, 5, 7, 8, 10, 11, 12, 14, 15, 5, 1, 3, 8, 13, 14, 17, 20, 1, 2, 3, 4, 5, 6, 7, 8, 9, 10, 12, 14, 16, 5, 1, 2, 3, 4, 6, 8, 13, 17, 18, 19, 1, 2, 3, 8, 11, 15, 2, 6, 12, 14, 16, 16, 4, 6, 1, 2, 4, 5, 8, 15, 17, 2, 3, 4, 8, 12, 10, 12, 5, 9, 9, 12, 8, 2, 4, 6, 9, 11, 16, 1, 4, 7, 8, 13, 14, 19, 2, 3, 4, 6, 7, 8, 14, 15, 18, 11, 12, 13, 5, 1, 2, 3, 4, 5, 7, 8, 9, 10, 12, 15, 5, 10, 16, 17, 2, 5, 9, 11, 12, 16, 2, 9, 1, 2, 8, 9, 11, 15, 16, 2, 13, 18, 4, 6, 11, 6, 7, 8, 15, 1, 3, 4, 6, 8, 11, 12, 14, 17, 3, 8, 3, 19, 3, 7, 8, 11, 7, 11, 13, 18, 4, 6, 11, 4, 12, 6, 13, 8, 14, 10, 11, 19, 5, 7, 10, 11, 15, 20, 17, 7, 8, 1, 2, 3, 4, 5, 6, 7, 8, 10, 12, 14, 15, 17, 18, 2, 16, 1, 13, 18, 6, 4, 16, 1, 2, 3, 4, 5, 6, 7, 9, 10, 12, 15, 17, 12, 19, 1, 2, 3, 4, 5, 6, 7, 13, 14, 6, 11, 2, 3, 6, 9, 11, 13, 16, 1, 4, 9, 11, 12, 20, 2, 4, 6, 9, 12, 17, 2, 11, 17, 6, 11, 17, 2, 16, 2, 16, 5, 1, 2, 3, 4, 5, 7, 8, 10, 12, 14, 15, 17, 18, 1, 3, 5, 12, 13, 17, 1, 2, 3, 6, 9, 13, 16, 6, 9, 1, 4, 5, 13, 16, 8, 1, 2, 3, 5, 8, 10, 14, 8, 18, 8, 7, 2, 5, 6, 11, 1, 2, 3, 4, 5, 6, 7, 9, 10, 13, 14, 15, 16, 4, 6, 2, 11, 12, 17, 6, 1, 2, 3, 4, 8, 10, 17, 3, 4, 6, 14, 1, 2, 3, 5, 6, 9, 11, 13, 16, 17, 1, 2, 3, 4, 5, 6, 7, 14, 15, 16, 17, 14, 6, 11, 6, 4, 9, 18, 19, 16, 3, 7, 15, 6, 1, 3, 11, 14, 3, 3, 3, 6, 7, 9, 14, 16, 5, 10, 2, 2, 2, 20, 5, 1, 2, 3, 4, 5, 6, 7, 8, 9, 11, 12, 14, 15, 1, 2, 3, 4, 6, 7, 9, 10, 12, 14, 15, 1, 2, 3, 4, 5, 7, 9, 10, 11, 12, 15, 17, 4, 12, 3, 3, 14, 9, 9, 10, 11, 2, 4, 16, 4, 9, 19, 19, 19, 1, 2, 3, 4, 5, 6, 9, 12, 15, 16, 1, 2, 4, 6, 9, 16, 17, 18, 19, 3, 5, 6, 11, 15, 17, 15, 4, 12, 17, 2, 6, 7, 12, 17, 19, 12, 8, 13, 12, 13, 13, 13, 1, 13, 14, 18, 6, 7, 7, 7, 15, 7, 10, 11, 12, 15, 16, 20, 6, 5, 10, 1, 3, 4, 13, 18, 2, 5, 13, 18, 19, 1, 3, 13, 18, 13, 1, 2, 13, 13, 13, 1, 2, 3, 4, 6, 7, 8, 12, 14, 17, 17, 1, 2, 3, 4, 5, 7, 10, 12, 14, 15, 17, 19, 14, 1, 2, 3, 4, 6, 10, 12, 13, 15, 18, 19, 2, 5, 10, 15, 2, 11, 16, 4, 2, 9, 16, 3, 8, 16, 3, 1, 2, 3, 4, 5, 6, 8, 10, 11, 16, 17, 18, 8, 3, 1, 1, 2, 9, 11, 16, 1, 3, 4, 8, 9, 1, 2, 3, 5, 8, 11, 16, 17, 18, 3, 7, 8, 3, 7, 9, 16, 3, 15, 1, 2, 3, 4, 5, 8, 10, 13, 14, 15, 6, 1, 2, 4, 7, 8, 9, 10, 12, 14, 15, 1, 2, 3, 4, 6, 7, 8, 9, 10, 12, 14, 6, 3, 5, 6, 7, 14, 3, 6, 7, 11, 14, 2, 3, 6, 7, 8, 9, 11, 14, 15, 20, 6, 7, 11, 12, 7, 2, 3, 6, 9, 12, 14, 2, 3, 6, 9, 11, 12, 15, 19, 2, 3, 6, 9, 6, 13, 18, 19, 8, 12, 1, 2, 4, 8, 10, 12, 14, 15, 7, 6, 10, 6, 6, 19, 3, 4, 7, 9, 15, 10, 13, 7, 1, 2, 3, 7, 9, 10, 11, 1, 2, 3, 8, 9, 10, 1, 2, 3, 4, 6, 7, 8, 12, 14, 15, 1, 2, 4, 5, 8, 10, 5, 17, 1, 2, 3, 4, 5, 7, 9, 12, 14, 20, 18, 13, 16, 9, 3, 4, 2, 4, 4, 2, 4, 12, 16, 1, 6, 1, 2, 6, 7, 8, 9, 10, 11, 16, 1, 2, 7, 9, 11, 13, 16, 16, 19, 1, 3, 6, 9, 14, 3, 6, 7, 9, 11, 14, 2, 3, 4, 6, 9, 11, 12, 17, 3, 11, 14, 1, 2, 4, 5, 20, 10, 4, 4, 5, 5, 10, 1, 2, 4, 5, 7, 8, 9, 10, 12, 13, 14, 15, 17, 19, 2, 7, 6, 20, 3, 3, 9, 4, 2, 11, 19, 5, 17, 1, 4, 5, 6, 9, 15, 17, 19, 7, 10, 1, 2, 4, 6, 7, 12, 13, 1, 20, 1, 3, 5, 7, 8, 14, 17, 1, 3, 6, 7, 8, 13, 14, 17, 11, 16, 19, 5, 11, 16, 12, 9, 10, 11, 12, 1, 2, 4, 5, 9, 11, 12, 13, 16, 3, 9, 19, 18, 4, 6, 11, 4, 17, 18, 1, 2, 4, 5, 8, 9, 10, 11, 15, 12, 6, 11, 12, 6, 9, 11, 12, 13, 19, 20, 13, 18, 13, 18, 12, 18, 5, 7, 8, 14, 1, 9, 4, 8, 16, 1, 13, 19, 9, 13, 1, 2, 4, 5, 6, 7, 8, 9, 10, 11, 12, 13, 14, 15, 16, 17, 18, 9, 2, 11, 15, 1, 5, 11, 3, 6, 7, 9, 12, 13, 16, 7, 11, 2, 15, 2, 3, 9, 11, 15, 16, 15, 1, 4, 5, 14, 11, 18, 1, 2, 9, 1, 2, 3, 4, 6, 7, 8, 2, 11, 20, 11, 2, 16, 3, 8, 14, 15, 1, 3, 6, 7, 8, 9, 11, 13, 17, 3, 6, 14, 16, 13, 16, 6, 2, 4, 9, 14, 18, 7, 10, 14, 16, 3, 8, 5, 7, 1, 2, 5, 13, 16, 17, 19, 2, 5, 13, 18, 5, 6, 11, 1, 2, 4, 5, 8, 10, 14, 16, 17, 20, 6, 8, 20, 8, 1, 2, 3, 4, 5, 7, 8, 9, 10, 11, 12, 13, 14, 15, 5, 3, 6, 11, 1, 3, 5, 7, 8, 9, 10, 11, 14, 15, 13, 15, 16, 19, 8, 1, 2, 3, 5, 6, 7, 8, 9, 10, 11, 14, 16, 17, 11, 18, 2, 4, 6, 20, 3, 6, 7, 8, 14, 6, 17, 14, 1, 2, 3, 1, 2, 4, 5, 7, 8, 12, 14, 15, 1, 2, 3, 4, 7, 8, 10, 1, 3, 8, 12, 2, 3, 4, 6, 7, 9, 11, 12, 14, 15, 16, 2, 5, 6, 11, 16, 6, 7, 8, 11, 6, 1, 3, 7, 8, 10, 15, 17, 4, 11, 5, 13, 19, 11, 1, 2, 3, 5, 6, 13, 14, 16, 1, 2, 3, 6, 9, 10, 11, 12, 14, 16, 2, 4, 8, 9, 11, 16, 5, 6, 11, 15, 1, 13, 20, 12, 3, 18, 1, 2, 3, 4, 5, 8, 10, 13, 14, 16, 1, 12, 12, 7, 15, 7, 17, 1, 2, 4, 12, 13, 15, 1, 2, 4, 6, 9, 11, 12, 1, 2, 3, 4, 6, 10, 12, 13, 14, 10, 19, 2, 5, 20, 14, 1, 2, 3, 4, 5, 7, 8, 10, 12, 14, 15, 3, 5, 6, 10, 15, 17, 9, 17, 7, 5, 19, 18, 20, 17, 11, 12, 7, 1, 2, 3, 6, 7, 8, 10, 11, 12, 15, 3, 6, 7, 8, 10, 11, 12, 15, 1, 2, 3, 4, 5, 8, 9, 10, 12, 13, 14, 15, 1, 2, 10, 17, 11, 13, 18, 19, 13, 1, 3, 6, 8, 11, 15, 3, 11, 15, 11, 12, 6, 14, 20, 3, 7, 1, 3, 4, 6, 7, 8, 9, 10, 11, 12, 14, 17, 4, 1, 3, 5, 6, 8, 13, 14, 16, 17, 2, 4, 6, 12, 17, 1, 2, 3, 4, 9, 12, 14, 1, 2, 4, 5, 8, 10, 12, 17, 1, 2, 3, 4, 5, 8, 10, 12, 14, 1, 2, 4, 5, 8, 12, 17, 1, 2, 4, 5, 6, 7, 8, 11, 12, 13, 15, 16, 18, 2, 1, 2, 3, 4, 5, 6, 8, 9, 10, 11, 13, 15, 16, 1, 20, 12, 7, 19, 14, 1, 2, 3, 4, 5, 6, 7, 8, 9, 10, 11, 12, 13, 14, 15, 16, 17, 10, 17, 10, 9, 18, 1, 2, 4, 5, 8, 15, 1, 19, 1, 1, 4, 5, 11, 12, 16, 17, 19, 3, 14, 2, 3, 7, 1, 3, 6, 13, 18, 17, 15, 20, 17, 18, 20, 9, 1, 2, 9, 10, 12, 16, 10, 17, 1, 2, 4, 7, 8, 10, 12, 13, 14, 15, 9, 2, 4, 9, 12, 11, 17, 17, 16, 16, 16, 6, 5, 6, 8, 9, 14, 16, 20, 18, 15, 1, 2, 9, 11, 16, 4, 6, 12, 3, 6, 8, 9, 11, 13, 14, 16, 3, 7, 14, 17, 3, 1, 2, 3, 4, 5, 7, 8, 9, 10, 11, 12, 14, 15, 17, 3, 7, 14, 15, 3, 9, 11, 12, 14, 15, 1, 2, 3, 4, 6, 7, 8, 9, 10, 11, 12, 14, 15, 1, 2, 3, 4, 5, 7, 10, 12, 13, 14, 6, 20, 2, 4, 6, 7, 10, 12, 14, 15, 2, 4, 7, 9, 11, 12, 14, 15, 10, 5, 9, 13, 18, 3, 6, 18, 3, 4, 7, 8, 12, 14, 15, 7, 3, 5, 7, 8, 17, 3, 2, 16, 2, 16, 2, 4, 3, 6, 14, 11, 10, 10, 14, 8, 2, 1, 1, 2, 3, 4, 5, 7, 8, 10, 14, 15, 17, 2, 6, 9, 11, 13, 16, 18, 2, 4, 5, 11, 2, 9, 12, 9, 1, 10, 12, 18, 1, 2, 3, 4, 5, 6, 7, 8, 9, 10, 11, 12, 13, 16, 17, 1, 2, 4, 5, 13, 19, 14, 14, 2, 5, 16, 5, 14, 3, 5, 7, 8, 14, 2, 13, 14, 13, 18, 3, 5, 8, 10, 15, 10, 17, 1, 2, 3, 4, 5, 7, 8, 9, 10, 12, 13, 14, 15, 8, 2, 4, 5, 1, 2, 4, 5, 10, 16, 1, 2, 3, 4, 5, 6, 7, 8, 10, 12, 1, 2, 3, 4, 5, 7, 8, 10, 11, 14, 15, 16, 17, 1, 2, 3, 4, 6, 11, 12, 13, 14, 16, 4, 1, 2, 3, 6, 8, 10, 12, 17, 1, 2, 3, 4, 5, 6, 7, 8, 10, 11, 12, 13, 14, 15, 17, 1, 1, 2, 3, 4, 5, 6, 7, 9, 14, 10, 14, 12, 14, 14, 14, 1, 10, 1, 1, 2, 3, 6, 7, 9, 11, 13, 16, 17, 10, 6, 9, 13, 16, 2, 7, 13, 19], \"Freq\": [0.9815970063209534, 0.02413138747215271, 0.47149017453193665, 0.057544078677892685, 0.17077597975730896, 0.05197529494762421, 0.22089500725269318, 0.17437832057476044, 0.8084813356399536, 0.712783932685852, 0.00958902109414339, 0.01278536207973957, 0.04474876448512077, 0.13744263350963593, 0.07351583242416382, 0.006392681039869785, 0.23884469270706177, 0.7463896870613098, 0.9899605512619019, 0.025885477662086487, 0.07765643298625946, 0.3288978338241577, 0.028930827975273132, 0.33803388476371765, 0.10963261127471924, 0.09136050939559937, 0.946476399898529, 0.11046064645051956, 0.011627436615526676, 0.6598570346832275, 0.21220071613788605, 0.9830681681632996, 0.06988027691841125, 0.04751858860254288, 0.002795211039483547, 0.8357681035995483, 0.030747322365641594, 0.008385633118450642, 0.005590422078967094, 0.9019811153411865, 0.9849268794059753, 0.06588251143693924, 0.23058879375457764, 0.6972566246986389, 0.9851945638656616, 0.992010772228241, 0.09480854868888855, 0.9024369120597839, 0.9718303680419922, 0.9899771213531494, 0.9854314923286438, 0.32249152660369873, 0.08346513658761978, 0.2451268434524536, 0.10620314627885818, 0.010537127032876015, 0.04214850813150406, 0.01247817650437355, 0.05629044026136398, 0.00499127060174942, 0.03327513858675957, 0.036879945546388626, 0.003050220897421241, 0.002218342386186123, 0.02606552466750145, 0.0005545855965465307, 0.014141933061182499, 0.24255551397800446, 0.751922070980072, 0.9518782496452332, 0.018305351957678795, 0.9966282844543457, 0.031084934249520302, 0.49899500608444214, 0.008180245757102966, 0.16524095833301544, 0.17669330537319183, 0.10634319484233856, 0.013088393025100231, 0.976198673248291, 0.014355862513184547, 0.054380469024181366, 0.09322366118431091, 0.0776863843202591, 0.19033163785934448, 0.048553988337516785, 0.4389280676841736, 0.03495887294411659, 0.007768638432025909, 0.05243830755352974, 0.9597629308700562, 0.9577668905258179, 0.9733129143714905, 0.9798790812492371, 0.8586408495903015, 0.13967224955558777, 0.36177536845207214, 0.13655246794223785, 0.13832588493824005, 0.010640452615916729, 0.07270975410938263, 0.039014991372823715, 0.17911428213119507, 0.060295894742012024, 0.8017724752426147, 0.01619742251932621, 0.02699570544064045, 0.0053991409949958324, 0.08638625591993332, 0.04049355909228325, 0.02159656397998333, 0.5406742095947266, 0.026085160672664642, 0.045649029314517975, 0.0545416995882988, 0.010671202093362808, 0.30946484208106995, 0.0017785336822271347, 0.009485512971878052, 0.0017785336822271347, 0.9100366234779358, 0.01344881672412157, 0.02465616539120674, 0.017931755632162094, 0.008965877816081047, 0.022414695471525192, 0.9940354824066162, 0.0023365758825093508, 0.0911264568567276, 0.9042548537254333, 0.18445681035518646, 0.004444742575287819, 0.02889082580804825, 0.033335570245981216, 0.7467167377471924, 0.17853553593158722, 0.03705454245209694, 0.006737189833074808, 0.6804561614990234, 0.09768924862146378, 0.15403875708580017, 0.35086604952812195, 0.2173658013343811, 0.006846166681498289, 0.04450008273124695, 0.07188475131988525, 0.01711541786789894, 0.015403875149786472, 0.12323100119829178, 0.9976058006286621, 0.988844633102417, 0.9846490025520325, 0.9901110529899597, 0.09808279573917389, 0.10543899983167648, 0.11034314334392548, 0.6743192076683044, 0.012260349467396736, 0.08935926854610443, 0.15079377591609955, 0.6422697901725769, 0.11169908940792084, 0.9572477340698242, 0.9978304505348206, 0.07885988056659698, 0.9195359349250793, 0.19117526710033417, 0.8086883425712585, 0.2615104913711548, 0.05811344459652901, 0.5022661685943604, 0.17434033751487732, 0.03975025191903114, 0.40633589029312134, 0.11925075203180313, 0.022083472460508347, 0.40633589029312134, 0.5333617329597473, 0.026171725243330002, 0.046026136726140976, 0.02978161908686161, 0.1931292861700058, 0.018951939418911934, 0.03068409115076065, 0.023464305326342583, 0.01443957258015871, 0.009024732746183872, 0.011732152663171291, 0.06227065622806549, 0.9860997796058655, 0.9788376092910767, 0.9635922908782959, 0.9907000064849854, 0.9856388568878174, 0.9884751439094543, 0.9593997597694397, 0.23069438338279724, 0.7634885311126709, 0.6274401545524597, 0.07651709020137787, 0.2754615247249603, 0.9861374497413635, 0.9689750075340271, 0.9815180897712708, 0.9664515852928162, 0.9858981370925903, 0.25669965147972107, 0.5806301236152649, 0.0916784480214119, 0.06723085790872574, 0.046540435403585434, 0.9308086633682251, 0.9861074686050415, 0.010675661265850067, 0.6745683550834656, 0.1120944395661354, 0.0006672288291156292, 0.022685779258608818, 0.02802360989153385, 0.13744914531707764, 0.013344576582312584, 0.1356389820575714, 0.8590468168258667, 0.7475377321243286, 0.24409395456314087, 0.9927599430084229, 0.983555793762207, 0.5726124048233032, 0.03864650800824165, 0.01996736228466034, 0.012882169336080551, 0.21191167831420898, 0.020611470565199852, 0.026408446952700615, 0.023187903687357903, 0.034137748181819916, 0.0180350374430418, 0.018679145723581314, 0.0025764338206499815, 0.9342969655990601, 0.972896933555603, 0.9730294942855835, 0.9823725819587708, 0.9827540516853333, 0.9950976967811584, 0.06158563122153282, 0.15244968235492706, 0.39879220724105835, 0.07168163359165192, 0.029278414323925972, 0.01514400728046894, 0.007067203521728516, 0.007067203521728516, 0.04442242160439491, 0.09086404740810394, 0.0020192009396851063, 0.12115205824375153, 0.9943805932998657, 0.973767101764679, 0.9850537180900574, 0.9834632277488708, 0.9890300631523132, 0.9689140915870667, 0.9632977843284607, 0.031074123457074165, 0.9963077902793884, 0.4174078106880188, 0.1145412027835846, 0.40054285526275635, 0.014054135419428349, 0.003513533854857087, 0.04637864604592323, 0.002108120359480381, 0.9671117663383484, 0.27543124556541443, 0.18008966743946075, 0.15890264511108398, 0.010593509301543236, 0.10593509674072266, 0.25424423813819885, 0.40211743116378784, 0.014711612835526466, 0.24028968811035156, 0.0706157460808754, 0.0755196139216423, 0.010788516141474247, 0.014711612835526466, 0.010788516141474247, 0.14809690415859222, 0.012750064954161644, 0.7702972292900085, 0.035049717873334885, 0.016728274524211884, 0.00238975347019732, 0.05655749887228012, 0.011152182705700397, 0.058947253972291946, 0.0031863378826528788, 0.04460873082280159, 0.9980379939079285, 0.992827832698822, 0.9719833731651306, 0.471159428358078, 0.5251777172088623, 0.28518250584602356, 0.7080392837524414, 0.28212183713912964, 0.042318277060985565, 0.025861168280243874, 0.002351015340536833, 0.5289784669876099, 0.10109365731477737, 0.014106092043220997, 0.9952943325042725, 0.9915950298309326, 0.03520594909787178, 0.47175970673561096, 0.4893626868724823, 0.09453839808702469, 0.17106948792934418, 0.004501828458160162, 0.06752742826938629, 0.04952011629939079, 0.04952011629939079, 0.5582267642021179, 0.004501828458160162, 0.0683688297867775, 0.20108477771282196, 0.08847730606794357, 0.01608678326010704, 0.044238653033971786, 0.45042991638183594, 0.12869426608085632, 0.07709754258394241, 0.042536575347185135, 0.07178047299385071, 0.7071705460548401, 0.09836582839488983, 0.9633525013923645, 0.13488446176052094, 0.25381484627723694, 0.4713703989982605, 0.1189303770661354, 0.021755557507276535, 0.9724060297012329, 0.017680110409855843, 0.9893031120300293, 0.9873719811439514, 0.947746992111206, 0.044599857181310654, 0.20042593777179718, 0.11723026633262634, 0.45379456877708435, 0.21933405101299286, 0.9884001016616821, 0.9668505787849426, 0.9388279318809509, 0.05867674574255943, 0.971546471118927, 0.9593692421913147, 0.9873316884040833, 0.03021002933382988, 0.2341277301311493, 0.12839262187480927, 0.1359451413154602, 0.4682554602622986, 0.9751641154289246, 0.9571774005889893, 0.21095331013202667, 0.007813085801899433, 0.7656823396682739, 0.05814608186483383, 0.18606746196746826, 0.7558990716934204, 0.10874008387327194, 0.8854549527168274, 0.1762831211090088, 0.0020032173488289118, 0.0040064346976578236, 0.6069748401641846, 0.12820591032505035, 0.06810938566923141, 0.016025738790631294, 0.011958291754126549, 0.07772889733314514, 0.05680188536643982, 0.4992586672306061, 0.06577060371637344, 0.14947864413261414, 0.12257248908281326, 0.008968718349933624, 0.008968718349933624, 0.9799098968505859, 0.8102783560752869, 0.18462038040161133, 0.06758429110050201, 0.8560676574707031, 0.06758429110050201, 0.8573822379112244, 0.13078711926937103, 0.9677609205245972, 0.09760016947984695, 0.8934169411659241, 0.007507705595344305, 0.9920040965080261, 0.05274546146392822, 0.9418832063674927, 0.9940490126609802, 0.992115318775177, 0.16898754239082336, 0.8280389308929443, 0.9716904163360596, 0.2391422688961029, 0.01319405622780323, 0.13029131293296814, 0.5376577973365784, 0.04452994093298912, 0.01154479943215847, 0.008246284909546375, 0.01319405622780323, 0.07037316262722015, 0.273673415184021, 0.05473468080163002, 0.015638479962944984, 0.12510783970355988, 0.06646354496479034, 0.007819239981472492, 0.37923315167427063, 0.031429994851350784, 0.17810329794883728, 0.17810329794883728, 0.04190665856003761, 0.5762165784835815, 0.9779937267303467, 0.9922084808349609, 0.9884964227676392, 0.9516421556472778, 0.18228133022785187, 0.16202785074710846, 0.6278579235076904, 0.9982180595397949, 0.9487595558166504, 0.06498925387859344, 0.036105141043663025, 0.8304182291030884, 0.06859976798295975, 0.07129667699337006, 0.6381052732467651, 0.2887515425682068, 0.9719346761703491, 0.20880453288555145, 0.2876303493976593, 0.08469581604003906, 0.0494757741689682, 0.024318601936101913, 0.08721153438091278, 0.04444434121251106, 0.0402514785528183, 0.07547152042388916, 0.05702292546629906, 0.02599574625492096, 0.0033542898017913103, 0.010901441797614098, 0.9809814691543579, 0.9779777526855469, 0.9829875826835632, 0.9962676167488098, 0.18124441802501678, 0.15069760382175446, 0.008145816624164581, 0.036656174808740616, 0.024437449872493744, 0.06923944503068924, 0.32990556955337524, 0.1792079657316208, 0.020364541560411453, 0.2648957669734955, 0.005406036041676998, 0.6271001696586609, 0.09190261363983154, 0.060008805245161057, 0.060008805245161057, 0.8251211047172546, 0.04500660300254822, 0.9847543835639954, 0.9530887603759766, 0.09315900504589081, 0.005703612696379423, 0.4524866044521332, 0.13118308782577515, 0.17110837996006012, 0.09315900504589081, 0.009506020694971085, 0.039925288408994675, 0.9797207713127136, 0.9712017774581909, 0.9971128106117249, 0.07342720776796341, 0.12587520480155945, 0.7709856629371643, 0.005244800355285406, 0.010489600710570812, 0.01573440060019493, 0.025999896228313446, 0.9619961380958557, 0.9842715859413147, 0.22726161777973175, 0.08264058828353882, 0.03655256703495979, 0.5133251547813416, 0.0031784840393811464, 0.0015892420196905732, 0.05085574463009834, 0.007946209982037544, 0.07469437271356583, 0.9675830602645874, 0.9837270379066467, 0.07447122037410736, 0.6790022850036621, 0.24531695246696472, 0.4269734025001526, 0.12967340648174286, 0.18976594507694244, 0.12334787100553513, 0.023720743134617805, 0.10437127202749252, 0.10594867914915085, 0.8687791228294373, 0.0014642216265201569, 0.9971349239349365, 0.019071556627750397, 0.3585452437400818, 0.6217327117919922, 0.9698763489723206, 0.9769143462181091, 0.9643816947937012, 0.9973622560501099, 0.9921786785125732, 0.0065167732536792755, 0.9977248907089233, 0.9988913536071777, 0.9033225774765015, 0.07854978740215302, 0.9987667202949524, 0.9858858585357666, 0.9803519248962402, 0.9860664010047913, 0.9782800674438477, 0.09444320946931839, 0.9039564728736877, 0.06940528005361557, 0.9161497354507446, 0.9944767355918884, 0.9558958411216736, 0.04050406068563461, 0.9935985803604126, 0.13919790089130402, 0.303915411233902, 0.2134367823600769, 0.341034859418869, 0.9833166003227234, 0.9862004518508911, 0.03334619104862213, 0.9614818692207336, 0.992640495300293, 0.9912181496620178, 0.9976989030838013, 0.9876235127449036, 0.9802637696266174, 0.03725240379571915, 0.9561450481414795, 0.8912238478660583, 0.9744805097579956, 0.3672183156013489, 0.17164994776248932, 0.040802035480737686, 0.07597620785236359, 0.30531179904937744, 0.030953269451856613, 0.008441800251603127, 0.9977441430091858, 0.993908166885376, 0.030292373150587082, 0.9693559408187866, 0.969388484954834, 0.9734612107276917, 0.5023744106292725, 0.043858084827661514, 0.450542151927948, 0.20926420390605927, 0.24819707870483398, 0.5401936173439026, 0.8474224209785461, 0.08554422110319138, 0.06683142483234406, 0.9944729208946228, 0.9840167164802551, 0.62446129322052, 0.06924719363451004, 0.2460748553276062, 0.014838684350252151, 0.04575261101126671, 0.97559654712677, 0.10024514049291611, 0.3007354140281677, 0.5961948037147522, 0.041147567331790924, 0.4408667981624603, 0.0675995722413063, 0.01469555962830782, 0.0675995722413063, 0.061721350997686386, 0.005878224037587643, 0.2997894287109375, 0.9816879630088806, 0.07671550661325455, 0.6022167205810547, 0.07287973165512085, 0.20329609513282776, 0.04602930322289467, 0.09667505323886871, 0.435037761926651, 0.4661118686199188, 0.9885011315345764, 0.0283468347042799, 0.5782754421234131, 0.0453549362719059, 0.3061458170413971, 0.02456725761294365, 0.011338734067976475, 0.005669367033988237, 0.9223459362983704, 0.07595790177583694, 0.08966775238513947, 0.27327314019203186, 0.555086076259613, 0.08112796396017075, 0.9674820899963379, 0.997763991355896, 0.010167893953621387, 0.227506622672081, 0.15506038069725037, 0.008896906860172749, 0.017793813720345497, 0.10930486023426056, 0.3673151731491089, 0.048297494649887085, 0.020335787907242775, 0.035587627440690994, 0.996334433555603, 0.9789696931838989, 0.9831058382987976, 0.9853023886680603, 0.9604864120483398, 0.2260993868112564, 0.012445838190615177, 0.21157924830913544, 0.006222919095307589, 0.07260072231292725, 0.09749239683151245, 0.36092931032180786, 0.008297225460410118, 0.5890327095985413, 0.11735803633928299, 0.007848786190152168, 0.0642852932214737, 0.07960911840200424, 0.0011212551034986973, 0.086336649954319, 0.006727531086653471, 0.0033637655433267355, 0.004485020413994789, 0.004485020413994789, 0.001495006843470037, 0.033263903111219406, 0.0007475034217350185, 0.9760602712631226, 0.9378194212913513, 0.02243587002158165, 0.03141022101044655, 0.004487174097448587, 0.00448735523968935, 0.9558067321777344, 0.024680454283952713, 0.013462066650390625, 0.9525570273399353, 0.9535043835639954, 0.01695420779287815, 0.21023216843605042, 0.0339084155857563, 0.013563365675508976, 0.057644303888082504, 0.0678168311715126, 0.2610947787761688, 0.0474717803299427, 0.030517572537064552, 0.027126731351017952, 0.23396806418895721, 0.9502450227737427, 0.7120735049247742, 0.2658815383911133, 0.01833665743470192, 0.9924294948577881, 0.9371494054794312, 0.005512643605470657, 0.055126436054706573, 0.9850930571556091, 0.9345617890357971, 0.05780794471502304, 0.017723824828863144, 0.9570865631103516, 0.9960420727729797, 0.9900323748588562, 0.9953703284263611, 0.9711846709251404, 0.9816837906837463, 0.9835637807846069, 0.9904710054397583, 0.9568182229995728, 0.06917458772659302, 0.053645599633455276, 0.2555224597454071, 0.019764168187975883, 0.021175894886255264, 0.02823452651500702, 0.1863478720188141, 0.050822146236896515, 0.15811334550380707, 0.04658696800470352, 0.015528989024460316, 0.06211595609784126, 0.01411726325750351, 0.019764168187975883, 0.9871018528938293, 0.09287725389003754, 0.013268179260194302, 0.8889679908752441, 0.982714831829071, 0.14868934452533722, 0.8284120559692383, 0.16982832551002502, 0.09906652569770813, 0.014152360148727894, 0.042457081377506256, 0.5943991541862488, 0.0778379812836647, 0.39095959067344666, 0.14105208218097687, 0.22001059353351593, 0.029130320996046066, 0.028363734483718872, 0.06132699176669121, 0.0007665874436497688, 0.011498811654746532, 0.11652128398418427, 0.988877534866333, 0.7712419629096985, 0.22634275257587433, 0.9835149645805359, 0.9763337969779968, 0.03875201568007469, 0.06200322508811951, 0.2247616946697235, 0.03875201568007469, 0.03875201568007469, 0.5967810750007629, 0.9619318246841431, 0.9916210174560547, 0.9754584431648254, 0.9868773818016052, 0.9554598331451416, 0.9874801635742188, 0.9907522201538086, 0.9617382884025574, 0.024347804486751556, 0.9850065112113953, 0.14057810604572296, 0.12886326014995575, 0.029287105426192284, 0.07614646852016449, 0.5974569320678711, 0.023429684340953827, 0.036145251244306564, 0.9578490853309631, 0.9700700044631958, 0.022825175896286964, 0.9881343245506287, 0.9817638397216797, 0.966148316860199, 0.05053069442510605, 0.12632673978805542, 0.014437341131269932, 0.05774936452507973, 0.31762149930000305, 0.4331202208995819, 0.9878889322280884, 0.9793755412101746, 0.9939388036727905, 0.9803556799888611, 0.705477237701416, 0.29015594720840454, 0.24942490458488464, 0.692846953868866, 0.027713878080248833, 0.027713878080248833, 0.9901028275489807, 0.38880831003189087, 0.05467617139220238, 0.07695164531469345, 0.14479060471057892, 0.002025043359026313, 0.038475822657346725, 0.05568869039416313, 0.091126948595047, 0.0030375649221241474, 0.1063147783279419, 0.03645078092813492, 0.9747458696365356, 0.8240790963172913, 0.08930906653404236, 0.08524956554174423, 0.9711720943450928, 0.9825131893157959, 0.7128732800483704, 0.26625388860702515, 0.01717766933143139, 0.1544293761253357, 0.7822497487068176, 0.0620604045689106, 0.570868968963623, 0.4277152717113495, 0.16137059032917023, 0.04610588401556015, 0.7146411538124084, 0.011526471003890038, 0.04994804039597511, 0.011526471003890038, 0.033101726323366165, 0.4870682656764984, 0.47761061787605286, 0.9874566793441772, 0.9779890775680542, 0.988112211227417, 0.9759004712104797, 0.9580917358398438, 0.9850611686706543, 0.9667884707450867, 0.010153246112167835, 0.9184072613716125, 0.06922668218612671, 0.0009230223949998617, 0.019228143617510796, 0.057684432715177536, 0.028842216357588768, 0.7426870465278625, 0.11777238547801971, 0.033649250864982605, 0.051609404385089874, 0.008148852735757828, 0.7877224683761597, 0.1521119326353073, 0.9981722831726074, 0.08203569054603577, 0.09741738438606262, 0.8049752116203308, 0.01025446131825447, 0.8316489458084106, 0.1647227257490158, 0.004837644286453724, 0.9917171001434326, 0.9779777526855469, 0.004902237094938755, 0.01470671221613884, 0.30148759484291077, 0.5980729460716248, 0.07598467916250229, 0.9847410321235657, 0.9558295607566833, 0.9787688255310059, 0.9924365282058716, 0.09410910308361053, 0.12833058834075928, 0.042776864022016525, 0.7015405893325806, 0.025666119530797005, 0.934482753276825, 0.8723147511482239, 0.12326186150312424, 0.9724279642105103, 0.5506607890129089, 0.22667020559310913, 0.11333510279655457, 0.09855226427316666, 0.00985522661358118, 0.9884594678878784, 0.9957557916641235, 0.9985476136207581, 0.13715361058712006, 0.17372789978981018, 0.6857680678367615, 0.974796712398529, 0.4291253685951233, 0.011810789816081524, 0.5511702299118042, 0.9772414565086365, 0.17436961829662323, 0.8167840242385864, 0.7119906544685364, 0.05353312939405441, 0.057815782725811005, 0.07387571781873703, 0.02355457842350006, 0.003211987903341651, 0.05032114312052727, 0.006423975806683302, 0.01820126548409462, 0.9975828528404236, 0.007272809743881226, 0.9891021251678467, 0.0029091238975524902, 0.027214614674448967, 0.004948111716657877, 0.08411790430545807, 0.21771691739559174, 0.16081362962722778, 0.10885845869779587, 0.39584895968437195, 0.9709379076957703, 0.9933468103408813, 0.9723491668701172, 0.9861124753952026, 0.993386447429657, 0.9873731732368469, 0.5035878419876099, 0.16098301112651825, 0.004127769265323877, 0.15025080740451813, 0.08668315410614014, 0.02270273119211197, 0.011557754129171371, 0.018987739458680153, 0.008668315596878529, 0.004540546331554651, 0.027656054124236107, 0.28203004598617554, 0.07412327826023102, 0.021694619208574295, 0.6201044917106628, 0.14918440580368042, 0.1327388882637024, 0.09632378816604614, 0.16915397346019745, 0.08340230584144592, 0.008222762495279312, 0.008222762495279312, 0.02819232828915119, 0.22436395287513733, 0.07752890139818192, 0.023493606597185135, 0.0566767193377018, 0.2909404933452606, 0.030227582901716232, 0.037784479558467865, 0.04156292602419853, 0.08312585204839706, 0.4534137547016144, 0.9761260151863098, 0.981473445892334, 0.07223669439554214, 0.08469130098819733, 0.25656482577323914, 0.07223669439554214, 0.02241828478872776, 0.4882204234600067, 0.13118910789489746, 0.196783646941185, 0.668244481086731, 0.972065806388855, 0.9651120901107788, 0.3404242992401123, 0.6585778594017029, 0.9675719141960144, 0.02917402982711792, 0.94815593957901, 0.09210141003131866, 0.15130946040153503, 0.7104965448379517, 0.032893359661102295, 0.27136290073394775, 0.13431093096733093, 0.10141845792531967, 0.48242294788360596, 0.008223118260502815, 0.27836889028549194, 0.31611382961273193, 0.23496221005916595, 0.03680131211876869, 0.004718116484582424, 0.008492610417306423, 0.006605363450944424, 0.07737711071968079, 0.03208319470286369, 0.004718116484582424, 0.9974528551101685, 0.9874289631843567, 0.9908075928688049, 0.007285350002348423, 0.9829851388931274, 0.6505964994430542, 0.3457276225090027, 0.8813669681549072, 0.028740227222442627, 0.009580075740814209, 0.019160151481628418, 0.038320302963256836, 0.019160151481628418, 0.9592699408531189, 0.8476952314376831, 0.07648377865552902, 0.07011013478040695, 0.9693201780319214, 0.9376053810119629, 0.9619547128677368, 0.12648612260818481, 0.8121169209480286, 0.013571472838521004, 0.042885854840278625, 0.00488573033362627, 0.994232714176178, 0.4278738796710968, 0.5661100745201111, 0.002194225089624524, 0.0032913375180214643, 0.9756920337677002, 0.9834341406822205, 0.9750904440879822, 0.16614699363708496, 0.8099665641784668, 0.9964662194252014, 0.3166791498661041, 0.08374985307455063, 0.002617182908579707, 0.07502591609954834, 0.09334619343280792, 0.06979154795408249, 0.03838535025715828, 0.02224605530500412, 0.02311844937503338, 0.0008723943028599024, 0.03620436415076256, 0.023554647341370583, 0.07764309644699097, 0.02442704141139984, 0.03358718007802963, 0.03533197194337845, 0.0013085914542898536, 0.03751295804977417, 0.0043619717471301556, 0.1772267073392868, 0.07432087510824203, 0.03430194407701492, 0.3087174892425537, 0.4001893401145935, 0.9342115521430969, 0.9674832224845886, 0.8172329068183899, 0.1325242668390274, 0.04417475312948227, 0.03705522045493126, 0.008234493434429169, 0.9510839581489563, 0.36031463742256165, 0.6305506229400635, 0.10247182846069336, 0.15940062701702118, 0.7286885380744934, 0.9246450662612915, 0.018130294978618622, 0.036260589957237244, 0.018130294978618622, 0.17918211221694946, 0.8119189739227295, 0.028475165367126465, 0.23593708872795105, 0.0854254961013794, 0.05288245156407356, 0.05288245156407356, 0.5410281419754028, 0.9588209986686707, 0.9817007780075073, 0.08158095180988312, 0.585463285446167, 0.021594958379864693, 0.05518711358308792, 0.1151731088757515, 0.07678207010030746, 0.05758655443787575, 0.0047988793812692165, 0.24767212569713593, 0.022745398804545403, 0.7177436947822571, 0.010109066031873226, 0.9840392470359802, 0.9824888706207275, 0.961074948310852, 0.016714345663785934, 0.016714345663785934, 0.9704427123069763, 0.26681986451148987, 0.0325390063226223, 0.32213616371154785, 0.00976170226931572, 0.013015602715313435, 0.08460141718387604, 0.26681986451148987, 0.018316397443413734, 0.7601304650306702, 0.21063856780529022, 0.988728940486908, 0.04731549695134163, 0.9463099241256714, 0.983555257320404, 0.010653989389538765, 0.9837183952331543, 0.004735106602311134, 0.008583576418459415, 0.9836779236793518, 0.001716715400107205, 0.005150145851075649, 0.9884915947914124, 0.058539822697639465, 0.9366371631622314, 0.9797472953796387, 0.0590001679956913, 0.9292526245117188, 0.9854649305343628, 0.9958646297454834, 0.10585979372262955, 0.889222264289856, 0.9151132106781006, 0.9758114814758301, 0.1742582470178604, 0.13729438185691833, 0.0897694006562233, 0.010561106726527214, 0.5280553102493286, 0.0580860860645771, 0.31136390566825867, 0.13721120357513428, 0.24803565442562103, 0.30080920457839966, 0.8176313042640686, 0.019151724874973297, 0.005892838351428509, 0.0014732095878571272, 0.0014732095878571272, 0.09428541362285614, 0.05156233534216881, 0.005892838351428509, 0.9842679500579834, 0.1517438441514969, 0.8345911502838135, 0.9711971879005432, 0.9640839695930481, 0.09436675906181335, 0.16120988130569458, 0.12975428998470306, 0.12189039587974548, 0.03538753464818001, 0.4207184612751007, 0.03145558759570122, 0.9453010559082031, 0.1859644055366516, 0.13017508387565613, 0.024795252829790115, 0.20456084609031677, 0.44631457328796387, 0.9706036448478699, 0.9569398760795593, 0.8320324420928955, 0.04081925004720688, 0.12177743762731552, 0.005442566704005003, 0.7120984792709351, 0.01753561571240425, 0.07814785093069077, 0.07166729867458344, 0.0015248361742123961, 0.014867152087390423, 0.009149016812443733, 0.018679242581129074, 0.07586059719324112, 0.9904902577400208, 0.9897426962852478, 0.9858242869377136, 0.6378644704818726, 0.07873887568712234, 0.20678897202014923, 0.07555750757455826, 0.9363200068473816, 0.05299924686551094, 0.9582223296165466, 0.8676263689994812, 0.06318415701389313, 0.04469123110175133, 0.023116154596209526, 0.9700272679328918, 0.991594672203064, 0.3101368546485901, 0.6888617277145386, 0.020124170929193497, 0.3881089985370636, 0.47435545921325684, 0.04599810391664505, 0.0718720406293869, 0.26800990104675293, 0.21392719447612762, 0.17907388508319855, 0.060091909021139145, 0.024036763235926628, 0.16705550253391266, 0.02043124847114086, 0.012018381617963314, 0.03605514392256737, 0.003605514531955123, 0.002403676277026534, 0.012018381617963314, 0.9617831707000732, 0.021215805783867836, 0.014143870212137699, 0.0023573117796331644, 0.0770777240395546, 0.9163684844970703, 0.7683952450752258, 0.21214953064918518, 0.015523135662078857, 0.9741029143333435, 0.9260532259941101, 0.11625254154205322, 0.04650101810693741, 0.7788920402526855, 0.05812627077102661, 0.31823745369911194, 0.19889840483665466, 0.034096866846084595, 0.43473508954048157, 0.011365623213350773, 0.3689500391483307, 0.02380322851240635, 0.06783919781446457, 0.01785242184996605, 0.49867764115333557, 0.010711452923715115, 0.0011901614489033818, 0.011901614256203175, 0.9879846572875977, 0.9879812598228455, 0.9861392378807068, 0.1341141015291214, 0.023324191570281982, 0.08455019444227219, 0.46648383140563965, 0.046648383140563965, 0.04081733524799347, 0.011662095785140991, 0.061226002871990204, 0.04373285919427872, 0.08746571838855743, 0.9426172375679016, 0.9024235606193542, 0.9983587861061096, 0.993547797203064, 0.9773951172828674, 0.37495285272598267, 0.6178800463676453, 0.005281026009470224, 0.9873483777046204, 0.9916731119155884, 0.3816743791103363, 0.048707399517297745, 0.18444932997226715, 0.011178746819496155, 0.03593168780207634, 0.02714838646352291, 0.22597038745880127, 0.006387855391949415, 0.007186337374150753, 0.0534982904791832, 0.018365085124969482, 0.9960486888885498, 0.9908349514007568, 0.10993918776512146, 0.037401992827653885, 0.08613792061805725, 0.0034001809544861317, 0.03853538632392883, 0.03966877982020378, 0.03853538632392883, 0.07140380144119263, 0.05326950177550316, 0.2969491481781006, 0.13714063167572021, 0.06347004324197769, 0.020401086658239365, 0.00226678722538054, 0.08342768251895905, 0.20648351311683655, 0.2940825819969177, 0.08342768251895905, 0.014599844813346863, 0.02711399830877781, 0.2899112105369568, 0.9883533120155334, 0.9460670351982117, 0.996036946773529, 0.9959262609481812, 0.16729676723480225, 0.0730908215045929, 0.07471506297588348, 0.4482903778553009, 0.011369683779776096, 0.20465430617332458, 0.014618164859712124, 0.006496962159872055, 0.9851124286651611, 0.9625936150550842, 0.9822324514389038, 0.9894701838493347, 0.9664589166641235, 0.9837722778320312, 0.026714278385043144, 0.7836188077926636, 0.09795235097408295, 0.08014283329248428, 0.9823095798492432, 0.20611345767974854, 0.18575657904148102, 0.07973113656044006, 0.17133711278438568, 0.0008482035482302308, 0.012723053805530071, 0.0704008936882019, 0.03392814099788666, 0.10093622654676437, 0.0059374249540269375, 0.05937425047159195, 0.013571256771683693, 0.05258861929178238, 0.0076338318176567554, 0.9702288508415222, 0.9626304507255554, 0.3800009787082672, 0.25000062584877014, 0.021666722372174263, 0.06666683405637741, 0.025000063702464104, 0.21166720986366272, 0.041666772216558456, 0.9694017767906189, 0.9674850106239319, 0.9758025407791138, 0.9856852889060974, 0.9707814455032349, 0.9786716103553772, 0.9293968081474304, 0.05690184608101845, 0.9618741869926453, 0.9845659136772156, 0.22963444888591766, 0.02779015712440014, 0.06728143244981766, 0.6742769479751587, 0.9779045581817627, 0.06327874213457108, 0.8113238215446472, 0.03841923549771309, 0.02259954996407032, 0.03615928068757057, 0.013559729792177677, 0.009039820171892643, 0.006779864896088839, 0.989677369594574, 0.21234917640686035, 0.024982254952192307, 0.7557132244110107, 0.9929486513137817, 0.929247260093689, 0.03383248671889305, 0.3219919502735138, 0.13183003664016724, 0.3686574399471283, 0.14232976734638214, 0.001166637521237135, 0.0876159518957138, 0.47039201855659485, 0.21127250790596008, 0.06586731225252151, 0.024855589494109154, 0.05281812697649002, 0.01677752286195755, 0.008699456229805946, 0.058410633355379105, 0.002485558856278658, 0.9838448166847229, 0.9785448908805847, 0.9707096219062805, 0.22590139508247375, 0.7643872499465942, 0.005253520794212818, 0.13577550649642944, 0.46635931730270386, 0.38961663842201233, 0.9809747934341431, 0.9820560812950134, 0.9819255471229553, 0.8085383772850037, 0.10867451131343842, 0.056510746479034424, 0.026081882417201996, 0.9320850968360901, 0.9791758060455322, 0.9840648174285889, 0.9969965219497681, 0.9989546537399292, 0.9974273443222046, 0.9910829663276672, 0.9914286136627197, 0.9766874313354492, 0.0907154455780983, 0.31102439761161804, 0.15551219880580902, 0.12959349155426025, 0.01295934896916151, 0.31102439761161804, 0.28232136368751526, 0.7175667881965637, 0.999277651309967, 0.45757171511650085, 0.18917275965213776, 0.35247573256492615, 0.23055142164230347, 0.011722953990101814, 0.754176676273346, 0.060549814254045486, 0.13178488612174988, 0.43987658619880676, 0.11575700342655182, 0.04452192410826683, 0.09972910583019257, 0.017808768898248672, 0.08904384821653366, 0.996101975440979, 0.9903259873390198, 0.9791591167449951, 0.9851426482200623, 0.05142313987016678, 0.797058641910553, 0.0707068145275116, 0.0707068145275116, 0.9769617915153503, 0.06894131004810333, 0.8750243186950684, 0.04772859811782837, 0.9907740950584412, 0.9954349398612976, 0.7536838054656982, 0.2355261892080307, 0.9837861061096191, 0.0022493721917271614, 0.006748116109520197, 0.9874743223190308, 0.9729363918304443, 0.4144509434700012, 0.20978380739688873, 0.0025583391543477774, 0.37095916271209717, 0.7936351895332336, 0.05774892494082451, 0.051149047911167145, 0.01979963108897209, 0.003299938514828682, 0.06104886159300804, 0.009899815544486046, 0.004949907772243023, 0.10678070783615112, 0.3643106520175934, 0.5276223421096802, 0.981876790523529, 0.6483097076416016, 0.023318544030189514, 0.01762448064982891, 0.07971688359975815, 0.09300302714109421, 0.13475948572158813, 0.00108458346221596, 0.0024403126444667578, 0.16763944923877716, 0.04190986230969429, 0.05238732695579529, 0.29336902499198914, 0.02793990634381771, 0.031432393938302994, 0.013969953171908855, 0.37020376324653625, 0.9731795191764832, 0.978295087814331, 0.9877912402153015, 0.9799187183380127, 0.7042452692985535, 0.04378727078437805, 0.10581924021244049, 0.10946817696094513, 0.036489393562078476, 0.9854839444160461, 0.4763084650039673, 0.028351694345474243, 0.01984618604183197, 0.040401164442300797, 0.0467802956700325, 0.046071503311395645, 0.017011016607284546, 0.01275826245546341, 0.033313240855932236, 0.014884639531373978, 0.20696736872196198, 0.005670338869094849, 0.049615465104579926, 0.0028351694345474243, 0.2454424947500229, 0.08181416243314743, 0.05396253243088722, 0.16885051131248474, 0.3672933876514435, 0.029592357575893402, 0.005222180858254433, 0.027851630002260208, 0.017407268285751343, 0.9805642366409302, 0.9830590486526489, 0.158402219414711, 0.8383727669715881, 0.963083028793335, 0.9728816747665405, 0.9751431941986084, 0.7571321725845337, 0.03535247594118118, 0.12962573766708374, 0.07659702748060226, 0.9835256934165955, 0.9740738868713379, 0.9962863922119141, 0.9893108010292053, 0.9897441864013672, 0.13376277685165405, 0.10342482477426529, 0.023442961275577545, 0.4812701940536499, 0.0013789976947009563, 0.06343389302492142, 0.01103198155760765, 0.12410979717969894, 0.005515990778803825, 0.015168975107371807, 0.027579953894019127, 0.009652984328567982, 0.9833543300628662, 0.4258820414543152, 0.11744020134210587, 0.11356854438781738, 0.03226379305124283, 0.00129055161960423, 0.02322993054986, 0.006452758330851793, 0.07743310183286667, 0.15099453926086426, 0.04775041341781616, 0.9863367676734924, 0.1676647961139679, 0.01676647923886776, 0.8047910332679749, 0.19272227585315704, 0.22960123419761658, 0.4925124943256378, 0.046396102756261826, 0.02855144813656807, 0.008327505551278591, 0.0011896436335518956, 0.03012169897556305, 0.04655171558260918, 0.19716021418571472, 0.1807301938533783, 0.09036509692668915, 0.04381338134407997, 0.19442187249660492, 0.21359023451805115, 0.6961719393730164, 0.0449754036962986, 0.08095572888851166, 0.02840551920235157, 0.048289380967617035, 0.0023671265225857496, 0.06272885203361511, 0.012309057638049126, 0.001656988519243896, 0.015623034909367561, 0.0026038391515612602, 0.002840551780536771, 0.0014202758902683854, 0.9634213447570801, 0.017203953117132187, 0.13756583631038666, 0.020344242453575134, 0.14822234213352203, 0.025188110768795013, 0.019375469535589218, 0.002906320383772254, 0.4495109021663666, 0.01646914891898632, 0.019375469535589218, 0.0610327310860157, 0.024219337850809097, 0.03100075200200081, 0.006781414616852999, 0.029063204303383827, 0.008718961849808693, 0.21892523765563965, 0.016478244215250015, 0.05178876593708992, 0.042372625321149826, 0.47786906361579895, 0.10593156516551971, 0.00470806984230876, 0.023540347814559937, 0.023540347814559937, 0.00235403492115438, 0.030602453276515007, 0.9534949660301208, 0.09910508245229721, 0.007697482127696276, 0.32136988639831543, 0.015394964255392551, 0.04522270709276199, 0.36466822028160095, 0.027903372421860695, 0.007697482127696276, 0.009621852077543736, 0.02886555716395378, 0.05773111432790756, 0.012508408166468143, 0.0028865558560937643, 0.9860629439353943, 0.6656126976013184, 0.05214914306998253, 0.0028444987256079912, 0.051200978457927704, 0.10240195691585541, 0.031289488077163696, 0.0274968221783638, 0.015170659869909286, 0.012326161377131939, 0.007585329934954643, 0.023704156279563904, 0.007585329934954643, 0.9824475646018982, 0.020953524857759476, 0.9708467125892639, 0.9633581042289734, 0.12035197764635086, 0.1404106467962265, 0.05516132339835167, 0.13539597392082214, 0.07521998882293701, 0.4763932526111603, 0.977293848991394, 0.9932816028594971, 0.1388813853263855, 0.14455001056194305, 0.02267451211810112, 0.05952059477567673, 0.10770393162965775, 0.025508826598525047, 0.019840197637677193, 0.03684608265757561, 0.44498729705810547, 0.40795403718948364, 0.007157088723033667, 0.5534815192222595, 0.004771392326802015, 0.01669987291097641, 0.007157088723033667, 0.8429003953933716, 0.15274034440517426, 0.9686747193336487, 0.9802903532981873, 0.9732239246368408, 0.08271665871143341, 0.6418494582176208, 0.1415727436542511, 0.1328238695859909, 0.2680952847003937, 0.7269506454467773, 0.9610906839370728, 0.591873288154602, 0.1506250500679016, 0.09656636416912079, 0.06699579954147339, 0.0004620400140993297, 0.042507681995630264, 0.01801956072449684, 0.0110889608040452, 0.0004620400140993297, 0.00785468053072691, 0.01155100017786026, 0.00138612010050565, 0.9909572601318359, 0.010476169176399708, 0.010476169176399708, 0.09079346060752869, 0.1257140189409256, 0.7333317995071411, 0.027936451137065887, 0.9627097845077515, 0.31289687752723694, 0.19600000977516174, 0.14765921235084534, 0.20391033589839935, 0.03164125978946686, 0.01582062989473343, 0.007910314947366714, 0.0035156954545527697, 0.003076233435422182, 0.04614350199699402, 0.013623319566249847, 0.008349776268005371, 0.008789238519966602, 0.9868955016136169, 0.17360898852348328, 0.005182357970625162, 0.178791344165802, 0.18397369980812073, 0.137332484126091, 0.018138252198696136, 0.05441475659608841, 0.028502969071269035, 0.0829177275300026, 0.13474130630493164, 0.15919966995716095, 0.07451899349689484, 0.07451899349689484, 0.0914551317691803, 0.48098623752593994, 0.11516571789979935, 0.9858797192573547, 0.9929255247116089, 0.9039229154586792, 0.09039229154586792, 0.9920722246170044, 0.9870529770851135, 0.973595917224884, 0.02017815411090851, 0.8096287846565247, 0.011886883527040482, 0.018490707501769066, 0.10830271244049072, 0.03698141500353813, 0.013207647949457169, 0.0013207647716626525, 0.04661666974425316, 0.01942361332476139, 0.44674310088157654, 0.01942361332476139, 0.4661667048931122, 0.024600306525826454, 0.9594119787216187, 0.013750272803008556, 0.9817695021629333, 0.9162841439247131, 0.07967688143253326, 0.9805864691734314, 0.7402899265289307, 0.015422707423567772, 0.1819879412651062, 0.018507249653339386, 0.015422707423567772, 0.024676332250237465, 0.03199131041765213, 0.014218360185623169, 0.16706573963165283, 0.7482412457466125, 0.0071091800928115845, 0.030214015394449234, 0.9542134404182434, 0.0016177636571228504, 0.334877073764801, 0.19413164258003235, 0.1003013476729393, 0.019413163885474205, 0.07603488862514496, 0.0566217266023159, 0.21678033471107483, 0.9680834412574768, 0.9601761102676392, 0.9683720469474792, 0.9905712604522705, 0.981113076210022, 0.6646864414215088, 0.10604245960712433, 0.014600048772990704, 0.07914763689041138, 0.0007684236625209451, 0.03765275701880455, 0.019210591912269592, 0.006915812846273184, 0.013831625692546368, 0.03765275701880455, 0.018442166969180107, 0.09713887423276901, 0.24284718930721283, 0.10199581831693649, 0.553691565990448, 0.6623136401176453, 0.019844602793455124, 0.014883453026413918, 0.22821293771266937, 0.007441726513206959, 0.06697553396224976, 0.02387966588139534, 0.9671264886856079, 0.1282573789358139, 0.13395771384239197, 0.0684039369225502, 0.08265475928783417, 0.2907167375087738, 0.002850163960829377, 0.29356691241264343, 0.9891133308410645, 0.7899672985076904, 0.20867060124874115, 0.046046607196331024, 0.8339551687240601, 0.11255837231874466, 0.9935503602027893, 0.5420819520950317, 0.4221744239330292, 0.03497302904725075, 0.013594099320471287, 0.24741260707378387, 0.010875279083848, 0.05437639728188515, 0.1957550346851349, 0.03806347772479057, 0.1440974473953247, 0.087002232670784, 0.20391148328781128, 0.14540739357471466, 0.8516718745231628, 0.9752632975578308, 0.9652427434921265, 0.016344180330634117, 0.15799373388290405, 0.8008648157119751, 0.02179224044084549, 0.9792612791061401, 0.009992461651563644, 0.6113194823265076, 0.3820746839046478, 0.023289009928703308, 0.7044925093650818, 0.26782360672950745, 0.357587993144989, 0.636385440826416, 0.0640607476234436, 0.9288808703422546, 0.9928759336471558, 0.9984548091888428, 0.910751461982727, 0.03035838156938553, 0.05059730261564255, 0.9942200779914856, 0.23315827548503876, 0.09067266434431076, 0.09067266434431076, 0.24611151218414307, 0.3367841839790344, 0.9511401057243347, 0.12732674181461334, 0.8700660467147827, 0.6917086243629456, 0.05632806196808815, 0.03424746170639992, 0.0644393041729927, 0.004055620636790991, 0.0009012490045279264, 0.02072872593998909, 0.038753706961870193, 0.08471740782260895, 0.0009012490045279264, 0.0004506245022639632, 0.0004506245022639632, 0.0022531223949044943, 0.9594210386276245, 0.9136937856674194, 0.080256886780262, 0.0978843942284584, 0.06991742551326752, 0.8110421299934387, 0.97983717918396, 0.2901570796966553, 0.7039876580238342, 0.13511748611927032, 0.19485364854335785, 0.03911295905709267, 0.18845334649085999, 0.04266868159174919, 0.014222893863916397, 0.18631990253925323, 0.012089460156857967, 0.009244880639016628, 0.12373917549848557, 0.03484608978033066, 0.01920090615749359, 0.9818950891494751, 0.9924651384353638, 0.13729433715343475, 0.0509456992149353, 0.12520553171634674, 0.15629103779792786, 0.10275488346815109, 0.14161176979541779, 0.185649573802948, 0.021587159484624863, 0.07771378010511398, 0.7075446844100952, 0.29158180952072144, 0.12626728415489197, 0.006159380078315735, 0.08623132109642029, 0.33568620681762695, 0.3464651107788086, 0.06929302215576172, 0.02925705537199974, 0.11194376647472382, 0.15672127902507782, 0.14552690088748932, 0.05597188323736191, 0.5093441605567932, 0.011194376274943352, 0.1746513992547989, 0.4062543213367462, 0.01898384653031826, 0.01139030884951353, 0.3834737241268158, 0.007593539077788591, 0.051849834620952606, 0.8295973539352417, 0.11406964063644409, 0.11686304211616516, 0.28766289353370667, 0.5843152403831482, 0.36634108424186707, 0.629648745059967, 0.10562092065811157, 0.8833749890327454, 0.9750349521636963, 0.4116639792919159, 0.03904205188155174, 0.1831531524658203, 0.0373196080327034, 0.01722443476319313, 0.05798892676830292, 0.15616820752620697, 0.04478352889418602, 0.0017224433831870556, 0.012057104147970676, 0.0373196080327034, 0.0005741477943956852, 0.9689810872077942, 0.9809841513633728, 0.9873469471931458, 0.7188314199447632, 0.07987015694379807, 0.058087389916181564, 0.14521847665309906, 0.23094478249549866, 0.13680168986320496, 0.18093127012252808, 0.2706614136695862, 0.1103239431977272, 0.038245633244514465, 0.03236168995499611, 0.24606013298034668, 0.7458697557449341, 0.22439660131931305, 0.01264206226915121, 0.5341271162033081, 0.22439660131931305, 0.0031605155672878027, 0.9700518250465393, 0.2144797444343567, 0.03574662283062935, 0.09424109756946564, 0.038996316492557526, 0.07474293559789658, 0.4679557979106903, 0.06824355572462082, 0.9492072463035583, 0.04699045792222023, 0.9737358689308167, 0.9941334128379822, 0.2116546779870987, 0.09724674373865128, 0.06292436271905899, 0.6178028583526611, 0.15850697457790375, 0.08658530563116074, 0.17596368491649628, 0.016060177236795425, 0.011172297410666943, 0.021646326407790184, 0.18015329539775848, 0.15641216933727264, 0.0027930743526667356, 0.011870566755533218, 0.024439401924610138, 0.1319727599620819, 0.020948057994246483, 0.03327835351228714, 0.9484330415725708, 0.06435661762952805, 0.08151838183403015, 0.8323456048965454, 0.017161764204502106, 0.9878571033477783, 0.08609209209680557, 0.05570664629340172, 0.7520397305488586, 0.0329175665974617, 0.030385443940758705, 0.010128481313586235, 0.02785332314670086, 0.875617504119873, 0.031923554837703705, 0.054726094007492065, 0.031923554837703705, 0.08807168155908585, 0.032712340354919434, 0.11071868240833282, 0.08052267879247665, 0.08555534482002258, 0.17865969240665436, 0.337188720703125, 0.01509800273925066, 0.02516333758831024, 0.04277767241001129, 0.14362746477127075, 0.10921671241521835, 0.010472835041582584, 0.05984477326273918, 0.08378268033266068, 0.04937193915247917, 0.34111520648002625, 0.1496119350194931, 0.037402983754873276, 0.0029922386165708303, 0.013465073890984058, 0.9854784607887268, 0.928836464881897, 0.0663454607129097, 0.9863171577453613, 0.9847372770309448, 0.040144264698028564, 0.7493596076965332, 0.20072132349014282, 0.989412784576416, 0.9845975041389465, 0.9915878772735596, 0.007211547810584307, 0.9765344858169556, 0.058569736778736115, 0.6442670822143555, 0.25258198380470276, 0.04026669263839722, 0.991525411605835, 0.9796639680862427, 0.1694183647632599, 0.04517823085188866, 0.12047527730464935, 0.5195496678352356, 0.015059409663081169, 0.12424013018608093, 0.10192457586526871, 0.8946712613105774, 0.992700457572937, 0.9943000674247742, 0.9927900433540344, 0.9274916052818298, 0.9892274737358093, 0.2346474975347519, 0.16283367574214935, 0.14279259741306305, 0.13110198080539703, 0.0367419570684433, 0.01670088991522789, 0.03173169121146202, 0.002505133394151926, 0.11690622568130493, 0.01586584560573101, 0.014195756055414677, 0.045092400163412094, 0.05010266974568367, 0.1506093591451645, 0.03703508898615837, 0.17283041775226593, 0.13085731863975525, 0.014814035966992378, 0.09629122912883759, 0.0024690059944987297, 0.03209707885980606, 0.2518385946750641, 0.08147719502449036, 0.027159065008163452, 0.17135968804359436, 0.039983928203582764, 0.22276760637760162, 0.0771118625998497, 0.02855994924902916, 0.025703953579068184, 0.0028559949714690447, 0.04283992201089859, 0.0028559949714690447, 0.054263900965452194, 0.1427997499704361, 0.1856396645307541, 0.9925974011421204, 0.9746159315109253, 0.9815806150436401, 0.15476733446121216, 0.8375644087791443, 0.991506040096283, 0.9573746919631958, 0.03603023290634155, 0.9863293170928955, 0.8020679950714111, 0.19249631464481354, 0.0035647465847432613, 0.051142722368240356, 0.10228544473648071, 0.8353310823440552, 0.995428204536438, 0.9853498339653015, 0.3204353451728821, 0.4031800925731659, 0.012148121371865273, 0.1391303688287735, 0.0763268768787384, 0.0006876295083202422, 0.004125777166336775, 0.00825155433267355, 0.0043549868278205395, 0.031401749700307846, 0.08700387924909592, 0.08107179403305054, 0.02175096981227398, 0.053388744592666626, 0.13248318433761597, 0.019773608073592186, 0.03361513465642929, 0.5675025582313538, 0.9826393723487854, 0.388971209526062, 0.04343841224908829, 0.08490234613418579, 0.013821312226355076, 0.39686912298202515, 0.07108103483915329, 0.9926313757896423, 0.13972170650959015, 0.8002243041992188, 0.03810591995716095, 0.14523182809352875, 0.016597922891378403, 0.26556676626205444, 0.12033494561910629, 0.09958753734827042, 0.34855639934539795, 0.9870421886444092, 0.98300701379776, 0.9780484437942505, 0.9707649946212769, 0.9895564913749695, 0.9884210824966431, 0.9931221008300781, 0.009199109859764576, 0.5841434597969055, 0.041395995765924454, 0.35876527428627014, 0.039491165429353714, 0.9576607942581177, 0.9744421243667603, 0.9821892976760864, 0.9919962286949158, 0.13842302560806274, 0.06388755142688751, 0.08518340438604355, 0.13842302560806274, 0.042591702193021774, 0.20231057703495026, 0.31943777203559875, 0.9844671487808228, 0.9876375198364258, 0.9922682046890259, 0.12344282865524292, 0.06748207658529282, 0.009875426068902016, 0.4723745584487915, 0.3242431581020355, 0.08151837438344955, 0.08151837438344955, 0.759139895439148, 0.04585408791899681, 0.025474492460489273, 0.0036323722451925278, 0.06175032630562782, 0.9117254018783569, 0.01816186122596264, 0.9975423812866211, 0.2865418791770935, 0.04011586308479309, 0.6705079674720764, 0.9920949339866638, 0.9839485883712769, 0.18634843826293945, 0.040068093687295914, 0.26330462098121643, 0.04261209815740585, 0.12783630192279816, 0.02862006612122059, 0.26330462098121643, 0.034344080835580826, 0.01208402868360281, 0.0012720029335469007, 0.9796702265739441, 0.48272615671157837, 0.10881421715021133, 0.067917600274086, 0.19791041314601898, 0.0058423737064003944, 0.007302967365831137, 0.05696314573287964, 0.029211869463324547, 0.005112077109515667, 0.013145341537892818, 0.0029211868532001972, 0.021178605034947395, 0.976835310459137, 0.27918046712875366, 0.03165964037179947, 0.07195372879505157, 0.06331928074359894, 0.017268894240260124, 0.01439074520021677, 0.046050384640693665, 0.12951670587062836, 0.02878149040043354, 0.002878149040043354, 0.3165963888168335, 0.7795363068580627, 0.13491974771022797, 0.019988110288977623, 0.06496135890483856, 0.8219679594039917, 0.04931807890534401, 0.12493913620710373, 0.9940430521965027, 0.5503690242767334, 0.07712177187204361, 0.3680811822414398, 0.12754017114639282, 0.8599851727485657, 0.007288009859621525, 0.9922170042991638, 0.03778274729847908, 0.16822317242622375, 0.01709219440817833, 0.05307576060295105, 0.003598356619477272, 0.000899589154869318, 0.14033591747283936, 0.194311261177063, 0.0692683681845665, 0.025188496336340904, 0.14213508367538452, 0.1475326269865036, 0.9896155595779419, 0.9726043939590454, 0.9841600656509399, 0.05193522572517395, 0.16497072577476501, 0.0015275066252797842, 0.7790284156799316, 0.0015275066252797842, 0.9505355954170227, 0.029646333307027817, 0.012970270588994026, 0.003705791663378477, 0.9928543567657471, 0.09577028453350067, 0.07661622762680054, 0.5331212282180786, 0.006384685635566711, 0.16121330857276917, 0.0015961714088916779, 0.0031923428177833557, 0.11811668425798416, 0.0031923428177833557, 0.21611130237579346, 0.047544486820697784, 0.7347784638404846, 0.9731252789497375, 0.9950608611106873, 0.8926845192909241, 0.09613525122404099, 0.10110149532556534, 0.8950455784797668, 0.6917586922645569, 0.043120235204696655, 0.04862494766712189, 0.03761552646756172, 0.029358459636569023, 0.012844325974583626, 0.07247869670391083, 0.016514133661985397, 0.02568865194916725, 0.02018394134938717, 0.9831187725067139, 0.27225014567375183, 0.09375502169132233, 0.05108446627855301, 0.020433787256479263, 0.3155217170715332, 0.005408943630754948, 0.10397191345691681, 0.025842729955911636, 0.10817886888980865, 0.0030049686320126057, 0.3924844563007355, 0.024919649586081505, 0.04111742228269577, 0.016197770833969116, 0.0074758948758244514, 0.0074758948758244514, 0.2479505091905594, 0.006229912396520376, 0.1706995964050293, 0.004983929917216301, 0.08098886162042618, 0.9884576797485352, 0.8526079654693604, 0.005465435795485973, 0.13117045164108276, 0.005465435795485973, 0.9859450459480286, 0.13330243527889252, 0.017523324117064476, 0.46874892711639404, 0.22342237830162048, 0.1558324098587036, 0.0033511766232550144, 0.36695384979248047, 0.0033511766232550144, 0.32338854670524597, 0.005026765167713165, 0.046916473656892776, 0.22788001596927643, 0.02178264781832695, 0.13151107728481293, 0.7890664339065552, 0.06071723252534866, 0.06071723252534866, 0.8803998827934265, 0.9714558720588684, 0.9814782738685608, 0.9898270964622498, 0.9850227236747742, 0.9813273549079895, 0.970083475112915, 0.9767875075340271, 0.9885032176971436, 0.2684771716594696, 0.20378386974334717, 0.011860436759889126, 0.2792593836784363, 0.018329765647649765, 0.0032346646767109632, 0.21240964531898499, 0.0021564429625868797, 0.03296488896012306, 0.01648244448006153, 0.164824441075325, 0.7829161286354065, 0.9754279255867004, 0.11183805763721466, 0.46332910656929016, 0.415398508310318, 0.9878180027008057, 0.9724873900413513, 0.4177325367927551, 0.1184745654463768, 0.10794349014759064, 0.05879848822951317, 0.013163840398192406, 0.2492353767156601, 0.018429376184940338, 0.014919019304215908, 0.9686065316200256, 0.17558938264846802, 0.8147347569465637, 0.9715514183044434, 0.21500049531459808, 0.7607709765434265, 0.1434621810913086, 0.05738487467169762, 0.04016941040754318, 0.09181579947471619, 0.6599260568618774, 0.8929117918014526, 0.08423696458339691, 0.9729764461517334, 0.20541249215602875, 0.03423541411757469, 0.0316019207239151, 0.12377419322729111, 0.5556671023368835, 0.0316019207239151, 0.01580096036195755, 0.033170752227306366, 0.05528458580374718, 0.05528458580374718, 0.18796758353710175, 0.6191873550415039, 0.04975612461566925, 0.40008002519607544, 0.034173499792814255, 0.057511501014232635, 0.18837100267410278, 0.005834500305354595, 0.25755152106285095, 0.005834500305354595, 0.03500699996948242, 0.012502500787377357, 0.0033340000081807375, 0.8165262341499329, 0.03734899312257767, 0.07212219387292862, 0.05280374735593796, 0.006439481396228075, 0.014810808002948761, 0.08575978875160217, 0.9111977219581604, 0.4614572823047638, 0.138304203748703, 0.007979088462889194, 0.1742101013660431, 0.017288025468587875, 0.033246204257011414, 0.002659696154296398, 0.15692207217216492, 0.007979088462889194, 0.9395686388015747, 0.9862223267555237, 0.9883832335472107, 0.9849364757537842, 0.9926181435585022, 0.9790075421333313, 0.9859176278114319, 0.02061511017382145, 0.978072464466095, 0.9955617189407349, 0.16275769472122192, 0.7824888825416565, 0.018779734149575233, 0.03442951291799545, 0.07331598550081253, 0.9216867089271545, 0.027422448620200157, 0.07922040671110153, 0.14015917479991913, 0.060938771814107895, 0.04570407792925835, 0.4692285656929016, 0.01828163117170334, 0.10664284974336624, 0.051797956228256226, 0.06555477529764175, 0.11062368005514145, 0.024583039805293083, 0.614575982093811, 0.045068904757499695, 0.028680212795734406, 0.11062368005514145, 0.8227996826171875, 0.16852523386478424, 0.9783292412757874, 0.20563402771949768, 0.5270849466323853, 0.04490857943892479, 0.2198156863451004, 0.08300133794546127, 0.6936540007591248, 0.023714667186141014, 0.029643334448337555, 0.029643334448337555, 0.1363593339920044, 0.09025297313928604, 0.023840406909585, 0.010217317380011082, 0.4291273355484009, 0.2503242790699005, 0.17880305647850037, 0.01532597653567791, 0.9601945281028748, 0.0759173333644867, 0.05422666668891907, 0.8622039556503296, 0.053887754678726196, 0.8681915998458862, 0.07185033708810806, 0.15349870920181274, 0.8288930654525757, 0.9651264548301697, 0.9938488602638245, 0.9924187064170837, 0.9733704328536987, 0.9403345584869385, 0.05176153406500816, 0.48222815990448, 0.24291536211967468, 0.04168674722313881, 0.10962070524692535, 0.013895582407712936, 0.010293023660779, 0.0494065135717392, 0.010807675309479237, 0.00051465118303895, 0.009778372943401337, 0.00566116301342845, 0.009778372943401337, 0.011836977675557137, 0.0020586047321558, 0.9795652627944946, 0.018797628581523895, 0.45050641894340515, 0.5349763631820679, 0.9970725178718567, 0.9707455635070801, 0.9851853847503662, 0.9903233647346497, 0.05967900529503822, 0.9250245690345764, 0.9467339515686035, 0.9771149754524231, 0.9488580822944641, 0.12006180733442307, 0.015007725916802883, 0.6228206157684326, 0.1013021469116211, 0.05627897381782532, 0.007503862958401442, 0.07128670066595078, 0.9442175626754761, 0.9833466410636902, 0.9696570038795471, 0.002511322032660246, 0.13812270760536194, 0.1582132875919342, 0.02260189689695835, 0.6027172803878784, 0.0301358625292778, 0.0452037937939167, 0.9871760010719299, 0.9715602397918701, 0.16332533955574036, 0.09332876652479172, 0.08999559283256531, 0.03166511654853821, 0.2916523814201355, 0.31498458981513977, 0.014999265782535076, 0.05983944609761238, 0.26179757714271545, 0.00997324101626873, 0.0747993066906929, 0.03989296406507492, 0.4313426613807678, 0.06981268525123596, 0.0498662032186985, 0.7111133933067322, 0.17905732989311218, 0.10743439942598343, 0.06052587181329727, 0.4265632629394531, 0.5101466178894043, 0.9863807559013367, 0.37043941020965576, 0.4256112277507782, 0.18521970510482788, 0.01182253472507, 0.29166507720947266, 0.16174155473709106, 0.12196903675794601, 0.32772549986839294, 0.010606002993881702, 0.028636207804083824, 0.006363601889461279, 0.0021212005522102118, 0.048787616193294525, 0.9462137222290039, 0.02482776530086994, 0.02482776530086994, 0.9753585457801819, 0.9902357459068298, 0.3863888680934906, 0.61103355884552, 0.05604758486151695, 0.19616654515266418, 0.7286186218261719, 0.2521366477012634, 0.01791134662926197, 0.257647842168808, 0.2962261438369751, 0.07026759535074234, 0.10609029233455658, 0.9813356399536133, 0.08334967494010925, 0.9085114598274231, 0.9405598640441895, 0.2410823106765747, 0.17076663672924042, 0.5866336226463318, 0.4042515456676483, 0.04155857115983963, 0.03400246798992157, 0.5175930857658386, 0.9814745187759399, 0.008922495879232883, 0.008922495879232883, 0.9858396053314209, 0.9914840459823608, 0.47361814975738525, 0.5182991027832031, 0.9365130066871643, 0.031217100098729134, 0.007114556152373552, 0.739913821220398, 0.15889175236225128, 0.09248922765254974, 0.9646626114845276, 0.020524736493825912, 0.9930179119110107, 0.998772919178009, 0.9800881743431091, 0.9790090322494507, 0.9902603030204773, 0.0068451170809566975, 0.7707018256187439, 0.21904157102108002, 0.28599250316619873, 0.034516334533691406, 0.06212940439581871, 0.07396357506513596, 0.021695982664823532, 0.04141960293054581, 0.043391965329647064, 0.14891333878040314, 0.021695982664823532, 0.00394472386687994, 0.010847991332411766, 0.09467338025569916, 0.008875628933310509, 0.043391965329647064, 0.018737439066171646, 0.00197236193343997, 0.0857977494597435, 0.9879012107849121, 0.24509674310684204, 0.09877032786607742, 0.6511525511741638, 0.006304362788796425, 0.1260872483253479, 0.8573933243751526, 0.03316141292452812, 0.07461318373680115, 0.623849093914032, 0.1575167179107666, 0.06425023823976517, 0.0062177651561796665, 0.03937917947769165, 0.18375198543071747, 0.8106705546379089, 0.08929986506700516, 0.9057557582855225, 0.27372246980667114, 0.027768947184085846, 0.017851466313004494, 0.03570293262600899, 0.6426527500152588, 0.0019834961276501417, 0.9842091202735901, 0.888013482093811, 0.017760269343852997, 0.07104107737541199, 0.02368035912513733, 0.9636870622634888, 0.9705680012702942, 0.008673601783812046, 0.1821456402540207, 0.7979713678359985, 0.08347627520561218, 0.010841074399650097, 0.3382415175437927, 0.006504644639790058, 0.44665226340293884, 0.06938287615776062, 0.044448405504226685, 0.06816264241933823, 0.9116752743721008, 0.017040660604834557, 0.9684454202651978, 0.9834761023521423, 0.9906406998634338, 0.0030707363039255142, 0.534308135509491, 0.0767684131860733, 0.3838420510292053, 0.04996100440621376, 0.14710740745067596, 0.09159518033266068, 0.022204890847206116, 0.1165756806731224, 0.022204890847206116, 0.04996100440621376, 0.424668550491333, 0.07494150847196579, 0.2516471743583679, 0.02374029904603958, 0.7232877612113953, 0.9866762757301331, 0.9553611874580383, 0.026537811383605003, 0.991152286529541, 0.1055910661816597, 0.07542219012975693, 0.06787996739149094, 0.7466796636581421, 0.9834349155426025, 0.1456700563430786, 0.10133568942546844, 0.6840158700942993, 0.057001326233148575, 0.9069409966468811, 0.0910191684961319, 0.9351711869239807, 0.06132270023226738, 0.06343337893486023, 0.1860712468624115, 0.16492678225040436, 0.05497559532523155, 0.13955342769622803, 0.046517811715602875, 0.3425402343273163, 0.06525799632072449, 0.28550371527671814, 0.17130222916603088, 0.47312045097351074, 0.9718687534332275, 0.8897644281387329, 0.10323233157396317, 0.35441040992736816, 0.10904935747385025, 0.015578479506075382, 0.35635772347450256, 0.02142040990293026, 0.09152356535196304, 0.01947310008108616, 0.00973655004054308, 0.02336771972477436, 0.9554566144943237, 0.9900299906730652, 0.9890826344490051, 0.9727790951728821, 0.9961126446723938, 0.5128405094146729, 0.12774276733398438, 0.018070928752422333, 0.05857473611831665, 0.02056347019970417, 0.01744779385626316, 0.059821005910634995, 0.024925418198108673, 0.04175007715821266, 0.02367914840579033, 0.04548889026045799, 0.01744779385626316, 0.011216438375413418, 0.02056347019970417, 0.9908841848373413, 0.8506186604499817, 0.05028287693858147, 0.09637551754713058, 0.13014304637908936, 0.024519704282283783, 0.007544524036347866, 0.6243093609809875, 0.041494883596897125, 0.005658393260091543, 0.10185107588768005, 0.005658393260091543, 0.05847006291151047, 0.9639397859573364, 0.9919882416725159, 0.9846702218055725, 0.9744848012924194, 0.9856552481651306, 0.9928104877471924, 0.2450658082962036, 0.08881580084562302, 0.008223685435950756, 0.06578948348760605, 0.07730264216661453, 0.10526316612958908, 0.02138158120214939, 0.016447370871901512, 0.20394739508628845, 0.1003289595246315, 0.016447370871901512, 0.041118424385786057, 0.008223685435950756, 0.9902235865592957, 0.9606183171272278, 0.7065383195877075, 0.07437245547771454, 0.21739640831947327, 0.9645138382911682, 0.8140567541122437, 0.014717409387230873, 0.022076115012168884, 0.13429635763168335, 0.014717409387230873, 0.941318154335022, 0.05107928067445755, 0.970897912979126, 0.9029938578605652, 0.03969203680753708, 0.05457655340433121, 0.6748185753822327, 0.023065665736794472, 0.07156270742416382, 0.10349977761507034, 0.02779708430171013, 0.02779708430171013, 0.05381988734006882, 0.014194255694746971, 0.0023657092824578285, 0.8348312973976135, 0.043227508664131165, 0.021613754332065582, 0.06754298508167267, 0.008105157874524593, 0.010806877166032791, 0.010806877166032791, 0.9345455169677734, 0.027144474908709526, 0.023266693577170372, 0.007755564525723457, 0.03110758773982525, 0.2732057571411133, 0.05951016768813133, 0.08791274577379227, 0.16906297206878662, 0.02028755657374859, 0.0027050075586885214, 0.07844521850347519, 0.18935053050518036, 0.006762519013136625, 0.08385523408651352, 0.09092461317777634, 0.08613910526037216, 0.12920865416526794, 0.06221157684922218, 0.6316867470741272, 0.6682614684104919, 0.04213595390319824, 0.025133727118372917, 0.2631649076938629, 0.9915192723274231, 0.14221613109111786, 0.06447131186723709, 0.009481075219810009, 0.419063538312912, 0.27305498719215393, 0.007584860548377037, 0.08343346416950226, 0.9612761735916138, 0.032824061810970306, 0.06857491284608841, 0.9208630919456482, 0.9691291451454163, 0.9626493453979492, 0.2719530761241913, 0.059298038482666016, 0.04089519754052162, 0.5745775699615479, 0.00204475992359221, 0.02044759877026081, 0.012268560007214546, 0.01635807938873768, 0.07436376065015793, 0.5907787680625916, 0.023755090311169624, 0.017558109015226364, 0.14149770140647888, 0.023755090311169624, 0.07023243606090546, 0.017558109015226364, 0.037181880325078964, 0.004131319932639599, 0.4167761504650116, 0.003098707413300872, 0.0077467686496675014, 0.4214242100715637, 0.1363431215286255, 0.015493537299335003, 0.23014119267463684, 0.10274160653352737, 0.6328882575035095, 0.03287731111049652, 0.11548758298158646, 0.8744059801101685, 0.9875632524490356, 0.9655441641807556, 0.9881827235221863, 0.9886891841888428, 0.5914686918258667, 0.08564252406358719, 0.0441594272851944, 0.08028987050056458, 0.09701692312955856, 0.030108701437711716, 0.024086959660053253, 0.016727056354284286, 0.01338164508342743, 0.016057973727583885, 0.9720675349235535, 0.9572120904922485, 0.9495669007301331, 0.8549124002456665, 0.14248539507389069, 0.9620080590248108, 0.0349821113049984, 0.21188807487487793, 0.2038416862487793, 0.1609276533126831, 0.026821276172995567, 0.08314595371484756, 0.31112679839134216, 0.03540259599685669, 0.0027232766151428223, 0.13071727752685547, 0.10620778799057007, 0.6154605150222778, 0.029956042766571045, 0.07625174522399902, 0.045522190630435944, 0.15333791077136993, 0.1784949153661728, 0.11140957474708557, 0.07666895538568497, 0.07666895538568497, 0.06229352578520775, 0.008385666646063328, 0.2863106429576874, 0.9783363938331604, 0.9758929014205933, 0.9803229570388794, 0.9915168285369873, 0.9440984725952148, 0.9860347509384155, 0.7158439755439758, 0.07126765698194504, 0.003167451359331608, 0.022964023053646088, 0.022964023053646088, 0.09027236700057983, 0.03167451173067093, 0.025339610874652863, 0.001583725679665804, 0.003959313966333866, 0.010294216684997082, 0.03310665115714073, 0.016553325578570366, 0.7393818497657776, 0.19312213361263275, 0.005517775192856789, 0.011035550385713577, 0.9926124215126038, 0.9493325352668762, 0.9859903454780579, 0.09126752614974976, 0.8974639773368835, 0.20734341442584991, 0.7257019877433777, 0.9836660623550415, 0.9728925824165344, 0.987705409526825, 0.9785512685775757, 0.0034068573731929064, 0.08030449599027634, 0.31489098072052, 0.03358187898993492, 0.07251739501953125, 0.22387920320034027, 0.05353633314371109, 0.05548310652375221, 0.05061616748571396, 0.11193960160017014, 0.4988366663455963, 0.07892043143510818, 0.07445323467254639, 0.07147510349750519, 0.008934387937188148, 0.15486273169517517, 0.09083294868469238, 0.020846905186772346, 0.5618878602981567, 0.12885399162769318, 0.02886892668902874, 0.07393261790275574, 0.10843450576066971, 0.008449441753327847, 0.0007041201461106539, 0.030981287360191345, 0.028164805844426155, 0.011970042251050472, 0.007745321840047836, 0.010561802424490452, 0.01809505559504032, 0.21714067459106445, 0.01809505559504032, 0.7418972849845886, 0.03999940678477287, 0.9470827579498291, 0.01032242737710476, 0.001290303422138095, 0.9979522824287415, 0.024848422035574913, 0.2875317335128784, 0.46147069334983826, 0.06034616753458977, 0.06744571775197983, 0.09584391117095947, 0.13234266638755798, 0.6431026458740234, 0.22332826256752014, 0.9794824123382568, 0.9443358778953552, 0.9846733212471008, 0.9750044941902161, 0.019500089809298515, 0.977016270160675, 0.9915972948074341, 0.010992087423801422, 0.10992087423801422, 0.03847230598330498, 0.05770845711231232, 0.23083382844924927, 0.021984174847602844, 0.0494643934071064, 0.2857942581176758, 0.05770845711231232, 0.07144856452941895, 0.046716369688510895, 0.01923615299165249, 0.9860684871673584, 0.1837652623653412, 0.14070728421211243, 0.0007688922923989594, 0.025373445823788643, 0.5805137157440186, 0.003844461403787136, 0.06151138246059418, 0.0030755691695958376, 0.0007688922923989594, 0.07757261395454407, 0.010578082874417305, 0.2820822298526764, 0.5923726558685303, 0.03526027873158455, 0.10603699088096619, 0.12724439799785614, 0.00908888503909111, 0.3696146607398987, 0.033325910568237305, 0.32719987630844116, 0.02726665511727333, 0.786699116230011, 0.022666001692414284, 0.08027542382478714, 0.018888333812355995, 0.05383175238966942, 0.011333000846207142, 0.023610418662428856, 0.0009444167371839285, 0.626786470413208, 0.021298568695783615, 0.025101885199546814, 0.21450701355934143, 0.05857106298208237, 0.002281989436596632, 0.012931274250149727, 0.03270851448178291, 0.004563978873193264, 0.8110875487327576, 0.06001181900501251, 0.0928017795085907, 0.019797714427113533, 0.004640089347958565, 0.010517535731196404, 0.0006186785758472979, 0.06574232131242752, 0.1380588710308075, 0.0635509118437767, 0.18407849967479706, 0.03287116065621376, 0.01753128506243229, 0.05259385704994202, 0.006574232131242752, 0.002191410632804036, 0.2016097903251648, 0.04163680225610733, 0.02410551719367504, 0.17093004286289215, 0.9933587312698364, 0.11587167531251907, 0.010533789172768593, 0.13459841907024384, 0.08778157085180283, 0.22823208570480347, 0.021067578345537186, 0.009363368153572083, 0.025749262422323227, 0.06905483454465866, 0.09246325492858887, 0.12874630093574524, 0.019897157326340675, 0.055009786039590836, 0.4292256832122803, 0.5282777547836304, 0.9797919988632202, 0.9930102229118347, 0.9480336308479309, 0.9688101410865784, 0.5917102098464966, 0.05270165950059891, 0.04102524369955063, 0.07668564468622208, 0.08331280201673508, 0.014516624622046947, 0.06311576068401337, 0.0009467363706789911, 0.0034713665954768658, 0.03313577175140381, 0.015147781930863857, 0.0034713665954768658, 0.008205048739910126, 0.006627154536545277, 0.00536483945325017, 0.0006311575998552144, 0.9808746576309204, 0.27982544898986816, 0.706226110458374, 0.974542498588562, 0.9957481026649475, 0.9698855876922607, 0.3622867166996002, 0.11012239009141922, 0.07341492921113968, 0.42772176861763, 0.02553562819957733, 0.0015959767624735832, 0.09182361513376236, 0.8952802419662476, 0.9851627945899963, 0.26739704608917236, 0.02228308841586113, 0.6056948304176331, 0.01012867596000433, 0.032411765307188034, 0.04051470384001732, 0.01012867596000433, 0.01012867596000433, 0.018259448930621147, 0.9768805503845215, 0.10265299677848816, 0.8725504875183105, 0.02368915267288685, 0.010013937950134277, 0.055076658725738525, 0.0901254415512085, 0.6458989977836609, 0.20027875900268555, 0.9821396470069885, 0.9774816632270813, 0.9514288306236267, 0.9824849963188171, 0.25300565361976624, 0.7379331588745117, 0.9821047186851501, 0.07021450996398926, 0.058512091636657715, 0.6611866354942322, 0.11702418327331543, 0.03510725498199463, 0.05266088247299194, 0.9783055782318115, 0.9726811051368713, 0.23984920978546143, 0.19712303578853607, 0.3058805763721466, 0.07477080076932907, 0.01553679071366787, 0.0038841976784169674, 0.12914957106113434, 0.0038841976784169674, 0.021363086998462677, 0.007768395356833935, 0.9820263385772705, 0.13510118424892426, 0.8061037659645081, 0.006755059119313955, 0.04953709989786148, 0.08229035139083862, 0.9051938652992249, 0.9792040586471558, 0.995186448097229, 0.9981985688209534, 0.996375560760498, 0.9789578914642334, 0.9639867544174194, 0.11178801208734512, 0.07825160771608353, 0.14532440900802612, 0.4024368226528168, 0.04471520334482193, 0.2012184113264084, 0.985054612159729, 0.9814941883087158, 0.9635276794433594, 0.23856894671916962, 0.4344466030597687, 0.2787489891052246, 0.04520253837108612, 0.19967634975910187, 0.15856651961803436, 0.6401389241218567, 0.035697076469659805, 0.40353214740753174, 0.007760233711451292, 0.10709122568368912, 0.24522338807582855, 0.04656140133738518, 0.017072513699531555, 0.13347601890563965, 0.759134829044342, 0.06706137955188751, 0.1716771274805069, 0.979817271232605, 0.9822638630867004, 0.143776997923851, 0.08053488284349442, 0.2766842544078827, 0.04940790310502052, 0.03260921314358711, 0.07015921920537949, 0.07262961566448212, 0.028162503615021706, 0.08992238342761993, 0.008893421851098537, 0.051878295838832855, 0.018775003030896187, 0.07411184906959534, 0.0014822370139881968, 0.6030128002166748, 0.06589212268590927, 0.3015064001083374, 0.027954235672950745, 0.7870054841041565, 0.11529379338026047, 0.002506386721506715, 0.012531934306025505, 0.04762135073542595, 0.030076641589403152, 0.016889113932847977, 0.08314640820026398, 0.18188276886940002, 0.007145394571125507, 0.001948743942193687, 0.12796752154827118, 0.18123318254947662, 0.025333670899271965, 0.07210353016853333, 0.04612027481198311, 0.02663283422589302, 0.1552499383687973, 0.07405227422714233, 0.3492794632911682, 0.01141436118632555, 0.013697233982384205, 0.0707690417766571, 0.01826297864317894, 0.08218340575695038, 0.3743910491466522, 0.013697233982384205, 0.015980105847120285, 0.047940317541360855, 0.992591381072998, 0.9565175771713257, 0.05533146858215332, 0.08607117086648941, 0.043035585433244705, 0.11066293716430664, 0.02459176443517208, 0.5840544104576111, 0.02459176443517208, 0.07992323487997055, 0.06554103642702103, 0.013108206912875175, 0.11797386407852173, 0.004369402304291725, 0.02621641382575035, 0.5549140572547913, 0.13108207285404205, 0.09175744652748108, 0.9820032119750977, 0.01759920082986355, 0.45757922530174255, 0.19359122216701508, 0.32851842045783997, 0.9866498112678528, 0.9919527173042297, 0.9861233830451965, 0.6206923723220825, 0.031034618616104126, 0.06413821130990982, 0.04655192792415619, 0.028965644538402557, 0.20172502100467682, 0.005172436591237783, 0.9909906387329102, 0.17221751809120178, 0.027302777394652367, 0.04830491542816162, 0.749776303768158, 0.0021002136636525393, 0.9840432405471802, 0.20881596207618713, 0.7803122997283936, 0.3565130829811096, 0.6355233192443848, 0.9755415320396423, 0.011343506164848804, 0.16624249517917633, 0.04156062379479408, 0.7896518707275391, 0.9780560731887817, 0.9913040995597839, 0.9522783756256104, 0.9785649180412292, 0.9823672771453857, 0.9886717796325684, 0.9685590267181396, 0.6457391977310181, 0.05739903822541237, 0.10151126235723495, 0.036140136420726776, 0.05314726009964943, 0.020727431401610374, 0.036671608686447144, 0.013818287290632725, 0.034545719623565674, 0.0005314726149663329, 0.9629969596862793, 0.03125377744436264, 0.05289100483059883, 0.427936315536499, 0.2981129288673401, 0.02163722924888134, 0.036062050610780716, 0.12741924822330475, 0.010765333659946918, 0.03947288915514946, 0.7822809219360352, 0.16865690052509308, 0.2089051604270935, 0.7102774977684021, 0.07759334146976471, 0.9840415716171265, 0.26851803064346313, 0.6511561870574951, 0.05370360612869263, 0.026851803064346313, 0.6051981449127197, 0.10928235948085785, 0.037306737154722214, 0.06443890929222107, 0.0682072639465332, 0.001130507094785571, 0.027885843068361282, 0.007536714430898428, 0.024494322016835213, 0.001884178607724607, 0.008667221292853355, 0.015827100723981857, 0.013942921534180641, 0.0030146858189255, 0.010551400482654572, 0.16701222956180573, 0.0016535863978788257, 0.008267931640148163, 0.7871071100234985, 0.03307172656059265, 0.0016535863978788257, 0.9971815943717957, 0.9955176711082458, 0.177800253033638, 0.7758556604385376, 0.037715207785367966, 0.059636667370796204, 0.9395818114280701, 0.22666685283184052, 0.010022684000432491, 0.08712025731801987, 0.5304312705993652, 0.14494343101978302, 0.031161131337285042, 0.11425748467445374, 0.8413505554199219, 0.10541108250617981, 0.882817804813385, 0.0807701125741005, 0.04038505628705025, 0.04038505628705025, 0.8346245288848877, 0.9954501986503601, 0.9424036145210266, 0.05451921746134758, 0.2975851893424988, 0.20539847016334534, 0.08005688339471817, 0.09865595400333405, 0.0420500785112381, 0.05094528943300247, 0.05660587549209595, 0.014555796980857849, 0.031537558883428574, 0.07520495355129242, 0.0024259660858660936, 0.014555796980857849, 0.030728904530405998, 0.9667785167694092, 0.014122290536761284, 0.2118343561887741, 0.772018551826477, 0.015482361428439617, 0.17546676099300385, 0.09547456353902817, 0.44640809297561646, 0.036125510931015015, 0.22965502738952637, 0.11298149824142456, 0.08549951016902924, 0.14809736609458923, 0.5328451991081238, 0.012214216403663158, 0.045803312212228775, 0.0030535541009157896, 0.03206231817603111, 0.01832132413983345, 0.006107108201831579, 0.4761612117290497, 0.02452087588608265, 0.09580249339342117, 0.04048795998096466, 0.030223404988646507, 0.015396829694509506, 0.16936512291431427, 0.030793659389019012, 0.038777198642492294, 0.05987655743956566, 0.0011405058903619647, 0.0028512647841125727, 0.013686070218682289, 0.21646538376808167, 0.1954900622367859, 0.048662763088941574, 0.2861034870147705, 0.0922914445400238, 0.015941249206662178, 0.020975328981876373, 0.03356052562594414, 0.0067121051251888275, 0.08222328871488571, 0.9880303144454956, 0.8360769748687744, 0.011986766941845417, 0.008990075439214706, 0.023973533883690834, 0.02097684144973755, 0.05394045263528824, 0.0029966917354613543, 0.03895699232816696, 0.6179400682449341, 0.19014722108840942, 0.009530418552458286, 0.0776268020272255, 0.015832792967557907, 0.0004611492913682014, 0.005226358771324158, 0.05656764656305313, 0.008761836215853691, 0.0006148657412268221, 0.0007685821619816124, 0.0006148657412268221, 0.0006148657412268221, 0.015217926353216171, 0.98628169298172, 0.9635252952575684, 0.18594881892204285, 0.07242217659950256, 0.08220895379781723, 0.06850746273994446, 0.017616204917430878, 0.0332750529050827, 0.47759488224983215, 0.005872067995369434, 0.05676332488656044, 0.9729111194610596, 0.9942694902420044, 0.9495060443878174, 0.9668681621551514, 0.9947823882102966, 0.9875940084457397, 0.9784137606620789, 0.9849659204483032, 0.9936921000480652, 0.28958532214164734, 0.027942443266510963, 0.0019051666604354978, 0.01143100019544363, 0.10414911061525345, 0.06668083369731903, 0.12256572395563126, 0.35563111305236816, 0.016511444002389908, 0.0025402221363037825, 0.989115834236145, 0.06825243681669235, 0.39400267601013184, 0.37849077582359314, 0.1582215577363968, 0.4052310883998871, 0.12233391404151917, 0.06116695702075958, 0.3975852429866791], \"Term\": [\"accelerators\", \"access\", \"access\", \"access\", \"access\", \"access\", \"access\", \"acquired\", \"acquired\", \"action\", \"action\", \"action\", \"action\", \"action\", \"action\", \"action\", \"adams\", \"adams\", \"adaptec\", \"address\", \"address\", \"address\", \"address\", \"address\", \"address\", \"address\", \"adirondack\", \"administration\", \"administration\", \"administration\", \"administration\", \"adobe\", \"advance\", \"advance\", \"advance\", \"advance\", \"advance\", \"advance\", \"advance\", \"advisor\", \"aerospace\", \"agencies\", \"agencies\", \"agencies\", \"aids\", \"aircraft\", \"algorithm\", \"algorithm\", \"allergic\", \"allocation\", \"alomar\", \"also\", \"also\", \"also\", \"also\", \"also\", \"also\", \"also\", \"also\", \"also\", \"also\", \"also\", \"also\", \"also\", \"also\", \"also\", \"also\", \"aluminum\", \"aluminum\", \"amateur\", \"amateur\", \"amendment\", \"american\", \"american\", \"american\", \"american\", \"american\", \"american\", \"american\", \"amiga\", \"amiga\", \"among\", \"among\", \"among\", \"among\", \"among\", \"among\", \"among\", \"among\", \"among\", \"amour\", \"anecdotal\", \"ankara\", \"anon\", \"anonymous\", \"anonymous\", \"answer\", \"answer\", \"answer\", \"answer\", \"answer\", \"answer\", \"answer\", \"answer\", \"anti\", \"anti\", \"anti\", \"anti\", \"anti\", \"anti\", \"anti\", \"anyone\", \"anyone\", \"anyone\", \"anyone\", \"anyone\", \"anyone\", \"anyone\", \"anyone\", \"anyone\", \"anyway\", \"anyway\", \"anyway\", \"anyway\", \"anyway\", \"anyway\", \"apartment\", \"apple\", \"apple\", \"apple\", \"application\", \"application\", \"application\", \"application\", \"application\", \"appreciated\", \"appreciated\", \"appreciated\", \"appreciated\", \"appreciated\", \"april\", \"april\", \"april\", \"april\", \"april\", \"april\", \"april\", \"april\", \"april\", \"arab\", \"arabs\", \"arena\", \"argic\", \"argument\", \"argument\", \"argument\", \"argument\", \"argument\", \"arguments\", \"arguments\", \"arguments\", \"arguments\", \"ariane\", \"armenia\", \"armenian\", \"armenian\", \"armenians\", \"armenians\", \"arms\", \"arms\", \"arms\", \"arms\", \"army\", \"army\", \"army\", \"army\", \"army\", \"around\", \"around\", \"around\", \"around\", \"around\", \"around\", \"around\", \"around\", \"around\", \"around\", \"around\", \"around\", \"asala\", \"assertion\", \"assists\", \"astro\", \"astronomical\", \"astronomy\", \"asynchronous\", \"atheism\", \"atheism\", \"atlanta\", \"atlanta\", \"atlanta\", \"atmosphere\", \"atmospheric\", \"atoms\", \"aunt\", \"authentication\", \"auto\", \"auto\", \"auto\", \"auto\", \"automobile\", \"automobile\", \"autos\", \"available\", \"available\", \"available\", \"available\", \"available\", \"available\", \"available\", \"available\", \"azerbaijan\", \"azerbaijan\", \"azerbaijani\", \"azerbaijani\", \"azeri\", \"azeris\", \"back\", \"back\", \"back\", \"back\", \"back\", \"back\", \"back\", \"back\", \"back\", \"back\", \"back\", \"back\", \"baerga\", \"balcony\", \"balloon\", \"baltimore\", \"banned\", \"baseball\", \"based\", \"based\", \"based\", \"based\", \"based\", \"based\", \"based\", \"based\", \"based\", \"based\", \"based\", \"based\", \"batf\", \"batteries\", \"battery\", \"batting\", \"baud\", \"bedroom\", \"belief\", \"belief\", \"beliefs\", \"believe\", \"believe\", \"believe\", \"believe\", \"believe\", \"believe\", \"believe\", \"believer\", \"bell\", \"bell\", \"bell\", \"bell\", \"bell\", \"bell\", \"best\", \"best\", \"best\", \"best\", \"best\", \"best\", \"best\", \"best\", \"best\", \"best\", \"better\", \"better\", \"better\", \"better\", \"better\", \"better\", \"better\", \"better\", \"better\", \"bible\", \"biblical\", \"bicycle\", \"bike\", \"bike\", \"bikes\", \"bikes\", \"bill\", \"bill\", \"bill\", \"bill\", \"bill\", \"bill\", \"bill\", \"billion\", \"bios\", \"bits\", \"bits\", \"bits\", \"block\", \"block\", \"block\", \"block\", \"block\", \"block\", \"block\", \"block\", \"blood\", \"blood\", \"blood\", \"blood\", \"blood\", \"blood\", \"blood\", \"board\", \"board\", \"board\", \"board\", \"board\", \"bone\", \"book\", \"book\", \"book\", \"book\", \"book\", \"boot\", \"boot\", \"borland\", \"bosnia\", \"bother\", \"bother\", \"bought\", \"bought\", \"bought\", \"bought\", \"brake\", \"brands\", \"braves\", \"braves\", \"briefing\", \"brind\", \"britain\", \"brown\", \"brown\", \"brown\", \"brown\", \"brown\", \"brute\", \"bucks\", \"budget\", \"budget\", \"budget\", \"buffalo\", \"buffalo\", \"buffalo\", \"buffer\", \"buffer\", \"build\", \"build\", \"build\", \"build\", \"build\", \"build\", \"build\", \"building\", \"building\", \"building\", \"building\", \"building\", \"building\", \"building\", \"building\", \"building\", \"bullets\", \"burned\", \"burned\", \"burning\", \"burning\", \"burning\", \"burst\", \"burst\", \"bury\", \"byte\", \"byte\", \"byte\", \"bytes\", \"cable\", \"cable\", \"cache\", \"cadre\", \"calgary\", \"calgary\", \"calm\", \"came\", \"came\", \"came\", \"came\", \"came\", \"came\", \"came\", \"came\", \"canada\", \"canada\", \"canada\", \"canada\", \"canada\", \"canada\", \"canada\", \"canada\", \"canadian\", \"canadian\", \"canadian\", \"canadian\", \"canadian\", \"canadiens\", \"cancer\", \"candida\", \"capitol\", \"captain\", \"captain\", \"captain\", \"card\", \"cardinals\", \"cards\", \"cards\", \"cards\", \"cards\", \"cars\", \"cars\", \"cars\", \"carson\", \"case\", \"case\", \"case\", \"case\", \"case\", \"case\", \"case\", \"case\", \"case\", \"case\", \"case\", \"case\", \"case\", \"cassels\", \"catbyte\", \"catcher\", \"catholic\", \"cause\", \"cause\", \"cause\", \"cause\", \"cause\", \"cause\", \"cause\", \"cause\", \"cause\", \"caused\", \"caused\", \"caused\", \"caused\", \"causing\", \"causing\", \"causing\", \"causing\", \"cellular\", \"centaur\", \"center\", \"center\", \"center\", \"center\", \"center\", \"center\", \"center\", \"center\", \"centris\", \"challenges\", \"char\", \"character\", \"character\", \"character\", \"character\", \"character\", \"character\", \"characters\", \"characters\", \"chastity\", \"check\", \"check\", \"check\", \"check\", \"check\", \"check\", \"check\", \"check\", \"check\", \"chelios\", \"chest\", \"chicago\", \"chicago\", \"chicago\", \"children\", \"children\", \"children\", \"children\", \"children\", \"children\", \"chinese\", \"chinese\", \"chip\", \"chip\", \"chips\", \"chips\", \"chips\", \"chipset\", \"choosing\", \"chop\", \"christ\", \"christian\", \"christian\", \"christianity\", \"christians\", \"chronic\", \"chronic\", \"church\", \"cica\", \"cincinnati\", \"cipher\", \"ciphertext\", \"circuit\", \"circuit\", \"circuits\", \"circuits\", \"citizen\", \"citizens\", \"citizens\", \"civil\", \"claim\", \"claim\", \"claim\", \"claim\", \"classified\", \"clemens\", \"client\", \"client\", \"clients\", \"clinical\", \"clipper\", \"cluster\", \"cmos\", \"coach\", \"coach\", \"coaching\", \"coat\", \"code\", \"code\", \"code\", \"code\", \"code\", \"code\", \"code\", \"color\", \"colormap\", \"colors\", \"colors\", \"combat\", \"comics\", \"commercial\", \"commercial\", \"commercial\", \"communications\", \"communications\", \"communications\", \"comp\", \"comp\", \"comp\", \"compass\", \"complaint\", \"computer\", \"computer\", \"computer\", \"computer\", \"computer\", \"conception\", \"conclusion\", \"conclusion\", \"conclusion\", \"condition\", \"condition\", \"condition\", \"condition\", \"condition\", \"condition\", \"condition\", \"condition\", \"conductor\", \"conference\", \"conference\", \"conference\", \"conference\", \"conference\", \"congress\", \"congress\", \"congress\", \"connector\", \"contact\", \"contact\", \"contact\", \"contact\", \"contact\", \"contact\", \"contact\", \"contest\", \"contest\", \"context\", \"context\", \"context\", \"context\", \"contracts\", \"contrib\", \"control\", \"control\", \"control\", \"control\", \"control\", \"control\", \"control\", \"control\", \"control\", \"control\", \"controller\", \"cooling\", \"cooper\", \"coprocessor\", \"corn\", \"cost\", \"cost\", \"cost\", \"cost\", \"cost\", \"cost\", \"cost\", \"cost\", \"could\", \"could\", \"could\", \"could\", \"could\", \"could\", \"could\", \"could\", \"could\", \"could\", \"could\", \"could\", \"could\", \"could\", \"countersteering\", \"countries\", \"countries\", \"countries\", \"countries\", \"country\", \"country\", \"country\", \"country\", \"couples\", \"courtnall\", \"cover\", \"cover\", \"cover\", \"cover\", \"cover\", \"cover\", \"cover\", \"cover\", \"cover\", \"cover\", \"cover\", \"cpsr\", \"crime\", \"crime\", \"crime\", \"crimes\", \"criminal\", \"criminal\", \"criminal\", \"crowd\", \"crypt\", \"crypt\", \"cryptanalysis\", \"cryptanalysis\", \"crypto\", \"cryptographic\", \"cryptography\", \"cryptology\", \"cryptosystem\", \"ctrl\", \"cubs\", \"cups\", \"current\", \"current\", \"current\", \"current\", \"current\", \"current\", \"current\", \"current\", \"current\", \"current\", \"current\", \"current\", \"current\", \"current\", \"cursor\", \"cycle\", \"cycle\", \"cycle\", \"cyprus\", \"dallas\", \"dallas\", \"damage\", \"damage\", \"damage\", \"damage\", \"damage\", \"damage\", \"data\", \"data\", \"data\", \"data\", \"data\", \"data\", \"data\", \"data\", \"data\", \"database\", \"daughter\", \"daughter\", \"davidians\", \"deaf\", \"dealer\", \"dealer\", \"dealer\", \"dealer\", \"dealer\", \"dealer\", \"dealership\", \"deaths\", \"decrypt\", \"decryption\", \"defamation\", \"defaults\", \"defend\", \"defensive\", \"defensive\", \"deficit\", \"definition\", \"definition\", \"definition\", \"definition\", \"definition\", \"definition\", \"definitions\", \"definitions\", \"demo\", \"demo\", \"democratic\", \"denning\", \"density\", \"department\", \"department\", \"department\", \"department\", \"department\", \"department\", \"dept\", \"designated\", \"detector\", \"detectors\", \"detroit\", \"detroit\", \"development\", \"development\", \"development\", \"development\", \"diamond\", \"different\", \"different\", \"different\", \"different\", \"different\", \"different\", \"different\", \"different\", \"different\", \"different\", \"different\", \"digit\", \"digital\", \"digital\", \"digital\", \"dineen\", \"disclosure\", \"disease\", \"disease\", \"disease\", \"disk\", \"disk\", \"disk\", \"display\", \"display\", \"division\", \"division\", \"division\", \"division\", \"division\", \"division\", \"doctor\", \"doctor\", \"doctor\", \"doctrine\", \"dodge\", \"dodgers\", \"dole\", \"dorothy\", \"dram\", \"dreams\", \"drive\", \"drive\", \"drive\", \"drive\", \"driver\", \"driver\", \"driver\", \"driver\", \"driver\", \"driver\", \"drivers\", \"drivers\", \"drivers\", \"drivers\", \"drives\", \"driving\", \"driving\", \"driving\", \"driving\", \"drug\", \"drug\", \"drugs\", \"drugs\", \"dtmedin\", \"earth\", \"earth\", \"earth\", \"earth\", \"earth\", \"eaten\", \"echl\", \"educated\", \"eisa\", \"electrical\", \"electrical\", \"electrical\", \"electrical\", \"electrical\", \"electricity\", \"electronic\", \"electronic\", \"emacs\", \"email\", \"email\", \"email\", \"email\", \"email\", \"encrypt\", \"encrypted\", \"encryption\", \"enforcement\", \"enforcement\", \"enforcement\", \"engage\", \"engine\", \"engine\", \"engine\", \"engines\", \"england\", \"england\", \"enough\", \"enough\", \"enough\", \"enough\", \"enough\", \"enough\", \"enough\", \"enough\", \"enough\", \"entries\", \"entry\", \"entry\", \"entry\", \"error\", \"error\", \"error\", \"error\", \"error\", \"error\", \"error\", \"erzurum\", \"escrow\", \"escrowed\", \"espn\", \"eternal\", \"ethernet\", \"even\", \"even\", \"even\", \"even\", \"even\", \"even\", \"even\", \"even\", \"even\", \"even\", \"even\", \"evidence\", \"evidence\", \"evidence\", \"evidence\", \"example\", \"example\", \"example\", \"example\", \"example\", \"example\", \"example\", \"example\", \"example\", \"example\", \"example\", \"excellent\", \"excellent\", \"excellent\", \"excellent\", \"excellent\", \"excellent\", \"excellent\", \"exclusively\", \"exhaust\", \"exist\", \"exist\", \"exist\", \"exist\", \"exist\", \"exist\", \"existence\", \"existence\", \"existence\", \"explorer\", \"expo\", \"export\", \"export\", \"expos\", \"expose\", \"expose\", \"eyes\", \"eyes\", \"eyes\", \"eyes\", \"face\", \"face\", \"face\", \"face\", \"face\", \"fact\", \"fact\", \"fact\", \"fact\", \"fact\", \"fact\", \"fact\", \"fact\", \"fact\", \"fact\", \"faith\", \"fallacy\", \"fans\", \"fans\", \"fascist\", \"father\", \"father\", \"features\", \"features\", \"features\", \"features\", \"features\", \"features\", \"federalist\", \"feet\", \"feet\", \"feet\", \"fever\", \"fielder\", \"fielding\", \"file\", \"file\", \"file\", \"file\", \"file\", \"filename\", \"files\", \"files\", \"files\", \"files\", \"filters\", \"finals\", \"financial\", \"finland\", \"finland\", \"firearms\", \"first\", \"first\", \"first\", \"first\", \"first\", \"first\", \"first\", \"first\", \"first\", \"first\", \"first\", \"first\", \"first\", \"first\", \"first\", \"first\", \"first\", \"first\", \"first\", \"flames\", \"flames\", \"flames\", \"flames\", \"flames\", \"flavor\", \"fleury\", \"floor\", \"floor\", \"floor\", \"floppy\", \"floppy\", \"floppy\", \"florida\", \"florida\", \"flyers\", \"flyers\", \"flyers\", \"folks\", \"folks\", \"folks\", \"folks\", \"font\", \"font\", \"food\", \"food\", \"food\", \"food\", \"food\", \"food\", \"foods\", \"football\", \"force\", \"force\", \"force\", \"force\", \"force\", \"force\", \"force\", \"force\", \"format\", \"format\", \"format\", \"format\", \"forsale\", \"francis\", \"freedom\", \"freedom\", \"freedom\", \"freeware\", \"front\", \"front\", \"front\", \"front\", \"front\", \"front\", \"front\", \"fuel\", \"fuel\", \"fuel\", \"funding\", \"funds\", \"funds\", \"gainey\", \"game\", \"game\", \"game\", \"games\", \"games\", \"games\", \"games\", \"garage\", \"gateway\", \"gateway\", \"gaza\", \"gear\", \"gear\", \"generator\", \"genocide\", \"georgia\", \"georgia\", \"gerald\", \"gerard\", \"german\", \"german\", \"german\", \"german\", \"german\", \"german\", \"germany\", \"germany\", \"germany\", \"germany\", \"getting\", \"getting\", \"getting\", \"getting\", \"getting\", \"getting\", \"getting\", \"getting\", \"ghetto\", \"gilmour\", \"gilmour\", \"girl\", \"glutamate\", \"goal\", \"goal\", \"goal\", \"goal\", \"goal\", \"goal\", \"goal\", \"goalies\", \"goals\", \"goals\", \"goals\", \"goals\", \"goals\", \"goaltender\", \"goddess\", \"going\", \"going\", \"going\", \"going\", \"good\", \"good\", \"good\", \"good\", \"good\", \"good\", \"good\", \"good\", \"good\", \"gordon\", \"gospel\", \"gotta\", \"government\", \"government\", \"government\", \"government\", \"governments\", \"governments\", \"grams\", \"graphics\", \"graphics\", \"graphics\", \"graphics\", \"grass\", \"greece\", \"greek\", \"greek\", \"ground\", \"ground\", \"ground\", \"ground\", \"ground\", \"group\", \"group\", \"group\", \"group\", \"group\", \"group\", \"group\", \"group\", \"group\", \"group\", \"group\", \"group\", \"guess\", \"guess\", \"guess\", \"guess\", \"guidelines\", \"guidelines\", \"guns\", \"guns\", \"guns\", \"habs\", \"hamburgers\", \"hanging\", \"hanging\", \"hanging\", \"hanging\", \"happened\", \"happened\", \"happened\", \"happened\", \"happened\", \"hard\", \"hard\", \"hard\", \"hard\", \"hard\", \"hard\", \"hard\", \"hard\", \"hartford\", \"hash\", \"hawks\", \"head\", \"head\", \"head\", \"head\", \"head\", \"head\", \"head\", \"head\", \"head\", \"head\", \"headaches\", \"heal\", \"health\", \"heaven\", \"heck\", \"hell\", \"hell\", \"hell\", \"hellman\", \"helmet\", \"help\", \"help\", \"help\", \"help\", \"help\", \"help\", \"help\", \"help\", \"help\", \"help\", \"help\", \"henrik\", \"hicnet\", \"high\", \"high\", \"high\", \"high\", \"high\", \"high\", \"high\", \"high\", \"high\", \"high\", \"high\", \"high\", \"high\", \"high\", \"history\", \"history\", \"history\", \"history\", \"history\", \"history\", \"history\", \"hitter\", \"hitters\", \"hockey\", \"holy\", \"home\", \"home\", \"home\", \"home\", \"home\", \"home\", \"home\", \"home\", \"homeland\", \"homers\", \"homicide\", \"honda\", \"hong\", \"hook\", \"hour\", \"hour\", \"hour\", \"hour\", \"houston\", \"however\", \"however\", \"however\", \"however\", \"however\", \"however\", \"however\", \"however\", \"however\", \"however\", \"however\", \"however\", \"however\", \"however\", \"hulk\", \"hull\", \"human\", \"human\", \"human\", \"human\", \"human\", \"human\", \"human\", \"humor\", \"hussein\", \"hypothesis\", \"icon\", \"idaho\", \"ieee\", \"igor\", \"igor\", \"iisi\", \"illness\", \"image\", \"image\", \"image\", \"image\", \"impressed\", \"includes\", \"includes\", \"includes\", \"includes\", \"includes\", \"includes\", \"includes\", \"includes\", \"income\", \"industry\", \"industry\", \"industry\", \"infections\", \"infield\", \"info\", \"info\", \"info\", \"info\", \"info\", \"info\", \"information\", \"information\", \"information\", \"information\", \"information\", \"information\", \"information\", \"information\", \"information\", \"information\", \"ingr\", \"init\", \"innings\", \"input\", \"input\", \"input\", \"insurance\", \"insurance\", \"insurance\", \"intake\", \"integration\", \"intellect\", \"internet\", \"internet\", \"internet\", \"internet\", \"intersection\", \"invalid\", \"investment\", \"islam\", \"israel\", \"israeli\", \"israelis\", \"istanbul\", \"jagr\", \"jeff\", \"jeff\", \"jeff\", \"jeff\", \"jeff\", \"jeff\", \"jersey\", \"jersey\", \"jesus\", \"jews\", \"jews\", \"jews\", \"jobs\", \"jobs\", \"jobs\", \"john\", \"john\", \"john\", \"john\", \"john\", \"john\", \"john\", \"john\", \"jpeg\", \"judas\", \"jumper\", \"jumpers\", \"june\", \"june\", \"june\", \"june\", \"jupiter\", \"justice\", \"justice\", \"justice\", \"karabakh\", \"karina\", \"kent\", \"kent\", \"keyboards\", \"keys\", \"keys\", \"keys\", \"kidney\", \"killed\", \"killed\", \"killed\", \"killed\", \"kind\", \"kind\", \"kind\", \"kind\", \"kind\", \"kind\", \"kind\", \"kind\", \"kings\", \"kings\", \"kings\", \"kitchen\", \"know\", \"know\", \"know\", \"know\", \"know\", \"know\", \"know\", \"know\", \"knowledge\", \"knowledge\", \"knowledge\", \"knowledge\", \"knowledge\", \"knowledge\", \"knowledge\", \"knowledge\", \"kong\", \"kurdish\", \"kurds\", \"lamp\", \"land\", \"land\", \"land\", \"land\", \"land\", \"laptop\", \"last\", \"last\", \"last\", \"last\", \"last\", \"last\", \"last\", \"last\", \"last\", \"last\", \"last\", \"last\", \"last\", \"last\", \"later\", \"later\", \"later\", \"later\", \"later\", \"later\", \"later\", \"later\", \"later\", \"latin\", \"laughter\", \"launch\", \"launch\", \"launcher\", \"launchers\", \"launches\", \"laws\", \"laws\", \"laws\", \"laws\", \"layout\", \"lciii\", \"league\", \"lebanese\", \"lebanon\", \"left\", \"left\", \"left\", \"left\", \"left\", \"left\", \"left\", \"left\", \"left\", \"left\", \"left\", \"left\", \"lemieux\", \"less\", \"less\", \"less\", \"less\", \"less\", \"less\", \"less\", \"less\", \"less\", \"less\", \"letting\", \"libraries\", \"libraries\", \"libraries\", \"life\", \"life\", \"life\", \"life\", \"life\", \"life\", \"life\", \"light\", \"light\", \"light\", \"light\", \"light\", \"light\", \"light\", \"light\", \"like\", \"like\", \"like\", \"like\", \"like\", \"like\", \"like\", \"like\", \"like\", \"like\", \"like\", \"like\", \"like\", \"lindros\", \"lindros\", \"line\", \"line\", \"line\", \"line\", \"line\", \"line\", \"line\", \"line\", \"line\", \"line\", \"line\", \"line\", \"line\", \"line\", \"line\", \"lines\", \"lines\", \"lines\", \"lines\", \"lines\", \"lines\", \"lines\", \"lines\", \"lines\", \"lines\", \"lines\", \"lineup\", \"list\", \"list\", \"list\", \"list\", \"list\", \"list\", \"list\", \"list\", \"list\", \"list\", \"list\", \"list\", \"list\", \"listserv\", \"little\", \"little\", \"little\", \"little\", \"little\", \"little\", \"little\", \"little\", \"little\", \"little\", \"little\", \"little\", \"loading\", \"lock\", \"lock\", \"locks\", \"logic\", \"logic\", \"logic\", \"logic\", \"logic\", \"logic\", \"lopez\", \"lord\", \"lost\", \"lost\", \"lost\", \"lost\", \"lost\", \"lost\", \"lost\", \"lost\", \"lost\", \"love\", \"love\", \"love\", \"love\", \"love\", \"love\", \"lunar\", \"lunar\", \"lyme\", \"lyuda\", \"magellan\", \"mail\", \"mail\", \"mail\", \"mail\", \"mailing\", \"mailing\", \"mainstream\", \"make\", \"make\", \"make\", \"make\", \"make\", \"make\", \"make\", \"make\", \"make\", \"make\", \"make\", \"make\", \"mamma\", \"manager\", \"manager\", \"manager\", \"manager\", \"manager\", \"manager\", \"managing\", \"many\", \"many\", \"many\", \"many\", \"many\", \"many\", \"many\", \"many\", \"many\", \"many\", \"many\", \"many\", \"many\", \"marina\", \"mark\", \"mark\", \"mark\", \"mark\", \"mark\", \"mark\", \"mark\", \"mark\", \"mark\", \"mark\", \"market\", \"market\", \"market\", \"market\", \"market\", \"market\", \"marriage\", \"mars\", \"mask\", \"mask\", \"massacre\", \"massacres\", \"matthew\", \"matthew\", \"maybe\", \"maybe\", \"maybe\", \"maybe\", \"maybe\", \"maybe\", \"maybe\", \"meaning\", \"meaning\", \"meaning\", \"meaning\", \"meaning\", \"meaningless\", \"meaningless\", \"medical\", \"medical\", \"medicine\", \"medicine\", \"megs\", \"members\", \"members\", \"members\", \"members\", \"members\", \"members\", \"memory\", \"memory\", \"memory\", \"memory\", \"memory\", \"memory\", \"mercedes\", \"message\", \"message\", \"message\", \"message\", \"message\", \"message\", \"message\", \"message\", \"messier\", \"methanol\", \"methodology\", \"mets\", \"microdistrict\", \"might\", \"might\", \"might\", \"might\", \"might\", \"might\", \"might\", \"might\", \"might\", \"might\", \"might\", \"miles\", \"miles\", \"miles\", \"miles\", \"military\", \"military\", \"military\", \"military\", \"military\", \"military\", \"militia\", \"militia\", \"million\", \"million\", \"million\", \"million\", \"million\", \"million\", \"million\", \"minister\", \"minnesota\", \"minnesota\", \"mission\", \"mission\", \"mission\", \"missions\", \"mode\", \"mode\", \"mode\", \"model\", \"model\", \"model\", \"model\", \"model\", \"model\", \"model\", \"model\", \"model\", \"modem\", \"modem\", \"modems\", \"moncton\", \"monitor\", \"monitor\", \"monitor\", \"monitor\", \"monitors\", \"monitors\", \"montreal\", \"montreal\", \"moon\", \"moon\", \"moon\", \"morality\", \"morality\", \"morris\", \"morris\", \"motherboard\", \"motif\", \"motor\", \"motor\", \"motor\", \"motorcycle\", \"motorola\", \"motorola\", \"motorola\", \"motorola\", \"motorola\", \"mounting\", \"mouse\", \"mouse\", \"much\", \"much\", \"much\", \"much\", \"much\", \"much\", \"much\", \"much\", \"much\", \"much\", \"much\", \"much\", \"much\", \"mullen\", \"murder\", \"murder\", \"murphy\", \"murphy\", \"murphy\", \"museum\", \"muslim\", \"muslim\", \"must\", \"must\", \"must\", \"must\", \"must\", \"must\", \"must\", \"must\", \"must\", \"must\", \"must\", \"must\", \"mydisplay\", \"myers\", \"name\", \"name\", \"name\", \"name\", \"name\", \"name\", \"name\", \"name\", \"name\", \"nasa\", \"nasa\", \"national\", \"national\", \"national\", \"national\", \"national\", \"national\", \"national\", \"natural\", \"natural\", \"natural\", \"natural\", \"natural\", \"natural\", \"nature\", \"nature\", \"nature\", \"nature\", \"nature\", \"nature\", \"naval\", \"naval\", \"naval\", \"navy\", \"navy\", \"navy\", \"nazi\", \"nazi\", \"nazis\", \"nazis\", \"neck\", \"need\", \"need\", \"need\", \"need\", \"need\", \"need\", \"need\", \"need\", \"need\", \"need\", \"need\", \"need\", \"neely\", \"nerve\", \"networks\", \"neutral\", \"neutral\", \"neutral\", \"neutral\", \"news\", \"news\", \"news\", \"news\", \"news\", \"news\", \"news\", \"newsletter\", \"newsletter\", \"night\", \"night\", \"night\", \"night\", \"night\", \"nords\", \"normal\", \"normal\", \"normal\", \"normal\", \"normal\", \"normal\", \"normal\", \"norton\", \"norton\", \"novell\", \"nubus\", \"nuclear\", \"nuclear\", \"nuclear\", \"nuclear\", \"number\", \"number\", \"number\", \"number\", \"number\", \"number\", \"number\", \"number\", \"number\", \"number\", \"number\", \"number\", \"number\", \"obfuscate\", \"obfuscate\", \"objective\", \"objective\", \"objective\", \"objective\", \"observatory\", \"offer\", \"offer\", \"offer\", \"offer\", \"offer\", \"offer\", \"offer\", \"offers\", \"offers\", \"offers\", \"offers\", \"office\", \"office\", \"office\", \"office\", \"office\", \"office\", \"office\", \"office\", \"office\", \"office\", \"open\", \"open\", \"open\", \"open\", \"open\", \"open\", \"open\", \"open\", \"open\", \"open\", \"open\", \"openwindows\", \"orbit\", \"orbit\", \"orbiter\", \"orthodox\", \"ottawa\", \"ottawa\", \"ottawa\", \"ottoman\", \"outlet\", \"output\", \"output\", \"ozone\", \"package\", \"package\", \"package\", \"package\", \"packages\", \"packaging\", \"page\", \"page\", \"page\", \"page\", \"page\", \"page\", \"pain\", \"pain\", \"palestine\", \"palestinian\", \"palestinians\", \"paperback\", \"parking\", \"part\", \"part\", \"part\", \"part\", \"part\", \"part\", \"part\", \"part\", \"part\", \"part\", \"part\", \"part\", \"part\", \"particular\", \"particular\", \"particular\", \"particular\", \"particular\", \"particular\", \"particular\", \"particular\", \"particular\", \"particular\", \"particular\", \"parts\", \"parts\", \"parts\", \"parts\", \"parts\", \"parts\", \"parts\", \"parts\", \"parts\", \"parts\", \"parts\", \"parts\", \"passages\", \"passover\", \"password\", \"patch\", \"patch\", \"patents\", \"patients\", \"patients\", \"payload\", \"peace\", \"peace\", \"peace\", \"penalties\", \"penalties\", \"penalties\", \"penalty\", \"pens\", \"people\", \"people\", \"people\", \"people\", \"people\", \"people\", \"people\", \"people\", \"people\", \"people\", \"period\", \"period\", \"period\", \"period\", \"period\", \"period\", \"period\", \"period\", \"phillies\", \"phone\", \"phone\", \"phone\", \"phone\", \"phone\", \"phone\", \"phones\", \"phrase\", \"phrase\", \"phrase\", \"picture\", \"picture\", \"picture\", \"picture\", \"picture\", \"picture\", \"pink\", \"pins\", \"pirates\", \"pistol\", \"pitcher\", \"pitching\", \"pitt\", \"pittsburgh\", \"pittsburgh\", \"pittsburgh\", \"pittsburgh\", \"pixel\", \"pixel\", \"pixels\", \"pixmap\", \"plaintext\", \"plane\", \"plane\", \"plane\", \"plane\", \"plane\", \"plane\", \"plane\", \"planetary\", \"plants\", \"plastic\", \"play\", \"play\", \"play\", \"play\", \"play\", \"played\", \"played\", \"played\", \"played\", \"played\", \"player\", \"player\", \"player\", \"player\", \"players\", \"playing\", \"playing\", \"playing\", \"playoffs\", \"plays\", \"please\", \"please\", \"please\", \"please\", \"please\", \"please\", \"please\", \"please\", \"please\", \"please\", \"plugs\", \"point\", \"point\", \"point\", \"point\", \"point\", \"point\", \"point\", \"point\", \"point\", \"point\", \"point\", \"point\", \"pointer\", \"points\", \"points\", \"points\", \"points\", \"points\", \"points\", \"points\", \"points\", \"points\", \"points\", \"points\", \"police\", \"police\", \"police\", \"police\", \"political\", \"political\", \"political\", \"pope\", \"population\", \"population\", \"population\", \"port\", \"port\", \"port\", \"portable\", \"power\", \"power\", \"power\", \"power\", \"power\", \"power\", \"power\", \"power\", \"power\", \"power\", \"power\", \"power\", \"powerbook\", \"precision\", \"predictions\", \"president\", \"president\", \"president\", \"president\", \"president\", \"pretty\", \"pretty\", \"pretty\", \"pretty\", \"prevention\", \"price\", \"price\", \"price\", \"price\", \"price\", \"price\", \"price\", \"price\", \"price\", \"printer\", \"printer\", \"printer\", \"printers\", \"printf\", \"prison\", \"prison\", \"privacy\", \"privacy\", \"probably\", \"probably\", \"probably\", \"probably\", \"probably\", \"probably\", \"probably\", \"probably\", \"probably\", \"probably\", \"probes\", \"problem\", \"problem\", \"problem\", \"problem\", \"problem\", \"problem\", \"problem\", \"problem\", \"problem\", \"problem\", \"problems\", \"problems\", \"problems\", \"problems\", \"problems\", \"problems\", \"problems\", \"problems\", \"problems\", \"problems\", \"problems\", \"proceedings\", \"processing\", \"processing\", \"processing\", \"processing\", \"prog\", \"program\", \"program\", \"program\", \"program\", \"program\", \"programs\", \"programs\", \"programs\", \"programs\", \"programs\", \"programs\", \"programs\", \"programs\", \"projected\", \"projected\", \"projects\", \"projects\", \"projects\", \"promo\", \"prompt\", \"propaganda\", \"proprietary\", \"propulsion\", \"protein\", \"proving\", \"pseudo\", \"public\", \"public\", \"public\", \"public\", \"public\", \"public\", \"public\", \"public\", \"publication\", \"publication\", \"publication\", \"publication\", \"publications\", \"puck\", \"puck\", \"puck\", \"quadra\", \"quantization\", \"question\", \"question\", \"question\", \"question\", \"question\", \"question\", \"question\", \"question\", \"quicktime\", \"radar\", \"radar\", \"radiation\", \"radius\", \"radius\", \"random\", \"random\", \"random\", \"random\", \"random\", \"rare\", \"rare\", \"raster\", \"rate\", \"rate\", \"rate\", \"rate\", \"rate\", \"rate\", \"rate\", \"rates\", \"rates\", \"rates\", \"rates\", \"rates\", \"rates\", \"read\", \"read\", \"read\", \"read\", \"read\", \"read\", \"read\", \"read\", \"read\", \"read\", \"really\", \"really\", \"really\", \"really\", \"really\", \"really\", \"rear\", \"rear\", \"reason\", \"reason\", \"reason\", \"reason\", \"reason\", \"reason\", \"reason\", \"reason\", \"reason\", \"recalled\", \"recchi\", \"reds\", \"refugees\", \"regulated\", \"reilly\", \"reject\", \"religion\", \"religion\", \"religions\", \"religious\", \"religious\", \"religious\", \"religious\", \"remark\", \"remark\", \"report\", \"report\", \"report\", \"report\", \"report\", \"report\", \"report\", \"report\", \"report\", \"reported\", \"reported\", \"reported\", \"reported\", \"reported\", \"reported\", \"reported\", \"republic\", \"republic\", \"republicans\", \"request\", \"request\", \"request\", \"request\", \"requests\", \"requests\", \"requests\", \"requests\", \"requests\", \"requests\", \"research\", \"research\", \"research\", \"research\", \"research\", \"research\", \"research\", \"resistor\", \"resource\", \"resource\", \"resource\", \"responsibility\", \"responsibility\", \"responsibility\", \"restaurant\", \"restaurant\", \"restraint\", \"resurrection\", \"revelation\", \"riders\", \"riding\", \"riding\", \"right\", \"right\", \"right\", \"right\", \"right\", \"right\", \"right\", \"right\", \"right\", \"right\", \"right\", \"right\", \"right\", \"right\", \"rights\", \"rights\", \"rings\", \"rings\", \"ripem\", \"risc\", \"rkba\", \"rockefeller\", \"rockets\", \"rockets\", \"rockies\", \"rocks\", \"rode\", \"room\", \"room\", \"room\", \"room\", \"room\", \"room\", \"room\", \"roughing\", \"rows\", \"rubber\", \"rules\", \"rules\", \"rules\", \"rules\", \"rules\", \"rules\", \"rules\", \"rumor\", \"runner\", \"running\", \"running\", \"running\", \"running\", \"running\", \"running\", \"running\", \"runs\", \"runs\", \"runs\", \"runs\", \"runs\", \"runs\", \"runs\", \"runs\", \"russia\", \"russia\", \"russia\", \"russian\", \"russian\", \"russian\", \"sabbath\", \"safety\", \"safety\", \"safety\", \"safety\", \"said\", \"said\", \"said\", \"said\", \"said\", \"said\", \"said\", \"said\", \"said\", \"sale\", \"sale\", \"sale\", \"sanderson\", \"satan\", \"satellite\", \"satellite\", \"saves\", \"saves\", \"saves\", \"says\", \"says\", \"says\", \"says\", \"says\", \"says\", \"scanned\", \"scheme\", \"scheme\", \"scholarly\", \"science\", \"science\", \"science\", \"scientific\", \"scientific\", \"scientific\", \"scientific\", \"score\", \"score\", \"score\", \"scored\", \"scorer\", \"scoring\", \"scoring\", \"scratch\", \"scratch\", \"screen\", \"screen\", \"screen\", \"screen\", \"screwed\", \"screwed\", \"scripture\", \"scsi\", \"sdpa\", \"seagate\", \"season\", \"season\", \"seattle\", \"seattle\", \"second\", \"second\", \"second\", \"second\", \"second\", \"second\", \"second\", \"second\", \"second\", \"second\", \"second\", \"second\", \"second\", \"second\", \"second\", \"second\", \"second\", \"secrecy\", \"secret\", \"secret\", \"secret\", \"secretary\", \"secretary\", \"secretary\", \"section\", \"section\", \"section\", \"section\", \"section\", \"section\", \"section\", \"sector\", \"sector\", \"secure\", \"secure\", \"security\", \"security\", \"security\", \"security\", \"security\", \"security\", \"seeds\", \"seeing\", \"seeing\", \"seeing\", \"seeing\", \"segment\", \"selanne\", \"senate\", \"senate\", \"senate\", \"send\", \"send\", \"send\", \"send\", \"send\", \"send\", \"send\", \"senior\", \"senior\", \"senior\", \"sensing\", \"serbs\", \"serdar\", \"serial\", \"serial\", \"serial\", \"serial\", \"series\", \"series\", \"series\", \"series\", \"series\", \"series\", \"series\", \"series\", \"series\", \"server\", \"server\", \"server\", \"shaft\", \"shameful\", \"shameful\", \"shar\", \"shared\", \"shared\", \"shared\", \"shared\", \"sharks\", \"shell\", \"shell\", \"shell\", \"shell\", \"shipping\", \"shipping\", \"ships\", \"ships\", \"shot\", \"shot\", \"shot\", \"shot\", \"shot\", \"shot\", \"shot\", \"shots\", \"shots\", \"shots\", \"shots\", \"shouting\", \"shuttle\", \"shuttle\", \"side\", \"side\", \"side\", \"side\", \"side\", \"side\", \"side\", \"side\", \"side\", \"sided\", \"siggraph\", \"simm\", \"simmons\", \"simms\", \"since\", \"since\", \"since\", \"since\", \"since\", \"since\", \"since\", \"since\", \"since\", \"since\", \"since\", \"since\", \"since\", \"since\", \"sister\", \"sites\", \"sites\", \"sites\", \"size\", \"size\", \"size\", \"size\", \"size\", \"size\", \"size\", \"size\", \"size\", \"sizes\", \"skepticism\", \"skipjack\", \"slaughter\", \"sleeve\", \"slots\", \"small\", \"small\", \"small\", \"small\", \"small\", \"small\", \"small\", \"small\", \"small\", \"small\", \"small\", \"small\", \"small\", \"smokeless\", \"smythe\", \"society\", \"society\", \"society\", \"sockets\", \"software\", \"software\", \"software\", \"software\", \"software\", \"solar\", \"solar\", \"solaris\", \"somebody\", \"somebody\", \"somebody\", \"something\", \"something\", \"something\", \"something\", \"something\", \"something\", \"something\", \"something\", \"something\", \"sorry\", \"sorry\", \"sorry\", \"sorry\", \"sorry\", \"sorry\", \"sorry\", \"sounds\", \"sounds\", \"sounds\", \"sounds\", \"source\", \"source\", \"source\", \"source\", \"source\", \"source\", \"source\", \"source\", \"source\", \"source\", \"source\", \"soviet\", \"soviet\", \"soviet\", \"soviet\", \"soviet\", \"space\", \"space\", \"space\", \"space\", \"spacecraft\", \"speed\", \"speed\", \"speed\", \"speed\", \"speed\", \"speed\", \"speed\", \"spirit\", \"spirit\", \"sports\", \"sports\", \"springfield\", \"ssto\", \"started\", \"started\", \"started\", \"started\", \"started\", \"started\", \"started\", \"started\", \"state\", \"state\", \"state\", \"state\", \"state\", \"state\", \"state\", \"state\", \"state\", \"state\", \"states\", \"states\", \"states\", \"states\", \"states\", \"states\", \"station\", \"station\", \"station\", \"station\", \"stats\", \"stats\", \"stealth\", \"steer\", \"stereo\", \"stevens\", \"still\", \"still\", \"still\", \"still\", \"still\", \"still\", \"still\", \"still\", \"still\", \"still\", \"stimulus\", \"straightforward\", \"straw\", \"stream\", \"stream\", \"string\", \"string\", \"strong\", \"strong\", \"strong\", \"strong\", \"strong\", \"strong\", \"study\", \"study\", \"study\", \"study\", \"study\", \"study\", \"study\", \"subject\", \"subject\", \"subject\", \"subject\", \"subject\", \"subject\", \"subject\", \"subject\", \"subject\", \"subjective\", \"suck\", \"suicide\", \"sumgait\", \"summarizes\", \"sunos\", \"sure\", \"sure\", \"sure\", \"sure\", \"sure\", \"sure\", \"sure\", \"sure\", \"sure\", \"sure\", \"sure\", \"surface\", \"surface\", \"surface\", \"surface\", \"surface\", \"surface\", \"surveillance\", \"suspension\", \"svga\", \"sweden\", \"sweden\", \"sweep\", \"sweep\", \"swing\", \"sword\", \"symbol\", \"sync\", \"system\", \"system\", \"system\", \"system\", \"system\", \"system\", \"system\", \"system\", \"system\", \"system\", \"systems\", \"systems\", \"systems\", \"systems\", \"systems\", \"systems\", \"systems\", \"systems\", \"take\", \"take\", \"take\", \"take\", \"take\", \"take\", \"take\", \"take\", \"take\", \"take\", \"take\", \"take\", \"tank\", \"tank\", \"tank\", \"tank\", \"team\", \"team\", \"team\", \"team\", \"teams\", \"technical\", \"technical\", \"technical\", \"technical\", \"technical\", \"technical\", \"technology\", \"technology\", \"technology\", \"telecommunications\", \"telepathy\", \"telescope\", \"temp\", \"temp\", \"tension\", \"terminals\", \"test\", \"test\", \"test\", \"test\", \"test\", \"test\", \"test\", \"test\", \"test\", \"test\", \"test\", \"test\", \"testament\", \"thanks\", \"thanks\", \"thanks\", \"thanks\", \"thanks\", \"thanks\", \"thanks\", \"thanks\", \"thanks\", \"theory\", \"theory\", \"theory\", \"theory\", \"theory\", \"therefore\", \"therefore\", \"therefore\", \"therefore\", \"therefore\", \"therefore\", \"therefore\", \"thing\", \"thing\", \"thing\", \"thing\", \"thing\", \"thing\", \"thing\", \"thing\", \"things\", \"things\", \"things\", \"things\", \"things\", \"things\", \"things\", \"things\", \"things\", \"think\", \"think\", \"think\", \"think\", \"think\", \"think\", \"think\", \"third\", \"third\", \"third\", \"third\", \"third\", \"third\", \"third\", \"third\", \"third\", \"third\", \"third\", \"third\", \"third\", \"threat\", \"three\", \"three\", \"three\", \"three\", \"three\", \"three\", \"three\", \"three\", \"three\", \"three\", \"three\", \"three\", \"three\", \"throttle\", \"throttle\", \"thumbs\", \"tiff\", \"tiger\", \"tigers\", \"time\", \"time\", \"time\", \"time\", \"time\", \"time\", \"time\", \"time\", \"time\", \"time\", \"time\", \"time\", \"time\", \"time\", \"time\", \"time\", \"tire\", \"tires\", \"tires\", \"tissue\", \"tobacco\", \"tocchet\", \"told\", \"told\", \"told\", \"told\", \"told\", \"told\", \"tommy\", \"tommy\", \"tonight\", \"took\", \"took\", \"took\", \"took\", \"took\", \"took\", \"took\", \"took\", \"toolkit\", \"toolkit\", \"tools\", \"tools\", \"tools\", \"toronto\", \"toronto\", \"toronto\", \"toronto\", \"toronto\", \"torque\", \"toshiba\", \"totals\", \"toyota\", \"traded\", \"traded\", \"transfers\", \"treatment\", \"treatment\", \"treatment\", \"treatment\", \"treatment\", \"treatment\", \"treatments\", \"trinity\", \"true\", \"true\", \"true\", \"true\", \"true\", \"true\", \"true\", \"true\", \"true\", \"true\", \"trusted\", \"truth\", \"truth\", \"truth\", \"truth\", \"tube\", \"tube\", \"tubes\", \"turkey\", \"turkish\", \"turks\", \"tutorial\", \"twin\", \"uiuc\", \"uiuc\", \"uiuc\", \"uiuc\", \"uiuc\", \"uiuc\", \"unassisted\", \"unbreakable\", \"uncle\", \"united\", \"united\", \"united\", \"united\", \"universe\", \"universe\", \"universe\", \"university\", \"university\", \"university\", \"university\", \"university\", \"university\", \"university\", \"university\", \"unix\", \"unix\", \"unix\", \"unto\", \"upgraded\", \"used\", \"used\", \"used\", \"used\", \"used\", \"used\", \"used\", \"used\", \"used\", \"used\", \"used\", \"used\", \"used\", \"used\", \"user\", \"user\", \"user\", \"user\", \"users\", \"users\", \"users\", \"users\", \"users\", \"users\", \"using\", \"using\", \"using\", \"using\", \"using\", \"using\", \"using\", \"using\", \"using\", \"using\", \"using\", \"using\", \"using\", \"usually\", \"usually\", \"usually\", \"usually\", \"usually\", \"usually\", \"usually\", \"usually\", \"usually\", \"usually\", \"uuencode\", \"valentine\", \"valid\", \"valid\", \"valid\", \"valid\", \"valid\", \"valid\", \"valid\", \"valid\", \"values\", \"values\", \"values\", \"values\", \"values\", \"values\", \"values\", \"values\", \"valve\", \"vancouver\", \"vancouver\", \"vancouver\", \"vancouver\", \"vendors\", \"venus\", \"vernon\", \"version\", \"version\", \"version\", \"version\", \"version\", \"version\", \"version\", \"vesa\", \"video\", \"video\", \"video\", \"video\", \"video\", \"viewer\", \"village\", \"village\", \"villages\", \"villages\", \"violence\", \"violence\", \"visual\", \"visual\", \"visual\", \"vitamin\", \"voltage\", \"volvo\", \"vpic\", \"vram\", \"waco\", \"wake\", \"want\", \"want\", \"want\", \"want\", \"want\", \"want\", \"want\", \"want\", \"want\", \"want\", \"warned\", \"washington\", \"washington\", \"washington\", \"washington\", \"washington\", \"washington\", \"washington\", \"water\", \"water\", \"water\", \"water\", \"weapon\", \"weapon\", \"weapon\", \"weaver\", \"weight\", \"weight\", \"weight\", \"weight\", \"well\", \"well\", \"well\", \"well\", \"well\", \"well\", \"well\", \"well\", \"well\", \"well\", \"well\", \"well\", \"well\", \"well\", \"well\", \"went\", \"went\", \"went\", \"went\", \"went\", \"went\", \"widget\", \"widgets\", \"wife\", \"wife\", \"wife\", \"window\", \"window\", \"windows\", \"windows\", \"windows\", \"windows\", \"windows\", \"winners\", \"winners\", \"winners\", \"winnipeg\", \"winnipeg\", \"wire\", \"wire\", \"wire\", \"wire\", \"wiretap\", \"wiring\", \"wiring\", \"without\", \"without\", \"without\", \"without\", \"without\", \"without\", \"without\", \"without\", \"without\", \"without\", \"without\", \"without\", \"without\", \"wolverine\", \"woman\", \"woman\", \"woman\", \"women\", \"women\", \"women\", \"women\", \"women\", \"women\", \"word\", \"word\", \"word\", \"word\", \"word\", \"word\", \"word\", \"word\", \"word\", \"word\", \"work\", \"work\", \"work\", \"work\", \"work\", \"work\", \"work\", \"work\", \"work\", \"work\", \"work\", \"work\", \"work\", \"world\", \"world\", \"world\", \"world\", \"world\", \"world\", \"world\", \"world\", \"world\", \"world\", \"worship\", \"worth\", \"worth\", \"worth\", \"worth\", \"worth\", \"worth\", \"worth\", \"worth\", \"would\", \"would\", \"would\", \"would\", \"would\", \"would\", \"would\", \"would\", \"would\", \"would\", \"would\", \"would\", \"would\", \"would\", \"wrap\", \"wright\", \"write\", \"write\", \"write\", \"write\", \"write\", \"write\", \"write\", \"write\", \"write\", \"wwii\", \"xlib\", \"xputimage\", \"xsun\", \"xterm\", \"xview\", \"yankees\", \"yassin\", \"yeah\", \"year\", \"year\", \"year\", \"year\", \"year\", \"year\", \"year\", \"year\", \"year\", \"year\", \"yeast\", \"york\", \"york\", \"york\", \"york\", \"zone\", \"zone\", \"zone\", \"zone\"]}, \"R\": 30, \"lambda.step\": 0.01, \"plot.opts\": {\"xlab\": \"PC1\", \"ylab\": \"PC2\"}, \"topic.order\": [17, 13, 8, 1, 3, 15, 20, 7, 2, 4, 10, 5, 19, 9, 11, 12, 16, 6, 18, 14]};\n",
       "\n",
       "function LDAvis_load_lib(url, callback){\n",
       "  var s = document.createElement('script');\n",
       "  s.src = url;\n",
       "  s.async = true;\n",
       "  s.onreadystatechange = s.onload = callback;\n",
       "  s.onerror = function(){console.warn(\"failed to load library \" + url);};\n",
       "  document.getElementsByTagName(\"head\")[0].appendChild(s);\n",
       "}\n",
       "\n",
       "if(typeof(LDAvis) !== \"undefined\"){\n",
       "   // already loaded: just create the visualization\n",
       "   !function(LDAvis){\n",
       "       new LDAvis(\"#\" + \"ldavis_el5484421691121574246821425513\", ldavis_el5484421691121574246821425513_data);\n",
       "   }(LDAvis);\n",
       "}else if(typeof define === \"function\" && define.amd){\n",
       "   // require.js is available: use it to load d3/LDAvis\n",
       "   require.config({paths: {d3: \"https://cdnjs.cloudflare.com/ajax/libs/d3/3.5.5/d3.min\"}});\n",
       "   require([\"d3\"], function(d3){\n",
       "      window.d3 = d3;\n",
       "      LDAvis_load_lib(\"https://cdn.rawgit.com/bmabey/pyLDAvis/files/ldavis.v1.0.0.js\", function(){\n",
       "        new LDAvis(\"#\" + \"ldavis_el5484421691121574246821425513\", ldavis_el5484421691121574246821425513_data);\n",
       "      });\n",
       "    });\n",
       "}else{\n",
       "    // require.js not available: dynamically load d3 & LDAvis\n",
       "    LDAvis_load_lib(\"https://cdnjs.cloudflare.com/ajax/libs/d3/3.5.5/d3.min.js\", function(){\n",
       "         LDAvis_load_lib(\"https://cdn.rawgit.com/bmabey/pyLDAvis/files/ldavis.v1.0.0.js\", function(){\n",
       "                 new LDAvis(\"#\" + \"ldavis_el5484421691121574246821425513\", ldavis_el5484421691121574246821425513_data);\n",
       "            })\n",
       "         });\n",
       "}\n",
       "</script>"
      ],
      "text/plain": [
       "<IPython.core.display.HTML object>"
      ]
     },
     "execution_count": 33,
     "metadata": {},
     "output_type": "execute_result"
    }
   ],
   "source": [
    "import pyLDAvis.gensim\n",
    "pyLDAvis.enable_notebook()\n",
    "vis = pyLDAvis.gensim.prepare(ldamodel, corpus, dictionary)\n",
    "pyLDAvis.display(vis)\n",
    "# LDA 시각화에서는 토픽의 번호가 1부터 시작하므로 각 토픽 번호는  +1이 된 값인 1~20까지의 값을 가진다"
   ]
  },
  {
   "cell_type": "markdown",
   "metadata": {
    "colab_type": "text",
    "id": "x1SRPLp0B7c7"
   },
   "source": [
    "####  문서 별 토픽 분포 보기"
   ]
  },
  {
   "cell_type": "code",
   "execution_count": 34,
   "metadata": {
    "colab": {
     "base_uri": "https://localhost:8080/",
     "height": 110
    },
    "colab_type": "code",
    "executionInfo": {
     "elapsed": 217109,
     "status": "ok",
     "timestamp": 1600822477477,
     "user": {
      "displayName": "고병화",
      "photoUrl": "https://lh3.googleusercontent.com/a-/AOh14GgLZcAZyPt33HiIqtXjHiL8D4PIcVPdfLgODP1QBA=s64",
      "userId": "12645007744594631320"
     },
     "user_tz": -540
    },
    "id": "y3YMeRJ6B7c8",
    "outputId": "d0a686a2-7056-4787-f3cd-f6b1d65c18e9"
   },
   "outputs": [
    {
     "name": "stdout",
     "output_type": "stream",
     "text": [
      "0 번째 문서의 topic 비율은 [(0, 0.039137658), (2, 0.23767342), (3, 0.07241441), (11, 0.058426805), (12, 0.5802306)]\n",
      "1 번째 문서의 topic 비율은 [(0, 0.16352075), (2, 0.03224348), (4, 0.16356453), (5, 0.02729996), (9, 0.028165992), (12, 0.04189691), (16, 0.5261687)]\n",
      "2 번째 문서의 topic 비율은 [(12, 0.43302643), (16, 0.5524182)]\n",
      "3 번째 문서의 topic 비율은 [(1, 0.08081507), (6, 0.02340338), (10, 0.30339727), (12, 0.063030206), (14, 0.15222907), (16, 0.36613488)]\n",
      "4 번째 문서의 topic 비율은 [(16, 0.6531869), (18, 0.23904726), (19, 0.07626976)]\n"
     ]
    }
   ],
   "source": [
    "for i, topic_list in enumerate(ldamodel[corpus]):\n",
    "    if i==5:\n",
    "        break\n",
    "    print(i,'번째 문서의 topic 비율은',topic_list)\n",
    "# (숫자, 확률)은 각각 토픽 번호와 해당 토픽이 해당 문서에서 차지하는 분포도를 의미"
   ]
  },
  {
   "cell_type": "code",
   "execution_count": 35,
   "metadata": {
    "colab": {},
    "colab_type": "code",
    "executionInfo": {
     "elapsed": 217107,
     "status": "ok",
     "timestamp": 1600822477478,
     "user": {
      "displayName": "고병화",
      "photoUrl": "https://lh3.googleusercontent.com/a-/AOh14GgLZcAZyPt33HiIqtXjHiL8D4PIcVPdfLgODP1QBA=s64",
      "userId": "12645007744594631320"
     },
     "user_tz": -540
    },
    "id": "MSfbq8ikB7dB"
   },
   "outputs": [],
   "source": [
    "def make_topictable_per_doc(ldamodel, corpus):\n",
    "    topic_table = pd.DataFrame()\n",
    "\n",
    "    # 몇 번째 문서인지를 의미하는 문서 번호와 해당 문서의 토픽 비중을 한 줄씩 꺼내온다.\n",
    "    for i, topic_list in enumerate(ldamodel[corpus]):\n",
    "        doc = topic_list[0] if ldamodel.per_word_topics else topic_list            \n",
    "        doc = sorted(doc, key=lambda x: (x[1]), reverse=True)\n",
    "        # 각 문서에 대해서 비중이 높은 토픽순으로 토픽을 정렬한다.\n",
    "        # EX) 정렬 전 0번 문서 : (2번 토픽, 48.5%), (8번 토픽, 25%), (10번 토픽, 5%), (12번 토픽, 21.5%), \n",
    "        # Ex) 정렬 후 0번 문서 : (2번 토픽, 48.5%), (8번 토픽, 25%), (12번 토픽, 21.5%), (10번 토픽, 5%)\n",
    "        # 48 > 25 > 21 > 5 순으로 정렬이 된 것.\n",
    "\n",
    "        # 모든 문서에 대해서 각각 아래를 수행\n",
    "        for j, (topic_num, prop_topic) in enumerate(doc): #  몇 번 토픽인지와 비중을 나눠서 저장한다.\n",
    "            if j == 0:  # 정렬을 한 상태이므로 가장 앞에 있는 것이 가장 비중이 높은 토픽\n",
    "                topic_table = topic_table.append(pd.Series([int(topic_num), round(prop_topic,4), topic_list]), ignore_index=True)\n",
    "                # 가장 비중이 높은 토픽과, 가장 비중이 높은 토픽의 비중과, 전체 토픽의 비중을 저장한다.\n",
    "            else:\n",
    "                break\n",
    "    return(topic_table)"
   ]
  },
  {
   "cell_type": "code",
   "execution_count": 36,
   "metadata": {
    "colab": {
     "base_uri": "https://localhost:8080/",
     "height": 349
    },
    "colab_type": "code",
    "executionInfo": {
     "elapsed": 263208,
     "status": "ok",
     "timestamp": 1600822523587,
     "user": {
      "displayName": "고병화",
      "photoUrl": "https://lh3.googleusercontent.com/a-/AOh14GgLZcAZyPt33HiIqtXjHiL8D4PIcVPdfLgODP1QBA=s64",
      "userId": "12645007744594631320"
     },
     "user_tz": -540
    },
    "id": "IUhFLTJxB7dI",
    "outputId": "f3b3ff0d-deec-48d3-9c80-5e86fd005af7"
   },
   "outputs": [
    {
     "data": {
      "text/html": [
       "<div>\n",
       "<style scoped>\n",
       "    .dataframe tbody tr th:only-of-type {\n",
       "        vertical-align: middle;\n",
       "    }\n",
       "\n",
       "    .dataframe tbody tr th {\n",
       "        vertical-align: top;\n",
       "    }\n",
       "\n",
       "    .dataframe thead th {\n",
       "        text-align: right;\n",
       "    }\n",
       "</style>\n",
       "<table border=\"1\" class=\"dataframe\">\n",
       "  <thead>\n",
       "    <tr style=\"text-align: right;\">\n",
       "      <th></th>\n",
       "      <th>문서 번호</th>\n",
       "      <th>가장 비중이 높은 토픽</th>\n",
       "      <th>가장 높은 토픽의 비중</th>\n",
       "      <th>각 토픽의 비중</th>\n",
       "    </tr>\n",
       "  </thead>\n",
       "  <tbody>\n",
       "    <tr>\n",
       "      <th>0</th>\n",
       "      <td>0</td>\n",
       "      <td>12.0</td>\n",
       "      <td>0.5802</td>\n",
       "      <td>[(0, 0.03913378), (2, 0.2376722), (3, 0.072417...</td>\n",
       "    </tr>\n",
       "    <tr>\n",
       "      <th>1</th>\n",
       "      <td>1</td>\n",
       "      <td>16.0</td>\n",
       "      <td>0.5262</td>\n",
       "      <td>[(0, 0.16346769), (2, 0.032242443), (4, 0.1635...</td>\n",
       "    </tr>\n",
       "    <tr>\n",
       "      <th>2</th>\n",
       "      <td>2</td>\n",
       "      <td>16.0</td>\n",
       "      <td>0.5524</td>\n",
       "      <td>[(12, 0.43303078), (16, 0.55241376)]</td>\n",
       "    </tr>\n",
       "    <tr>\n",
       "      <th>3</th>\n",
       "      <td>3</td>\n",
       "      <td>16.0</td>\n",
       "      <td>0.3662</td>\n",
       "      <td>[(1, 0.080824636), (6, 0.023401087), (10, 0.30...</td>\n",
       "    </tr>\n",
       "    <tr>\n",
       "      <th>4</th>\n",
       "      <td>4</td>\n",
       "      <td>16.0</td>\n",
       "      <td>0.6532</td>\n",
       "      <td>[(16, 0.65317005), (18, 0.23901108), (19, 0.07...</td>\n",
       "    </tr>\n",
       "    <tr>\n",
       "      <th>5</th>\n",
       "      <td>5</td>\n",
       "      <td>0.0</td>\n",
       "      <td>0.6145</td>\n",
       "      <td>[(0, 0.6144696), (9, 0.049165137), (16, 0.2976...</td>\n",
       "    </tr>\n",
       "    <tr>\n",
       "      <th>6</th>\n",
       "      <td>6</td>\n",
       "      <td>16.0</td>\n",
       "      <td>0.3215</td>\n",
       "      <td>[(3, 0.14260955), (6, 0.28333616), (9, 0.05533...</td>\n",
       "    </tr>\n",
       "    <tr>\n",
       "      <th>7</th>\n",
       "      <td>7</td>\n",
       "      <td>16.0</td>\n",
       "      <td>0.4492</td>\n",
       "      <td>[(1, 0.024334187), (2, 0.025601998), (12, 0.34...</td>\n",
       "    </tr>\n",
       "    <tr>\n",
       "      <th>8</th>\n",
       "      <td>8</td>\n",
       "      <td>16.0</td>\n",
       "      <td>0.6837</td>\n",
       "      <td>[(7, 0.07784855), (9, 0.10253206), (13, 0.0501...</td>\n",
       "    </tr>\n",
       "    <tr>\n",
       "      <th>9</th>\n",
       "      <td>9</td>\n",
       "      <td>16.0</td>\n",
       "      <td>0.4036</td>\n",
       "      <td>[(2, 0.13064241), (3, 0.11885039), (6, 0.09937...</td>\n",
       "    </tr>\n",
       "  </tbody>\n",
       "</table>\n",
       "</div>"
      ],
      "text/plain": [
       "   문서 번호  가장 비중이 높은 토픽  가장 높은 토픽의 비중  \\\n",
       "0      0          12.0        0.5802   \n",
       "1      1          16.0        0.5262   \n",
       "2      2          16.0        0.5524   \n",
       "3      3          16.0        0.3662   \n",
       "4      4          16.0        0.6532   \n",
       "5      5           0.0        0.6145   \n",
       "6      6          16.0        0.3215   \n",
       "7      7          16.0        0.4492   \n",
       "8      8          16.0        0.6837   \n",
       "9      9          16.0        0.4036   \n",
       "\n",
       "                                            각 토픽의 비중  \n",
       "0  [(0, 0.03913378), (2, 0.2376722), (3, 0.072417...  \n",
       "1  [(0, 0.16346769), (2, 0.032242443), (4, 0.1635...  \n",
       "2               [(12, 0.43303078), (16, 0.55241376)]  \n",
       "3  [(1, 0.080824636), (6, 0.023401087), (10, 0.30...  \n",
       "4  [(16, 0.65317005), (18, 0.23901108), (19, 0.07...  \n",
       "5  [(0, 0.6144696), (9, 0.049165137), (16, 0.2976...  \n",
       "6  [(3, 0.14260955), (6, 0.28333616), (9, 0.05533...  \n",
       "7  [(1, 0.024334187), (2, 0.025601998), (12, 0.34...  \n",
       "8  [(7, 0.07784855), (9, 0.10253206), (13, 0.0501...  \n",
       "9  [(2, 0.13064241), (3, 0.11885039), (6, 0.09937...  "
      ]
     },
     "execution_count": 36,
     "metadata": {},
     "output_type": "execute_result"
    }
   ],
   "source": [
    "topictable = make_topictable_per_doc(ldamodel, corpus)\n",
    "topictable = topictable.reset_index() # 문서 번호을 의미하는 열(column)로 사용하기 위해서 인덱스 열을 하나 더 만든다.\n",
    "topictable.columns = ['문서 번호', '가장 비중이 높은 토픽', '가장 높은 토픽의 비중', '각 토픽의 비중']\n",
    "topictable[:10]"
   ]
  },
  {
   "cell_type": "markdown",
   "metadata": {
    "colab_type": "text",
    "id": "l0YO6B_sB7dP"
   },
   "source": [
    "###  잠재 디리클레 할당(LDA) 구현 : 뉴스 기사 헤드라인 "
   ]
  },
  {
   "cell_type": "code",
   "execution_count": 37,
   "metadata": {
    "colab": {},
    "colab_type": "code",
    "executionInfo": {
     "elapsed": 265679,
     "status": "ok",
     "timestamp": 1600822526063,
     "user": {
      "displayName": "고병화",
      "photoUrl": "https://lh3.googleusercontent.com/a-/AOh14GgLZcAZyPt33HiIqtXjHiL8D4PIcVPdfLgODP1QBA=s64",
      "userId": "12645007744594631320"
     },
     "user_tz": -540
    },
    "id": "LIQ2LWoRB7dQ"
   },
   "outputs": [],
   "source": [
    "import pandas as pd\n",
    "import urllib.request\n",
    "urllib.request.urlretrieve(\"https://raw.githubusercontent.com/franciscadias/data/master/abcnews-date-text.csv\", filename=\"abcnews-date-text.csv\")\n",
    "data = pd.read_csv('abcnews-date-text.csv', error_bad_lines=False)\n",
    "# 약 15년 동안 발행되었던 뉴스 기사 제목을 모아놓은 영어 데이터"
   ]
  },
  {
   "cell_type": "code",
   "execution_count": 38,
   "metadata": {
    "colab": {
     "base_uri": "https://localhost:8080/",
     "height": 36
    },
    "colab_type": "code",
    "executionInfo": {
     "elapsed": 265677,
     "status": "ok",
     "timestamp": 1600822526069,
     "user": {
      "displayName": "고병화",
      "photoUrl": "https://lh3.googleusercontent.com/a-/AOh14GgLZcAZyPt33HiIqtXjHiL8D4PIcVPdfLgODP1QBA=s64",
      "userId": "12645007744594631320"
     },
     "user_tz": -540
    },
    "id": "L3ogGjtfB7dY",
    "outputId": "8d733c8f-cfd8-467f-8f7f-ac36ef7bfdbe"
   },
   "outputs": [
    {
     "name": "stdout",
     "output_type": "stream",
     "text": [
      "1082168\n"
     ]
    }
   ],
   "source": [
    "print(len(data))"
   ]
  },
  {
   "cell_type": "code",
   "execution_count": 39,
   "metadata": {
    "colab": {
     "base_uri": "https://localhost:8080/",
     "height": 128
    },
    "colab_type": "code",
    "executionInfo": {
     "elapsed": 265666,
     "status": "ok",
     "timestamp": 1600822526070,
     "user": {
      "displayName": "고병화",
      "photoUrl": "https://lh3.googleusercontent.com/a-/AOh14GgLZcAZyPt33HiIqtXjHiL8D4PIcVPdfLgODP1QBA=s64",
      "userId": "12645007744594631320"
     },
     "user_tz": -540
    },
    "id": "WUqlnvzcB7dd",
    "outputId": "dd80071d-54af-426f-a13d-2341ce938d01"
   },
   "outputs": [
    {
     "name": "stdout",
     "output_type": "stream",
     "text": [
      "   publish_date                                      headline_text\n",
      "0      20030219  aba decides against community broadcasting lic...\n",
      "1      20030219     act fire witnesses must be aware of defamation\n",
      "2      20030219     a g calls for infrastructure protection summit\n",
      "3      20030219           air nz staff in aust strike for pay rise\n",
      "4      20030219      air nz strike to affect australian travellers\n"
     ]
    }
   ],
   "source": [
    "print(data.head(5))"
   ]
  },
  {
   "cell_type": "code",
   "execution_count": 40,
   "metadata": {
    "colab": {
     "base_uri": "https://localhost:8080/",
     "height": 198
    },
    "colab_type": "code",
    "executionInfo": {
     "elapsed": 265657,
     "status": "ok",
     "timestamp": 1600822526072,
     "user": {
      "displayName": "고병화",
      "photoUrl": "https://lh3.googleusercontent.com/a-/AOh14GgLZcAZyPt33HiIqtXjHiL8D4PIcVPdfLgODP1QBA=s64",
      "userId": "12645007744594631320"
     },
     "user_tz": -540
    },
    "id": "KZFNIHsCB7dj",
    "outputId": "7b59a720-2f00-46ef-fbf3-49a46e82641e"
   },
   "outputs": [
    {
     "data": {
      "text/html": [
       "<div>\n",
       "<style scoped>\n",
       "    .dataframe tbody tr th:only-of-type {\n",
       "        vertical-align: middle;\n",
       "    }\n",
       "\n",
       "    .dataframe tbody tr th {\n",
       "        vertical-align: top;\n",
       "    }\n",
       "\n",
       "    .dataframe thead th {\n",
       "        text-align: right;\n",
       "    }\n",
       "</style>\n",
       "<table border=\"1\" class=\"dataframe\">\n",
       "  <thead>\n",
       "    <tr style=\"text-align: right;\">\n",
       "      <th></th>\n",
       "      <th>headline_text</th>\n",
       "    </tr>\n",
       "  </thead>\n",
       "  <tbody>\n",
       "    <tr>\n",
       "      <th>0</th>\n",
       "      <td>aba decides against community broadcasting lic...</td>\n",
       "    </tr>\n",
       "    <tr>\n",
       "      <th>1</th>\n",
       "      <td>act fire witnesses must be aware of defamation</td>\n",
       "    </tr>\n",
       "    <tr>\n",
       "      <th>2</th>\n",
       "      <td>a g calls for infrastructure protection summit</td>\n",
       "    </tr>\n",
       "    <tr>\n",
       "      <th>3</th>\n",
       "      <td>air nz staff in aust strike for pay rise</td>\n",
       "    </tr>\n",
       "    <tr>\n",
       "      <th>4</th>\n",
       "      <td>air nz strike to affect australian travellers</td>\n",
       "    </tr>\n",
       "  </tbody>\n",
       "</table>\n",
       "</div>"
      ],
      "text/plain": [
       "                                       headline_text\n",
       "0  aba decides against community broadcasting lic...\n",
       "1     act fire witnesses must be aware of defamation\n",
       "2     a g calls for infrastructure protection summit\n",
       "3           air nz staff in aust strike for pay rise\n",
       "4      air nz strike to affect australian travellers"
      ]
     },
     "execution_count": 40,
     "metadata": {},
     "output_type": "execute_result"
    }
   ],
   "source": [
    "text = data[['headline_text']]\n",
    "text.head(5)"
   ]
  },
  {
   "cell_type": "code",
   "execution_count": 41,
   "metadata": {
    "colab": {
     "base_uri": "https://localhost:8080/",
     "height": 73
    },
    "colab_type": "code",
    "executionInfo": {
     "elapsed": 266429,
     "status": "ok",
     "timestamp": 1600822526853,
     "user": {
      "displayName": "고병화",
      "photoUrl": "https://lh3.googleusercontent.com/a-/AOh14GgLZcAZyPt33HiIqtXjHiL8D4PIcVPdfLgODP1QBA=s64",
      "userId": "12645007744594631320"
     },
     "user_tz": -540
    },
    "id": "TST2w-OTDjYQ",
    "outputId": "e4e36e16-da7a-4e9b-9865-96b4b9f6d7e0"
   },
   "outputs": [
    {
     "name": "stderr",
     "output_type": "stream",
     "text": [
      "[nltk_data] Downloading package punkt to\n",
      "[nltk_data]     C:\\Users\\storm\\AppData\\Roaming\\nltk_data...\n",
      "[nltk_data]   Package punkt is already up-to-date!\n"
     ]
    },
    {
     "data": {
      "text/plain": [
       "True"
      ]
     },
     "execution_count": 41,
     "metadata": {},
     "output_type": "execute_result"
    }
   ],
   "source": [
    "import nltk\n",
    "nltk.download('punkt')"
   ]
  },
  {
   "cell_type": "code",
   "execution_count": 42,
   "metadata": {
    "colab": {
     "base_uri": "https://localhost:8080/",
     "height": 128
    },
    "colab_type": "code",
    "executionInfo": {
     "elapsed": 383661,
     "status": "ok",
     "timestamp": 1600822644094,
     "user": {
      "displayName": "고병화",
      "photoUrl": "https://lh3.googleusercontent.com/a-/AOh14GgLZcAZyPt33HiIqtXjHiL8D4PIcVPdfLgODP1QBA=s64",
      "userId": "12645007744594631320"
     },
     "user_tz": -540
    },
    "id": "SVAmFrz3B7dr",
    "outputId": "8d36a018-38cf-4a6d-de3d-cffe32af7ad4"
   },
   "outputs": [
    {
     "name": "stderr",
     "output_type": "stream",
     "text": [
      "<ipython-input-42-ef6e69508f9e>:3: SettingWithCopyWarning: \n",
      "A value is trying to be set on a copy of a slice from a DataFrame.\n",
      "Try using .loc[row_indexer,col_indexer] = value instead\n",
      "\n",
      "See the caveats in the documentation: https://pandas.pydata.org/pandas-docs/stable/user_guide/indexing.html#returning-a-view-versus-a-copy\n",
      "  text['headline_text'] = text.apply(lambda row: nltk.word_tokenize(row['headline_text']), axis=1)\n"
     ]
    }
   ],
   "source": [
    "# 텍스트 전처리\n",
    "import nltk\n",
    "text['headline_text'] = text.apply(lambda row: nltk.word_tokenize(row['headline_text']), axis=1) "
   ]
  },
  {
   "cell_type": "code",
   "execution_count": 43,
   "metadata": {
    "colab": {
     "base_uri": "https://localhost:8080/",
     "height": 128
    },
    "colab_type": "code",
    "executionInfo": {
     "elapsed": 383654,
     "status": "ok",
     "timestamp": 1600822644095,
     "user": {
      "displayName": "고병화",
      "photoUrl": "https://lh3.googleusercontent.com/a-/AOh14GgLZcAZyPt33HiIqtXjHiL8D4PIcVPdfLgODP1QBA=s64",
      "userId": "12645007744594631320"
     },
     "user_tz": -540
    },
    "id": "viXyj8PhB7dy",
    "outputId": "e29ab550-f032-4b8c-f4a8-7953b7f992ee"
   },
   "outputs": [
    {
     "name": "stdout",
     "output_type": "stream",
     "text": [
      "                                       headline_text\n",
      "0  [aba, decides, against, community, broadcastin...\n",
      "1  [act, fire, witnesses, must, be, aware, of, de...\n",
      "2  [a, g, calls, for, infrastructure, protection,...\n",
      "3  [air, nz, staff, in, aust, strike, for, pay, r...\n",
      "4  [air, nz, strike, to, affect, australian, trav...\n"
     ]
    }
   ],
   "source": [
    "print(text.head(5))"
   ]
  },
  {
   "cell_type": "code",
   "execution_count": 44,
   "metadata": {
    "colab": {
     "base_uri": "https://localhost:8080/",
     "height": 128
    },
    "colab_type": "code",
    "executionInfo": {
     "elapsed": 397450,
     "status": "ok",
     "timestamp": 1600822657898,
     "user": {
      "displayName": "고병화",
      "photoUrl": "https://lh3.googleusercontent.com/a-/AOh14GgLZcAZyPt33HiIqtXjHiL8D4PIcVPdfLgODP1QBA=s64",
      "userId": "12645007744594631320"
     },
     "user_tz": -540
    },
    "id": "p3vLCVIfB7d8",
    "outputId": "218f8579-fd3e-4fee-be72-70acee7e4a81"
   },
   "outputs": [
    {
     "name": "stderr",
     "output_type": "stream",
     "text": [
      "<ipython-input-44-2cd65609b27b>:3: SettingWithCopyWarning: \n",
      "A value is trying to be set on a copy of a slice from a DataFrame.\n",
      "Try using .loc[row_indexer,col_indexer] = value instead\n",
      "\n",
      "See the caveats in the documentation: https://pandas.pydata.org/pandas-docs/stable/user_guide/indexing.html#returning-a-view-versus-a-copy\n",
      "  text['headline_text'] = text['headline_text'].apply(lambda x: [word for word in x if word not in (stop)]) # 불용어 제거\n"
     ]
    }
   ],
   "source": [
    "from nltk.corpus import stopwords\n",
    "stop = stopwords.words('english')\n",
    "text['headline_text'] = text['headline_text'].apply(lambda x: [word for word in x if word not in (stop)]) # 불용어 제거"
   ]
  },
  {
   "cell_type": "code",
   "execution_count": 45,
   "metadata": {
    "colab": {
     "base_uri": "https://localhost:8080/",
     "height": 128
    },
    "colab_type": "code",
    "executionInfo": {
     "elapsed": 397443,
     "status": "ok",
     "timestamp": 1600822657899,
     "user": {
      "displayName": "고병화",
      "photoUrl": "https://lh3.googleusercontent.com/a-/AOh14GgLZcAZyPt33HiIqtXjHiL8D4PIcVPdfLgODP1QBA=s64",
      "userId": "12645007744594631320"
     },
     "user_tz": -540
    },
    "id": "A1J2hU9QB7eF",
    "outputId": "4d579dc3-84cd-40e5-8776-fcb9f6c89cfb"
   },
   "outputs": [
    {
     "name": "stdout",
     "output_type": "stream",
     "text": [
      "                                       headline_text\n",
      "0   [aba, decides, community, broadcasting, licence]\n",
      "1    [act, fire, witnesses, must, aware, defamation]\n",
      "2     [g, calls, infrastructure, protection, summit]\n",
      "3          [air, nz, staff, aust, strike, pay, rise]\n",
      "4  [air, nz, strike, affect, australian, travellers]\n"
     ]
    }
   ],
   "source": [
    "print(text.head(5))"
   ]
  },
  {
   "cell_type": "code",
   "execution_count": null,
   "metadata": {
    "colab": {},
    "colab_type": "code",
    "id": "93F68hdykEAv"
   },
   "outputs": [],
   "source": []
  },
  {
   "cell_type": "code",
   "execution_count": 46,
   "metadata": {
    "colab": {
     "base_uri": "https://localhost:8080/",
     "height": 240
    },
    "colab_type": "code",
    "executionInfo": {
     "elapsed": 25750,
     "status": "ok",
     "timestamp": 1600824197789,
     "user": {
      "displayName": "고병화",
      "photoUrl": "https://lh3.googleusercontent.com/a-/AOh14GgLZcAZyPt33HiIqtXjHiL8D4PIcVPdfLgODP1QBA=s64",
      "userId": "12645007744594631320"
     },
     "user_tz": -540
    },
    "id": "qScMah__B7eP",
    "outputId": "51e6b969-1313-46e6-bbd0-a321ba4b16e5"
   },
   "outputs": [
    {
     "name": "stdout",
     "output_type": "stream",
     "text": [
      "                                       headline_text\n",
      "0       [aba, decide, community, broadcast, licence]\n",
      "1      [act, fire, witness, must, aware, defamation]\n",
      "2      [g, call, infrastructure, protection, summit]\n",
      "3          [air, nz, staff, aust, strike, pay, rise]\n",
      "4  [air, nz, strike, affect, australian, travellers]\n"
     ]
    },
    {
     "name": "stderr",
     "output_type": "stream",
     "text": [
      "<ipython-input-46-05b7b8a9e1d0>:2: SettingWithCopyWarning: \n",
      "A value is trying to be set on a copy of a slice from a DataFrame.\n",
      "Try using .loc[row_indexer,col_indexer] = value instead\n",
      "\n",
      "See the caveats in the documentation: https://pandas.pydata.org/pandas-docs/stable/user_guide/indexing.html#returning-a-view-versus-a-copy\n",
      "  text['headline_text'] = text['headline_text'].apply(lambda x: [WordNetLemmatizer().lemmatize(word, pos='v') for word in x]) # 표제어 추출\n"
     ]
    }
   ],
   "source": [
    "from nltk.stem import WordNetLemmatizer\n",
    "text['headline_text'] = text['headline_text'].apply(lambda x: [WordNetLemmatizer().lemmatize(word, pos='v') for word in x]) # 표제어 추출\n",
    "print(text.head(5))"
   ]
  },
  {
   "cell_type": "code",
   "execution_count": 47,
   "metadata": {
    "colab": {
     "base_uri": "https://localhost:8080/",
     "height": 128
    },
    "colab_type": "code",
    "executionInfo": {
     "elapsed": 2819,
     "status": "ok",
     "timestamp": 1600824144030,
     "user": {
      "displayName": "고병화",
      "photoUrl": "https://lh3.googleusercontent.com/a-/AOh14GgLZcAZyPt33HiIqtXjHiL8D4PIcVPdfLgODP1QBA=s64",
      "userId": "12645007744594631320"
     },
     "user_tz": -540
    },
    "id": "H-YyMLdjB7eX",
    "outputId": "0022fd6a-4ef3-44bf-9ad5-055aaa1057a0"
   },
   "outputs": [
    {
     "name": "stdout",
     "output_type": "stream",
     "text": [
      "0       [decide, community, broadcast, licence]\n",
      "1      [fire, witness, must, aware, defamation]\n",
      "2    [call, infrastructure, protection, summit]\n",
      "3                   [staff, aust, strike, rise]\n",
      "4      [strike, affect, australian, travellers]\n",
      "Name: headline_text, dtype: object\n"
     ]
    }
   ],
   "source": [
    "tokenized_doc = text['headline_text'].apply(lambda x: [word for word in x if len(word) > 3])  # 길이가 3이하인 단어에 제거\n",
    "print(tokenized_doc[:5])"
   ]
  },
  {
   "cell_type": "markdown",
   "metadata": {
    "colab_type": "text",
    "id": "pw7U6rRdB7ef"
   },
   "source": [
    "#### TF-IDF 행렬 만들기"
   ]
  },
  {
   "cell_type": "code",
   "execution_count": 48,
   "metadata": {
    "colab": {
     "base_uri": "https://localhost:8080/",
     "height": 128
    },
    "colab_type": "code",
    "executionInfo": {
     "elapsed": 28723,
     "status": "ok",
     "timestamp": 1600824263603,
     "user": {
      "displayName": "고병화",
      "photoUrl": "https://lh3.googleusercontent.com/a-/AOh14GgLZcAZyPt33HiIqtXjHiL8D4PIcVPdfLgODP1QBA=s64",
      "userId": "12645007744594631320"
     },
     "user_tz": -540
    },
    "id": "noyCTaLkB7eg",
    "outputId": "3ee45bae-42f3-44d2-dbce-c156a4d97859"
   },
   "outputs": [
    {
     "name": "stderr",
     "output_type": "stream",
     "text": [
      "<ipython-input-48-93d63d960f46>:7: SettingWithCopyWarning: \n",
      "A value is trying to be set on a copy of a slice from a DataFrame.\n",
      "Try using .loc[row_indexer,col_indexer] = value instead\n",
      "\n",
      "See the caveats in the documentation: https://pandas.pydata.org/pandas-docs/stable/user_guide/indexing.html#returning-a-view-versus-a-copy\n",
      "  text['headline_text'] = detokenized_doc # 다시 text['headline_text']에 재저장\n"
     ]
    }
   ],
   "source": [
    "# 역토큰화 (토큰화 작업을 되돌림)\n",
    "detokenized_doc = []\n",
    "for i in range(len(text)):\n",
    "    t = ' '.join(tokenized_doc[i])\n",
    "    detokenized_doc.append(t)\n",
    "\n",
    "text['headline_text'] = detokenized_doc # 다시 text['headline_text']에 재저장"
   ]
  },
  {
   "cell_type": "code",
   "execution_count": 49,
   "metadata": {
    "colab": {
     "base_uri": "https://localhost:8080/",
     "height": 128
    },
    "colab_type": "code",
    "executionInfo": {
     "elapsed": 26729,
     "status": "ok",
     "timestamp": 1600824263604,
     "user": {
      "displayName": "고병화",
      "photoUrl": "https://lh3.googleusercontent.com/a-/AOh14GgLZcAZyPt33HiIqtXjHiL8D4PIcVPdfLgODP1QBA=s64",
      "userId": "12645007744594631320"
     },
     "user_tz": -540
    },
    "id": "ZtXqApN_B7el",
    "outputId": "fcb5f157-e5ea-41c5-c580-311c3ba25346"
   },
   "outputs": [
    {
     "data": {
      "text/plain": [
       "0       decide community broadcast licence\n",
       "1       fire witness must aware defamation\n",
       "2    call infrastructure protection summit\n",
       "3                   staff aust strike rise\n",
       "4      strike affect australian travellers\n",
       "Name: headline_text, dtype: object"
      ]
     },
     "execution_count": 49,
     "metadata": {},
     "output_type": "execute_result"
    }
   ],
   "source": [
    "text['headline_text'][:5]"
   ]
  },
  {
   "cell_type": "code",
   "execution_count": 50,
   "metadata": {
    "colab": {
     "base_uri": "https://localhost:8080/",
     "height": 36
    },
    "colab_type": "code",
    "executionInfo": {
     "elapsed": 31806,
     "status": "ok",
     "timestamp": 1600824271427,
     "user": {
      "displayName": "고병화",
      "photoUrl": "https://lh3.googleusercontent.com/a-/AOh14GgLZcAZyPt33HiIqtXjHiL8D4PIcVPdfLgODP1QBA=s64",
      "userId": "12645007744594631320"
     },
     "user_tz": -540
    },
    "id": "MpaIcY03B7es",
    "outputId": "365df4a2-a5c9-47de-9f49-bf2100bc27bb"
   },
   "outputs": [
    {
     "data": {
      "text/plain": [
       "(1082168, 1000)"
      ]
     },
     "execution_count": 50,
     "metadata": {},
     "output_type": "execute_result"
    }
   ],
   "source": [
    "from sklearn.feature_extraction.text import TfidfVectorizer\n",
    "vectorizer = TfidfVectorizer(stop_words='english', \n",
    "max_features= 1000) # 상위 1,000개의 단어를 보존 \n",
    "X = vectorizer.fit_transform(text['headline_text'])\n",
    "X.shape # TF-IDF 행렬의 크기 확인"
   ]
  },
  {
   "cell_type": "markdown",
   "metadata": {
    "colab_type": "text",
    "id": "AdNSz3J7B7e0"
   },
   "source": [
    "####  토픽 모델링"
   ]
  },
  {
   "cell_type": "code",
   "execution_count": 51,
   "metadata": {
    "colab": {},
    "colab_type": "code",
    "executionInfo": {
     "elapsed": 28614,
     "status": "ok",
     "timestamp": 1600824271429,
     "user": {
      "displayName": "고병화",
      "photoUrl": "https://lh3.googleusercontent.com/a-/AOh14GgLZcAZyPt33HiIqtXjHiL8D4PIcVPdfLgODP1QBA=s64",
      "userId": "12645007744594631320"
     },
     "user_tz": -540
    },
    "id": "Zj42iE4oB7e3"
   },
   "outputs": [],
   "source": [
    "from sklearn.decomposition import LatentDirichletAllocation\n",
    "lda_model=LatentDirichletAllocation(n_components=10,learning_method='online',random_state=777,max_iter=1)"
   ]
  },
  {
   "cell_type": "code",
   "execution_count": 52,
   "metadata": {
    "colab": {},
    "colab_type": "code",
    "executionInfo": {
     "elapsed": 188728,
     "status": "ok",
     "timestamp": 1600824432516,
     "user": {
      "displayName": "고병화",
      "photoUrl": "https://lh3.googleusercontent.com/a-/AOh14GgLZcAZyPt33HiIqtXjHiL8D4PIcVPdfLgODP1QBA=s64",
      "userId": "12645007744594631320"
     },
     "user_tz": -540
    },
    "id": "DaiNgPeiB7e9"
   },
   "outputs": [],
   "source": [
    "lda_top = lda_model.fit_transform(X)"
   ]
  },
  {
   "cell_type": "code",
   "execution_count": 53,
   "metadata": {
    "colab": {
     "base_uri": "https://localhost:8080/",
     "height": 277
    },
    "colab_type": "code",
    "executionInfo": {
     "elapsed": 187760,
     "status": "ok",
     "timestamp": 1600824432518,
     "user": {
      "displayName": "고병화",
      "photoUrl": "https://lh3.googleusercontent.com/a-/AOh14GgLZcAZyPt33HiIqtXjHiL8D4PIcVPdfLgODP1QBA=s64",
      "userId": "12645007744594631320"
     },
     "user_tz": -540
    },
    "id": "64BnffKlB7fK",
    "outputId": "02792512-a55a-40a0-8517-abc4a67911a0"
   },
   "outputs": [
    {
     "name": "stdout",
     "output_type": "stream",
     "text": [
      "[[1.00001533e-01 1.00001269e-01 1.00004179e-01 ... 1.00006124e-01\n",
      "  1.00003111e-01 1.00003064e-01]\n",
      " [1.00001199e-01 1.13513398e+03 3.50170830e+03 ... 1.00009349e-01\n",
      "  1.00001896e-01 1.00002937e-01]\n",
      " [1.00001811e-01 1.00001151e-01 1.00003566e-01 ... 1.00002693e-01\n",
      "  1.00002061e-01 7.53381835e+02]\n",
      " ...\n",
      " [1.00001065e-01 1.00001689e-01 1.00003278e-01 ... 1.00006721e-01\n",
      "  1.00004902e-01 1.00004759e-01]\n",
      " [1.00002401e-01 1.00000732e-01 1.00002989e-01 ... 1.00003517e-01\n",
      "  1.00001428e-01 1.00005266e-01]\n",
      " [1.00003427e-01 1.00002313e-01 1.00007340e-01 ... 1.00003732e-01\n",
      "  1.00001207e-01 1.00005153e-01]]\n",
      "(10, 1000)\n"
     ]
    }
   ],
   "source": [
    "print(lda_model.components_)\n",
    "print(lda_model.components_.shape) "
   ]
  },
  {
   "cell_type": "code",
   "execution_count": 54,
   "metadata": {
    "colab": {
     "base_uri": "https://localhost:8080/",
     "height": 203
    },
    "colab_type": "code",
    "executionInfo": {
     "elapsed": 186983,
     "status": "ok",
     "timestamp": 1600824432519,
     "user": {
      "displayName": "고병화",
      "photoUrl": "https://lh3.googleusercontent.com/a-/AOh14GgLZcAZyPt33HiIqtXjHiL8D4PIcVPdfLgODP1QBA=s64",
      "userId": "12645007744594631320"
     },
     "user_tz": -540
    },
    "id": "YDduQGgcB7fO",
    "outputId": "f78f43b4-2338-4f9c-cfcc-00478c4c57d4"
   },
   "outputs": [
    {
     "name": "stdout",
     "output_type": "stream",
     "text": [
      "Topic 1: [('government', 8725.19), ('sydney', 8393.29), ('queensland', 7720.12), ('change', 5874.27), ('home', 5674.38)]\n",
      "Topic 2: [('australia', 13691.08), ('australian', 11088.95), ('melbourne', 7528.43), ('world', 6707.7), ('south', 6677.03)]\n",
      "Topic 3: [('death', 5935.06), ('interview', 5924.98), ('kill', 5851.6), ('jail', 4632.85), ('life', 4275.27)]\n",
      "Topic 4: [('house', 6113.49), ('2016', 5488.19), ('state', 4923.41), ('brisbane', 4857.21), ('tasmania', 4610.97)]\n",
      "Topic 5: [('court', 7542.74), ('attack', 6959.64), ('open', 5663.0), ('face', 5193.63), ('warn', 5115.01)]\n",
      "Topic 6: [('market', 5545.86), ('rural', 5502.89), ('plan', 4828.71), ('indigenous', 4223.4), ('power', 3968.26)]\n",
      "Topic 7: [('charge', 8428.8), ('election', 7561.63), ('adelaide', 6758.36), ('make', 5658.99), ('test', 5062.69)]\n",
      "Topic 8: [('police', 12092.44), ('crash', 5281.14), ('drug', 4290.87), ('beat', 3257.58), ('rise', 2934.92)]\n",
      "Topic 9: [('fund', 4693.03), ('labor', 4047.69), ('national', 4038.68), ('council', 4006.62), ('claim', 3604.75)]\n",
      "Topic 10: [('trump', 11966.41), ('perth', 6456.53), ('report', 5611.33), ('school', 5465.06), ('woman', 5456.76)]\n"
     ]
    }
   ],
   "source": [
    "terms = vectorizer.get_feature_names() # 단어 집합. 1,000개의 단어가 저장됨.\n",
    "\n",
    "def get_topics(components, feature_names, n=5):\n",
    "    for idx, topic in enumerate(components):\n",
    "        print(\"Topic %d:\" % (idx+1), [(feature_names[i], topic[i].round(2)) for i in topic.argsort()[:-n - 1:-1]])\n",
    "        \n",
    "get_topics(lda_model.components_,terms)"
   ]
  },
  {
   "cell_type": "code",
   "execution_count": null,
   "metadata": {
    "colab": {},
    "colab_type": "code",
    "executionInfo": {
     "elapsed": 397818,
     "status": "aborted",
     "timestamp": 1600822658312,
     "user": {
      "displayName": "고병화",
      "photoUrl": "https://lh3.googleusercontent.com/a-/AOh14GgLZcAZyPt33HiIqtXjHiL8D4PIcVPdfLgODP1QBA=s64",
      "userId": "12645007744594631320"
     },
     "user_tz": -540
    },
    "id": "5ixRRBHZDIxB"
   },
   "outputs": [],
   "source": []
  }
 ],
 "metadata": {
  "accelerator": "GPU",
  "colab": {
   "collapsed_sections": [],
   "name": "08_토픽모델링.ipynb",
   "provenance": []
  },
  "kernelspec": {
   "display_name": "Python 3",
   "language": "python",
   "name": "python3"
  },
  "language_info": {
   "codemirror_mode": {
    "name": "ipython",
    "version": 3
   },
   "file_extension": ".py",
   "mimetype": "text/x-python",
   "name": "python",
   "nbconvert_exporter": "python",
   "pygments_lexer": "ipython3",
   "version": "3.8.3"
  }
 },
 "nbformat": 4,
 "nbformat_minor": 1
}
