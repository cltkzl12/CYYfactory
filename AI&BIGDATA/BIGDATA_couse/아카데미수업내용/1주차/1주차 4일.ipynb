{
 "cells": [
  {
   "cell_type": "markdown",
   "metadata": {},
   "source": [
    "# 초 받아서 시분초로 바꾸기"
   ]
  },
  {
   "cell_type": "code",
   "execution_count": 7,
   "metadata": {},
   "outputs": [
    {
     "name": "stdout",
     "output_type": "stream",
     "text": [
      "16시간 4분 54초\n"
     ]
    }
   ],
   "source": [
    "def hour_min_sec(second):\n",
    "    \n",
    "    hour = second//3600\n",
    "    minute = (second//60)%60\n",
    "    sec= second%60\n",
    "    return hour,minute, sec\n",
    "    \n",
    "    \n",
    "hour, min, sec = hour_min_sec(57894)\n",
    "print(\"%d시간 %d분 %d초\" %(hour,min,sec))"
   ]
  },
  {
   "cell_type": "markdown",
   "metadata": {},
   "source": [
    "# 숫자로 구성된 리스트 입력받아 최대 최소 리턴하고 리스트에서 삭제\n"
   ]
  },
  {
   "cell_type": "code",
   "execution_count": 22,
   "metadata": {},
   "outputs": [
    {
     "name": "stdout",
     "output_type": "stream",
     "text": [
      "1\n",
      "9\n",
      "[3, 5, 2]\n"
     ]
    }
   ],
   "source": [
    "def get_min_max(l):\n",
    "    cnt=0\n",
    "    min_val=l[0]\n",
    "    max_val=l[0]\n",
    "\n",
    "    for i in range(1,len(l)):\n",
    "        if(max_val < l[i]):\n",
    "            max_val = l[i]\n",
    "        if(min_val > l[i]):\n",
    "            min_val = l[i]\n",
    "    \n",
    "    del l[l.index(min_val)]\n",
    "    del l[l.index(max_val)]\n",
    "    , 2, 3, 4, 5, 6]\n",
    "    print(min_val)\n",
    "    print(max_val)\n",
    "    print(l)\n",
    "\n",
    "get_min_max([3,5,9,1,2])\n"
   ]
  },
  {
   "cell_type": "markdown",
   "metadata": {},
   "source": [
    "# 스칼라곱"
   ]
  },
  {
   "cell_type": "code",
   "execution_count": 75,
   "metadata": {},
   "outputs": [
    {
     "name": "stdout",
     "output_type": "stream",
     "text": [
      "15\n",
      "0\n",
      "3\n"
     ]
    }
   ],
   "source": [
    "# def sparseVectorDotProduc(v1,v2):\n",
    "#     sum=0\n",
    "#     for k1,v1 in v1.items():\n",
    "#         for a,b in v2.items():\n",
    "#             if(k1==a):\n",
    "#                 sum= v1*b+sum\n",
    "#     return sum\n",
    "\n",
    "# def sparseVectorDotProduc(v1,v2):\n",
    "#     res=0\n",
    "#     for a in v1:\n",
    "#         if a in v2:\n",
    "#             res+=v1[a] *v2[a]\n",
    "#     return res\n",
    "    \n",
    "def sparseVectorDotProduc(v1,v2):\n",
    "    return sum(v1[k]*v2[k] for k in v1 if k in v2)\n",
    "    \n",
    "v1={'a':5} \n",
    "v2={'a':3}\n",
    "print(sparseVectorDotProdval = str(1000000)\n",
    "val[-1]uc(v1,v2))\n",
    "\n",
    "\n",
    "v1={'c':5}\n",
    "v2={'a':2, 'b':1}\n",
    "print(sparseVectorDotProduc(v1,v2))\n",
    "\n",
    "v1={'a':5, 'b':4}\n",
    "v2={'a':-1, 'b':2}\n",
    "print(sparseVectorDotProduc(v1,v2))\n"
   ]
  },
  {
   "cell_type": "markdown",
   "metadata": {},
   "source": [
    "# 로또 추첨"
   ]
  },
  {
   "cell_type": "code",
   "execution_count": 78,
   "metadata": {},
   "outputs": [
    {
     "name": "stdout",
     "output_type": "stream",
     "text": [
      "None\n"
     ]
    }
   ],
   "source": [
    "input(\"명령어 : \")import random\n",
    "lotto_num = list(range(1,46))\n",
    "random.shuffle(lotto_num)\n",
    "sorted(lotto_num[0:6])"
   ]
  },
  {
   "cell_type": "markdown",
   "metadata": {},
   "source": [
    "# class 공부"
   ]
  },
  {
   "cell_type": "code",
   "execution_count": 82,
   "metadata": {},
   "outputs": [
    {
     "data": {
      "text/plain": [
       "[12, 16, 26, 33, 36, 44]"
      ]
     },
     "execution_count": 82,
     "metadata": {},
     "output_type": "execute_result"
    }
   ],
   "source": [
    "class Account:\n",
    "    # 계좌의 속성(Attribute)\n",
    "    number = ‘OOOO-OOO-OOOOOO’\n",
    "    balance = 0\n",
    "    rate = 1.0\n",
    "    # 계좌의 기능(Method)\n",
    "    def deposit(self, money): #입금\n",
    "    self.balance += money\n",
    "    def withdraw(self, money): #인출\n",
    "    self.balance -= money\n",
    "    def obtain_interest(self): #이자 획득\n",
    "    self.balance += self.balance*(self.rate/100)\n",
    "    \n",
    "acc1 = Account()\n",
    "acc2 = Account()\n",
    "acc3 = Account()\n",
    "acc1.deposit(500)\n",
    "acc2.deposit(1000)\n",
    "print(acc1.balance)\n",
    "print(acc2.balance)\n",
    "print(acc3.balance).\n",
    "\n",
    "acc1.deposit(500)\n",
    "acc2.obtain_interest()"
   ]
  },
  {
   "cell_type": "markdown",
   "metadata": {},
   "source": [
    "# 생성자"
   ]
  },
  {
   "cell_type": "code",
   "execution_count": null,
   "metadata": {},
   "outputs": [],
   "source": [
    "class Account:\n",
    "\n",
    "    # def __init__(self): Default 생성자\n",
    "    def __init__(self, num=‘OOO-OOO-OOOOO', amnt=0, rate=1.0):\n",
    "    self.number = num\n",
    "    self.balance = amnt\n",
    "    self.rate = rate"
   ]
  },
  {
   "cell_type": "code",
   "execution_count": null,
   "metadata": {},
   "outputs": [],
   "source": []
  },
  {
   "cell_type": "code",
   "execution_count": 112,
   "metadata": {},
   "outputs": [],
   "source": [
    "class Account:\n",
    "    cnt=0\n",
    "    def __init__(self, num='000-0000-0000', amnt=0,rate=1.2):\n",
    "        self.num=num\n",
    "        self.amnt=amnt\n",
    "        self.rate=rate\n",
    "        Account.cnt+=1\n",
    "        \n",
    "    def deposit(self, money):\n",
    "        self.amnt+=money\n",
    "    def withdraw(self, money):\n",
    "        self.amnt-=money\n",
    "    def obtain_interest(self):\n",
    "        self.amnt+= self.amnt*(self.rate/100)\n",
    "    \n",
    "    def get_bal(self):\n",
    "        return self.amnt \n",
    "    def get_num(self):\n",
    "        return self.num\n",
    "    def set_balance(self, amnt):\n",
    "        self.amnt = amnt\n",
    "    \n",
    "    def transfer(self,another,money):\n",
    "        self.amnt-=money\n",
    "        another.amnt+=money\n",
    "    \n",
    "    \n",
    "    def __add__(self, another): #두 계좌 통합 기능\n",
    "        new_acc=Account(amnt=self.amnt+another.amnt,\n",
    "        rate=self.rate)\n",
    "        return new_acc\n",
    "    \n",
    "    "
   ]
  },
  {
   "cell_type": "code",
   "execution_count": 121,
   "metadata": {},
   "outputs": [],
   "source": [
    "class MinBalanceAccount(Account): #Account 클래스를 상속받음\n",
    "    def __init__(self, min_balance, num='OOOO-OOO-OOOOO',\n",
    "    amnt=0, rate=1.0):\n",
    "        Account.__init__(self, num=num, amnt=amnt,\n",
    "        rate=rate)\n",
    "        self.minimum_balance = min_balance\n",
    "        self.bonus_rate = 1.0"
   ]
  },
  {
   "cell_type": "code",
   "execution_count": 117,
   "metadata": {},
   "outputs": [],
   "source": [
    "ac=Account('1',50000)\n",
    "acc=Account('2',40000)\n",
    "\n",
    "ac.transfer(acc,1000)\n",
    "\n",
    "# a=ac+acc\n",
    "# print(a.get_num())"
   ]
  },
  {
   "cell_type": "code",
   "execution_count": 118,
   "metadata": {},
   "outputs": [
    {
     "name": "stdout",
     "output_type": "stream",
     "text": [
      "49000\n"
     ]
    }
   ],
   "source": [
    "print(ac.get_bal())"
   ]
  },
  {
   "cell_type": "code",
   "execution_count": 123,
   "metadata": {},
   "outputs": [],
   "source": [
    "e= MinBalanceAccount(1000)"
   ]
  },
  {
   "cell_type": "code",
   "execution_count": 124,
   "metadata": {},
   "outputs": [],
   "source": [
    "e.transfer(acc,100)"
   ]
  },
  {
   "cell_type": "code",
   "execution_count": 126,
   "metadata": {},
   "outputs": [
    {
     "name": "stdout",
     "output_type": "stream",
     "text": [
      "-100\n"
     ]
    }
   ],
   "source": [
    "print(e.get_bal())"
   ]
  },
  {
   "cell_type": "code",
   "execution_count": null,
   "metadata": {},
   "outputs": [],
   "source": []
  },
  {
   "cell_type": "code",
   "execution_count": null,
   "metadata": {},
   "outputs": [],
   "source": []
  },
  {
   "cell_type": "code",
   "execution_count": null,
   "metadata": {},
   "outputs": [],
   "source": []
  },
  {
   "cell_type": "code",
   "execution_count": null,
   "metadata": {},
   "outputs": [],
   "source": []
  },
  {
   "cell_type": "code",
   "execution_count": null,
   "metadata": {},
   "outputs": [],
   "source": []
  }
 ],
 "metadata": {
  "kernelspec": {
   "display_name": "Python 3",
   "language": "python",
   "name": "python3"
  },
  "language_info": {
   "codemirror_mode": {
    "name": "ipython",
    "version": 3
   },
   "file_extension": ".py",
   "mimetype": "text/x-python",
   "name": "python",
   "nbconvert_exporter": "python",
   "pygments_lexer": "ipython3",
   "version": "3.7.4"
  }
 },
 "nbformat": 4,
 "nbformat_minor": 2
}
