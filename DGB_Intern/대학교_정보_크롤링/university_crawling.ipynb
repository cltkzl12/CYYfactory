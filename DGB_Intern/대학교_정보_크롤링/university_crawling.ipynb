{
 "cells": [
  {
   "cell_type": "markdown",
   "metadata": {},
   "source": [
    "## 대학교 주소지와 몇년제인지 국립/사립을 크롤링 해오는 코드\n",
    "\n",
    "# 알고리즘\n",
    "\n",
    "# 1. 엑셀을 연결해서 대학교명을 변수로 받습니다. \n",
    "# 2. 크롬창을 연뒤 네이버로 대학교 명을 검색후 정보를 따옵니다.\n",
    "# 3. 받은 정보를 엑셀에 기입후 저장합니다. \n",
    "\n",
    "## ※작동을 원하시면 university.xlsx의 경로수정 과 크롬드라이버를 c드라이브에 넣어두셔야 합니다!"
   ]
  },
  {
   "cell_type": "code",
   "execution_count": 1,
   "metadata": {},
   "outputs": [
    {
     "name": "stderr",
     "output_type": "stream",
     "text": [
      "C:\\Users\\LG\\Anaconda3\\lib\\site-packages\\ipykernel_launcher.py:19: DeprecationWarning: use options instead of chrome_options\n"
     ]
    },
    {
     "ename": "AttributeError",
     "evalue": "'NoneType' object has no attribute 'text'",
     "output_type": "error",
     "traceback": [
      "\u001b[1;31m---------------------------------------------------------------------------\u001b[0m",
      "\u001b[1;31mAttributeError\u001b[0m                            Traceback (most recent call last)",
      "\u001b[1;32m<ipython-input-1-8b9bf403d5e9>\u001b[0m in \u001b[0;36m<module>\u001b[1;34m\u001b[0m\n\u001b[0;32m     37\u001b[0m     \u001b[0maddress\u001b[0m \u001b[1;33m=\u001b[0m \u001b[0mdriver\u001b[0m\u001b[1;33m.\u001b[0m\u001b[0mfind_element_by_class_name\u001b[0m\u001b[1;33m(\u001b[0m\u001b[1;34m\"txt_ellipsis\"\u001b[0m\u001b[1;33m)\u001b[0m\u001b[1;33m.\u001b[0m\u001b[0mtext\u001b[0m\u001b[1;33m\u001b[0m\u001b[1;33m\u001b[0m\u001b[0m\n\u001b[0;32m     38\u001b[0m     \u001b[0ma\u001b[0m\u001b[1;33m.\u001b[0m\u001b[0mappend\u001b[0m\u001b[1;33m(\u001b[0m\u001b[0maddress\u001b[0m\u001b[1;33m)\u001b[0m\u001b[1;33m\u001b[0m\u001b[1;33m\u001b[0m\u001b[0m\n\u001b[1;32m---> 39\u001b[1;33m     \u001b[0mdiff\u001b[0m \u001b[1;33m=\u001b[0m \u001b[0mdriver\u001b[0m\u001b[1;33m.\u001b[0m\u001b[0mfind_element_by_class_name\u001b[0m\u001b[1;33m(\u001b[0m\u001b[1;34m\"txt_info\"\u001b[0m\u001b[1;33m)\u001b[0m\u001b[1;33m.\u001b[0m\u001b[0mtext\u001b[0m\u001b[1;33m\u001b[0m\u001b[1;33m\u001b[0m\u001b[0m\n\u001b[0m\u001b[0;32m     40\u001b[0m     \u001b[0mb\u001b[0m\u001b[1;33m.\u001b[0m\u001b[0mappend\u001b[0m\u001b[1;33m(\u001b[0m\u001b[0mdiff\u001b[0m\u001b[1;33m)\u001b[0m\u001b[1;33m\u001b[0m\u001b[1;33m\u001b[0m\u001b[0m\n\u001b[0;32m     41\u001b[0m     \u001b[0mdriver\u001b[0m\u001b[1;33m.\u001b[0m\u001b[0mfind_element_by_class_name\u001b[0m\u001b[1;33m(\u001b[0m\u001b[1;34m\"box_window\"\u001b[0m\u001b[1;33m)\u001b[0m\u001b[1;33m.\u001b[0m\u001b[0mclear\u001b[0m\u001b[1;33m(\u001b[0m\u001b[1;33m)\u001b[0m\u001b[1;33m\u001b[0m\u001b[1;33m\u001b[0m\u001b[0m\n",
      "\u001b[1;31mAttributeError\u001b[0m: 'NoneType' object has no attribute 'text'"
     ]
    }
   ],
   "source": [
    "from selenium import webdriver\n",
    "from selenium.webdriver.chrome.options import Options\n",
    "import os\n",
    "from openpyxl import load_workbook\n",
    "\n",
    "# 엑셀을 받는다 \n",
    "load_ex = load_workbook('C:\\\\Users\\\\LG\\\\Desktop\\\\Python\\\\대학교 정보 크롤링\\\\university.xlsx')\n",
    "load_exs = load_ex['Sheet1'] \n",
    "value = []\n",
    "\n",
    "#엑셀의 대학교 정보가 있는 열을 value 배열에 추가한다.\n",
    "cnt=1\n",
    "while(load_exs['A'+str(cnt)].value):\n",
    "    value.append(load_exs['A'+str(cnt)].value)\n",
    "    cnt= cnt+1\n",
    "\n",
    "#크롬창을 연다    \n",
    "options = webdriver.ChromeOptions()\n",
    "driver = webdriver.Chrome('c:\\chromedriver.exe', chrome_options=options)\n",
    "a=[]\n",
    "b=[]\n",
    "\n",
    "#네이버 접속\n",
    "driver.get('https://www.naver.com')\n",
    "\n",
    "\n",
    "#네이버의 검생창에 대학명을 입력후 검색 버튼을 누르고 각대학의 정보를 a,b 배열에 추가한다.\n",
    "for i in value:\n",
    "    try:\n",
    "        university = driver.find_element_by_class_name(\"input_text\")\n",
    "        university.send_keys(i)\n",
    "        driver.find_element_by_class_name(\"sch_smit\").click()\n",
    "    except Exception as e:\n",
    "        university = driver.find_element_by_class_name(\"box_window\")\n",
    "        university.send_keys(i)\n",
    "        driver.find_element_by_class_name(\"ico_search\").click()\n",
    "    address = driver.find_element_by_class_name(\"txt_ellipsis\").text\n",
    "    a.append(address)\n",
    "    diff = driver.find_element_by_class_name(\"txt_info\").text\n",
    "    b.append(diff)\n",
    "    driver.find_element_by_class_name(\"box_window\").clear()\n",
    "    \n",
    "#a,b 배열에 추가했던 정보를 엑셀에 기입한뒤 저장한다.\n",
    "for row_index in range(1,len(value)+1):\n",
    "    load_exs.cell(row=row_index, column=2).value = a[row_index-1]\n",
    "    load_exs.cell(row=row_index, column=3).value = b[row_index-1]\n",
    "load_ex.save(filename = 'aaa1.xlsx')\n"
   ]
  },
  {
   "cell_type": "markdown",
   "metadata": {},
   "source": [
    "## 제작 이유 : 교내 행정 조교 중에 각 대학교 주소지와 몇년제인지 사립인지 국립인  지 조사해오라는 업무를 받아서 번거로움을 덜기위해 제작 하였습니다\n"
   ]
  },
  {
   "cell_type": "code",
   "execution_count": 2,
   "metadata": {},
   "outputs": [
    {
     "data": {
      "text/plain": [
       "['서울특별시 동대문구 경희대로 26',\n",
       " '서울특별시 성북구 안암로 145',\n",
       " '경기도 용인시 수지구 죽전로 152',\n",
       " '서울특별시 중구 필동로 1길30',\n",
       " '서울특별시 마포구 백범로 35',\n",
       " '서울특별시 관악구 관악로 1']"
      ]
     },
     "execution_count": 2,
     "metadata": {},
     "output_type": "execute_result"
    }
   ],
   "source": [
    "a"
   ]
  },
  {
   "cell_type": "code",
   "execution_count": 3,
   "metadata": {},
   "outputs": [
    {
     "data": {
      "text/plain": [
       "['사립 대학교 4년제', '사립 대학교 4년제', '사립 대학교 4년제', '사립 대학교 4년제', '사립 대학교 4년제']"
      ]
     },
     "execution_count": 3,
     "metadata": {},
     "output_type": "execute_result"
    }
   ],
   "source": [
    "b"
   ]
  },
  {
   "cell_type": "code",
   "execution_count": null,
   "metadata": {},
   "outputs": [],
   "source": []
  }
 ],
 "metadata": {
  "kernelspec": {
   "display_name": "Python 3",
   "language": "python",
   "name": "python3"
  },
  "language_info": {
   "codemirror_mode": {
    "name": "ipython",
    "version": 3
   },
   "file_extension": ".py",
   "mimetype": "text/x-python",
   "name": "python",
   "nbconvert_exporter": "python",
   "pygments_lexer": "ipython3",
   "version": "3.7.1"
  }
 },
 "nbformat": 4,
 "nbformat_minor": 2
}
