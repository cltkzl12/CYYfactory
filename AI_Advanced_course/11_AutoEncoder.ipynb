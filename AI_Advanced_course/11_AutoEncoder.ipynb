{
 "cells": [
  {
   "cell_type": "markdown",
   "metadata": {
    "id": "QLsict0SEj83"
   },
   "source": [
    "### AutoEncoder\n",
    "- 입력값과 출력값이 같도록하는 신경망\n",
    "- 은닉계층의 뉴련이 입력보다 적어 압축하는 효과, 노이즈 제거에 사용\n",
    "- 비지도 학습에 일종임\n",
    "\n",
    "https://sunghan-kim.github.io/ml/3min-dl-ch08/#81-%EC%98%A4%ED%86%A0%EC%9D%B8%EC%BD%94%EB%8D%94-%EA%B0%9C%EB%85%90\n",
    "https://excelsior-cjh.tistory.com/187\n",
    "\n",
    "https://teddylee777.github.io/tensorflow/autoencoder\n",
    "\n",
    "https://github.com/teddylee777/data-science-for-fun/blob/master/02-tensorflow/05-auto-encoder/01-basic-auto-encoder-MNIST.ipynb"
   ]
  },
  {
   "cell_type": "code",
   "execution_count": 1,
   "metadata": {
    "executionInfo": {
     "elapsed": 2871,
     "status": "ok",
     "timestamp": 1608214813296,
     "user": {
      "displayName": "고병화",
      "photoUrl": "https://lh3.googleusercontent.com/a-/AOh14GgLZcAZyPt33HiIqtXjHiL8D4PIcVPdfLgODP1QBA=s64",
      "userId": "12645007744594631320"
     },
     "user_tz": -540
    },
    "id": "zHkzaB0FEj89"
   },
   "outputs": [],
   "source": [
    "from tensorflow.keras.layers import Input,Conv2D, Conv2DTranspose, Dense, Flatten, Dropout, BatchNormalization, Reshape, LeakyReLU\n",
    "from tensorflow.keras.models import Model, Sequential\n",
    "from tensorflow.keras.callbacks import ModelCheckpoint\n",
    "import tensorflow as tf"
   ]
  },
  {
   "cell_type": "code",
   "execution_count": 2,
   "metadata": {
    "colab": {
     "base_uri": "https://localhost:8080/"
    },
    "executionInfo": {
     "elapsed": 3658,
     "status": "ok",
     "timestamp": 1608214814111,
     "user": {
      "displayName": "고병화",
      "photoUrl": "https://lh3.googleusercontent.com/a-/AOh14GgLZcAZyPt33HiIqtXjHiL8D4PIcVPdfLgODP1QBA=s64",
      "userId": "12645007744594631320"
     },
     "user_tz": -540
    },
    "id": "srzpIcHmEj89",
    "outputId": "42d0037a-b06b-4e69-f168-8eb40f11540c"
   },
   "outputs": [
    {
     "name": "stdout",
     "output_type": "stream",
     "text": [
      "Downloading data from https://storage.googleapis.com/tensorflow/tf-keras-datasets/mnist.npz\n",
      "11493376/11490434 [==============================] - 0s 0us/step\n"
     ]
    },
    {
     "data": {
      "text/plain": [
       "((60000, 28, 28), (60000,))"
      ]
     },
     "execution_count": 2,
     "metadata": {
      "tags": []
     },
     "output_type": "execute_result"
    }
   ],
   "source": [
    "mnist = tf.keras.datasets.mnist\n",
    "(x_train, y_train), (x_valid, y_valid) = mnist.load_data()\n",
    "x_train.shape, y_train.shape"
   ]
  },
  {
   "cell_type": "code",
   "execution_count": 3,
   "metadata": {
    "colab": {
     "base_uri": "https://localhost:8080/"
    },
    "executionInfo": {
     "elapsed": 3635,
     "status": "ok",
     "timestamp": 1608214814113,
     "user": {
      "displayName": "고병화",
      "photoUrl": "https://lh3.googleusercontent.com/a-/AOh14GgLZcAZyPt33HiIqtXjHiL8D4PIcVPdfLgODP1QBA=s64",
      "userId": "12645007744594631320"
     },
     "user_tz": -540
    },
    "id": "pHowNePiEj8-",
    "outputId": "8f735e4d-955c-4dc0-9aee-13eb9017eabd"
   },
   "outputs": [
    {
     "data": {
      "text/plain": [
       "(-1.0, 1.0)"
      ]
     },
     "execution_count": 3,
     "metadata": {
      "tags": []
     },
     "output_type": "execute_result"
    }
   ],
   "source": [
    "x_train = x_train.reshape(-1, 28, 28, 1)\n",
    "x_train = x_train / 127.5 - 1       # Normailization :-1 ~ 1 사이의 값\n",
    "x_train.min(), x_train.max()"
   ]
  },
  {
   "cell_type": "code",
   "execution_count": 4,
   "metadata": {
    "colab": {
     "base_uri": "https://localhost:8080/"
    },
    "executionInfo": {
     "elapsed": 9277,
     "status": "ok",
     "timestamp": 1608214819770,
     "user": {
      "displayName": "고병화",
      "photoUrl": "https://lh3.googleusercontent.com/a-/AOh14GgLZcAZyPt33HiIqtXjHiL8D4PIcVPdfLgODP1QBA=s64",
      "userId": "12645007744594631320"
     },
     "user_tz": -540
    },
    "id": "RXH9TJpgEj8_",
    "outputId": "63107fd4-92d4-4d68-8b69-03136d182b18"
   },
   "outputs": [
    {
     "name": "stdout",
     "output_type": "stream",
     "text": [
      "Model: \"functional_1\"\n",
      "_________________________________________________________________\n",
      "Layer (type)                 Output Shape              Param #   \n",
      "=================================================================\n",
      "input_1 (InputLayer)         [(None, 28, 28, 1)]       0         \n",
      "_________________________________________________________________\n",
      "conv2d (Conv2D)              (None, 28, 28, 32)        320       \n",
      "_________________________________________________________________\n",
      "batch_normalization (BatchNo (None, 28, 28, 32)        128       \n",
      "_________________________________________________________________\n",
      "leaky_re_lu (LeakyReLU)      (None, 28, 28, 32)        0         \n",
      "_________________________________________________________________\n",
      "conv2d_1 (Conv2D)            (None, 14, 14, 64)        18496     \n",
      "_________________________________________________________________\n",
      "batch_normalization_1 (Batch (None, 14, 14, 64)        256       \n",
      "_________________________________________________________________\n",
      "leaky_re_lu_1 (LeakyReLU)    (None, 14, 14, 64)        0         \n",
      "_________________________________________________________________\n",
      "conv2d_2 (Conv2D)            (None, 7, 7, 64)          36928     \n",
      "_________________________________________________________________\n",
      "batch_normalization_2 (Batch (None, 7, 7, 64)          256       \n",
      "_________________________________________________________________\n",
      "leaky_re_lu_2 (LeakyReLU)    (None, 7, 7, 64)          0         \n",
      "_________________________________________________________________\n",
      "conv2d_3 (Conv2D)            (None, 7, 7, 64)          36928     \n",
      "_________________________________________________________________\n",
      "batch_normalization_3 (Batch (None, 7, 7, 64)          256       \n",
      "_________________________________________________________________\n",
      "leaky_re_lu_3 (LeakyReLU)    (None, 7, 7, 64)          0         \n",
      "_________________________________________________________________\n",
      "flatten (Flatten)            (None, 3136)              0         \n",
      "_________________________________________________________________\n",
      "dense (Dense)                (None, 2)                 6274      \n",
      "=================================================================\n",
      "Total params: 99,842\n",
      "Trainable params: 99,394\n",
      "Non-trainable params: 448\n",
      "_________________________________________________________________\n"
     ]
    }
   ],
   "source": [
    "# Encoder 모델 구현\n",
    "\n",
    "encoder_input = Input(shape=(28, 28, 1))\n",
    "\n",
    "# 28 X 28\n",
    "x = Conv2D(32, 3, padding='same')(encoder_input) \n",
    "x = BatchNormalization()(x)\n",
    "x = LeakyReLU()(x) \n",
    "\n",
    "# 28 X 28 -> 14 X 14\n",
    "x = Conv2D(64, 3, strides=2, padding='same')(x)\n",
    "x = BatchNormalization()(x) \n",
    "x = LeakyReLU()(x) \n",
    "\n",
    "# 14 X 14 -> 7 X 7\n",
    "x = Conv2D(64, 3, strides=2, padding='same')(x)\n",
    "x = BatchNormalization()(x)\n",
    "x = LeakyReLU()(x)\n",
    "\n",
    "# 17 X 7\n",
    "x = Conv2D(64, 3, padding='same')(x)\n",
    "x = BatchNormalization()(x)\n",
    "x = LeakyReLU()(x)\n",
    "\n",
    "x = Flatten()(x)\n",
    "\n",
    "# 2D 좌표로 표기하기 위하여 2를 출력값으로 지정합니다.\n",
    "encoder_output = Dense(2)(x)\n",
    "\n",
    "encoder = Model(encoder_input, encoder_output)\n",
    "encoder.summary()"
   ]
  },
  {
   "attachments": {
    "image.png": {
     "image/png": "[encoded data removed]"
    }
   },
   "cell_type": "markdown",
   "metadata": {},
   "source": [
    "### LeakyReLU\n",
    "https://forensics.tistory.com/23\n",
    "- LeakyReLU 함수는 LReLU라고도 하며 ReLU 함수를 개량시킨 것으로 식 (8.6)과 같이 정의되며 α는 0.01과 같은 작은 상수값이다. <br>\n",
    "- f(x)=max(αx,x) <br>\n",
    "- LReLU의 그래프는 아래와 같으며, ReLU 함수와의 차이점은 α에 의해 x<0일 때도 작은 경사(\\alpha)를 갖는다. LReLU 함수를 미분하면 다음과 같다. <br>\n",
    "- f′(x)= 1 (x > 0)\n",
    "- f′(x)= α (x <= 0)\n",
    "        \n",
    "\n",
    "![image.png](attachment:image.png)"
   ]
  },
  {
   "cell_type": "code",
   "execution_count": 18,
   "metadata": {},
   "outputs": [],
   "source": [
    "def lrelu(x, alpha=0.01):\n",
    "    if x >= 0:\n",
    "        return x\n",
    "    else:\n",
    "        return alpha * x"
   ]
  },
  {
   "cell_type": "code",
   "execution_count": 5,
   "metadata": {
    "colab": {
     "base_uri": "https://localhost:8080/"
    },
    "executionInfo": {
     "elapsed": 9273,
     "status": "ok",
     "timestamp": 1608214819772,
     "user": {
      "displayName": "고병화",
      "photoUrl": "https://lh3.googleusercontent.com/a-/AOh14GgLZcAZyPt33HiIqtXjHiL8D4PIcVPdfLgODP1QBA=s64",
      "userId": "12645007744594631320"
     },
     "user_tz": -540
    },
    "id": "CS8uZth0Ej8_",
    "outputId": "e5ecee39-c3c2-4fe5-ba17-753b33da1262"
   },
   "outputs": [
    {
     "name": "stdout",
     "output_type": "stream",
     "text": [
      "Model: \"functional_3\"\n",
      "_________________________________________________________________\n",
      "Layer (type)                 Output Shape              Param #   \n",
      "=================================================================\n",
      "input_2 (InputLayer)         [(None, 2)]               0         \n",
      "_________________________________________________________________\n",
      "dense_1 (Dense)              (None, 3136)              9408      \n",
      "_________________________________________________________________\n",
      "reshape (Reshape)            (None, 7, 7, 64)          0         \n",
      "_________________________________________________________________\n",
      "conv2d_transpose (Conv2DTran (None, 7, 7, 64)          36928     \n",
      "_________________________________________________________________\n",
      "batch_normalization_4 (Batch (None, 7, 7, 64)          256       \n",
      "_________________________________________________________________\n",
      "leaky_re_lu_4 (LeakyReLU)    (None, 7, 7, 64)          0         \n",
      "_________________________________________________________________\n",
      "conv2d_transpose_1 (Conv2DTr (None, 14, 14, 64)        36928     \n",
      "_________________________________________________________________\n",
      "batch_normalization_5 (Batch (None, 14, 14, 64)        256       \n",
      "_________________________________________________________________\n",
      "leaky_re_lu_5 (LeakyReLU)    (None, 14, 14, 64)        0         \n",
      "_________________________________________________________________\n",
      "conv2d_transpose_2 (Conv2DTr (None, 28, 28, 64)        36928     \n",
      "_________________________________________________________________\n",
      "batch_normalization_6 (Batch (None, 28, 28, 64)        256       \n",
      "_________________________________________________________________\n",
      "leaky_re_lu_6 (LeakyReLU)    (None, 28, 28, 64)        0         \n",
      "_________________________________________________________________\n",
      "conv2d_transpose_3 (Conv2DTr (None, 28, 28, 32)        18464     \n",
      "_________________________________________________________________\n",
      "batch_normalization_7 (Batch (None, 28, 28, 32)        128       \n",
      "_________________________________________________________________\n",
      "leaky_re_lu_7 (LeakyReLU)    (None, 28, 28, 32)        0         \n",
      "_________________________________________________________________\n",
      "conv2d_transpose_4 (Conv2DTr (None, 28, 28, 1)         289       \n",
      "=================================================================\n",
      "Total params: 139,841\n",
      "Trainable params: 139,393\n",
      "Non-trainable params: 448\n",
      "_________________________________________________________________\n"
     ]
    }
   ],
   "source": [
    "# Decoder 모델 구현\n",
    "# Input으로는 2D 좌표가 들어갑니다.\n",
    "decoder_input = Input(shape=(2, ))\n",
    "\n",
    "# 2D 좌표를 7*7*64 개의 neuron 출력 값을 가지도록 변경합니다.\n",
    "x = Dense(7*7*64)(decoder_input)\n",
    "x = Reshape( (7, 7, 64))(x)\n",
    "\n",
    "# 7 X 7 -> 7 X 7\n",
    "x = Conv2DTranspose(64, 3, strides=1, padding='same')(x)\n",
    "x = BatchNormalization()(x)\n",
    "x = LeakyReLU()(x)\n",
    "\n",
    "# 7 X 7 -> 14 X 14\n",
    "x = Conv2DTranspose(64, 3, strides=2, padding='same')(x)\n",
    "x = BatchNormalization()(x)\n",
    "x = LeakyReLU()(x)\n",
    "\n",
    "# 14 X 14 -> 28 X 28\n",
    "x = Conv2DTranspose(64, 3, strides=2, padding='same')(x)\n",
    "x = BatchNormalization()(x)\n",
    "x = LeakyReLU()(x)\n",
    "\n",
    "# 28 X 28 -> 28 X 28\n",
    "x = Conv2DTranspose(32, 3, strides=1, padding='same')(x)\n",
    "x = BatchNormalization()(x)\n",
    "x = LeakyReLU()(x)\n",
    "\n",
    "# 최종 output\n",
    "decoder_output = Conv2DTranspose(1, 3, strides=1, padding='same', activation='tanh')(x)\n",
    "\n",
    "decoder = Model(decoder_input, decoder_output)\n",
    "\n",
    "decoder.summary()"
   ]
  },
  {
   "cell_type": "code",
   "execution_count": 6,
   "metadata": {
    "executionInfo": {
     "elapsed": 9271,
     "status": "ok",
     "timestamp": 1608214819773,
     "user": {
      "displayName": "고병화",
      "photoUrl": "https://lh3.googleusercontent.com/a-/AOh14GgLZcAZyPt33HiIqtXjHiL8D4PIcVPdfLgODP1QBA=s64",
      "userId": "12645007744594631320"
     },
     "user_tz": -540
    },
    "id": "VvNi9fWpEj9A"
   },
   "outputs": [],
   "source": [
    "LEARNING_RATE = 0.0005\n",
    "BATCH_SIZE = 32\n",
    "\n",
    "encoder_in = Input(shape=(28, 28, 1))\n",
    "x = encoder(encoder_in)\n",
    "decoder_out = decoder(x)\n",
    "\n",
    "auto_encoder = Model(encoder_in, decoder_out)\n",
    "\n",
    "auto_encoder.compile(optimizer=tf.keras.optimizers.Adam(LEARNING_RATE), \n",
    "                     loss=tf.keras.losses.MeanSquaredError())\n",
    "\n",
    "checkpoint_path = '01-basic-auto-encoder-MNIST.ckpt'\n",
    "checkpoint = ModelCheckpoint(checkpoint_path, \n",
    "                             save_best_only=True, \n",
    "                             save_weights_only=True, \n",
    "                             monitor='loss', \n",
    "                             verbose=1)"
   ]
  },
  {
   "cell_type": "code",
   "execution_count": 7,
   "metadata": {
    "colab": {
     "base_uri": "https://localhost:8080/"
    },
    "executionInfo": {
     "elapsed": 1388794,
     "status": "ok",
     "timestamp": 1608216199298,
     "user": {
      "displayName": "고병화",
      "photoUrl": "https://lh3.googleusercontent.com/a-/AOh14GgLZcAZyPt33HiIqtXjHiL8D4PIcVPdfLgODP1QBA=s64",
      "userId": "12645007744594631320"
     },
     "user_tz": -540
    },
    "id": "Q7ZlLPnEEj9A",
    "outputId": "932f2543-44d2-4722-f1ac-c34649727066"
   },
   "outputs": [
    {
     "name": "stdout",
     "output_type": "stream",
     "text": [
      "Epoch 1/100\n",
      "1872/1875 [============================>.] - ETA: 0s - loss: 0.2074\n",
      "Epoch 00001: loss improved from inf to 0.20730, saving model to 01-basic-auto-encoder-MNIST.ckpt\n",
      "1875/1875 [==============================] - 13s 7ms/step - loss: 0.2073\n",
      "Epoch 2/100\n",
      "1873/1875 [============================>.] - ETA: 0s - loss: 0.1856\n",
      "Epoch 00002: loss improved from 0.20730 to 0.18561, saving model to 01-basic-auto-encoder-MNIST.ckpt\n",
      "1875/1875 [==============================] - 13s 7ms/step - loss: 0.1856\n",
      "Epoch 3/100\n",
      "1875/1875 [==============================] - ETA: 0s - loss: 0.1783\n",
      "Epoch 00003: loss improved from 0.18561 to 0.17831, saving model to 01-basic-auto-encoder-MNIST.ckpt\n",
      "1875/1875 [==============================] - 14s 7ms/step - loss: 0.1783\n",
      "Epoch 4/100\n",
      "1872/1875 [============================>.] - ETA: 0s - loss: 0.1734\n",
      "Epoch 00004: loss improved from 0.17831 to 0.17337, saving model to 01-basic-auto-encoder-MNIST.ckpt\n",
      "1875/1875 [==============================] - 14s 7ms/step - loss: 0.1734\n",
      "Epoch 5/100\n",
      "1872/1875 [============================>.] - ETA: 0s - loss: 0.1697\n",
      "Epoch 00005: loss improved from 0.17337 to 0.16975, saving model to 01-basic-auto-encoder-MNIST.ckpt\n",
      "1875/1875 [==============================] - 14s 7ms/step - loss: 0.1697\n",
      "Epoch 6/100\n",
      "1874/1875 [============================>.] - ETA: 0s - loss: 0.1672\n",
      "Epoch 00006: loss improved from 0.16975 to 0.16716, saving model to 01-basic-auto-encoder-MNIST.ckpt\n",
      "1875/1875 [==============================] - 14s 7ms/step - loss: 0.1672\n",
      "Epoch 7/100\n",
      "1875/1875 [==============================] - ETA: 0s - loss: 0.1653\n",
      "Epoch 00007: loss improved from 0.16716 to 0.16530, saving model to 01-basic-auto-encoder-MNIST.ckpt\n",
      "1875/1875 [==============================] - 14s 7ms/step - loss: 0.1653\n",
      "Epoch 8/100\n",
      "1872/1875 [============================>.] - ETA: 0s - loss: 0.1637\n",
      "Epoch 00008: loss improved from 0.16530 to 0.16368, saving model to 01-basic-auto-encoder-MNIST.ckpt\n",
      "1875/1875 [==============================] - 14s 7ms/step - loss: 0.1637\n",
      "Epoch 9/100\n",
      "1873/1875 [============================>.] - ETA: 0s - loss: 0.1623\n",
      "Epoch 00009: loss improved from 0.16368 to 0.16230, saving model to 01-basic-auto-encoder-MNIST.ckpt\n",
      "1875/1875 [==============================] - 14s 7ms/step - loss: 0.1623\n",
      "Epoch 10/100\n",
      "1874/1875 [============================>.] - ETA: 0s - loss: 0.1612\n",
      "Epoch 00010: loss improved from 0.16230 to 0.16119, saving model to 01-basic-auto-encoder-MNIST.ckpt\n",
      "1875/1875 [==============================] - 14s 7ms/step - loss: 0.1612\n",
      "Epoch 11/100\n",
      "1873/1875 [============================>.] - ETA: 0s - loss: 0.1601\n",
      "Epoch 00011: loss improved from 0.16119 to 0.16013, saving model to 01-basic-auto-encoder-MNIST.ckpt\n",
      "1875/1875 [==============================] - 14s 7ms/step - loss: 0.1601\n",
      "Epoch 12/100\n",
      "1870/1875 [============================>.] - ETA: 0s - loss: 0.1593\n",
      "Epoch 00012: loss improved from 0.16013 to 0.15924, saving model to 01-basic-auto-encoder-MNIST.ckpt\n",
      "1875/1875 [==============================] - 14s 7ms/step - loss: 0.1592\n",
      "Epoch 13/100\n",
      "1872/1875 [============================>.] - ETA: 0s - loss: 0.1587\n",
      "Epoch 00013: loss improved from 0.15924 to 0.15868, saving model to 01-basic-auto-encoder-MNIST.ckpt\n",
      "1875/1875 [==============================] - 14s 7ms/step - loss: 0.1587\n",
      "Epoch 14/100\n",
      "1870/1875 [============================>.] - ETA: 0s - loss: 0.1579\n",
      "Epoch 00014: loss improved from 0.15868 to 0.15790, saving model to 01-basic-auto-encoder-MNIST.ckpt\n",
      "1875/1875 [==============================] - 14s 7ms/step - loss: 0.1579\n",
      "Epoch 15/100\n",
      "1872/1875 [============================>.] - ETA: 0s - loss: 0.1572\n",
      "Epoch 00015: loss improved from 0.15790 to 0.15719, saving model to 01-basic-auto-encoder-MNIST.ckpt\n",
      "1875/1875 [==============================] - 14s 7ms/step - loss: 0.1572\n",
      "Epoch 16/100\n",
      "1874/1875 [============================>.] - ETA: 0s - loss: 0.1565\n",
      "Epoch 00016: loss improved from 0.15719 to 0.15654, saving model to 01-basic-auto-encoder-MNIST.ckpt\n",
      "1875/1875 [==============================] - 14s 7ms/step - loss: 0.1565\n",
      "Epoch 17/100\n",
      "1873/1875 [============================>.] - ETA: 0s - loss: 0.1562\n",
      "Epoch 00017: loss improved from 0.15654 to 0.15615, saving model to 01-basic-auto-encoder-MNIST.ckpt\n",
      "1875/1875 [==============================] - 14s 7ms/step - loss: 0.1562\n",
      "Epoch 18/100\n",
      "1875/1875 [==============================] - ETA: 0s - loss: 0.1556\n",
      "Epoch 00018: loss improved from 0.15615 to 0.15556, saving model to 01-basic-auto-encoder-MNIST.ckpt\n",
      "1875/1875 [==============================] - 14s 7ms/step - loss: 0.1556\n",
      "Epoch 19/100\n",
      "1871/1875 [============================>.] - ETA: 0s - loss: 0.1552\n",
      "Epoch 00019: loss improved from 0.15556 to 0.15515, saving model to 01-basic-auto-encoder-MNIST.ckpt\n",
      "1875/1875 [==============================] - 14s 7ms/step - loss: 0.1552\n",
      "Epoch 20/100\n",
      "1870/1875 [============================>.] - ETA: 0s - loss: 0.1546\n",
      "Epoch 00020: loss improved from 0.15515 to 0.15456, saving model to 01-basic-auto-encoder-MNIST.ckpt\n",
      "1875/1875 [==============================] - 14s 7ms/step - loss: 0.1546\n",
      "Epoch 21/100\n",
      "1874/1875 [============================>.] - ETA: 0s - loss: 0.1544\n",
      "Epoch 00021: loss improved from 0.15456 to 0.15438, saving model to 01-basic-auto-encoder-MNIST.ckpt\n",
      "1875/1875 [==============================] - 14s 7ms/step - loss: 0.1544\n",
      "Epoch 22/100\n",
      "1871/1875 [============================>.] - ETA: 0s - loss: 0.1539\n",
      "Epoch 00022: loss improved from 0.15438 to 0.15387, saving model to 01-basic-auto-encoder-MNIST.ckpt\n",
      "1875/1875 [==============================] - 14s 7ms/step - loss: 0.1539\n",
      "Epoch 23/100\n",
      "1870/1875 [============================>.] - ETA: 0s - loss: 0.1534\n",
      "Epoch 00023: loss improved from 0.15387 to 0.15340, saving model to 01-basic-auto-encoder-MNIST.ckpt\n",
      "1875/1875 [==============================] - 14s 7ms/step - loss: 0.1534\n",
      "Epoch 24/100\n",
      "1875/1875 [==============================] - ETA: 0s - loss: 0.1532\n",
      "Epoch 00024: loss improved from 0.15340 to 0.15321, saving model to 01-basic-auto-encoder-MNIST.ckpt\n",
      "1875/1875 [==============================] - 14s 7ms/step - loss: 0.1532\n",
      "Epoch 25/100\n",
      "1875/1875 [==============================] - ETA: 0s - loss: 0.1527\n",
      "Epoch 00025: loss improved from 0.15321 to 0.15271, saving model to 01-basic-auto-encoder-MNIST.ckpt\n",
      "1875/1875 [==============================] - 14s 7ms/step - loss: 0.1527\n",
      "Epoch 26/100\n",
      "1874/1875 [============================>.] - ETA: 0s - loss: 0.1525\n",
      "Epoch 00026: loss improved from 0.15271 to 0.15251, saving model to 01-basic-auto-encoder-MNIST.ckpt\n",
      "1875/1875 [==============================] - 14s 7ms/step - loss: 0.1525\n",
      "Epoch 27/100\n",
      "1873/1875 [============================>.] - ETA: 0s - loss: 0.1522\n",
      "Epoch 00027: loss improved from 0.15251 to 0.15222, saving model to 01-basic-auto-encoder-MNIST.ckpt\n",
      "1875/1875 [==============================] - 14s 7ms/step - loss: 0.1522\n",
      "Epoch 28/100\n",
      "1874/1875 [============================>.] - ETA: 0s - loss: 0.1518\n",
      "Epoch 00028: loss improved from 0.15222 to 0.15183, saving model to 01-basic-auto-encoder-MNIST.ckpt\n",
      "1875/1875 [==============================] - 14s 7ms/step - loss: 0.1518\n",
      "Epoch 29/100\n",
      "1869/1875 [============================>.] - ETA: 0s - loss: 0.1517\n",
      "Epoch 00029: loss improved from 0.15183 to 0.15169, saving model to 01-basic-auto-encoder-MNIST.ckpt\n",
      "1875/1875 [==============================] - 14s 7ms/step - loss: 0.1517\n",
      "Epoch 30/100\n",
      "1875/1875 [==============================] - ETA: 0s - loss: 0.1513\n",
      "Epoch 00030: loss improved from 0.15169 to 0.15134, saving model to 01-basic-auto-encoder-MNIST.ckpt\n",
      "1875/1875 [==============================] - 14s 7ms/step - loss: 0.1513\n",
      "Epoch 31/100\n",
      "1873/1875 [============================>.] - ETA: 0s - loss: 0.1510\n",
      "Epoch 00031: loss improved from 0.15134 to 0.15101, saving model to 01-basic-auto-encoder-MNIST.ckpt\n",
      "1875/1875 [==============================] - 14s 7ms/step - loss: 0.1510\n",
      "Epoch 32/100\n",
      "1873/1875 [============================>.] - ETA: 0s - loss: 0.1508\n",
      "Epoch 00032: loss improved from 0.15101 to 0.15077, saving model to 01-basic-auto-encoder-MNIST.ckpt\n",
      "1875/1875 [==============================] - 14s 8ms/step - loss: 0.1508\n",
      "Epoch 33/100\n",
      "1875/1875 [==============================] - ETA: 0s - loss: 0.1506\n",
      "Epoch 00033: loss improved from 0.15077 to 0.15061, saving model to 01-basic-auto-encoder-MNIST.ckpt\n",
      "1875/1875 [==============================] - 14s 7ms/step - loss: 0.1506\n",
      "Epoch 34/100\n",
      "1870/1875 [============================>.] - ETA: 0s - loss: 0.1503\n",
      "Epoch 00034: loss improved from 0.15061 to 0.15032, saving model to 01-basic-auto-encoder-MNIST.ckpt\n",
      "1875/1875 [==============================] - 14s 7ms/step - loss: 0.1503\n",
      "Epoch 35/100\n",
      "1873/1875 [============================>.] - ETA: 0s - loss: 0.1500\n",
      "Epoch 00035: loss improved from 0.15032 to 0.15004, saving model to 01-basic-auto-encoder-MNIST.ckpt\n",
      "1875/1875 [==============================] - 14s 7ms/step - loss: 0.1500\n",
      "Epoch 36/100\n",
      "1870/1875 [============================>.] - ETA: 0s - loss: 0.1499\n",
      "Epoch 00036: loss improved from 0.15004 to 0.14993, saving model to 01-basic-auto-encoder-MNIST.ckpt\n",
      "1875/1875 [==============================] - 14s 7ms/step - loss: 0.1499\n",
      "Epoch 37/100\n",
      "1870/1875 [============================>.] - ETA: 0s - loss: 0.1497\n",
      "Epoch 00037: loss improved from 0.14993 to 0.14970, saving model to 01-basic-auto-encoder-MNIST.ckpt\n",
      "1875/1875 [==============================] - 14s 7ms/step - loss: 0.1497\n",
      "Epoch 38/100\n",
      "1871/1875 [============================>.] - ETA: 0s - loss: 0.1495\n",
      "Epoch 00038: loss improved from 0.14970 to 0.14947, saving model to 01-basic-auto-encoder-MNIST.ckpt\n",
      "1875/1875 [==============================] - 14s 7ms/step - loss: 0.1495\n",
      "Epoch 39/100\n",
      "1870/1875 [============================>.] - ETA: 0s - loss: 0.1491\n",
      "Epoch 00039: loss improved from 0.14947 to 0.14916, saving model to 01-basic-auto-encoder-MNIST.ckpt\n",
      "1875/1875 [==============================] - 14s 7ms/step - loss: 0.1492\n",
      "Epoch 40/100\n",
      "1870/1875 [============================>.] - ETA: 0s - loss: 0.1490\n",
      "Epoch 00040: loss improved from 0.14916 to 0.14900, saving model to 01-basic-auto-encoder-MNIST.ckpt\n",
      "1875/1875 [==============================] - 14s 7ms/step - loss: 0.1490\n",
      "Epoch 41/100\n",
      "1874/1875 [============================>.] - ETA: 0s - loss: 0.1488\n",
      "Epoch 00041: loss improved from 0.14900 to 0.14883, saving model to 01-basic-auto-encoder-MNIST.ckpt\n",
      "1875/1875 [==============================] - 14s 7ms/step - loss: 0.1488\n",
      "Epoch 42/100\n",
      "1871/1875 [============================>.] - ETA: 0s - loss: 0.1487\n",
      "Epoch 00042: loss improved from 0.14883 to 0.14873, saving model to 01-basic-auto-encoder-MNIST.ckpt\n",
      "1875/1875 [==============================] - 14s 7ms/step - loss: 0.1487\n",
      "Epoch 43/100\n",
      "1875/1875 [==============================] - ETA: 0s - loss: 0.1484\n",
      "Epoch 00043: loss improved from 0.14873 to 0.14843, saving model to 01-basic-auto-encoder-MNIST.ckpt\n",
      "1875/1875 [==============================] - 14s 7ms/step - loss: 0.1484\n",
      "Epoch 44/100\n",
      "1869/1875 [============================>.] - ETA: 0s - loss: 0.1483\n",
      "Epoch 00044: loss improved from 0.14843 to 0.14837, saving model to 01-basic-auto-encoder-MNIST.ckpt\n",
      "1875/1875 [==============================] - 14s 7ms/step - loss: 0.1484\n",
      "Epoch 45/100\n",
      "1872/1875 [============================>.] - ETA: 0s - loss: 0.1481\n",
      "Epoch 00045: loss improved from 0.14837 to 0.14810, saving model to 01-basic-auto-encoder-MNIST.ckpt\n",
      "1875/1875 [==============================] - 14s 7ms/step - loss: 0.1481\n",
      "Epoch 46/100\n",
      "1873/1875 [============================>.] - ETA: 0s - loss: 0.1480\n",
      "Epoch 00046: loss improved from 0.14810 to 0.14798, saving model to 01-basic-auto-encoder-MNIST.ckpt\n",
      "1875/1875 [==============================] - 14s 7ms/step - loss: 0.1480\n",
      "Epoch 47/100\n",
      "1871/1875 [============================>.] - ETA: 0s - loss: 0.1477\n",
      "Epoch 00047: loss improved from 0.14798 to 0.14767, saving model to 01-basic-auto-encoder-MNIST.ckpt\n",
      "1875/1875 [==============================] - 14s 7ms/step - loss: 0.1477\n",
      "Epoch 48/100\n",
      "1874/1875 [============================>.] - ETA: 0s - loss: 0.1477\n",
      "Epoch 00048: loss did not improve from 0.14767\n",
      "1875/1875 [==============================] - 14s 7ms/step - loss: 0.1478\n",
      "Epoch 49/100\n",
      "1870/1875 [============================>.] - ETA: 0s - loss: 0.1474\n",
      "Epoch 00049: loss improved from 0.14767 to 0.14742, saving model to 01-basic-auto-encoder-MNIST.ckpt\n",
      "1875/1875 [==============================] - 14s 7ms/step - loss: 0.1474\n",
      "Epoch 50/100\n",
      "1874/1875 [============================>.] - ETA: 0s - loss: 0.1475\n",
      "Epoch 00050: loss did not improve from 0.14742\n",
      "1875/1875 [==============================] - 14s 7ms/step - loss: 0.1475\n",
      "Epoch 51/100\n",
      "1868/1875 [============================>.] - ETA: 0s - loss: 0.1472\n",
      "Epoch 00051: loss improved from 0.14742 to 0.14719, saving model to 01-basic-auto-encoder-MNIST.ckpt\n",
      "1875/1875 [==============================] - 14s 7ms/step - loss: 0.1472\n",
      "Epoch 52/100\n",
      "1872/1875 [============================>.] - ETA: 0s - loss: 0.1470\n",
      "Epoch 00052: loss improved from 0.14719 to 0.14704, saving model to 01-basic-auto-encoder-MNIST.ckpt\n",
      "1875/1875 [==============================] - 14s 7ms/step - loss: 0.1470\n",
      "Epoch 53/100\n",
      "1870/1875 [============================>.] - ETA: 0s - loss: 0.1468\n",
      "Epoch 00053: loss improved from 0.14704 to 0.14680, saving model to 01-basic-auto-encoder-MNIST.ckpt\n",
      "1875/1875 [==============================] - 14s 7ms/step - loss: 0.1468\n",
      "Epoch 54/100\n",
      "1872/1875 [============================>.] - ETA: 0s - loss: 0.1467\n",
      "Epoch 00054: loss improved from 0.14680 to 0.14675, saving model to 01-basic-auto-encoder-MNIST.ckpt\n",
      "1875/1875 [==============================] - 14s 7ms/step - loss: 0.1468\n",
      "Epoch 55/100\n",
      "1873/1875 [============================>.] - ETA: 0s - loss: 0.1466\n",
      "Epoch 00055: loss improved from 0.14675 to 0.14663, saving model to 01-basic-auto-encoder-MNIST.ckpt\n",
      "1875/1875 [==============================] - 14s 7ms/step - loss: 0.1466\n",
      "Epoch 56/100\n",
      "1871/1875 [============================>.] - ETA: 0s - loss: 0.1464\n",
      "Epoch 00056: loss improved from 0.14663 to 0.14644, saving model to 01-basic-auto-encoder-MNIST.ckpt\n",
      "1875/1875 [==============================] - 14s 7ms/step - loss: 0.1464\n",
      "Epoch 57/100\n",
      "1871/1875 [============================>.] - ETA: 0s - loss: 0.1463\n",
      "Epoch 00057: loss improved from 0.14644 to 0.14633, saving model to 01-basic-auto-encoder-MNIST.ckpt\n",
      "1875/1875 [==============================] - 14s 7ms/step - loss: 0.1463\n",
      "Epoch 58/100\n",
      "1869/1875 [============================>.] - ETA: 0s - loss: 0.1462\n",
      "Epoch 00058: loss improved from 0.14633 to 0.14623, saving model to 01-basic-auto-encoder-MNIST.ckpt\n",
      "1875/1875 [==============================] - 14s 7ms/step - loss: 0.1462\n",
      "Epoch 59/100\n",
      "1872/1875 [============================>.] - ETA: 0s - loss: 0.1459\n",
      "Epoch 00059: loss improved from 0.14623 to 0.14596, saving model to 01-basic-auto-encoder-MNIST.ckpt\n",
      "1875/1875 [==============================] - 14s 7ms/step - loss: 0.1460\n",
      "Epoch 60/100\n",
      "1871/1875 [============================>.] - ETA: 0s - loss: 0.1460\n",
      "Epoch 00060: loss did not improve from 0.14596\n",
      "1875/1875 [==============================] - 14s 7ms/step - loss: 0.1460\n",
      "Epoch 61/100\n",
      "1872/1875 [============================>.] - ETA: 0s - loss: 0.1458\n",
      "Epoch 00061: loss improved from 0.14596 to 0.14580, saving model to 01-basic-auto-encoder-MNIST.ckpt\n",
      "1875/1875 [==============================] - 14s 7ms/step - loss: 0.1458\n",
      "Epoch 62/100\n",
      "1872/1875 [============================>.] - ETA: 0s - loss: 0.1458\n",
      "Epoch 00062: loss did not improve from 0.14580\n",
      "1875/1875 [==============================] - 14s 7ms/step - loss: 0.1458\n",
      "Epoch 63/100\n",
      "1870/1875 [============================>.] - ETA: 0s - loss: 0.1456\n",
      "Epoch 00063: loss improved from 0.14580 to 0.14558, saving model to 01-basic-auto-encoder-MNIST.ckpt\n",
      "1875/1875 [==============================] - 14s 7ms/step - loss: 0.1456\n",
      "Epoch 64/100\n",
      "1872/1875 [============================>.] - ETA: 0s - loss: 0.1455\n",
      "Epoch 00064: loss improved from 0.14558 to 0.14550, saving model to 01-basic-auto-encoder-MNIST.ckpt\n",
      "1875/1875 [==============================] - 14s 7ms/step - loss: 0.1455\n",
      "Epoch 65/100\n",
      "1871/1875 [============================>.] - ETA: 0s - loss: 0.1453\n",
      "Epoch 00065: loss improved from 0.14550 to 0.14528, saving model to 01-basic-auto-encoder-MNIST.ckpt\n",
      "1875/1875 [==============================] - 14s 7ms/step - loss: 0.1453\n",
      "Epoch 66/100\n",
      "1869/1875 [============================>.] - ETA: 0s - loss: 0.1452\n",
      "Epoch 00066: loss improved from 0.14528 to 0.14515, saving model to 01-basic-auto-encoder-MNIST.ckpt\n",
      "1875/1875 [==============================] - 14s 7ms/step - loss: 0.1451\n",
      "Epoch 67/100\n",
      "1872/1875 [============================>.] - ETA: 0s - loss: 0.1451\n",
      "Epoch 00067: loss improved from 0.14515 to 0.14506, saving model to 01-basic-auto-encoder-MNIST.ckpt\n",
      "1875/1875 [==============================] - 14s 7ms/step - loss: 0.1451\n",
      "Epoch 68/100\n",
      "1872/1875 [============================>.] - ETA: 0s - loss: 0.1449\n",
      "Epoch 00068: loss improved from 0.14506 to 0.14494, saving model to 01-basic-auto-encoder-MNIST.ckpt\n",
      "1875/1875 [==============================] - 14s 7ms/step - loss: 0.1449\n",
      "Epoch 69/100\n",
      "1871/1875 [============================>.] - ETA: 0s - loss: 0.1449\n",
      "Epoch 00069: loss did not improve from 0.14494\n",
      "1875/1875 [==============================] - 14s 7ms/step - loss: 0.1449\n",
      "Epoch 70/100\n",
      "1872/1875 [============================>.] - ETA: 0s - loss: 0.1448\n",
      "Epoch 00070: loss improved from 0.14494 to 0.14484, saving model to 01-basic-auto-encoder-MNIST.ckpt\n",
      "1875/1875 [==============================] - 14s 7ms/step - loss: 0.1448\n",
      "Epoch 71/100\n",
      "1871/1875 [============================>.] - ETA: 0s - loss: 0.1446\n",
      "Epoch 00071: loss improved from 0.14484 to 0.14463, saving model to 01-basic-auto-encoder-MNIST.ckpt\n",
      "1875/1875 [==============================] - 14s 7ms/step - loss: 0.1446\n",
      "Epoch 72/100\n",
      "1870/1875 [============================>.] - ETA: 0s - loss: 0.1444\n",
      "Epoch 00072: loss improved from 0.14463 to 0.14449, saving model to 01-basic-auto-encoder-MNIST.ckpt\n",
      "1875/1875 [==============================] - 14s 7ms/step - loss: 0.1445\n",
      "Epoch 73/100\n",
      "1870/1875 [============================>.] - ETA: 0s - loss: 0.1445\n",
      "Epoch 00073: loss improved from 0.14449 to 0.14447, saving model to 01-basic-auto-encoder-MNIST.ckpt\n",
      "1875/1875 [==============================] - 14s 7ms/step - loss: 0.1445\n",
      "Epoch 74/100\n",
      "1873/1875 [============================>.] - ETA: 0s - loss: 0.1445\n",
      "Epoch 00074: loss improved from 0.14447 to 0.14445, saving model to 01-basic-auto-encoder-MNIST.ckpt\n",
      "1875/1875 [==============================] - 14s 7ms/step - loss: 0.1444\n",
      "Epoch 75/100\n",
      "1869/1875 [============================>.] - ETA: 0s - loss: 0.1442\n",
      "Epoch 00075: loss improved from 0.14445 to 0.14426, saving model to 01-basic-auto-encoder-MNIST.ckpt\n",
      "1875/1875 [==============================] - 14s 7ms/step - loss: 0.1443\n",
      "Epoch 76/100\n",
      "1874/1875 [============================>.] - ETA: 0s - loss: 0.1443\n",
      "Epoch 00076: loss did not improve from 0.14426\n",
      "1875/1875 [==============================] - 14s 7ms/step - loss: 0.1443\n",
      "Epoch 77/100\n",
      "1874/1875 [============================>.] - ETA: 0s - loss: 0.1441\n",
      "Epoch 00077: loss improved from 0.14426 to 0.14411, saving model to 01-basic-auto-encoder-MNIST.ckpt\n",
      "1875/1875 [==============================] - 14s 7ms/step - loss: 0.1441\n",
      "Epoch 78/100\n",
      "1875/1875 [==============================] - ETA: 0s - loss: 0.1440\n",
      "Epoch 00078: loss improved from 0.14411 to 0.14401, saving model to 01-basic-auto-encoder-MNIST.ckpt\n",
      "1875/1875 [==============================] - 14s 7ms/step - loss: 0.1440\n",
      "Epoch 79/100\n",
      "1871/1875 [============================>.] - ETA: 0s - loss: 0.1439\n",
      "Epoch 00079: loss improved from 0.14401 to 0.14387, saving model to 01-basic-auto-encoder-MNIST.ckpt\n",
      "1875/1875 [==============================] - 14s 7ms/step - loss: 0.1439\n",
      "Epoch 80/100\n",
      "1871/1875 [============================>.] - ETA: 0s - loss: 0.1438\n",
      "Epoch 00080: loss improved from 0.14387 to 0.14380, saving model to 01-basic-auto-encoder-MNIST.ckpt\n",
      "1875/1875 [==============================] - 14s 7ms/step - loss: 0.1438\n",
      "Epoch 81/100\n",
      "1869/1875 [============================>.] - ETA: 0s - loss: 0.1437\n",
      "Epoch 00081: loss improved from 0.14380 to 0.14370, saving model to 01-basic-auto-encoder-MNIST.ckpt\n",
      "1875/1875 [==============================] - 14s 7ms/step - loss: 0.1437\n",
      "Epoch 82/100\n",
      "1874/1875 [============================>.] - ETA: 0s - loss: 0.1437\n",
      "Epoch 00082: loss improved from 0.14370 to 0.14366, saving model to 01-basic-auto-encoder-MNIST.ckpt\n",
      "1875/1875 [==============================] - 14s 7ms/step - loss: 0.1437\n",
      "Epoch 83/100\n",
      "1875/1875 [==============================] - ETA: 0s - loss: 0.1436\n",
      "Epoch 00083: loss improved from 0.14366 to 0.14355, saving model to 01-basic-auto-encoder-MNIST.ckpt\n",
      "1875/1875 [==============================] - 14s 7ms/step - loss: 0.1436\n",
      "Epoch 84/100\n",
      "1868/1875 [============================>.] - ETA: 0s - loss: 0.1435\n",
      "Epoch 00084: loss improved from 0.14355 to 0.14354, saving model to 01-basic-auto-encoder-MNIST.ckpt\n",
      "1875/1875 [==============================] - 14s 7ms/step - loss: 0.1435\n",
      "Epoch 85/100\n",
      "1870/1875 [============================>.] - ETA: 0s - loss: 0.1434\n",
      "Epoch 00085: loss improved from 0.14354 to 0.14340, saving model to 01-basic-auto-encoder-MNIST.ckpt\n",
      "1875/1875 [==============================] - 14s 7ms/step - loss: 0.1434\n",
      "Epoch 86/100\n",
      "1875/1875 [==============================] - ETA: 0s - loss: 0.1434\n",
      "Epoch 00086: loss improved from 0.14340 to 0.14335, saving model to 01-basic-auto-encoder-MNIST.ckpt\n",
      "1875/1875 [==============================] - 14s 7ms/step - loss: 0.1434\n",
      "Epoch 87/100\n",
      "1875/1875 [==============================] - ETA: 0s - loss: 0.1432\n",
      "Epoch 00087: loss improved from 0.14335 to 0.14324, saving model to 01-basic-auto-encoder-MNIST.ckpt\n",
      "1875/1875 [==============================] - 14s 7ms/step - loss: 0.1432\n",
      "Epoch 88/100\n",
      "1875/1875 [==============================] - ETA: 0s - loss: 0.1431\n",
      "Epoch 00088: loss improved from 0.14324 to 0.14307, saving model to 01-basic-auto-encoder-MNIST.ckpt\n",
      "1875/1875 [==============================] - 14s 7ms/step - loss: 0.1431\n",
      "Epoch 89/100\n",
      "1872/1875 [============================>.] - ETA: 0s - loss: 0.1430\n",
      "Epoch 00089: loss improved from 0.14307 to 0.14303, saving model to 01-basic-auto-encoder-MNIST.ckpt\n",
      "1875/1875 [==============================] - 14s 7ms/step - loss: 0.1430\n",
      "Epoch 90/100\n",
      "1870/1875 [============================>.] - ETA: 0s - loss: 0.1428\n",
      "Epoch 00090: loss improved from 0.14303 to 0.14283, saving model to 01-basic-auto-encoder-MNIST.ckpt\n",
      "1875/1875 [==============================] - 14s 7ms/step - loss: 0.1428\n",
      "Epoch 91/100\n",
      "1870/1875 [============================>.] - ETA: 0s - loss: 0.1430\n",
      "Epoch 00091: loss did not improve from 0.14283\n",
      "1875/1875 [==============================] - 14s 7ms/step - loss: 0.1430\n",
      "Epoch 92/100\n",
      "1871/1875 [============================>.] - ETA: 0s - loss: 0.1427\n",
      "Epoch 00092: loss improved from 0.14283 to 0.14274, saving model to 01-basic-auto-encoder-MNIST.ckpt\n",
      "1875/1875 [==============================] - 14s 7ms/step - loss: 0.1427\n",
      "Epoch 93/100\n",
      "1875/1875 [==============================] - ETA: 0s - loss: 0.1427\n",
      "Epoch 00093: loss improved from 0.14274 to 0.14267, saving model to 01-basic-auto-encoder-MNIST.ckpt\n",
      "1875/1875 [==============================] - 14s 7ms/step - loss: 0.1427\n",
      "Epoch 94/100\n",
      "1870/1875 [============================>.] - ETA: 0s - loss: 0.1426\n",
      "Epoch 00094: loss improved from 0.14267 to 0.14264, saving model to 01-basic-auto-encoder-MNIST.ckpt\n",
      "1875/1875 [==============================] - 14s 7ms/step - loss: 0.1426\n",
      "Epoch 95/100\n",
      "1872/1875 [============================>.] - ETA: 0s - loss: 0.1426\n",
      "Epoch 00095: loss improved from 0.14264 to 0.14262, saving model to 01-basic-auto-encoder-MNIST.ckpt\n",
      "1875/1875 [==============================] - 14s 7ms/step - loss: 0.1426\n",
      "Epoch 96/100\n",
      "1874/1875 [============================>.] - ETA: 0s - loss: 0.1425\n",
      "Epoch 00096: loss improved from 0.14262 to 0.14254, saving model to 01-basic-auto-encoder-MNIST.ckpt\n",
      "1875/1875 [==============================] - 14s 7ms/step - loss: 0.1425\n",
      "Epoch 97/100\n",
      "1869/1875 [============================>.] - ETA: 0s - loss: 0.1423\n",
      "Epoch 00097: loss improved from 0.14254 to 0.14231, saving model to 01-basic-auto-encoder-MNIST.ckpt\n",
      "1875/1875 [==============================] - 14s 7ms/step - loss: 0.1423\n",
      "Epoch 98/100\n",
      "1871/1875 [============================>.] - ETA: 0s - loss: 0.1424\n",
      "Epoch 00098: loss did not improve from 0.14231\n",
      "1875/1875 [==============================] - 14s 7ms/step - loss: 0.1424\n",
      "Epoch 99/100\n",
      "1874/1875 [============================>.] - ETA: 0s - loss: 0.1423\n",
      "Epoch 00099: loss improved from 0.14231 to 0.14230, saving model to 01-basic-auto-encoder-MNIST.ckpt\n",
      "1875/1875 [==============================] - 14s 7ms/step - loss: 0.1423\n",
      "Epoch 100/100\n",
      "1871/1875 [============================>.] - ETA: 0s - loss: 0.1422\n",
      "Epoch 00100: loss improved from 0.14230 to 0.14217, saving model to 01-basic-auto-encoder-MNIST.ckpt\n",
      "1875/1875 [==============================] - 14s 7ms/step - loss: 0.1422\n"
     ]
    },
    {
     "data": {
      "text/plain": [
       "<tensorflow.python.keras.callbacks.History at 0x7f67c0594828>"
      ]
     },
     "execution_count": 7,
     "metadata": {
      "tags": []
     },
     "output_type": "execute_result"
    }
   ],
   "source": [
    "# GPU 환경에서 약 25분 소요\n",
    "auto_encoder.fit(x_train, x_train, \n",
    "                 batch_size=BATCH_SIZE, \n",
    "                 epochs=100, \n",
    "                 callbacks=[checkpoint], \n",
    "                )"
   ]
  },
  {
   "cell_type": "code",
   "execution_count": 8,
   "metadata": {
    "colab": {
     "base_uri": "https://localhost:8080/"
    },
    "executionInfo": {
     "elapsed": 1388794,
     "status": "ok",
     "timestamp": 1608216199300,
     "user": {
      "displayName": "고병화",
      "photoUrl": "https://lh3.googleusercontent.com/a-/AOh14GgLZcAZyPt33HiIqtXjHiL8D4PIcVPdfLgODP1QBA=s64",
      "userId": "12645007744594631320"
     },
     "user_tz": -540
    },
    "id": "X-FI52BeEj9A",
    "outputId": "159189b6-0d81-4e63-ffaa-90db3d2c1d5c"
   },
   "outputs": [
    {
     "data": {
      "text/plain": [
       "<tensorflow.python.training.tracking.util.CheckpointLoadStatus at 0x7f67c0256588>"
      ]
     },
     "execution_count": 8,
     "metadata": {
      "tags": []
     },
     "output_type": "execute_result"
    }
   ],
   "source": [
    "auto_encoder.load_weights(checkpoint_path)"
   ]
  },
  {
   "cell_type": "markdown",
   "metadata": {
    "id": "Ni7cbE44Ej9A"
   },
   "source": [
    "##  시각화"
   ]
  },
  {
   "cell_type": "code",
   "execution_count": 9,
   "metadata": {
    "executionInfo": {
     "elapsed": 1388792,
     "status": "ok",
     "timestamp": 1608216199300,
     "user": {
      "displayName": "고병화",
      "photoUrl": "https://lh3.googleusercontent.com/a-/AOh14GgLZcAZyPt33HiIqtXjHiL8D4PIcVPdfLgODP1QBA=s64",
      "userId": "12645007744594631320"
     },
     "user_tz": -540
    },
    "id": "QbdV64kzEj9B"
   },
   "outputs": [],
   "source": [
    "import matplotlib.pyplot as plt\n",
    "%matplotlib inline"
   ]
  },
  {
   "cell_type": "code",
   "execution_count": 10,
   "metadata": {
    "executionInfo": {
     "elapsed": 1393771,
     "status": "ok",
     "timestamp": 1608216204281,
     "user": {
      "displayName": "고병화",
      "photoUrl": "https://lh3.googleusercontent.com/a-/AOh14GgLZcAZyPt33HiIqtXjHiL8D4PIcVPdfLgODP1QBA=s64",
      "userId": "12645007744594631320"
     },
     "user_tz": -540
    },
    "id": "-Soe7xfAEj9B"
   },
   "outputs": [],
   "source": [
    "decoded_images = auto_encoder.predict(x_train)"
   ]
  },
  {
   "cell_type": "code",
   "execution_count": 11,
   "metadata": {
    "colab": {
     "base_uri": "https://localhost:8080/",
     "height": 865
    },
    "executionInfo": {
     "elapsed": 1394685,
     "status": "ok",
     "timestamp": 1608216205196,
     "user": {
      "displayName": "고병화",
      "photoUrl": "https://lh3.googleusercontent.com/a-/AOh14GgLZcAZyPt33HiIqtXjHiL8D4PIcVPdfLgODP1QBA=s64",
      "userId": "12645007744594631320"
     },
     "user_tz": -540
    },
    "id": "GLBXYETOEj9B",
    "outputId": "b290fa9f-d7f4-47cd-b944-d55d9bd9070e"
   },
   "outputs": [
    {
     "data": {
      "image/png": "[encoded data removed]",
      "text/plain": [
       "<Figure size 864x432 with 15 Axes>"
      ]
     },
     "metadata": {
      "needs_background": "light",
      "tags": []
     },
     "output_type": "display_data"
    },
    {
     "data": {
      "image/png": "[encoded data removed]",
      "text/plain": [
       "<Figure size 864x432 with 15 Axes>"
      ]
     },
     "metadata": {
      "needs_background": "light",
      "tags": []
     },
     "output_type": "display_data"
    }
   ],
   "source": [
    "fig, axes = plt.subplots(3, 5)\n",
    "fig.set_size_inches(12, 6)\n",
    "for i in range(15):\n",
    "    axes[i//5, i%5].imshow(x_train[i].reshape(28, 28), cmap='gray')\n",
    "    axes[i//5, i%5].axis('off')\n",
    "plt.tight_layout()\n",
    "plt.title('Original Images')\n",
    "plt.show()\n",
    "\n",
    "fig, axes = plt.subplots(3, 5)\n",
    "fig.set_size_inches(12, 6)\n",
    "for i in range(15):\n",
    "    axes[i//5, i%5].imshow(decoded_images[i].reshape(28, 28), cmap='gray')\n",
    "    axes[i//5, i%5].axis('off')\n",
    "plt.tight_layout()\n",
    "plt.title('Auto Encoder Images')\n",
    "plt.show()"
   ]
  },
  {
   "cell_type": "code",
   "execution_count": 12,
   "metadata": {
    "executionInfo": {
     "elapsed": 1394686,
     "status": "ok",
     "timestamp": 1608216205199,
     "user": {
      "displayName": "고병화",
      "photoUrl": "https://lh3.googleusercontent.com/a-/AOh14GgLZcAZyPt33HiIqtXjHiL8D4PIcVPdfLgODP1QBA=s64",
      "userId": "12645007744594631320"
     },
     "user_tz": -540
    },
    "id": "7jvq6nqIEj9B"
   },
   "outputs": [],
   "source": [
    "# 첫번째 디코딩 된 이미지를 보면, 원본 이미지는 5이나, decoder 이미지는 3처럼 보인다. (3번째도 원래 4인데 9처럼 디코딩 되었다)\n",
    "# 전체적으로 이미지 재구성에 대한 성능은 뛰어난 편이다.\n",
    "# Decoder만 따로 떼내어, 임의의 X, Y 좌표를 넣어 주는 것으로 이미지를 새로 만들어 낼 수도 있다."
   ]
  },
  {
   "cell_type": "code",
   "execution_count": 12,
   "metadata": {
    "executionInfo": {
     "elapsed": 1394686,
     "status": "ok",
     "timestamp": 1608216205201,
     "user": {
      "displayName": "고병화",
      "photoUrl": "https://lh3.googleusercontent.com/a-/AOh14GgLZcAZyPt33HiIqtXjHiL8D4PIcVPdfLgODP1QBA=s64",
      "userId": "12645007744594631320"
     },
     "user_tz": -540
    },
    "id": "erS34BefEj9B"
   },
   "outputs": [],
   "source": []
  }
 ],
 "metadata": {
  "accelerator": "GPU",
  "colab": {
   "collapsed_sections": [],
   "name": "01_AutoEncoder.ipynb",
   "provenance": []
  },
  "kernelspec": {
   "display_name": "Python 3",
   "language": "python",
   "name": "python3"
  },
  "language_info": {
   "codemirror_mode": {
    "name": "ipython",
    "version": 3
   },
   "file_extension": ".py",
   "mimetype": "text/x-python",
   "name": "python",
   "nbconvert_exporter": "python",
   "pygments_lexer": "ipython3",
   "version": "3.8.3"
  }
 },
 "nbformat": 4,
 "nbformat_minor": 1
}
