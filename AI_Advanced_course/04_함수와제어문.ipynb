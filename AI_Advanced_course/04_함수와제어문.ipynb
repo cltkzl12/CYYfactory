{
 "cells": [
  {
   "cell_type": "markdown",
   "metadata": {},
   "source": [
    "### 함수(function)"
   ]
  },
  {
   "cell_type": "code",
   "execution_count": 1,
   "metadata": {},
   "outputs": [
    {
     "data": {
      "text/plain": [
       "'\\ndef 함수명(매개변수,.....):\\n    <수행할 문장1>\\n    <수행할 문장2>\\n    <수행할 문장3>\\n    ..\\n    return 반환할값\\n'"
      ]
     },
     "execution_count": 1,
     "metadata": {},
     "output_type": "execute_result"
    }
   ],
   "source": [
    "# 함수 구현 방법\n",
    "'''\n",
    "def 함수명(매개변수,.....):\n",
    "    <수행할 문장1>\n",
    "    <수행할 문장2>\n",
    "    <수행할 문장3>\n",
    "    ..\n",
    "    return 반환할값\n",
    "'''"
   ]
  },
  {
   "cell_type": "code",
   "execution_count": 2,
   "metadata": {},
   "outputs": [
    {
     "name": "stdout",
     "output_type": "stream",
     "text": [
      "add is called!!\n",
      "30\n",
      "<class 'function'>\n",
      "add is called!!\n",
      "7\n",
      "add is called!!\n",
      "GoodMorning\n",
      "add is called!!\n",
      "[1, 2, 3, 4, 5, 6]\n",
      "subtract is called!!\n",
      "-10\n"
     ]
    }
   ],
   "source": [
    "# 함수 정의\n",
    "def add(a,b):\n",
    "    c = a + b\n",
    "    print('add is called!!')\n",
    "    return c\n",
    "\n",
    "ret = add(10,20)\n",
    "print(ret)\n",
    "print(type(add)) # <class 'function'>\n",
    "\n",
    "print(add(3,4))\n",
    "print(add('Good','Morning'))\n",
    "print(add([1,2,3],[4,5,6]))\n",
    "\n",
    "def subtract(a,b):\n",
    "    c = a - b\n",
    "    print('subtract is called!!')\n",
    "    return c\n",
    "\n",
    "ret = subtract(10,20)\n",
    "print(ret)\n",
    "\n",
    "# print(subtract('Good','Morning')) # TypeError "
   ]
  },
  {
   "cell_type": "markdown",
   "metadata": {},
   "source": [
    "### 함수 구현 순서\n",
    "#### (1) def 를 사용하고 함수이름을 결정\n",
    "#### (2) 매개변수(인자)를 결정\n",
    "#### (3) 인자를 사용하여 처리하는 코드를 구현\n",
    "#### (4) return 을 사용하여 결과값을 반환\n",
    "#### (5) 인자를 설정하여 함수를 호출하여 결과를 확인"
   ]
  },
  {
   "cell_type": "code",
   "execution_count": 3,
   "metadata": {},
   "outputs": [
    {
     "name": "stdout",
     "output_type": "stream",
     "text": [
      "None\n"
     ]
    }
   ],
   "source": [
    "# 함수의 유형 4가지\n",
    "# [1] 반환값이 없고 인자도 없는 경우\n",
    "# [2] 반환값이 없고 인자는 있는 경우\n",
    "# [3] 반환값이 있고 인자는 없는 경우\n",
    "# [4] 반환값이 있고 인자도 있는 경우\n",
    "\n",
    "def myfunc(a,b):\n",
    "    c = a + b\n",
    "ret = myfunc(10,20)\n",
    "print(ret)   # None : 함수의 반환값이 없을 경우 None이 반환된다"
   ]
  },
  {
   "cell_type": "code",
   "execution_count": 4,
   "metadata": {},
   "outputs": [
    {
     "name": "stdout",
     "output_type": "stream",
     "text": [
      "(5, 3)\n",
      "(5, 3)\n"
     ]
    }
   ],
   "source": [
    "# 문제 1: 두 개의 정수형 인자를 주면, 큰 수, 작은 수의 순서로 반환하는 함수 order()를 구현\n",
    "# 3,5 ==> 5,3\n",
    "# 5,3 ==> 5,3\n",
    "\n",
    "def order(a,b):\n",
    "    if a < b:\n",
    "        a,b = b,a\n",
    "    return a,b\n",
    "print(order(3,5))  # (5,3)\n",
    "print(order(5,3))  # (5,3)"
   ]
  },
  {
   "cell_type": "code",
   "execution_count": 5,
   "metadata": {},
   "outputs": [
    {
     "name": "stdout",
     "output_type": "stream",
     "text": [
      "30\n",
      "30\n"
     ]
    }
   ],
   "source": [
    "# 문제 2: 두 개의 정수형 인자를 주면  큰 수를 반환하는 함수 max()를 구현\n",
    "def max(a,b):\n",
    "    if a > b :\n",
    "        return a\n",
    "    return b\n",
    "print(max(10,30))  # 30\n",
    "print(max(30,10))  # 30"
   ]
  },
  {
   "cell_type": "code",
   "execution_count": 6,
   "metadata": {},
   "outputs": [
    {
     "name": "stdout",
     "output_type": "stream",
     "text": [
      "5.5\n",
      "50.5\n"
     ]
    }
   ],
   "source": [
    "# 문제 3: 정수를 요소로 갖는 리스트를 인자로 주면, 리스트의 평균을 반환하는 함수 mean()를 구현\n",
    "#         내장 함수인 sum(),len()을 사용 가능 \n",
    "def mean(l):\n",
    "    return sum(l)/len(l)\n",
    "print(mean([1,2,3,4,5,6,7,8,9,10])) # 5,5\n",
    "print(mean(list(range(1,101))))     # 50.5"
   ]
  },
  {
   "cell_type": "code",
   "execution_count": 7,
   "metadata": {},
   "outputs": [
    {
     "name": "stdout",
     "output_type": "stream",
     "text": [
      "() <class 'tuple'>\n",
      "30\n",
      "(30,) <class 'tuple'>\n",
      "60\n",
      "(30, 40, 50, 60, 70, 80, 90) <class 'tuple'>\n",
      "450\n"
     ]
    }
   ],
   "source": [
    "# 인자가 고정되지 않은 함수 처리 방법 : 가변인수, 키워드 인수\n",
    "\n",
    "# (1) *인자 : tuple 방식, 가변 인수\n",
    "def add_many(a,b,*args):\n",
    "    total = a + b\n",
    "    print(args,type(args))   # 튜플\n",
    "    for k in args:\n",
    "        total += k\n",
    "    return total\n",
    "    \n",
    "print(add_many(10,20))\n",
    "print(add_many(10,20,30))\n",
    "print(add_many(10,20,30,40,50,60,70,80,90))"
   ]
  },
  {
   "cell_type": "code",
   "execution_count": 8,
   "metadata": {},
   "outputs": [
    {
     "name": "stdout",
     "output_type": "stream",
     "text": [
      "[30, 40, 50, 60, 70, 80, 90]\n"
     ]
    }
   ],
   "source": [
    "a,b,*args = (10,20,30,40,50,60,70,80,90)\n",
    "print(args)  # 리스트"
   ]
  },
  {
   "cell_type": "code",
   "execution_count": 9,
   "metadata": {},
   "outputs": [
    {
     "name": "stdout",
     "output_type": "stream",
     "text": [
      "10 20\n",
      "{} <class 'dict'>\n",
      "dict_keys([])\n",
      "100 200\n",
      "{'depth': 5, 'dimension': 7} <class 'dict'>\n",
      "dict_keys(['depth', 'dimension'])\n",
      "5\n",
      "7\n",
      "10 20\n",
      "{'name': 'kim', 'shape': (5, 3), 'age': 20} <class 'dict'>\n",
      "dict_keys(['name', 'shape', 'age'])\n",
      "kim\n",
      "(5, 3)\n",
      "20\n"
     ]
    }
   ],
   "source": [
    "# (2) **인자 : dict형식, 키워드 인수\n",
    "def func(width, height, **kw):\n",
    "    print(width,height)\n",
    "    print(kw,type(kw))\n",
    "    k = kw.keys()\n",
    "    print(k)\n",
    "    for i in k:\n",
    "        value = kw[i]\n",
    "        print(value)\n",
    "    \n",
    "func(10,20)\n",
    "func(100,200,depth=5,dimension=7)\n",
    "\n",
    "func(width=10,height=20,name='kim',shape=(5,3),age=20)"
   ]
  },
  {
   "cell_type": "code",
   "execution_count": 10,
   "metadata": {},
   "outputs": [
    {
     "name": "stdout",
     "output_type": "stream",
     "text": [
      "None 30 000-0000-0000 True\n",
      "lee 20 010-1234-1234 False\n",
      "park 40 000-0000-0000 True\n",
      "ko 10 000-0000-0000 False\n"
     ]
    }
   ],
   "source": [
    "# 기본 인수, default 인수\n",
    "def show_info(name=None,age=30,phone='000-0000-0000',emp=True):\n",
    "    print(name,age,phone,emp)\n",
    "\n",
    "show_info()\n",
    "show_info('lee',20,'010-1234-1234',False)\n",
    "show_info(age=40,name='park')\n",
    "show_info('ko',10,emp=False)    "
   ]
  },
  {
   "cell_type": "markdown",
   "metadata": {},
   "source": [
    "### 일급함수(First Class Function) : 함수이름을 변수처럼 사용가능하다\n",
    "#### (1) 함수객체를 다른 함수의 인자로 전달할 수 있다\n",
    "#### (2) 함수객체를 반환 값으로 전달할 수 있다\n",
    "#### (3) 함수객체를 다른 자료 구조에 저장해서 사용 가능"
   ]
  },
  {
   "cell_type": "code",
   "execution_count": 11,
   "metadata": {},
   "outputs": [
    {
     "name": "stdout",
     "output_type": "stream",
     "text": [
      "func_two is called!!\n",
      "add_two is called!\n",
      "30\n"
     ]
    }
   ],
   "source": [
    "# (1) 함수객체를 다른 함수의 인자로 전달할 수 있다\n",
    "def add_two(a,b):                 # (4)\n",
    "    print('add_two is called!')\n",
    "    return a + b                  # (5)\n",
    "# add_two(10,20)\n",
    "\n",
    "def func_two(func,a,b):           # (2)\n",
    "    print('func_two is called!!')\n",
    "    result = func(a,b)            # (3), (6)\n",
    "    return result                 # (7)\n",
    "\n",
    "ret = func_two(add_two,10,20)     # (1), (8)\n",
    "print(ret)                        # (9)"
   ]
  },
  {
   "cell_type": "code",
   "execution_count": 12,
   "metadata": {},
   "outputs": [
    {
     "name": "stdout",
     "output_type": "stream",
     "text": [
      "add called!\n",
      "30\n",
      "subtract called!\n",
      "-10\n"
     ]
    }
   ],
   "source": [
    "# (3) 함수객체를 다른 자료 구조에 저장해서 사용 가능\n",
    "\n",
    "# 함수 정의\n",
    "def add(a,b):\n",
    "    c = a + b\n",
    "    print('add called!')\n",
    "    return c\n",
    "\n",
    "def subtract(a,b):\n",
    "    c = a - b\n",
    "    print('subtract called!')\n",
    "    return c\n",
    "\n",
    "def multiply(a,b):\n",
    "    c = a * b\n",
    "    print('multiply called!')\n",
    "    return c\n",
    "\n",
    "def divide(a,b):\n",
    "    c = a / b\n",
    "    print('divide called')\n",
    "    return c\n",
    "\n",
    "# list사용\n",
    "func_list = [add,subtract,multiply,divide]\n",
    "# print(func_list)\n",
    "\n",
    "result = func_list[0](10,20)  # func_list[0] : add\n",
    "print(result)\n",
    "\n",
    "result = func_list[1](10,20)  # func_list[1] : subtract\n",
    "print(result)"
   ]
  },
  {
   "cell_type": "code",
   "execution_count": 13,
   "metadata": {},
   "outputs": [
    {
     "name": "stdout",
     "output_type": "stream",
     "text": [
      "add called!\n",
      "60\n",
      "subtract called!\n",
      "-20\n"
     ]
    }
   ],
   "source": [
    "# dict 사용\n",
    "func_dict ={'add함수':add,'subtract함수':subtract,'multiply함수':multiply,'divide함수':divide}\n",
    "\n",
    "result = func_dict['add함수'](20,40)\n",
    "print(result)\n",
    "\n",
    "result = func_dict['subtract함수'](20,40)\n",
    "print(result)"
   ]
  },
  {
   "cell_type": "markdown",
   "metadata": {},
   "source": [
    "### 람다(lambda) 함수 , 람다식\n",
    "#### : 한줄 짜리 함수식, 식을 정의하는 순간 바로 함수 객체로 사용, 바로 인수로 전달할 수 있다, def 키워드를 사용하지 않는다\n",
    "#### 함수명 = lambda 인수1,인수2,..: 반환할 식"
   ]
  },
  {
   "cell_type": "code",
   "execution_count": 14,
   "metadata": {},
   "outputs": [
    {
     "name": "stdout",
     "output_type": "stream",
     "text": [
      "30\n"
     ]
    }
   ],
   "source": [
    "# def add(a,b):\n",
    "#     return a + b\n",
    "# add(10+20,30)\n",
    "# add(3,4)\n",
    "\n",
    "add_new = lambda a,b : a + b\n",
    "# add_new = lambda a,b : (a + b, print('add_new'), a - b)  # 여러식을 표현 할 수도 있다\n",
    "print(add_new(10,20))"
   ]
  },
  {
   "cell_type": "code",
   "execution_count": 15,
   "metadata": {},
   "outputs": [
    {
     "name": "stdout",
     "output_type": "stream",
     "text": [
      "[2, 5, 10, 17]\n",
      "[2, 5, 10, 17]\n",
      "[2, 5, 10, 17]\n",
      "[3, 5, 7, 9]\n",
      "lambda 사용:\n",
      "\n",
      "[2, 5, 10, 17]\n",
      "[3, 5, 7, 9]\n",
      "[3, 13, 37, 81]\n"
     ]
    }
   ],
   "source": [
    "def f1(x):\n",
    "    return x*x + 1\n",
    "\n",
    "def f2(x):\n",
    "    return 2*x + 1\n",
    "\n",
    "print([f1(1),f1(2),f1(3),f1(4)])\n",
    "print([f1(x) for x in range(1,5)])\n",
    "\n",
    "def g(func):\n",
    "    return [func(x) for x in range(1,5)]\n",
    "\n",
    "print(g(f1))\n",
    "print(g(f2))\n",
    "\n",
    "\n",
    "# 람다함수 사용\n",
    "print('lambda 사용:\\n')\n",
    "print(g(lambda x:x*x + 1))\n",
    "print(g(lambda x:2*x + 1))\n",
    "print(g(lambda x:x**3 + x**2 + 1))"
   ]
  },
  {
   "cell_type": "markdown",
   "metadata": {},
   "source": [
    "### 파이썬 내장(Built-in) 함수\n",
    ":map()/max()/min()/sum()/round()/id()/hex()/zip()등 다양한 내장 함수가 존재"
   ]
  },
  {
   "cell_type": "code",
   "execution_count": 16,
   "metadata": {},
   "outputs": [
    {
     "name": "stdout",
     "output_type": "stream",
     "text": [
      "<class 'map'>\n",
      "multi_two is called!\n",
      "multi_two is called!\n",
      "multi_two is called!\n",
      "multi_two is called!\n",
      "multi_two is called!\n",
      "multi_two is called!\n",
      "[2, 4, 6, 8, 10, 12]\n"
     ]
    }
   ],
   "source": [
    "# map() 함수\n",
    "def multi_two(x):\n",
    "    print('multi_two is called!')\n",
    "    return x*2\n",
    "\n",
    "# print([multi_two(x) for x in [1,2,3,4,5,6]])\n",
    "\n",
    "ret = map(multi_two,[1,2,3,4,5,6])\n",
    "print(type(ret))\n",
    "print(list(ret))  # list로 형 변환  # [2, 4, 6, 8, 10, 12] , map객체로 데이터 접근시에 함수가 실제 호출됨"
   ]
  },
  {
   "cell_type": "code",
   "execution_count": 17,
   "metadata": {},
   "outputs": [
    {
     "name": "stdout",
     "output_type": "stream",
     "text": [
      "10\n",
      "a\n",
      "97\n",
      "4.124\n"
     ]
    }
   ],
   "source": [
    "print(abs(-10))  # 절대값\n",
    "print(chr(97))   # 아스키코드를 문자로 반환\n",
    "print(ord('a'))  # 문자를 아스키코드로 반환\n",
    "print(round(4.12356,3))  # 반올림해서 소수점 자리수대로 반환, 3자리"
   ]
  },
  {
   "cell_type": "code",
   "execution_count": 18,
   "metadata": {},
   "outputs": [
    {
     "name": "stdout",
     "output_type": "stream",
     "text": [
      "[2, 4, 6, 8, 10, 12]\n"
     ]
    }
   ],
   "source": [
    "# 문제 : 아래 코드를 람다 함수를 사용하여 구현해 보세요(def를 사용하지 않고 람다식으로 함수객체 생성)\n",
    "# def multi_two(x):\n",
    "#     return x*2\n",
    "# ret = map(multi_two,[1,2,3,4,5,6])\n",
    "\n",
    "ret = map(lambda x:x*2 ,[1,2,3,4,5,6])\n",
    "print(list(ret)) "
   ]
  },
  {
   "cell_type": "markdown",
   "metadata": {},
   "source": [
    "## 제어문 : if, for, while, with ~ as 문"
   ]
  },
  {
   "cell_type": "markdown",
   "metadata": {},
   "source": [
    "## if 문"
   ]
  },
  {
   "cell_type": "code",
   "execution_count": 19,
   "metadata": {},
   "outputs": [
    {
     "name": "stdout",
     "output_type": "stream",
     "text": [
      "order price : 5000\n"
     ]
    }
   ],
   "source": [
    "order = 'spagetti'\n",
    "\n",
    "if order == 'spagetti':\n",
    "    price = 5000\n",
    "elif order == 'spam' :\n",
    "    price = 6000\n",
    "elif order == 'egg' :\n",
    "    price = 7000\n",
    "else:\n",
    "    price = 0\n",
    "\n",
    "print('order price : %d'%price)"
   ]
  },
  {
   "cell_type": "code",
   "execution_count": 20,
   "metadata": {},
   "outputs": [
    {
     "name": "stdout",
     "output_type": "stream",
     "text": [
      "order price : 5000\n",
      "order price : 11000\n"
     ]
    }
   ],
   "source": [
    "# dict문\n",
    "order = {'spagetti':5000, 'spam':6000,'egg':7000}\n",
    "print('order price : %d'%order['spagetti'])\n",
    "print('order price : %d'%(order['spagetti'] + order['spam']))"
   ]
  },
  {
   "cell_type": "code",
   "execution_count": 21,
   "metadata": {},
   "outputs": [
    {
     "name": "stdout",
     "output_type": "stream",
     "text": [
      "20\n"
     ]
    }
   ],
   "source": [
    "# 전통 언어 스타일\n",
    "a = 10\n",
    "if a > 5:\n",
    "    x = a * 2\n",
    "else:\n",
    "    x = a / 2\n",
    "print(x)"
   ]
  },
  {
   "cell_type": "code",
   "execution_count": 22,
   "metadata": {},
   "outputs": [
    {
     "name": "stdout",
     "output_type": "stream",
     "text": [
      "20\n"
     ]
    }
   ],
   "source": [
    "# 파이썬 스타일\n",
    "a = 10\n",
    "x = a*2 if a > 5 else a/2\n",
    "print(x)"
   ]
  },
  {
   "cell_type": "code",
   "execution_count": 23,
   "metadata": {},
   "outputs": [
    {
     "name": "stdout",
     "output_type": "stream",
     "text": [
      "20\n"
     ]
    }
   ],
   "source": [
    "# 파이썬 스타일\n",
    "a = 10\n",
    "t = (a/2, a*2)\n",
    "x = t[a > 5]  # True: 1, False:0\n",
    "print(x)"
   ]
  },
  {
   "cell_type": "code",
   "execution_count": 24,
   "metadata": {},
   "outputs": [
    {
     "name": "stdout",
     "output_type": "stream",
     "text": [
      "20\n"
     ]
    }
   ],
   "source": [
    "# 파이썬 스타일\n",
    "a = 10\n",
    "x = (a/2, a*2)[a > 5]\n",
    "print(x)"
   ]
  },
  {
   "cell_type": "code",
   "execution_count": 25,
   "metadata": {},
   "outputs": [
    {
     "name": "stdout",
     "output_type": "stream",
     "text": [
      "짝\n"
     ]
    }
   ],
   "source": [
    "# 파이썬 스타일\n",
    "a = 10\n",
    "x = {False:'짝수',True:'홀수'}[a%2].strip('수')\n",
    "print(x)"
   ]
  },
  {
   "cell_type": "markdown",
   "metadata": {},
   "source": [
    "### for 문"
   ]
  },
  {
   "cell_type": "code",
   "execution_count": 26,
   "metadata": {},
   "outputs": [
    {
     "name": "stdout",
     "output_type": "stream",
     "text": [
      "0 1 2 3 4 5 6 7 8 9 \n",
      "\n",
      "0 1 2 3 4 5 6 7 8 9 "
     ]
    }
   ],
   "source": [
    "for k in range(10):\n",
    "    print(k, end=' ')\n",
    "print('\\n')    \n",
    "l = [0,1,2,3,4,5,6,7,8,9]   \n",
    "for k in l :\n",
    "    print(k, end=' ')"
   ]
  },
  {
   "cell_type": "code",
   "execution_count": 27,
   "metadata": {},
   "outputs": [
    {
     "name": "stdout",
     "output_type": "stream",
     "text": [
      "0 cat\n",
      "1 dog\n",
      "2 bird\n",
      "3 pig\n",
      "4 tiger\n",
      "------------------------------\n",
      "0 tiger\n",
      "1 pig\n",
      "2 bird\n",
      "3 dog\n",
      "4 cat\n"
     ]
    },
    {
     "data": {
      "text/plain": [
       "['tiger', 'pig', 'bird', 'dog', 'cat']"
      ]
     },
     "execution_count": 27,
     "metadata": {},
     "output_type": "execute_result"
    }
   ],
   "source": [
    "l = ['cat','dog','bird','pig','tiger']\n",
    "for i,k in enumerate(l):\n",
    "    print(i,k)\n",
    "print('-'*30)    \n",
    "for i,k in enumerate(reversed(l)):\n",
    "    print(i,k)\n",
    "    \n",
    "list(reversed(l)) # 순서가 거꾸로 변경"
   ]
  },
  {
   "cell_type": "code",
   "execution_count": 28,
   "metadata": {},
   "outputs": [
    {
     "name": "stdout",
     "output_type": "stream",
     "text": [
      "3\n",
      "4\n",
      "5\n",
      "6\n",
      "7\n",
      "8\n",
      "9\n"
     ]
    }
   ],
   "source": [
    "# continue 문 : for문으로 제어 흐름을 변경한다\n",
    "for x in range(10):\n",
    "    if x < 3:\n",
    "        continue\n",
    "    print(x)    "
   ]
  },
  {
   "cell_type": "code",
   "execution_count": 29,
   "metadata": {},
   "outputs": [
    {
     "name": "stdout",
     "output_type": "stream",
     "text": [
      "0\n",
      "1\n",
      "2\n",
      "3\n",
      "4\n",
      "5\n"
     ]
    }
   ],
   "source": [
    "# break 문 : for 문의 루프에서 탈출\n",
    "for x in range(10000):\n",
    "    if x > 5:\n",
    "        break\n",
    "    print(x)"
   ]
  },
  {
   "cell_type": "code",
   "execution_count": 30,
   "metadata": {},
   "outputs": [
    {
     "name": "stdout",
     "output_type": "stream",
     "text": [
      "2 * 1 = 2\n",
      "2 * 2 = 4\n",
      "2 * 3 = 6\n",
      "2 * 4 = 8\n",
      "2 * 5 = 10\n",
      "2 * 6 = 12\n",
      "2 * 7 = 14\n",
      "2 * 8 = 16\n",
      "2 * 9 = 18\n",
      "--------------------\n",
      "3 * 1 = 3\n",
      "3 * 2 = 6\n",
      "3 * 3 = 9\n",
      "3 * 4 = 12\n",
      "3 * 5 = 15\n",
      "3 * 6 = 18\n",
      "3 * 7 = 21\n",
      "3 * 8 = 24\n",
      "3 * 9 = 27\n",
      "--------------------\n"
     ]
    }
   ],
   "source": [
    "# 중첩된 for문\n",
    "for x in range(2,4):\n",
    "    for y in range(1,10):\n",
    "        print(x,'*',y,'=',x*y)\n",
    "    print('-'*20)"
   ]
  },
  {
   "cell_type": "code",
   "execution_count": 31,
   "metadata": {},
   "outputs": [
    {
     "name": "stdout",
     "output_type": "stream",
     "text": [
      "[(2, 1, 2), (2, 2, 4), (2, 3, 6), (2, 4, 8), (2, 5, 10), (2, 6, 12), (2, 7, 14), (2, 8, 16), (2, 9, 18), (3, 1, 3), (3, 2, 6), (3, 3, 9), (3, 4, 12), (3, 5, 15), (3, 6, 18), (3, 7, 21), (3, 8, 24), (3, 9, 27)]\n"
     ]
    }
   ],
   "source": [
    "# 중첩된 for문을 사용한 list comprehension\n",
    "a = [(x,y,x*y) for x in range(2,4) for y in range(1,10)]\n",
    "print(a)"
   ]
  },
  {
   "cell_type": "markdown",
   "metadata": {},
   "source": [
    "## while"
   ]
  },
  {
   "cell_type": "code",
   "execution_count": 32,
   "metadata": {},
   "outputs": [
    {
     "name": "stdout",
     "output_type": "stream",
     "text": [
      "0\n",
      "1\n",
      "2\n",
      "3\n",
      "4\n",
      "5\n",
      "6\n",
      "7\n",
      "8\n",
      "9\n"
     ]
    }
   ],
   "source": [
    "a = 0\n",
    "while True:\n",
    "    print(a)\n",
    "    a += 1\n",
    "    if a == 10:  # a가 10이면 무한 루프 탈출\n",
    "        break  "
   ]
  },
  {
   "cell_type": "code",
   "execution_count": 33,
   "metadata": {},
   "outputs": [
    {
     "name": "stdout",
     "output_type": "stream",
     "text": [
      "0\n",
      "1\n",
      "2\n",
      "3\n",
      "4\n",
      "5\n",
      "6\n",
      "7\n",
      "8\n",
      "9\n"
     ]
    }
   ],
   "source": [
    "a = 0\n",
    "while a < 10:\n",
    "    print(a)\n",
    "    a += 1    "
   ]
  },
  {
   "cell_type": "markdown",
   "metadata": {},
   "source": [
    "## with ~ as문"
   ]
  },
  {
   "cell_type": "code",
   "execution_count": 34,
   "metadata": {},
   "outputs": [
    {
     "name": "stdout",
     "output_type": "stream",
     "text": [
      "1번째 줄입니다\n",
      "2번째 줄입니다\n",
      "3번째 줄입니다\n",
      "\n"
     ]
    }
   ],
   "source": [
    "# 저수준 파일제어\n",
    "f = open('file.txt','w') # 쓰기모드, 없으면 생성, 있으면 삭제해서 새로 생성\n",
    "f.write('1번째 줄입니다\\n')\n",
    "f.write('2번째 줄입니다\\n')\n",
    "f.write('3번째 줄입니다\\n')\n",
    "f.close()  # file 객체를 소멸\n",
    "\n",
    "f = open('file.txt','r')  # 읽기 모드, file 객체를 생성\n",
    "data = f.read()\n",
    "print(data)\n",
    "f.close()"
   ]
  },
  {
   "cell_type": "code",
   "execution_count": 35,
   "metadata": {},
   "outputs": [
    {
     "name": "stdout",
     "output_type": "stream",
     "text": [
      "1번째 줄입니다\n",
      "2번째 줄입니다\n",
      "3번째 줄입니다\n",
      "\n"
     ]
    }
   ],
   "source": [
    "with open('file.txt','w') as f:\n",
    "    f.write('1번째 줄입니다\\n')\n",
    "    f.write('2번째 줄입니다\\n')\n",
    "    f.write('3번째 줄입니다\\n')\n",
    "\n",
    "with open('file.txt','r') as f: # 읽기 모드, file 객체를 생성\n",
    "    data = f.read()\n",
    "    print(data)   "
   ]
  },
  {
   "cell_type": "code",
   "execution_count": null,
   "metadata": {},
   "outputs": [],
   "source": []
  }
 ],
 "metadata": {
  "kernelspec": {
   "display_name": "Python 3",
   "language": "python",
   "name": "python3"
  },
  "language_info": {
   "codemirror_mode": {
    "name": "ipython",
    "version": 3
   },
   "file_extension": ".py",
   "mimetype": "text/x-python",
   "name": "python",
   "nbconvert_exporter": "python",
   "pygments_lexer": "ipython3",
   "version": "3.8.3"
  }
 },
 "nbformat": 4,
 "nbformat_minor": 4
}
